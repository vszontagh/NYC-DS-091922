{
 "cells": [
  {
   "cell_type": "markdown",
   "id": "ce1b38b8",
   "metadata": {},
   "source": [
    "# Logistic Regression Code Appendix\n",
    "\n",
    "Resources: https://scikit-learn.org/stable/modules/generated/sklearn.linear_model.LogisticRegression.html\n",
    "\n",
    "Python Code:\n",
    "\n",
    "``` Python\n",
    "# Import dependency\n",
    "from sklearn.linear_model import LogisticRegression\n",
    "\n",
    "# Create the logistic regression object\n",
    "log = LogisticRegression()\n",
    "\n",
    "# Train the logistic regression model\n",
    "clf = log.fit(X, y)\n",
    "\n",
    "# Predict the target class based on p > 0.5 criteria\n",
    "clf.predict(X)\n",
    "\n",
    "# Predict the probability with the training data set\n",
    "clf.predict_proba(X)\n",
    "\n",
    "# Calculate the model fit\n",
    "clf.score(X, y)\n",
    "```"
   ]
  },
  {
   "cell_type": "code",
<<<<<<< HEAD
   "execution_count": 1,
=======
   "execution_count": 2,
>>>>>>> upstream/main
   "id": "fcf99089",
   "metadata": {},
   "outputs": [],
   "source": [
    "import pandas as pd\n",
<<<<<<< HEAD
    "import numpy as np\n",
    "from sklearn.linear_model import LogisticRegression\n",
    "from sklearn.metrics import log_loss\n",
    "from sklearn.preprocessing import LabelEncoder, StandardScaler\n",
    "from sklearn.model_selection import train_test_split, cross_validate\n"
=======
    "import numpy as numpy\n",
    "from sklearn.linear_model import LogisticRegression"
>>>>>>> upstream/main
   ]
  },
  {
   "cell_type": "code",
<<<<<<< HEAD
   "execution_count": 2,
=======
   "execution_count": 3,
>>>>>>> upstream/main
   "id": "5b8776d9",
   "metadata": {},
   "outputs": [
    {
     "data": {
      "text/html": [
       "<div>\n",
       "<style scoped>\n",
       "    .dataframe tbody tr th:only-of-type {\n",
       "        vertical-align: middle;\n",
       "    }\n",
       "\n",
       "    .dataframe tbody tr th {\n",
       "        vertical-align: top;\n",
       "    }\n",
       "\n",
       "    .dataframe thead th {\n",
       "        text-align: right;\n",
       "    }\n",
       "</style>\n",
       "<table border=\"1\" class=\"dataframe\">\n",
       "  <thead>\n",
       "    <tr style=\"text-align: right;\">\n",
       "      <th></th>\n",
       "      <th>Rating</th>\n",
       "      <th>CostPerSlice</th>\n",
       "      <th>HeatSource</th>\n",
       "      <th>BrickOven</th>\n",
       "      <th>Neighborhood</th>\n",
       "    </tr>\n",
       "  </thead>\n",
       "  <tbody>\n",
       "    <tr>\n",
       "      <th>0</th>\n",
       "      <td>0.03</td>\n",
       "      <td>1.75</td>\n",
       "      <td>Gas</td>\n",
       "      <td>False</td>\n",
       "      <td>LittleItaly</td>\n",
       "    </tr>\n",
       "    <tr>\n",
       "      <th>1</th>\n",
       "      <td>4.89</td>\n",
       "      <td>2.75</td>\n",
       "      <td>Coal</td>\n",
       "      <td>True</td>\n",
       "      <td>SoHo</td>\n",
       "    </tr>\n",
       "    <tr>\n",
       "      <th>2</th>\n",
       "      <td>4.73</td>\n",
       "      <td>4.00</td>\n",
       "      <td>Wood</td>\n",
       "      <td>True</td>\n",
       "      <td>LittleItaly</td>\n",
       "    </tr>\n",
       "    <tr>\n",
       "      <th>3</th>\n",
       "      <td>0.13</td>\n",
       "      <td>1.75</td>\n",
       "      <td>Gas</td>\n",
       "      <td>False</td>\n",
       "      <td>LittleItaly</td>\n",
       "    </tr>\n",
       "    <tr>\n",
       "      <th>4</th>\n",
       "      <td>2.45</td>\n",
       "      <td>2.25</td>\n",
       "      <td>Wood</td>\n",
       "      <td>True</td>\n",
       "      <td>Chinatown</td>\n",
       "    </tr>\n",
       "  </tbody>\n",
       "</table>\n",
       "</div>"
      ],
      "text/plain": [
       "   Rating  CostPerSlice HeatSource BrickOven Neighborhood\n",
       "0    0.03          1.75        Gas     False  LittleItaly\n",
       "1    4.89          2.75       Coal      True         SoHo\n",
       "2    4.73          4.00       Wood      True  LittleItaly\n",
       "3    0.13          1.75        Gas     False  LittleItaly\n",
       "4    2.45          2.25       Wood      True    Chinatown"
      ]
     },
<<<<<<< HEAD
     "execution_count": 2,
=======
     "execution_count": 3,
>>>>>>> upstream/main
     "metadata": {},
     "output_type": "execute_result"
    }
   ],
   "source": [
    "# Loading the fake pizza dataset from the web\n",
    "pizza = pd.read_csv('https://jaredlander.com/data/Fake%20Pizza%20Data.csv')\n",
    "pizza.head()"
   ]
  },
  {
   "cell_type": "code",
<<<<<<< HEAD
   "execution_count": 3,
   "id": "57c6603d",
   "metadata": {},
   "outputs": [
    {
     "data": {
      "text/plain": [
       "1"
      ]
     },
     "execution_count": 3,
     "metadata": {},
     "output_type": "execute_result"
    }
   ],
   "source": [
    "pizza['Rating'].isna().sum()"
   ]
  },
  {
   "cell_type": "code",
   "execution_count": 4,
   "id": "52a69d48",
   "metadata": {},
   "outputs": [],
   "source": [
    "pizza.dropna(subset =['Rating'], axis = 0,inplace = True)\n"
=======
   "execution_count": 6,
   "id": "0a2b71a5",
   "metadata": {},
   "outputs": [],
   "source": [
    "from sklearn.preprocessing import LabelEncoder"
>>>>>>> upstream/main
   ]
  },
  {
   "cell_type": "code",
<<<<<<< HEAD
   "execution_count": 5,
   "id": "8cb305a5",
   "metadata": {},
   "outputs": [
    {
     "name": "stdout",
     "output_type": "stream",
     "text": [
      "<class 'pandas.core.frame.DataFrame'>\n",
      "Int64Index: 200 entries, 0 to 199\n",
      "Data columns (total 5 columns):\n",
      " #   Column        Non-Null Count  Dtype  \n",
      "---  ------        --------------  -----  \n",
      " 0   Rating        200 non-null    float64\n",
      " 1   CostPerSlice  200 non-null    float64\n",
      " 2   HeatSource    200 non-null    object \n",
      " 3   BrickOven     200 non-null    object \n",
      " 4   Neighborhood  200 non-null    object \n",
      "dtypes: float64(2), object(3)\n",
      "memory usage: 9.4+ KB\n"
     ]
    }
   ],
   "source": [
    "pizza.info()"
   ]
  },
  {
   "cell_type": "code",
   "execution_count": 6,
   "id": "96b4f4ef",
   "metadata": {},
   "outputs": [],
   "source": [
    "# changing the T - F to numeric\n",
    "pizza['BrickOven'] = pd.to_numeric(pizza['BrickOven'])"
=======
   "execution_count": 9,
   "id": "78bc8ad1",
   "metadata": {},
   "outputs": [],
   "source": [
    "enc = LabelEncoder()\n",
    "pizza[\"BrickOven\"] = enc.fit_transform(pizza[\"BrickOven\"])"
>>>>>>> upstream/main
   ]
  },
  {
   "cell_type": "code",
<<<<<<< HEAD
   "execution_count": 7,
   "id": "11d3291c",
=======
   "execution_count": 10,
   "id": "13d5a1d8",
>>>>>>> upstream/main
   "metadata": {},
   "outputs": [
    {
     "data": {
      "text/html": [
       "<div>\n",
       "<style scoped>\n",
       "    .dataframe tbody tr th:only-of-type {\n",
       "        vertical-align: middle;\n",
       "    }\n",
       "\n",
       "    .dataframe tbody tr th {\n",
       "        vertical-align: top;\n",
       "    }\n",
       "\n",
       "    .dataframe thead th {\n",
       "        text-align: right;\n",
       "    }\n",
       "</style>\n",
       "<table border=\"1\" class=\"dataframe\">\n",
       "  <thead>\n",
       "    <tr style=\"text-align: right;\">\n",
       "      <th></th>\n",
       "      <th>Rating</th>\n",
       "      <th>CostPerSlice</th>\n",
       "      <th>HeatSource</th>\n",
       "      <th>BrickOven</th>\n",
       "      <th>Neighborhood</th>\n",
       "    </tr>\n",
       "  </thead>\n",
       "  <tbody>\n",
       "    <tr>\n",
       "      <th>0</th>\n",
       "      <td>0.03</td>\n",
       "      <td>1.75</td>\n",
       "      <td>Gas</td>\n",
       "      <td>0</td>\n",
       "      <td>LittleItaly</td>\n",
       "    </tr>\n",
       "    <tr>\n",
       "      <th>1</th>\n",
       "      <td>4.89</td>\n",
       "      <td>2.75</td>\n",
       "      <td>Coal</td>\n",
       "      <td>1</td>\n",
       "      <td>SoHo</td>\n",
       "    </tr>\n",
       "    <tr>\n",
       "      <th>2</th>\n",
       "      <td>4.73</td>\n",
       "      <td>4.00</td>\n",
       "      <td>Wood</td>\n",
       "      <td>1</td>\n",
       "      <td>LittleItaly</td>\n",
       "    </tr>\n",
       "    <tr>\n",
       "      <th>3</th>\n",
       "      <td>0.13</td>\n",
       "      <td>1.75</td>\n",
       "      <td>Gas</td>\n",
       "      <td>0</td>\n",
       "      <td>LittleItaly</td>\n",
       "    </tr>\n",
       "    <tr>\n",
       "      <th>4</th>\n",
       "      <td>2.45</td>\n",
       "      <td>2.25</td>\n",
       "      <td>Wood</td>\n",
       "      <td>1</td>\n",
       "      <td>Chinatown</td>\n",
       "    </tr>\n",
       "  </tbody>\n",
       "</table>\n",
       "</div>"
      ],
      "text/plain": [
       "   Rating  CostPerSlice HeatSource  BrickOven Neighborhood\n",
       "0    0.03          1.75        Gas          0  LittleItaly\n",
       "1    4.89          2.75       Coal          1         SoHo\n",
       "2    4.73          4.00       Wood          1  LittleItaly\n",
       "3    0.13          1.75        Gas          0  LittleItaly\n",
       "4    2.45          2.25       Wood          1    Chinatown"
      ]
     },
<<<<<<< HEAD
     "execution_count": 7,
=======
     "execution_count": 10,
>>>>>>> upstream/main
     "metadata": {},
     "output_type": "execute_result"
    }
   ],
   "source": [
<<<<<<< HEAD
    "#from sklearn.preprocessing import LabelEncoder\n",
    "# label encoder\n",
    "enc = LabelEncoder()\n",
    "pizza['BrickOven'] = enc.fit_transform(pizza['BrickOven'])\n",
=======
>>>>>>> upstream/main
    "pizza.head()"
   ]
  },
  {
   "cell_type": "code",
<<<<<<< HEAD
   "execution_count": 8,
   "id": "ac327abf",
=======
   "execution_count": 14,
   "id": "f1c0460b",
   "metadata": {},
   "outputs": [],
   "source": [
    "pizza.dropna(inplace = True)"
   ]
  },
  {
   "cell_type": "code",
   "execution_count": 22,
   "id": "0ab3a037",
>>>>>>> upstream/main
   "metadata": {},
   "outputs": [],
   "source": [
    "# Prepare data for model\n",
<<<<<<< HEAD
    "y = pizza['BrickOven'] # reshaping\n",
=======
    "y = pizza['BrickOven']\n",
>>>>>>> upstream/main
    "X = pizza[['Rating']]"
   ]
  },
  {
   "cell_type": "code",
<<<<<<< HEAD
   "execution_count": 9,
   "id": "30049369",
   "metadata": {},
   "outputs": [],
   "source": [
    "# train test split\n",
    "X_train, X_test, y_train, y_test = train_test_split(X, y,test_size = 0.2, random_state = 42)\n"
=======
   "execution_count": 23,
   "id": "a5776d7d",
   "metadata": {},
   "outputs": [
    {
     "data": {
      "text/plain": [
       "(200, 1)"
      ]
     },
     "execution_count": 23,
     "metadata": {},
     "output_type": "execute_result"
    }
   ],
   "source": [
    "X.shape"
   ]
  },
  {
   "cell_type": "code",
   "execution_count": 24,
   "id": "73e00292",
   "metadata": {},
   "outputs": [],
   "source": [
    "from sklearn.model_selection import train_test_split, cross_validate"
>>>>>>> upstream/main
   ]
  },
  {
   "cell_type": "code",
<<<<<<< HEAD
   "execution_count": 10,
   "id": "2f8e1a7d",
   "metadata": {},
   "outputs": [],
   "source": [
    "# standardize\n",
    "# from sklearn.preprocessing import StandardScaler\n",
    "ss = StandardScaler()\n",
    "X_train = ss.fit_transform(X_train)\n",
    "X_test = ss.transform(X_test)\n"
=======
   "execution_count": 25,
   "id": "a7647c60",
   "metadata": {},
   "outputs": [],
   "source": [
    "X_train, X_test, y_train, y_test = train_test_split(X, y, test_size=0.2, random_state=27)"
   ]
  },
  {
   "cell_type": "code",
   "execution_count": 27,
   "id": "7c0edb5c",
   "metadata": {},
   "outputs": [],
   "source": [
    "from sklearn.preprocessing import StandardScaler\n",
    "\n",
    "ss= StandardScaler()\n",
    "X_train = ss.fit_transform(X_train)\n",
    "X_test = ss.transform(X_test)"
   ]
  },
  {
   "cell_type": "code",
   "execution_count": 18,
   "id": "acfa71a3",
   "metadata": {},
   "outputs": [],
   "source": [
    "from sklearn.linear_model import LogisticRegression"
   ]
  },
  {
   "cell_type": "code",
   "execution_count": 34,
   "id": "664e03b7",
   "metadata": {},
   "outputs": [
    {
     "data": {
      "text/plain": [
       "LogisticRegression(penalty='l1', solver='liblinear')"
      ]
     },
     "execution_count": 34,
     "metadata": {},
     "output_type": "execute_result"
    }
   ],
   "source": [
    "log = LogisticRegression(penalty ='l1', solver = 'liblinear')\n",
    "log.fit(X_train, y_train)\n"
   ]
  },
  {
   "cell_type": "code",
   "execution_count": 35,
   "id": "4f79ab4a",
   "metadata": {},
   "outputs": [
    {
     "data": {
      "text/plain": [
       "array([0, 0, 0, 0, 0, 0, 0, 0, 0, 0, 0, 0, 0, 0, 0, 0, 0, 0, 0, 0, 0, 0,\n",
       "       0, 0, 0, 0, 0, 0, 0, 0, 0, 0, 0, 0, 0, 0, 0, 0, 0, 0])"
      ]
     },
     "execution_count": 35,
     "metadata": {},
     "output_type": "execute_result"
    }
   ],
   "source": [
    "# Train the model\n",
    "log.predict(X_test)"
>>>>>>> upstream/main
   ]
  },
  {
   "cell_type": "code",
   "execution_count": 14,
   "id": "664e03b7",
   "metadata": {},
   "outputs": [],
   "source": [
<<<<<<< HEAD
    "# Create the logistic regression object\n",
    "log = LogisticRegression(penalty = 'l1', solver = 'liblinear')\n",
    "clf = log.fit(X_train, y_train)"
=======
    "# Predict the class of the targe"
>>>>>>> upstream/main
   ]
  },
  {
   "cell_type": "code",
   "execution_count": 15,
   "id": "f50193d6",
   "metadata": {},
   "outputs": [
    {
     "name": "stderr",
     "output_type": "stream",
     "text": [
      "/opt/anaconda3/lib/python3.9/site-packages/sklearn/base.py:443: UserWarning: X has feature names, but LogisticRegression was fitted without feature names\n",
      "  warnings.warn(\n"
     ]
    },
    {
     "data": {
      "text/plain": [
       "array([0, 1, 1, 0, 0, 1, 0, 1, 1, 0, 1, 0, 1, 1, 1, 1, 1, 0, 1, 1, 0, 1,\n",
       "       0, 1, 1, 0, 1, 1, 0, 1, 1, 1, 0, 1, 1, 0, 1, 1, 0, 1, 1, 0, 1, 0,\n",
       "       1, 0, 0, 1, 0, 1, 1, 1, 0, 0, 0, 1, 0, 0, 0, 1, 1, 1, 1, 0, 0, 1,\n",
       "       0, 0, 0, 0, 0, 1, 1, 1, 1, 1, 0, 1, 0, 0, 0, 0, 0, 1, 1, 1, 1, 1,\n",
       "       0, 0, 1, 1, 0, 0, 1, 0, 0, 1, 0, 0, 1, 0, 0, 1, 0, 1, 0, 1, 1, 1,\n",
       "       1, 1, 0, 0, 1, 0, 0, 0, 1, 0, 1, 0, 0, 1, 1, 0, 1, 0, 0, 0, 0, 1,\n",
       "       0, 0, 1, 0, 0, 0, 1, 0, 0, 0, 1, 1, 0, 1, 1, 1, 1, 0, 0, 1, 1, 1,\n",
       "       0, 0, 0, 1, 1, 1, 0, 0, 1, 0, 0, 0, 0, 1, 1, 0, 0, 0, 0, 1, 0, 1,\n",
       "       1, 1, 1, 0, 1, 0, 0, 0, 0, 0, 1, 0, 1, 1, 1, 1, 1, 0, 0, 0, 1, 0,\n",
       "       0, 1])"
      ]
     },
     "execution_count": 15,
     "metadata": {},
     "output_type": "execute_result"
    }
   ],
   "source": [
    "# Predict the class of the target\n",
    "clf.predict(X)"
   ]
  },
  {
   "cell_type": "code",
   "execution_count": 16,
   "id": "c2484f3a",
   "metadata": {},
   "outputs": [
    {
     "name": "stderr",
     "output_type": "stream",
     "text": [
      "/opt/anaconda3/lib/python3.9/site-packages/sklearn/base.py:443: UserWarning: X has feature names, but LogisticRegression was fitted without feature names\n",
      "  warnings.warn(\n"
     ]
    },
    {
     "data": {
      "text/plain": [
       "array([[0.66244368, 0.33755632],\n",
       "       [0.46280458, 0.53719542],\n",
       "       [0.46954927, 0.53045073],\n",
       "       [0.65864545, 0.34135455],\n",
       "       [0.56568493, 0.43431507],\n",
       "       [0.45817534, 0.54182466],\n",
       "       [0.55859697, 0.44140303],\n",
       "       [0.48433874, 0.51566126],\n",
       "       [0.48730076, 0.51269924],\n",
       "       [0.6590262 , 0.3409738 ],\n",
       "       [0.49661481, 0.50338519],\n",
       "       [0.65214167, 0.34785833],\n",
       "       [0.46364697, 0.53635303],\n",
       "       [0.4590165 , 0.5409835 ],\n",
       "       [0.45859589, 0.54140411],\n",
       "       [0.47039319, 0.52960681],\n",
       "       [0.46154139, 0.53845861],\n",
       "       [0.65788333, 0.34211667],\n",
       "       [0.45859589, 0.54140411],\n",
       "       [0.46912738, 0.53087262],\n",
       "       [0.64325171, 0.35674829],\n",
       "       [0.46448958, 0.53551042],\n",
       "       [0.6555921 , 0.3444079 ],\n",
       "       [0.46027869, 0.53972131],\n",
       "       [0.45859589, 0.54140411],\n",
       "       [0.50847161, 0.49152839],\n",
       "       [0.45985791, 0.54014209],\n",
       "       [0.45817534, 0.54182466],\n",
       "       [0.65175729, 0.34824271],\n",
       "       [0.46027869, 0.53972131],\n",
       "       [0.46828372, 0.53171628],\n",
       "       [0.46870553, 0.53129447],\n",
       "       [0.55148504, 0.44851496],\n",
       "       [0.46912738, 0.53087262],\n",
       "       [0.46701858, 0.53298142],\n",
       "       [0.66092687, 0.33907313],\n",
       "       [0.47039319, 0.52960681],\n",
       "       [0.46744025, 0.53255975],\n",
       "       [0.54014739, 0.45985261],\n",
       "       [0.46280458, 0.53719542],\n",
       "       [0.45859589, 0.54140411],\n",
       "       [0.62755632, 0.37244368],\n",
       "       [0.46448958, 0.53551042],\n",
       "       [0.57729959, 0.42270041],\n",
       "       [0.45817534, 0.54182466],\n",
       "       [0.64325171, 0.35674829],\n",
       "       [0.65673863, 0.34326137],\n",
       "       [0.47461524, 0.52538476],\n",
       "       [0.66016722, 0.33983278],\n",
       "       [0.4860312 , 0.5139688 ],\n",
       "       [0.46069954, 0.53930046],\n",
       "       [0.46154139, 0.53845861],\n",
       "       [0.62874333, 0.37125667],\n",
       "       [0.6590262 , 0.3409738 ],\n",
       "       [0.62159844, 0.37840156],\n",
       "       [0.46154139, 0.53845861],\n",
       "       [0.5847221 , 0.4152779 ],\n",
       "       [0.53087793, 0.46912207],\n",
       "       [0.66054715, 0.33945285],\n",
       "       [0.47123728, 0.52876272],\n",
       "       [0.48730076, 0.51269924],\n",
       "       [0.48391568, 0.51608432],\n",
       "       [0.46112043, 0.53887957],\n",
       "       [0.6160044 , 0.3839956 ],\n",
       "       [0.5414094 , 0.4585906 ],\n",
       "       [0.49830872, 0.50169128],\n",
       "       [0.52876802, 0.47123198],\n",
       "       [0.56318621, 0.43681379],\n",
       "       [0.51143484, 0.48856516],\n",
       "       [0.53003409, 0.46996591],\n",
       "       [0.51101156, 0.48898844],\n",
       "       [0.45985791, 0.54014209],\n",
       "       [0.45985791, 0.54014209],\n",
       "       [0.46112043, 0.53887957],\n",
       "       [0.46744025, 0.53255975],\n",
       "       [0.45859589, 0.54140411],\n",
       "       [0.66244368, 0.33755632],\n",
       "       [0.46280458, 0.53719542],\n",
       "       [0.50720146, 0.49279854],\n",
       "       [0.60634355, 0.39365645],\n",
       "       [0.60674781, 0.39325219],\n",
       "       [0.5847221 , 0.4152779 ],\n",
       "       [0.60836338, 0.39163662],\n",
       "       [0.4784182 , 0.5215818 ],\n",
       "       [0.46744025, 0.53255975],\n",
       "       [0.46744025, 0.53255975],\n",
       "       [0.49365069, 0.50634931],\n",
       "       [0.47503765, 0.52496235],\n",
       "       [0.5665171 , 0.4334829 ],\n",
       "       [0.66130638, 0.33869362],\n",
       "       [0.47799552, 0.52200448],\n",
       "       [0.47799552, 0.52200448],\n",
       "       [0.64286289, 0.35713711],\n",
       "       [0.58225203, 0.41774797],\n",
       "       [0.46238346, 0.53761654],\n",
       "       [0.55817925, 0.44182075],\n",
       "       [0.63268874, 0.36731126],\n",
       "       [0.45817534, 0.54182466],\n",
       "       [0.64712947, 0.35287053],\n",
       "       [0.61198968, 0.38801032],\n",
       "       [0.46364697, 0.53635303],\n",
       "       [0.580603  , 0.419397  ],\n",
       "       [0.64828905, 0.35171095],\n",
       "       [0.49703828, 0.50296172],\n",
       "       [0.63426197, 0.36573803],\n",
       "       [0.46659696, 0.53340304],\n",
       "       [0.58019046, 0.41980954],\n",
       "       [0.48349264, 0.51650736],\n",
       "       [0.46744025, 0.53255975],\n",
       "       [0.45985791, 0.54014209],\n",
       "       [0.48941705, 0.51058295],\n",
       "       [0.49915569, 0.50084431],\n",
       "       [0.52834592, 0.47165408],\n",
       "       [0.64208468, 0.35791532],\n",
       "       [0.49195709, 0.50804291],\n",
       "       [0.5544162 , 0.4455838 ],\n",
       "       [0.51270456, 0.48729544],\n",
       "       [0.65175729, 0.34824271],\n",
       "       [0.46617538, 0.53382462],\n",
       "       [0.5896494 , 0.4103506 ],\n",
       "       [0.46238346, 0.53761654],\n",
       "       [0.63032359, 0.36967641],\n",
       "       [0.63347571, 0.36652429],\n",
       "       [0.46533238, 0.53466762],\n",
       "       [0.48264664, 0.51735336],\n",
       "       [0.62159844, 0.37840156],\n",
       "       [0.47757287, 0.52242713],\n",
       "       [0.569842  , 0.430158  ],\n",
       "       [0.51482039, 0.48517961],\n",
       "       [0.64519297, 0.35480703],\n",
       "       [0.59619108, 0.40380892],\n",
       "       [0.46491095, 0.53508905],\n",
       "       [0.64052603, 0.35947397],\n",
       "       [0.50000266, 0.49999734],\n",
       "       [0.47334822, 0.52665178],\n",
       "       [0.54603211, 0.45396789],\n",
       "       [0.63071822, 0.36928178],\n",
       "       [0.65750196, 0.34249804],\n",
       "       [0.46448958, 0.53551042],\n",
       "       [0.61720577, 0.38279423],\n",
       "       [0.65482674, 0.34517326],\n",
       "       [0.55316044, 0.44683956],\n",
       "       [0.4590165 , 0.5409835 ],\n",
       "       [0.46154139, 0.53845861],\n",
       "       [0.53129978, 0.46870022],\n",
       "       [0.46659696, 0.53340304],\n",
       "       [0.46786196, 0.53213804],\n",
       "       [0.46027869, 0.53972131],\n",
       "       [0.45985791, 0.54014209],\n",
       "       [0.65214167, 0.34785833],\n",
       "       [0.63229499, 0.36770501],\n",
       "       [0.45985791, 0.54014209],\n",
       "       [0.46154139, 0.53845861],\n",
       "       [0.45859589, 0.54140411],\n",
       "       [0.63465483, 0.36534517],\n",
       "       [0.51482039, 0.48517961],\n",
       "       [0.52496766, 0.47503234],\n",
       "       [0.45859589, 0.54140411],\n",
       "       [0.46870553, 0.53129447],\n",
       "       [0.46744025, 0.53255975],\n",
       "       [0.54267088, 0.45732912],\n",
       "       [0.60755589, 0.39244411],\n",
       "       [0.46112043, 0.53887957],\n",
       "       [0.65021781, 0.34978219],\n",
       "       [0.59455876, 0.40544124],\n",
       "       [0.50127312, 0.49872688],\n",
       "       [0.59944929, 0.40055071],\n",
       "       [0.45859589, 0.54140411],\n",
       "       [0.46406825, 0.53593175],\n",
       "       [0.52834592, 0.47165408],\n",
       "       [0.64944689, 0.35055311],\n",
       "       [0.51608964, 0.48391036],\n",
       "       [0.50762485, 0.49237515],\n",
       "       [0.45859589, 0.54140411],\n",
       "       [0.52792377, 0.47207623],\n",
       "       [0.49661481, 0.50338519],\n",
       "       [0.46322575, 0.53677425],\n",
       "       [0.46575386, 0.53424614],\n",
       "       [0.45859589, 0.54140411],\n",
       "       [0.6571204 , 0.3428796 ],\n",
       "       [0.4619624 , 0.5380376 ],\n",
       "       [0.6590262 , 0.3409738 ],\n",
       "       [0.50550778, 0.49449222],\n",
       "       [0.61920486, 0.38079514],\n",
       "       [0.58759848, 0.41240152],\n",
       "       [0.59455876, 0.40544124],\n",
       "       [0.49322727, 0.50677273],\n",
       "       [0.63857353, 0.36142647],\n",
       "       [0.45985791, 0.54014209],\n",
       "       [0.48476182, 0.51523818],\n",
       "       [0.49661481, 0.50338519],\n",
       "       [0.46069954, 0.53930046],\n",
       "       [0.49534443, 0.50465557],\n",
       "       [0.51355095, 0.48644905],\n",
       "       [0.53677955, 0.46322045],\n",
       "       [0.6295338 , 0.3704662 ],\n",
       "       [0.48899376, 0.51100624],\n",
       "       [0.51905039, 0.48094961],\n",
       "       [0.63779125, 0.36220875],\n",
       "       [0.46027869, 0.53972131]])"
      ]
     },
     "execution_count": 16,
     "metadata": {},
     "output_type": "execute_result"
    }
   ],
   "source": [
    "# Predict the probability of the target\n",
    "clf.predict_proba(X)\n"
   ]
  },
  {
   "cell_type": "code",
   "execution_count": 17,
   "id": "bd888b43",
   "metadata": {
    "scrolled": true
   },
   "outputs": [
    {
     "name": "stderr",
     "output_type": "stream",
     "text": [
      "/opt/anaconda3/lib/python3.9/site-packages/sklearn/base.py:443: UserWarning: X has feature names, but LogisticRegression was fitted without feature names\n",
      "  warnings.warn(\n"
     ]
    },
    {
     "data": {
      "text/plain": [
       "0.676371411754442"
      ]
     },
     "execution_count": 17,
     "metadata": {},
     "output_type": "execute_result"
    }
   ],
   "source": [
    "# prediction probability\n",
    "from sklearn.metrics import log_loss\n",
    "log_loss(y, clf.predict_proba(X))\n",
    "# "
   ]
  },
  {
   "cell_type": "code",
   "execution_count": 18,
   "id": "a41bc0cb",
   "metadata": {},
   "outputs": [
    {
     "name": "stderr",
     "output_type": "stream",
     "text": [
      "/opt/anaconda3/lib/python3.9/site-packages/sklearn/base.py:443: UserWarning: X has feature names, but LogisticRegression was fitted without feature names\n",
      "  warnings.warn(\n"
     ]
    },
    {
     "data": {
      "text/plain": [
       "0.52"
      ]
     },
     "execution_count": 18,
     "metadata": {},
     "output_type": "execute_result"
    }
   ],
   "source": [
    "clf.score(X, y)"
   ]
  },
  {
   "cell_type": "code",
   "execution_count": null,
   "id": "a721eb11",
   "metadata": {},
   "outputs": [],
   "source": []
  }
 ],
 "metadata": {
  "hide_input": false,
  "kernelspec": {
   "display_name": "dplearn",
   "language": "python",
   "name": "dplearn"
  },
  "language_info": {
   "codemirror_mode": {
    "name": "ipython",
    "version": 3
   },
   "file_extension": ".py",
   "mimetype": "text/x-python",
   "name": "python",
   "nbconvert_exporter": "python",
   "pygments_lexer": "ipython3",
<<<<<<< HEAD
   "version": "3.9.12"
=======
   "version": "3.7.5"
>>>>>>> upstream/main
  },
  "latex_envs": {
   "LaTeX_envs_menu_present": true,
   "autoclose": false,
   "autocomplete": true,
   "bibliofile": "biblio.bib",
   "cite_by": "apalike",
   "current_citInitial": 1,
   "eqLabelWithNumbers": true,
   "eqNumInitial": 1,
   "hotkeys": {
    "equation": "Ctrl-E",
    "itemize": "Ctrl-I"
   },
   "labels_anchors": false,
   "latex_user_defs": false,
   "report_style_numbering": false,
   "user_envs_cfg": false
  },
  "nbTranslate": {
   "displayLangs": [
    "*"
   ],
   "hotkey": "alt-t",
   "langInMainMenu": true,
   "sourceLang": "en",
   "targetLang": "fr",
   "useGoogleTranslate": true
  },
  "toc": {
   "base_numbering": 1,
   "nav_menu": {},
   "number_sections": true,
   "sideBar": true,
   "skip_h1_title": false,
   "title_cell": "Table of Contents",
   "title_sidebar": "Contents",
   "toc_cell": false,
   "toc_position": {},
   "toc_section_display": true,
   "toc_window_display": false
  }
 },
 "nbformat": 4,
 "nbformat_minor": 5
}
