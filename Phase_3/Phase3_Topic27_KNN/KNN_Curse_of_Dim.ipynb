{
 "cells": [
  {
   "cell_type": "markdown",
   "id": "7f6e850a",
   "metadata": {
    "cell_style": "center",
    "slideshow": {
     "slide_type": "slide"
    }
   },
   "source": [
    "<div style=\"color:white;\n",
    "           display:fill;\n",
    "           border-radius:5px;\n",
    "           background-color:#5642C5;\n",
    "           font-size:200%;\n",
    "           font-family:Arial;letter-spacing:0.5px\">\n",
    "\n",
    "<p width = 20%, style=\"padding: 10px;\n",
    "              color:white;\">\n",
    "K Nearest Neighbors and the Curse of Dimensionality\n",
    "              \n",
    "</p>\n",
    "</div>\n",
    "\n",
    "Data Science Cohort Live NYC Nov 2022\n",
    "<p>Phase 3: Topic 27</p>\n",
    "<br>\n",
    "<br>\n",
    "\n",
    "<div align = \"right\">\n",
    "<img src=\"Images/flatiron-school-logo.png\" align = \"right\" width=\"200\"/>\n",
    "</div>\n",
    "    \n",
    "    "
   ]
  },
  {
   "cell_type": "code",
   "execution_count": 1,
   "id": "9138f536",
   "metadata": {
    "slideshow": {
     "slide_type": "slide"
    }
   },
   "outputs": [],
   "source": [
    "import numpy as np\n",
    "import pandas as pd\n",
    "\n",
    "import seaborn as sns\n",
    "import matplotlib.pyplot as plt\n",
    "\n",
    "from sklearn.model_selection import train_test_split"
   ]
  },
  {
   "cell_type": "markdown",
   "id": "d395f711",
   "metadata": {
    "slideshow": {
     "slide_type": "slide"
    }
   },
   "source": [
    "<center><img src = \"Images/neighbor_tyranny.jpg\" width = 450/></center>"
   ]
  },
  {
   "cell_type": "markdown",
   "id": "00260809",
   "metadata": {
    "slideshow": {
     "slide_type": "fragment"
    }
   },
   "source": [
    "<center>There's truth here. But we can also rely on this tyranny to help us build classifiers.</center>"
   ]
  },
  {
   "cell_type": "markdown",
   "id": "f92dbfd3",
   "metadata": {
    "slideshow": {
     "slide_type": "subslide"
    }
   },
   "source": [
    "<center> Let's do it. </center>"
   ]
  },
  {
   "cell_type": "markdown",
   "id": "42f3d60b",
   "metadata": {
    "slideshow": {
     "slide_type": "slide"
    }
   },
   "source": [
    "#### K-nearest neighbors"
   ]
  },
  {
   "cell_type": "markdown",
   "id": "54f4de51",
   "metadata": {
    "slideshow": {
     "slide_type": "slide"
    }
   },
   "source": [
    "**Process of predicting in k-nearest algorithm**"
   ]
  },
  {
   "cell_type": "markdown",
   "id": "f2a7fd7f",
   "metadata": {
    "cell_style": "center",
    "slideshow": {
     "slide_type": "slide"
    }
   },
   "source": [
    "Take a **test** data point, look at it's $k$ nearest neighbors in **training** set:\n",
    "\n",
    "- Look at what class neighbors in training set all are.\n",
    "- Count class tallies all up.\n",
    "- Assign datapoint to winning majority class."
   ]
  },
  {
   "cell_type": "markdown",
   "id": "03756b45",
   "metadata": {
    "cell_style": "center",
    "slideshow": {
     "slide_type": "fragment"
    }
   },
   "source": [
    "<center><img src = \"Images/knn_3.webp\" width = 800/></center>\n",
    "<center> k = 3 neighbors </center>"
   ]
  },
  {
   "cell_type": "markdown",
   "id": "5b4aa2ce",
   "metadata": {
    "cell_style": "center",
    "slideshow": {
     "slide_type": "slide"
    }
   },
   "source": [
    "- Concept is easy. \n",
    "- Doing this efficiently: exercise in algorithms and data structures.\n",
    "\n",
    "\n",
    "More details:\n",
    "\n",
    "https://towardsdatascience.com/tree-algorithms-explained-ball-tree-algorithm-vs-kd-tree-vs-brute-force-9746debcd940\n"
   ]
  },
  {
   "cell_type": "markdown",
   "id": "28c0c50a",
   "metadata": {
    "slideshow": {
     "slide_type": "slide"
    }
   },
   "source": [
    "**Process of training k-nearest algorithm**"
   ]
  },
  {
   "cell_type": "markdown",
   "id": "fe2332aa",
   "metadata": {
    "slideshow": {
     "slide_type": "fragment"
    }
   },
   "source": [
    "- Store the training data points.\n",
    "- Yeah thats it."
   ]
  },
  {
   "cell_type": "markdown",
   "id": "48fb1181",
   "metadata": {
    "slideshow": {
     "slide_type": "slide"
    }
   },
   "source": [
    "#### The role of $k$: number of neighbors"
   ]
  },
  {
   "cell_type": "markdown",
   "id": "6d48bef6",
   "metadata": {
    "cell_style": "split",
    "slideshow": {
     "slide_type": "slide"
    }
   },
   "source": [
    "\n",
    "<img src = \"Images/KNN_nearestnn.png\" width = 400 />"
   ]
  },
  {
   "cell_type": "markdown",
   "id": "ac4f0ab5",
   "metadata": {
    "cell_style": "split",
    "slideshow": {
     "slide_type": "fragment"
    }
   },
   "source": [
    "Changing neighbors:\n",
    "- Clearly affects which KNN predicts for test point."
   ]
  },
  {
   "cell_type": "markdown",
   "id": "62eab9f8",
   "metadata": {
    "cell_style": "split",
    "slideshow": {
     "slide_type": "fragment"
    }
   },
   "source": [
    "- Lower $k$ implies higher sensitivity to fluctuations (higher variance)\n"
   ]
  },
  {
   "cell_type": "markdown",
   "id": "f776ddac",
   "metadata": {
    "slideshow": {
     "slide_type": "-"
    }
   },
   "source": [
    "**Low $k$ = higher variance**"
   ]
  },
  {
   "cell_type": "markdown",
   "id": "5121fb0e",
   "metadata": {
    "slideshow": {
     "slide_type": "slide"
    }
   },
   "source": [
    "![](./images/knn-process.png)"
   ]
  },
  {
   "cell_type": "markdown",
   "id": "0a14d917",
   "metadata": {
    "cell_style": "split",
    "slideshow": {
     "slide_type": "slide"
    }
   },
   "source": [
    "If $k$ increases too much:\n",
    "- Always predicts majority class in training set.\n",
    "- Model too \"rigid\"\n",
    "- Not sensitive enough to relationship between target and features"
   ]
  },
  {
   "cell_type": "markdown",
   "id": "c9f9a570",
   "metadata": {
    "cell_style": "split",
    "slideshow": {
     "slide_type": "fragment"
    }
   },
   "source": [
    "<img src = \"Images/knn_neighbor_increase.jpeg\" width = 600 />"
   ]
  },
  {
   "cell_type": "markdown",
   "id": "e6fde42c",
   "metadata": {
    "cell_style": "split",
    "slideshow": {
     "slide_type": "slide"
    }
   },
   "source": [
    "Too high $k$ means high bias."
   ]
  },
  {
   "cell_type": "markdown",
   "id": "acfb4ab5",
   "metadata": {
    "cell_style": "split",
    "slideshow": {
     "slide_type": "fragment"
    }
   },
   "source": [
    "In summary:\n",
    "<center><img src = \"Images/bias_variance.png\" /></center>"
   ]
  },
  {
   "cell_type": "markdown",
   "id": "ef20141b",
   "metadata": {
    "slideshow": {
     "slide_type": "slide"
    }
   },
   "source": [
    "#### Before we even think about running this or any distance-based model"
   ]
  },
  {
   "cell_type": "markdown",
   "id": "35780fda",
   "metadata": {
    "cell_style": "split",
    "slideshow": {
     "slide_type": "fragment"
    }
   },
   "source": [
    "<center>SCALE THE FEATURES!!!</center>"
   ]
  },
  {
   "cell_type": "markdown",
   "id": "d0572d3c",
   "metadata": {
    "cell_style": "split",
    "slideshow": {
     "slide_type": "fragment"
    }
   },
   "source": [
    "Otherwise: \n",
    "- Weights distances in different feature dimensions differently"
   ]
  },
  {
   "cell_type": "markdown",
   "id": "dc8fe855",
   "metadata": {
    "cell_style": "split",
    "slideshow": {
     "slide_type": "fragment"
    }
   },
   "source": [
    "<center><img src = \"Images/nonnormal.png\" /></center>\n",
    "<center>Unscaled</center>"
   ]
  },
  {
   "cell_type": "markdown",
   "id": "1582b1e5",
   "metadata": {
    "cell_style": "split",
    "slideshow": {
     "slide_type": "fragment"
    }
   },
   "source": [
    "<center><img src = \"Images/normalized.png\" /></center>\n",
    "<center>Scaled</center>"
   ]
  },
  {
   "cell_type": "markdown",
   "id": "d1418da2",
   "metadata": {
    "slideshow": {
     "slide_type": "slide"
    }
   },
   "source": [
    "Run KNN classifier on a dataset and tune hyperparameters:\n",
    "- Load that iris dataset."
   ]
  },
  {
   "cell_type": "code",
   "execution_count": 2,
   "id": "a03291fb",
   "metadata": {
    "cell_style": "center",
    "scrolled": false,
    "slideshow": {
     "slide_type": "fragment"
    }
   },
   "outputs": [
    {
     "data": {
      "text/html": [
       "<div>\n",
       "<style scoped>\n",
       "    .dataframe tbody tr th:only-of-type {\n",
       "        vertical-align: middle;\n",
       "    }\n",
       "\n",
       "    .dataframe tbody tr th {\n",
       "        vertical-align: top;\n",
       "    }\n",
       "\n",
       "    .dataframe thead th {\n",
       "        text-align: right;\n",
       "    }\n",
       "</style>\n",
       "<table border=\"1\" class=\"dataframe\">\n",
       "  <thead>\n",
       "    <tr style=\"text-align: right;\">\n",
       "      <th></th>\n",
       "      <th>SepalLengthCm</th>\n",
       "      <th>SepalWidthCm</th>\n",
       "      <th>PetalLengthCm</th>\n",
       "      <th>PetalWidthCm</th>\n",
       "      <th>Species</th>\n",
       "    </tr>\n",
       "  </thead>\n",
       "  <tbody>\n",
       "    <tr>\n",
       "      <th>0</th>\n",
       "      <td>5.1</td>\n",
       "      <td>3.5</td>\n",
       "      <td>1.4</td>\n",
       "      <td>0.2</td>\n",
       "      <td>Iris-setosa</td>\n",
       "    </tr>\n",
       "    <tr>\n",
       "      <th>1</th>\n",
       "      <td>4.9</td>\n",
       "      <td>3.0</td>\n",
       "      <td>1.4</td>\n",
       "      <td>0.2</td>\n",
       "      <td>Iris-setosa</td>\n",
       "    </tr>\n",
       "    <tr>\n",
       "      <th>2</th>\n",
       "      <td>4.7</td>\n",
       "      <td>3.2</td>\n",
       "      <td>1.3</td>\n",
       "      <td>0.2</td>\n",
       "      <td>Iris-setosa</td>\n",
       "    </tr>\n",
       "    <tr>\n",
       "      <th>3</th>\n",
       "      <td>4.6</td>\n",
       "      <td>3.1</td>\n",
       "      <td>1.5</td>\n",
       "      <td>0.2</td>\n",
       "      <td>Iris-setosa</td>\n",
       "    </tr>\n",
       "    <tr>\n",
       "      <th>4</th>\n",
       "      <td>5.0</td>\n",
       "      <td>3.6</td>\n",
       "      <td>1.4</td>\n",
       "      <td>0.2</td>\n",
       "      <td>Iris-setosa</td>\n",
       "    </tr>\n",
       "  </tbody>\n",
       "</table>\n",
       "</div>"
      ],
      "text/plain": [
       "   SepalLengthCm  SepalWidthCm  PetalLengthCm  PetalWidthCm      Species\n",
       "0            5.1           3.5            1.4           0.2  Iris-setosa\n",
       "1            4.9           3.0            1.4           0.2  Iris-setosa\n",
       "2            4.7           3.2            1.3           0.2  Iris-setosa\n",
       "3            4.6           3.1            1.5           0.2  Iris-setosa\n",
       "4            5.0           3.6            1.4           0.2  Iris-setosa"
      ]
     },
     "execution_count": 2,
     "metadata": {},
     "output_type": "execute_result"
    }
   ],
   "source": [
    "iris_df = pd.read_csv('Data/Iris.csv').drop(columns = ['Id'])\n",
    "iris_df.head()"
   ]
  },
  {
   "cell_type": "code",
   "execution_count": 3,
   "id": "68f40ba0",
   "metadata": {
    "cell_style": "center",
    "slideshow": {
     "slide_type": "slide"
    }
   },
   "outputs": [],
   "source": [
    "from sklearn.preprocessing import LabelEncoder\n",
    "target_transform = LabelEncoder() # you can do it before train test split, it just changes how data is represented\n",
    "iris_df['Species'] = target_transform.fit_transform(iris_df['Species'])"
   ]
  },
  {
   "cell_type": "code",
   "execution_count": 4,
   "id": "ceb5c8aa",
   "metadata": {
    "cell_style": "center",
    "slideshow": {
     "slide_type": "fragment"
    }
   },
   "outputs": [
    {
     "data": {
      "text/plain": [
       "0      0\n",
       "1      0\n",
       "2      0\n",
       "3      0\n",
       "4      0\n",
       "      ..\n",
       "145    2\n",
       "146    2\n",
       "147    2\n",
       "148    2\n",
       "149    2\n",
       "Name: Species, Length: 150, dtype: int64"
      ]
     },
     "execution_count": 4,
     "metadata": {},
     "output_type": "execute_result"
    }
   ],
   "source": [
    "iris_df['Species']\n"
   ]
  },
  {
   "cell_type": "markdown",
   "id": "fe5eef5d",
   "metadata": {
    "slideshow": {
     "slide_type": "slide"
    }
   },
   "source": [
    "- What next steps should we take?"
   ]
  },
  {
   "cell_type": "markdown",
   "id": "42500119",
   "metadata": {
    "slideshow": {
     "slide_type": "fragment"
    }
   },
   "source": [
    "Visualize the data."
   ]
  },
  {
   "cell_type": "code",
   "execution_count": 5,
   "id": "892121cd",
   "metadata": {
    "cell_style": "split",
    "scrolled": true,
    "slideshow": {
     "slide_type": "slide"
    }
   },
   "outputs": [
    {
     "data": {
      "image/png": "[encoded data removed]",
      "text/plain": [
       "<Figure size 550.375x504 with 20 Axes>"
      ]
     },
     "metadata": {
      "needs_background": "light"
     },
     "output_type": "display_data"
    }
   ],
   "source": [
    "sns.pairplot(hue = 'Species', data = iris_df, height = 1.75)\n",
    "plt.show()"
   ]
  },
  {
   "cell_type": "markdown",
   "id": "b54eccad",
   "metadata": {
    "cell_style": "split",
    "slideshow": {
     "slide_type": "fragment"
    }
   },
   "source": [
    "For instruction sake let's do classification with following two features:\n",
    "- sepal width\n",
    "- petal width"
   ]
  },
  {
   "cell_type": "code",
   "execution_count": 6,
   "id": "f5091883",
   "metadata": {
    "cell_style": "split",
    "slideshow": {
     "slide_type": "fragment"
    }
   },
   "outputs": [
    {
     "data": {
      "image/png": "[encoded data removed]",
      "text/plain": [
       "<Figure size 432x288 with 1 Axes>"
      ]
     },
     "metadata": {
      "needs_background": "light"
     },
     "output_type": "display_data"
    }
   ],
   "source": [
    "sns.scatterplot(y = 'SepalWidthCm', x = 'PetalWidthCm', hue = 'Species', data = iris_df)\n",
    "plt.show()"
   ]
  },
  {
   "cell_type": "markdown",
   "id": "64a4c5ee",
   "metadata": {
    "slideshow": {
     "slide_type": "slide"
    }
   },
   "source": [
    "Some overlap between class 1 and 2:\n",
    "- Versicolor\n",
    "- Virginica\n"
   ]
  },
  {
   "cell_type": "markdown",
   "id": "811134e1",
   "metadata": {
    "slideshow": {
     "slide_type": "slide"
    }
   },
   "source": [
    "What next?"
   ]
  },
  {
   "cell_type": "markdown",
   "id": "e2f7ac39",
   "metadata": {
    "slideshow": {
     "slide_type": "slide"
    }
   },
   "source": [
    "1. Separate dataframe into X (features) and y (labels)\n",
    "2. Train/test split"
   ]
  },
  {
   "cell_type": "code",
   "execution_count": 7,
   "id": "d2673b20",
   "metadata": {
    "cell_style": "center",
    "slideshow": {
     "slide_type": "fragment"
    }
   },
   "outputs": [],
   "source": [
    "# so whats next?\n",
    "X = iris_df[['SepalWidthCm', 'PetalWidthCm']]\n",
    "y = iris_df['Species']"
   ]
  },
  {
   "cell_type": "code",
   "execution_count": 8,
   "id": "6fd60505",
   "metadata": {
    "cell_style": "center",
    "slideshow": {
     "slide_type": "fragment"
    }
   },
   "outputs": [],
   "source": [
    "# shuffle and split, stratify keeps target distribution same in train/test\n",
    "X_train, X_test, y_train, y_test = train_test_split(X, y, stratify = y, test_size = 0.15, random_state = 42)\n",
    "# stratify keeps the proportion in train and test as it seen before the split"
   ]
  },
  {
   "cell_type": "markdown",
   "id": "3660a752",
   "metadata": {
    "cell_style": "split",
    "slideshow": {
     "slide_type": "slide"
    }
   },
   "source": [
    "Now we standardize features, right?"
   ]
  },
  {
   "cell_type": "markdown",
   "id": "654109ff",
   "metadata": {
    "cell_style": "split",
    "slideshow": {
     "slide_type": "fragment"
    }
   },
   "source": [
    "Depends!\n",
    "- If doing simple train/test split, then yes!\n",
    "- If doing cross-validation, then no!"
   ]
  },
  {
   "cell_type": "markdown",
   "id": "74abad8a",
   "metadata": {
    "cell_style": "split",
    "slideshow": {
     "slide_type": "slide"
    }
   },
   "source": [
    "Mess around with $k$:\n",
    "- Look at performance\n",
    "- Hyperparameter tune/cross-validate"
   ]
  },
  {
   "cell_type": "markdown",
   "id": "0fa59701",
   "metadata": {
    "cell_style": "split",
    "slideshow": {
     "slide_type": "fragment"
    }
   },
   "source": [
    "So we won't fit the standardizer on the entire training set."
   ]
  },
  {
   "cell_type": "code",
   "execution_count": 9,
   "id": "434563a2",
   "metadata": {
    "slideshow": {
     "slide_type": "slide"
    }
   },
   "outputs": [],
   "source": [
    "from sklearn.model_selection import KFold\n",
    "from sklearn.preprocessing import StandardScaler\n",
    "from sklearn.neighbors import KNeighborsClassifier"
   ]
  },
  {
   "cell_type": "code",
   "execution_count": 10,
   "id": "b4390f8a",
   "metadata": {
    "slideshow": {
     "slide_type": "slide"
    }
   },
   "outputs": [],
   "source": [
    "k = KFold(n_splits = 5).split(X_train)\n"
   ]
  },
  {
   "cell_type": "code",
   "execution_count": 11,
   "id": "b4023ab0",
   "metadata": {
    "slideshow": {
     "slide_type": "fragment"
    }
   },
   "outputs": [
    {
     "data": {
      "text/plain": [
       "(array([ 26,  27,  28,  29,  30,  31,  32,  33,  34,  35,  36,  37,  38,\n",
       "         39,  40,  41,  42,  43,  44,  45,  46,  47,  48,  49,  50,  51,\n",
       "         52,  53,  54,  55,  56,  57,  58,  59,  60,  61,  62,  63,  64,\n",
       "         65,  66,  67,  68,  69,  70,  71,  72,  73,  74,  75,  76,  77,\n",
       "         78,  79,  80,  81,  82,  83,  84,  85,  86,  87,  88,  89,  90,\n",
       "         91,  92,  93,  94,  95,  96,  97,  98,  99, 100, 101, 102, 103,\n",
       "        104, 105, 106, 107, 108, 109, 110, 111, 112, 113, 114, 115, 116,\n",
       "        117, 118, 119, 120, 121, 122, 123, 124, 125, 126]),\n",
       " array([ 0,  1,  2,  3,  4,  5,  6,  7,  8,  9, 10, 11, 12, 13, 14, 15, 16,\n",
       "        17, 18, 19, 20, 21, 22, 23, 24, 25]))"
      ]
     },
     "execution_count": 11,
     "metadata": {},
     "output_type": "execute_result"
    }
   ],
   "source": [
    "# used for anything a generator\n",
    "next(k)\n",
    "# returns index numbers for the training and (the 2nd one) for the validation"
   ]
  },
  {
   "cell_type": "code",
   "execution_count": 12,
   "id": "bed132bb",
   "metadata": {
    "cell_style": "center",
    "scrolled": false,
    "slideshow": {
     "slide_type": "slide"
    }
   },
   "outputs": [],
   "source": [
    "def cross_validation(X_train, y_train, k, num_split = 10): # k is the k-nearest neighbor\n",
    "    \n",
    "    X_train = X_train.values\n",
    "    y_train = y_train.values\n",
    "    \n",
    "    score_train_list = []\n",
    "    score_val_list = []\n",
    "    \n",
    "    for train_index, valid_index in KFold(n_splits = num_split).split(X_train): # saves the return of the kfold, (two arrays above)\n",
    "\n",
    "\n",
    "        # train and validation splitting - to standardize without data leakage\n",
    "        X_train_fold, X_val_fold = X_train[train_index], X_train[valid_index]\n",
    "        y_train_fold, y_val_fold = y_train[train_index], y_train[valid_index]\n",
    "\n",
    "        #create/fit the Standard scaler on the train fold\n",
    "        scaler = StandardScaler()\n",
    "        X_tf_sc = scaler.fit_transform(X_train_fold)\n",
    "        # transform validation fold\n",
    "        X_vld_sc = scaler.transform(X_val_fold)\n",
    "\n",
    "        # create/fit knearest neighbor\n",
    "        knn = KNeighborsClassifier(n_neighbors = k)\n",
    "        knn.fit(X_tf_sc, y_train_fold) # fits on the standardized x and y , stores the location of the points in the space\n",
    "        \n",
    "        # now how did we do?\n",
    "        accuracy_train = knn.score(X_tf_sc, y_train_fold) # accuracy\n",
    "        accuracy_val = knn.score(X_vld_sc, y_val_fold) # subset of the original train\n",
    "        score_val_list.append(accuracy_val)\n",
    "        score_train_list.append(accuracy_train)\n",
    "    \n",
    "    return {'k': k, 'train': np.mean(score_train_list), 'validation': np.mean(score_val_list)}"
   ]
  },
  {
   "cell_type": "code",
   "execution_count": 13,
   "id": "d2259ddd",
   "metadata": {
    "scrolled": true,
    "slideshow": {
     "slide_type": "slide"
    }
   },
   "outputs": [
    {
     "name": "stderr",
     "output_type": "stream",
     "text": [
      "/var/folders/0k/t_v9n_fd08b6ymg1f7lkdlb40000gn/T/ipykernel_11204/2666686095.py:5: FutureWarning: The frame.append method is deprecated and will be removed from pandas in a future version. Use pandas.concat instead.\n",
      "  crossval_df = crossval_df.append(cross_validation(X_train, y_train, k, 5), ignore_index = True)\n",
      "/var/folders/0k/t_v9n_fd08b6ymg1f7lkdlb40000gn/T/ipykernel_11204/2666686095.py:5: FutureWarning: The frame.append method is deprecated and will be removed from pandas in a future version. Use pandas.concat instead.\n",
      "  crossval_df = crossval_df.append(cross_validation(X_train, y_train, k, 5), ignore_index = True)\n",
      "/var/folders/0k/t_v9n_fd08b6ymg1f7lkdlb40000gn/T/ipykernel_11204/2666686095.py:5: FutureWarning: The frame.append method is deprecated and will be removed from pandas in a future version. Use pandas.concat instead.\n",
      "  crossval_df = crossval_df.append(cross_validation(X_train, y_train, k, 5), ignore_index = True)\n",
      "/var/folders/0k/t_v9n_fd08b6ymg1f7lkdlb40000gn/T/ipykernel_11204/2666686095.py:5: FutureWarning: The frame.append method is deprecated and will be removed from pandas in a future version. Use pandas.concat instead.\n",
      "  crossval_df = crossval_df.append(cross_validation(X_train, y_train, k, 5), ignore_index = True)\n",
      "/var/folders/0k/t_v9n_fd08b6ymg1f7lkdlb40000gn/T/ipykernel_11204/2666686095.py:5: FutureWarning: The frame.append method is deprecated and will be removed from pandas in a future version. Use pandas.concat instead.\n",
      "  crossval_df = crossval_df.append(cross_validation(X_train, y_train, k, 5), ignore_index = True)\n",
      "/var/folders/0k/t_v9n_fd08b6ymg1f7lkdlb40000gn/T/ipykernel_11204/2666686095.py:5: FutureWarning: The frame.append method is deprecated and will be removed from pandas in a future version. Use pandas.concat instead.\n",
      "  crossval_df = crossval_df.append(cross_validation(X_train, y_train, k, 5), ignore_index = True)\n",
      "/var/folders/0k/t_v9n_fd08b6ymg1f7lkdlb40000gn/T/ipykernel_11204/2666686095.py:5: FutureWarning: The frame.append method is deprecated and will be removed from pandas in a future version. Use pandas.concat instead.\n",
      "  crossval_df = crossval_df.append(cross_validation(X_train, y_train, k, 5), ignore_index = True)\n",
      "/var/folders/0k/t_v9n_fd08b6ymg1f7lkdlb40000gn/T/ipykernel_11204/2666686095.py:5: FutureWarning: The frame.append method is deprecated and will be removed from pandas in a future version. Use pandas.concat instead.\n",
      "  crossval_df = crossval_df.append(cross_validation(X_train, y_train, k, 5), ignore_index = True)\n",
      "/var/folders/0k/t_v9n_fd08b6ymg1f7lkdlb40000gn/T/ipykernel_11204/2666686095.py:5: FutureWarning: The frame.append method is deprecated and will be removed from pandas in a future version. Use pandas.concat instead.\n",
      "  crossval_df = crossval_df.append(cross_validation(X_train, y_train, k, 5), ignore_index = True)\n",
      "/var/folders/0k/t_v9n_fd08b6ymg1f7lkdlb40000gn/T/ipykernel_11204/2666686095.py:5: FutureWarning: The frame.append method is deprecated and will be removed from pandas in a future version. Use pandas.concat instead.\n",
      "  crossval_df = crossval_df.append(cross_validation(X_train, y_train, k, 5), ignore_index = True)\n",
      "/var/folders/0k/t_v9n_fd08b6ymg1f7lkdlb40000gn/T/ipykernel_11204/2666686095.py:5: FutureWarning: The frame.append method is deprecated and will be removed from pandas in a future version. Use pandas.concat instead.\n",
      "  crossval_df = crossval_df.append(cross_validation(X_train, y_train, k, 5), ignore_index = True)\n",
      "/var/folders/0k/t_v9n_fd08b6ymg1f7lkdlb40000gn/T/ipykernel_11204/2666686095.py:5: FutureWarning: The frame.append method is deprecated and will be removed from pandas in a future version. Use pandas.concat instead.\n",
      "  crossval_df = crossval_df.append(cross_validation(X_train, y_train, k, 5), ignore_index = True)\n",
      "/var/folders/0k/t_v9n_fd08b6ymg1f7lkdlb40000gn/T/ipykernel_11204/2666686095.py:5: FutureWarning: The frame.append method is deprecated and will be removed from pandas in a future version. Use pandas.concat instead.\n",
      "  crossval_df = crossval_df.append(cross_validation(X_train, y_train, k, 5), ignore_index = True)\n",
      "/var/folders/0k/t_v9n_fd08b6ymg1f7lkdlb40000gn/T/ipykernel_11204/2666686095.py:5: FutureWarning: The frame.append method is deprecated and will be removed from pandas in a future version. Use pandas.concat instead.\n",
      "  crossval_df = crossval_df.append(cross_validation(X_train, y_train, k, 5), ignore_index = True)\n",
      "/var/folders/0k/t_v9n_fd08b6ymg1f7lkdlb40000gn/T/ipykernel_11204/2666686095.py:5: FutureWarning: The frame.append method is deprecated and will be removed from pandas in a future version. Use pandas.concat instead.\n",
      "  crossval_df = crossval_df.append(cross_validation(X_train, y_train, k, 5), ignore_index = True)\n",
      "/var/folders/0k/t_v9n_fd08b6ymg1f7lkdlb40000gn/T/ipykernel_11204/2666686095.py:5: FutureWarning: The frame.append method is deprecated and will be removed from pandas in a future version. Use pandas.concat instead.\n",
      "  crossval_df = crossval_df.append(cross_validation(X_train, y_train, k, 5), ignore_index = True)\n",
      "/var/folders/0k/t_v9n_fd08b6ymg1f7lkdlb40000gn/T/ipykernel_11204/2666686095.py:5: FutureWarning: The frame.append method is deprecated and will be removed from pandas in a future version. Use pandas.concat instead.\n",
      "  crossval_df = crossval_df.append(cross_validation(X_train, y_train, k, 5), ignore_index = True)\n",
      "/var/folders/0k/t_v9n_fd08b6ymg1f7lkdlb40000gn/T/ipykernel_11204/2666686095.py:5: FutureWarning: The frame.append method is deprecated and will be removed from pandas in a future version. Use pandas.concat instead.\n",
      "  crossval_df = crossval_df.append(cross_validation(X_train, y_train, k, 5), ignore_index = True)\n",
      "/var/folders/0k/t_v9n_fd08b6ymg1f7lkdlb40000gn/T/ipykernel_11204/2666686095.py:5: FutureWarning: The frame.append method is deprecated and will be removed from pandas in a future version. Use pandas.concat instead.\n",
      "  crossval_df = crossval_df.append(cross_validation(X_train, y_train, k, 5), ignore_index = True)\n",
      "/var/folders/0k/t_v9n_fd08b6ymg1f7lkdlb40000gn/T/ipykernel_11204/2666686095.py:5: FutureWarning: The frame.append method is deprecated and will be removed from pandas in a future version. Use pandas.concat instead.\n",
      "  crossval_df = crossval_df.append(cross_validation(X_train, y_train, k, 5), ignore_index = True)\n",
      "/var/folders/0k/t_v9n_fd08b6ymg1f7lkdlb40000gn/T/ipykernel_11204/2666686095.py:5: FutureWarning: The frame.append method is deprecated and will be removed from pandas in a future version. Use pandas.concat instead.\n",
      "  crossval_df = crossval_df.append(cross_validation(X_train, y_train, k, 5), ignore_index = True)\n",
      "/var/folders/0k/t_v9n_fd08b6ymg1f7lkdlb40000gn/T/ipykernel_11204/2666686095.py:5: FutureWarning: The frame.append method is deprecated and will be removed from pandas in a future version. Use pandas.concat instead.\n",
      "  crossval_df = crossval_df.append(cross_validation(X_train, y_train, k, 5), ignore_index = True)\n",
      "/var/folders/0k/t_v9n_fd08b6ymg1f7lkdlb40000gn/T/ipykernel_11204/2666686095.py:5: FutureWarning: The frame.append method is deprecated and will be removed from pandas in a future version. Use pandas.concat instead.\n",
      "  crossval_df = crossval_df.append(cross_validation(X_train, y_train, k, 5), ignore_index = True)\n",
      "/var/folders/0k/t_v9n_fd08b6ymg1f7lkdlb40000gn/T/ipykernel_11204/2666686095.py:5: FutureWarning: The frame.append method is deprecated and will be removed from pandas in a future version. Use pandas.concat instead.\n",
      "  crossval_df = crossval_df.append(cross_validation(X_train, y_train, k, 5), ignore_index = True)\n",
      "/var/folders/0k/t_v9n_fd08b6ymg1f7lkdlb40000gn/T/ipykernel_11204/2666686095.py:5: FutureWarning: The frame.append method is deprecated and will be removed from pandas in a future version. Use pandas.concat instead.\n",
      "  crossval_df = crossval_df.append(cross_validation(X_train, y_train, k, 5), ignore_index = True)\n",
      "/var/folders/0k/t_v9n_fd08b6ymg1f7lkdlb40000gn/T/ipykernel_11204/2666686095.py:5: FutureWarning: The frame.append method is deprecated and will be removed from pandas in a future version. Use pandas.concat instead.\n",
      "  crossval_df = crossval_df.append(cross_validation(X_train, y_train, k, 5), ignore_index = True)\n",
      "/var/folders/0k/t_v9n_fd08b6ymg1f7lkdlb40000gn/T/ipykernel_11204/2666686095.py:5: FutureWarning: The frame.append method is deprecated and will be removed from pandas in a future version. Use pandas.concat instead.\n",
      "  crossval_df = crossval_df.append(cross_validation(X_train, y_train, k, 5), ignore_index = True)\n",
      "/var/folders/0k/t_v9n_fd08b6ymg1f7lkdlb40000gn/T/ipykernel_11204/2666686095.py:5: FutureWarning: The frame.append method is deprecated and will be removed from pandas in a future version. Use pandas.concat instead.\n",
      "  crossval_df = crossval_df.append(cross_validation(X_train, y_train, k, 5), ignore_index = True)\n"
     ]
    },
    {
     "name": "stderr",
     "output_type": "stream",
     "text": [
      "/var/folders/0k/t_v9n_fd08b6ymg1f7lkdlb40000gn/T/ipykernel_11204/2666686095.py:5: FutureWarning: The frame.append method is deprecated and will be removed from pandas in a future version. Use pandas.concat instead.\n",
      "  crossval_df = crossval_df.append(cross_validation(X_train, y_train, k, 5), ignore_index = True)\n",
      "/var/folders/0k/t_v9n_fd08b6ymg1f7lkdlb40000gn/T/ipykernel_11204/2666686095.py:5: FutureWarning: The frame.append method is deprecated and will be removed from pandas in a future version. Use pandas.concat instead.\n",
      "  crossval_df = crossval_df.append(cross_validation(X_train, y_train, k, 5), ignore_index = True)\n",
      "/var/folders/0k/t_v9n_fd08b6ymg1f7lkdlb40000gn/T/ipykernel_11204/2666686095.py:5: FutureWarning: The frame.append method is deprecated and will be removed from pandas in a future version. Use pandas.concat instead.\n",
      "  crossval_df = crossval_df.append(cross_validation(X_train, y_train, k, 5), ignore_index = True)\n",
      "/var/folders/0k/t_v9n_fd08b6ymg1f7lkdlb40000gn/T/ipykernel_11204/2666686095.py:5: FutureWarning: The frame.append method is deprecated and will be removed from pandas in a future version. Use pandas.concat instead.\n",
      "  crossval_df = crossval_df.append(cross_validation(X_train, y_train, k, 5), ignore_index = True)\n",
      "/var/folders/0k/t_v9n_fd08b6ymg1f7lkdlb40000gn/T/ipykernel_11204/2666686095.py:5: FutureWarning: The frame.append method is deprecated and will be removed from pandas in a future version. Use pandas.concat instead.\n",
      "  crossval_df = crossval_df.append(cross_validation(X_train, y_train, k, 5), ignore_index = True)\n",
      "/var/folders/0k/t_v9n_fd08b6ymg1f7lkdlb40000gn/T/ipykernel_11204/2666686095.py:5: FutureWarning: The frame.append method is deprecated and will be removed from pandas in a future version. Use pandas.concat instead.\n",
      "  crossval_df = crossval_df.append(cross_validation(X_train, y_train, k, 5), ignore_index = True)\n",
      "/var/folders/0k/t_v9n_fd08b6ymg1f7lkdlb40000gn/T/ipykernel_11204/2666686095.py:5: FutureWarning: The frame.append method is deprecated and will be removed from pandas in a future version. Use pandas.concat instead.\n",
      "  crossval_df = crossval_df.append(cross_validation(X_train, y_train, k, 5), ignore_index = True)\n",
      "/var/folders/0k/t_v9n_fd08b6ymg1f7lkdlb40000gn/T/ipykernel_11204/2666686095.py:5: FutureWarning: The frame.append method is deprecated and will be removed from pandas in a future version. Use pandas.concat instead.\n",
      "  crossval_df = crossval_df.append(cross_validation(X_train, y_train, k, 5), ignore_index = True)\n",
      "/var/folders/0k/t_v9n_fd08b6ymg1f7lkdlb40000gn/T/ipykernel_11204/2666686095.py:5: FutureWarning: The frame.append method is deprecated and will be removed from pandas in a future version. Use pandas.concat instead.\n",
      "  crossval_df = crossval_df.append(cross_validation(X_train, y_train, k, 5), ignore_index = True)\n",
      "/var/folders/0k/t_v9n_fd08b6ymg1f7lkdlb40000gn/T/ipykernel_11204/2666686095.py:5: FutureWarning: The frame.append method is deprecated and will be removed from pandas in a future version. Use pandas.concat instead.\n",
      "  crossval_df = crossval_df.append(cross_validation(X_train, y_train, k, 5), ignore_index = True)\n",
      "/var/folders/0k/t_v9n_fd08b6ymg1f7lkdlb40000gn/T/ipykernel_11204/2666686095.py:5: FutureWarning: The frame.append method is deprecated and will be removed from pandas in a future version. Use pandas.concat instead.\n",
      "  crossval_df = crossval_df.append(cross_validation(X_train, y_train, k, 5), ignore_index = True)\n",
      "/var/folders/0k/t_v9n_fd08b6ymg1f7lkdlb40000gn/T/ipykernel_11204/2666686095.py:5: FutureWarning: The frame.append method is deprecated and will be removed from pandas in a future version. Use pandas.concat instead.\n",
      "  crossval_df = crossval_df.append(cross_validation(X_train, y_train, k, 5), ignore_index = True)\n",
      "/var/folders/0k/t_v9n_fd08b6ymg1f7lkdlb40000gn/T/ipykernel_11204/2666686095.py:5: FutureWarning: The frame.append method is deprecated and will be removed from pandas in a future version. Use pandas.concat instead.\n",
      "  crossval_df = crossval_df.append(cross_validation(X_train, y_train, k, 5), ignore_index = True)\n",
      "/var/folders/0k/t_v9n_fd08b6ymg1f7lkdlb40000gn/T/ipykernel_11204/2666686095.py:5: FutureWarning: The frame.append method is deprecated and will be removed from pandas in a future version. Use pandas.concat instead.\n",
      "  crossval_df = crossval_df.append(cross_validation(X_train, y_train, k, 5), ignore_index = True)\n",
      "/var/folders/0k/t_v9n_fd08b6ymg1f7lkdlb40000gn/T/ipykernel_11204/2666686095.py:5: FutureWarning: The frame.append method is deprecated and will be removed from pandas in a future version. Use pandas.concat instead.\n",
      "  crossval_df = crossval_df.append(cross_validation(X_train, y_train, k, 5), ignore_index = True)\n",
      "/var/folders/0k/t_v9n_fd08b6ymg1f7lkdlb40000gn/T/ipykernel_11204/2666686095.py:5: FutureWarning: The frame.append method is deprecated and will be removed from pandas in a future version. Use pandas.concat instead.\n",
      "  crossval_df = crossval_df.append(cross_validation(X_train, y_train, k, 5), ignore_index = True)\n",
      "/var/folders/0k/t_v9n_fd08b6ymg1f7lkdlb40000gn/T/ipykernel_11204/2666686095.py:5: FutureWarning: The frame.append method is deprecated and will be removed from pandas in a future version. Use pandas.concat instead.\n",
      "  crossval_df = crossval_df.append(cross_validation(X_train, y_train, k, 5), ignore_index = True)\n",
      "/var/folders/0k/t_v9n_fd08b6ymg1f7lkdlb40000gn/T/ipykernel_11204/2666686095.py:5: FutureWarning: The frame.append method is deprecated and will be removed from pandas in a future version. Use pandas.concat instead.\n",
      "  crossval_df = crossval_df.append(cross_validation(X_train, y_train, k, 5), ignore_index = True)\n",
      "/var/folders/0k/t_v9n_fd08b6ymg1f7lkdlb40000gn/T/ipykernel_11204/2666686095.py:5: FutureWarning: The frame.append method is deprecated and will be removed from pandas in a future version. Use pandas.concat instead.\n",
      "  crossval_df = crossval_df.append(cross_validation(X_train, y_train, k, 5), ignore_index = True)\n",
      "/var/folders/0k/t_v9n_fd08b6ymg1f7lkdlb40000gn/T/ipykernel_11204/2666686095.py:5: FutureWarning: The frame.append method is deprecated and will be removed from pandas in a future version. Use pandas.concat instead.\n",
      "  crossval_df = crossval_df.append(cross_validation(X_train, y_train, k, 5), ignore_index = True)\n",
      "/var/folders/0k/t_v9n_fd08b6ymg1f7lkdlb40000gn/T/ipykernel_11204/2666686095.py:5: FutureWarning: The frame.append method is deprecated and will be removed from pandas in a future version. Use pandas.concat instead.\n",
      "  crossval_df = crossval_df.append(cross_validation(X_train, y_train, k, 5), ignore_index = True)\n",
      "/var/folders/0k/t_v9n_fd08b6ymg1f7lkdlb40000gn/T/ipykernel_11204/2666686095.py:5: FutureWarning: The frame.append method is deprecated and will be removed from pandas in a future version. Use pandas.concat instead.\n",
      "  crossval_df = crossval_df.append(cross_validation(X_train, y_train, k, 5), ignore_index = True)\n",
      "/var/folders/0k/t_v9n_fd08b6ymg1f7lkdlb40000gn/T/ipykernel_11204/2666686095.py:5: FutureWarning: The frame.append method is deprecated and will be removed from pandas in a future version. Use pandas.concat instead.\n",
      "  crossval_df = crossval_df.append(cross_validation(X_train, y_train, k, 5), ignore_index = True)\n",
      "/var/folders/0k/t_v9n_fd08b6ymg1f7lkdlb40000gn/T/ipykernel_11204/2666686095.py:5: FutureWarning: The frame.append method is deprecated and will be removed from pandas in a future version. Use pandas.concat instead.\n",
      "  crossval_df = crossval_df.append(cross_validation(X_train, y_train, k, 5), ignore_index = True)\n",
      "/var/folders/0k/t_v9n_fd08b6ymg1f7lkdlb40000gn/T/ipykernel_11204/2666686095.py:5: FutureWarning: The frame.append method is deprecated and will be removed from pandas in a future version. Use pandas.concat instead.\n",
      "  crossval_df = crossval_df.append(cross_validation(X_train, y_train, k, 5), ignore_index = True)\n",
      "/var/folders/0k/t_v9n_fd08b6ymg1f7lkdlb40000gn/T/ipykernel_11204/2666686095.py:5: FutureWarning: The frame.append method is deprecated and will be removed from pandas in a future version. Use pandas.concat instead.\n",
      "  crossval_df = crossval_df.append(cross_validation(X_train, y_train, k, 5), ignore_index = True)\n",
      "/var/folders/0k/t_v9n_fd08b6ymg1f7lkdlb40000gn/T/ipykernel_11204/2666686095.py:5: FutureWarning: The frame.append method is deprecated and will be removed from pandas in a future version. Use pandas.concat instead.\n",
      "  crossval_df = crossval_df.append(cross_validation(X_train, y_train, k, 5), ignore_index = True)\n"
     ]
    },
    {
     "name": "stderr",
     "output_type": "stream",
     "text": [
      "/var/folders/0k/t_v9n_fd08b6ymg1f7lkdlb40000gn/T/ipykernel_11204/2666686095.py:5: FutureWarning: The frame.append method is deprecated and will be removed from pandas in a future version. Use pandas.concat instead.\n",
      "  crossval_df = crossval_df.append(cross_validation(X_train, y_train, k, 5), ignore_index = True)\n",
      "/var/folders/0k/t_v9n_fd08b6ymg1f7lkdlb40000gn/T/ipykernel_11204/2666686095.py:5: FutureWarning: The frame.append method is deprecated and will be removed from pandas in a future version. Use pandas.concat instead.\n",
      "  crossval_df = crossval_df.append(cross_validation(X_train, y_train, k, 5), ignore_index = True)\n",
      "/var/folders/0k/t_v9n_fd08b6ymg1f7lkdlb40000gn/T/ipykernel_11204/2666686095.py:5: FutureWarning: The frame.append method is deprecated and will be removed from pandas in a future version. Use pandas.concat instead.\n",
      "  crossval_df = crossval_df.append(cross_validation(X_train, y_train, k, 5), ignore_index = True)\n",
      "/var/folders/0k/t_v9n_fd08b6ymg1f7lkdlb40000gn/T/ipykernel_11204/2666686095.py:5: FutureWarning: The frame.append method is deprecated and will be removed from pandas in a future version. Use pandas.concat instead.\n",
      "  crossval_df = crossval_df.append(cross_validation(X_train, y_train, k, 5), ignore_index = True)\n",
      "/var/folders/0k/t_v9n_fd08b6ymg1f7lkdlb40000gn/T/ipykernel_11204/2666686095.py:5: FutureWarning: The frame.append method is deprecated and will be removed from pandas in a future version. Use pandas.concat instead.\n",
      "  crossval_df = crossval_df.append(cross_validation(X_train, y_train, k, 5), ignore_index = True)\n",
      "/var/folders/0k/t_v9n_fd08b6ymg1f7lkdlb40000gn/T/ipykernel_11204/2666686095.py:5: FutureWarning: The frame.append method is deprecated and will be removed from pandas in a future version. Use pandas.concat instead.\n",
      "  crossval_df = crossval_df.append(cross_validation(X_train, y_train, k, 5), ignore_index = True)\n",
      "/var/folders/0k/t_v9n_fd08b6ymg1f7lkdlb40000gn/T/ipykernel_11204/2666686095.py:5: FutureWarning: The frame.append method is deprecated and will be removed from pandas in a future version. Use pandas.concat instead.\n",
      "  crossval_df = crossval_df.append(cross_validation(X_train, y_train, k, 5), ignore_index = True)\n",
      "/var/folders/0k/t_v9n_fd08b6ymg1f7lkdlb40000gn/T/ipykernel_11204/2666686095.py:5: FutureWarning: The frame.append method is deprecated and will be removed from pandas in a future version. Use pandas.concat instead.\n",
      "  crossval_df = crossval_df.append(cross_validation(X_train, y_train, k, 5), ignore_index = True)\n",
      "/var/folders/0k/t_v9n_fd08b6ymg1f7lkdlb40000gn/T/ipykernel_11204/2666686095.py:5: FutureWarning: The frame.append method is deprecated and will be removed from pandas in a future version. Use pandas.concat instead.\n",
      "  crossval_df = crossval_df.append(cross_validation(X_train, y_train, k, 5), ignore_index = True)\n",
      "/var/folders/0k/t_v9n_fd08b6ymg1f7lkdlb40000gn/T/ipykernel_11204/2666686095.py:5: FutureWarning: The frame.append method is deprecated and will be removed from pandas in a future version. Use pandas.concat instead.\n",
      "  crossval_df = crossval_df.append(cross_validation(X_train, y_train, k, 5), ignore_index = True)\n",
      "/var/folders/0k/t_v9n_fd08b6ymg1f7lkdlb40000gn/T/ipykernel_11204/2666686095.py:5: FutureWarning: The frame.append method is deprecated and will be removed from pandas in a future version. Use pandas.concat instead.\n",
      "  crossval_df = crossval_df.append(cross_validation(X_train, y_train, k, 5), ignore_index = True)\n",
      "/var/folders/0k/t_v9n_fd08b6ymg1f7lkdlb40000gn/T/ipykernel_11204/2666686095.py:5: FutureWarning: The frame.append method is deprecated and will be removed from pandas in a future version. Use pandas.concat instead.\n",
      "  crossval_df = crossval_df.append(cross_validation(X_train, y_train, k, 5), ignore_index = True)\n",
      "/var/folders/0k/t_v9n_fd08b6ymg1f7lkdlb40000gn/T/ipykernel_11204/2666686095.py:5: FutureWarning: The frame.append method is deprecated and will be removed from pandas in a future version. Use pandas.concat instead.\n",
      "  crossval_df = crossval_df.append(cross_validation(X_train, y_train, k, 5), ignore_index = True)\n",
      "/var/folders/0k/t_v9n_fd08b6ymg1f7lkdlb40000gn/T/ipykernel_11204/2666686095.py:5: FutureWarning: The frame.append method is deprecated and will be removed from pandas in a future version. Use pandas.concat instead.\n",
      "  crossval_df = crossval_df.append(cross_validation(X_train, y_train, k, 5), ignore_index = True)\n",
      "/var/folders/0k/t_v9n_fd08b6ymg1f7lkdlb40000gn/T/ipykernel_11204/2666686095.py:5: FutureWarning: The frame.append method is deprecated and will be removed from pandas in a future version. Use pandas.concat instead.\n",
      "  crossval_df = crossval_df.append(cross_validation(X_train, y_train, k, 5), ignore_index = True)\n",
      "/var/folders/0k/t_v9n_fd08b6ymg1f7lkdlb40000gn/T/ipykernel_11204/2666686095.py:5: FutureWarning: The frame.append method is deprecated and will be removed from pandas in a future version. Use pandas.concat instead.\n",
      "  crossval_df = crossval_df.append(cross_validation(X_train, y_train, k, 5), ignore_index = True)\n",
      "/var/folders/0k/t_v9n_fd08b6ymg1f7lkdlb40000gn/T/ipykernel_11204/2666686095.py:5: FutureWarning: The frame.append method is deprecated and will be removed from pandas in a future version. Use pandas.concat instead.\n",
      "  crossval_df = crossval_df.append(cross_validation(X_train, y_train, k, 5), ignore_index = True)\n",
      "/var/folders/0k/t_v9n_fd08b6ymg1f7lkdlb40000gn/T/ipykernel_11204/2666686095.py:5: FutureWarning: The frame.append method is deprecated and will be removed from pandas in a future version. Use pandas.concat instead.\n",
      "  crossval_df = crossval_df.append(cross_validation(X_train, y_train, k, 5), ignore_index = True)\n",
      "/var/folders/0k/t_v9n_fd08b6ymg1f7lkdlb40000gn/T/ipykernel_11204/2666686095.py:5: FutureWarning: The frame.append method is deprecated and will be removed from pandas in a future version. Use pandas.concat instead.\n",
      "  crossval_df = crossval_df.append(cross_validation(X_train, y_train, k, 5), ignore_index = True)\n",
      "/var/folders/0k/t_v9n_fd08b6ymg1f7lkdlb40000gn/T/ipykernel_11204/2666686095.py:5: FutureWarning: The frame.append method is deprecated and will be removed from pandas in a future version. Use pandas.concat instead.\n",
      "  crossval_df = crossval_df.append(cross_validation(X_train, y_train, k, 5), ignore_index = True)\n",
      "/var/folders/0k/t_v9n_fd08b6ymg1f7lkdlb40000gn/T/ipykernel_11204/2666686095.py:5: FutureWarning: The frame.append method is deprecated and will be removed from pandas in a future version. Use pandas.concat instead.\n",
      "  crossval_df = crossval_df.append(cross_validation(X_train, y_train, k, 5), ignore_index = True)\n",
      "/var/folders/0k/t_v9n_fd08b6ymg1f7lkdlb40000gn/T/ipykernel_11204/2666686095.py:5: FutureWarning: The frame.append method is deprecated and will be removed from pandas in a future version. Use pandas.concat instead.\n",
      "  crossval_df = crossval_df.append(cross_validation(X_train, y_train, k, 5), ignore_index = True)\n",
      "/var/folders/0k/t_v9n_fd08b6ymg1f7lkdlb40000gn/T/ipykernel_11204/2666686095.py:5: FutureWarning: The frame.append method is deprecated and will be removed from pandas in a future version. Use pandas.concat instead.\n",
      "  crossval_df = crossval_df.append(cross_validation(X_train, y_train, k, 5), ignore_index = True)\n",
      "/var/folders/0k/t_v9n_fd08b6ymg1f7lkdlb40000gn/T/ipykernel_11204/2666686095.py:5: FutureWarning: The frame.append method is deprecated and will be removed from pandas in a future version. Use pandas.concat instead.\n",
      "  crossval_df = crossval_df.append(cross_validation(X_train, y_train, k, 5), ignore_index = True)\n",
      "/var/folders/0k/t_v9n_fd08b6ymg1f7lkdlb40000gn/T/ipykernel_11204/2666686095.py:5: FutureWarning: The frame.append method is deprecated and will be removed from pandas in a future version. Use pandas.concat instead.\n",
      "  crossval_df = crossval_df.append(cross_validation(X_train, y_train, k, 5), ignore_index = True)\n",
      "/var/folders/0k/t_v9n_fd08b6ymg1f7lkdlb40000gn/T/ipykernel_11204/2666686095.py:5: FutureWarning: The frame.append method is deprecated and will be removed from pandas in a future version. Use pandas.concat instead.\n",
      "  crossval_df = crossval_df.append(cross_validation(X_train, y_train, k, 5), ignore_index = True)\n",
      "/var/folders/0k/t_v9n_fd08b6ymg1f7lkdlb40000gn/T/ipykernel_11204/2666686095.py:5: FutureWarning: The frame.append method is deprecated and will be removed from pandas in a future version. Use pandas.concat instead.\n",
      "  crossval_df = crossval_df.append(cross_validation(X_train, y_train, k, 5), ignore_index = True)\n",
      "/var/folders/0k/t_v9n_fd08b6ymg1f7lkdlb40000gn/T/ipykernel_11204/2666686095.py:5: FutureWarning: The frame.append method is deprecated and will be removed from pandas in a future version. Use pandas.concat instead.\n",
      "  crossval_df = crossval_df.append(cross_validation(X_train, y_train, k, 5), ignore_index = True)\n",
      "/var/folders/0k/t_v9n_fd08b6ymg1f7lkdlb40000gn/T/ipykernel_11204/2666686095.py:5: FutureWarning: The frame.append method is deprecated and will be removed from pandas in a future version. Use pandas.concat instead.\n",
      "  crossval_df = crossval_df.append(cross_validation(X_train, y_train, k, 5), ignore_index = True)\n",
      "/var/folders/0k/t_v9n_fd08b6ymg1f7lkdlb40000gn/T/ipykernel_11204/2666686095.py:5: FutureWarning: The frame.append method is deprecated and will be removed from pandas in a future version. Use pandas.concat instead.\n",
      "  crossval_df = crossval_df.append(cross_validation(X_train, y_train, k, 5), ignore_index = True)\n",
      "/var/folders/0k/t_v9n_fd08b6ymg1f7lkdlb40000gn/T/ipykernel_11204/2666686095.py:5: FutureWarning: The frame.append method is deprecated and will be removed from pandas in a future version. Use pandas.concat instead.\n",
      "  crossval_df = crossval_df.append(cross_validation(X_train, y_train, k, 5), ignore_index = True)\n",
      "/var/folders/0k/t_v9n_fd08b6ymg1f7lkdlb40000gn/T/ipykernel_11204/2666686095.py:5: FutureWarning: The frame.append method is deprecated and will be removed from pandas in a future version. Use pandas.concat instead.\n",
      "  crossval_df = crossval_df.append(cross_validation(X_train, y_train, k, 5), ignore_index = True)\n",
      "/var/folders/0k/t_v9n_fd08b6ymg1f7lkdlb40000gn/T/ipykernel_11204/2666686095.py:5: FutureWarning: The frame.append method is deprecated and will be removed from pandas in a future version. Use pandas.concat instead.\n",
      "  crossval_df = crossval_df.append(cross_validation(X_train, y_train, k, 5), ignore_index = True)\n",
      "/var/folders/0k/t_v9n_fd08b6ymg1f7lkdlb40000gn/T/ipykernel_11204/2666686095.py:5: FutureWarning: The frame.append method is deprecated and will be removed from pandas in a future version. Use pandas.concat instead.\n",
      "  crossval_df = crossval_df.append(cross_validation(X_train, y_train, k, 5), ignore_index = True)\n",
      "/var/folders/0k/t_v9n_fd08b6ymg1f7lkdlb40000gn/T/ipykernel_11204/2666686095.py:5: FutureWarning: The frame.append method is deprecated and will be removed from pandas in a future version. Use pandas.concat instead.\n",
      "  crossval_df = crossval_df.append(cross_validation(X_train, y_train, k, 5), ignore_index = True)\n"
     ]
    },
    {
     "name": "stderr",
     "output_type": "stream",
     "text": [
      "/var/folders/0k/t_v9n_fd08b6ymg1f7lkdlb40000gn/T/ipykernel_11204/2666686095.py:5: FutureWarning: The frame.append method is deprecated and will be removed from pandas in a future version. Use pandas.concat instead.\n",
      "  crossval_df = crossval_df.append(cross_validation(X_train, y_train, k, 5), ignore_index = True)\n",
      "/var/folders/0k/t_v9n_fd08b6ymg1f7lkdlb40000gn/T/ipykernel_11204/2666686095.py:5: FutureWarning: The frame.append method is deprecated and will be removed from pandas in a future version. Use pandas.concat instead.\n",
      "  crossval_df = crossval_df.append(cross_validation(X_train, y_train, k, 5), ignore_index = True)\n",
      "/var/folders/0k/t_v9n_fd08b6ymg1f7lkdlb40000gn/T/ipykernel_11204/2666686095.py:5: FutureWarning: The frame.append method is deprecated and will be removed from pandas in a future version. Use pandas.concat instead.\n",
      "  crossval_df = crossval_df.append(cross_validation(X_train, y_train, k, 5), ignore_index = True)\n",
      "/var/folders/0k/t_v9n_fd08b6ymg1f7lkdlb40000gn/T/ipykernel_11204/2666686095.py:5: FutureWarning: The frame.append method is deprecated and will be removed from pandas in a future version. Use pandas.concat instead.\n",
      "  crossval_df = crossval_df.append(cross_validation(X_train, y_train, k, 5), ignore_index = True)\n",
      "/var/folders/0k/t_v9n_fd08b6ymg1f7lkdlb40000gn/T/ipykernel_11204/2666686095.py:5: FutureWarning: The frame.append method is deprecated and will be removed from pandas in a future version. Use pandas.concat instead.\n",
      "  crossval_df = crossval_df.append(cross_validation(X_train, y_train, k, 5), ignore_index = True)\n",
      "/var/folders/0k/t_v9n_fd08b6ymg1f7lkdlb40000gn/T/ipykernel_11204/2666686095.py:5: FutureWarning: The frame.append method is deprecated and will be removed from pandas in a future version. Use pandas.concat instead.\n",
      "  crossval_df = crossval_df.append(cross_validation(X_train, y_train, k, 5), ignore_index = True)\n",
      "/var/folders/0k/t_v9n_fd08b6ymg1f7lkdlb40000gn/T/ipykernel_11204/2666686095.py:5: FutureWarning: The frame.append method is deprecated and will be removed from pandas in a future version. Use pandas.concat instead.\n",
      "  crossval_df = crossval_df.append(cross_validation(X_train, y_train, k, 5), ignore_index = True)\n",
      "/var/folders/0k/t_v9n_fd08b6ymg1f7lkdlb40000gn/T/ipykernel_11204/2666686095.py:5: FutureWarning: The frame.append method is deprecated and will be removed from pandas in a future version. Use pandas.concat instead.\n",
      "  crossval_df = crossval_df.append(cross_validation(X_train, y_train, k, 5), ignore_index = True)\n",
      "/var/folders/0k/t_v9n_fd08b6ymg1f7lkdlb40000gn/T/ipykernel_11204/2666686095.py:5: FutureWarning: The frame.append method is deprecated and will be removed from pandas in a future version. Use pandas.concat instead.\n",
      "  crossval_df = crossval_df.append(cross_validation(X_train, y_train, k, 5), ignore_index = True)\n"
     ]
    }
   ],
   "source": [
    "# empty dataframe\n",
    "crossval_df = pd.DataFrame(columns = ['k', 'train', 'validation']) # empty DF to the return of the cross_validation function\n",
    "# append results for each value of k\n",
    "for k in np.arange(1,100):\n",
    "    crossval_df = crossval_df.append(cross_validation(X_train, y_train, k, 5), ignore_index = True)"
   ]
  },
  {
   "cell_type": "code",
   "execution_count": 14,
   "id": "d746a71a",
   "metadata": {
    "cell_style": "split",
    "slideshow": {
     "slide_type": "slide"
    }
   },
   "outputs": [
    {
     "name": "stdout",
     "output_type": "stream",
     "text": [
      "<class 'pandas.core.frame.DataFrame'>\n",
      "RangeIndex: 99 entries, 0 to 98\n",
      "Data columns (total 3 columns):\n",
      " #   Column      Non-Null Count  Dtype \n",
      "---  ------      --------------  ----- \n",
      " 0   k           99 non-null     object\n",
      " 1   train       99 non-null     object\n",
      " 2   validation  99 non-null     object\n",
      "dtypes: object(3)\n",
      "memory usage: 2.4+ KB\n"
     ]
    }
   ],
   "source": [
    "crossval_df.info()"
   ]
  },
  {
   "cell_type": "code",
   "execution_count": 15,
   "id": "da1bba57",
   "metadata": {
    "cell_style": "split",
    "slideshow": {
     "slide_type": "fragment"
    }
   },
   "outputs": [
    {
     "data": {
      "image/png": "[encoded data removed]",
      "text/plain": [
       "<Figure size 432x288 with 1 Axes>"
      ]
     },
     "metadata": {
      "needs_background": "light"
     },
     "output_type": "display_data"
    }
   ],
   "source": [
    "fig, ax = plt.subplots()\n",
    "sns.lineplot(x = 'k', y = 'train', \n",
    "             data = crossval_df, \n",
    "             ax = ax, label = 'train')\n",
    "sns.lineplot(x = 'k', y = 'validation', \n",
    "             data = crossval_df,\n",
    "             ax = ax, label = 'validation')\n",
    "ax.set_ylabel('Accuracy')\n",
    "ax.set_title('5-fold CV tuning KNN')\n",
    "plt.show()\n",
    "# after 25-is (10-25 -balanced )the higher \n",
    "# underfit does bad on the train and test"
   ]
  },
  {
   "cell_type": "markdown",
   "id": "5297264d",
   "metadata": {
    "slideshow": {
     "slide_type": "fragment"
    }
   },
   "source": [
    "Some bias-variance tradeoff in action as a function of $k$."
   ]
  },
  {
   "cell_type": "code",
   "execution_count": 18,
   "id": "dcfc0083",
   "metadata": {
    "cell_style": "center",
    "slideshow": {
     "slide_type": "slide"
    }
   },
   "outputs": [
    {
     "data": {
      "text/plain": [
       "k                  4.0\n",
       "train         0.960629\n",
       "validation    0.953231\n",
       "Name: 3, dtype: object"
      ]
     },
     "execution_count": 18,
     "metadata": {},
     "output_type": "execute_result"
    }
   ],
   "source": [
    "# let's find our best performing k-value\n",
    "crossval_df['validation'] = pd.to_numeric(crossval_df['validation'])\n",
    "crossval_df.iloc[crossval_df['validation'].idxmax()]"
   ]
  },
  {
   "cell_type": "markdown",
   "id": "3f7305a1",
   "metadata": {
    "cell_style": "center",
    "slideshow": {
     "slide_type": "slide"
    }
   },
   "source": [
    "So we determined best estimator at $k = 4$:\n",
    "- Fit the full train set with estimator at this value of $k$.\n",
    "- Evaluate performance on true test/hold-out."
   ]
  },
  {
   "cell_type": "code",
   "execution_count": 19,
   "id": "7b10f7b8",
   "metadata": {
    "slideshow": {
     "slide_type": "fragment"
    }
   },
   "outputs": [],
   "source": [
    "fulltrain_scaler = StandardScaler()\n",
    "X_train_sc = fulltrain_scaler.fit_transform(X_train)\n",
    "X_test_sc = fulltrain_scaler.transform(X_test)\n",
    "\n",
    "best_estimator = KNeighborsClassifier(n_neighbors = 4)\n",
    "best_estimator.fit(X_train_sc, y_train)\n",
    "\n",
    "# get predictions\n",
    "y_pred = best_estimator.predict(X_test_sc)"
   ]
  },
  {
   "cell_type": "code",
   "execution_count": 20,
   "id": "4d70b2fb",
   "metadata": {
    "slideshow": {
     "slide_type": "slide"
    }
   },
   "outputs": [],
   "source": [
    "from sklearn.metrics import plot_confusion_matrix, ConfusionMatrixDisplay\n",
    "from sklearn.metrics import classification_report"
   ]
  },
  {
   "cell_type": "code",
   "execution_count": 21,
   "id": "77efc41a",
   "metadata": {
    "cell_style": "center",
    "slideshow": {
     "slide_type": "fragment"
    }
   },
   "outputs": [
    {
     "data": {
      "image/png": "[encoded data removed]",
      "text/plain": [
       "<Figure size 432x288 with 2 Axes>"
      ]
     },
     "metadata": {
      "needs_background": "light"
     },
     "output_type": "display_data"
    }
   ],
   "source": [
    "#plot_confusion_matrix(best_estimator, X_test_sc, y_test);\n",
    "ConfusionMatrixDisplay.from_estimator(best_estimator, X_test_sc, y_test);"
   ]
  },
  {
   "cell_type": "code",
   "execution_count": 22,
   "id": "1167306f",
   "metadata": {
    "scrolled": true,
    "slideshow": {
     "slide_type": "fragment"
    }
   },
   "outputs": [
    {
     "name": "stdout",
     "output_type": "stream",
     "text": [
      "              precision    recall  f1-score   support\n",
      "\n",
      "           0       1.00      1.00      1.00         7\n",
      "           1       0.88      0.88      0.88         8\n",
      "           2       0.88      0.88      0.88         8\n",
      "\n",
      "    accuracy                           0.91        23\n",
      "   macro avg       0.92      0.92      0.92        23\n",
      "weighted avg       0.91      0.91      0.91        23\n",
      "\n"
     ]
    }
   ],
   "source": [
    "print(classification_report(y_test, y_pred))"
   ]
  },
  {
   "cell_type": "markdown",
   "id": "7f0474b9",
   "metadata": {
    "slideshow": {
     "slide_type": "slide"
    }
   },
   "source": [
    "In 2D feature space: \n",
    "- visualize decision boundary\n",
    "- prediction space vs. actual data"
   ]
  },
  {
   "cell_type": "code",
   "execution_count": 23,
   "id": "84b4ca15",
   "metadata": {
    "scrolled": true,
    "slideshow": {
     "slide_type": "slide"
    }
   },
   "outputs": [
    {
     "data": {
      "image/png": "[encoded data removed]",
      "text/plain": [
       "<Figure size 432x288 with 1 Axes>"
      ]
     },
     "metadata": {
      "needs_background": "light"
     },
     "output_type": "display_data"
    }
   ],
   "source": [
    "# decision boundary , k=4\n",
    "X_full_sc = fulltrain_scaler.transform(X)\n",
    "x_min, x_max = X_full_sc[:, 0].min() - 1, X_full_sc[:, 0].max() + 1\n",
    "y_min, y_max = X_full_sc[:, 1].min() - 1, X_full_sc[:, 1].max() + 1\n",
    "xx, yy = np.meshgrid(np.arange(x_min, x_max, 0.1), np.arange(y_min, y_max, 0.1))\n",
    "\n",
    "f, ax = plt.subplots()\n",
    "\n",
    "Z = best_estimator.predict(np.c_[xx.ravel(), yy.ravel()])\n",
    "Z = Z.reshape(xx.shape)\n",
    "ax.contourf(xx, yy, Z, alpha=0.4)\n",
    "ax.scatter(X_full_sc[:, 0], X_full_sc[:, 1], c = y, s=30, edgecolor=\"k\")\n",
    "ax.set_xlabel('Sepal width [scaled]')\n",
    "ax.set_ylabel('Petal width [scaled]')\n",
    "ax.set_title('Decision Boundary: KNN (k = 4)')\n",
    "plt.show()"
   ]
  },
  {
   "cell_type": "markdown",
   "id": "4ec2c592",
   "metadata": {
    "slideshow": {
     "slide_type": "slide"
    }
   },
   "source": [
    "This is pretty decent and not too bad on the overfitting:\n",
    "- Given small dataset size\n",
    "- Some irregularities in decision boundary \n",
    "- Validation score as a function of $k$ (dependent on )\n",
    "    - Consider increasing $k$ a little."
   ]
  },
  {
   "cell_type": "markdown",
   "id": "5e2719b3",
   "metadata": {
    "slideshow": {
     "slide_type": "slide"
    }
   },
   "source": [
    "#### The effectiveness of the KNN classifier"
   ]
  },
  {
   "cell_type": "markdown",
   "id": "0804c2fb",
   "metadata": {
    "cell_style": "split",
    "slideshow": {
     "slide_type": "fragment"
    }
   },
   "source": [
    "- Naturally learns complex boundaries.\n",
    "- KNN can be prone to overfitting\n"
   ]
  },
  {
   "cell_type": "markdown",
   "id": "3a17ab9a",
   "metadata": {
    "cell_style": "split",
    "slideshow": {
     "slide_type": "fragment"
    }
   },
   "source": [
    "**Another less obvious point:**\n",
    "- Performance scales badly as the number of features get big\n"
   ]
  },
  {
   "cell_type": "markdown",
   "id": "a926740d",
   "metadata": {
    "slideshow": {
     "slide_type": "fragment"
    }
   },
   "source": [
    "Let's see why"
   ]
  },
  {
   "cell_type": "markdown",
   "id": "11b51dae",
   "metadata": {
    "slideshow": {
     "slide_type": "slide"
    }
   },
   "source": [
    "Take points in 2D:"
   ]
  },
  {
   "cell_type": "markdown",
   "id": "83a297bb",
   "metadata": {
    "slideshow": {
     "slide_type": "fragment"
    }
   },
   "source": [
    "<img src = \"Images/1dto2D_CoD.gif\" width = 500/>\n",
    "<center> Same number of points denser in 1D. </center>"
   ]
  },
  {
   "cell_type": "markdown",
   "id": "9786895b",
   "metadata": {
    "cell_style": "center",
    "slideshow": {
     "slide_type": "slide"
    }
   },
   "source": [
    "Extend 2D to 3D:\n",
    "- Number of points fixed\n",
    "- Random z-position selection within the cube\n",
    "- going from dense to sparse (increasing dimensionality , increases the sparsity, it increased the time )\n"
   ]
  },
  {
   "cell_type": "markdown",
   "id": "fb681a25",
   "metadata": {
    "cell_style": "split",
    "slideshow": {
     "slide_type": "fragment"
    }
   },
   "source": [
    "<img src = \"Images/2dto3d_CoD.gif\" width = 500/>\n",
    "<center> The density now?</center>"
   ]
  },
  {
   "cell_type": "markdown",
   "id": "6d9ed0a1",
   "metadata": {
    "cell_style": "split",
    "slideshow": {
     "slide_type": "slide"
    }
   },
   "source": [
    "Extend 3D to 4D (add time dimension):\n",
    "- Snapshots = 3D cross-section of 4D-cube.\n",
    "\n",
    "Visualize from 1D to 4D."
   ]
  },
  {
   "cell_type": "markdown",
   "id": "9188649a",
   "metadata": {
    "cell_style": "split",
    "slideshow": {
     "slide_type": "fragment"
    }
   },
   "source": [
    "<img src = \"Images/CoD.gif\" />"
   ]
  },
  {
   "cell_type": "markdown",
   "id": "2eaa88cf",
   "metadata": {
    "cell_style": "center",
    "slideshow": {
     "slide_type": "fragment"
    }
   },
   "source": [
    "As my dimensionality increases:\n",
    "\n",
    "- Neighbors get sparse.\n",
    "- volume scales **exponentially** with number of features."
   ]
  },
  {
   "cell_type": "markdown",
   "id": "d7ab2575",
   "metadata": {
    "cell_style": "center",
    "slideshow": {
     "slide_type": "slide"
    }
   },
   "source": [
    "Being more systematic:\n",
    "\n",
    "Volume of sphere in $M$ dimensions:\n",
    "\n",
    "$$ V_M(R) = \\frac{\\pi^{M/2}}{\\Gamma(\\frac{M}{2} + 1)}R^M $$"
   ]
  },
  {
   "cell_type": "code",
   "execution_count": 24,
   "id": "7b7a3b90",
   "metadata": {
    "cell_style": "center",
    "slideshow": {
     "slide_type": "fragment"
    }
   },
   "outputs": [],
   "source": [
    "from scipy.special import gamma\n",
    "\n",
    "def sphere_calc(m, R):\n",
    "    numerator = (R**m * np.pi**(m/2))\n",
    "    denom = gamma(m/2 + 1)\n",
    "    \n",
    "    return numerator/denom\n",
    "\n",
    "dim_list = pd.Series(np.arange(1,21))\n",
    "sph_vol_list = dim_list.map(lambda M: sphere_calc(M, 2)) # get +- 2 std of standardized variables"
   ]
  },
  {
   "cell_type": "markdown",
   "id": "5501dfe2",
   "metadata": {
    "cell_style": "center",
    "slideshow": {
     "slide_type": "slide"
    }
   },
   "source": [
    "Now if I have moderate sized dataset of $N = 5000$ points:\n",
    "- After variable standardization: ~ $\\pm 2 \\sigma$\n",
    "- Sphere of radius 2.\n",
    "- Let's see how the density scales: $$ \\rho = \\frac{N}{V_M(2)} $$"
   ]
  },
  {
   "cell_type": "code",
   "execution_count": 27,
   "id": "98ae2626",
   "metadata": {
    "cell_style": "split",
    "slideshow": {
     "slide_type": "slide"
    }
   },
   "outputs": [
    {
     "data": {
      "image/png": "[encoded data removed]",
      "text/plain": [
       "<Figure size 432x288 with 1 Axes>"
      ]
     },
     "metadata": {
      "needs_background": "light"
     },
     "output_type": "display_data"
    }
   ],
   "source": [
    "density_vs_dim = 5000/sph_vol_list\n",
    "fig, ax = plt.subplots()\n",
    "sns.lineplot(x = density_vs_dim.index, y = density_vs_dim.values, ax = ax)\n",
    "ax.set_ylabel('Point density')\n",
    "ax.set_xlabel('Number of Features')\n",
    "ax.set_title('Point density:  feature dimension scaling')\n",
    "plt.show()\n",
    "# the density exponentially decreased with increases the num. of features"
   ]
  },
  {
   "cell_type": "markdown",
   "id": "f4d8aa6c",
   "metadata": {
    "cell_style": "split",
    "slideshow": {
     "slide_type": "fragment"
    }
   },
   "source": [
    "Life is a lonely place at high dimension:\n",
    "- Unlikely to have a neighbor within a unit sphere at moderate to high dimensions\n"
   ]
  },
  {
   "cell_type": "code",
   "execution_count": 28,
   "id": "08fb6ba5",
   "metadata": {
    "cell_style": "split",
    "slideshow": {
     "slide_type": "fragment"
    }
   },
   "outputs": [
    {
     "data": {
      "text/plain": [
       "0    1250.000000\n",
       "1     397.887358\n",
       "2     149.207759\n",
       "3      63.325740\n",
       "4      29.683941\n",
       "5      15.117907\n",
       "6       8.267605\n",
       "7       4.812179\n",
       "8       2.960618\n",
       "9       1.914705\n",
       "dtype: float64"
      ]
     },
     "execution_count": 28,
     "metadata": {},
     "output_type": "execute_result"
    }
   ],
   "source": [
    "density_vs_dim.head(10)"
   ]
  },
  {
   "cell_type": "markdown",
   "id": "6cd8458d",
   "metadata": {
    "cell_style": "center",
    "slideshow": {
     "slide_type": "slide"
    }
   },
   "source": [
    "This affects all algorithms in small to mid-size problems:\n",
    "- Need good statistical sampling in feature space for training\n",
    "- Dataset become sparse in high dimension. Hard to do statistical learning."
   ]
  },
  {
   "cell_type": "markdown",
   "id": "0e70afc0",
   "metadata": {
    "slideshow": {
     "slide_type": "fragment"
    }
   },
   "source": [
    "**Local, distance based algorithms are especially affected by high D**\n",
    "- Classification built off point-by-point local consideration.\n",
    "- Nearest neighbors of a given point: very far away in feature space.\n",
    "- For each point: unreasonable to rely on tyranny of neighbors.\n",
    "\n",
    "Majority voting with KNN: starts to be a bad idea."
   ]
  },
  {
   "cell_type": "markdown",
   "id": "eb7868bd",
   "metadata": {
    "slideshow": {
     "slide_type": "slide"
    }
   },
   "source": [
    "**Solution**: Dimensionality reduction techniques (will talk about later)."
   ]
  },
  {
   "cell_type": "markdown",
   "id": "288e474e",
   "metadata": {
    "cell_style": "center",
    "slideshow": {
     "slide_type": "slide"
    }
   },
   "source": [
    "# Level Up: Distance Metrics\n",
    "> The \"closeness\" of data points → proxy for similarity"
   ]
  },
  {
   "cell_type": "markdown",
   "id": "7f31e829",
   "metadata": {
    "slideshow": {
     "slide_type": "slide"
    }
   },
   "source": [
    "![](./images/distance.png)"
   ]
  },
  {
   "cell_type": "markdown",
   "id": "7a596abe",
   "metadata": {
    "slideshow": {
     "slide_type": "slide"
    }
   },
   "source": [
    "- Minkowski: $dist(A,B) = (\\sum_{k=1}^{N} |a_k - b_k|^c)^\\frac{1}{c} $$\n",
    "\n",
    "\n",
    "\n",
    "- Manhattan: $dist(A,B) = \\sum_{k=1}^{N} |a_k - b_k|$\n",
    "\n",
    "\n",
    "\n",
    "- Euclidean: $dist(A,B) = \\sqrt{ \\sum_{k=1}^{N} (a_k - b_k)^2 }$"
   ]
  },
  {
   "cell_type": "markdown",
   "id": "a5e5b23e",
   "metadata": {
    "slideshow": {
     "slide_type": "fragment"
    }
   },
   "source": [
    "There are quite a few different distance metrics built-in for Scikit-learn: \n",
    "\n",
    "https://scikit-learn.org/stable/modules/generated/sklearn.metrics.DistanceMetric.html?highlight=distance#sklearn.metrics.DistanceMetric"
   ]
  },
  {
   "cell_type": "markdown",
   "id": "be7ebdd9",
   "metadata": {},
   "source": [
    "Pros and cons of distance metrics:\n",
    "\n",
    "https://towardsdatascience.com/9-distance-measures-in-data-science-918109d069fa"
   ]
  },
  {
   "cell_type": "code",
   "execution_count": null,
   "id": "4372ac78",
   "metadata": {},
   "outputs": [],
   "source": []
  }
 ],
 "metadata": {
  "kernelspec": {
   "display_name": "Python (myenv)",
   "language": "python",
   "name": "myenv"
  },
  "language_info": {
   "codemirror_mode": {
    "name": "ipython",
    "version": 3
   },
   "file_extension": ".py",
   "mimetype": "text/x-python",
   "name": "python",
   "nbconvert_exporter": "python",
   "pygments_lexer": "ipython3",
   "version": "3.9.12"
  }
 },
 "nbformat": 4,
 "nbformat_minor": 5
}
