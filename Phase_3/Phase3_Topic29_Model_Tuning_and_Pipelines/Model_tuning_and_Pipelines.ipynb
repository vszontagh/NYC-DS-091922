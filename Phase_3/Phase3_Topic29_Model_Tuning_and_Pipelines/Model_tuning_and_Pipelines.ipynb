{
 "cells": [
  {
   "cell_type": "markdown",
   "id": "6daf668b",
   "metadata": {
    "slideshow": {
     "slide_type": "slide"
    }
   },
   "source": [
    "<div style=\"color:white;\n",
    "           display:fill;\n",
    "           border-radius:5px;\n",
    "           background-color:#5642C5;\n",
    "           font-size:200%;\n",
    "           font-family:Arial;letter-spacing:0.5px\">\n",
    "\n",
    "<p width = 20%, style=\"padding: 10px;\n",
    "              color:white;\">\n",
    "Model Tuning\n",
    "              \n",
    "</p>\n",
    "</div>\n",
    "\n",
    "Data Science Cohort Live NYC Nov 2022\n",
    "<p>Phase 3: Topic 29</p>\n",
    "<br>\n",
    "<br>\n",
    "\n",
    "<div align = \"right\">\n",
    "<img src=\"Images/flatiron-school-logo.png\" align = \"right\" width=\"200\"/>\n",
    "</div>\n",
    "    \n",
    "    "
   ]
  },
  {
   "cell_type": "code",
   "execution_count": 1,
   "id": "fa35b8bf",
   "metadata": {
    "ExecuteTime": {
     "end_time": "2021-10-28T04:05:08.822957Z",
     "start_time": "2021-10-28T04:05:08.819534Z"
    },
    "slideshow": {
     "slide_type": "skip"
    }
   },
   "outputs": [],
   "source": [
    "import numpy as np\n",
    "import pandas as pd\n",
    "from matplotlib import pyplot as plt\n",
    "import seaborn as sns\n",
    "from scipy import stats as stats\n",
    "\n",
    "from sklearn.linear_model import LogisticRegression\n",
    "from sklearn.neighbors import KNeighborsClassifier\n",
    "from sklearn.tree import DecisionTreeClassifier\n",
    "\n",
    "from sklearn.metrics import precision_score, recall_score, plot_confusion_matrix, ConfusionMatrixDisplay\n",
    "from sklearn.model_selection import train_test_split, GridSearchCV,\\\n",
    "cross_val_score, RandomizedSearchCV\n",
    "\n",
    "from sklearn.preprocessing import OneHotEncoder, StandardScaler, Normalizer\n",
    "from sklearn.impute import SimpleImputer\n",
    "\n",
    "from sklearn.compose import ColumnTransformer"
   ]
  },
  {
   "cell_type": "markdown",
   "id": "87eef037",
   "metadata": {
    "cell_style": "split",
    "slideshow": {
     "slide_type": "slide"
    }
   },
   "source": [
    "#### Hyperparameters\n",
    "- Free knobs of a model used to **control the training process**."
   ]
  },
  {
   "cell_type": "markdown",
   "id": "7b7d47d4",
   "metadata": {
    "cell_style": "split",
    "slideshow": {
     "slide_type": "fragment"
    }
   },
   "source": [
    "<img src = \"Images\\levers.jpg\" width = 350/><center> Tuning your model!! </center>"
   ]
  },
  {
   "cell_type": "markdown",
   "id": "c513e58d",
   "metadata": {
    "cell_style": "split",
    "slideshow": {
     "slide_type": "fragment"
    }
   },
   "source": [
    "**Hyperparameters concerning the structure of cost function and model**"
   ]
  },
  {
   "cell_type": "markdown",
   "id": "9a1bd45a",
   "metadata": {
    "cell_style": "split",
    "heading_collapsed": true,
    "hidden": true,
    "slideshow": {
     "slide_type": "slide"
    }
   },
   "source": [
    "#### Hyperparameters\n",
    "- Free levers of a model used to **control the training process**.\n",
    "- $\\lambda$: the regularization parameter for $|\\textbf{w}|^2$ penalty.\n"
   ]
  },
  {
   "cell_type": "markdown",
   "id": "2dc2ec31",
   "metadata": {
    "cell_style": "split",
    "hidden": true,
    "slideshow": {
     "slide_type": "fragment"
    }
   },
   "source": [
    "#### Parameters\n",
    "\n",
    "- **Found by training the model**\n",
    "- Weights ($\\textbf{w}$, etc.): \n",
    "    Logistic Regression, Linear Regression\n"
   ]
  },
  {
   "cell_type": "markdown",
   "id": "fd3a274a",
   "metadata": {
    "cell_style": "split",
    "hidden": true,
    "slideshow": {
     "slide_type": "slide"
    }
   },
   "source": [
    "#### Hyperparameters\n",
    "- depth of decision tree\n",
    "- gini impurity or entropy?"
   ]
  },
  {
   "cell_type": "markdown",
   "id": "4574d72f",
   "metadata": {
    "cell_style": "split",
    "slideshow": {
     "slide_type": "fragment"
    }
   },
   "source": [
    "#### Parameters\n",
    "\n",
    "- Locations in feature space where splits were made"
   ]
  },
  {
   "cell_type": "markdown",
   "id": "84513692",
   "metadata": {
    "slideshow": {
     "slide_type": "fragment"
    }
   },
   "source": [
    "**Hyperparameters concerning the optimization process**"
   ]
  },
  {
   "cell_type": "markdown",
   "id": "3247fcc1",
   "metadata": {
    "cell_style": "split",
    "slideshow": {
     "slide_type": "slide"
    }
   },
   "source": [
    "- Can help get to solutions faster\n",
    "- Get *better* convergence to cost function minimum"
   ]
  },
  {
   "cell_type": "markdown",
   "id": "814f1b23",
   "metadata": {
    "cell_style": "split",
    "slideshow": {
     "slide_type": "fragment"
    }
   },
   "source": [
    "**Solvers for Logistic regression**: variants of gradient descent.\n",
    "\n",
    "- lbfgs (variant of Newton method)\n",
    "    - accounts for concavity of cost function\n",
    "- sag (Stochastic Gradient Descent)\n",
    "    - fast convergence\n",
    "    - excellent for larger number of samples\n",
    "- liblinear (Coordinate Descent)\n",
    "    - better for larger number of features / columns\n",
    "\n"
   ]
  },
  {
   "cell_type": "markdown",
   "id": "df8e81ec",
   "metadata": {
    "cell_style": "center",
    "hidden": true,
    "slideshow": {
     "slide_type": "slide"
    }
   },
   "source": [
    "Depending on the sort of problem and data:\n",
    "- experiment with different values of these hyperparameters\n",
    "- improve model performance."
   ]
  },
  {
   "cell_type": "markdown",
   "id": "e27b7947",
   "metadata": {
    "slideshow": {
     "slide_type": "slide"
    }
   },
   "source": [
    "Running through the entire process of train/test splitting and cross-validation yet again:"
   ]
  },
  {
   "cell_type": "markdown",
   "id": "f4b2a4b7",
   "metadata": {
    "slideshow": {
     "slide_type": "slide"
    }
   },
   "source": [
    "Load iris data"
   ]
  },
  {
   "cell_type": "code",
   "execution_count": 2,
   "id": "1b761f1a",
   "metadata": {
    "slideshow": {
     "slide_type": "fragment"
    }
   },
   "outputs": [
    {
     "data": {
      "text/html": [
       "<div>\n",
       "<style scoped>\n",
       "    .dataframe tbody tr th:only-of-type {\n",
       "        vertical-align: middle;\n",
       "    }\n",
       "\n",
       "    .dataframe tbody tr th {\n",
       "        vertical-align: top;\n",
       "    }\n",
       "\n",
       "    .dataframe thead th {\n",
       "        text-align: right;\n",
       "    }\n",
       "</style>\n",
       "<table border=\"1\" class=\"dataframe\">\n",
       "  <thead>\n",
       "    <tr style=\"text-align: right;\">\n",
       "      <th></th>\n",
       "      <th>SepalLengthCm</th>\n",
       "      <th>SepalWidthCm</th>\n",
       "      <th>PetalLengthCm</th>\n",
       "      <th>PetalWidthCm</th>\n",
       "      <th>Species</th>\n",
       "    </tr>\n",
       "  </thead>\n",
       "  <tbody>\n",
       "    <tr>\n",
       "      <th>0</th>\n",
       "      <td>5.1</td>\n",
       "      <td>3.5</td>\n",
       "      <td>1.4</td>\n",
       "      <td>0.2</td>\n",
       "      <td>Iris-setosa</td>\n",
       "    </tr>\n",
       "    <tr>\n",
       "      <th>1</th>\n",
       "      <td>4.9</td>\n",
       "      <td>3.0</td>\n",
       "      <td>1.4</td>\n",
       "      <td>0.2</td>\n",
       "      <td>Iris-setosa</td>\n",
       "    </tr>\n",
       "    <tr>\n",
       "      <th>2</th>\n",
       "      <td>4.7</td>\n",
       "      <td>3.2</td>\n",
       "      <td>1.3</td>\n",
       "      <td>0.2</td>\n",
       "      <td>Iris-setosa</td>\n",
       "    </tr>\n",
       "    <tr>\n",
       "      <th>3</th>\n",
       "      <td>4.6</td>\n",
       "      <td>3.1</td>\n",
       "      <td>1.5</td>\n",
       "      <td>0.2</td>\n",
       "      <td>Iris-setosa</td>\n",
       "    </tr>\n",
       "    <tr>\n",
       "      <th>4</th>\n",
       "      <td>5.0</td>\n",
       "      <td>3.6</td>\n",
       "      <td>1.4</td>\n",
       "      <td>0.2</td>\n",
       "      <td>Iris-setosa</td>\n",
       "    </tr>\n",
       "  </tbody>\n",
       "</table>\n",
       "</div>"
      ],
      "text/plain": [
       "   SepalLengthCm  SepalWidthCm  PetalLengthCm  PetalWidthCm      Species\n",
       "0            5.1           3.5            1.4           0.2  Iris-setosa\n",
       "1            4.9           3.0            1.4           0.2  Iris-setosa\n",
       "2            4.7           3.2            1.3           0.2  Iris-setosa\n",
       "3            4.6           3.1            1.5           0.2  Iris-setosa\n",
       "4            5.0           3.6            1.4           0.2  Iris-setosa"
      ]
     },
     "execution_count": 2,
     "metadata": {},
     "output_type": "execute_result"
    }
   ],
   "source": [
    "iris_df = pd.read_csv('Data/Iris.csv').drop(columns = ['Id'])\n",
    "iris_df.head()"
   ]
  },
  {
   "cell_type": "markdown",
   "id": "07730754",
   "metadata": {
    "slideshow": {
     "slide_type": "slide"
    }
   },
   "source": [
    "Label encode the target class"
   ]
  },
  {
   "cell_type": "code",
   "execution_count": 3,
   "id": "337a455a",
   "metadata": {
    "slideshow": {
     "slide_type": "fragment"
    }
   },
   "outputs": [
    {
     "data": {
      "text/html": [
       "<div>\n",
       "<style scoped>\n",
       "    .dataframe tbody tr th:only-of-type {\n",
       "        vertical-align: middle;\n",
       "    }\n",
       "\n",
       "    .dataframe tbody tr th {\n",
       "        vertical-align: top;\n",
       "    }\n",
       "\n",
       "    .dataframe thead th {\n",
       "        text-align: right;\n",
       "    }\n",
       "</style>\n",
       "<table border=\"1\" class=\"dataframe\">\n",
       "  <thead>\n",
       "    <tr style=\"text-align: right;\">\n",
       "      <th></th>\n",
       "      <th>SepalLengthCm</th>\n",
       "      <th>SepalWidthCm</th>\n",
       "      <th>PetalLengthCm</th>\n",
       "      <th>PetalWidthCm</th>\n",
       "      <th>Species</th>\n",
       "    </tr>\n",
       "  </thead>\n",
       "  <tbody>\n",
       "    <tr>\n",
       "      <th>0</th>\n",
       "      <td>5.1</td>\n",
       "      <td>3.5</td>\n",
       "      <td>1.4</td>\n",
       "      <td>0.2</td>\n",
       "      <td>0</td>\n",
       "    </tr>\n",
       "    <tr>\n",
       "      <th>1</th>\n",
       "      <td>4.9</td>\n",
       "      <td>3.0</td>\n",
       "      <td>1.4</td>\n",
       "      <td>0.2</td>\n",
       "      <td>0</td>\n",
       "    </tr>\n",
       "    <tr>\n",
       "      <th>2</th>\n",
       "      <td>4.7</td>\n",
       "      <td>3.2</td>\n",
       "      <td>1.3</td>\n",
       "      <td>0.2</td>\n",
       "      <td>0</td>\n",
       "    </tr>\n",
       "    <tr>\n",
       "      <th>3</th>\n",
       "      <td>4.6</td>\n",
       "      <td>3.1</td>\n",
       "      <td>1.5</td>\n",
       "      <td>0.2</td>\n",
       "      <td>0</td>\n",
       "    </tr>\n",
       "    <tr>\n",
       "      <th>4</th>\n",
       "      <td>5.0</td>\n",
       "      <td>3.6</td>\n",
       "      <td>1.4</td>\n",
       "      <td>0.2</td>\n",
       "      <td>0</td>\n",
       "    </tr>\n",
       "  </tbody>\n",
       "</table>\n",
       "</div>"
      ],
      "text/plain": [
       "   SepalLengthCm  SepalWidthCm  PetalLengthCm  PetalWidthCm  Species\n",
       "0            5.1           3.5            1.4           0.2        0\n",
       "1            4.9           3.0            1.4           0.2        0\n",
       "2            4.7           3.2            1.3           0.2        0\n",
       "3            4.6           3.1            1.5           0.2        0\n",
       "4            5.0           3.6            1.4           0.2        0"
      ]
     },
     "execution_count": 3,
     "metadata": {},
     "output_type": "execute_result"
    }
   ],
   "source": [
    "from sklearn.preprocessing import LabelEncoder\n",
    "target_transform = LabelEncoder()\n",
    "iris_df['Species'] = target_transform.fit_transform(iris_df['Species'])\n",
    "iris_df.head()"
   ]
  },
  {
   "cell_type": "markdown",
   "id": "2ac31a76",
   "metadata": {
    "slideshow": {
     "slide_type": "slide"
    }
   },
   "source": [
    "Select two of the features and the target. Features are not obviously separable.\n",
    "- Tuning will be important."
   ]
  },
  {
   "cell_type": "code",
   "execution_count": 4,
   "id": "0f8148f7",
   "metadata": {
    "cell_style": "split",
    "slideshow": {
     "slide_type": "fragment"
    }
   },
   "outputs": [],
   "source": [
    "col_list = ['SepalWidthCm', 'SepalLengthCm']\n",
    "X = iris_df[col_list]\n",
    "y = iris_df['Species']"
   ]
  },
  {
   "cell_type": "code",
   "execution_count": 5,
   "id": "897e29f1",
   "metadata": {
    "cell_style": "split",
    "scrolled": false,
    "slideshow": {
     "slide_type": "fragment"
    }
   },
   "outputs": [
    {
     "data": {
      "image/png": "[encoded data removed]",
      "text/plain": [
       "<Figure size 406.375x360 with 6 Axes>"
      ]
     },
     "metadata": {
      "needs_background": "light"
     },
     "output_type": "display_data"
    }
   ],
   "source": [
    "sns.pairplot(hue = 'Species', \n",
    "             vars = col_list,\n",
    "             data = iris_df)\n",
    "plt.show()"
   ]
  },
  {
   "cell_type": "markdown",
   "id": "a6f8d7b1",
   "metadata": {
    "slideshow": {
     "slide_type": "slide"
    }
   },
   "source": [
    "Now, before doing anything: Train/test split!"
   ]
  },
  {
   "cell_type": "code",
   "execution_count": 6,
   "id": "6fd60505",
   "metadata": {
    "cell_style": "center",
    "slideshow": {
     "slide_type": "fragment"
    }
   },
   "outputs": [],
   "source": [
    "# shuffle and split, stratify keeps target distribution same in train/test\n",
    "X_train, X_test, y_train, y_test = train_test_split(X, y, stratify = y, test_size = 0.15, random_state = 42)"
   ]
  },
  {
   "cell_type": "code",
   "execution_count": 7,
   "id": "434563a2",
   "metadata": {
    "slideshow": {
     "slide_type": "slide"
    }
   },
   "outputs": [],
   "source": [
    "from sklearn.model_selection import KFold # cross validation without data leakage\n",
    "from sklearn.preprocessing import StandardScaler\n",
    "from sklearn.neighbors import KNeighborsClassifier\n",
    "from sklearn.metrics import precision_score, recall_score, f1_score, accuracy_score, classification_report"
   ]
  },
  {
   "cell_type": "code",
   "execution_count": 8,
   "id": "bed132bb",
   "metadata": {
    "cell_style": "center",
    "scrolled": false,
    "slideshow": {
     "slide_type": "slide"
    }
   },
   "outputs": [],
   "source": [
    "def cross_validation(X_train, y_train, k, num_split = 10):\n",
    "    \n",
    "    X_train = X_train.values\n",
    "    y_train = y_train.values\n",
    "    \n",
    "    score_train_list = []\n",
    "    score_val_list = []\n",
    "    \n",
    "    for train_index, valid_index in KFold(n_splits = num_split).split(X_train):\n",
    "        # train and validation splitting \n",
    "        X_train_fold, X_val_fold = X_train[train_index], X_train[valid_index]\n",
    "        y_train_fold, y_val_fold = y_train[train_index], y_train[valid_index]\n",
    "\n",
    "        #create/fit the Standard scaler on the train fold\n",
    "        scaler = StandardScaler()\n",
    "        X_tf_sc = scaler.fit_transform(X_train_fold)\n",
    "        # transform validation fold\n",
    "        X_vld_sc = scaler.transform(X_val_fold)\n",
    "\n",
    "        # create/fit knearest neighbor\n",
    "        knn = KNeighborsClassifier(n_neighbors = k)\n",
    "        knn.fit(X_tf_sc, y_train_fold)\n",
    "        \n",
    "        # now how did we do?\n",
    "        accuracy_train = knn.score(X_tf_sc, y_train_fold)\n",
    "        accuracy_val = knn.score(X_vld_sc, y_val_fold)\n",
    "        score_val_list.append(accuracy_val)\n",
    "        score_train_list.append(accuracy_train)\n",
    "    \n",
    "    return {'k': k, 'train': np.mean(score_train_list), 'validation': np.mean(score_val_list)}"
   ]
  },
  {
   "cell_type": "markdown",
   "id": "906f5114",
   "metadata": {
    "slideshow": {
     "slide_type": "slide"
    }
   },
   "source": [
    "Now for tuning parameters need to loop:"
   ]
  },
  {
   "cell_type": "code",
   "execution_count": 9,
   "id": "07ed06d5",
   "metadata": {
    "slideshow": {
     "slide_type": "fragment"
    }
   },
   "outputs": [
    {
     "name": "stderr",
     "output_type": "stream",
     "text": [
      "/var/folders/0k/t_v9n_fd08b6ymg1f7lkdlb40000gn/T/ipykernel_12745/1252391055.py:5: FutureWarning: The frame.append method is deprecated and will be removed from pandas in a future version. Use pandas.concat instead.\n",
      "  crossval_df = crossval_df.append(cross_validation(X_train, y_train, k, 5), ignore_index = True)\n",
      "/var/folders/0k/t_v9n_fd08b6ymg1f7lkdlb40000gn/T/ipykernel_12745/1252391055.py:5: FutureWarning: The frame.append method is deprecated and will be removed from pandas in a future version. Use pandas.concat instead.\n",
      "  crossval_df = crossval_df.append(cross_validation(X_train, y_train, k, 5), ignore_index = True)\n",
      "/var/folders/0k/t_v9n_fd08b6ymg1f7lkdlb40000gn/T/ipykernel_12745/1252391055.py:5: FutureWarning: The frame.append method is deprecated and will be removed from pandas in a future version. Use pandas.concat instead.\n",
      "  crossval_df = crossval_df.append(cross_validation(X_train, y_train, k, 5), ignore_index = True)\n",
      "/var/folders/0k/t_v9n_fd08b6ymg1f7lkdlb40000gn/T/ipykernel_12745/1252391055.py:5: FutureWarning: The frame.append method is deprecated and will be removed from pandas in a future version. Use pandas.concat instead.\n",
      "  crossval_df = crossval_df.append(cross_validation(X_train, y_train, k, 5), ignore_index = True)\n",
      "/var/folders/0k/t_v9n_fd08b6ymg1f7lkdlb40000gn/T/ipykernel_12745/1252391055.py:5: FutureWarning: The frame.append method is deprecated and will be removed from pandas in a future version. Use pandas.concat instead.\n",
      "  crossval_df = crossval_df.append(cross_validation(X_train, y_train, k, 5), ignore_index = True)\n",
      "/var/folders/0k/t_v9n_fd08b6ymg1f7lkdlb40000gn/T/ipykernel_12745/1252391055.py:5: FutureWarning: The frame.append method is deprecated and will be removed from pandas in a future version. Use pandas.concat instead.\n",
      "  crossval_df = crossval_df.append(cross_validation(X_train, y_train, k, 5), ignore_index = True)\n",
      "/var/folders/0k/t_v9n_fd08b6ymg1f7lkdlb40000gn/T/ipykernel_12745/1252391055.py:5: FutureWarning: The frame.append method is deprecated and will be removed from pandas in a future version. Use pandas.concat instead.\n",
      "  crossval_df = crossval_df.append(cross_validation(X_train, y_train, k, 5), ignore_index = True)\n",
      "/var/folders/0k/t_v9n_fd08b6ymg1f7lkdlb40000gn/T/ipykernel_12745/1252391055.py:5: FutureWarning: The frame.append method is deprecated and will be removed from pandas in a future version. Use pandas.concat instead.\n",
      "  crossval_df = crossval_df.append(cross_validation(X_train, y_train, k, 5), ignore_index = True)\n",
      "/var/folders/0k/t_v9n_fd08b6ymg1f7lkdlb40000gn/T/ipykernel_12745/1252391055.py:5: FutureWarning: The frame.append method is deprecated and will be removed from pandas in a future version. Use pandas.concat instead.\n",
      "  crossval_df = crossval_df.append(cross_validation(X_train, y_train, k, 5), ignore_index = True)\n",
      "/var/folders/0k/t_v9n_fd08b6ymg1f7lkdlb40000gn/T/ipykernel_12745/1252391055.py:5: FutureWarning: The frame.append method is deprecated and will be removed from pandas in a future version. Use pandas.concat instead.\n",
      "  crossval_df = crossval_df.append(cross_validation(X_train, y_train, k, 5), ignore_index = True)\n",
      "/var/folders/0k/t_v9n_fd08b6ymg1f7lkdlb40000gn/T/ipykernel_12745/1252391055.py:5: FutureWarning: The frame.append method is deprecated and will be removed from pandas in a future version. Use pandas.concat instead.\n",
      "  crossval_df = crossval_df.append(cross_validation(X_train, y_train, k, 5), ignore_index = True)\n",
      "/var/folders/0k/t_v9n_fd08b6ymg1f7lkdlb40000gn/T/ipykernel_12745/1252391055.py:5: FutureWarning: The frame.append method is deprecated and will be removed from pandas in a future version. Use pandas.concat instead.\n",
      "  crossval_df = crossval_df.append(cross_validation(X_train, y_train, k, 5), ignore_index = True)\n",
      "/var/folders/0k/t_v9n_fd08b6ymg1f7lkdlb40000gn/T/ipykernel_12745/1252391055.py:5: FutureWarning: The frame.append method is deprecated and will be removed from pandas in a future version. Use pandas.concat instead.\n",
      "  crossval_df = crossval_df.append(cross_validation(X_train, y_train, k, 5), ignore_index = True)\n",
      "/var/folders/0k/t_v9n_fd08b6ymg1f7lkdlb40000gn/T/ipykernel_12745/1252391055.py:5: FutureWarning: The frame.append method is deprecated and will be removed from pandas in a future version. Use pandas.concat instead.\n",
      "  crossval_df = crossval_df.append(cross_validation(X_train, y_train, k, 5), ignore_index = True)\n",
      "/var/folders/0k/t_v9n_fd08b6ymg1f7lkdlb40000gn/T/ipykernel_12745/1252391055.py:5: FutureWarning: The frame.append method is deprecated and will be removed from pandas in a future version. Use pandas.concat instead.\n",
      "  crossval_df = crossval_df.append(cross_validation(X_train, y_train, k, 5), ignore_index = True)\n",
      "/var/folders/0k/t_v9n_fd08b6ymg1f7lkdlb40000gn/T/ipykernel_12745/1252391055.py:5: FutureWarning: The frame.append method is deprecated and will be removed from pandas in a future version. Use pandas.concat instead.\n",
      "  crossval_df = crossval_df.append(cross_validation(X_train, y_train, k, 5), ignore_index = True)\n",
      "/var/folders/0k/t_v9n_fd08b6ymg1f7lkdlb40000gn/T/ipykernel_12745/1252391055.py:5: FutureWarning: The frame.append method is deprecated and will be removed from pandas in a future version. Use pandas.concat instead.\n",
      "  crossval_df = crossval_df.append(cross_validation(X_train, y_train, k, 5), ignore_index = True)\n",
      "/var/folders/0k/t_v9n_fd08b6ymg1f7lkdlb40000gn/T/ipykernel_12745/1252391055.py:5: FutureWarning: The frame.append method is deprecated and will be removed from pandas in a future version. Use pandas.concat instead.\n",
      "  crossval_df = crossval_df.append(cross_validation(X_train, y_train, k, 5), ignore_index = True)\n",
      "/var/folders/0k/t_v9n_fd08b6ymg1f7lkdlb40000gn/T/ipykernel_12745/1252391055.py:5: FutureWarning: The frame.append method is deprecated and will be removed from pandas in a future version. Use pandas.concat instead.\n",
      "  crossval_df = crossval_df.append(cross_validation(X_train, y_train, k, 5), ignore_index = True)\n",
      "/var/folders/0k/t_v9n_fd08b6ymg1f7lkdlb40000gn/T/ipykernel_12745/1252391055.py:5: FutureWarning: The frame.append method is deprecated and will be removed from pandas in a future version. Use pandas.concat instead.\n",
      "  crossval_df = crossval_df.append(cross_validation(X_train, y_train, k, 5), ignore_index = True)\n",
      "/var/folders/0k/t_v9n_fd08b6ymg1f7lkdlb40000gn/T/ipykernel_12745/1252391055.py:5: FutureWarning: The frame.append method is deprecated and will be removed from pandas in a future version. Use pandas.concat instead.\n",
      "  crossval_df = crossval_df.append(cross_validation(X_train, y_train, k, 5), ignore_index = True)\n",
      "/var/folders/0k/t_v9n_fd08b6ymg1f7lkdlb40000gn/T/ipykernel_12745/1252391055.py:5: FutureWarning: The frame.append method is deprecated and will be removed from pandas in a future version. Use pandas.concat instead.\n",
      "  crossval_df = crossval_df.append(cross_validation(X_train, y_train, k, 5), ignore_index = True)\n",
      "/var/folders/0k/t_v9n_fd08b6ymg1f7lkdlb40000gn/T/ipykernel_12745/1252391055.py:5: FutureWarning: The frame.append method is deprecated and will be removed from pandas in a future version. Use pandas.concat instead.\n",
      "  crossval_df = crossval_df.append(cross_validation(X_train, y_train, k, 5), ignore_index = True)\n",
      "/var/folders/0k/t_v9n_fd08b6ymg1f7lkdlb40000gn/T/ipykernel_12745/1252391055.py:5: FutureWarning: The frame.append method is deprecated and will be removed from pandas in a future version. Use pandas.concat instead.\n",
      "  crossval_df = crossval_df.append(cross_validation(X_train, y_train, k, 5), ignore_index = True)\n",
      "/var/folders/0k/t_v9n_fd08b6ymg1f7lkdlb40000gn/T/ipykernel_12745/1252391055.py:5: FutureWarning: The frame.append method is deprecated and will be removed from pandas in a future version. Use pandas.concat instead.\n",
      "  crossval_df = crossval_df.append(cross_validation(X_train, y_train, k, 5), ignore_index = True)\n",
      "/var/folders/0k/t_v9n_fd08b6ymg1f7lkdlb40000gn/T/ipykernel_12745/1252391055.py:5: FutureWarning: The frame.append method is deprecated and will be removed from pandas in a future version. Use pandas.concat instead.\n",
      "  crossval_df = crossval_df.append(cross_validation(X_train, y_train, k, 5), ignore_index = True)\n",
      "/var/folders/0k/t_v9n_fd08b6ymg1f7lkdlb40000gn/T/ipykernel_12745/1252391055.py:5: FutureWarning: The frame.append method is deprecated and will be removed from pandas in a future version. Use pandas.concat instead.\n",
      "  crossval_df = crossval_df.append(cross_validation(X_train, y_train, k, 5), ignore_index = True)\n",
      "/var/folders/0k/t_v9n_fd08b6ymg1f7lkdlb40000gn/T/ipykernel_12745/1252391055.py:5: FutureWarning: The frame.append method is deprecated and will be removed from pandas in a future version. Use pandas.concat instead.\n",
      "  crossval_df = crossval_df.append(cross_validation(X_train, y_train, k, 5), ignore_index = True)\n",
      "/var/folders/0k/t_v9n_fd08b6ymg1f7lkdlb40000gn/T/ipykernel_12745/1252391055.py:5: FutureWarning: The frame.append method is deprecated and will be removed from pandas in a future version. Use pandas.concat instead.\n",
      "  crossval_df = crossval_df.append(cross_validation(X_train, y_train, k, 5), ignore_index = True)\n",
      "/var/folders/0k/t_v9n_fd08b6ymg1f7lkdlb40000gn/T/ipykernel_12745/1252391055.py:5: FutureWarning: The frame.append method is deprecated and will be removed from pandas in a future version. Use pandas.concat instead.\n",
      "  crossval_df = crossval_df.append(cross_validation(X_train, y_train, k, 5), ignore_index = True)\n",
      "/var/folders/0k/t_v9n_fd08b6ymg1f7lkdlb40000gn/T/ipykernel_12745/1252391055.py:5: FutureWarning: The frame.append method is deprecated and will be removed from pandas in a future version. Use pandas.concat instead.\n",
      "  crossval_df = crossval_df.append(cross_validation(X_train, y_train, k, 5), ignore_index = True)\n"
     ]
    },
    {
     "name": "stderr",
     "output_type": "stream",
     "text": [
      "/var/folders/0k/t_v9n_fd08b6ymg1f7lkdlb40000gn/T/ipykernel_12745/1252391055.py:5: FutureWarning: The frame.append method is deprecated and will be removed from pandas in a future version. Use pandas.concat instead.\n",
      "  crossval_df = crossval_df.append(cross_validation(X_train, y_train, k, 5), ignore_index = True)\n",
      "/var/folders/0k/t_v9n_fd08b6ymg1f7lkdlb40000gn/T/ipykernel_12745/1252391055.py:5: FutureWarning: The frame.append method is deprecated and will be removed from pandas in a future version. Use pandas.concat instead.\n",
      "  crossval_df = crossval_df.append(cross_validation(X_train, y_train, k, 5), ignore_index = True)\n",
      "/var/folders/0k/t_v9n_fd08b6ymg1f7lkdlb40000gn/T/ipykernel_12745/1252391055.py:5: FutureWarning: The frame.append method is deprecated and will be removed from pandas in a future version. Use pandas.concat instead.\n",
      "  crossval_df = crossval_df.append(cross_validation(X_train, y_train, k, 5), ignore_index = True)\n",
      "/var/folders/0k/t_v9n_fd08b6ymg1f7lkdlb40000gn/T/ipykernel_12745/1252391055.py:5: FutureWarning: The frame.append method is deprecated and will be removed from pandas in a future version. Use pandas.concat instead.\n",
      "  crossval_df = crossval_df.append(cross_validation(X_train, y_train, k, 5), ignore_index = True)\n",
      "/var/folders/0k/t_v9n_fd08b6ymg1f7lkdlb40000gn/T/ipykernel_12745/1252391055.py:5: FutureWarning: The frame.append method is deprecated and will be removed from pandas in a future version. Use pandas.concat instead.\n",
      "  crossval_df = crossval_df.append(cross_validation(X_train, y_train, k, 5), ignore_index = True)\n",
      "/var/folders/0k/t_v9n_fd08b6ymg1f7lkdlb40000gn/T/ipykernel_12745/1252391055.py:5: FutureWarning: The frame.append method is deprecated and will be removed from pandas in a future version. Use pandas.concat instead.\n",
      "  crossval_df = crossval_df.append(cross_validation(X_train, y_train, k, 5), ignore_index = True)\n",
      "/var/folders/0k/t_v9n_fd08b6ymg1f7lkdlb40000gn/T/ipykernel_12745/1252391055.py:5: FutureWarning: The frame.append method is deprecated and will be removed from pandas in a future version. Use pandas.concat instead.\n",
      "  crossval_df = crossval_df.append(cross_validation(X_train, y_train, k, 5), ignore_index = True)\n",
      "/var/folders/0k/t_v9n_fd08b6ymg1f7lkdlb40000gn/T/ipykernel_12745/1252391055.py:5: FutureWarning: The frame.append method is deprecated and will be removed from pandas in a future version. Use pandas.concat instead.\n",
      "  crossval_df = crossval_df.append(cross_validation(X_train, y_train, k, 5), ignore_index = True)\n",
      "/var/folders/0k/t_v9n_fd08b6ymg1f7lkdlb40000gn/T/ipykernel_12745/1252391055.py:5: FutureWarning: The frame.append method is deprecated and will be removed from pandas in a future version. Use pandas.concat instead.\n",
      "  crossval_df = crossval_df.append(cross_validation(X_train, y_train, k, 5), ignore_index = True)\n",
      "/var/folders/0k/t_v9n_fd08b6ymg1f7lkdlb40000gn/T/ipykernel_12745/1252391055.py:5: FutureWarning: The frame.append method is deprecated and will be removed from pandas in a future version. Use pandas.concat instead.\n",
      "  crossval_df = crossval_df.append(cross_validation(X_train, y_train, k, 5), ignore_index = True)\n",
      "/var/folders/0k/t_v9n_fd08b6ymg1f7lkdlb40000gn/T/ipykernel_12745/1252391055.py:5: FutureWarning: The frame.append method is deprecated and will be removed from pandas in a future version. Use pandas.concat instead.\n",
      "  crossval_df = crossval_df.append(cross_validation(X_train, y_train, k, 5), ignore_index = True)\n",
      "/var/folders/0k/t_v9n_fd08b6ymg1f7lkdlb40000gn/T/ipykernel_12745/1252391055.py:5: FutureWarning: The frame.append method is deprecated and will be removed from pandas in a future version. Use pandas.concat instead.\n",
      "  crossval_df = crossval_df.append(cross_validation(X_train, y_train, k, 5), ignore_index = True)\n",
      "/var/folders/0k/t_v9n_fd08b6ymg1f7lkdlb40000gn/T/ipykernel_12745/1252391055.py:5: FutureWarning: The frame.append method is deprecated and will be removed from pandas in a future version. Use pandas.concat instead.\n",
      "  crossval_df = crossval_df.append(cross_validation(X_train, y_train, k, 5), ignore_index = True)\n",
      "/var/folders/0k/t_v9n_fd08b6ymg1f7lkdlb40000gn/T/ipykernel_12745/1252391055.py:5: FutureWarning: The frame.append method is deprecated and will be removed from pandas in a future version. Use pandas.concat instead.\n",
      "  crossval_df = crossval_df.append(cross_validation(X_train, y_train, k, 5), ignore_index = True)\n",
      "/var/folders/0k/t_v9n_fd08b6ymg1f7lkdlb40000gn/T/ipykernel_12745/1252391055.py:5: FutureWarning: The frame.append method is deprecated and will be removed from pandas in a future version. Use pandas.concat instead.\n",
      "  crossval_df = crossval_df.append(cross_validation(X_train, y_train, k, 5), ignore_index = True)\n",
      "/var/folders/0k/t_v9n_fd08b6ymg1f7lkdlb40000gn/T/ipykernel_12745/1252391055.py:5: FutureWarning: The frame.append method is deprecated and will be removed from pandas in a future version. Use pandas.concat instead.\n",
      "  crossval_df = crossval_df.append(cross_validation(X_train, y_train, k, 5), ignore_index = True)\n",
      "/var/folders/0k/t_v9n_fd08b6ymg1f7lkdlb40000gn/T/ipykernel_12745/1252391055.py:5: FutureWarning: The frame.append method is deprecated and will be removed from pandas in a future version. Use pandas.concat instead.\n",
      "  crossval_df = crossval_df.append(cross_validation(X_train, y_train, k, 5), ignore_index = True)\n",
      "/var/folders/0k/t_v9n_fd08b6ymg1f7lkdlb40000gn/T/ipykernel_12745/1252391055.py:5: FutureWarning: The frame.append method is deprecated and will be removed from pandas in a future version. Use pandas.concat instead.\n",
      "  crossval_df = crossval_df.append(cross_validation(X_train, y_train, k, 5), ignore_index = True)\n",
      "/var/folders/0k/t_v9n_fd08b6ymg1f7lkdlb40000gn/T/ipykernel_12745/1252391055.py:5: FutureWarning: The frame.append method is deprecated and will be removed from pandas in a future version. Use pandas.concat instead.\n",
      "  crossval_df = crossval_df.append(cross_validation(X_train, y_train, k, 5), ignore_index = True)\n",
      "/var/folders/0k/t_v9n_fd08b6ymg1f7lkdlb40000gn/T/ipykernel_12745/1252391055.py:5: FutureWarning: The frame.append method is deprecated and will be removed from pandas in a future version. Use pandas.concat instead.\n",
      "  crossval_df = crossval_df.append(cross_validation(X_train, y_train, k, 5), ignore_index = True)\n",
      "/var/folders/0k/t_v9n_fd08b6ymg1f7lkdlb40000gn/T/ipykernel_12745/1252391055.py:5: FutureWarning: The frame.append method is deprecated and will be removed from pandas in a future version. Use pandas.concat instead.\n",
      "  crossval_df = crossval_df.append(cross_validation(X_train, y_train, k, 5), ignore_index = True)\n",
      "/var/folders/0k/t_v9n_fd08b6ymg1f7lkdlb40000gn/T/ipykernel_12745/1252391055.py:5: FutureWarning: The frame.append method is deprecated and will be removed from pandas in a future version. Use pandas.concat instead.\n",
      "  crossval_df = crossval_df.append(cross_validation(X_train, y_train, k, 5), ignore_index = True)\n",
      "/var/folders/0k/t_v9n_fd08b6ymg1f7lkdlb40000gn/T/ipykernel_12745/1252391055.py:5: FutureWarning: The frame.append method is deprecated and will be removed from pandas in a future version. Use pandas.concat instead.\n",
      "  crossval_df = crossval_df.append(cross_validation(X_train, y_train, k, 5), ignore_index = True)\n",
      "/var/folders/0k/t_v9n_fd08b6ymg1f7lkdlb40000gn/T/ipykernel_12745/1252391055.py:5: FutureWarning: The frame.append method is deprecated and will be removed from pandas in a future version. Use pandas.concat instead.\n",
      "  crossval_df = crossval_df.append(cross_validation(X_train, y_train, k, 5), ignore_index = True)\n",
      "/var/folders/0k/t_v9n_fd08b6ymg1f7lkdlb40000gn/T/ipykernel_12745/1252391055.py:5: FutureWarning: The frame.append method is deprecated and will be removed from pandas in a future version. Use pandas.concat instead.\n",
      "  crossval_df = crossval_df.append(cross_validation(X_train, y_train, k, 5), ignore_index = True)\n",
      "/var/folders/0k/t_v9n_fd08b6ymg1f7lkdlb40000gn/T/ipykernel_12745/1252391055.py:5: FutureWarning: The frame.append method is deprecated and will be removed from pandas in a future version. Use pandas.concat instead.\n",
      "  crossval_df = crossval_df.append(cross_validation(X_train, y_train, k, 5), ignore_index = True)\n",
      "/var/folders/0k/t_v9n_fd08b6ymg1f7lkdlb40000gn/T/ipykernel_12745/1252391055.py:5: FutureWarning: The frame.append method is deprecated and will be removed from pandas in a future version. Use pandas.concat instead.\n",
      "  crossval_df = crossval_df.append(cross_validation(X_train, y_train, k, 5), ignore_index = True)\n",
      "/var/folders/0k/t_v9n_fd08b6ymg1f7lkdlb40000gn/T/ipykernel_12745/1252391055.py:5: FutureWarning: The frame.append method is deprecated and will be removed from pandas in a future version. Use pandas.concat instead.\n",
      "  crossval_df = crossval_df.append(cross_validation(X_train, y_train, k, 5), ignore_index = True)\n",
      "/var/folders/0k/t_v9n_fd08b6ymg1f7lkdlb40000gn/T/ipykernel_12745/1252391055.py:5: FutureWarning: The frame.append method is deprecated and will be removed from pandas in a future version. Use pandas.concat instead.\n",
      "  crossval_df = crossval_df.append(cross_validation(X_train, y_train, k, 5), ignore_index = True)\n",
      "/var/folders/0k/t_v9n_fd08b6ymg1f7lkdlb40000gn/T/ipykernel_12745/1252391055.py:5: FutureWarning: The frame.append method is deprecated and will be removed from pandas in a future version. Use pandas.concat instead.\n",
      "  crossval_df = crossval_df.append(cross_validation(X_train, y_train, k, 5), ignore_index = True)\n"
     ]
    },
    {
     "name": "stderr",
     "output_type": "stream",
     "text": [
      "/var/folders/0k/t_v9n_fd08b6ymg1f7lkdlb40000gn/T/ipykernel_12745/1252391055.py:5: FutureWarning: The frame.append method is deprecated and will be removed from pandas in a future version. Use pandas.concat instead.\n",
      "  crossval_df = crossval_df.append(cross_validation(X_train, y_train, k, 5), ignore_index = True)\n",
      "/var/folders/0k/t_v9n_fd08b6ymg1f7lkdlb40000gn/T/ipykernel_12745/1252391055.py:5: FutureWarning: The frame.append method is deprecated and will be removed from pandas in a future version. Use pandas.concat instead.\n",
      "  crossval_df = crossval_df.append(cross_validation(X_train, y_train, k, 5), ignore_index = True)\n",
      "/var/folders/0k/t_v9n_fd08b6ymg1f7lkdlb40000gn/T/ipykernel_12745/1252391055.py:5: FutureWarning: The frame.append method is deprecated and will be removed from pandas in a future version. Use pandas.concat instead.\n",
      "  crossval_df = crossval_df.append(cross_validation(X_train, y_train, k, 5), ignore_index = True)\n",
      "/var/folders/0k/t_v9n_fd08b6ymg1f7lkdlb40000gn/T/ipykernel_12745/1252391055.py:5: FutureWarning: The frame.append method is deprecated and will be removed from pandas in a future version. Use pandas.concat instead.\n",
      "  crossval_df = crossval_df.append(cross_validation(X_train, y_train, k, 5), ignore_index = True)\n",
      "/var/folders/0k/t_v9n_fd08b6ymg1f7lkdlb40000gn/T/ipykernel_12745/1252391055.py:5: FutureWarning: The frame.append method is deprecated and will be removed from pandas in a future version. Use pandas.concat instead.\n",
      "  crossval_df = crossval_df.append(cross_validation(X_train, y_train, k, 5), ignore_index = True)\n",
      "/var/folders/0k/t_v9n_fd08b6ymg1f7lkdlb40000gn/T/ipykernel_12745/1252391055.py:5: FutureWarning: The frame.append method is deprecated and will be removed from pandas in a future version. Use pandas.concat instead.\n",
      "  crossval_df = crossval_df.append(cross_validation(X_train, y_train, k, 5), ignore_index = True)\n",
      "/var/folders/0k/t_v9n_fd08b6ymg1f7lkdlb40000gn/T/ipykernel_12745/1252391055.py:5: FutureWarning: The frame.append method is deprecated and will be removed from pandas in a future version. Use pandas.concat instead.\n",
      "  crossval_df = crossval_df.append(cross_validation(X_train, y_train, k, 5), ignore_index = True)\n",
      "/var/folders/0k/t_v9n_fd08b6ymg1f7lkdlb40000gn/T/ipykernel_12745/1252391055.py:5: FutureWarning: The frame.append method is deprecated and will be removed from pandas in a future version. Use pandas.concat instead.\n",
      "  crossval_df = crossval_df.append(cross_validation(X_train, y_train, k, 5), ignore_index = True)\n",
      "/var/folders/0k/t_v9n_fd08b6ymg1f7lkdlb40000gn/T/ipykernel_12745/1252391055.py:5: FutureWarning: The frame.append method is deprecated and will be removed from pandas in a future version. Use pandas.concat instead.\n",
      "  crossval_df = crossval_df.append(cross_validation(X_train, y_train, k, 5), ignore_index = True)\n",
      "/var/folders/0k/t_v9n_fd08b6ymg1f7lkdlb40000gn/T/ipykernel_12745/1252391055.py:5: FutureWarning: The frame.append method is deprecated and will be removed from pandas in a future version. Use pandas.concat instead.\n",
      "  crossval_df = crossval_df.append(cross_validation(X_train, y_train, k, 5), ignore_index = True)\n",
      "/var/folders/0k/t_v9n_fd08b6ymg1f7lkdlb40000gn/T/ipykernel_12745/1252391055.py:5: FutureWarning: The frame.append method is deprecated and will be removed from pandas in a future version. Use pandas.concat instead.\n",
      "  crossval_df = crossval_df.append(cross_validation(X_train, y_train, k, 5), ignore_index = True)\n",
      "/var/folders/0k/t_v9n_fd08b6ymg1f7lkdlb40000gn/T/ipykernel_12745/1252391055.py:5: FutureWarning: The frame.append method is deprecated and will be removed from pandas in a future version. Use pandas.concat instead.\n",
      "  crossval_df = crossval_df.append(cross_validation(X_train, y_train, k, 5), ignore_index = True)\n",
      "/var/folders/0k/t_v9n_fd08b6ymg1f7lkdlb40000gn/T/ipykernel_12745/1252391055.py:5: FutureWarning: The frame.append method is deprecated and will be removed from pandas in a future version. Use pandas.concat instead.\n",
      "  crossval_df = crossval_df.append(cross_validation(X_train, y_train, k, 5), ignore_index = True)\n",
      "/var/folders/0k/t_v9n_fd08b6ymg1f7lkdlb40000gn/T/ipykernel_12745/1252391055.py:5: FutureWarning: The frame.append method is deprecated and will be removed from pandas in a future version. Use pandas.concat instead.\n",
      "  crossval_df = crossval_df.append(cross_validation(X_train, y_train, k, 5), ignore_index = True)\n",
      "/var/folders/0k/t_v9n_fd08b6ymg1f7lkdlb40000gn/T/ipykernel_12745/1252391055.py:5: FutureWarning: The frame.append method is deprecated and will be removed from pandas in a future version. Use pandas.concat instead.\n",
      "  crossval_df = crossval_df.append(cross_validation(X_train, y_train, k, 5), ignore_index = True)\n",
      "/var/folders/0k/t_v9n_fd08b6ymg1f7lkdlb40000gn/T/ipykernel_12745/1252391055.py:5: FutureWarning: The frame.append method is deprecated and will be removed from pandas in a future version. Use pandas.concat instead.\n",
      "  crossval_df = crossval_df.append(cross_validation(X_train, y_train, k, 5), ignore_index = True)\n",
      "/var/folders/0k/t_v9n_fd08b6ymg1f7lkdlb40000gn/T/ipykernel_12745/1252391055.py:5: FutureWarning: The frame.append method is deprecated and will be removed from pandas in a future version. Use pandas.concat instead.\n",
      "  crossval_df = crossval_df.append(cross_validation(X_train, y_train, k, 5), ignore_index = True)\n",
      "/var/folders/0k/t_v9n_fd08b6ymg1f7lkdlb40000gn/T/ipykernel_12745/1252391055.py:5: FutureWarning: The frame.append method is deprecated and will be removed from pandas in a future version. Use pandas.concat instead.\n",
      "  crossval_df = crossval_df.append(cross_validation(X_train, y_train, k, 5), ignore_index = True)\n",
      "/var/folders/0k/t_v9n_fd08b6ymg1f7lkdlb40000gn/T/ipykernel_12745/1252391055.py:5: FutureWarning: The frame.append method is deprecated and will be removed from pandas in a future version. Use pandas.concat instead.\n",
      "  crossval_df = crossval_df.append(cross_validation(X_train, y_train, k, 5), ignore_index = True)\n",
      "/var/folders/0k/t_v9n_fd08b6ymg1f7lkdlb40000gn/T/ipykernel_12745/1252391055.py:5: FutureWarning: The frame.append method is deprecated and will be removed from pandas in a future version. Use pandas.concat instead.\n",
      "  crossval_df = crossval_df.append(cross_validation(X_train, y_train, k, 5), ignore_index = True)\n",
      "/var/folders/0k/t_v9n_fd08b6ymg1f7lkdlb40000gn/T/ipykernel_12745/1252391055.py:5: FutureWarning: The frame.append method is deprecated and will be removed from pandas in a future version. Use pandas.concat instead.\n",
      "  crossval_df = crossval_df.append(cross_validation(X_train, y_train, k, 5), ignore_index = True)\n",
      "/var/folders/0k/t_v9n_fd08b6ymg1f7lkdlb40000gn/T/ipykernel_12745/1252391055.py:5: FutureWarning: The frame.append method is deprecated and will be removed from pandas in a future version. Use pandas.concat instead.\n",
      "  crossval_df = crossval_df.append(cross_validation(X_train, y_train, k, 5), ignore_index = True)\n",
      "/var/folders/0k/t_v9n_fd08b6ymg1f7lkdlb40000gn/T/ipykernel_12745/1252391055.py:5: FutureWarning: The frame.append method is deprecated and will be removed from pandas in a future version. Use pandas.concat instead.\n",
      "  crossval_df = crossval_df.append(cross_validation(X_train, y_train, k, 5), ignore_index = True)\n",
      "/var/folders/0k/t_v9n_fd08b6ymg1f7lkdlb40000gn/T/ipykernel_12745/1252391055.py:5: FutureWarning: The frame.append method is deprecated and will be removed from pandas in a future version. Use pandas.concat instead.\n",
      "  crossval_df = crossval_df.append(cross_validation(X_train, y_train, k, 5), ignore_index = True)\n",
      "/var/folders/0k/t_v9n_fd08b6ymg1f7lkdlb40000gn/T/ipykernel_12745/1252391055.py:5: FutureWarning: The frame.append method is deprecated and will be removed from pandas in a future version. Use pandas.concat instead.\n",
      "  crossval_df = crossval_df.append(cross_validation(X_train, y_train, k, 5), ignore_index = True)\n",
      "/var/folders/0k/t_v9n_fd08b6ymg1f7lkdlb40000gn/T/ipykernel_12745/1252391055.py:5: FutureWarning: The frame.append method is deprecated and will be removed from pandas in a future version. Use pandas.concat instead.\n",
      "  crossval_df = crossval_df.append(cross_validation(X_train, y_train, k, 5), ignore_index = True)\n",
      "/var/folders/0k/t_v9n_fd08b6ymg1f7lkdlb40000gn/T/ipykernel_12745/1252391055.py:5: FutureWarning: The frame.append method is deprecated and will be removed from pandas in a future version. Use pandas.concat instead.\n",
      "  crossval_df = crossval_df.append(cross_validation(X_train, y_train, k, 5), ignore_index = True)\n",
      "/var/folders/0k/t_v9n_fd08b6ymg1f7lkdlb40000gn/T/ipykernel_12745/1252391055.py:5: FutureWarning: The frame.append method is deprecated and will be removed from pandas in a future version. Use pandas.concat instead.\n",
      "  crossval_df = crossval_df.append(cross_validation(X_train, y_train, k, 5), ignore_index = True)\n"
     ]
    },
    {
     "name": "stderr",
     "output_type": "stream",
     "text": [
      "/var/folders/0k/t_v9n_fd08b6ymg1f7lkdlb40000gn/T/ipykernel_12745/1252391055.py:5: FutureWarning: The frame.append method is deprecated and will be removed from pandas in a future version. Use pandas.concat instead.\n",
      "  crossval_df = crossval_df.append(cross_validation(X_train, y_train, k, 5), ignore_index = True)\n",
      "/var/folders/0k/t_v9n_fd08b6ymg1f7lkdlb40000gn/T/ipykernel_12745/1252391055.py:5: FutureWarning: The frame.append method is deprecated and will be removed from pandas in a future version. Use pandas.concat instead.\n",
      "  crossval_df = crossval_df.append(cross_validation(X_train, y_train, k, 5), ignore_index = True)\n",
      "/var/folders/0k/t_v9n_fd08b6ymg1f7lkdlb40000gn/T/ipykernel_12745/1252391055.py:5: FutureWarning: The frame.append method is deprecated and will be removed from pandas in a future version. Use pandas.concat instead.\n",
      "  crossval_df = crossval_df.append(cross_validation(X_train, y_train, k, 5), ignore_index = True)\n",
      "/var/folders/0k/t_v9n_fd08b6ymg1f7lkdlb40000gn/T/ipykernel_12745/1252391055.py:5: FutureWarning: The frame.append method is deprecated and will be removed from pandas in a future version. Use pandas.concat instead.\n",
      "  crossval_df = crossval_df.append(cross_validation(X_train, y_train, k, 5), ignore_index = True)\n",
      "/var/folders/0k/t_v9n_fd08b6ymg1f7lkdlb40000gn/T/ipykernel_12745/1252391055.py:5: FutureWarning: The frame.append method is deprecated and will be removed from pandas in a future version. Use pandas.concat instead.\n",
      "  crossval_df = crossval_df.append(cross_validation(X_train, y_train, k, 5), ignore_index = True)\n",
      "/var/folders/0k/t_v9n_fd08b6ymg1f7lkdlb40000gn/T/ipykernel_12745/1252391055.py:5: FutureWarning: The frame.append method is deprecated and will be removed from pandas in a future version. Use pandas.concat instead.\n",
      "  crossval_df = crossval_df.append(cross_validation(X_train, y_train, k, 5), ignore_index = True)\n",
      "/var/folders/0k/t_v9n_fd08b6ymg1f7lkdlb40000gn/T/ipykernel_12745/1252391055.py:5: FutureWarning: The frame.append method is deprecated and will be removed from pandas in a future version. Use pandas.concat instead.\n",
      "  crossval_df = crossval_df.append(cross_validation(X_train, y_train, k, 5), ignore_index = True)\n",
      "/var/folders/0k/t_v9n_fd08b6ymg1f7lkdlb40000gn/T/ipykernel_12745/1252391055.py:5: FutureWarning: The frame.append method is deprecated and will be removed from pandas in a future version. Use pandas.concat instead.\n",
      "  crossval_df = crossval_df.append(cross_validation(X_train, y_train, k, 5), ignore_index = True)\n",
      "/var/folders/0k/t_v9n_fd08b6ymg1f7lkdlb40000gn/T/ipykernel_12745/1252391055.py:5: FutureWarning: The frame.append method is deprecated and will be removed from pandas in a future version. Use pandas.concat instead.\n",
      "  crossval_df = crossval_df.append(cross_validation(X_train, y_train, k, 5), ignore_index = True)\n",
      "/var/folders/0k/t_v9n_fd08b6ymg1f7lkdlb40000gn/T/ipykernel_12745/1252391055.py:5: FutureWarning: The frame.append method is deprecated and will be removed from pandas in a future version. Use pandas.concat instead.\n",
      "  crossval_df = crossval_df.append(cross_validation(X_train, y_train, k, 5), ignore_index = True)\n"
     ]
    }
   ],
   "source": [
    "# empty dataframe\n",
    "crossval_df = pd.DataFrame(columns = ['k', 'train', 'validation'])\n",
    "# append results for each value of k\n",
    "for k in np.arange(1,100):\n",
    "    crossval_df = crossval_df.append(cross_validation(X_train, y_train, k, 5), ignore_index = True)\n"
   ]
  },
  {
   "cell_type": "code",
   "execution_count": 10,
   "id": "0fd2fd2a",
   "metadata": {
    "slideshow": {
     "slide_type": "fragment"
    }
   },
   "outputs": [
    {
     "data": {
      "text/html": [
       "<div>\n",
       "<style scoped>\n",
       "    .dataframe tbody tr th:only-of-type {\n",
       "        vertical-align: middle;\n",
       "    }\n",
       "\n",
       "    .dataframe tbody tr th {\n",
       "        vertical-align: top;\n",
       "    }\n",
       "\n",
       "    .dataframe thead th {\n",
       "        text-align: right;\n",
       "    }\n",
       "</style>\n",
       "<table border=\"1\" class=\"dataframe\">\n",
       "  <thead>\n",
       "    <tr style=\"text-align: right;\">\n",
       "      <th></th>\n",
       "      <th>k</th>\n",
       "      <th>train</th>\n",
       "      <th>validation</th>\n",
       "    </tr>\n",
       "  </thead>\n",
       "  <tbody>\n",
       "    <tr>\n",
       "      <th>0</th>\n",
       "      <td>1.0</td>\n",
       "      <td>0.946865</td>\n",
       "      <td>0.701538</td>\n",
       "    </tr>\n",
       "    <tr>\n",
       "      <th>1</th>\n",
       "      <td>2.0</td>\n",
       "      <td>0.864201</td>\n",
       "      <td>0.740615</td>\n",
       "    </tr>\n",
       "    <tr>\n",
       "      <th>2</th>\n",
       "      <td>3.0</td>\n",
       "      <td>0.874063</td>\n",
       "      <td>0.756615</td>\n",
       "    </tr>\n",
       "    <tr>\n",
       "      <th>3</th>\n",
       "      <td>4.0</td>\n",
       "      <td>0.846496</td>\n",
       "      <td>0.78</td>\n",
       "    </tr>\n",
       "    <tr>\n",
       "      <th>4</th>\n",
       "      <td>5.0</td>\n",
       "      <td>0.850398</td>\n",
       "      <td>0.787692</td>\n",
       "    </tr>\n",
       "  </tbody>\n",
       "</table>\n",
       "</div>"
      ],
      "text/plain": [
       "     k     train validation\n",
       "0  1.0  0.946865   0.701538\n",
       "1  2.0  0.864201   0.740615\n",
       "2  3.0  0.874063   0.756615\n",
       "3  4.0  0.846496       0.78\n",
       "4  5.0  0.850398   0.787692"
      ]
     },
     "execution_count": 10,
     "metadata": {},
     "output_type": "execute_result"
    }
   ],
   "source": [
    "crossval_df.head()"
   ]
  },
  {
   "cell_type": "markdown",
   "id": "5007ff57",
   "metadata": {
    "slideshow": {
     "slide_type": "slide"
    }
   },
   "source": [
    "Technically, we did this correctly. But..."
   ]
  },
  {
   "cell_type": "markdown",
   "id": "7e485ec0",
   "metadata": {
    "cell_style": "split",
    "slideshow": {
     "slide_type": "slide"
    }
   },
   "source": [
    "#### Whats the problem with this?\n",
    "\n",
    "- Need to write unecessary code. Hard to read.\n",
    "- Easy to mess up: track each data transformation carefully.\n",
    "- Changing/adding transformations: possibly a pain.\n",
    "- For loops for tuning, etc."
   ]
  },
  {
   "cell_type": "markdown",
   "id": "668ed755",
   "metadata": {
    "cell_style": "split",
    "slideshow": {
     "slide_type": "fragment"
    }
   },
   "source": [
    "#### The goal:\n",
    "\n",
    "- want to get best model in streamlined process.\n",
    "- want to be able to plug in and out different transformations easily and transparently. \n",
    "- try multiple transformations/models at once\n",
    "- want good reporting/ranking of different models."
   ]
  },
  {
   "cell_type": "markdown",
   "id": "1bd62d8b",
   "metadata": {
    "cell_style": "center",
    "slideshow": {
     "slide_type": "slide"
    }
   },
   "source": [
    "####  First part of solution: The pipeline \n",
    "\n",
    "- Transformer fitting and model fitting\n",
    "- Happen one right after the other.\n",
    "- **Ideal: unify into a single process.**"
   ]
  },
  {
   "cell_type": "markdown",
   "id": "dd254895",
   "metadata": {
    "slideshow": {
     "slide_type": "fragment"
    }
   },
   "source": [
    "Without the pipeline:\n",
    "- have to repeat fit and transformer/predicting for every transformer and model"
   ]
  },
  {
   "cell_type": "code",
   "execution_count": 11,
   "id": "289e099d",
   "metadata": {
    "ExecuteTime": {
     "end_time": "2021-10-28T03:33:54.664937Z",
     "start_time": "2021-10-28T03:33:54.657819Z"
    },
    "cell_style": "center",
    "hidden": true,
    "slideshow": {
     "slide_type": "fragment"
    }
   },
   "outputs": [
    {
     "name": "stdout",
     "output_type": "stream",
     "text": [
      "[1 1 2 2 0 2 0 0 2 1 0 2 1 1 0 0 0 1 2 0 1 0 1]\n"
     ]
    }
   ],
   "source": [
    "# Define transformers (will adjust/massage the data)\n",
    "imputer = SimpleImputer(strategy=\"median\") # replaces missing values\n",
    "std_scaler = StandardScaler() # scales the data\n",
    "\n",
    "# Define the classifier (predictor) to train\n",
    "rf_clf = DecisionTreeClassifier(random_state=42)\n",
    "\n",
    "# Have the classifer (and full pipeline) learn/train/fit from the data\n",
    "X_train_filled = imputer.fit_transform(X_train)\n",
    "X_train_scaled = std_scaler.fit_transform(X_train_filled)\n",
    "rf_clf.fit(X_train_scaled, y_train)\n",
    "\n",
    "# Predict using the trained classifier (still need to do the transformations)\n",
    "X_test_filled = imputer.transform(X_test)\n",
    "X_test_scaled = std_scaler.transform(X_test_filled)\n",
    "y_pred = rf_clf.predict(X_test_scaled)\n",
    "print(y_pred)"
   ]
  },
  {
   "cell_type": "markdown",
   "id": "ecea6458",
   "metadata": {
    "slideshow": {
     "slide_type": "slide"
    }
   },
   "source": [
    "Instead let's use the Pipeline object"
   ]
  },
  {
   "cell_type": "code",
   "execution_count": 12,
   "id": "40dcec7e",
   "metadata": {
    "slideshow": {
     "slide_type": "fragment"
    }
   },
   "outputs": [],
   "source": [
    "from sklearn.pipeline import Pipeline\n",
    "\n",
    "# this will allow us to visualize the pipeline (may not be available in learn-env)\n",
    "from sklearn import set_config\n",
    "set_config(display= 'diagram')"
   ]
  },
  {
   "cell_type": "markdown",
   "id": "e2ec3953",
   "metadata": {
    "cell_style": "split",
    "slideshow": {
     "slide_type": "slide"
    }
   },
   "source": [
    "Pipeline() constructor:\n",
    "- takes in list of tuples (steps): [,,,]\n",
    "- user label of estimator/transformer in pipeline (a string)\n",
    "- the transformer/estimator\n"
   ]
  },
  {
   "cell_type": "markdown",
   "id": "b85dc8c2",
   "metadata": {
    "cell_style": "split",
    "slideshow": {
     "slide_type": "fragment"
    }
   },
   "source": [
    "Pipeline() object is a new estimator:\n",
    "- does all steps in a defined order\n",
    "- transformers in the beginning\n",
    "- predictive model must be last step"
   ]
  },
  {
   "cell_type": "markdown",
   "id": "63673ac1",
   "metadata": {
    "slideshow": {
     "slide_type": "slide"
    }
   },
   "source": [
    "Combining into a unified estimator-transformer:\n",
    "- single .fit()\n",
    "- single .predict()\n",
    "\n",
    "**Does everything in one shot**"
   ]
  },
  {
   "cell_type": "markdown",
   "id": "f9a5e8c7",
   "metadata": {
    "slideshow": {
     "slide_type": "slide"
    }
   },
   "source": [
    "Let's check this out on fitting/predicting with simple train/test split:"
   ]
  },
  {
   "cell_type": "code",
   "execution_count": 13,
   "id": "cae12950",
   "metadata": {
    "slideshow": {
     "slide_type": "slide"
    }
   },
   "outputs": [
    {
     "name": "stdout",
     "output_type": "stream",
     "text": [
      "[1 1 2 2 0 2 0 0 2 1 0 2 1 1 0 0 0 1 2 0 1 0 1]\n"
     ]
    }
   ],
   "source": [
    "# preprocessing first , label, taking care of the nones and then standar scaling\n",
    "# extentiate the ...\n",
    "steps = [('imputer', SimpleImputer(strategy=\"median\")), ('std_scaler', StandardScaler()),\n",
    "        ('rf_clf', DecisionTreeClassifier(random_state=42))]\n",
    "# label = imputer, same as ss = StandardScaler()\n",
    "pipeline = Pipeline(steps)\n",
    "\n",
    "\n",
    "# Train the pipeline (tranformations & predictor)\n",
    "pipeline.fit(X_train, y_train)\n",
    "\n",
    "# Predict using the pipeline (includes the transfomers & trained predictor)\n",
    "predicted = pipeline.predict(X_test)\n",
    "print(predicted)"
   ]
  },
  {
   "cell_type": "markdown",
   "id": "ab9e6671",
   "metadata": {
    "slideshow": {
     "slide_type": "slide"
    }
   },
   "source": [
    "Side by side (they do the same thing)"
   ]
  },
  {
   "cell_type": "code",
   "execution_count": 14,
   "id": "46e4ef4b",
   "metadata": {
    "cell_style": "split",
    "slideshow": {
     "slide_type": "fragment"
    }
   },
   "outputs": [
    {
     "name": "stdout",
     "output_type": "stream",
     "text": [
      "[1 1 2 2 0 2 0 0 2 1 0 2 1 1 0 0 0 1 2 0 1 0 1]\n"
     ]
    }
   ],
   "source": [
    "# Define transformers (will adjust/massage the data)\n",
    "imputer = SimpleImputer(strategy=\"median\") # replaces missing values\n",
    "std_scaler = StandardScaler() # scales the data\n",
    "\n",
    "# Define the classifier (predictor) to train\n",
    "rf_clf = DecisionTreeClassifier(random_state=42)\n",
    "\n",
    "# Have the classifer (and full pipeline) learn/train/fit from the data\n",
    "X_train_filled = imputer.fit_transform(X_train)\n",
    "X_train_scaled = std_scaler.fit_transform(X_train_filled)\n",
    "rf_clf.fit(X_train_scaled, y_train)\n",
    "\n",
    "# Predict using the trained classifier (still need to do the transformations)\n",
    "X_test_filled = imputer.transform(X_test)\n",
    "X_test_scaled = std_scaler.transform(X_test_filled)\n",
    "y_pred = rf_clf.predict(X_test_scaled)\n",
    "print(y_pred)"
   ]
  },
  {
   "cell_type": "code",
   "execution_count": 15,
   "id": "df89949f",
   "metadata": {
    "cell_style": "split",
    "slideshow": {
     "slide_type": "fragment"
    }
   },
   "outputs": [
    {
     "name": "stdout",
     "output_type": "stream",
     "text": [
      "[1 1 2 2 0 2 0 0 2 1 0 2 1 1 0 0 0 1 2 0 1 0 1]\n"
     ]
    }
   ],
   "source": [
    "# do the same as the above code\n",
    "\n",
    "steps = [('imputer', SimpleImputer(strategy=\"median\")), ('std_scaler', StandardScaler()),\n",
    "        ('rf_clf', DecisionTreeClassifier(random_state=42))]\n",
    "\n",
    "pipeline = Pipeline(steps)\n",
    "\n",
    "\n",
    "# Train the pipeline (tranformations & predictor)\n",
    "pipeline.fit(X_train, y_train)\n",
    "\n",
    "# Predict using the pipeline (includes the transfomers & trained predictor)\n",
    "predicted = pipeline.predict(X_test)\n",
    "print(predicted)"
   ]
  },
  {
   "cell_type": "markdown",
   "id": "41ea4e1a",
   "metadata": {
    "slideshow": {
     "slide_type": "slide"
    }
   },
   "source": [
    "Now lets do **manual** cross validation **with pipeline**"
   ]
  },
  {
   "cell_type": "markdown",
   "id": "18aab522",
   "metadata": {
    "slideshow": {
     "slide_type": "slide"
    }
   },
   "source": [
    "First advantage: can define the entire set of transformations outside cross-validation function:"
   ]
  },
  {
   "cell_type": "code",
   "execution_count": 16,
   "id": "a897371c",
   "metadata": {
    "cell_style": "center",
    "slideshow": {
     "slide_type": "fragment"
    }
   },
   "outputs": [
    {
     "data": {
      "text/html": [
       "<style>#sk-95d5bb4b-3b74-432f-a935-3c2e2f7c4ff8 {color: black;background-color: white;}#sk-95d5bb4b-3b74-432f-a935-3c2e2f7c4ff8 pre{padding: 0;}#sk-95d5bb4b-3b74-432f-a935-3c2e2f7c4ff8 div.sk-toggleable {background-color: white;}#sk-95d5bb4b-3b74-432f-a935-3c2e2f7c4ff8 label.sk-toggleable__label {cursor: pointer;display: block;width: 100%;margin-bottom: 0;padding: 0.3em;box-sizing: border-box;text-align: center;}#sk-95d5bb4b-3b74-432f-a935-3c2e2f7c4ff8 label.sk-toggleable__label-arrow:before {content: \"▸\";float: left;margin-right: 0.25em;color: #696969;}#sk-95d5bb4b-3b74-432f-a935-3c2e2f7c4ff8 label.sk-toggleable__label-arrow:hover:before {color: black;}#sk-95d5bb4b-3b74-432f-a935-3c2e2f7c4ff8 div.sk-estimator:hover label.sk-toggleable__label-arrow:before {color: black;}#sk-95d5bb4b-3b74-432f-a935-3c2e2f7c4ff8 div.sk-toggleable__content {max-height: 0;max-width: 0;overflow: hidden;text-align: left;background-color: #f0f8ff;}#sk-95d5bb4b-3b74-432f-a935-3c2e2f7c4ff8 div.sk-toggleable__content pre {margin: 0.2em;color: black;border-radius: 0.25em;background-color: #f0f8ff;}#sk-95d5bb4b-3b74-432f-a935-3c2e2f7c4ff8 input.sk-toggleable__control:checked~div.sk-toggleable__content {max-height: 200px;max-width: 100%;overflow: auto;}#sk-95d5bb4b-3b74-432f-a935-3c2e2f7c4ff8 input.sk-toggleable__control:checked~label.sk-toggleable__label-arrow:before {content: \"▾\";}#sk-95d5bb4b-3b74-432f-a935-3c2e2f7c4ff8 div.sk-estimator input.sk-toggleable__control:checked~label.sk-toggleable__label {background-color: #d4ebff;}#sk-95d5bb4b-3b74-432f-a935-3c2e2f7c4ff8 div.sk-label input.sk-toggleable__control:checked~label.sk-toggleable__label {background-color: #d4ebff;}#sk-95d5bb4b-3b74-432f-a935-3c2e2f7c4ff8 input.sk-hidden--visually {border: 0;clip: rect(1px 1px 1px 1px);clip: rect(1px, 1px, 1px, 1px);height: 1px;margin: -1px;overflow: hidden;padding: 0;position: absolute;width: 1px;}#sk-95d5bb4b-3b74-432f-a935-3c2e2f7c4ff8 div.sk-estimator {font-family: monospace;background-color: #f0f8ff;border: 1px dotted black;border-radius: 0.25em;box-sizing: border-box;margin-bottom: 0.5em;}#sk-95d5bb4b-3b74-432f-a935-3c2e2f7c4ff8 div.sk-estimator:hover {background-color: #d4ebff;}#sk-95d5bb4b-3b74-432f-a935-3c2e2f7c4ff8 div.sk-parallel-item::after {content: \"\";width: 100%;border-bottom: 1px solid gray;flex-grow: 1;}#sk-95d5bb4b-3b74-432f-a935-3c2e2f7c4ff8 div.sk-label:hover label.sk-toggleable__label {background-color: #d4ebff;}#sk-95d5bb4b-3b74-432f-a935-3c2e2f7c4ff8 div.sk-serial::before {content: \"\";position: absolute;border-left: 1px solid gray;box-sizing: border-box;top: 2em;bottom: 0;left: 50%;}#sk-95d5bb4b-3b74-432f-a935-3c2e2f7c4ff8 div.sk-serial {display: flex;flex-direction: column;align-items: center;background-color: white;padding-right: 0.2em;padding-left: 0.2em;}#sk-95d5bb4b-3b74-432f-a935-3c2e2f7c4ff8 div.sk-item {z-index: 1;}#sk-95d5bb4b-3b74-432f-a935-3c2e2f7c4ff8 div.sk-parallel {display: flex;align-items: stretch;justify-content: center;background-color: white;}#sk-95d5bb4b-3b74-432f-a935-3c2e2f7c4ff8 div.sk-parallel::before {content: \"\";position: absolute;border-left: 1px solid gray;box-sizing: border-box;top: 2em;bottom: 0;left: 50%;}#sk-95d5bb4b-3b74-432f-a935-3c2e2f7c4ff8 div.sk-parallel-item {display: flex;flex-direction: column;position: relative;background-color: white;}#sk-95d5bb4b-3b74-432f-a935-3c2e2f7c4ff8 div.sk-parallel-item:first-child::after {align-self: flex-end;width: 50%;}#sk-95d5bb4b-3b74-432f-a935-3c2e2f7c4ff8 div.sk-parallel-item:last-child::after {align-self: flex-start;width: 50%;}#sk-95d5bb4b-3b74-432f-a935-3c2e2f7c4ff8 div.sk-parallel-item:only-child::after {width: 0;}#sk-95d5bb4b-3b74-432f-a935-3c2e2f7c4ff8 div.sk-dashed-wrapped {border: 1px dashed gray;margin: 0 0.4em 0.5em 0.4em;box-sizing: border-box;padding-bottom: 0.4em;background-color: white;position: relative;}#sk-95d5bb4b-3b74-432f-a935-3c2e2f7c4ff8 div.sk-label label {font-family: monospace;font-weight: bold;background-color: white;display: inline-block;line-height: 1.2em;}#sk-95d5bb4b-3b74-432f-a935-3c2e2f7c4ff8 div.sk-label-container {position: relative;z-index: 2;text-align: center;}#sk-95d5bb4b-3b74-432f-a935-3c2e2f7c4ff8 div.sk-container {/* jupyter's `normalize.less` sets `[hidden] { display: none; }` but bootstrap.min.css set `[hidden] { display: none !important; }` so we also need the `!important` here to be able to override the default hidden behavior on the sphinx rendered scikit-learn.org. See: https://github.com/scikit-learn/scikit-learn/issues/21755 */display: inline-block !important;position: relative;}#sk-95d5bb4b-3b74-432f-a935-3c2e2f7c4ff8 div.sk-text-repr-fallback {display: none;}</style><div id=\"sk-95d5bb4b-3b74-432f-a935-3c2e2f7c4ff8\" class=\"sk-top-container\"><div class=\"sk-text-repr-fallback\"><pre>Pipeline(steps=[(&#x27;imputer&#x27;, SimpleImputer(strategy=&#x27;median&#x27;)),\n",
       "                (&#x27;std_scaler&#x27;, StandardScaler()),\n",
       "                (&#x27;rf_clf&#x27;, DecisionTreeClassifier(random_state=42))])</pre><b>Please rerun this cell to show the HTML repr or trust the notebook.</b></div><div class=\"sk-container\" hidden><div class=\"sk-item sk-dashed-wrapped\"><div class=\"sk-label-container\"><div class=\"sk-label sk-toggleable\"><input class=\"sk-toggleable__control sk-hidden--visually\" id=\"03006c3c-8bfe-4023-a660-62148a9fd113\" type=\"checkbox\" ><label for=\"03006c3c-8bfe-4023-a660-62148a9fd113\" class=\"sk-toggleable__label sk-toggleable__label-arrow\">Pipeline</label><div class=\"sk-toggleable__content\"><pre>Pipeline(steps=[(&#x27;imputer&#x27;, SimpleImputer(strategy=&#x27;median&#x27;)),\n",
       "                (&#x27;std_scaler&#x27;, StandardScaler()),\n",
       "                (&#x27;rf_clf&#x27;, DecisionTreeClassifier(random_state=42))])</pre></div></div></div><div class=\"sk-serial\"><div class=\"sk-item\"><div class=\"sk-estimator sk-toggleable\"><input class=\"sk-toggleable__control sk-hidden--visually\" id=\"a11b0818-162d-42af-98ac-de661580ab72\" type=\"checkbox\" ><label for=\"a11b0818-162d-42af-98ac-de661580ab72\" class=\"sk-toggleable__label sk-toggleable__label-arrow\">SimpleImputer</label><div class=\"sk-toggleable__content\"><pre>SimpleImputer(strategy=&#x27;median&#x27;)</pre></div></div></div><div class=\"sk-item\"><div class=\"sk-estimator sk-toggleable\"><input class=\"sk-toggleable__control sk-hidden--visually\" id=\"fee454e8-bde6-4ac5-a4dc-a9c23d963e90\" type=\"checkbox\" ><label for=\"fee454e8-bde6-4ac5-a4dc-a9c23d963e90\" class=\"sk-toggleable__label sk-toggleable__label-arrow\">StandardScaler</label><div class=\"sk-toggleable__content\"><pre>StandardScaler()</pre></div></div></div><div class=\"sk-item\"><div class=\"sk-estimator sk-toggleable\"><input class=\"sk-toggleable__control sk-hidden--visually\" id=\"42b0eafa-12da-435b-953b-340f30ffa656\" type=\"checkbox\" ><label for=\"42b0eafa-12da-435b-953b-340f30ffa656\" class=\"sk-toggleable__label sk-toggleable__label-arrow\">DecisionTreeClassifier</label><div class=\"sk-toggleable__content\"><pre>DecisionTreeClassifier(random_state=42)</pre></div></div></div></div></div></div></div>"
      ],
      "text/plain": [
       "Pipeline(steps=[('imputer', SimpleImputer(strategy='median')),\n",
       "                ('std_scaler', StandardScaler()),\n",
       "                ('rf_clf', DecisionTreeClassifier(random_state=42))])"
      ]
     },
     "execution_count": 16,
     "metadata": {},
     "output_type": "execute_result"
    }
   ],
   "source": [
    "# Can define outside the cross validation\n",
    "steps = [('imputer', SimpleImputer(strategy=\"median\")), ('std_scaler', StandardScaler()),\n",
    "        ('rf_clf', DecisionTreeClassifier(random_state=42))]\n",
    "\n",
    "model_pipe = Pipeline(steps)\n",
    "model_pipe"
   ]
  },
  {
   "cell_type": "markdown",
   "id": "c3bb9209",
   "metadata": {
    "slideshow": {
     "slide_type": "slide"
    }
   },
   "source": [
    "Second advantage: no keeping track of multiple variables.\n",
    "- single .fit() and .predict()"
   ]
  },
  {
   "cell_type": "code",
   "execution_count": 17,
   "id": "f5ff6372",
   "metadata": {
    "cell_style": "center",
    "slideshow": {
     "slide_type": "slide"
    }
   },
   "outputs": [],
   "source": [
    "def cross_validation_pip(X_train, y_train, estimator, num_split = 10):\n",
    "    \n",
    "    X_train = X_train.values\n",
    "    y_train = y_train.values\n",
    "    \n",
    "    score_train_list = []\n",
    "    score_val_list = []\n",
    "    \n",
    "    for train_index, valid_index in KFold(n_splits = num_split).split(X_train):\n",
    "        \n",
    "        # train and validation splitting \n",
    "        X_train_fold, X_val_fold = X_train[train_index], X_train[valid_index]\n",
    "        y_train_fold, y_val_fold = y_train[train_index], y_train[valid_index]\n",
    "\n",
    "        estimator.fit(X_train_fold, y_train_fold)\n",
    "        \n",
    "        # now how did we do?\n",
    "        accuracy_train = estimator.score(X_train_fold, y_train_fold)\n",
    "        accuracy_val = estimator.score(X_val_fold, y_val_fold)\n",
    "        score_val_list.append(accuracy_val)\n",
    "        score_train_list.append(accuracy_train)\n",
    "    \n",
    "    return {'train': np.mean(score_train_list), 'validation': np.mean(score_val_list)}"
   ]
  },
  {
   "cell_type": "code",
   "execution_count": 18,
   "id": "008845ed",
   "metadata": {
    "slideshow": {
     "slide_type": "slide"
    }
   },
   "outputs": [
    {
     "data": {
      "text/plain": [
       "{'train': 0.943119755911518, 'validation': 0.708974358974359}"
      ]
     },
     "execution_count": 18,
     "metadata": {},
     "output_type": "execute_result"
    }
   ],
   "source": [
    "cross_validation_pip(X_train, y_train, pipeline)"
   ]
  },
  {
   "cell_type": "markdown",
   "id": "22b40c7a",
   "metadata": {
    "slideshow": {
     "slide_type": "slide"
    }
   },
   "source": [
    "Compare manual cross-validation **without** pipeline:"
   ]
  },
  {
   "cell_type": "code",
   "execution_count": 19,
   "id": "7888b394",
   "metadata": {
    "slideshow": {
     "slide_type": "slide"
    }
   },
   "outputs": [],
   "source": [
    "def cross_validation(X_train, y_train, estimator, num_split = 10):\n",
    "    \n",
    "    X_train = X_train.values\n",
    "    y_train = y_train.values\n",
    "    \n",
    "    score_train_list = []\n",
    "    score_val_list = []\n",
    "    \n",
    "    for train_index, valid_index in KFold(n_splits = num_split).split(X_train):\n",
    "\n",
    "\n",
    "        # train and validation splitting \n",
    "        X_train_fold, X_val_fold = X_train[train_index], X_train[valid_index]\n",
    "        y_train_fold, y_val_fold = y_train[train_index], y_train[valid_index]\n",
    "        \n",
    "        # impute NaNs with medians\n",
    "        \n",
    "        simple_imp = SimpleImputer(strategy=\"median\")\n",
    "        X_tf_imp = simple_imp.fit_transform(X_train_fold)\n",
    "        X_vld_imp = simple_imp.transform(X_val_fold)\n",
    "\n",
    "        #create/fit the Standard scaler on the train fold\n",
    "        scaler = StandardScaler()\n",
    "        X_tf_sc = scaler.fit_transform(X_tf_imp)\n",
    "        \n",
    "        # transform validation fold\n",
    "        X_vld_sc = scaler.transform(X_vld_imp)\n",
    "\n",
    "        estimator.fit(X_tf_sc, y_train_fold)\n",
    "        \n",
    "        # now how did we do?\n",
    "        accuracy_train = estimator.score(X_tf_sc, y_train_fold)\n",
    "        accuracy_val = estimator.score(X_vld_sc, y_val_fold)\n",
    "        score_val_list.append(accuracy_val)\n",
    "        score_train_list.append(accuracy_train)\n",
    "    \n",
    "    return {'train': np.mean(score_train_list), 'validation': np.mean(score_val_list)}"
   ]
  },
  {
   "cell_type": "code",
   "execution_count": 20,
   "id": "e433e80e",
   "metadata": {
    "slideshow": {
     "slide_type": "slide"
    }
   },
   "outputs": [
    {
     "data": {
      "text/plain": [
       "{'train': 0.943119755911518, 'validation': 0.708974358974359}"
      ]
     },
     "execution_count": 20,
     "metadata": {},
     "output_type": "execute_result"
    }
   ],
   "source": [
    "dec_tree = DecisionTreeClassifier(random_state=42)\n",
    "cross_validation(X_train, y_train, dec_tree)"
   ]
  },
  {
   "cell_type": "markdown",
   "id": "65003f06",
   "metadata": {
    "cell_style": "split",
    "slideshow": {
     "slide_type": "slide"
    }
   },
   "source": [
    "Same result as pipeline but:\n",
    "- Much less customizable/plug and play\n",
    "- Have to be careful and keep track of variables.\n",
    "- Changing/adding steps requires changing code **carefully** in function\n",
    "- Track changes and follow order of transformations:\n",
    "    - train set\n",
    "    - test set"
   ]
  },
  {
   "cell_type": "markdown",
   "id": "98aafee1",
   "metadata": {
    "cell_style": "split",
    "slideshow": {
     "slide_type": "fragment"
    }
   },
   "source": [
    "<img src = \"Images/pipeline_vs_manual.png\" width = 600  /> <center>Pipeline: customizable box. <i>Takes care of the details.</i></center>"
   ]
  },
  {
   "cell_type": "markdown",
   "id": "2fe41b1c",
   "metadata": {
    "heading_collapsed": true,
    "hidden": true,
    "slideshow": {
     "slide_type": "slide"
    }
   },
   "source": [
    "#### Swapping in Different Models & Transformers"
   ]
  },
  {
   "cell_type": "markdown",
   "id": "2455b8ad",
   "metadata": {
    "slideshow": {
     "slide_type": "slide"
    }
   },
   "source": [
    "Pipeline object has the steps as an attribute:\n",
    "- Python list\n",
    "- can modify pipeline progression by modifying attribute."
   ]
  },
  {
   "cell_type": "code",
   "execution_count": 21,
   "id": "71ff1c3b",
   "metadata": {
    "cell_style": "split",
    "slideshow": {
     "slide_type": "slide"
    }
   },
   "outputs": [
    {
     "data": {
      "text/plain": [
       "[('imputer', SimpleImputer(strategy='median')),\n",
       " ('std_scaler', StandardScaler()),\n",
       " ('rf_clf', DecisionTreeClassifier(random_state=42))]"
      ]
     },
     "execution_count": 21,
     "metadata": {},
     "output_type": "execute_result"
    }
   ],
   "source": [
    "model_pipe.steps"
   ]
  },
  {
   "cell_type": "markdown",
   "id": "2aff8d87",
   "metadata": {
    "cell_style": "split",
    "slideshow": {
     "slide_type": "fragment"
    }
   },
   "source": [
    "Change model to KNN:"
   ]
  },
  {
   "cell_type": "code",
   "execution_count": 22,
   "id": "249920a2",
   "metadata": {
    "cell_style": "split",
    "slideshow": {
     "slide_type": "fragment"
    }
   },
   "outputs": [],
   "source": [
    "# pop the decision tree\n",
    "model_pipe.steps.pop(-1) # pulls out the last element, DecisionTreeClassifier()\n",
    "# insert knn\n",
    "model_pipe.steps.append(\n",
    "['knn', KNeighborsClassifier()]) # add the new element, KNN"
   ]
  },
  {
   "cell_type": "code",
   "execution_count": 23,
   "id": "b5ed5dd8",
   "metadata": {
    "cell_style": "split",
    "scrolled": true,
    "slideshow": {
     "slide_type": "fragment"
    }
   },
   "outputs": [
    {
     "data": {
      "text/html": [
       "<style>#sk-67d38c9f-4155-4dc7-8922-af9baaead6a5 {color: black;background-color: white;}#sk-67d38c9f-4155-4dc7-8922-af9baaead6a5 pre{padding: 0;}#sk-67d38c9f-4155-4dc7-8922-af9baaead6a5 div.sk-toggleable {background-color: white;}#sk-67d38c9f-4155-4dc7-8922-af9baaead6a5 label.sk-toggleable__label {cursor: pointer;display: block;width: 100%;margin-bottom: 0;padding: 0.3em;box-sizing: border-box;text-align: center;}#sk-67d38c9f-4155-4dc7-8922-af9baaead6a5 label.sk-toggleable__label-arrow:before {content: \"▸\";float: left;margin-right: 0.25em;color: #696969;}#sk-67d38c9f-4155-4dc7-8922-af9baaead6a5 label.sk-toggleable__label-arrow:hover:before {color: black;}#sk-67d38c9f-4155-4dc7-8922-af9baaead6a5 div.sk-estimator:hover label.sk-toggleable__label-arrow:before {color: black;}#sk-67d38c9f-4155-4dc7-8922-af9baaead6a5 div.sk-toggleable__content {max-height: 0;max-width: 0;overflow: hidden;text-align: left;background-color: #f0f8ff;}#sk-67d38c9f-4155-4dc7-8922-af9baaead6a5 div.sk-toggleable__content pre {margin: 0.2em;color: black;border-radius: 0.25em;background-color: #f0f8ff;}#sk-67d38c9f-4155-4dc7-8922-af9baaead6a5 input.sk-toggleable__control:checked~div.sk-toggleable__content {max-height: 200px;max-width: 100%;overflow: auto;}#sk-67d38c9f-4155-4dc7-8922-af9baaead6a5 input.sk-toggleable__control:checked~label.sk-toggleable__label-arrow:before {content: \"▾\";}#sk-67d38c9f-4155-4dc7-8922-af9baaead6a5 div.sk-estimator input.sk-toggleable__control:checked~label.sk-toggleable__label {background-color: #d4ebff;}#sk-67d38c9f-4155-4dc7-8922-af9baaead6a5 div.sk-label input.sk-toggleable__control:checked~label.sk-toggleable__label {background-color: #d4ebff;}#sk-67d38c9f-4155-4dc7-8922-af9baaead6a5 input.sk-hidden--visually {border: 0;clip: rect(1px 1px 1px 1px);clip: rect(1px, 1px, 1px, 1px);height: 1px;margin: -1px;overflow: hidden;padding: 0;position: absolute;width: 1px;}#sk-67d38c9f-4155-4dc7-8922-af9baaead6a5 div.sk-estimator {font-family: monospace;background-color: #f0f8ff;border: 1px dotted black;border-radius: 0.25em;box-sizing: border-box;margin-bottom: 0.5em;}#sk-67d38c9f-4155-4dc7-8922-af9baaead6a5 div.sk-estimator:hover {background-color: #d4ebff;}#sk-67d38c9f-4155-4dc7-8922-af9baaead6a5 div.sk-parallel-item::after {content: \"\";width: 100%;border-bottom: 1px solid gray;flex-grow: 1;}#sk-67d38c9f-4155-4dc7-8922-af9baaead6a5 div.sk-label:hover label.sk-toggleable__label {background-color: #d4ebff;}#sk-67d38c9f-4155-4dc7-8922-af9baaead6a5 div.sk-serial::before {content: \"\";position: absolute;border-left: 1px solid gray;box-sizing: border-box;top: 2em;bottom: 0;left: 50%;}#sk-67d38c9f-4155-4dc7-8922-af9baaead6a5 div.sk-serial {display: flex;flex-direction: column;align-items: center;background-color: white;padding-right: 0.2em;padding-left: 0.2em;}#sk-67d38c9f-4155-4dc7-8922-af9baaead6a5 div.sk-item {z-index: 1;}#sk-67d38c9f-4155-4dc7-8922-af9baaead6a5 div.sk-parallel {display: flex;align-items: stretch;justify-content: center;background-color: white;}#sk-67d38c9f-4155-4dc7-8922-af9baaead6a5 div.sk-parallel::before {content: \"\";position: absolute;border-left: 1px solid gray;box-sizing: border-box;top: 2em;bottom: 0;left: 50%;}#sk-67d38c9f-4155-4dc7-8922-af9baaead6a5 div.sk-parallel-item {display: flex;flex-direction: column;position: relative;background-color: white;}#sk-67d38c9f-4155-4dc7-8922-af9baaead6a5 div.sk-parallel-item:first-child::after {align-self: flex-end;width: 50%;}#sk-67d38c9f-4155-4dc7-8922-af9baaead6a5 div.sk-parallel-item:last-child::after {align-self: flex-start;width: 50%;}#sk-67d38c9f-4155-4dc7-8922-af9baaead6a5 div.sk-parallel-item:only-child::after {width: 0;}#sk-67d38c9f-4155-4dc7-8922-af9baaead6a5 div.sk-dashed-wrapped {border: 1px dashed gray;margin: 0 0.4em 0.5em 0.4em;box-sizing: border-box;padding-bottom: 0.4em;background-color: white;position: relative;}#sk-67d38c9f-4155-4dc7-8922-af9baaead6a5 div.sk-label label {font-family: monospace;font-weight: bold;background-color: white;display: inline-block;line-height: 1.2em;}#sk-67d38c9f-4155-4dc7-8922-af9baaead6a5 div.sk-label-container {position: relative;z-index: 2;text-align: center;}#sk-67d38c9f-4155-4dc7-8922-af9baaead6a5 div.sk-container {/* jupyter's `normalize.less` sets `[hidden] { display: none; }` but bootstrap.min.css set `[hidden] { display: none !important; }` so we also need the `!important` here to be able to override the default hidden behavior on the sphinx rendered scikit-learn.org. See: https://github.com/scikit-learn/scikit-learn/issues/21755 */display: inline-block !important;position: relative;}#sk-67d38c9f-4155-4dc7-8922-af9baaead6a5 div.sk-text-repr-fallback {display: none;}</style><div id=\"sk-67d38c9f-4155-4dc7-8922-af9baaead6a5\" class=\"sk-top-container\"><div class=\"sk-text-repr-fallback\"><pre>Pipeline(steps=[(&#x27;imputer&#x27;, SimpleImputer(strategy=&#x27;median&#x27;)),\n",
       "                (&#x27;std_scaler&#x27;, StandardScaler()),\n",
       "                [&#x27;knn&#x27;, KNeighborsClassifier()]])</pre><b>Please rerun this cell to show the HTML repr or trust the notebook.</b></div><div class=\"sk-container\" hidden><div class=\"sk-item sk-dashed-wrapped\"><div class=\"sk-label-container\"><div class=\"sk-label sk-toggleable\"><input class=\"sk-toggleable__control sk-hidden--visually\" id=\"429c7640-7886-4219-aaae-0e13e20921df\" type=\"checkbox\" ><label for=\"429c7640-7886-4219-aaae-0e13e20921df\" class=\"sk-toggleable__label sk-toggleable__label-arrow\">Pipeline</label><div class=\"sk-toggleable__content\"><pre>Pipeline(steps=[(&#x27;imputer&#x27;, SimpleImputer(strategy=&#x27;median&#x27;)),\n",
       "                (&#x27;std_scaler&#x27;, StandardScaler()),\n",
       "                [&#x27;knn&#x27;, KNeighborsClassifier()]])</pre></div></div></div><div class=\"sk-serial\"><div class=\"sk-item\"><div class=\"sk-estimator sk-toggleable\"><input class=\"sk-toggleable__control sk-hidden--visually\" id=\"5ffc2961-d086-46f3-8a37-6ca33c297fc0\" type=\"checkbox\" ><label for=\"5ffc2961-d086-46f3-8a37-6ca33c297fc0\" class=\"sk-toggleable__label sk-toggleable__label-arrow\">SimpleImputer</label><div class=\"sk-toggleable__content\"><pre>SimpleImputer(strategy=&#x27;median&#x27;)</pre></div></div></div><div class=\"sk-item\"><div class=\"sk-estimator sk-toggleable\"><input class=\"sk-toggleable__control sk-hidden--visually\" id=\"86bbb450-c5f7-4982-899e-6066a8350695\" type=\"checkbox\" ><label for=\"86bbb450-c5f7-4982-899e-6066a8350695\" class=\"sk-toggleable__label sk-toggleable__label-arrow\">StandardScaler</label><div class=\"sk-toggleable__content\"><pre>StandardScaler()</pre></div></div></div><div class=\"sk-item\"><div class=\"sk-estimator sk-toggleable\"><input class=\"sk-toggleable__control sk-hidden--visually\" id=\"828f78c5-a1b7-4696-81a1-5cdbec8f39a7\" type=\"checkbox\" ><label for=\"828f78c5-a1b7-4696-81a1-5cdbec8f39a7\" class=\"sk-toggleable__label sk-toggleable__label-arrow\">KNeighborsClassifier</label><div class=\"sk-toggleable__content\"><pre>KNeighborsClassifier()</pre></div></div></div></div></div></div></div>"
      ],
      "text/plain": [
       "Pipeline(steps=[('imputer', SimpleImputer(strategy='median')),\n",
       "                ('std_scaler', StandardScaler()),\n",
       "                ['knn', KNeighborsClassifier()]])"
      ]
     },
     "execution_count": 23,
     "metadata": {},
     "output_type": "execute_result"
    }
   ],
   "source": [
    "model_pipe"
   ]
  },
  {
   "cell_type": "markdown",
   "id": "9ceb55a7",
   "metadata": {
    "cell_style": "split",
    "slideshow": {
     "slide_type": "fragment"
    }
   },
   "source": [
    "Can change transformers in the middle:"
   ]
  },
  {
   "cell_type": "code",
   "execution_count": 24,
   "id": "4c0b34ed",
   "metadata": {
    "cell_style": "split",
    "slideshow": {
     "slide_type": "fragment"
    }
   },
   "outputs": [
    {
     "data": {
      "text/html": [
       "<style>#sk-edf015a7-1e29-42b9-8507-5bcfea68e6a8 {color: black;background-color: white;}#sk-edf015a7-1e29-42b9-8507-5bcfea68e6a8 pre{padding: 0;}#sk-edf015a7-1e29-42b9-8507-5bcfea68e6a8 div.sk-toggleable {background-color: white;}#sk-edf015a7-1e29-42b9-8507-5bcfea68e6a8 label.sk-toggleable__label {cursor: pointer;display: block;width: 100%;margin-bottom: 0;padding: 0.3em;box-sizing: border-box;text-align: center;}#sk-edf015a7-1e29-42b9-8507-5bcfea68e6a8 label.sk-toggleable__label-arrow:before {content: \"▸\";float: left;margin-right: 0.25em;color: #696969;}#sk-edf015a7-1e29-42b9-8507-5bcfea68e6a8 label.sk-toggleable__label-arrow:hover:before {color: black;}#sk-edf015a7-1e29-42b9-8507-5bcfea68e6a8 div.sk-estimator:hover label.sk-toggleable__label-arrow:before {color: black;}#sk-edf015a7-1e29-42b9-8507-5bcfea68e6a8 div.sk-toggleable__content {max-height: 0;max-width: 0;overflow: hidden;text-align: left;background-color: #f0f8ff;}#sk-edf015a7-1e29-42b9-8507-5bcfea68e6a8 div.sk-toggleable__content pre {margin: 0.2em;color: black;border-radius: 0.25em;background-color: #f0f8ff;}#sk-edf015a7-1e29-42b9-8507-5bcfea68e6a8 input.sk-toggleable__control:checked~div.sk-toggleable__content {max-height: 200px;max-width: 100%;overflow: auto;}#sk-edf015a7-1e29-42b9-8507-5bcfea68e6a8 input.sk-toggleable__control:checked~label.sk-toggleable__label-arrow:before {content: \"▾\";}#sk-edf015a7-1e29-42b9-8507-5bcfea68e6a8 div.sk-estimator input.sk-toggleable__control:checked~label.sk-toggleable__label {background-color: #d4ebff;}#sk-edf015a7-1e29-42b9-8507-5bcfea68e6a8 div.sk-label input.sk-toggleable__control:checked~label.sk-toggleable__label {background-color: #d4ebff;}#sk-edf015a7-1e29-42b9-8507-5bcfea68e6a8 input.sk-hidden--visually {border: 0;clip: rect(1px 1px 1px 1px);clip: rect(1px, 1px, 1px, 1px);height: 1px;margin: -1px;overflow: hidden;padding: 0;position: absolute;width: 1px;}#sk-edf015a7-1e29-42b9-8507-5bcfea68e6a8 div.sk-estimator {font-family: monospace;background-color: #f0f8ff;border: 1px dotted black;border-radius: 0.25em;box-sizing: border-box;margin-bottom: 0.5em;}#sk-edf015a7-1e29-42b9-8507-5bcfea68e6a8 div.sk-estimator:hover {background-color: #d4ebff;}#sk-edf015a7-1e29-42b9-8507-5bcfea68e6a8 div.sk-parallel-item::after {content: \"\";width: 100%;border-bottom: 1px solid gray;flex-grow: 1;}#sk-edf015a7-1e29-42b9-8507-5bcfea68e6a8 div.sk-label:hover label.sk-toggleable__label {background-color: #d4ebff;}#sk-edf015a7-1e29-42b9-8507-5bcfea68e6a8 div.sk-serial::before {content: \"\";position: absolute;border-left: 1px solid gray;box-sizing: border-box;top: 2em;bottom: 0;left: 50%;}#sk-edf015a7-1e29-42b9-8507-5bcfea68e6a8 div.sk-serial {display: flex;flex-direction: column;align-items: center;background-color: white;padding-right: 0.2em;padding-left: 0.2em;}#sk-edf015a7-1e29-42b9-8507-5bcfea68e6a8 div.sk-item {z-index: 1;}#sk-edf015a7-1e29-42b9-8507-5bcfea68e6a8 div.sk-parallel {display: flex;align-items: stretch;justify-content: center;background-color: white;}#sk-edf015a7-1e29-42b9-8507-5bcfea68e6a8 div.sk-parallel::before {content: \"\";position: absolute;border-left: 1px solid gray;box-sizing: border-box;top: 2em;bottom: 0;left: 50%;}#sk-edf015a7-1e29-42b9-8507-5bcfea68e6a8 div.sk-parallel-item {display: flex;flex-direction: column;position: relative;background-color: white;}#sk-edf015a7-1e29-42b9-8507-5bcfea68e6a8 div.sk-parallel-item:first-child::after {align-self: flex-end;width: 50%;}#sk-edf015a7-1e29-42b9-8507-5bcfea68e6a8 div.sk-parallel-item:last-child::after {align-self: flex-start;width: 50%;}#sk-edf015a7-1e29-42b9-8507-5bcfea68e6a8 div.sk-parallel-item:only-child::after {width: 0;}#sk-edf015a7-1e29-42b9-8507-5bcfea68e6a8 div.sk-dashed-wrapped {border: 1px dashed gray;margin: 0 0.4em 0.5em 0.4em;box-sizing: border-box;padding-bottom: 0.4em;background-color: white;position: relative;}#sk-edf015a7-1e29-42b9-8507-5bcfea68e6a8 div.sk-label label {font-family: monospace;font-weight: bold;background-color: white;display: inline-block;line-height: 1.2em;}#sk-edf015a7-1e29-42b9-8507-5bcfea68e6a8 div.sk-label-container {position: relative;z-index: 2;text-align: center;}#sk-edf015a7-1e29-42b9-8507-5bcfea68e6a8 div.sk-container {/* jupyter's `normalize.less` sets `[hidden] { display: none; }` but bootstrap.min.css set `[hidden] { display: none !important; }` so we also need the `!important` here to be able to override the default hidden behavior on the sphinx rendered scikit-learn.org. See: https://github.com/scikit-learn/scikit-learn/issues/21755 */display: inline-block !important;position: relative;}#sk-edf015a7-1e29-42b9-8507-5bcfea68e6a8 div.sk-text-repr-fallback {display: none;}</style><div id=\"sk-edf015a7-1e29-42b9-8507-5bcfea68e6a8\" class=\"sk-top-container\"><div class=\"sk-text-repr-fallback\"><pre>Pipeline(steps=[(&#x27;imputer&#x27;, SimpleImputer(strategy=&#x27;median&#x27;)),\n",
       "                (&#x27;norm&#x27;, Normalizer()), [&#x27;knn&#x27;, KNeighborsClassifier()]])</pre><b>Please rerun this cell to show the HTML repr or trust the notebook.</b></div><div class=\"sk-container\" hidden><div class=\"sk-item sk-dashed-wrapped\"><div class=\"sk-label-container\"><div class=\"sk-label sk-toggleable\"><input class=\"sk-toggleable__control sk-hidden--visually\" id=\"f878abeb-5e94-42a0-9c98-e266ba9f7d43\" type=\"checkbox\" ><label for=\"f878abeb-5e94-42a0-9c98-e266ba9f7d43\" class=\"sk-toggleable__label sk-toggleable__label-arrow\">Pipeline</label><div class=\"sk-toggleable__content\"><pre>Pipeline(steps=[(&#x27;imputer&#x27;, SimpleImputer(strategy=&#x27;median&#x27;)),\n",
       "                (&#x27;norm&#x27;, Normalizer()), [&#x27;knn&#x27;, KNeighborsClassifier()]])</pre></div></div></div><div class=\"sk-serial\"><div class=\"sk-item\"><div class=\"sk-estimator sk-toggleable\"><input class=\"sk-toggleable__control sk-hidden--visually\" id=\"d8845aab-885b-4001-a61e-251a6a74bae2\" type=\"checkbox\" ><label for=\"d8845aab-885b-4001-a61e-251a6a74bae2\" class=\"sk-toggleable__label sk-toggleable__label-arrow\">SimpleImputer</label><div class=\"sk-toggleable__content\"><pre>SimpleImputer(strategy=&#x27;median&#x27;)</pre></div></div></div><div class=\"sk-item\"><div class=\"sk-estimator sk-toggleable\"><input class=\"sk-toggleable__control sk-hidden--visually\" id=\"3267a132-b35a-4174-a351-9b9e543310aa\" type=\"checkbox\" ><label for=\"3267a132-b35a-4174-a351-9b9e543310aa\" class=\"sk-toggleable__label sk-toggleable__label-arrow\">Normalizer</label><div class=\"sk-toggleable__content\"><pre>Normalizer()</pre></div></div></div><div class=\"sk-item\"><div class=\"sk-estimator sk-toggleable\"><input class=\"sk-toggleable__control sk-hidden--visually\" id=\"ae45a3a3-43be-46b8-817c-cc88b96a5a7d\" type=\"checkbox\" ><label for=\"ae45a3a3-43be-46b8-817c-cc88b96a5a7d\" class=\"sk-toggleable__label sk-toggleable__label-arrow\">KNeighborsClassifier</label><div class=\"sk-toggleable__content\"><pre>KNeighborsClassifier()</pre></div></div></div></div></div></div></div>"
      ],
      "text/plain": [
       "Pipeline(steps=[('imputer', SimpleImputer(strategy='median')),\n",
       "                ('norm', Normalizer()), ['knn', KNeighborsClassifier()]])"
      ]
     },
     "execution_count": 24,
     "metadata": {},
     "output_type": "execute_result"
    }
   ],
   "source": [
    "model_pipe.steps[1] = ('norm', Normalizer())\n",
    "model_pipe\n",
    "# element 0 - simple imputer\n",
    "# element 1 - normalizer\n",
    "# element 2  - Kneighbor\n",
    "# .step[1] = Normalizer ( we reasigning the normalizer instead of standard scaler)"
   ]
  },
  {
   "cell_type": "markdown",
   "id": "5a4898ce",
   "metadata": {
    "slideshow": {
     "slide_type": "slide"
    }
   },
   "source": [
    "#### Pipelines\n",
    "- Easily plug/play different transformers and models into our workflow"
   ]
  },
  {
   "cell_type": "markdown",
   "id": "4dc71eaf",
   "metadata": {
    "slideshow": {
     "slide_type": "slide"
    }
   },
   "source": [
    "#### Pipelines clearly awesome, but:"
   ]
  },
  {
   "cell_type": "markdown",
   "id": "dced810f",
   "metadata": {
    "slideshow": {
     "slide_type": "fragment"
    }
   },
   "source": [
    "Transformer/model pipeline hyperparameter tuning with cross-validation still pretty manual:\n",
    "\n",
    "Want:\n",
    "- Efficient hyperparameter tuning with minimal code\n",
    "- Leakage prevention\n",
    "- Automatic best model selection and reporting on the CV for each pipeline tried. \n"
   ]
  },
  {
   "cell_type": "markdown",
   "id": "c9a373c2",
   "metadata": {
    "slideshow": {
     "slide_type": "slide"
    }
   },
   "source": [
    "#### The Grid Search CV"
   ]
  },
  {
   "cell_type": "markdown",
   "id": "5f795b1e",
   "metadata": {
    "cell_style": "split",
    "hidden": true,
    "slideshow": {
     "slide_type": "fragment"
    }
   },
   "source": [
    "Scikit-Learn has a [`GridSearchCV`](https://scikit-learn.org/stable/modules/generated/sklearn.model_selection.GridSearchCV.html) class whose `fit()` method:\n",
    "\n",
    "- takes in a grid of hyperparameters\n",
    "- loops through all of them **in order**\n",
    "- runs cross-validation properly scoring by chosen metric\n"
   ]
  },
  {
   "cell_type": "markdown",
   "id": "1a87aa51",
   "metadata": {
    "cell_style": "split",
    "slideshow": {
     "slide_type": "fragment"
    }
   },
   "source": [
    "- Returns all the models fitted\n",
    "- Can easily access best model and its score"
   ]
  },
  {
   "cell_type": "markdown",
   "id": "06e75043",
   "metadata": {
    "cell_style": "split",
    "slideshow": {
     "slide_type": "fragment"
    }
   },
   "source": [
    "<center><img src = \"Images/hyperparameter_tuning_cv_grid.webp\" width = 400/></center>"
   ]
  },
  {
   "cell_type": "markdown",
   "id": "d3ba40b9",
   "metadata": {
    "heading_collapsed": true,
    "hidden": true,
    "slideshow": {
     "slide_type": "slide"
    }
   },
   "source": [
    "#### GridSearchCV"
   ]
  },
  {
   "cell_type": "code",
   "execution_count": 25,
   "id": "5b5ec9f4",
   "metadata": {
    "cell_style": "center",
    "slideshow": {
     "slide_type": "fragment"
    }
   },
   "outputs": [],
   "source": [
    "# let's define a new pipeline object \n",
    "\n",
    "steps = [('imputer', SimpleImputer(strategy=\"median\")), ('std_scaler', StandardScaler()),\n",
    "        ('knn', KNeighborsClassifier())]\n",
    "\n",
    "model_pipe = Pipeline(steps)"
   ]
  },
  {
   "cell_type": "markdown",
   "id": "4b872502",
   "metadata": {
    "cell_style": "split",
    "slideshow": {
     "slide_type": "fragment"
    }
   },
   "source": [
    "CV takes in a grid dictionary:\n",
    "- with pipeline: key must follow a specific format\n",
    "- \"pipelinename__hyperparameter\" (label__hyperparameter"
   ]
  },
  {
   "cell_type": "markdown",
   "id": "0c9a389b",
   "metadata": {
    "cell_style": "split",
    "slideshow": {
     "slide_type": "fragment"
    }
   },
   "source": [
    "With pipeline:\n",
    "- Can change hyperparameters of model\n",
    "- **Also** can change hyperparameters of transformers."
   ]
  },
  {
   "cell_type": "code",
   "execution_count": 26,
   "id": "e5d5f175",
   "metadata": {
    "ExecuteTime": {
     "end_time": "2021-10-28T03:33:35.802959Z",
     "start_time": "2021-10-28T03:33:35.800647Z"
    },
    "cell_style": "center",
    "hidden": true,
    "slideshow": {
     "slide_type": "fragment"
    }
   },
   "outputs": [],
   "source": [
    "# changing hyperparameters\n",
    "# imputer stategy ('imputer', SimpleImputer(strategy=\"median\") , stategy is mean and median \n",
    "# knn - hyper parameters n_neighbors, and p (power parametric - Minkowski)\n",
    "pipe_grid = {'imputer__strategy': [\"mean\", \"median\"],\n",
    "             'knn__n_neighbors': [3, 5, 7, 9, 11, 13, 15, 18],\n",
    "             'knn__p': [1, 2, 3, 4]}\n",
    "# choose odd numbers to get majority , if the balance is not purely even you can use even nubmers\n",
    "# note: default scoring is aaccuracy\n",
    "gs_pipe = GridSearchCV(estimator=model_pipe, \n",
    "                       param_grid=pipe_grid)\n"
   ]
  },
  {
   "cell_type": "code",
   "execution_count": 27,
   "id": "f312fddb",
   "metadata": {
    "ExecuteTime": {
     "end_time": "2021-10-28T03:33:38.433413Z",
     "start_time": "2021-10-28T03:33:38.076112Z"
    },
    "hidden": true,
    "slideshow": {
     "slide_type": "slide"
    }
   },
   "outputs": [],
   "source": [
    "gs_pipe.fit(X_train, y_train);"
   ]
  },
  {
   "cell_type": "code",
   "execution_count": 28,
   "id": "37acf96b",
   "metadata": {
    "ExecuteTime": {
     "end_time": "2021-10-28T03:33:38.438408Z",
     "start_time": "2021-10-28T03:33:38.435309Z"
    },
    "cell_style": "center",
    "hidden": true,
    "slideshow": {
     "slide_type": "slide"
    }
   },
   "outputs": [
    {
     "data": {
      "text/plain": [
       "{'imputer__strategy': 'mean', 'knn__n_neighbors': 18, 'knn__p': 1}"
      ]
     },
     "execution_count": 28,
     "metadata": {},
     "output_type": "execute_result"
    }
   ],
   "source": [
    "gs_pipe.best_params_ # attribute only exist after fiting"
   ]
  },
  {
   "cell_type": "code",
   "execution_count": 29,
   "id": "34bad70c",
   "metadata": {
    "ExecuteTime": {
     "end_time": "2021-10-28T03:33:38.739396Z",
     "start_time": "2021-10-28T03:33:38.736044Z"
    },
    "cell_style": "center",
    "hidden": true,
    "slideshow": {
     "slide_type": "fragment"
    }
   },
   "outputs": [
    {
     "data": {
      "text/plain": [
       "0.819076923076923"
      ]
     },
     "execution_count": 29,
     "metadata": {},
     "output_type": "execute_result"
    }
   ],
   "source": [
    "# accuracy score\n",
    "gs_pipe.best_score_"
   ]
  },
  {
   "cell_type": "markdown",
   "id": "c22aafee",
   "metadata": {
    "slideshow": {
     "slide_type": "slide"
    }
   },
   "source": [
    "Get the best estimator"
   ]
  },
  {
   "cell_type": "code",
   "execution_count": 30,
   "id": "be8f0fba",
   "metadata": {
    "cell_style": "center",
    "slideshow": {
     "slide_type": "fragment"
    }
   },
   "outputs": [
    {
     "data": {
      "text/html": [
       "<style>#sk-6f1b5de6-e192-4746-8108-b7e268da5363 {color: black;background-color: white;}#sk-6f1b5de6-e192-4746-8108-b7e268da5363 pre{padding: 0;}#sk-6f1b5de6-e192-4746-8108-b7e268da5363 div.sk-toggleable {background-color: white;}#sk-6f1b5de6-e192-4746-8108-b7e268da5363 label.sk-toggleable__label {cursor: pointer;display: block;width: 100%;margin-bottom: 0;padding: 0.3em;box-sizing: border-box;text-align: center;}#sk-6f1b5de6-e192-4746-8108-b7e268da5363 label.sk-toggleable__label-arrow:before {content: \"▸\";float: left;margin-right: 0.25em;color: #696969;}#sk-6f1b5de6-e192-4746-8108-b7e268da5363 label.sk-toggleable__label-arrow:hover:before {color: black;}#sk-6f1b5de6-e192-4746-8108-b7e268da5363 div.sk-estimator:hover label.sk-toggleable__label-arrow:before {color: black;}#sk-6f1b5de6-e192-4746-8108-b7e268da5363 div.sk-toggleable__content {max-height: 0;max-width: 0;overflow: hidden;text-align: left;background-color: #f0f8ff;}#sk-6f1b5de6-e192-4746-8108-b7e268da5363 div.sk-toggleable__content pre {margin: 0.2em;color: black;border-radius: 0.25em;background-color: #f0f8ff;}#sk-6f1b5de6-e192-4746-8108-b7e268da5363 input.sk-toggleable__control:checked~div.sk-toggleable__content {max-height: 200px;max-width: 100%;overflow: auto;}#sk-6f1b5de6-e192-4746-8108-b7e268da5363 input.sk-toggleable__control:checked~label.sk-toggleable__label-arrow:before {content: \"▾\";}#sk-6f1b5de6-e192-4746-8108-b7e268da5363 div.sk-estimator input.sk-toggleable__control:checked~label.sk-toggleable__label {background-color: #d4ebff;}#sk-6f1b5de6-e192-4746-8108-b7e268da5363 div.sk-label input.sk-toggleable__control:checked~label.sk-toggleable__label {background-color: #d4ebff;}#sk-6f1b5de6-e192-4746-8108-b7e268da5363 input.sk-hidden--visually {border: 0;clip: rect(1px 1px 1px 1px);clip: rect(1px, 1px, 1px, 1px);height: 1px;margin: -1px;overflow: hidden;padding: 0;position: absolute;width: 1px;}#sk-6f1b5de6-e192-4746-8108-b7e268da5363 div.sk-estimator {font-family: monospace;background-color: #f0f8ff;border: 1px dotted black;border-radius: 0.25em;box-sizing: border-box;margin-bottom: 0.5em;}#sk-6f1b5de6-e192-4746-8108-b7e268da5363 div.sk-estimator:hover {background-color: #d4ebff;}#sk-6f1b5de6-e192-4746-8108-b7e268da5363 div.sk-parallel-item::after {content: \"\";width: 100%;border-bottom: 1px solid gray;flex-grow: 1;}#sk-6f1b5de6-e192-4746-8108-b7e268da5363 div.sk-label:hover label.sk-toggleable__label {background-color: #d4ebff;}#sk-6f1b5de6-e192-4746-8108-b7e268da5363 div.sk-serial::before {content: \"\";position: absolute;border-left: 1px solid gray;box-sizing: border-box;top: 2em;bottom: 0;left: 50%;}#sk-6f1b5de6-e192-4746-8108-b7e268da5363 div.sk-serial {display: flex;flex-direction: column;align-items: center;background-color: white;padding-right: 0.2em;padding-left: 0.2em;}#sk-6f1b5de6-e192-4746-8108-b7e268da5363 div.sk-item {z-index: 1;}#sk-6f1b5de6-e192-4746-8108-b7e268da5363 div.sk-parallel {display: flex;align-items: stretch;justify-content: center;background-color: white;}#sk-6f1b5de6-e192-4746-8108-b7e268da5363 div.sk-parallel::before {content: \"\";position: absolute;border-left: 1px solid gray;box-sizing: border-box;top: 2em;bottom: 0;left: 50%;}#sk-6f1b5de6-e192-4746-8108-b7e268da5363 div.sk-parallel-item {display: flex;flex-direction: column;position: relative;background-color: white;}#sk-6f1b5de6-e192-4746-8108-b7e268da5363 div.sk-parallel-item:first-child::after {align-self: flex-end;width: 50%;}#sk-6f1b5de6-e192-4746-8108-b7e268da5363 div.sk-parallel-item:last-child::after {align-self: flex-start;width: 50%;}#sk-6f1b5de6-e192-4746-8108-b7e268da5363 div.sk-parallel-item:only-child::after {width: 0;}#sk-6f1b5de6-e192-4746-8108-b7e268da5363 div.sk-dashed-wrapped {border: 1px dashed gray;margin: 0 0.4em 0.5em 0.4em;box-sizing: border-box;padding-bottom: 0.4em;background-color: white;position: relative;}#sk-6f1b5de6-e192-4746-8108-b7e268da5363 div.sk-label label {font-family: monospace;font-weight: bold;background-color: white;display: inline-block;line-height: 1.2em;}#sk-6f1b5de6-e192-4746-8108-b7e268da5363 div.sk-label-container {position: relative;z-index: 2;text-align: center;}#sk-6f1b5de6-e192-4746-8108-b7e268da5363 div.sk-container {/* jupyter's `normalize.less` sets `[hidden] { display: none; }` but bootstrap.min.css set `[hidden] { display: none !important; }` so we also need the `!important` here to be able to override the default hidden behavior on the sphinx rendered scikit-learn.org. See: https://github.com/scikit-learn/scikit-learn/issues/21755 */display: inline-block !important;position: relative;}#sk-6f1b5de6-e192-4746-8108-b7e268da5363 div.sk-text-repr-fallback {display: none;}</style><div id=\"sk-6f1b5de6-e192-4746-8108-b7e268da5363\" class=\"sk-top-container\"><div class=\"sk-text-repr-fallback\"><pre>Pipeline(steps=[(&#x27;imputer&#x27;, SimpleImputer()), (&#x27;std_scaler&#x27;, StandardScaler()),\n",
       "                (&#x27;knn&#x27;, KNeighborsClassifier(n_neighbors=18, p=1))])</pre><b>Please rerun this cell to show the HTML repr or trust the notebook.</b></div><div class=\"sk-container\" hidden><div class=\"sk-item sk-dashed-wrapped\"><div class=\"sk-label-container\"><div class=\"sk-label sk-toggleable\"><input class=\"sk-toggleable__control sk-hidden--visually\" id=\"044527c6-9ea8-4d1d-923b-7d4fdbcd6497\" type=\"checkbox\" ><label for=\"044527c6-9ea8-4d1d-923b-7d4fdbcd6497\" class=\"sk-toggleable__label sk-toggleable__label-arrow\">Pipeline</label><div class=\"sk-toggleable__content\"><pre>Pipeline(steps=[(&#x27;imputer&#x27;, SimpleImputer()), (&#x27;std_scaler&#x27;, StandardScaler()),\n",
       "                (&#x27;knn&#x27;, KNeighborsClassifier(n_neighbors=18, p=1))])</pre></div></div></div><div class=\"sk-serial\"><div class=\"sk-item\"><div class=\"sk-estimator sk-toggleable\"><input class=\"sk-toggleable__control sk-hidden--visually\" id=\"ec7ffcf6-0da2-4b7b-839f-0692e539f6fd\" type=\"checkbox\" ><label for=\"ec7ffcf6-0da2-4b7b-839f-0692e539f6fd\" class=\"sk-toggleable__label sk-toggleable__label-arrow\">SimpleImputer</label><div class=\"sk-toggleable__content\"><pre>SimpleImputer()</pre></div></div></div><div class=\"sk-item\"><div class=\"sk-estimator sk-toggleable\"><input class=\"sk-toggleable__control sk-hidden--visually\" id=\"ca8d102e-5c43-4d29-9e99-b6a119116a7b\" type=\"checkbox\" ><label for=\"ca8d102e-5c43-4d29-9e99-b6a119116a7b\" class=\"sk-toggleable__label sk-toggleable__label-arrow\">StandardScaler</label><div class=\"sk-toggleable__content\"><pre>StandardScaler()</pre></div></div></div><div class=\"sk-item\"><div class=\"sk-estimator sk-toggleable\"><input class=\"sk-toggleable__control sk-hidden--visually\" id=\"5323d01c-5c37-4154-a1be-94e50f80447d\" type=\"checkbox\" ><label for=\"5323d01c-5c37-4154-a1be-94e50f80447d\" class=\"sk-toggleable__label sk-toggleable__label-arrow\">KNeighborsClassifier</label><div class=\"sk-toggleable__content\"><pre>KNeighborsClassifier(n_neighbors=18, p=1)</pre></div></div></div></div></div></div></div>"
      ],
      "text/plain": [
       "Pipeline(steps=[('imputer', SimpleImputer()), ('std_scaler', StandardScaler()),\n",
       "                ('knn', KNeighborsClassifier(n_neighbors=18, p=1))])"
      ]
     },
     "execution_count": 30,
     "metadata": {},
     "output_type": "execute_result"
    }
   ],
   "source": [
    "# save the best estimator, we have our best model\n",
    "best_model = gs_pipe.best_estimator_\n",
    "best_model"
   ]
  },
  {
   "cell_type": "markdown",
   "id": "72c136bd",
   "metadata": {
    "slideshow": {
     "slide_type": "slide"
    }
   },
   "source": [
    "Evaluate on the test"
   ]
  },
  {
   "cell_type": "code",
   "execution_count": 31,
   "id": "ae0d29f1",
   "metadata": {
    "slideshow": {
     "slide_type": "fragment"
    }
   },
   "outputs": [],
   "source": [
    "# once you have the best model you do prediction\n",
    "y_pred = best_model.predict(X_test)"
   ]
  },
  {
   "cell_type": "code",
   "execution_count": 32,
   "id": "d4bf9bb2",
   "metadata": {
    "cell_style": "split",
    "slideshow": {
     "slide_type": "fragment"
    }
   },
   "outputs": [
    {
     "data": {
      "image/png": "[encoded data removed]",
      "text/plain": [
       "<Figure size 432x288 with 2 Axes>"
      ]
     },
     "metadata": {
      "needs_background": "light"
     },
     "output_type": "display_data"
    }
   ],
   "source": [
    "#plot_confusion_matrix(best_model, X_test, y_test)\n",
    "ConfusionMatrixDisplay.from_estimator(best_model, X_test, y_test);"
   ]
  },
  {
   "cell_type": "code",
   "execution_count": 33,
   "id": "11e4c2d7",
   "metadata": {
    "cell_style": "center",
    "slideshow": {
     "slide_type": "fragment"
    }
   },
   "outputs": [
    {
     "name": "stdout",
     "output_type": "stream",
     "text": [
      "              precision    recall  f1-score   support\n",
      "\n",
      "           0       1.00      1.00      1.00         7\n",
      "           1       0.62      0.62      0.62         8\n",
      "           2       0.62      0.62      0.62         8\n",
      "\n",
      "    accuracy                           0.74        23\n",
      "   macro avg       0.75      0.75      0.75        23\n",
      "weighted avg       0.74      0.74      0.74        23\n",
      "\n"
     ]
    }
   ],
   "source": [
    "\n",
    "print(classification_report(y_test, y_pred))\n",
    "# precision didnt do well on 1 and 2"
   ]
  },
  {
   "cell_type": "markdown",
   "id": "3592ca85",
   "metadata": {
    "slideshow": {
     "slide_type": "slide"
    }
   },
   "source": [
    "Can also get full report of cross validation with the pipeline estimators:\n",
    "- e.g. a dataframe with all the models"
   ]
  },
  {
   "cell_type": "code",
   "execution_count": 34,
   "id": "35ff5277",
   "metadata": {
    "scrolled": true,
    "slideshow": {
     "slide_type": "slide"
    }
   },
   "outputs": [
    {
     "data": {
      "text/html": [
       "<div>\n",
       "<style scoped>\n",
       "    .dataframe tbody tr th:only-of-type {\n",
       "        vertical-align: middle;\n",
       "    }\n",
       "\n",
       "    .dataframe tbody tr th {\n",
       "        vertical-align: top;\n",
       "    }\n",
       "\n",
       "    .dataframe thead th {\n",
       "        text-align: right;\n",
       "    }\n",
       "</style>\n",
       "<table border=\"1\" class=\"dataframe\">\n",
       "  <thead>\n",
       "    <tr style=\"text-align: right;\">\n",
       "      <th></th>\n",
       "      <th>mean_fit_time</th>\n",
       "      <th>std_fit_time</th>\n",
       "      <th>mean_score_time</th>\n",
       "      <th>std_score_time</th>\n",
       "      <th>param_imputer__strategy</th>\n",
       "      <th>param_knn__n_neighbors</th>\n",
       "      <th>param_knn__p</th>\n",
       "      <th>params</th>\n",
       "      <th>split0_test_score</th>\n",
       "      <th>split1_test_score</th>\n",
       "      <th>split2_test_score</th>\n",
       "      <th>split3_test_score</th>\n",
       "      <th>split4_test_score</th>\n",
       "      <th>mean_test_score</th>\n",
       "      <th>std_test_score</th>\n",
       "      <th>rank_test_score</th>\n",
       "    </tr>\n",
       "  </thead>\n",
       "  <tbody>\n",
       "    <tr>\n",
       "      <th>60</th>\n",
       "      <td>0.001550</td>\n",
       "      <td>0.000011</td>\n",
       "      <td>0.001227</td>\n",
       "      <td>0.000010</td>\n",
       "      <td>median</td>\n",
       "      <td>18</td>\n",
       "      <td>1</td>\n",
       "      <td>{'imputer__strategy': 'median', 'knn__n_neighb...</td>\n",
       "      <td>0.769231</td>\n",
       "      <td>0.846154</td>\n",
       "      <td>0.8</td>\n",
       "      <td>0.8</td>\n",
       "      <td>0.88</td>\n",
       "      <td>0.819077</td>\n",
       "      <td>0.039134</td>\n",
       "      <td>1</td>\n",
       "    </tr>\n",
       "    <tr>\n",
       "      <th>28</th>\n",
       "      <td>0.001486</td>\n",
       "      <td>0.000040</td>\n",
       "      <td>0.001241</td>\n",
       "      <td>0.000019</td>\n",
       "      <td>mean</td>\n",
       "      <td>18</td>\n",
       "      <td>1</td>\n",
       "      <td>{'imputer__strategy': 'mean', 'knn__n_neighbor...</td>\n",
       "      <td>0.769231</td>\n",
       "      <td>0.846154</td>\n",
       "      <td>0.8</td>\n",
       "      <td>0.8</td>\n",
       "      <td>0.88</td>\n",
       "      <td>0.819077</td>\n",
       "      <td>0.039134</td>\n",
       "      <td>1</td>\n",
       "    </tr>\n",
       "    <tr>\n",
       "      <th>61</th>\n",
       "      <td>0.001562</td>\n",
       "      <td>0.000025</td>\n",
       "      <td>0.001230</td>\n",
       "      <td>0.000034</td>\n",
       "      <td>median</td>\n",
       "      <td>18</td>\n",
       "      <td>2</td>\n",
       "      <td>{'imputer__strategy': 'median', 'knn__n_neighb...</td>\n",
       "      <td>0.769231</td>\n",
       "      <td>0.807692</td>\n",
       "      <td>0.8</td>\n",
       "      <td>0.8</td>\n",
       "      <td>0.84</td>\n",
       "      <td>0.803385</td>\n",
       "      <td>0.022577</td>\n",
       "      <td>3</td>\n",
       "    </tr>\n",
       "    <tr>\n",
       "      <th>29</th>\n",
       "      <td>0.001463</td>\n",
       "      <td>0.000010</td>\n",
       "      <td>0.001214</td>\n",
       "      <td>0.000008</td>\n",
       "      <td>mean</td>\n",
       "      <td>18</td>\n",
       "      <td>2</td>\n",
       "      <td>{'imputer__strategy': 'mean', 'knn__n_neighbor...</td>\n",
       "      <td>0.769231</td>\n",
       "      <td>0.807692</td>\n",
       "      <td>0.8</td>\n",
       "      <td>0.8</td>\n",
       "      <td>0.84</td>\n",
       "      <td>0.803385</td>\n",
       "      <td>0.022577</td>\n",
       "      <td>3</td>\n",
       "    </tr>\n",
       "    <tr>\n",
       "      <th>62</th>\n",
       "      <td>0.001583</td>\n",
       "      <td>0.000033</td>\n",
       "      <td>0.001326</td>\n",
       "      <td>0.000019</td>\n",
       "      <td>median</td>\n",
       "      <td>18</td>\n",
       "      <td>3</td>\n",
       "      <td>{'imputer__strategy': 'median', 'knn__n_neighb...</td>\n",
       "      <td>0.769231</td>\n",
       "      <td>0.769231</td>\n",
       "      <td>0.8</td>\n",
       "      <td>0.8</td>\n",
       "      <td>0.84</td>\n",
       "      <td>0.795692</td>\n",
       "      <td>0.026080</td>\n",
       "      <td>5</td>\n",
       "    </tr>\n",
       "  </tbody>\n",
       "</table>\n",
       "</div>"
      ],
      "text/plain": [
       "    mean_fit_time  std_fit_time  mean_score_time  std_score_time  \\\n",
       "60       0.001550      0.000011         0.001227        0.000010   \n",
       "28       0.001486      0.000040         0.001241        0.000019   \n",
       "61       0.001562      0.000025         0.001230        0.000034   \n",
       "29       0.001463      0.000010         0.001214        0.000008   \n",
       "62       0.001583      0.000033         0.001326        0.000019   \n",
       "\n",
       "   param_imputer__strategy param_knn__n_neighbors param_knn__p  \\\n",
       "60                  median                     18            1   \n",
       "28                    mean                     18            1   \n",
       "61                  median                     18            2   \n",
       "29                    mean                     18            2   \n",
       "62                  median                     18            3   \n",
       "\n",
       "                                               params  split0_test_score  \\\n",
       "60  {'imputer__strategy': 'median', 'knn__n_neighb...           0.769231   \n",
       "28  {'imputer__strategy': 'mean', 'knn__n_neighbor...           0.769231   \n",
       "61  {'imputer__strategy': 'median', 'knn__n_neighb...           0.769231   \n",
       "29  {'imputer__strategy': 'mean', 'knn__n_neighbor...           0.769231   \n",
       "62  {'imputer__strategy': 'median', 'knn__n_neighb...           0.769231   \n",
       "\n",
       "    split1_test_score  split2_test_score  split3_test_score  \\\n",
       "60           0.846154                0.8                0.8   \n",
       "28           0.846154                0.8                0.8   \n",
       "61           0.807692                0.8                0.8   \n",
       "29           0.807692                0.8                0.8   \n",
       "62           0.769231                0.8                0.8   \n",
       "\n",
       "    split4_test_score  mean_test_score  std_test_score  rank_test_score  \n",
       "60               0.88         0.819077        0.039134                1  \n",
       "28               0.88         0.819077        0.039134                1  \n",
       "61               0.84         0.803385        0.022577                3  \n",
       "29               0.84         0.803385        0.022577                3  \n",
       "62               0.84         0.795692        0.026080                5  "
      ]
     },
     "execution_count": 34,
     "metadata": {},
     "output_type": "execute_result"
    }
   ],
   "source": [
    "cv_result_df = pd.DataFrame(gs_pipe.cv_results_)\n",
    "cv_result_df = cv_result_df.sort_values(by = 'rank_test_score') # to get the whole result\n",
    "cv_result_df.head()"
   ]
  },
  {
   "cell_type": "markdown",
   "id": "4adb39c0",
   "metadata": {
    "cell_style": "split",
    "slideshow": {
     "slide_type": "slide"
    }
   },
   "source": [
    "Trying different metrics:\n",
    "- Default scoring was accuracy\n",
    "- But can try other with scoring = ''"
   ]
  },
  {
   "cell_type": "markdown",
   "id": "303ad902",
   "metadata": {
    "cell_style": "split",
    "slideshow": {
     "slide_type": "fragment"
    }
   },
   "source": [
    "- Takes string:\n",
    "    - 'average_precision'\n",
    "    - 'balanced_accuracy' (class averaged recall)\n",
    "    - 'roc_auc', etc."
   ]
  },
  {
   "cell_type": "code",
   "execution_count": 35,
   "id": "05a5deb2",
   "metadata": {
    "slideshow": {
     "slide_type": "slide"
    }
   },
   "outputs": [],
   "source": [
    "pipe_grid = {'imputer__strategy': [\"mean\", \"median\"],\n",
    "             'knn__n_neighbors': [3, 5, 7, 9, 11, 13, 15, 18],\n",
    "             'knn__p': [1, 2, 3, 4]}\n",
    "\n",
    "gs_pipe = GridSearchCV(estimator=model_pipe, \n",
    "                       param_grid=pipe_grid, scoring = 'precision_micro') \n",
    "# precision_micro is not weighted with the supporting class"
   ]
  },
  {
   "cell_type": "code",
   "execution_count": 36,
   "id": "bbb80d93",
   "metadata": {
    "slideshow": {
     "slide_type": "fragment"
    }
   },
   "outputs": [],
   "source": [
    "gs_pipe.fit(X_train, y_train);\n",
    "best_est = gs_pipe.best_estimator_"
   ]
  },
  {
   "cell_type": "code",
   "execution_count": 37,
   "id": "b0661064",
   "metadata": {
    "slideshow": {
     "slide_type": "subslide"
    }
   },
   "outputs": [
    {
     "data": {
      "text/html": [
       "<style>#sk-13f7f535-08e3-4ee7-a4c1-c723a5ba0b37 {color: black;background-color: white;}#sk-13f7f535-08e3-4ee7-a4c1-c723a5ba0b37 pre{padding: 0;}#sk-13f7f535-08e3-4ee7-a4c1-c723a5ba0b37 div.sk-toggleable {background-color: white;}#sk-13f7f535-08e3-4ee7-a4c1-c723a5ba0b37 label.sk-toggleable__label {cursor: pointer;display: block;width: 100%;margin-bottom: 0;padding: 0.3em;box-sizing: border-box;text-align: center;}#sk-13f7f535-08e3-4ee7-a4c1-c723a5ba0b37 label.sk-toggleable__label-arrow:before {content: \"▸\";float: left;margin-right: 0.25em;color: #696969;}#sk-13f7f535-08e3-4ee7-a4c1-c723a5ba0b37 label.sk-toggleable__label-arrow:hover:before {color: black;}#sk-13f7f535-08e3-4ee7-a4c1-c723a5ba0b37 div.sk-estimator:hover label.sk-toggleable__label-arrow:before {color: black;}#sk-13f7f535-08e3-4ee7-a4c1-c723a5ba0b37 div.sk-toggleable__content {max-height: 0;max-width: 0;overflow: hidden;text-align: left;background-color: #f0f8ff;}#sk-13f7f535-08e3-4ee7-a4c1-c723a5ba0b37 div.sk-toggleable__content pre {margin: 0.2em;color: black;border-radius: 0.25em;background-color: #f0f8ff;}#sk-13f7f535-08e3-4ee7-a4c1-c723a5ba0b37 input.sk-toggleable__control:checked~div.sk-toggleable__content {max-height: 200px;max-width: 100%;overflow: auto;}#sk-13f7f535-08e3-4ee7-a4c1-c723a5ba0b37 input.sk-toggleable__control:checked~label.sk-toggleable__label-arrow:before {content: \"▾\";}#sk-13f7f535-08e3-4ee7-a4c1-c723a5ba0b37 div.sk-estimator input.sk-toggleable__control:checked~label.sk-toggleable__label {background-color: #d4ebff;}#sk-13f7f535-08e3-4ee7-a4c1-c723a5ba0b37 div.sk-label input.sk-toggleable__control:checked~label.sk-toggleable__label {background-color: #d4ebff;}#sk-13f7f535-08e3-4ee7-a4c1-c723a5ba0b37 input.sk-hidden--visually {border: 0;clip: rect(1px 1px 1px 1px);clip: rect(1px, 1px, 1px, 1px);height: 1px;margin: -1px;overflow: hidden;padding: 0;position: absolute;width: 1px;}#sk-13f7f535-08e3-4ee7-a4c1-c723a5ba0b37 div.sk-estimator {font-family: monospace;background-color: #f0f8ff;border: 1px dotted black;border-radius: 0.25em;box-sizing: border-box;margin-bottom: 0.5em;}#sk-13f7f535-08e3-4ee7-a4c1-c723a5ba0b37 div.sk-estimator:hover {background-color: #d4ebff;}#sk-13f7f535-08e3-4ee7-a4c1-c723a5ba0b37 div.sk-parallel-item::after {content: \"\";width: 100%;border-bottom: 1px solid gray;flex-grow: 1;}#sk-13f7f535-08e3-4ee7-a4c1-c723a5ba0b37 div.sk-label:hover label.sk-toggleable__label {background-color: #d4ebff;}#sk-13f7f535-08e3-4ee7-a4c1-c723a5ba0b37 div.sk-serial::before {content: \"\";position: absolute;border-left: 1px solid gray;box-sizing: border-box;top: 2em;bottom: 0;left: 50%;}#sk-13f7f535-08e3-4ee7-a4c1-c723a5ba0b37 div.sk-serial {display: flex;flex-direction: column;align-items: center;background-color: white;padding-right: 0.2em;padding-left: 0.2em;}#sk-13f7f535-08e3-4ee7-a4c1-c723a5ba0b37 div.sk-item {z-index: 1;}#sk-13f7f535-08e3-4ee7-a4c1-c723a5ba0b37 div.sk-parallel {display: flex;align-items: stretch;justify-content: center;background-color: white;}#sk-13f7f535-08e3-4ee7-a4c1-c723a5ba0b37 div.sk-parallel::before {content: \"\";position: absolute;border-left: 1px solid gray;box-sizing: border-box;top: 2em;bottom: 0;left: 50%;}#sk-13f7f535-08e3-4ee7-a4c1-c723a5ba0b37 div.sk-parallel-item {display: flex;flex-direction: column;position: relative;background-color: white;}#sk-13f7f535-08e3-4ee7-a4c1-c723a5ba0b37 div.sk-parallel-item:first-child::after {align-self: flex-end;width: 50%;}#sk-13f7f535-08e3-4ee7-a4c1-c723a5ba0b37 div.sk-parallel-item:last-child::after {align-self: flex-start;width: 50%;}#sk-13f7f535-08e3-4ee7-a4c1-c723a5ba0b37 div.sk-parallel-item:only-child::after {width: 0;}#sk-13f7f535-08e3-4ee7-a4c1-c723a5ba0b37 div.sk-dashed-wrapped {border: 1px dashed gray;margin: 0 0.4em 0.5em 0.4em;box-sizing: border-box;padding-bottom: 0.4em;background-color: white;position: relative;}#sk-13f7f535-08e3-4ee7-a4c1-c723a5ba0b37 div.sk-label label {font-family: monospace;font-weight: bold;background-color: white;display: inline-block;line-height: 1.2em;}#sk-13f7f535-08e3-4ee7-a4c1-c723a5ba0b37 div.sk-label-container {position: relative;z-index: 2;text-align: center;}#sk-13f7f535-08e3-4ee7-a4c1-c723a5ba0b37 div.sk-container {/* jupyter's `normalize.less` sets `[hidden] { display: none; }` but bootstrap.min.css set `[hidden] { display: none !important; }` so we also need the `!important` here to be able to override the default hidden behavior on the sphinx rendered scikit-learn.org. See: https://github.com/scikit-learn/scikit-learn/issues/21755 */display: inline-block !important;position: relative;}#sk-13f7f535-08e3-4ee7-a4c1-c723a5ba0b37 div.sk-text-repr-fallback {display: none;}</style><div id=\"sk-13f7f535-08e3-4ee7-a4c1-c723a5ba0b37\" class=\"sk-top-container\"><div class=\"sk-text-repr-fallback\"><pre>Pipeline(steps=[(&#x27;imputer&#x27;, SimpleImputer()), (&#x27;std_scaler&#x27;, StandardScaler()),\n",
       "                (&#x27;knn&#x27;, KNeighborsClassifier(n_neighbors=18, p=1))])</pre><b>Please rerun this cell to show the HTML repr or trust the notebook.</b></div><div class=\"sk-container\" hidden><div class=\"sk-item sk-dashed-wrapped\"><div class=\"sk-label-container\"><div class=\"sk-label sk-toggleable\"><input class=\"sk-toggleable__control sk-hidden--visually\" id=\"771ff275-3d76-4c9c-bad0-62569a2fdaa8\" type=\"checkbox\" ><label for=\"771ff275-3d76-4c9c-bad0-62569a2fdaa8\" class=\"sk-toggleable__label sk-toggleable__label-arrow\">Pipeline</label><div class=\"sk-toggleable__content\"><pre>Pipeline(steps=[(&#x27;imputer&#x27;, SimpleImputer()), (&#x27;std_scaler&#x27;, StandardScaler()),\n",
       "                (&#x27;knn&#x27;, KNeighborsClassifier(n_neighbors=18, p=1))])</pre></div></div></div><div class=\"sk-serial\"><div class=\"sk-item\"><div class=\"sk-estimator sk-toggleable\"><input class=\"sk-toggleable__control sk-hidden--visually\" id=\"63e2d97e-8e64-43e7-a918-728542264e29\" type=\"checkbox\" ><label for=\"63e2d97e-8e64-43e7-a918-728542264e29\" class=\"sk-toggleable__label sk-toggleable__label-arrow\">SimpleImputer</label><div class=\"sk-toggleable__content\"><pre>SimpleImputer()</pre></div></div></div><div class=\"sk-item\"><div class=\"sk-estimator sk-toggleable\"><input class=\"sk-toggleable__control sk-hidden--visually\" id=\"ca5f61b2-abcb-4ede-a7ae-a67a9fae340c\" type=\"checkbox\" ><label for=\"ca5f61b2-abcb-4ede-a7ae-a67a9fae340c\" class=\"sk-toggleable__label sk-toggleable__label-arrow\">StandardScaler</label><div class=\"sk-toggleable__content\"><pre>StandardScaler()</pre></div></div></div><div class=\"sk-item\"><div class=\"sk-estimator sk-toggleable\"><input class=\"sk-toggleable__control sk-hidden--visually\" id=\"3a2efdf7-ce46-4f1a-bc92-4c76b93495b5\" type=\"checkbox\" ><label for=\"3a2efdf7-ce46-4f1a-bc92-4c76b93495b5\" class=\"sk-toggleable__label sk-toggleable__label-arrow\">KNeighborsClassifier</label><div class=\"sk-toggleable__content\"><pre>KNeighborsClassifier(n_neighbors=18, p=1)</pre></div></div></div></div></div></div></div>"
      ],
      "text/plain": [
       "Pipeline(steps=[('imputer', SimpleImputer()), ('std_scaler', StandardScaler()),\n",
       "                ('knn', KNeighborsClassifier(n_neighbors=18, p=1))])"
      ]
     },
     "execution_count": 37,
     "metadata": {},
     "output_type": "execute_result"
    }
   ],
   "source": [
    "best_est\n",
    "# we got the same result with precision_micro"
   ]
  },
  {
   "cell_type": "markdown",
   "id": "5e57ad78",
   "metadata": {
    "slideshow": {
     "slide_type": "slide"
    }
   },
   "source": [
    "Obviously not enough search parameters: still gets same model\n",
    "- Also probably limited by intrinsic overlap in the data.\n",
    "- Will see another example of trying different metrics."
   ]
  },
  {
   "cell_type": "markdown",
   "id": "cd517f86",
   "metadata": {
    "slideshow": {
     "slide_type": "slide"
    }
   },
   "source": [
    "#### In this case:\n",
    "- Not many NaNs\n",
    "- Selected subset of data didn't require multiple types of transformers\n",
    "    - e.g. categorical vs. numeric columns\n",
    "    - ordinal vs. nominal categoricals\n",
    "    - feature engineering on column subsets (Polynomial, etc.)\n"
   ]
  },
  {
   "cell_type": "markdown",
   "id": "ede18c22",
   "metadata": {
    "slideshow": {
     "slide_type": "slide"
    }
   },
   "source": [
    "#### Column Transformers"
   ]
  },
  {
   "cell_type": "markdown",
   "id": "6a1f1e5d",
   "metadata": {
    "slideshow": {
     "slide_type": "fragment"
    }
   },
   "source": [
    "First step in:\n",
    "- dealing with systematically imputing data in pipelines\n",
    "- transforming features of various types in different ways"
   ]
  },
  {
   "cell_type": "code",
   "execution_count": 38,
   "id": "f0a4eb32",
   "metadata": {
    "cell_style": "center",
    "slideshow": {
     "slide_type": "slide"
    }
   },
   "outputs": [],
   "source": [
    "salary_df = pd.read_csv('Data/adult.csv', usecols = ['age', 'occupation', 'education', 'native.country', \n",
    "                                                     'hours.per.week', 'sex', 'income'])\n",
    "salary_df = salary_df[salary_df[\"native.country\"] == \"United-States\"]\n",
    "ed_list = ['10th','11th','HS-grad', 'Some-college', 'Assoc-acdm', 'Assoc-voc', 'Bachelors', 'Masters', 'Doctorate']# ordinal value\n",
    "salary_df = salary_df[salary_df['education'].isin(ed_list)].drop(columns = ['native.country'])"
   ]
  },
  {
   "cell_type": "markdown",
   "id": "e4f375f2",
   "metadata": {
    "slideshow": {
     "slide_type": "slide"
    }
   },
   "source": [
    "Salary prediction problem:\n",
    "- Predict whether someone makes >50K anually\n",
    "- Numeric and categorical features require different preparation\n",
    "- NaN imputation strategies specific to columns\n",
    "\n",
    "Let's learn how to implement all this in the Pipeline"
   ]
  },
  {
   "cell_type": "code",
   "execution_count": 39,
   "id": "2bf244ae",
   "metadata": {
    "cell_style": "split",
    "slideshow": {
     "slide_type": "slide"
    }
   },
   "outputs": [
    {
     "data": {
      "text/html": [
       "<div>\n",
       "<style scoped>\n",
       "    .dataframe tbody tr th:only-of-type {\n",
       "        vertical-align: middle;\n",
       "    }\n",
       "\n",
       "    .dataframe tbody tr th {\n",
       "        vertical-align: top;\n",
       "    }\n",
       "\n",
       "    .dataframe thead th {\n",
       "        text-align: right;\n",
       "    }\n",
       "</style>\n",
       "<table border=\"1\" class=\"dataframe\">\n",
       "  <thead>\n",
       "    <tr style=\"text-align: right;\">\n",
       "      <th></th>\n",
       "      <th>age</th>\n",
       "      <th>education</th>\n",
       "      <th>occupation</th>\n",
       "      <th>sex</th>\n",
       "      <th>hours.per.week</th>\n",
       "      <th>income</th>\n",
       "    </tr>\n",
       "  </thead>\n",
       "  <tbody>\n",
       "    <tr>\n",
       "      <th>0</th>\n",
       "      <td>90</td>\n",
       "      <td>HS-grad</td>\n",
       "      <td>?</td>\n",
       "      <td>Female</td>\n",
       "      <td>40</td>\n",
       "      <td>&lt;=50K</td>\n",
       "    </tr>\n",
       "    <tr>\n",
       "      <th>1</th>\n",
       "      <td>82</td>\n",
       "      <td>HS-grad</td>\n",
       "      <td>Exec-managerial</td>\n",
       "      <td>Female</td>\n",
       "      <td>18</td>\n",
       "      <td>&lt;=50K</td>\n",
       "    </tr>\n",
       "    <tr>\n",
       "      <th>2</th>\n",
       "      <td>66</td>\n",
       "      <td>Some-college</td>\n",
       "      <td>?</td>\n",
       "      <td>Female</td>\n",
       "      <td>40</td>\n",
       "      <td>&lt;=50K</td>\n",
       "    </tr>\n",
       "    <tr>\n",
       "      <th>4</th>\n",
       "      <td>41</td>\n",
       "      <td>Some-college</td>\n",
       "      <td>Prof-specialty</td>\n",
       "      <td>Female</td>\n",
       "      <td>40</td>\n",
       "      <td>&lt;=50K</td>\n",
       "    </tr>\n",
       "    <tr>\n",
       "      <th>5</th>\n",
       "      <td>34</td>\n",
       "      <td>HS-grad</td>\n",
       "      <td>Other-service</td>\n",
       "      <td>Female</td>\n",
       "      <td>45</td>\n",
       "      <td>&lt;=50K</td>\n",
       "    </tr>\n",
       "  </tbody>\n",
       "</table>\n",
       "</div>"
      ],
      "text/plain": [
       "   age     education       occupation     sex  hours.per.week income\n",
       "0   90       HS-grad                ?  Female              40  <=50K\n",
       "1   82       HS-grad  Exec-managerial  Female              18  <=50K\n",
       "2   66  Some-college                ?  Female              40  <=50K\n",
       "4   41  Some-college   Prof-specialty  Female              40  <=50K\n",
       "5   34       HS-grad    Other-service  Female              45  <=50K"
      ]
     },
     "execution_count": 39,
     "metadata": {},
     "output_type": "execute_result"
    }
   ],
   "source": [
    "salary_df.head()"
   ]
  },
  {
   "cell_type": "code",
   "execution_count": 40,
   "id": "ec2922a7",
   "metadata": {
    "cell_style": "split",
    "slideshow": {
     "slide_type": "fragment"
    }
   },
   "outputs": [
    {
     "name": "stdout",
     "output_type": "stream",
     "text": [
      "<class 'pandas.core.frame.DataFrame'>\n",
      "Int64Index: 27249 entries, 0 to 32560\n",
      "Data columns (total 6 columns):\n",
      " #   Column          Non-Null Count  Dtype \n",
      "---  ------          --------------  ----- \n",
      " 0   age             27249 non-null  int64 \n",
      " 1   education       27249 non-null  object\n",
      " 2   occupation      27249 non-null  object\n",
      " 3   sex             27249 non-null  object\n",
      " 4   hours.per.week  27249 non-null  int64 \n",
      " 5   income          27249 non-null  object\n",
      "dtypes: int64(2), object(4)\n",
      "memory usage: 1.5+ MB\n"
     ]
    }
   ],
   "source": [
    "salary_df.info()"
   ]
  },
  {
   "cell_type": "markdown",
   "id": "2a4d736d",
   "metadata": {
    "cell_style": "center",
    "slideshow": {
     "slide_type": "slide"
    }
   },
   "source": [
    "Nulls clearly encoded as '?'\n",
    "- Would do EDA before figuring out how to clean/preprocess columns\n",
    "- But lets go ahead and develop pipeline!"
   ]
  },
  {
   "cell_type": "markdown",
   "id": "0a3b655c",
   "metadata": {
    "cell_style": "split",
    "slideshow": {
     "slide_type": "fragment"
    }
   },
   "source": [
    "**Imputation**\n",
    "- Numeric: impute with mean\n",
    "- Education/occupation/sex: most common"
   ]
  },
  {
   "cell_type": "markdown",
   "id": "d9dc45c5",
   "metadata": {
    "cell_style": "split",
    "slideshow": {
     "slide_type": "fragment"
    }
   },
   "source": [
    "**Encoding**\n",
    "- Education: ordinal encoding\n",
    "- Occupation/Sex: one-hot encoding"
   ]
  },
  {
   "cell_type": "markdown",
   "id": "a74ebf59",
   "metadata": {
    "slideshow": {
     "slide_type": "fragment"
    }
   },
   "source": [
    "Then standardize and model."
   ]
  },
  {
   "cell_type": "code",
   "execution_count": 41,
   "id": "75c1f169",
   "metadata": {
    "slideshow": {
     "slide_type": "slide"
    }
   },
   "outputs": [
    {
     "data": {
      "text/plain": [
       "HS-grad         9702\n",
       "Some-college    6740\n",
       "Bachelors       4766\n",
       "Masters         1527\n",
       "Assoc-voc       1289\n",
       "11th            1067\n",
       "Assoc-acdm       982\n",
       "10th             848\n",
       "Doctorate        328\n",
       "Name: education, dtype: int64"
      ]
     },
     "execution_count": 41,
     "metadata": {},
     "output_type": "execute_result"
    }
   ],
   "source": [
    "salary_df['education'].value_counts()"
   ]
  },
  {
   "cell_type": "markdown",
   "id": "2e22d4e8",
   "metadata": {
    "cell_style": "split"
   },
   "source": [
    "No nans? Guess again!"
   ]
  },
  {
   "cell_type": "code",
   "execution_count": 42,
   "id": "e179811e",
   "metadata": {
    "cell_style": "split"
   },
   "outputs": [
    {
     "data": {
      "text/html": [
       "<div>\n",
       "<style scoped>\n",
       "    .dataframe tbody tr th:only-of-type {\n",
       "        vertical-align: middle;\n",
       "    }\n",
       "\n",
       "    .dataframe tbody tr th {\n",
       "        vertical-align: top;\n",
       "    }\n",
       "\n",
       "    .dataframe thead th {\n",
       "        text-align: right;\n",
       "    }\n",
       "</style>\n",
       "<table border=\"1\" class=\"dataframe\">\n",
       "  <thead>\n",
       "    <tr style=\"text-align: right;\">\n",
       "      <th></th>\n",
       "      <th>age</th>\n",
       "      <th>education</th>\n",
       "      <th>occupation</th>\n",
       "      <th>sex</th>\n",
       "      <th>hours.per.week</th>\n",
       "      <th>income</th>\n",
       "    </tr>\n",
       "  </thead>\n",
       "  <tbody>\n",
       "    <tr>\n",
       "      <th>0</th>\n",
       "      <td>90</td>\n",
       "      <td>HS-grad</td>\n",
       "      <td>?</td>\n",
       "      <td>Female</td>\n",
       "      <td>40</td>\n",
       "      <td>&lt;=50K</td>\n",
       "    </tr>\n",
       "    <tr>\n",
       "      <th>1</th>\n",
       "      <td>82</td>\n",
       "      <td>HS-grad</td>\n",
       "      <td>Exec-managerial</td>\n",
       "      <td>Female</td>\n",
       "      <td>18</td>\n",
       "      <td>&lt;=50K</td>\n",
       "    </tr>\n",
       "    <tr>\n",
       "      <th>2</th>\n",
       "      <td>66</td>\n",
       "      <td>Some-college</td>\n",
       "      <td>?</td>\n",
       "      <td>Female</td>\n",
       "      <td>40</td>\n",
       "      <td>&lt;=50K</td>\n",
       "    </tr>\n",
       "    <tr>\n",
       "      <th>4</th>\n",
       "      <td>41</td>\n",
       "      <td>Some-college</td>\n",
       "      <td>Prof-specialty</td>\n",
       "      <td>Female</td>\n",
       "      <td>40</td>\n",
       "      <td>&lt;=50K</td>\n",
       "    </tr>\n",
       "    <tr>\n",
       "      <th>5</th>\n",
       "      <td>34</td>\n",
       "      <td>HS-grad</td>\n",
       "      <td>Other-service</td>\n",
       "      <td>Female</td>\n",
       "      <td>45</td>\n",
       "      <td>&lt;=50K</td>\n",
       "    </tr>\n",
       "  </tbody>\n",
       "</table>\n",
       "</div>"
      ],
      "text/plain": [
       "   age     education       occupation     sex  hours.per.week income\n",
       "0   90       HS-grad                ?  Female              40  <=50K\n",
       "1   82       HS-grad  Exec-managerial  Female              18  <=50K\n",
       "2   66  Some-college                ?  Female              40  <=50K\n",
       "4   41  Some-college   Prof-specialty  Female              40  <=50K\n",
       "5   34       HS-grad    Other-service  Female              45  <=50K"
      ]
     },
     "execution_count": 42,
     "metadata": {},
     "output_type": "execute_result"
    }
   ],
   "source": [
    "salary_df.head()"
   ]
  },
  {
   "cell_type": "code",
   "execution_count": 43,
   "id": "1a4ce94c",
   "metadata": {
    "cell_style": "split",
    "scrolled": true,
    "slideshow": {
     "slide_type": "slide"
    }
   },
   "outputs": [
    {
     "data": {
      "text/html": [
       "<div>\n",
       "<style scoped>\n",
       "    .dataframe tbody tr th:only-of-type {\n",
       "        vertical-align: middle;\n",
       "    }\n",
       "\n",
       "    .dataframe tbody tr th {\n",
       "        vertical-align: top;\n",
       "    }\n",
       "\n",
       "    .dataframe thead th {\n",
       "        text-align: right;\n",
       "    }\n",
       "</style>\n",
       "<table border=\"1\" class=\"dataframe\">\n",
       "  <thead>\n",
       "    <tr style=\"text-align: right;\">\n",
       "      <th></th>\n",
       "      <th>age</th>\n",
       "      <th>education</th>\n",
       "      <th>occupation</th>\n",
       "      <th>sex</th>\n",
       "      <th>hours.per.week</th>\n",
       "      <th>income</th>\n",
       "    </tr>\n",
       "  </thead>\n",
       "  <tbody>\n",
       "    <tr>\n",
       "      <th>0</th>\n",
       "      <td>90</td>\n",
       "      <td>HS-grad</td>\n",
       "      <td>NaN</td>\n",
       "      <td>Female</td>\n",
       "      <td>40</td>\n",
       "      <td>&lt;=50K</td>\n",
       "    </tr>\n",
       "    <tr>\n",
       "      <th>1</th>\n",
       "      <td>82</td>\n",
       "      <td>HS-grad</td>\n",
       "      <td>Exec-managerial</td>\n",
       "      <td>Female</td>\n",
       "      <td>18</td>\n",
       "      <td>&lt;=50K</td>\n",
       "    </tr>\n",
       "    <tr>\n",
       "      <th>2</th>\n",
       "      <td>66</td>\n",
       "      <td>Some-college</td>\n",
       "      <td>NaN</td>\n",
       "      <td>Female</td>\n",
       "      <td>40</td>\n",
       "      <td>&lt;=50K</td>\n",
       "    </tr>\n",
       "  </tbody>\n",
       "</table>\n",
       "</div>"
      ],
      "text/plain": [
       "   age     education       occupation     sex  hours.per.week income\n",
       "0   90       HS-grad              NaN  Female              40  <=50K\n",
       "1   82       HS-grad  Exec-managerial  Female              18  <=50K\n",
       "2   66  Some-college              NaN  Female              40  <=50K"
      ]
     },
     "execution_count": 43,
     "metadata": {},
     "output_type": "execute_result"
    }
   ],
   "source": [
    "# replace with NaNs\n",
    "salary_df = salary_df.replace({'?':np.nan})\n",
    "salary_df.head(3)"
   ]
  },
  {
   "cell_type": "code",
   "execution_count": 44,
   "id": "2bf8217e",
   "metadata": {
    "cell_style": "split",
    "slideshow": {
     "slide_type": "fragment"
    }
   },
   "outputs": [
    {
     "name": "stdout",
     "output_type": "stream",
     "text": [
      "<class 'pandas.core.frame.DataFrame'>\n",
      "Int64Index: 27249 entries, 0 to 32560\n",
      "Data columns (total 6 columns):\n",
      " #   Column          Non-Null Count  Dtype \n",
      "---  ------          --------------  ----- \n",
      " 0   age             27249 non-null  int64 \n",
      " 1   education       27249 non-null  object\n",
      " 2   occupation      25766 non-null  object\n",
      " 3   sex             27249 non-null  object\n",
      " 4   hours.per.week  27249 non-null  int64 \n",
      " 5   income          27249 non-null  object\n",
      "dtypes: int64(2), object(4)\n",
      "memory usage: 1.5+ MB\n"
     ]
    }
   ],
   "source": [
    "salary_df.info()"
   ]
  },
  {
   "cell_type": "code",
   "execution_count": 45,
   "id": "6c7984f4",
   "metadata": {
    "cell_style": "center",
    "slideshow": {
     "slide_type": "slide"
    }
   },
   "outputs": [],
   "source": [
    "from sklearn.preprocessing import LabelEncoder"
   ]
  },
  {
   "cell_type": "code",
   "execution_count": 46,
   "id": "06d71cae",
   "metadata": {
    "cell_style": "split",
    "slideshow": {
     "slide_type": "fragment"
    }
   },
   "outputs": [],
   "source": [
    "# label encoder to the target variable\n",
    "X_income = salary_df.drop(columns = [\"income\"])\n",
    "y_income = salary_df['income']"
   ]
  },
  {
   "cell_type": "code",
   "execution_count": 47,
   "id": "8c7b8737",
   "metadata": {
    "cell_style": "split",
    "slideshow": {
     "slide_type": "fragment"
    }
   },
   "outputs": [],
   "source": [
    "lab_enc = LabelEncoder()\n",
    "y_income = lab_enc.fit_transform(y_income)"
   ]
  },
  {
   "cell_type": "markdown",
   "id": "6c0da2a1",
   "metadata": {
    "slideshow": {
     "slide_type": "slide"
    }
   },
   "source": [
    "#### Before doing anything else"
   ]
  },
  {
   "cell_type": "code",
   "execution_count": 48,
   "id": "124f6847",
   "metadata": {
    "slideshow": {
     "slide_type": "fragment"
    }
   },
   "outputs": [],
   "source": [
    "#train test split\n",
    "X_inc_train, X_inc_test, y_inc_train, y_inc_test = train_test_split(X_income, y_income, test_size = 0.15)"
   ]
  },
  {
   "cell_type": "code",
   "execution_count": 49,
   "id": "259decca",
   "metadata": {
    "scrolled": true,
    "slideshow": {
     "slide_type": "fragment"
    }
   },
   "outputs": [],
   "source": [
    "from sklearn.pipeline import Pipeline\n",
    "from sklearn.impute import SimpleImputer\n",
    "from sklearn.preprocessing import LabelEncoder\n",
    "from sklearn.preprocessing import OrdinalEncoder\n",
    "from sklearn.preprocessing import OneHotEncoder\n",
    "from sklearn.preprocessing import StandardScaler\n",
    "from sklearn.preprocessing import MaxAbsScaler\n",
    "from sklearn.compose import ColumnTransformer"
   ]
  },
  {
   "cell_type": "markdown",
   "id": "6b9c68f6",
   "metadata": {
    "cell_style": "split",
    "slideshow": {
     "slide_type": "slide"
    }
   },
   "source": [
    "Create three separate transformation pipelines:\n",
    "- Ordinal Categorical\n",
    "- Nominal Categorical\n",
    "- Numeric "
   ]
  },
  {
   "cell_type": "code",
   "execution_count": 50,
   "id": "0eebc0ed",
   "metadata": {
    "cell_style": "split",
    "slideshow": {
     "slide_type": "fragment"
    }
   },
   "outputs": [
    {
     "data": {
      "text/html": [
       "<div>\n",
       "<style scoped>\n",
       "    .dataframe tbody tr th:only-of-type {\n",
       "        vertical-align: middle;\n",
       "    }\n",
       "\n",
       "    .dataframe tbody tr th {\n",
       "        vertical-align: top;\n",
       "    }\n",
       "\n",
       "    .dataframe thead th {\n",
       "        text-align: right;\n",
       "    }\n",
       "</style>\n",
       "<table border=\"1\" class=\"dataframe\">\n",
       "  <thead>\n",
       "    <tr style=\"text-align: right;\">\n",
       "      <th></th>\n",
       "      <th>age</th>\n",
       "      <th>education</th>\n",
       "      <th>occupation</th>\n",
       "      <th>sex</th>\n",
       "      <th>hours.per.week</th>\n",
       "    </tr>\n",
       "  </thead>\n",
       "  <tbody>\n",
       "    <tr>\n",
       "      <th>0</th>\n",
       "      <td>90</td>\n",
       "      <td>HS-grad</td>\n",
       "      <td>NaN</td>\n",
       "      <td>Female</td>\n",
       "      <td>40</td>\n",
       "    </tr>\n",
       "    <tr>\n",
       "      <th>1</th>\n",
       "      <td>82</td>\n",
       "      <td>HS-grad</td>\n",
       "      <td>Exec-managerial</td>\n",
       "      <td>Female</td>\n",
       "      <td>18</td>\n",
       "    </tr>\n",
       "    <tr>\n",
       "      <th>2</th>\n",
       "      <td>66</td>\n",
       "      <td>Some-college</td>\n",
       "      <td>NaN</td>\n",
       "      <td>Female</td>\n",
       "      <td>40</td>\n",
       "    </tr>\n",
       "    <tr>\n",
       "      <th>4</th>\n",
       "      <td>41</td>\n",
       "      <td>Some-college</td>\n",
       "      <td>Prof-specialty</td>\n",
       "      <td>Female</td>\n",
       "      <td>40</td>\n",
       "    </tr>\n",
       "    <tr>\n",
       "      <th>5</th>\n",
       "      <td>34</td>\n",
       "      <td>HS-grad</td>\n",
       "      <td>Other-service</td>\n",
       "      <td>Female</td>\n",
       "      <td>45</td>\n",
       "    </tr>\n",
       "  </tbody>\n",
       "</table>\n",
       "</div>"
      ],
      "text/plain": [
       "   age     education       occupation     sex  hours.per.week\n",
       "0   90       HS-grad              NaN  Female              40\n",
       "1   82       HS-grad  Exec-managerial  Female              18\n",
       "2   66  Some-college              NaN  Female              40\n",
       "4   41  Some-college   Prof-specialty  Female              40\n",
       "5   34       HS-grad    Other-service  Female              45"
      ]
     },
     "execution_count": 50,
     "metadata": {},
     "output_type": "execute_result"
    }
   ],
   "source": [
    "X_income.head()"
   ]
  },
  {
   "cell_type": "markdown",
   "id": "dda9d03d",
   "metadata": {
    "cell_style": "split",
    "slideshow": {
     "slide_type": "fragment"
    }
   },
   "source": [
    "What do we want to use for each column?"
   ]
  },
  {
   "cell_type": "markdown",
   "id": "056ac8a6",
   "metadata": {
    "slideshow": {
     "slide_type": "slide"
    }
   },
   "source": [
    "## First define the separate pipelines"
   ]
  },
  {
   "cell_type": "code",
   "execution_count": 51,
   "id": "21280d37",
   "metadata": {
    "slideshow": {
     "slide_type": "fragment"
    }
   },
   "outputs": [
    {
     "data": {
      "text/plain": [
       "['10th',\n",
       " '11th',\n",
       " 'HS-grad',\n",
       " 'Some-college',\n",
       " 'Assoc-acdm',\n",
       " 'Assoc-voc',\n",
       " 'Bachelors',\n",
       " 'Masters',\n",
       " 'Doctorate']"
      ]
     },
     "execution_count": 51,
     "metadata": {},
     "output_type": "execute_result"
    }
   ],
   "source": [
    "numeric_pipeline = Pipeline([('numimputer', SimpleImputer(strategy = 'mean')), ('numnorm', StandardScaler())])\n",
    "\n",
    "ordinal_pipeline = Pipeline([\n",
    "    ('ordimputer', SimpleImputer(strategy = 'most_frequent')),\n",
    "    ('ordenc', OrdinalEncoder(categories = [ed_list])),\n",
    "    ('ordnorm', StandardScaler())])\n",
    "\n",
    "nominal_pipeline = Pipeline([\n",
    "    ('onehotimputer', SimpleImputer(strategy = 'most_frequent')),\n",
    "    ('onehotenc', OneHotEncoder(sparse = False, drop = 'first')), \n",
    "    ('onehotnorm', MaxAbsScaler())]) # gets the absolute value of a given col\n",
    "\n",
    "ed_list"
   ]
  },
  {
   "cell_type": "markdown",
   "id": "af1c2ae3",
   "metadata": {
    "slideshow": {
     "slide_type": "slide"
    }
   },
   "source": [
    "Now unite them with ColumnTransformer:\n",
    "- specify columns each pipeline acts on."
   ]
  },
  {
   "cell_type": "code",
   "execution_count": 52,
   "id": "1f081d24",
   "metadata": {
    "slideshow": {
     "slide_type": "fragment"
    }
   },
   "outputs": [
    {
     "data": {
      "text/plain": [
       "Index(['age', 'hours.per.week'], dtype='object')"
      ]
     },
     "execution_count": 52,
     "metadata": {},
     "output_type": "execute_result"
    }
   ],
   "source": [
    "num_cols = X_inc_train.select_dtypes(['int', 'float']).columns\n",
    "\n",
    "ct = ColumnTransformer(\n",
    "    [(\"ordinalpipe\", ordinal_pipeline, ['education']), \n",
    "     (\"nominalpipe\", nominal_pipeline, ['occupation','sex']),\n",
    "     (\"numpipe\", numeric_pipeline, num_cols)])\n",
    "# label , name of the pipeline, list of columns\n",
    "# columnTransformation allows to do paralel ... at the same time\n",
    "# does the concat as well\n",
    "num_cols"
   ]
  },
  {
   "cell_type": "markdown",
   "id": "12ae0a03",
   "metadata": {
    "slideshow": {
     "slide_type": "slide"
    }
   },
   "source": [
    "Viewing the transformed data:\n",
    "- In order specified by column transformer"
   ]
  },
  {
   "cell_type": "code",
   "execution_count": 53,
   "id": "3d58fc08",
   "metadata": {
    "cell_style": "center",
    "slideshow": {
     "slide_type": "fragment"
    }
   },
   "outputs": [
    {
     "data": {
      "text/html": [
       "<div>\n",
       "<style scoped>\n",
       "    .dataframe tbody tr th:only-of-type {\n",
       "        vertical-align: middle;\n",
       "    }\n",
       "\n",
       "    .dataframe tbody tr th {\n",
       "        vertical-align: top;\n",
       "    }\n",
       "\n",
       "    .dataframe thead th {\n",
       "        text-align: right;\n",
       "    }\n",
       "</style>\n",
       "<table border=\"1\" class=\"dataframe\">\n",
       "  <thead>\n",
       "    <tr style=\"text-align: right;\">\n",
       "      <th></th>\n",
       "      <th>0</th>\n",
       "      <th>1</th>\n",
       "      <th>2</th>\n",
       "      <th>3</th>\n",
       "      <th>4</th>\n",
       "      <th>5</th>\n",
       "      <th>6</th>\n",
       "      <th>7</th>\n",
       "      <th>8</th>\n",
       "      <th>9</th>\n",
       "      <th>10</th>\n",
       "      <th>11</th>\n",
       "      <th>12</th>\n",
       "      <th>13</th>\n",
       "      <th>14</th>\n",
       "      <th>15</th>\n",
       "      <th>16</th>\n",
       "    </tr>\n",
       "  </thead>\n",
       "  <tbody>\n",
       "    <tr>\n",
       "      <th>0</th>\n",
       "      <td>-0.214320</td>\n",
       "      <td>0.0</td>\n",
       "      <td>0.0</td>\n",
       "      <td>0.0</td>\n",
       "      <td>0.0</td>\n",
       "      <td>0.0</td>\n",
       "      <td>0.0</td>\n",
       "      <td>1.0</td>\n",
       "      <td>0.0</td>\n",
       "      <td>0.0</td>\n",
       "      <td>0.0</td>\n",
       "      <td>0.0</td>\n",
       "      <td>0.0</td>\n",
       "      <td>0.0</td>\n",
       "      <td>0.0</td>\n",
       "      <td>-0.170347</td>\n",
       "      <td>-1.677662</td>\n",
       "    </tr>\n",
       "    <tr>\n",
       "      <th>1</th>\n",
       "      <td>-0.740657</td>\n",
       "      <td>0.0</td>\n",
       "      <td>0.0</td>\n",
       "      <td>1.0</td>\n",
       "      <td>0.0</td>\n",
       "      <td>0.0</td>\n",
       "      <td>0.0</td>\n",
       "      <td>0.0</td>\n",
       "      <td>0.0</td>\n",
       "      <td>0.0</td>\n",
       "      <td>0.0</td>\n",
       "      <td>0.0</td>\n",
       "      <td>0.0</td>\n",
       "      <td>0.0</td>\n",
       "      <td>1.0</td>\n",
       "      <td>0.052919</td>\n",
       "      <td>-0.040693</td>\n",
       "    </tr>\n",
       "    <tr>\n",
       "      <th>2</th>\n",
       "      <td>-0.214320</td>\n",
       "      <td>0.0</td>\n",
       "      <td>0.0</td>\n",
       "      <td>1.0</td>\n",
       "      <td>0.0</td>\n",
       "      <td>0.0</td>\n",
       "      <td>0.0</td>\n",
       "      <td>0.0</td>\n",
       "      <td>0.0</td>\n",
       "      <td>0.0</td>\n",
       "      <td>0.0</td>\n",
       "      <td>0.0</td>\n",
       "      <td>0.0</td>\n",
       "      <td>0.0</td>\n",
       "      <td>1.0</td>\n",
       "      <td>1.392514</td>\n",
       "      <td>-1.268420</td>\n",
       "    </tr>\n",
       "    <tr>\n",
       "      <th>3</th>\n",
       "      <td>-0.214320</td>\n",
       "      <td>0.0</td>\n",
       "      <td>0.0</td>\n",
       "      <td>0.0</td>\n",
       "      <td>1.0</td>\n",
       "      <td>0.0</td>\n",
       "      <td>0.0</td>\n",
       "      <td>0.0</td>\n",
       "      <td>0.0</td>\n",
       "      <td>0.0</td>\n",
       "      <td>0.0</td>\n",
       "      <td>0.0</td>\n",
       "      <td>0.0</td>\n",
       "      <td>0.0</td>\n",
       "      <td>1.0</td>\n",
       "      <td>0.276185</td>\n",
       "      <td>1.596277</td>\n",
       "    </tr>\n",
       "    <tr>\n",
       "      <th>4</th>\n",
       "      <td>-0.740657</td>\n",
       "      <td>0.0</td>\n",
       "      <td>1.0</td>\n",
       "      <td>0.0</td>\n",
       "      <td>0.0</td>\n",
       "      <td>0.0</td>\n",
       "      <td>0.0</td>\n",
       "      <td>0.0</td>\n",
       "      <td>0.0</td>\n",
       "      <td>0.0</td>\n",
       "      <td>0.0</td>\n",
       "      <td>0.0</td>\n",
       "      <td>0.0</td>\n",
       "      <td>0.0</td>\n",
       "      <td>1.0</td>\n",
       "      <td>0.127341</td>\n",
       "      <td>-0.040693</td>\n",
       "    </tr>\n",
       "  </tbody>\n",
       "</table>\n",
       "</div>"
      ],
      "text/plain": [
       "         0    1    2    3    4    5    6    7    8    9    10   11   12   13  \\\n",
       "0 -0.214320  0.0  0.0  0.0  0.0  0.0  0.0  1.0  0.0  0.0  0.0  0.0  0.0  0.0   \n",
       "1 -0.740657  0.0  0.0  1.0  0.0  0.0  0.0  0.0  0.0  0.0  0.0  0.0  0.0  0.0   \n",
       "2 -0.214320  0.0  0.0  1.0  0.0  0.0  0.0  0.0  0.0  0.0  0.0  0.0  0.0  0.0   \n",
       "3 -0.214320  0.0  0.0  0.0  1.0  0.0  0.0  0.0  0.0  0.0  0.0  0.0  0.0  0.0   \n",
       "4 -0.740657  0.0  1.0  0.0  0.0  0.0  0.0  0.0  0.0  0.0  0.0  0.0  0.0  0.0   \n",
       "\n",
       "    14        15        16  \n",
       "0  0.0 -0.170347 -1.677662  \n",
       "1  1.0  0.052919 -0.040693  \n",
       "2  1.0  1.392514 -1.268420  \n",
       "3  1.0  0.276185  1.596277  \n",
       "4  1.0  0.127341 -0.040693  "
      ]
     },
     "execution_count": 53,
     "metadata": {},
     "output_type": "execute_result"
    }
   ],
   "source": [
    "pd.DataFrame(ct.fit_transform(X_inc_train)).head()"
   ]
  },
  {
   "cell_type": "markdown",
   "id": "75312c35",
   "metadata": {
    "slideshow": {
     "slide_type": "slide"
    }
   },
   "source": [
    "Let's view what our preprocessing pipeline does:"
   ]
  },
  {
   "cell_type": "code",
   "execution_count": 54,
   "id": "94462cda",
   "metadata": {
    "cell_style": "center",
    "slideshow": {
     "slide_type": "fragment"
    }
   },
   "outputs": [
    {
     "data": {
      "text/html": [
       "<style>#sk-e8f39134-d2ea-4d3f-858a-fa837a2a8299 {color: black;background-color: white;}#sk-e8f39134-d2ea-4d3f-858a-fa837a2a8299 pre{padding: 0;}#sk-e8f39134-d2ea-4d3f-858a-fa837a2a8299 div.sk-toggleable {background-color: white;}#sk-e8f39134-d2ea-4d3f-858a-fa837a2a8299 label.sk-toggleable__label {cursor: pointer;display: block;width: 100%;margin-bottom: 0;padding: 0.3em;box-sizing: border-box;text-align: center;}#sk-e8f39134-d2ea-4d3f-858a-fa837a2a8299 label.sk-toggleable__label-arrow:before {content: \"▸\";float: left;margin-right: 0.25em;color: #696969;}#sk-e8f39134-d2ea-4d3f-858a-fa837a2a8299 label.sk-toggleable__label-arrow:hover:before {color: black;}#sk-e8f39134-d2ea-4d3f-858a-fa837a2a8299 div.sk-estimator:hover label.sk-toggleable__label-arrow:before {color: black;}#sk-e8f39134-d2ea-4d3f-858a-fa837a2a8299 div.sk-toggleable__content {max-height: 0;max-width: 0;overflow: hidden;text-align: left;background-color: #f0f8ff;}#sk-e8f39134-d2ea-4d3f-858a-fa837a2a8299 div.sk-toggleable__content pre {margin: 0.2em;color: black;border-radius: 0.25em;background-color: #f0f8ff;}#sk-e8f39134-d2ea-4d3f-858a-fa837a2a8299 input.sk-toggleable__control:checked~div.sk-toggleable__content {max-height: 200px;max-width: 100%;overflow: auto;}#sk-e8f39134-d2ea-4d3f-858a-fa837a2a8299 input.sk-toggleable__control:checked~label.sk-toggleable__label-arrow:before {content: \"▾\";}#sk-e8f39134-d2ea-4d3f-858a-fa837a2a8299 div.sk-estimator input.sk-toggleable__control:checked~label.sk-toggleable__label {background-color: #d4ebff;}#sk-e8f39134-d2ea-4d3f-858a-fa837a2a8299 div.sk-label input.sk-toggleable__control:checked~label.sk-toggleable__label {background-color: #d4ebff;}#sk-e8f39134-d2ea-4d3f-858a-fa837a2a8299 input.sk-hidden--visually {border: 0;clip: rect(1px 1px 1px 1px);clip: rect(1px, 1px, 1px, 1px);height: 1px;margin: -1px;overflow: hidden;padding: 0;position: absolute;width: 1px;}#sk-e8f39134-d2ea-4d3f-858a-fa837a2a8299 div.sk-estimator {font-family: monospace;background-color: #f0f8ff;border: 1px dotted black;border-radius: 0.25em;box-sizing: border-box;margin-bottom: 0.5em;}#sk-e8f39134-d2ea-4d3f-858a-fa837a2a8299 div.sk-estimator:hover {background-color: #d4ebff;}#sk-e8f39134-d2ea-4d3f-858a-fa837a2a8299 div.sk-parallel-item::after {content: \"\";width: 100%;border-bottom: 1px solid gray;flex-grow: 1;}#sk-e8f39134-d2ea-4d3f-858a-fa837a2a8299 div.sk-label:hover label.sk-toggleable__label {background-color: #d4ebff;}#sk-e8f39134-d2ea-4d3f-858a-fa837a2a8299 div.sk-serial::before {content: \"\";position: absolute;border-left: 1px solid gray;box-sizing: border-box;top: 2em;bottom: 0;left: 50%;}#sk-e8f39134-d2ea-4d3f-858a-fa837a2a8299 div.sk-serial {display: flex;flex-direction: column;align-items: center;background-color: white;padding-right: 0.2em;padding-left: 0.2em;}#sk-e8f39134-d2ea-4d3f-858a-fa837a2a8299 div.sk-item {z-index: 1;}#sk-e8f39134-d2ea-4d3f-858a-fa837a2a8299 div.sk-parallel {display: flex;align-items: stretch;justify-content: center;background-color: white;}#sk-e8f39134-d2ea-4d3f-858a-fa837a2a8299 div.sk-parallel::before {content: \"\";position: absolute;border-left: 1px solid gray;box-sizing: border-box;top: 2em;bottom: 0;left: 50%;}#sk-e8f39134-d2ea-4d3f-858a-fa837a2a8299 div.sk-parallel-item {display: flex;flex-direction: column;position: relative;background-color: white;}#sk-e8f39134-d2ea-4d3f-858a-fa837a2a8299 div.sk-parallel-item:first-child::after {align-self: flex-end;width: 50%;}#sk-e8f39134-d2ea-4d3f-858a-fa837a2a8299 div.sk-parallel-item:last-child::after {align-self: flex-start;width: 50%;}#sk-e8f39134-d2ea-4d3f-858a-fa837a2a8299 div.sk-parallel-item:only-child::after {width: 0;}#sk-e8f39134-d2ea-4d3f-858a-fa837a2a8299 div.sk-dashed-wrapped {border: 1px dashed gray;margin: 0 0.4em 0.5em 0.4em;box-sizing: border-box;padding-bottom: 0.4em;background-color: white;position: relative;}#sk-e8f39134-d2ea-4d3f-858a-fa837a2a8299 div.sk-label label {font-family: monospace;font-weight: bold;background-color: white;display: inline-block;line-height: 1.2em;}#sk-e8f39134-d2ea-4d3f-858a-fa837a2a8299 div.sk-label-container {position: relative;z-index: 2;text-align: center;}#sk-e8f39134-d2ea-4d3f-858a-fa837a2a8299 div.sk-container {/* jupyter's `normalize.less` sets `[hidden] { display: none; }` but bootstrap.min.css set `[hidden] { display: none !important; }` so we also need the `!important` here to be able to override the default hidden behavior on the sphinx rendered scikit-learn.org. See: https://github.com/scikit-learn/scikit-learn/issues/21755 */display: inline-block !important;position: relative;}#sk-e8f39134-d2ea-4d3f-858a-fa837a2a8299 div.sk-text-repr-fallback {display: none;}</style><div id=\"sk-e8f39134-d2ea-4d3f-858a-fa837a2a8299\" class=\"sk-top-container\"><div class=\"sk-text-repr-fallback\"><pre>ColumnTransformer(transformers=[(&#x27;ordinalpipe&#x27;,\n",
       "                                 Pipeline(steps=[(&#x27;ordimputer&#x27;,\n",
       "                                                  SimpleImputer(strategy=&#x27;most_frequent&#x27;)),\n",
       "                                                 (&#x27;ordenc&#x27;,\n",
       "                                                  OrdinalEncoder(categories=[[&#x27;10th&#x27;,\n",
       "                                                                              &#x27;11th&#x27;,\n",
       "                                                                              &#x27;HS-grad&#x27;,\n",
       "                                                                              &#x27;Some-college&#x27;,\n",
       "                                                                              &#x27;Assoc-acdm&#x27;,\n",
       "                                                                              &#x27;Assoc-voc&#x27;,\n",
       "                                                                              &#x27;Bachelors&#x27;,\n",
       "                                                                              &#x27;Masters&#x27;,\n",
       "                                                                              &#x27;Doctorate&#x27;]])),\n",
       "                                                 (&#x27;ordnorm&#x27;,\n",
       "                                                  StandardScaler())]),\n",
       "                                 [&#x27;education&#x27;]),\n",
       "                                (&#x27;nominalpipe&#x27;,\n",
       "                                 Pipeline(steps=[(&#x27;onehotimputer&#x27;,\n",
       "                                                  SimpleImputer(strategy=&#x27;most_frequent&#x27;)),\n",
       "                                                 (&#x27;onehotenc&#x27;,\n",
       "                                                  OneHotEncoder(drop=&#x27;first&#x27;,\n",
       "                                                                sparse=False)),\n",
       "                                                 (&#x27;onehotnorm&#x27;,\n",
       "                                                  MaxAbsScaler())]),\n",
       "                                 [&#x27;occupation&#x27;, &#x27;sex&#x27;]),\n",
       "                                (&#x27;numpipe&#x27;,\n",
       "                                 Pipeline(steps=[(&#x27;numimputer&#x27;,\n",
       "                                                  SimpleImputer()),\n",
       "                                                 (&#x27;numnorm&#x27;,\n",
       "                                                  StandardScaler())]),\n",
       "                                 Index([&#x27;age&#x27;, &#x27;hours.per.week&#x27;], dtype=&#x27;object&#x27;))])</pre><b>Please rerun this cell to show the HTML repr or trust the notebook.</b></div><div class=\"sk-container\" hidden><div class=\"sk-item sk-dashed-wrapped\"><div class=\"sk-label-container\"><div class=\"sk-label sk-toggleable\"><input class=\"sk-toggleable__control sk-hidden--visually\" id=\"c613c030-d663-46a1-80cc-ac4bfc8fc7c0\" type=\"checkbox\" ><label for=\"c613c030-d663-46a1-80cc-ac4bfc8fc7c0\" class=\"sk-toggleable__label sk-toggleable__label-arrow\">ColumnTransformer</label><div class=\"sk-toggleable__content\"><pre>ColumnTransformer(transformers=[(&#x27;ordinalpipe&#x27;,\n",
       "                                 Pipeline(steps=[(&#x27;ordimputer&#x27;,\n",
       "                                                  SimpleImputer(strategy=&#x27;most_frequent&#x27;)),\n",
       "                                                 (&#x27;ordenc&#x27;,\n",
       "                                                  OrdinalEncoder(categories=[[&#x27;10th&#x27;,\n",
       "                                                                              &#x27;11th&#x27;,\n",
       "                                                                              &#x27;HS-grad&#x27;,\n",
       "                                                                              &#x27;Some-college&#x27;,\n",
       "                                                                              &#x27;Assoc-acdm&#x27;,\n",
       "                                                                              &#x27;Assoc-voc&#x27;,\n",
       "                                                                              &#x27;Bachelors&#x27;,\n",
       "                                                                              &#x27;Masters&#x27;,\n",
       "                                                                              &#x27;Doctorate&#x27;]])),\n",
       "                                                 (&#x27;ordnorm&#x27;,\n",
       "                                                  StandardScaler())]),\n",
       "                                 [&#x27;education&#x27;]),\n",
       "                                (&#x27;nominalpipe&#x27;,\n",
       "                                 Pipeline(steps=[(&#x27;onehotimputer&#x27;,\n",
       "                                                  SimpleImputer(strategy=&#x27;most_frequent&#x27;)),\n",
       "                                                 (&#x27;onehotenc&#x27;,\n",
       "                                                  OneHotEncoder(drop=&#x27;first&#x27;,\n",
       "                                                                sparse=False)),\n",
       "                                                 (&#x27;onehotnorm&#x27;,\n",
       "                                                  MaxAbsScaler())]),\n",
       "                                 [&#x27;occupation&#x27;, &#x27;sex&#x27;]),\n",
       "                                (&#x27;numpipe&#x27;,\n",
       "                                 Pipeline(steps=[(&#x27;numimputer&#x27;,\n",
       "                                                  SimpleImputer()),\n",
       "                                                 (&#x27;numnorm&#x27;,\n",
       "                                                  StandardScaler())]),\n",
       "                                 Index([&#x27;age&#x27;, &#x27;hours.per.week&#x27;], dtype=&#x27;object&#x27;))])</pre></div></div></div><div class=\"sk-parallel\"><div class=\"sk-parallel-item\"><div class=\"sk-item\"><div class=\"sk-label-container\"><div class=\"sk-label sk-toggleable\"><input class=\"sk-toggleable__control sk-hidden--visually\" id=\"e6bddea2-d9fb-4233-a2a9-06971f003de7\" type=\"checkbox\" ><label for=\"e6bddea2-d9fb-4233-a2a9-06971f003de7\" class=\"sk-toggleable__label sk-toggleable__label-arrow\">ordinalpipe</label><div class=\"sk-toggleable__content\"><pre>[&#x27;education&#x27;]</pre></div></div></div><div class=\"sk-serial\"><div class=\"sk-item\"><div class=\"sk-serial\"><div class=\"sk-item\"><div class=\"sk-estimator sk-toggleable\"><input class=\"sk-toggleable__control sk-hidden--visually\" id=\"faca3603-d021-4267-9e5d-491b97c3bc9f\" type=\"checkbox\" ><label for=\"faca3603-d021-4267-9e5d-491b97c3bc9f\" class=\"sk-toggleable__label sk-toggleable__label-arrow\">SimpleImputer</label><div class=\"sk-toggleable__content\"><pre>SimpleImputer(strategy=&#x27;most_frequent&#x27;)</pre></div></div></div><div class=\"sk-item\"><div class=\"sk-estimator sk-toggleable\"><input class=\"sk-toggleable__control sk-hidden--visually\" id=\"67b8c078-1bf2-4c9a-9ec0-4497832fda6c\" type=\"checkbox\" ><label for=\"67b8c078-1bf2-4c9a-9ec0-4497832fda6c\" class=\"sk-toggleable__label sk-toggleable__label-arrow\">OrdinalEncoder</label><div class=\"sk-toggleable__content\"><pre>OrdinalEncoder(categories=[[&#x27;10th&#x27;, &#x27;11th&#x27;, &#x27;HS-grad&#x27;, &#x27;Some-college&#x27;,\n",
       "                            &#x27;Assoc-acdm&#x27;, &#x27;Assoc-voc&#x27;, &#x27;Bachelors&#x27;, &#x27;Masters&#x27;,\n",
       "                            &#x27;Doctorate&#x27;]])</pre></div></div></div><div class=\"sk-item\"><div class=\"sk-estimator sk-toggleable\"><input class=\"sk-toggleable__control sk-hidden--visually\" id=\"ed7e83dd-d6c8-451e-a395-69986b963fc7\" type=\"checkbox\" ><label for=\"ed7e83dd-d6c8-451e-a395-69986b963fc7\" class=\"sk-toggleable__label sk-toggleable__label-arrow\">StandardScaler</label><div class=\"sk-toggleable__content\"><pre>StandardScaler()</pre></div></div></div></div></div></div></div></div><div class=\"sk-parallel-item\"><div class=\"sk-item\"><div class=\"sk-label-container\"><div class=\"sk-label sk-toggleable\"><input class=\"sk-toggleable__control sk-hidden--visually\" id=\"64bb170e-01db-4281-be9b-601cfe7e47df\" type=\"checkbox\" ><label for=\"64bb170e-01db-4281-be9b-601cfe7e47df\" class=\"sk-toggleable__label sk-toggleable__label-arrow\">nominalpipe</label><div class=\"sk-toggleable__content\"><pre>[&#x27;occupation&#x27;, &#x27;sex&#x27;]</pre></div></div></div><div class=\"sk-serial\"><div class=\"sk-item\"><div class=\"sk-serial\"><div class=\"sk-item\"><div class=\"sk-estimator sk-toggleable\"><input class=\"sk-toggleable__control sk-hidden--visually\" id=\"7cc41e9d-6cb6-4a2b-9003-5c69d1226923\" type=\"checkbox\" ><label for=\"7cc41e9d-6cb6-4a2b-9003-5c69d1226923\" class=\"sk-toggleable__label sk-toggleable__label-arrow\">SimpleImputer</label><div class=\"sk-toggleable__content\"><pre>SimpleImputer(strategy=&#x27;most_frequent&#x27;)</pre></div></div></div><div class=\"sk-item\"><div class=\"sk-estimator sk-toggleable\"><input class=\"sk-toggleable__control sk-hidden--visually\" id=\"436c5500-246f-444a-a87c-5ca7f1da4b9f\" type=\"checkbox\" ><label for=\"436c5500-246f-444a-a87c-5ca7f1da4b9f\" class=\"sk-toggleable__label sk-toggleable__label-arrow\">OneHotEncoder</label><div class=\"sk-toggleable__content\"><pre>OneHotEncoder(drop=&#x27;first&#x27;, sparse=False)</pre></div></div></div><div class=\"sk-item\"><div class=\"sk-estimator sk-toggleable\"><input class=\"sk-toggleable__control sk-hidden--visually\" id=\"2055c7bf-1d3f-45ce-8323-383d413a5ca4\" type=\"checkbox\" ><label for=\"2055c7bf-1d3f-45ce-8323-383d413a5ca4\" class=\"sk-toggleable__label sk-toggleable__label-arrow\">MaxAbsScaler</label><div class=\"sk-toggleable__content\"><pre>MaxAbsScaler()</pre></div></div></div></div></div></div></div></div><div class=\"sk-parallel-item\"><div class=\"sk-item\"><div class=\"sk-label-container\"><div class=\"sk-label sk-toggleable\"><input class=\"sk-toggleable__control sk-hidden--visually\" id=\"9014281c-8eda-42ce-886a-3b2679c7bce2\" type=\"checkbox\" ><label for=\"9014281c-8eda-42ce-886a-3b2679c7bce2\" class=\"sk-toggleable__label sk-toggleable__label-arrow\">numpipe</label><div class=\"sk-toggleable__content\"><pre>Index([&#x27;age&#x27;, &#x27;hours.per.week&#x27;], dtype=&#x27;object&#x27;)</pre></div></div></div><div class=\"sk-serial\"><div class=\"sk-item\"><div class=\"sk-serial\"><div class=\"sk-item\"><div class=\"sk-estimator sk-toggleable\"><input class=\"sk-toggleable__control sk-hidden--visually\" id=\"4e3080ad-d610-4903-93d6-ebde6b214a6c\" type=\"checkbox\" ><label for=\"4e3080ad-d610-4903-93d6-ebde6b214a6c\" class=\"sk-toggleable__label sk-toggleable__label-arrow\">SimpleImputer</label><div class=\"sk-toggleable__content\"><pre>SimpleImputer()</pre></div></div></div><div class=\"sk-item\"><div class=\"sk-estimator sk-toggleable\"><input class=\"sk-toggleable__control sk-hidden--visually\" id=\"32c180de-fa73-4dfd-b6af-9862bb265ac6\" type=\"checkbox\" ><label for=\"32c180de-fa73-4dfd-b6af-9862bb265ac6\" class=\"sk-toggleable__label sk-toggleable__label-arrow\">StandardScaler</label><div class=\"sk-toggleable__content\"><pre>StandardScaler()</pre></div></div></div></div></div></div></div></div></div></div></div></div>"
      ],
      "text/plain": [
       "ColumnTransformer(transformers=[('ordinalpipe',\n",
       "                                 Pipeline(steps=[('ordimputer',\n",
       "                                                  SimpleImputer(strategy='most_frequent')),\n",
       "                                                 ('ordenc',\n",
       "                                                  OrdinalEncoder(categories=[['10th',\n",
       "                                                                              '11th',\n",
       "                                                                              'HS-grad',\n",
       "                                                                              'Some-college',\n",
       "                                                                              'Assoc-acdm',\n",
       "                                                                              'Assoc-voc',\n",
       "                                                                              'Bachelors',\n",
       "                                                                              'Masters',\n",
       "                                                                              'Doctorate']])),\n",
       "                                                 ('ordnorm',\n",
       "                                                  StandardScaler())]),\n",
       "                                 ['education']),\n",
       "                                ('nominalpipe',\n",
       "                                 Pipeline(steps=[('onehotimputer',\n",
       "                                                  SimpleImputer(strategy='most_frequent')),\n",
       "                                                 ('onehotenc',\n",
       "                                                  OneHotEncoder(drop='first',\n",
       "                                                                sparse=False)),\n",
       "                                                 ('onehotnorm',\n",
       "                                                  MaxAbsScaler())]),\n",
       "                                 ['occupation', 'sex']),\n",
       "                                ('numpipe',\n",
       "                                 Pipeline(steps=[('numimputer',\n",
       "                                                  SimpleImputer()),\n",
       "                                                 ('numnorm',\n",
       "                                                  StandardScaler())]),\n",
       "                                 Index(['age', 'hours.per.week'], dtype='object'))])"
      ]
     },
     "execution_count": 54,
     "metadata": {},
     "output_type": "execute_result"
    }
   ],
   "source": [
    "# this is just preprocessing , no model yet\n",
    "ct"
   ]
  },
  {
   "cell_type": "markdown",
   "id": "fe587f09",
   "metadata": {
    "cell_style": "split",
    "slideshow": {
     "slide_type": "fragment"
    }
   },
   "source": [
    "Takes specified columns:\n",
    "- Applies ordinal pipeline to first set\n",
    "- Nominal pipeline to second subset\n",
    "- Numeric pipeline to last set\n",
    "\n",
    "Joins result *in column transform order* at the end."
   ]
  },
  {
   "cell_type": "markdown",
   "id": "7a5d92f1",
   "metadata": {
    "cell_style": "split",
    "slideshow": {
     "slide_type": "slide"
    }
   },
   "source": [
    "Column transformer: access/change individual steps in branches\n",
    "- .named_transformers_ attribute as dictionary of transformers"
   ]
  },
  {
   "cell_type": "code",
   "execution_count": 55,
   "id": "717900e9",
   "metadata": {
    "cell_style": "center",
    "slideshow": {
     "slide_type": "fragment"
    }
   },
   "outputs": [
    {
     "data": {
      "text/plain": [
       "{'ordinalpipe': Pipeline(steps=[('ordimputer', SimpleImputer(strategy='most_frequent')),\n",
       "                 ('ordenc',\n",
       "                  OrdinalEncoder(categories=[['10th', '11th', 'HS-grad',\n",
       "                                              'Some-college', 'Assoc-acdm',\n",
       "                                              'Assoc-voc', 'Bachelors',\n",
       "                                              'Masters', 'Doctorate']])),\n",
       "                 ('ordnorm', StandardScaler())]),\n",
       " 'nominalpipe': Pipeline(steps=[('onehotimputer', SimpleImputer(strategy='most_frequent')),\n",
       "                 ('onehotenc', OneHotEncoder(drop='first', sparse=False)),\n",
       "                 ('onehotnorm', MaxAbsScaler())]),\n",
       " 'numpipe': Pipeline(steps=[('numimputer', SimpleImputer()), ('numnorm', StandardScaler())])}"
      ]
     },
     "execution_count": 55,
     "metadata": {},
     "output_type": "execute_result"
    }
   ],
   "source": [
    "# gives a list and order of everything that happens in the dataframen(same order)\n",
    "ct.named_transformers_"
   ]
  },
  {
   "cell_type": "code",
   "execution_count": 56,
   "id": "b4fa49be",
   "metadata": {
    "cell_style": "split",
    "slideshow": {
     "slide_type": "slide"
    }
   },
   "outputs": [
    {
     "data": {
      "text/html": [
       "<style>#sk-7e474463-c2f4-4fe8-9787-30db8e97213a {color: black;background-color: white;}#sk-7e474463-c2f4-4fe8-9787-30db8e97213a pre{padding: 0;}#sk-7e474463-c2f4-4fe8-9787-30db8e97213a div.sk-toggleable {background-color: white;}#sk-7e474463-c2f4-4fe8-9787-30db8e97213a label.sk-toggleable__label {cursor: pointer;display: block;width: 100%;margin-bottom: 0;padding: 0.3em;box-sizing: border-box;text-align: center;}#sk-7e474463-c2f4-4fe8-9787-30db8e97213a label.sk-toggleable__label-arrow:before {content: \"▸\";float: left;margin-right: 0.25em;color: #696969;}#sk-7e474463-c2f4-4fe8-9787-30db8e97213a label.sk-toggleable__label-arrow:hover:before {color: black;}#sk-7e474463-c2f4-4fe8-9787-30db8e97213a div.sk-estimator:hover label.sk-toggleable__label-arrow:before {color: black;}#sk-7e474463-c2f4-4fe8-9787-30db8e97213a div.sk-toggleable__content {max-height: 0;max-width: 0;overflow: hidden;text-align: left;background-color: #f0f8ff;}#sk-7e474463-c2f4-4fe8-9787-30db8e97213a div.sk-toggleable__content pre {margin: 0.2em;color: black;border-radius: 0.25em;background-color: #f0f8ff;}#sk-7e474463-c2f4-4fe8-9787-30db8e97213a input.sk-toggleable__control:checked~div.sk-toggleable__content {max-height: 200px;max-width: 100%;overflow: auto;}#sk-7e474463-c2f4-4fe8-9787-30db8e97213a input.sk-toggleable__control:checked~label.sk-toggleable__label-arrow:before {content: \"▾\";}#sk-7e474463-c2f4-4fe8-9787-30db8e97213a div.sk-estimator input.sk-toggleable__control:checked~label.sk-toggleable__label {background-color: #d4ebff;}#sk-7e474463-c2f4-4fe8-9787-30db8e97213a div.sk-label input.sk-toggleable__control:checked~label.sk-toggleable__label {background-color: #d4ebff;}#sk-7e474463-c2f4-4fe8-9787-30db8e97213a input.sk-hidden--visually {border: 0;clip: rect(1px 1px 1px 1px);clip: rect(1px, 1px, 1px, 1px);height: 1px;margin: -1px;overflow: hidden;padding: 0;position: absolute;width: 1px;}#sk-7e474463-c2f4-4fe8-9787-30db8e97213a div.sk-estimator {font-family: monospace;background-color: #f0f8ff;border: 1px dotted black;border-radius: 0.25em;box-sizing: border-box;margin-bottom: 0.5em;}#sk-7e474463-c2f4-4fe8-9787-30db8e97213a div.sk-estimator:hover {background-color: #d4ebff;}#sk-7e474463-c2f4-4fe8-9787-30db8e97213a div.sk-parallel-item::after {content: \"\";width: 100%;border-bottom: 1px solid gray;flex-grow: 1;}#sk-7e474463-c2f4-4fe8-9787-30db8e97213a div.sk-label:hover label.sk-toggleable__label {background-color: #d4ebff;}#sk-7e474463-c2f4-4fe8-9787-30db8e97213a div.sk-serial::before {content: \"\";position: absolute;border-left: 1px solid gray;box-sizing: border-box;top: 2em;bottom: 0;left: 50%;}#sk-7e474463-c2f4-4fe8-9787-30db8e97213a div.sk-serial {display: flex;flex-direction: column;align-items: center;background-color: white;padding-right: 0.2em;padding-left: 0.2em;}#sk-7e474463-c2f4-4fe8-9787-30db8e97213a div.sk-item {z-index: 1;}#sk-7e474463-c2f4-4fe8-9787-30db8e97213a div.sk-parallel {display: flex;align-items: stretch;justify-content: center;background-color: white;}#sk-7e474463-c2f4-4fe8-9787-30db8e97213a div.sk-parallel::before {content: \"\";position: absolute;border-left: 1px solid gray;box-sizing: border-box;top: 2em;bottom: 0;left: 50%;}#sk-7e474463-c2f4-4fe8-9787-30db8e97213a div.sk-parallel-item {display: flex;flex-direction: column;position: relative;background-color: white;}#sk-7e474463-c2f4-4fe8-9787-30db8e97213a div.sk-parallel-item:first-child::after {align-self: flex-end;width: 50%;}#sk-7e474463-c2f4-4fe8-9787-30db8e97213a div.sk-parallel-item:last-child::after {align-self: flex-start;width: 50%;}#sk-7e474463-c2f4-4fe8-9787-30db8e97213a div.sk-parallel-item:only-child::after {width: 0;}#sk-7e474463-c2f4-4fe8-9787-30db8e97213a div.sk-dashed-wrapped {border: 1px dashed gray;margin: 0 0.4em 0.5em 0.4em;box-sizing: border-box;padding-bottom: 0.4em;background-color: white;position: relative;}#sk-7e474463-c2f4-4fe8-9787-30db8e97213a div.sk-label label {font-family: monospace;font-weight: bold;background-color: white;display: inline-block;line-height: 1.2em;}#sk-7e474463-c2f4-4fe8-9787-30db8e97213a div.sk-label-container {position: relative;z-index: 2;text-align: center;}#sk-7e474463-c2f4-4fe8-9787-30db8e97213a div.sk-container {/* jupyter's `normalize.less` sets `[hidden] { display: none; }` but bootstrap.min.css set `[hidden] { display: none !important; }` so we also need the `!important` here to be able to override the default hidden behavior on the sphinx rendered scikit-learn.org. See: https://github.com/scikit-learn/scikit-learn/issues/21755 */display: inline-block !important;position: relative;}#sk-7e474463-c2f4-4fe8-9787-30db8e97213a div.sk-text-repr-fallback {display: none;}</style><div id=\"sk-7e474463-c2f4-4fe8-9787-30db8e97213a\" class=\"sk-top-container\"><div class=\"sk-text-repr-fallback\"><pre>Pipeline(steps=[(&#x27;ordimputer&#x27;, SimpleImputer(strategy=&#x27;most_frequent&#x27;)),\n",
       "                (&#x27;ordenc&#x27;,\n",
       "                 OrdinalEncoder(categories=[[&#x27;10th&#x27;, &#x27;11th&#x27;, &#x27;HS-grad&#x27;,\n",
       "                                             &#x27;Some-college&#x27;, &#x27;Assoc-acdm&#x27;,\n",
       "                                             &#x27;Assoc-voc&#x27;, &#x27;Bachelors&#x27;,\n",
       "                                             &#x27;Masters&#x27;, &#x27;Doctorate&#x27;]])),\n",
       "                (&#x27;ordnorm&#x27;, StandardScaler())])</pre><b>Please rerun this cell to show the HTML repr or trust the notebook.</b></div><div class=\"sk-container\" hidden><div class=\"sk-item sk-dashed-wrapped\"><div class=\"sk-label-container\"><div class=\"sk-label sk-toggleable\"><input class=\"sk-toggleable__control sk-hidden--visually\" id=\"0a63eba5-223a-4e20-8ef9-a29a2bf8675d\" type=\"checkbox\" ><label for=\"0a63eba5-223a-4e20-8ef9-a29a2bf8675d\" class=\"sk-toggleable__label sk-toggleable__label-arrow\">Pipeline</label><div class=\"sk-toggleable__content\"><pre>Pipeline(steps=[(&#x27;ordimputer&#x27;, SimpleImputer(strategy=&#x27;most_frequent&#x27;)),\n",
       "                (&#x27;ordenc&#x27;,\n",
       "                 OrdinalEncoder(categories=[[&#x27;10th&#x27;, &#x27;11th&#x27;, &#x27;HS-grad&#x27;,\n",
       "                                             &#x27;Some-college&#x27;, &#x27;Assoc-acdm&#x27;,\n",
       "                                             &#x27;Assoc-voc&#x27;, &#x27;Bachelors&#x27;,\n",
       "                                             &#x27;Masters&#x27;, &#x27;Doctorate&#x27;]])),\n",
       "                (&#x27;ordnorm&#x27;, StandardScaler())])</pre></div></div></div><div class=\"sk-serial\"><div class=\"sk-item\"><div class=\"sk-estimator sk-toggleable\"><input class=\"sk-toggleable__control sk-hidden--visually\" id=\"6817a3c2-d35c-4982-bb96-c36785bfa803\" type=\"checkbox\" ><label for=\"6817a3c2-d35c-4982-bb96-c36785bfa803\" class=\"sk-toggleable__label sk-toggleable__label-arrow\">SimpleImputer</label><div class=\"sk-toggleable__content\"><pre>SimpleImputer(strategy=&#x27;most_frequent&#x27;)</pre></div></div></div><div class=\"sk-item\"><div class=\"sk-estimator sk-toggleable\"><input class=\"sk-toggleable__control sk-hidden--visually\" id=\"27f26a4d-bf09-4194-b0c5-715483460696\" type=\"checkbox\" ><label for=\"27f26a4d-bf09-4194-b0c5-715483460696\" class=\"sk-toggleable__label sk-toggleable__label-arrow\">OrdinalEncoder</label><div class=\"sk-toggleable__content\"><pre>OrdinalEncoder(categories=[[&#x27;10th&#x27;, &#x27;11th&#x27;, &#x27;HS-grad&#x27;, &#x27;Some-college&#x27;,\n",
       "                            &#x27;Assoc-acdm&#x27;, &#x27;Assoc-voc&#x27;, &#x27;Bachelors&#x27;, &#x27;Masters&#x27;,\n",
       "                            &#x27;Doctorate&#x27;]])</pre></div></div></div><div class=\"sk-item\"><div class=\"sk-estimator sk-toggleable\"><input class=\"sk-toggleable__control sk-hidden--visually\" id=\"cba42858-0548-4d19-b232-952ac78cb433\" type=\"checkbox\" ><label for=\"cba42858-0548-4d19-b232-952ac78cb433\" class=\"sk-toggleable__label sk-toggleable__label-arrow\">StandardScaler</label><div class=\"sk-toggleable__content\"><pre>StandardScaler()</pre></div></div></div></div></div></div></div>"
      ],
      "text/plain": [
       "Pipeline(steps=[('ordimputer', SimpleImputer(strategy='most_frequent')),\n",
       "                ('ordenc',\n",
       "                 OrdinalEncoder(categories=[['10th', '11th', 'HS-grad',\n",
       "                                             'Some-college', 'Assoc-acdm',\n",
       "                                             'Assoc-voc', 'Bachelors',\n",
       "                                             'Masters', 'Doctorate']])),\n",
       "                ('ordnorm', StandardScaler())])"
      ]
     },
     "execution_count": 56,
     "metadata": {},
     "output_type": "execute_result"
    }
   ],
   "source": [
    "ct.named_transformers_['ordinalpipe']"
   ]
  },
  {
   "cell_type": "code",
   "execution_count": 57,
   "id": "1cf8e8b7",
   "metadata": {
    "cell_style": "split",
    "slideshow": {
     "slide_type": "fragment"
    }
   },
   "outputs": [
    {
     "data": {
      "text/html": [
       "<style>#sk-c7b240b4-049f-4658-9e88-c5ec501f8727 {color: black;background-color: white;}#sk-c7b240b4-049f-4658-9e88-c5ec501f8727 pre{padding: 0;}#sk-c7b240b4-049f-4658-9e88-c5ec501f8727 div.sk-toggleable {background-color: white;}#sk-c7b240b4-049f-4658-9e88-c5ec501f8727 label.sk-toggleable__label {cursor: pointer;display: block;width: 100%;margin-bottom: 0;padding: 0.3em;box-sizing: border-box;text-align: center;}#sk-c7b240b4-049f-4658-9e88-c5ec501f8727 label.sk-toggleable__label-arrow:before {content: \"▸\";float: left;margin-right: 0.25em;color: #696969;}#sk-c7b240b4-049f-4658-9e88-c5ec501f8727 label.sk-toggleable__label-arrow:hover:before {color: black;}#sk-c7b240b4-049f-4658-9e88-c5ec501f8727 div.sk-estimator:hover label.sk-toggleable__label-arrow:before {color: black;}#sk-c7b240b4-049f-4658-9e88-c5ec501f8727 div.sk-toggleable__content {max-height: 0;max-width: 0;overflow: hidden;text-align: left;background-color: #f0f8ff;}#sk-c7b240b4-049f-4658-9e88-c5ec501f8727 div.sk-toggleable__content pre {margin: 0.2em;color: black;border-radius: 0.25em;background-color: #f0f8ff;}#sk-c7b240b4-049f-4658-9e88-c5ec501f8727 input.sk-toggleable__control:checked~div.sk-toggleable__content {max-height: 200px;max-width: 100%;overflow: auto;}#sk-c7b240b4-049f-4658-9e88-c5ec501f8727 input.sk-toggleable__control:checked~label.sk-toggleable__label-arrow:before {content: \"▾\";}#sk-c7b240b4-049f-4658-9e88-c5ec501f8727 div.sk-estimator input.sk-toggleable__control:checked~label.sk-toggleable__label {background-color: #d4ebff;}#sk-c7b240b4-049f-4658-9e88-c5ec501f8727 div.sk-label input.sk-toggleable__control:checked~label.sk-toggleable__label {background-color: #d4ebff;}#sk-c7b240b4-049f-4658-9e88-c5ec501f8727 input.sk-hidden--visually {border: 0;clip: rect(1px 1px 1px 1px);clip: rect(1px, 1px, 1px, 1px);height: 1px;margin: -1px;overflow: hidden;padding: 0;position: absolute;width: 1px;}#sk-c7b240b4-049f-4658-9e88-c5ec501f8727 div.sk-estimator {font-family: monospace;background-color: #f0f8ff;border: 1px dotted black;border-radius: 0.25em;box-sizing: border-box;margin-bottom: 0.5em;}#sk-c7b240b4-049f-4658-9e88-c5ec501f8727 div.sk-estimator:hover {background-color: #d4ebff;}#sk-c7b240b4-049f-4658-9e88-c5ec501f8727 div.sk-parallel-item::after {content: \"\";width: 100%;border-bottom: 1px solid gray;flex-grow: 1;}#sk-c7b240b4-049f-4658-9e88-c5ec501f8727 div.sk-label:hover label.sk-toggleable__label {background-color: #d4ebff;}#sk-c7b240b4-049f-4658-9e88-c5ec501f8727 div.sk-serial::before {content: \"\";position: absolute;border-left: 1px solid gray;box-sizing: border-box;top: 2em;bottom: 0;left: 50%;}#sk-c7b240b4-049f-4658-9e88-c5ec501f8727 div.sk-serial {display: flex;flex-direction: column;align-items: center;background-color: white;padding-right: 0.2em;padding-left: 0.2em;}#sk-c7b240b4-049f-4658-9e88-c5ec501f8727 div.sk-item {z-index: 1;}#sk-c7b240b4-049f-4658-9e88-c5ec501f8727 div.sk-parallel {display: flex;align-items: stretch;justify-content: center;background-color: white;}#sk-c7b240b4-049f-4658-9e88-c5ec501f8727 div.sk-parallel::before {content: \"\";position: absolute;border-left: 1px solid gray;box-sizing: border-box;top: 2em;bottom: 0;left: 50%;}#sk-c7b240b4-049f-4658-9e88-c5ec501f8727 div.sk-parallel-item {display: flex;flex-direction: column;position: relative;background-color: white;}#sk-c7b240b4-049f-4658-9e88-c5ec501f8727 div.sk-parallel-item:first-child::after {align-self: flex-end;width: 50%;}#sk-c7b240b4-049f-4658-9e88-c5ec501f8727 div.sk-parallel-item:last-child::after {align-self: flex-start;width: 50%;}#sk-c7b240b4-049f-4658-9e88-c5ec501f8727 div.sk-parallel-item:only-child::after {width: 0;}#sk-c7b240b4-049f-4658-9e88-c5ec501f8727 div.sk-dashed-wrapped {border: 1px dashed gray;margin: 0 0.4em 0.5em 0.4em;box-sizing: border-box;padding-bottom: 0.4em;background-color: white;position: relative;}#sk-c7b240b4-049f-4658-9e88-c5ec501f8727 div.sk-label label {font-family: monospace;font-weight: bold;background-color: white;display: inline-block;line-height: 1.2em;}#sk-c7b240b4-049f-4658-9e88-c5ec501f8727 div.sk-label-container {position: relative;z-index: 2;text-align: center;}#sk-c7b240b4-049f-4658-9e88-c5ec501f8727 div.sk-container {/* jupyter's `normalize.less` sets `[hidden] { display: none; }` but bootstrap.min.css set `[hidden] { display: none !important; }` so we also need the `!important` here to be able to override the default hidden behavior on the sphinx rendered scikit-learn.org. See: https://github.com/scikit-learn/scikit-learn/issues/21755 */display: inline-block !important;position: relative;}#sk-c7b240b4-049f-4658-9e88-c5ec501f8727 div.sk-text-repr-fallback {display: none;}</style><div id=\"sk-c7b240b4-049f-4658-9e88-c5ec501f8727\" class=\"sk-top-container\"><div class=\"sk-text-repr-fallback\"><pre>Pipeline(steps=[(&#x27;onehotimputer&#x27;, SimpleImputer(strategy=&#x27;most_frequent&#x27;)),\n",
       "                (&#x27;onehotenc&#x27;, OneHotEncoder(drop=&#x27;first&#x27;, sparse=False)),\n",
       "                (&#x27;onehotnorm&#x27;, MaxAbsScaler())])</pre><b>Please rerun this cell to show the HTML repr or trust the notebook.</b></div><div class=\"sk-container\" hidden><div class=\"sk-item sk-dashed-wrapped\"><div class=\"sk-label-container\"><div class=\"sk-label sk-toggleable\"><input class=\"sk-toggleable__control sk-hidden--visually\" id=\"9dfb6601-34a3-4611-8951-096d4c7103fd\" type=\"checkbox\" ><label for=\"9dfb6601-34a3-4611-8951-096d4c7103fd\" class=\"sk-toggleable__label sk-toggleable__label-arrow\">Pipeline</label><div class=\"sk-toggleable__content\"><pre>Pipeline(steps=[(&#x27;onehotimputer&#x27;, SimpleImputer(strategy=&#x27;most_frequent&#x27;)),\n",
       "                (&#x27;onehotenc&#x27;, OneHotEncoder(drop=&#x27;first&#x27;, sparse=False)),\n",
       "                (&#x27;onehotnorm&#x27;, MaxAbsScaler())])</pre></div></div></div><div class=\"sk-serial\"><div class=\"sk-item\"><div class=\"sk-estimator sk-toggleable\"><input class=\"sk-toggleable__control sk-hidden--visually\" id=\"1f040b17-622c-4e3c-8ad5-27fa44d0235f\" type=\"checkbox\" ><label for=\"1f040b17-622c-4e3c-8ad5-27fa44d0235f\" class=\"sk-toggleable__label sk-toggleable__label-arrow\">SimpleImputer</label><div class=\"sk-toggleable__content\"><pre>SimpleImputer(strategy=&#x27;most_frequent&#x27;)</pre></div></div></div><div class=\"sk-item\"><div class=\"sk-estimator sk-toggleable\"><input class=\"sk-toggleable__control sk-hidden--visually\" id=\"32f78f03-c64e-4008-8a5a-36af538bf594\" type=\"checkbox\" ><label for=\"32f78f03-c64e-4008-8a5a-36af538bf594\" class=\"sk-toggleable__label sk-toggleable__label-arrow\">OneHotEncoder</label><div class=\"sk-toggleable__content\"><pre>OneHotEncoder(drop=&#x27;first&#x27;, sparse=False)</pre></div></div></div><div class=\"sk-item\"><div class=\"sk-estimator sk-toggleable\"><input class=\"sk-toggleable__control sk-hidden--visually\" id=\"3bd3151e-c798-413b-91f6-50c7cc8d0cb1\" type=\"checkbox\" ><label for=\"3bd3151e-c798-413b-91f6-50c7cc8d0cb1\" class=\"sk-toggleable__label sk-toggleable__label-arrow\">MaxAbsScaler</label><div class=\"sk-toggleable__content\"><pre>MaxAbsScaler()</pre></div></div></div></div></div></div></div>"
      ],
      "text/plain": [
       "Pipeline(steps=[('onehotimputer', SimpleImputer(strategy='most_frequent')),\n",
       "                ('onehotenc', OneHotEncoder(drop='first', sparse=False)),\n",
       "                ('onehotnorm', MaxAbsScaler())])"
      ]
     },
     "execution_count": 57,
     "metadata": {},
     "output_type": "execute_result"
    }
   ],
   "source": [
    "ct.named_transformers_['nominalpipe']"
   ]
  },
  {
   "cell_type": "code",
   "execution_count": 58,
   "id": "4b68fa35",
   "metadata": {
    "cell_style": "split",
    "slideshow": {
     "slide_type": "slide"
    }
   },
   "outputs": [
    {
     "data": {
      "text/plain": [
       "('onehotnorm', MaxAbsScaler())"
      ]
     },
     "execution_count": 58,
     "metadata": {},
     "output_type": "execute_result"
    }
   ],
   "source": [
    "ct.named_transformers_['nominalpipe'].steps.pop(-1)\n"
   ]
  },
  {
   "cell_type": "code",
   "execution_count": 59,
   "id": "a36a7a57",
   "metadata": {
    "cell_style": "split",
    "slideshow": {
     "slide_type": "fragment"
    }
   },
   "outputs": [],
   "source": [
    "ct.named_transformers_['nominalpipe'].steps.append([\n",
    "    ('onehotnorm', StandardScaler())\n",
    "])"
   ]
  },
  {
   "cell_type": "code",
   "execution_count": 60,
   "id": "60fb7de6",
   "metadata": {
    "cell_style": "center",
    "slideshow": {
     "slide_type": "slide"
    }
   },
   "outputs": [
    {
     "data": {
      "text/plain": [
       "{'ordinalpipe': Pipeline(steps=[('ordimputer', SimpleImputer(strategy='most_frequent')),\n",
       "                 ('ordenc',\n",
       "                  OrdinalEncoder(categories=[['10th', '11th', 'HS-grad',\n",
       "                                              'Some-college', 'Assoc-acdm',\n",
       "                                              'Assoc-voc', 'Bachelors',\n",
       "                                              'Masters', 'Doctorate']])),\n",
       "                 ('ordnorm', StandardScaler())]),\n",
       " 'nominalpipe': Pipeline(steps=[('onehotimputer', SimpleImputer(strategy='most_frequent')),\n",
       "                 ('onehotenc', OneHotEncoder(drop='first', sparse=False)),\n",
       "                 [('onehotnorm', StandardScaler())]]),\n",
       " 'numpipe': Pipeline(steps=[('numimputer', SimpleImputer()), ('numnorm', StandardScaler())])}"
      ]
     },
     "execution_count": 60,
     "metadata": {},
     "output_type": "execute_result"
    }
   ],
   "source": [
    "ct.named_transformers_"
   ]
  },
  {
   "cell_type": "code",
   "execution_count": 61,
   "id": "942ed4b0",
   "metadata": {
    "slideshow": {
     "slide_type": "fragment"
    }
   },
   "outputs": [
    {
     "data": {
      "text/html": [
       "<style>#sk-8c02cf1f-2236-40f0-834c-225a66d76838 {color: black;background-color: white;}#sk-8c02cf1f-2236-40f0-834c-225a66d76838 pre{padding: 0;}#sk-8c02cf1f-2236-40f0-834c-225a66d76838 div.sk-toggleable {background-color: white;}#sk-8c02cf1f-2236-40f0-834c-225a66d76838 label.sk-toggleable__label {cursor: pointer;display: block;width: 100%;margin-bottom: 0;padding: 0.3em;box-sizing: border-box;text-align: center;}#sk-8c02cf1f-2236-40f0-834c-225a66d76838 label.sk-toggleable__label-arrow:before {content: \"▸\";float: left;margin-right: 0.25em;color: #696969;}#sk-8c02cf1f-2236-40f0-834c-225a66d76838 label.sk-toggleable__label-arrow:hover:before {color: black;}#sk-8c02cf1f-2236-40f0-834c-225a66d76838 div.sk-estimator:hover label.sk-toggleable__label-arrow:before {color: black;}#sk-8c02cf1f-2236-40f0-834c-225a66d76838 div.sk-toggleable__content {max-height: 0;max-width: 0;overflow: hidden;text-align: left;background-color: #f0f8ff;}#sk-8c02cf1f-2236-40f0-834c-225a66d76838 div.sk-toggleable__content pre {margin: 0.2em;color: black;border-radius: 0.25em;background-color: #f0f8ff;}#sk-8c02cf1f-2236-40f0-834c-225a66d76838 input.sk-toggleable__control:checked~div.sk-toggleable__content {max-height: 200px;max-width: 100%;overflow: auto;}#sk-8c02cf1f-2236-40f0-834c-225a66d76838 input.sk-toggleable__control:checked~label.sk-toggleable__label-arrow:before {content: \"▾\";}#sk-8c02cf1f-2236-40f0-834c-225a66d76838 div.sk-estimator input.sk-toggleable__control:checked~label.sk-toggleable__label {background-color: #d4ebff;}#sk-8c02cf1f-2236-40f0-834c-225a66d76838 div.sk-label input.sk-toggleable__control:checked~label.sk-toggleable__label {background-color: #d4ebff;}#sk-8c02cf1f-2236-40f0-834c-225a66d76838 input.sk-hidden--visually {border: 0;clip: rect(1px 1px 1px 1px);clip: rect(1px, 1px, 1px, 1px);height: 1px;margin: -1px;overflow: hidden;padding: 0;position: absolute;width: 1px;}#sk-8c02cf1f-2236-40f0-834c-225a66d76838 div.sk-estimator {font-family: monospace;background-color: #f0f8ff;border: 1px dotted black;border-radius: 0.25em;box-sizing: border-box;margin-bottom: 0.5em;}#sk-8c02cf1f-2236-40f0-834c-225a66d76838 div.sk-estimator:hover {background-color: #d4ebff;}#sk-8c02cf1f-2236-40f0-834c-225a66d76838 div.sk-parallel-item::after {content: \"\";width: 100%;border-bottom: 1px solid gray;flex-grow: 1;}#sk-8c02cf1f-2236-40f0-834c-225a66d76838 div.sk-label:hover label.sk-toggleable__label {background-color: #d4ebff;}#sk-8c02cf1f-2236-40f0-834c-225a66d76838 div.sk-serial::before {content: \"\";position: absolute;border-left: 1px solid gray;box-sizing: border-box;top: 2em;bottom: 0;left: 50%;}#sk-8c02cf1f-2236-40f0-834c-225a66d76838 div.sk-serial {display: flex;flex-direction: column;align-items: center;background-color: white;padding-right: 0.2em;padding-left: 0.2em;}#sk-8c02cf1f-2236-40f0-834c-225a66d76838 div.sk-item {z-index: 1;}#sk-8c02cf1f-2236-40f0-834c-225a66d76838 div.sk-parallel {display: flex;align-items: stretch;justify-content: center;background-color: white;}#sk-8c02cf1f-2236-40f0-834c-225a66d76838 div.sk-parallel::before {content: \"\";position: absolute;border-left: 1px solid gray;box-sizing: border-box;top: 2em;bottom: 0;left: 50%;}#sk-8c02cf1f-2236-40f0-834c-225a66d76838 div.sk-parallel-item {display: flex;flex-direction: column;position: relative;background-color: white;}#sk-8c02cf1f-2236-40f0-834c-225a66d76838 div.sk-parallel-item:first-child::after {align-self: flex-end;width: 50%;}#sk-8c02cf1f-2236-40f0-834c-225a66d76838 div.sk-parallel-item:last-child::after {align-self: flex-start;width: 50%;}#sk-8c02cf1f-2236-40f0-834c-225a66d76838 div.sk-parallel-item:only-child::after {width: 0;}#sk-8c02cf1f-2236-40f0-834c-225a66d76838 div.sk-dashed-wrapped {border: 1px dashed gray;margin: 0 0.4em 0.5em 0.4em;box-sizing: border-box;padding-bottom: 0.4em;background-color: white;position: relative;}#sk-8c02cf1f-2236-40f0-834c-225a66d76838 div.sk-label label {font-family: monospace;font-weight: bold;background-color: white;display: inline-block;line-height: 1.2em;}#sk-8c02cf1f-2236-40f0-834c-225a66d76838 div.sk-label-container {position: relative;z-index: 2;text-align: center;}#sk-8c02cf1f-2236-40f0-834c-225a66d76838 div.sk-container {/* jupyter's `normalize.less` sets `[hidden] { display: none; }` but bootstrap.min.css set `[hidden] { display: none !important; }` so we also need the `!important` here to be able to override the default hidden behavior on the sphinx rendered scikit-learn.org. See: https://github.com/scikit-learn/scikit-learn/issues/21755 */display: inline-block !important;position: relative;}#sk-8c02cf1f-2236-40f0-834c-225a66d76838 div.sk-text-repr-fallback {display: none;}</style><div id=\"sk-8c02cf1f-2236-40f0-834c-225a66d76838\" class=\"sk-top-container\"><div class=\"sk-text-repr-fallback\"><pre>ColumnTransformer(transformers=[(&#x27;ordinalpipe&#x27;,\n",
       "                                 Pipeline(steps=[(&#x27;ordimputer&#x27;,\n",
       "                                                  SimpleImputer(strategy=&#x27;most_frequent&#x27;)),\n",
       "                                                 (&#x27;ordenc&#x27;,\n",
       "                                                  OrdinalEncoder(categories=[[&#x27;10th&#x27;,\n",
       "                                                                              &#x27;11th&#x27;,\n",
       "                                                                              &#x27;HS-grad&#x27;,\n",
       "                                                                              &#x27;Some-college&#x27;,\n",
       "                                                                              &#x27;Assoc-acdm&#x27;,\n",
       "                                                                              &#x27;Assoc-voc&#x27;,\n",
       "                                                                              &#x27;Bachelors&#x27;,\n",
       "                                                                              &#x27;Masters&#x27;,\n",
       "                                                                              &#x27;Doctorate&#x27;]])),\n",
       "                                                 (&#x27;ordnorm&#x27;,\n",
       "                                                  StandardScaler())]),\n",
       "                                 [&#x27;education&#x27;]),\n",
       "                                (&#x27;nominalpipe&#x27;,\n",
       "                                 Pipeline(steps=[(&#x27;onehotimputer&#x27;,\n",
       "                                                  SimpleImputer(strategy=&#x27;most_frequent&#x27;)),\n",
       "                                                 (&#x27;onehotenc&#x27;,\n",
       "                                                  OneHotEncoder(drop=&#x27;first&#x27;,\n",
       "                                                                sparse=False)),\n",
       "                                                 (&#x27;onehotnorm&#x27;,\n",
       "                                                  MaxAbsScaler())]),\n",
       "                                 [&#x27;occupation&#x27;, &#x27;sex&#x27;]),\n",
       "                                (&#x27;numpipe&#x27;,\n",
       "                                 Pipeline(steps=[(&#x27;numimputer&#x27;,\n",
       "                                                  SimpleImputer()),\n",
       "                                                 (&#x27;numnorm&#x27;,\n",
       "                                                  StandardScaler())]),\n",
       "                                 Index([&#x27;age&#x27;, &#x27;hours.per.week&#x27;], dtype=&#x27;object&#x27;))])</pre><b>Please rerun this cell to show the HTML repr or trust the notebook.</b></div><div class=\"sk-container\" hidden><div class=\"sk-item sk-dashed-wrapped\"><div class=\"sk-label-container\"><div class=\"sk-label sk-toggleable\"><input class=\"sk-toggleable__control sk-hidden--visually\" id=\"8494fe50-d95b-4d6d-8fd3-d12d993447bd\" type=\"checkbox\" ><label for=\"8494fe50-d95b-4d6d-8fd3-d12d993447bd\" class=\"sk-toggleable__label sk-toggleable__label-arrow\">ColumnTransformer</label><div class=\"sk-toggleable__content\"><pre>ColumnTransformer(transformers=[(&#x27;ordinalpipe&#x27;,\n",
       "                                 Pipeline(steps=[(&#x27;ordimputer&#x27;,\n",
       "                                                  SimpleImputer(strategy=&#x27;most_frequent&#x27;)),\n",
       "                                                 (&#x27;ordenc&#x27;,\n",
       "                                                  OrdinalEncoder(categories=[[&#x27;10th&#x27;,\n",
       "                                                                              &#x27;11th&#x27;,\n",
       "                                                                              &#x27;HS-grad&#x27;,\n",
       "                                                                              &#x27;Some-college&#x27;,\n",
       "                                                                              &#x27;Assoc-acdm&#x27;,\n",
       "                                                                              &#x27;Assoc-voc&#x27;,\n",
       "                                                                              &#x27;Bachelors&#x27;,\n",
       "                                                                              &#x27;Masters&#x27;,\n",
       "                                                                              &#x27;Doctorate&#x27;]])),\n",
       "                                                 (&#x27;ordnorm&#x27;,\n",
       "                                                  StandardScaler())]),\n",
       "                                 [&#x27;education&#x27;]),\n",
       "                                (&#x27;nominalpipe&#x27;,\n",
       "                                 Pipeline(steps=[(&#x27;onehotimputer&#x27;,\n",
       "                                                  SimpleImputer(strategy=&#x27;most_frequent&#x27;)),\n",
       "                                                 (&#x27;onehotenc&#x27;,\n",
       "                                                  OneHotEncoder(drop=&#x27;first&#x27;,\n",
       "                                                                sparse=False)),\n",
       "                                                 (&#x27;onehotnorm&#x27;,\n",
       "                                                  MaxAbsScaler())]),\n",
       "                                 [&#x27;occupation&#x27;, &#x27;sex&#x27;]),\n",
       "                                (&#x27;numpipe&#x27;,\n",
       "                                 Pipeline(steps=[(&#x27;numimputer&#x27;,\n",
       "                                                  SimpleImputer()),\n",
       "                                                 (&#x27;numnorm&#x27;,\n",
       "                                                  StandardScaler())]),\n",
       "                                 Index([&#x27;age&#x27;, &#x27;hours.per.week&#x27;], dtype=&#x27;object&#x27;))])</pre></div></div></div><div class=\"sk-parallel\"><div class=\"sk-parallel-item\"><div class=\"sk-item\"><div class=\"sk-label-container\"><div class=\"sk-label sk-toggleable\"><input class=\"sk-toggleable__control sk-hidden--visually\" id=\"b9cc49b3-adf2-43b1-a0ca-c3415f4529df\" type=\"checkbox\" ><label for=\"b9cc49b3-adf2-43b1-a0ca-c3415f4529df\" class=\"sk-toggleable__label sk-toggleable__label-arrow\">ordinalpipe</label><div class=\"sk-toggleable__content\"><pre>[&#x27;education&#x27;]</pre></div></div></div><div class=\"sk-serial\"><div class=\"sk-item\"><div class=\"sk-serial\"><div class=\"sk-item\"><div class=\"sk-estimator sk-toggleable\"><input class=\"sk-toggleable__control sk-hidden--visually\" id=\"3fedbe4b-7cd6-4f76-b86c-df052ca3a1e4\" type=\"checkbox\" ><label for=\"3fedbe4b-7cd6-4f76-b86c-df052ca3a1e4\" class=\"sk-toggleable__label sk-toggleable__label-arrow\">SimpleImputer</label><div class=\"sk-toggleable__content\"><pre>SimpleImputer(strategy=&#x27;most_frequent&#x27;)</pre></div></div></div><div class=\"sk-item\"><div class=\"sk-estimator sk-toggleable\"><input class=\"sk-toggleable__control sk-hidden--visually\" id=\"519253aa-bfd9-423a-a72e-1ee93bcb6c6e\" type=\"checkbox\" ><label for=\"519253aa-bfd9-423a-a72e-1ee93bcb6c6e\" class=\"sk-toggleable__label sk-toggleable__label-arrow\">OrdinalEncoder</label><div class=\"sk-toggleable__content\"><pre>OrdinalEncoder(categories=[[&#x27;10th&#x27;, &#x27;11th&#x27;, &#x27;HS-grad&#x27;, &#x27;Some-college&#x27;,\n",
       "                            &#x27;Assoc-acdm&#x27;, &#x27;Assoc-voc&#x27;, &#x27;Bachelors&#x27;, &#x27;Masters&#x27;,\n",
       "                            &#x27;Doctorate&#x27;]])</pre></div></div></div><div class=\"sk-item\"><div class=\"sk-estimator sk-toggleable\"><input class=\"sk-toggleable__control sk-hidden--visually\" id=\"831974c9-d8f7-48c1-8c71-0932ecb436d7\" type=\"checkbox\" ><label for=\"831974c9-d8f7-48c1-8c71-0932ecb436d7\" class=\"sk-toggleable__label sk-toggleable__label-arrow\">StandardScaler</label><div class=\"sk-toggleable__content\"><pre>StandardScaler()</pre></div></div></div></div></div></div></div></div><div class=\"sk-parallel-item\"><div class=\"sk-item\"><div class=\"sk-label-container\"><div class=\"sk-label sk-toggleable\"><input class=\"sk-toggleable__control sk-hidden--visually\" id=\"941c17da-2b6a-4f43-8917-17ba980214eb\" type=\"checkbox\" ><label for=\"941c17da-2b6a-4f43-8917-17ba980214eb\" class=\"sk-toggleable__label sk-toggleable__label-arrow\">nominalpipe</label><div class=\"sk-toggleable__content\"><pre>[&#x27;occupation&#x27;, &#x27;sex&#x27;]</pre></div></div></div><div class=\"sk-serial\"><div class=\"sk-item\"><div class=\"sk-serial\"><div class=\"sk-item\"><div class=\"sk-estimator sk-toggleable\"><input class=\"sk-toggleable__control sk-hidden--visually\" id=\"33cdf67c-1d58-421a-bc74-f4300b8e5188\" type=\"checkbox\" ><label for=\"33cdf67c-1d58-421a-bc74-f4300b8e5188\" class=\"sk-toggleable__label sk-toggleable__label-arrow\">SimpleImputer</label><div class=\"sk-toggleable__content\"><pre>SimpleImputer(strategy=&#x27;most_frequent&#x27;)</pre></div></div></div><div class=\"sk-item\"><div class=\"sk-estimator sk-toggleable\"><input class=\"sk-toggleable__control sk-hidden--visually\" id=\"2f106722-e63c-43af-8109-4281a49b7b91\" type=\"checkbox\" ><label for=\"2f106722-e63c-43af-8109-4281a49b7b91\" class=\"sk-toggleable__label sk-toggleable__label-arrow\">OneHotEncoder</label><div class=\"sk-toggleable__content\"><pre>OneHotEncoder(drop=&#x27;first&#x27;, sparse=False)</pre></div></div></div><div class=\"sk-item\"><div class=\"sk-estimator sk-toggleable\"><input class=\"sk-toggleable__control sk-hidden--visually\" id=\"3e93516a-7639-4559-88da-97b3e72a09aa\" type=\"checkbox\" ><label for=\"3e93516a-7639-4559-88da-97b3e72a09aa\" class=\"sk-toggleable__label sk-toggleable__label-arrow\">MaxAbsScaler</label><div class=\"sk-toggleable__content\"><pre>MaxAbsScaler()</pre></div></div></div></div></div></div></div></div><div class=\"sk-parallel-item\"><div class=\"sk-item\"><div class=\"sk-label-container\"><div class=\"sk-label sk-toggleable\"><input class=\"sk-toggleable__control sk-hidden--visually\" id=\"b33c234c-91b3-4a4e-a1cb-8484b7c1671a\" type=\"checkbox\" ><label for=\"b33c234c-91b3-4a4e-a1cb-8484b7c1671a\" class=\"sk-toggleable__label sk-toggleable__label-arrow\">numpipe</label><div class=\"sk-toggleable__content\"><pre>Index([&#x27;age&#x27;, &#x27;hours.per.week&#x27;], dtype=&#x27;object&#x27;)</pre></div></div></div><div class=\"sk-serial\"><div class=\"sk-item\"><div class=\"sk-serial\"><div class=\"sk-item\"><div class=\"sk-estimator sk-toggleable\"><input class=\"sk-toggleable__control sk-hidden--visually\" id=\"3935779a-8e73-4932-9a29-5beb4d479d73\" type=\"checkbox\" ><label for=\"3935779a-8e73-4932-9a29-5beb4d479d73\" class=\"sk-toggleable__label sk-toggleable__label-arrow\">SimpleImputer</label><div class=\"sk-toggleable__content\"><pre>SimpleImputer()</pre></div></div></div><div class=\"sk-item\"><div class=\"sk-estimator sk-toggleable\"><input class=\"sk-toggleable__control sk-hidden--visually\" id=\"7fa4debf-81f7-48f7-ae2d-d9278ccf06dd\" type=\"checkbox\" ><label for=\"7fa4debf-81f7-48f7-ae2d-d9278ccf06dd\" class=\"sk-toggleable__label sk-toggleable__label-arrow\">StandardScaler</label><div class=\"sk-toggleable__content\"><pre>StandardScaler()</pre></div></div></div></div></div></div></div></div></div></div></div></div>"
      ],
      "text/plain": [
       "ColumnTransformer(transformers=[('ordinalpipe',\n",
       "                                 Pipeline(steps=[('ordimputer',\n",
       "                                                  SimpleImputer(strategy='most_frequent')),\n",
       "                                                 ('ordenc',\n",
       "                                                  OrdinalEncoder(categories=[['10th',\n",
       "                                                                              '11th',\n",
       "                                                                              'HS-grad',\n",
       "                                                                              'Some-college',\n",
       "                                                                              'Assoc-acdm',\n",
       "                                                                              'Assoc-voc',\n",
       "                                                                              'Bachelors',\n",
       "                                                                              'Masters',\n",
       "                                                                              'Doctorate']])),\n",
       "                                                 ('ordnorm',\n",
       "                                                  StandardScaler())]),\n",
       "                                 ['education']),\n",
       "                                ('nominalpipe',\n",
       "                                 Pipeline(steps=[('onehotimputer',\n",
       "                                                  SimpleImputer(strategy='most_frequent')),\n",
       "                                                 ('onehotenc',\n",
       "                                                  OneHotEncoder(drop='first',\n",
       "                                                                sparse=False)),\n",
       "                                                 ('onehotnorm',\n",
       "                                                  MaxAbsScaler())]),\n",
       "                                 ['occupation', 'sex']),\n",
       "                                ('numpipe',\n",
       "                                 Pipeline(steps=[('numimputer',\n",
       "                                                  SimpleImputer()),\n",
       "                                                 ('numnorm',\n",
       "                                                  StandardScaler())]),\n",
       "                                 Index(['age', 'hours.per.week'], dtype='object'))])"
      ]
     },
     "execution_count": 61,
     "metadata": {},
     "output_type": "execute_result"
    }
   ],
   "source": [
    "# glitch as the standardscaler is not in, it's still has the maxabsscaler\n",
    "ct"
   ]
  },
  {
   "cell_type": "markdown",
   "id": "172d0455",
   "metadata": {
    "cell_style": "split",
    "slideshow": {
     "slide_type": "slide"
    }
   },
   "source": [
    "Swapped out MaxAbScaler with StandardScaler in nominalpipe:\n",
    "\n",
    "At this point: \n",
    "- append modeling step\n",
    "- build final pipeline: transformers + model\n",
    "- tuck into gridCV for tuning."
   ]
  },
  {
   "cell_type": "code",
   "execution_count": 62,
   "id": "0b0ba1d0",
   "metadata": {
    "cell_style": "split",
    "slideshow": {
     "slide_type": "fragment"
    }
   },
   "outputs": [
    {
     "data": {
      "text/html": [
       "<style>#sk-79739783-ba55-4b36-9c57-8f4b72bcc3c0 {color: black;background-color: white;}#sk-79739783-ba55-4b36-9c57-8f4b72bcc3c0 pre{padding: 0;}#sk-79739783-ba55-4b36-9c57-8f4b72bcc3c0 div.sk-toggleable {background-color: white;}#sk-79739783-ba55-4b36-9c57-8f4b72bcc3c0 label.sk-toggleable__label {cursor: pointer;display: block;width: 100%;margin-bottom: 0;padding: 0.3em;box-sizing: border-box;text-align: center;}#sk-79739783-ba55-4b36-9c57-8f4b72bcc3c0 label.sk-toggleable__label-arrow:before {content: \"▸\";float: left;margin-right: 0.25em;color: #696969;}#sk-79739783-ba55-4b36-9c57-8f4b72bcc3c0 label.sk-toggleable__label-arrow:hover:before {color: black;}#sk-79739783-ba55-4b36-9c57-8f4b72bcc3c0 div.sk-estimator:hover label.sk-toggleable__label-arrow:before {color: black;}#sk-79739783-ba55-4b36-9c57-8f4b72bcc3c0 div.sk-toggleable__content {max-height: 0;max-width: 0;overflow: hidden;text-align: left;background-color: #f0f8ff;}#sk-79739783-ba55-4b36-9c57-8f4b72bcc3c0 div.sk-toggleable__content pre {margin: 0.2em;color: black;border-radius: 0.25em;background-color: #f0f8ff;}#sk-79739783-ba55-4b36-9c57-8f4b72bcc3c0 input.sk-toggleable__control:checked~div.sk-toggleable__content {max-height: 200px;max-width: 100%;overflow: auto;}#sk-79739783-ba55-4b36-9c57-8f4b72bcc3c0 input.sk-toggleable__control:checked~label.sk-toggleable__label-arrow:before {content: \"▾\";}#sk-79739783-ba55-4b36-9c57-8f4b72bcc3c0 div.sk-estimator input.sk-toggleable__control:checked~label.sk-toggleable__label {background-color: #d4ebff;}#sk-79739783-ba55-4b36-9c57-8f4b72bcc3c0 div.sk-label input.sk-toggleable__control:checked~label.sk-toggleable__label {background-color: #d4ebff;}#sk-79739783-ba55-4b36-9c57-8f4b72bcc3c0 input.sk-hidden--visually {border: 0;clip: rect(1px 1px 1px 1px);clip: rect(1px, 1px, 1px, 1px);height: 1px;margin: -1px;overflow: hidden;padding: 0;position: absolute;width: 1px;}#sk-79739783-ba55-4b36-9c57-8f4b72bcc3c0 div.sk-estimator {font-family: monospace;background-color: #f0f8ff;border: 1px dotted black;border-radius: 0.25em;box-sizing: border-box;margin-bottom: 0.5em;}#sk-79739783-ba55-4b36-9c57-8f4b72bcc3c0 div.sk-estimator:hover {background-color: #d4ebff;}#sk-79739783-ba55-4b36-9c57-8f4b72bcc3c0 div.sk-parallel-item::after {content: \"\";width: 100%;border-bottom: 1px solid gray;flex-grow: 1;}#sk-79739783-ba55-4b36-9c57-8f4b72bcc3c0 div.sk-label:hover label.sk-toggleable__label {background-color: #d4ebff;}#sk-79739783-ba55-4b36-9c57-8f4b72bcc3c0 div.sk-serial::before {content: \"\";position: absolute;border-left: 1px solid gray;box-sizing: border-box;top: 2em;bottom: 0;left: 50%;}#sk-79739783-ba55-4b36-9c57-8f4b72bcc3c0 div.sk-serial {display: flex;flex-direction: column;align-items: center;background-color: white;padding-right: 0.2em;padding-left: 0.2em;}#sk-79739783-ba55-4b36-9c57-8f4b72bcc3c0 div.sk-item {z-index: 1;}#sk-79739783-ba55-4b36-9c57-8f4b72bcc3c0 div.sk-parallel {display: flex;align-items: stretch;justify-content: center;background-color: white;}#sk-79739783-ba55-4b36-9c57-8f4b72bcc3c0 div.sk-parallel::before {content: \"\";position: absolute;border-left: 1px solid gray;box-sizing: border-box;top: 2em;bottom: 0;left: 50%;}#sk-79739783-ba55-4b36-9c57-8f4b72bcc3c0 div.sk-parallel-item {display: flex;flex-direction: column;position: relative;background-color: white;}#sk-79739783-ba55-4b36-9c57-8f4b72bcc3c0 div.sk-parallel-item:first-child::after {align-self: flex-end;width: 50%;}#sk-79739783-ba55-4b36-9c57-8f4b72bcc3c0 div.sk-parallel-item:last-child::after {align-self: flex-start;width: 50%;}#sk-79739783-ba55-4b36-9c57-8f4b72bcc3c0 div.sk-parallel-item:only-child::after {width: 0;}#sk-79739783-ba55-4b36-9c57-8f4b72bcc3c0 div.sk-dashed-wrapped {border: 1px dashed gray;margin: 0 0.4em 0.5em 0.4em;box-sizing: border-box;padding-bottom: 0.4em;background-color: white;position: relative;}#sk-79739783-ba55-4b36-9c57-8f4b72bcc3c0 div.sk-label label {font-family: monospace;font-weight: bold;background-color: white;display: inline-block;line-height: 1.2em;}#sk-79739783-ba55-4b36-9c57-8f4b72bcc3c0 div.sk-label-container {position: relative;z-index: 2;text-align: center;}#sk-79739783-ba55-4b36-9c57-8f4b72bcc3c0 div.sk-container {/* jupyter's `normalize.less` sets `[hidden] { display: none; }` but bootstrap.min.css set `[hidden] { display: none !important; }` so we also need the `!important` here to be able to override the default hidden behavior on the sphinx rendered scikit-learn.org. See: https://github.com/scikit-learn/scikit-learn/issues/21755 */display: inline-block !important;position: relative;}#sk-79739783-ba55-4b36-9c57-8f4b72bcc3c0 div.sk-text-repr-fallback {display: none;}</style><div id=\"sk-79739783-ba55-4b36-9c57-8f4b72bcc3c0\" class=\"sk-top-container\"><div class=\"sk-text-repr-fallback\"><pre>Pipeline(steps=[(&#x27;preprocess&#x27;,\n",
       "                 ColumnTransformer(transformers=[(&#x27;ordinalpipe&#x27;,\n",
       "                                                  Pipeline(steps=[(&#x27;ordimputer&#x27;,\n",
       "                                                                   SimpleImputer(strategy=&#x27;most_frequent&#x27;)),\n",
       "                                                                  (&#x27;ordenc&#x27;,\n",
       "                                                                   OrdinalEncoder(categories=[[&#x27;10th&#x27;,\n",
       "                                                                                               &#x27;11th&#x27;,\n",
       "                                                                                               &#x27;HS-grad&#x27;,\n",
       "                                                                                               &#x27;Some-college&#x27;,\n",
       "                                                                                               &#x27;Assoc-acdm&#x27;,\n",
       "                                                                                               &#x27;Assoc-voc&#x27;,\n",
       "                                                                                               &#x27;Bachelors&#x27;,\n",
       "                                                                                               &#x27;Masters&#x27;,\n",
       "                                                                                               &#x27;Doctorate&#x27;]])),\n",
       "                                                                  (&#x27;ordnorm&#x27;,\n",
       "                                                                   StandardScaler())]),\n",
       "                                                  [&#x27;education&#x27;]),\n",
       "                                                 (&#x27;nominalpipe&#x27;,\n",
       "                                                  P...e(steps=[(&#x27;onehotimputer&#x27;,\n",
       "                                                                   SimpleImputer(strategy=&#x27;most_frequent&#x27;)),\n",
       "                                                                  (&#x27;onehotenc&#x27;,\n",
       "                                                                   OneHotEncoder(drop=&#x27;first&#x27;,\n",
       "                                                                                 sparse=False)),\n",
       "                                                                  (&#x27;onehotnorm&#x27;,\n",
       "                                                                   MaxAbsScaler())]),\n",
       "                                                  [&#x27;occupation&#x27;, &#x27;sex&#x27;]),\n",
       "                                                 (&#x27;numpipe&#x27;,\n",
       "                                                  Pipeline(steps=[(&#x27;numimputer&#x27;,\n",
       "                                                                   SimpleImputer()),\n",
       "                                                                  (&#x27;numnorm&#x27;,\n",
       "                                                                   StandardScaler())]),\n",
       "                                                  Index([&#x27;age&#x27;, &#x27;hours.per.week&#x27;], dtype=&#x27;object&#x27;))])),\n",
       "                (&#x27;model&#x27;, KNeighborsClassifier())])</pre><b>Please rerun this cell to show the HTML repr or trust the notebook.</b></div><div class=\"sk-container\" hidden><div class=\"sk-item sk-dashed-wrapped\"><div class=\"sk-label-container\"><div class=\"sk-label sk-toggleable\"><input class=\"sk-toggleable__control sk-hidden--visually\" id=\"30393557-6820-4e62-938b-e7f874246ad3\" type=\"checkbox\" ><label for=\"30393557-6820-4e62-938b-e7f874246ad3\" class=\"sk-toggleable__label sk-toggleable__label-arrow\">Pipeline</label><div class=\"sk-toggleable__content\"><pre>Pipeline(steps=[(&#x27;preprocess&#x27;,\n",
       "                 ColumnTransformer(transformers=[(&#x27;ordinalpipe&#x27;,\n",
       "                                                  Pipeline(steps=[(&#x27;ordimputer&#x27;,\n",
       "                                                                   SimpleImputer(strategy=&#x27;most_frequent&#x27;)),\n",
       "                                                                  (&#x27;ordenc&#x27;,\n",
       "                                                                   OrdinalEncoder(categories=[[&#x27;10th&#x27;,\n",
       "                                                                                               &#x27;11th&#x27;,\n",
       "                                                                                               &#x27;HS-grad&#x27;,\n",
       "                                                                                               &#x27;Some-college&#x27;,\n",
       "                                                                                               &#x27;Assoc-acdm&#x27;,\n",
       "                                                                                               &#x27;Assoc-voc&#x27;,\n",
       "                                                                                               &#x27;Bachelors&#x27;,\n",
       "                                                                                               &#x27;Masters&#x27;,\n",
       "                                                                                               &#x27;Doctorate&#x27;]])),\n",
       "                                                                  (&#x27;ordnorm&#x27;,\n",
       "                                                                   StandardScaler())]),\n",
       "                                                  [&#x27;education&#x27;]),\n",
       "                                                 (&#x27;nominalpipe&#x27;,\n",
       "                                                  P...e(steps=[(&#x27;onehotimputer&#x27;,\n",
       "                                                                   SimpleImputer(strategy=&#x27;most_frequent&#x27;)),\n",
       "                                                                  (&#x27;onehotenc&#x27;,\n",
       "                                                                   OneHotEncoder(drop=&#x27;first&#x27;,\n",
       "                                                                                 sparse=False)),\n",
       "                                                                  (&#x27;onehotnorm&#x27;,\n",
       "                                                                   MaxAbsScaler())]),\n",
       "                                                  [&#x27;occupation&#x27;, &#x27;sex&#x27;]),\n",
       "                                                 (&#x27;numpipe&#x27;,\n",
       "                                                  Pipeline(steps=[(&#x27;numimputer&#x27;,\n",
       "                                                                   SimpleImputer()),\n",
       "                                                                  (&#x27;numnorm&#x27;,\n",
       "                                                                   StandardScaler())]),\n",
       "                                                  Index([&#x27;age&#x27;, &#x27;hours.per.week&#x27;], dtype=&#x27;object&#x27;))])),\n",
       "                (&#x27;model&#x27;, KNeighborsClassifier())])</pre></div></div></div><div class=\"sk-serial\"><div class=\"sk-item sk-dashed-wrapped\"><div class=\"sk-label-container\"><div class=\"sk-label sk-toggleable\"><input class=\"sk-toggleable__control sk-hidden--visually\" id=\"5256e113-6d63-4fb3-abbd-769793c8b4cd\" type=\"checkbox\" ><label for=\"5256e113-6d63-4fb3-abbd-769793c8b4cd\" class=\"sk-toggleable__label sk-toggleable__label-arrow\">preprocess: ColumnTransformer</label><div class=\"sk-toggleable__content\"><pre>ColumnTransformer(transformers=[(&#x27;ordinalpipe&#x27;,\n",
       "                                 Pipeline(steps=[(&#x27;ordimputer&#x27;,\n",
       "                                                  SimpleImputer(strategy=&#x27;most_frequent&#x27;)),\n",
       "                                                 (&#x27;ordenc&#x27;,\n",
       "                                                  OrdinalEncoder(categories=[[&#x27;10th&#x27;,\n",
       "                                                                              &#x27;11th&#x27;,\n",
       "                                                                              &#x27;HS-grad&#x27;,\n",
       "                                                                              &#x27;Some-college&#x27;,\n",
       "                                                                              &#x27;Assoc-acdm&#x27;,\n",
       "                                                                              &#x27;Assoc-voc&#x27;,\n",
       "                                                                              &#x27;Bachelors&#x27;,\n",
       "                                                                              &#x27;Masters&#x27;,\n",
       "                                                                              &#x27;Doctorate&#x27;]])),\n",
       "                                                 (&#x27;ordnorm&#x27;,\n",
       "                                                  StandardScaler())]),\n",
       "                                 [&#x27;education&#x27;]),\n",
       "                                (&#x27;nominalpipe&#x27;,\n",
       "                                 Pipeline(steps=[(&#x27;onehotimputer&#x27;,\n",
       "                                                  SimpleImputer(strategy=&#x27;most_frequent&#x27;)),\n",
       "                                                 (&#x27;onehotenc&#x27;,\n",
       "                                                  OneHotEncoder(drop=&#x27;first&#x27;,\n",
       "                                                                sparse=False)),\n",
       "                                                 (&#x27;onehotnorm&#x27;,\n",
       "                                                  MaxAbsScaler())]),\n",
       "                                 [&#x27;occupation&#x27;, &#x27;sex&#x27;]),\n",
       "                                (&#x27;numpipe&#x27;,\n",
       "                                 Pipeline(steps=[(&#x27;numimputer&#x27;,\n",
       "                                                  SimpleImputer()),\n",
       "                                                 (&#x27;numnorm&#x27;,\n",
       "                                                  StandardScaler())]),\n",
       "                                 Index([&#x27;age&#x27;, &#x27;hours.per.week&#x27;], dtype=&#x27;object&#x27;))])</pre></div></div></div><div class=\"sk-parallel\"><div class=\"sk-parallel-item\"><div class=\"sk-item\"><div class=\"sk-label-container\"><div class=\"sk-label sk-toggleable\"><input class=\"sk-toggleable__control sk-hidden--visually\" id=\"2ba59c75-a3c0-4fd1-bf99-9ad6fe23746c\" type=\"checkbox\" ><label for=\"2ba59c75-a3c0-4fd1-bf99-9ad6fe23746c\" class=\"sk-toggleable__label sk-toggleable__label-arrow\">ordinalpipe</label><div class=\"sk-toggleable__content\"><pre>[&#x27;education&#x27;]</pre></div></div></div><div class=\"sk-serial\"><div class=\"sk-item\"><div class=\"sk-serial\"><div class=\"sk-item\"><div class=\"sk-estimator sk-toggleable\"><input class=\"sk-toggleable__control sk-hidden--visually\" id=\"25806600-a9f0-47fc-bbae-3f172260b021\" type=\"checkbox\" ><label for=\"25806600-a9f0-47fc-bbae-3f172260b021\" class=\"sk-toggleable__label sk-toggleable__label-arrow\">SimpleImputer</label><div class=\"sk-toggleable__content\"><pre>SimpleImputer(strategy=&#x27;most_frequent&#x27;)</pre></div></div></div><div class=\"sk-item\"><div class=\"sk-estimator sk-toggleable\"><input class=\"sk-toggleable__control sk-hidden--visually\" id=\"46135904-c36f-4333-98c0-40984703736a\" type=\"checkbox\" ><label for=\"46135904-c36f-4333-98c0-40984703736a\" class=\"sk-toggleable__label sk-toggleable__label-arrow\">OrdinalEncoder</label><div class=\"sk-toggleable__content\"><pre>OrdinalEncoder(categories=[[&#x27;10th&#x27;, &#x27;11th&#x27;, &#x27;HS-grad&#x27;, &#x27;Some-college&#x27;,\n",
       "                            &#x27;Assoc-acdm&#x27;, &#x27;Assoc-voc&#x27;, &#x27;Bachelors&#x27;, &#x27;Masters&#x27;,\n",
       "                            &#x27;Doctorate&#x27;]])</pre></div></div></div><div class=\"sk-item\"><div class=\"sk-estimator sk-toggleable\"><input class=\"sk-toggleable__control sk-hidden--visually\" id=\"b8fd7e9e-d8d6-4c1a-b710-0f050b874c63\" type=\"checkbox\" ><label for=\"b8fd7e9e-d8d6-4c1a-b710-0f050b874c63\" class=\"sk-toggleable__label sk-toggleable__label-arrow\">StandardScaler</label><div class=\"sk-toggleable__content\"><pre>StandardScaler()</pre></div></div></div></div></div></div></div></div><div class=\"sk-parallel-item\"><div class=\"sk-item\"><div class=\"sk-label-container\"><div class=\"sk-label sk-toggleable\"><input class=\"sk-toggleable__control sk-hidden--visually\" id=\"287cb139-474d-4533-ba1d-8c9f1f400f23\" type=\"checkbox\" ><label for=\"287cb139-474d-4533-ba1d-8c9f1f400f23\" class=\"sk-toggleable__label sk-toggleable__label-arrow\">nominalpipe</label><div class=\"sk-toggleable__content\"><pre>[&#x27;occupation&#x27;, &#x27;sex&#x27;]</pre></div></div></div><div class=\"sk-serial\"><div class=\"sk-item\"><div class=\"sk-serial\"><div class=\"sk-item\"><div class=\"sk-estimator sk-toggleable\"><input class=\"sk-toggleable__control sk-hidden--visually\" id=\"9e2addff-5eee-4b27-b708-a3afbdc90e09\" type=\"checkbox\" ><label for=\"9e2addff-5eee-4b27-b708-a3afbdc90e09\" class=\"sk-toggleable__label sk-toggleable__label-arrow\">SimpleImputer</label><div class=\"sk-toggleable__content\"><pre>SimpleImputer(strategy=&#x27;most_frequent&#x27;)</pre></div></div></div><div class=\"sk-item\"><div class=\"sk-estimator sk-toggleable\"><input class=\"sk-toggleable__control sk-hidden--visually\" id=\"710cafc4-1999-4a46-8702-b32c44bd1683\" type=\"checkbox\" ><label for=\"710cafc4-1999-4a46-8702-b32c44bd1683\" class=\"sk-toggleable__label sk-toggleable__label-arrow\">OneHotEncoder</label><div class=\"sk-toggleable__content\"><pre>OneHotEncoder(drop=&#x27;first&#x27;, sparse=False)</pre></div></div></div><div class=\"sk-item\"><div class=\"sk-estimator sk-toggleable\"><input class=\"sk-toggleable__control sk-hidden--visually\" id=\"2888940c-eecb-47fc-a15e-dd4a991e1f3a\" type=\"checkbox\" ><label for=\"2888940c-eecb-47fc-a15e-dd4a991e1f3a\" class=\"sk-toggleable__label sk-toggleable__label-arrow\">MaxAbsScaler</label><div class=\"sk-toggleable__content\"><pre>MaxAbsScaler()</pre></div></div></div></div></div></div></div></div><div class=\"sk-parallel-item\"><div class=\"sk-item\"><div class=\"sk-label-container\"><div class=\"sk-label sk-toggleable\"><input class=\"sk-toggleable__control sk-hidden--visually\" id=\"825676ac-c330-4408-8c9e-99facda572ab\" type=\"checkbox\" ><label for=\"825676ac-c330-4408-8c9e-99facda572ab\" class=\"sk-toggleable__label sk-toggleable__label-arrow\">numpipe</label><div class=\"sk-toggleable__content\"><pre>Index([&#x27;age&#x27;, &#x27;hours.per.week&#x27;], dtype=&#x27;object&#x27;)</pre></div></div></div><div class=\"sk-serial\"><div class=\"sk-item\"><div class=\"sk-serial\"><div class=\"sk-item\"><div class=\"sk-estimator sk-toggleable\"><input class=\"sk-toggleable__control sk-hidden--visually\" id=\"f1bf29ad-22cf-48b9-9a60-e7e084453b01\" type=\"checkbox\" ><label for=\"f1bf29ad-22cf-48b9-9a60-e7e084453b01\" class=\"sk-toggleable__label sk-toggleable__label-arrow\">SimpleImputer</label><div class=\"sk-toggleable__content\"><pre>SimpleImputer()</pre></div></div></div><div class=\"sk-item\"><div class=\"sk-estimator sk-toggleable\"><input class=\"sk-toggleable__control sk-hidden--visually\" id=\"8835131f-1b9e-4e96-b26b-76affad9d5b0\" type=\"checkbox\" ><label for=\"8835131f-1b9e-4e96-b26b-76affad9d5b0\" class=\"sk-toggleable__label sk-toggleable__label-arrow\">StandardScaler</label><div class=\"sk-toggleable__content\"><pre>StandardScaler()</pre></div></div></div></div></div></div></div></div></div></div><div class=\"sk-item\"><div class=\"sk-estimator sk-toggleable\"><input class=\"sk-toggleable__control sk-hidden--visually\" id=\"25211280-389c-4f51-b1cf-8577bedd6837\" type=\"checkbox\" ><label for=\"25211280-389c-4f51-b1cf-8577bedd6837\" class=\"sk-toggleable__label sk-toggleable__label-arrow\">KNeighborsClassifier</label><div class=\"sk-toggleable__content\"><pre>KNeighborsClassifier()</pre></div></div></div></div></div></div></div>"
      ],
      "text/plain": [
       "Pipeline(steps=[('preprocess',\n",
       "                 ColumnTransformer(transformers=[('ordinalpipe',\n",
       "                                                  Pipeline(steps=[('ordimputer',\n",
       "                                                                   SimpleImputer(strategy='most_frequent')),\n",
       "                                                                  ('ordenc',\n",
       "                                                                   OrdinalEncoder(categories=[['10th',\n",
       "                                                                                               '11th',\n",
       "                                                                                               'HS-grad',\n",
       "                                                                                               'Some-college',\n",
       "                                                                                               'Assoc-acdm',\n",
       "                                                                                               'Assoc-voc',\n",
       "                                                                                               'Bachelors',\n",
       "                                                                                               'Masters',\n",
       "                                                                                               'Doctorate']])),\n",
       "                                                                  ('ordnorm',\n",
       "                                                                   StandardScaler())]),\n",
       "                                                  ['education']),\n",
       "                                                 ('nominalpipe',\n",
       "                                                  P...e(steps=[('onehotimputer',\n",
       "                                                                   SimpleImputer(strategy='most_frequent')),\n",
       "                                                                  ('onehotenc',\n",
       "                                                                   OneHotEncoder(drop='first',\n",
       "                                                                                 sparse=False)),\n",
       "                                                                  ('onehotnorm',\n",
       "                                                                   MaxAbsScaler())]),\n",
       "                                                  ['occupation', 'sex']),\n",
       "                                                 ('numpipe',\n",
       "                                                  Pipeline(steps=[('numimputer',\n",
       "                                                                   SimpleImputer()),\n",
       "                                                                  ('numnorm',\n",
       "                                                                   StandardScaler())]),\n",
       "                                                  Index(['age', 'hours.per.week'], dtype='object'))])),\n",
       "                ('model', KNeighborsClassifier())])"
      ]
     },
     "execution_count": 62,
     "metadata": {},
     "output_type": "execute_result"
    }
   ],
   "source": [
    "\n",
    "final_pipe = Pipeline([('preprocess', ct),\n",
    "                      ('model',\n",
    "                       KNeighborsClassifier())])\n",
    "final_pipe"
   ]
  },
  {
   "cell_type": "markdown",
   "id": "1dac0e7c",
   "metadata": {
    "slideshow": {
     "slide_type": "slide"
    }
   },
   "source": [
    "Fit the full transformer and model pipeline."
   ]
  },
  {
   "cell_type": "code",
   "execution_count": 63,
   "id": "8b1470a7",
   "metadata": {
    "slideshow": {
     "slide_type": "fragment"
    }
   },
   "outputs": [
    {
     "data": {
      "text/html": [
       "<style>#sk-27d99630-54f3-484f-885e-4933e592bb5f {color: black;background-color: white;}#sk-27d99630-54f3-484f-885e-4933e592bb5f pre{padding: 0;}#sk-27d99630-54f3-484f-885e-4933e592bb5f div.sk-toggleable {background-color: white;}#sk-27d99630-54f3-484f-885e-4933e592bb5f label.sk-toggleable__label {cursor: pointer;display: block;width: 100%;margin-bottom: 0;padding: 0.3em;box-sizing: border-box;text-align: center;}#sk-27d99630-54f3-484f-885e-4933e592bb5f label.sk-toggleable__label-arrow:before {content: \"▸\";float: left;margin-right: 0.25em;color: #696969;}#sk-27d99630-54f3-484f-885e-4933e592bb5f label.sk-toggleable__label-arrow:hover:before {color: black;}#sk-27d99630-54f3-484f-885e-4933e592bb5f div.sk-estimator:hover label.sk-toggleable__label-arrow:before {color: black;}#sk-27d99630-54f3-484f-885e-4933e592bb5f div.sk-toggleable__content {max-height: 0;max-width: 0;overflow: hidden;text-align: left;background-color: #f0f8ff;}#sk-27d99630-54f3-484f-885e-4933e592bb5f div.sk-toggleable__content pre {margin: 0.2em;color: black;border-radius: 0.25em;background-color: #f0f8ff;}#sk-27d99630-54f3-484f-885e-4933e592bb5f input.sk-toggleable__control:checked~div.sk-toggleable__content {max-height: 200px;max-width: 100%;overflow: auto;}#sk-27d99630-54f3-484f-885e-4933e592bb5f input.sk-toggleable__control:checked~label.sk-toggleable__label-arrow:before {content: \"▾\";}#sk-27d99630-54f3-484f-885e-4933e592bb5f div.sk-estimator input.sk-toggleable__control:checked~label.sk-toggleable__label {background-color: #d4ebff;}#sk-27d99630-54f3-484f-885e-4933e592bb5f div.sk-label input.sk-toggleable__control:checked~label.sk-toggleable__label {background-color: #d4ebff;}#sk-27d99630-54f3-484f-885e-4933e592bb5f input.sk-hidden--visually {border: 0;clip: rect(1px 1px 1px 1px);clip: rect(1px, 1px, 1px, 1px);height: 1px;margin: -1px;overflow: hidden;padding: 0;position: absolute;width: 1px;}#sk-27d99630-54f3-484f-885e-4933e592bb5f div.sk-estimator {font-family: monospace;background-color: #f0f8ff;border: 1px dotted black;border-radius: 0.25em;box-sizing: border-box;margin-bottom: 0.5em;}#sk-27d99630-54f3-484f-885e-4933e592bb5f div.sk-estimator:hover {background-color: #d4ebff;}#sk-27d99630-54f3-484f-885e-4933e592bb5f div.sk-parallel-item::after {content: \"\";width: 100%;border-bottom: 1px solid gray;flex-grow: 1;}#sk-27d99630-54f3-484f-885e-4933e592bb5f div.sk-label:hover label.sk-toggleable__label {background-color: #d4ebff;}#sk-27d99630-54f3-484f-885e-4933e592bb5f div.sk-serial::before {content: \"\";position: absolute;border-left: 1px solid gray;box-sizing: border-box;top: 2em;bottom: 0;left: 50%;}#sk-27d99630-54f3-484f-885e-4933e592bb5f div.sk-serial {display: flex;flex-direction: column;align-items: center;background-color: white;padding-right: 0.2em;padding-left: 0.2em;}#sk-27d99630-54f3-484f-885e-4933e592bb5f div.sk-item {z-index: 1;}#sk-27d99630-54f3-484f-885e-4933e592bb5f div.sk-parallel {display: flex;align-items: stretch;justify-content: center;background-color: white;}#sk-27d99630-54f3-484f-885e-4933e592bb5f div.sk-parallel::before {content: \"\";position: absolute;border-left: 1px solid gray;box-sizing: border-box;top: 2em;bottom: 0;left: 50%;}#sk-27d99630-54f3-484f-885e-4933e592bb5f div.sk-parallel-item {display: flex;flex-direction: column;position: relative;background-color: white;}#sk-27d99630-54f3-484f-885e-4933e592bb5f div.sk-parallel-item:first-child::after {align-self: flex-end;width: 50%;}#sk-27d99630-54f3-484f-885e-4933e592bb5f div.sk-parallel-item:last-child::after {align-self: flex-start;width: 50%;}#sk-27d99630-54f3-484f-885e-4933e592bb5f div.sk-parallel-item:only-child::after {width: 0;}#sk-27d99630-54f3-484f-885e-4933e592bb5f div.sk-dashed-wrapped {border: 1px dashed gray;margin: 0 0.4em 0.5em 0.4em;box-sizing: border-box;padding-bottom: 0.4em;background-color: white;position: relative;}#sk-27d99630-54f3-484f-885e-4933e592bb5f div.sk-label label {font-family: monospace;font-weight: bold;background-color: white;display: inline-block;line-height: 1.2em;}#sk-27d99630-54f3-484f-885e-4933e592bb5f div.sk-label-container {position: relative;z-index: 2;text-align: center;}#sk-27d99630-54f3-484f-885e-4933e592bb5f div.sk-container {/* jupyter's `normalize.less` sets `[hidden] { display: none; }` but bootstrap.min.css set `[hidden] { display: none !important; }` so we also need the `!important` here to be able to override the default hidden behavior on the sphinx rendered scikit-learn.org. See: https://github.com/scikit-learn/scikit-learn/issues/21755 */display: inline-block !important;position: relative;}#sk-27d99630-54f3-484f-885e-4933e592bb5f div.sk-text-repr-fallback {display: none;}</style><div id=\"sk-27d99630-54f3-484f-885e-4933e592bb5f\" class=\"sk-top-container\"><div class=\"sk-text-repr-fallback\"><pre>Pipeline(steps=[(&#x27;preprocess&#x27;,\n",
       "                 ColumnTransformer(transformers=[(&#x27;ordinalpipe&#x27;,\n",
       "                                                  Pipeline(steps=[(&#x27;ordimputer&#x27;,\n",
       "                                                                   SimpleImputer(strategy=&#x27;most_frequent&#x27;)),\n",
       "                                                                  (&#x27;ordenc&#x27;,\n",
       "                                                                   OrdinalEncoder(categories=[[&#x27;10th&#x27;,\n",
       "                                                                                               &#x27;11th&#x27;,\n",
       "                                                                                               &#x27;HS-grad&#x27;,\n",
       "                                                                                               &#x27;Some-college&#x27;,\n",
       "                                                                                               &#x27;Assoc-acdm&#x27;,\n",
       "                                                                                               &#x27;Assoc-voc&#x27;,\n",
       "                                                                                               &#x27;Bachelors&#x27;,\n",
       "                                                                                               &#x27;Masters&#x27;,\n",
       "                                                                                               &#x27;Doctorate&#x27;]])),\n",
       "                                                                  (&#x27;ordnorm&#x27;,\n",
       "                                                                   StandardScaler())]),\n",
       "                                                  [&#x27;education&#x27;]),\n",
       "                                                 (&#x27;nominalpipe&#x27;,\n",
       "                                                  P...e(steps=[(&#x27;onehotimputer&#x27;,\n",
       "                                                                   SimpleImputer(strategy=&#x27;most_frequent&#x27;)),\n",
       "                                                                  (&#x27;onehotenc&#x27;,\n",
       "                                                                   OneHotEncoder(drop=&#x27;first&#x27;,\n",
       "                                                                                 sparse=False)),\n",
       "                                                                  (&#x27;onehotnorm&#x27;,\n",
       "                                                                   MaxAbsScaler())]),\n",
       "                                                  [&#x27;occupation&#x27;, &#x27;sex&#x27;]),\n",
       "                                                 (&#x27;numpipe&#x27;,\n",
       "                                                  Pipeline(steps=[(&#x27;numimputer&#x27;,\n",
       "                                                                   SimpleImputer()),\n",
       "                                                                  (&#x27;numnorm&#x27;,\n",
       "                                                                   StandardScaler())]),\n",
       "                                                  Index([&#x27;age&#x27;, &#x27;hours.per.week&#x27;], dtype=&#x27;object&#x27;))])),\n",
       "                (&#x27;model&#x27;, KNeighborsClassifier())])</pre><b>Please rerun this cell to show the HTML repr or trust the notebook.</b></div><div class=\"sk-container\" hidden><div class=\"sk-item sk-dashed-wrapped\"><div class=\"sk-label-container\"><div class=\"sk-label sk-toggleable\"><input class=\"sk-toggleable__control sk-hidden--visually\" id=\"2a187655-1fb5-4bfe-ac1f-a5816df3607a\" type=\"checkbox\" ><label for=\"2a187655-1fb5-4bfe-ac1f-a5816df3607a\" class=\"sk-toggleable__label sk-toggleable__label-arrow\">Pipeline</label><div class=\"sk-toggleable__content\"><pre>Pipeline(steps=[(&#x27;preprocess&#x27;,\n",
       "                 ColumnTransformer(transformers=[(&#x27;ordinalpipe&#x27;,\n",
       "                                                  Pipeline(steps=[(&#x27;ordimputer&#x27;,\n",
       "                                                                   SimpleImputer(strategy=&#x27;most_frequent&#x27;)),\n",
       "                                                                  (&#x27;ordenc&#x27;,\n",
       "                                                                   OrdinalEncoder(categories=[[&#x27;10th&#x27;,\n",
       "                                                                                               &#x27;11th&#x27;,\n",
       "                                                                                               &#x27;HS-grad&#x27;,\n",
       "                                                                                               &#x27;Some-college&#x27;,\n",
       "                                                                                               &#x27;Assoc-acdm&#x27;,\n",
       "                                                                                               &#x27;Assoc-voc&#x27;,\n",
       "                                                                                               &#x27;Bachelors&#x27;,\n",
       "                                                                                               &#x27;Masters&#x27;,\n",
       "                                                                                               &#x27;Doctorate&#x27;]])),\n",
       "                                                                  (&#x27;ordnorm&#x27;,\n",
       "                                                                   StandardScaler())]),\n",
       "                                                  [&#x27;education&#x27;]),\n",
       "                                                 (&#x27;nominalpipe&#x27;,\n",
       "                                                  P...e(steps=[(&#x27;onehotimputer&#x27;,\n",
       "                                                                   SimpleImputer(strategy=&#x27;most_frequent&#x27;)),\n",
       "                                                                  (&#x27;onehotenc&#x27;,\n",
       "                                                                   OneHotEncoder(drop=&#x27;first&#x27;,\n",
       "                                                                                 sparse=False)),\n",
       "                                                                  (&#x27;onehotnorm&#x27;,\n",
       "                                                                   MaxAbsScaler())]),\n",
       "                                                  [&#x27;occupation&#x27;, &#x27;sex&#x27;]),\n",
       "                                                 (&#x27;numpipe&#x27;,\n",
       "                                                  Pipeline(steps=[(&#x27;numimputer&#x27;,\n",
       "                                                                   SimpleImputer()),\n",
       "                                                                  (&#x27;numnorm&#x27;,\n",
       "                                                                   StandardScaler())]),\n",
       "                                                  Index([&#x27;age&#x27;, &#x27;hours.per.week&#x27;], dtype=&#x27;object&#x27;))])),\n",
       "                (&#x27;model&#x27;, KNeighborsClassifier())])</pre></div></div></div><div class=\"sk-serial\"><div class=\"sk-item sk-dashed-wrapped\"><div class=\"sk-label-container\"><div class=\"sk-label sk-toggleable\"><input class=\"sk-toggleable__control sk-hidden--visually\" id=\"18888487-0db5-49bd-83e7-2faae4edc3c3\" type=\"checkbox\" ><label for=\"18888487-0db5-49bd-83e7-2faae4edc3c3\" class=\"sk-toggleable__label sk-toggleable__label-arrow\">preprocess: ColumnTransformer</label><div class=\"sk-toggleable__content\"><pre>ColumnTransformer(transformers=[(&#x27;ordinalpipe&#x27;,\n",
       "                                 Pipeline(steps=[(&#x27;ordimputer&#x27;,\n",
       "                                                  SimpleImputer(strategy=&#x27;most_frequent&#x27;)),\n",
       "                                                 (&#x27;ordenc&#x27;,\n",
       "                                                  OrdinalEncoder(categories=[[&#x27;10th&#x27;,\n",
       "                                                                              &#x27;11th&#x27;,\n",
       "                                                                              &#x27;HS-grad&#x27;,\n",
       "                                                                              &#x27;Some-college&#x27;,\n",
       "                                                                              &#x27;Assoc-acdm&#x27;,\n",
       "                                                                              &#x27;Assoc-voc&#x27;,\n",
       "                                                                              &#x27;Bachelors&#x27;,\n",
       "                                                                              &#x27;Masters&#x27;,\n",
       "                                                                              &#x27;Doctorate&#x27;]])),\n",
       "                                                 (&#x27;ordnorm&#x27;,\n",
       "                                                  StandardScaler())]),\n",
       "                                 [&#x27;education&#x27;]),\n",
       "                                (&#x27;nominalpipe&#x27;,\n",
       "                                 Pipeline(steps=[(&#x27;onehotimputer&#x27;,\n",
       "                                                  SimpleImputer(strategy=&#x27;most_frequent&#x27;)),\n",
       "                                                 (&#x27;onehotenc&#x27;,\n",
       "                                                  OneHotEncoder(drop=&#x27;first&#x27;,\n",
       "                                                                sparse=False)),\n",
       "                                                 (&#x27;onehotnorm&#x27;,\n",
       "                                                  MaxAbsScaler())]),\n",
       "                                 [&#x27;occupation&#x27;, &#x27;sex&#x27;]),\n",
       "                                (&#x27;numpipe&#x27;,\n",
       "                                 Pipeline(steps=[(&#x27;numimputer&#x27;,\n",
       "                                                  SimpleImputer()),\n",
       "                                                 (&#x27;numnorm&#x27;,\n",
       "                                                  StandardScaler())]),\n",
       "                                 Index([&#x27;age&#x27;, &#x27;hours.per.week&#x27;], dtype=&#x27;object&#x27;))])</pre></div></div></div><div class=\"sk-parallel\"><div class=\"sk-parallel-item\"><div class=\"sk-item\"><div class=\"sk-label-container\"><div class=\"sk-label sk-toggleable\"><input class=\"sk-toggleable__control sk-hidden--visually\" id=\"ed465775-955f-4960-8380-c3da6888295f\" type=\"checkbox\" ><label for=\"ed465775-955f-4960-8380-c3da6888295f\" class=\"sk-toggleable__label sk-toggleable__label-arrow\">ordinalpipe</label><div class=\"sk-toggleable__content\"><pre>[&#x27;education&#x27;]</pre></div></div></div><div class=\"sk-serial\"><div class=\"sk-item\"><div class=\"sk-serial\"><div class=\"sk-item\"><div class=\"sk-estimator sk-toggleable\"><input class=\"sk-toggleable__control sk-hidden--visually\" id=\"cf91c991-9fe6-4e63-95ef-9c09b115fc21\" type=\"checkbox\" ><label for=\"cf91c991-9fe6-4e63-95ef-9c09b115fc21\" class=\"sk-toggleable__label sk-toggleable__label-arrow\">SimpleImputer</label><div class=\"sk-toggleable__content\"><pre>SimpleImputer(strategy=&#x27;most_frequent&#x27;)</pre></div></div></div><div class=\"sk-item\"><div class=\"sk-estimator sk-toggleable\"><input class=\"sk-toggleable__control sk-hidden--visually\" id=\"c45e7f38-e8e6-4249-8663-7668b9a3ade8\" type=\"checkbox\" ><label for=\"c45e7f38-e8e6-4249-8663-7668b9a3ade8\" class=\"sk-toggleable__label sk-toggleable__label-arrow\">OrdinalEncoder</label><div class=\"sk-toggleable__content\"><pre>OrdinalEncoder(categories=[[&#x27;10th&#x27;, &#x27;11th&#x27;, &#x27;HS-grad&#x27;, &#x27;Some-college&#x27;,\n",
       "                            &#x27;Assoc-acdm&#x27;, &#x27;Assoc-voc&#x27;, &#x27;Bachelors&#x27;, &#x27;Masters&#x27;,\n",
       "                            &#x27;Doctorate&#x27;]])</pre></div></div></div><div class=\"sk-item\"><div class=\"sk-estimator sk-toggleable\"><input class=\"sk-toggleable__control sk-hidden--visually\" id=\"e116c0d6-cb06-4506-a2be-b4f7e4335304\" type=\"checkbox\" ><label for=\"e116c0d6-cb06-4506-a2be-b4f7e4335304\" class=\"sk-toggleable__label sk-toggleable__label-arrow\">StandardScaler</label><div class=\"sk-toggleable__content\"><pre>StandardScaler()</pre></div></div></div></div></div></div></div></div><div class=\"sk-parallel-item\"><div class=\"sk-item\"><div class=\"sk-label-container\"><div class=\"sk-label sk-toggleable\"><input class=\"sk-toggleable__control sk-hidden--visually\" id=\"e3bab70f-e2d5-436b-a6a9-47b8d4cb3c89\" type=\"checkbox\" ><label for=\"e3bab70f-e2d5-436b-a6a9-47b8d4cb3c89\" class=\"sk-toggleable__label sk-toggleable__label-arrow\">nominalpipe</label><div class=\"sk-toggleable__content\"><pre>[&#x27;occupation&#x27;, &#x27;sex&#x27;]</pre></div></div></div><div class=\"sk-serial\"><div class=\"sk-item\"><div class=\"sk-serial\"><div class=\"sk-item\"><div class=\"sk-estimator sk-toggleable\"><input class=\"sk-toggleable__control sk-hidden--visually\" id=\"45cb952e-037b-44da-913d-a2f547c7678c\" type=\"checkbox\" ><label for=\"45cb952e-037b-44da-913d-a2f547c7678c\" class=\"sk-toggleable__label sk-toggleable__label-arrow\">SimpleImputer</label><div class=\"sk-toggleable__content\"><pre>SimpleImputer(strategy=&#x27;most_frequent&#x27;)</pre></div></div></div><div class=\"sk-item\"><div class=\"sk-estimator sk-toggleable\"><input class=\"sk-toggleable__control sk-hidden--visually\" id=\"c0b01bcf-28f0-4a4e-adf4-9e69bcb3d685\" type=\"checkbox\" ><label for=\"c0b01bcf-28f0-4a4e-adf4-9e69bcb3d685\" class=\"sk-toggleable__label sk-toggleable__label-arrow\">OneHotEncoder</label><div class=\"sk-toggleable__content\"><pre>OneHotEncoder(drop=&#x27;first&#x27;, sparse=False)</pre></div></div></div><div class=\"sk-item\"><div class=\"sk-estimator sk-toggleable\"><input class=\"sk-toggleable__control sk-hidden--visually\" id=\"b4000d88-53ae-420f-b19d-6428cf095baa\" type=\"checkbox\" ><label for=\"b4000d88-53ae-420f-b19d-6428cf095baa\" class=\"sk-toggleable__label sk-toggleable__label-arrow\">MaxAbsScaler</label><div class=\"sk-toggleable__content\"><pre>MaxAbsScaler()</pre></div></div></div></div></div></div></div></div><div class=\"sk-parallel-item\"><div class=\"sk-item\"><div class=\"sk-label-container\"><div class=\"sk-label sk-toggleable\"><input class=\"sk-toggleable__control sk-hidden--visually\" id=\"51e03a0b-6015-4527-a19c-debe083c181c\" type=\"checkbox\" ><label for=\"51e03a0b-6015-4527-a19c-debe083c181c\" class=\"sk-toggleable__label sk-toggleable__label-arrow\">numpipe</label><div class=\"sk-toggleable__content\"><pre>Index([&#x27;age&#x27;, &#x27;hours.per.week&#x27;], dtype=&#x27;object&#x27;)</pre></div></div></div><div class=\"sk-serial\"><div class=\"sk-item\"><div class=\"sk-serial\"><div class=\"sk-item\"><div class=\"sk-estimator sk-toggleable\"><input class=\"sk-toggleable__control sk-hidden--visually\" id=\"364045c8-e98a-4490-b67d-249e6f597e18\" type=\"checkbox\" ><label for=\"364045c8-e98a-4490-b67d-249e6f597e18\" class=\"sk-toggleable__label sk-toggleable__label-arrow\">SimpleImputer</label><div class=\"sk-toggleable__content\"><pre>SimpleImputer()</pre></div></div></div><div class=\"sk-item\"><div class=\"sk-estimator sk-toggleable\"><input class=\"sk-toggleable__control sk-hidden--visually\" id=\"2994aae5-e30f-4bbd-af7e-9608e774f0b7\" type=\"checkbox\" ><label for=\"2994aae5-e30f-4bbd-af7e-9608e774f0b7\" class=\"sk-toggleable__label sk-toggleable__label-arrow\">StandardScaler</label><div class=\"sk-toggleable__content\"><pre>StandardScaler()</pre></div></div></div></div></div></div></div></div></div></div><div class=\"sk-item\"><div class=\"sk-estimator sk-toggleable\"><input class=\"sk-toggleable__control sk-hidden--visually\" id=\"1187ec83-73ed-4d91-a65f-82dade89f976\" type=\"checkbox\" ><label for=\"1187ec83-73ed-4d91-a65f-82dade89f976\" class=\"sk-toggleable__label sk-toggleable__label-arrow\">KNeighborsClassifier</label><div class=\"sk-toggleable__content\"><pre>KNeighborsClassifier()</pre></div></div></div></div></div></div></div>"
      ],
      "text/plain": [
       "Pipeline(steps=[('preprocess',\n",
       "                 ColumnTransformer(transformers=[('ordinalpipe',\n",
       "                                                  Pipeline(steps=[('ordimputer',\n",
       "                                                                   SimpleImputer(strategy='most_frequent')),\n",
       "                                                                  ('ordenc',\n",
       "                                                                   OrdinalEncoder(categories=[['10th',\n",
       "                                                                                               '11th',\n",
       "                                                                                               'HS-grad',\n",
       "                                                                                               'Some-college',\n",
       "                                                                                               'Assoc-acdm',\n",
       "                                                                                               'Assoc-voc',\n",
       "                                                                                               'Bachelors',\n",
       "                                                                                               'Masters',\n",
       "                                                                                               'Doctorate']])),\n",
       "                                                                  ('ordnorm',\n",
       "                                                                   StandardScaler())]),\n",
       "                                                  ['education']),\n",
       "                                                 ('nominalpipe',\n",
       "                                                  P...e(steps=[('onehotimputer',\n",
       "                                                                   SimpleImputer(strategy='most_frequent')),\n",
       "                                                                  ('onehotenc',\n",
       "                                                                   OneHotEncoder(drop='first',\n",
       "                                                                                 sparse=False)),\n",
       "                                                                  ('onehotnorm',\n",
       "                                                                   MaxAbsScaler())]),\n",
       "                                                  ['occupation', 'sex']),\n",
       "                                                 ('numpipe',\n",
       "                                                  Pipeline(steps=[('numimputer',\n",
       "                                                                   SimpleImputer()),\n",
       "                                                                  ('numnorm',\n",
       "                                                                   StandardScaler())]),\n",
       "                                                  Index(['age', 'hours.per.week'], dtype='object'))])),\n",
       "                ('model', KNeighborsClassifier())])"
      ]
     },
     "execution_count": 63,
     "metadata": {},
     "output_type": "execute_result"
    }
   ],
   "source": [
    "final_pipe.fit(X_inc_train, y_inc_train)"
   ]
  },
  {
   "cell_type": "code",
   "execution_count": 64,
   "id": "005c9e29",
   "metadata": {
    "scrolled": true,
    "slideshow": {
     "slide_type": "slide"
    }
   },
   "outputs": [],
   "source": [
    "y_pred = final_pipe.predict(X_inc_test)"
   ]
  },
  {
   "cell_type": "code",
   "execution_count": 65,
   "id": "38436858",
   "metadata": {
    "cell_style": "center",
    "slideshow": {
     "slide_type": "fragment"
    }
   },
   "outputs": [
    {
     "data": {
      "image/png": "[encoded data removed]",
      "text/plain": [
       "<Figure size 432x288 with 2 Axes>"
      ]
     },
     "metadata": {
      "needs_background": "light"
     },
     "output_type": "display_data"
    }
   ],
   "source": [
    "#plot_confusion_matrix(final_pipe, X_inc_test,y_inc_test)\n",
    "ConfusionMatrixDisplay.from_estimator(final_pipe, X_inc_test,y_inc_test);"
   ]
  },
  {
   "cell_type": "markdown",
   "id": "588648c9",
   "metadata": {
    "cell_style": "split",
    "slideshow": {
     "slide_type": "fragment"
    }
   },
   "source": [
    "Probably needs some tuning. Let's look at the steps of final_pipe."
   ]
  },
  {
   "cell_type": "code",
   "execution_count": 66,
   "id": "da737372",
   "metadata": {
    "cell_style": "center",
    "scrolled": false,
    "slideshow": {
     "slide_type": "slide"
    }
   },
   "outputs": [
    {
     "name": "stdout",
     "output_type": "stream",
     "text": [
      "[('preprocess', ColumnTransformer(transformers=[('ordinalpipe',\n",
      "                                 Pipeline(steps=[('ordimputer',\n",
      "                                                  SimpleImputer(strategy='most_frequent')),\n",
      "                                                 ('ordenc',\n",
      "                                                  OrdinalEncoder(categories=[['10th',\n",
      "                                                                              '11th',\n",
      "                                                                              'HS-grad',\n",
      "                                                                              'Some-college',\n",
      "                                                                              'Assoc-acdm',\n",
      "                                                                              'Assoc-voc',\n",
      "                                                                              'Bachelors',\n",
      "                                                                              'Masters',\n",
      "                                                                              'Doctorate']])),\n",
      "                                                 ('ordnorm',\n",
      "                                                  StandardScaler())]),\n",
      "                                 ['education']),\n",
      "                                ('nominalpipe',\n",
      "                                 Pipeline(steps=[('onehotimputer',\n",
      "                                                  SimpleImputer(strategy='most_frequent')),\n",
      "                                                 ('onehotenc',\n",
      "                                                  OneHotEncoder(drop='first',\n",
      "                                                                sparse=False)),\n",
      "                                                 ('onehotnorm',\n",
      "                                                  MaxAbsScaler())]),\n",
      "                                 ['occupation', 'sex']),\n",
      "                                ('numpipe',\n",
      "                                 Pipeline(steps=[('numimputer',\n",
      "                                                  SimpleImputer()),\n",
      "                                                 ('numnorm',\n",
      "                                                  StandardScaler())]),\n",
      "                                 Index(['age', 'hours.per.week'], dtype='object'))])), ('model', KNeighborsClassifier())]\n"
     ]
    }
   ],
   "source": [
    "print(final_pipe.steps)"
   ]
  },
  {
   "cell_type": "code",
   "execution_count": 67,
   "id": "5ef65610",
   "metadata": {
    "slideshow": {
     "slide_type": "slide"
    }
   },
   "outputs": [],
   "source": [
    "# going down each level in estimator with double underscore (level1__level2__estimator__argument)\n",
    "# pipeline, within the pipeline (double '_' )\n",
    "# preprocess is the column transformers, in numpipe we want the numimputer (SimpleImputer) and the strategy to mean and median\n",
    "# see above \n",
    "final_pipe_grid = {'preprocess__numpipe__numimputer__strategy': [\"mean\", \"median\"],\n",
    "             'model__n_neighbors': [3, 11, 15],\n",
    "             'model__p': [1, 2]}\n",
    "\n",
    "gs_full_pipe = GridSearchCV(estimator=final_pipe, \n",
    "                       param_grid=final_pipe_grid)"
   ]
  },
  {
   "cell_type": "code",
   "execution_count": 68,
   "id": "87c60c5b",
   "metadata": {
    "cell_style": "center",
    "scrolled": true,
    "slideshow": {
     "slide_type": "fragment"
    }
   },
   "outputs": [
    {
     "data": {
      "text/html": [
       "<style>#sk-7a4057e7-f572-4464-a82e-a9dfdd9cbf49 {color: black;background-color: white;}#sk-7a4057e7-f572-4464-a82e-a9dfdd9cbf49 pre{padding: 0;}#sk-7a4057e7-f572-4464-a82e-a9dfdd9cbf49 div.sk-toggleable {background-color: white;}#sk-7a4057e7-f572-4464-a82e-a9dfdd9cbf49 label.sk-toggleable__label {cursor: pointer;display: block;width: 100%;margin-bottom: 0;padding: 0.3em;box-sizing: border-box;text-align: center;}#sk-7a4057e7-f572-4464-a82e-a9dfdd9cbf49 label.sk-toggleable__label-arrow:before {content: \"▸\";float: left;margin-right: 0.25em;color: #696969;}#sk-7a4057e7-f572-4464-a82e-a9dfdd9cbf49 label.sk-toggleable__label-arrow:hover:before {color: black;}#sk-7a4057e7-f572-4464-a82e-a9dfdd9cbf49 div.sk-estimator:hover label.sk-toggleable__label-arrow:before {color: black;}#sk-7a4057e7-f572-4464-a82e-a9dfdd9cbf49 div.sk-toggleable__content {max-height: 0;max-width: 0;overflow: hidden;text-align: left;background-color: #f0f8ff;}#sk-7a4057e7-f572-4464-a82e-a9dfdd9cbf49 div.sk-toggleable__content pre {margin: 0.2em;color: black;border-radius: 0.25em;background-color: #f0f8ff;}#sk-7a4057e7-f572-4464-a82e-a9dfdd9cbf49 input.sk-toggleable__control:checked~div.sk-toggleable__content {max-height: 200px;max-width: 100%;overflow: auto;}#sk-7a4057e7-f572-4464-a82e-a9dfdd9cbf49 input.sk-toggleable__control:checked~label.sk-toggleable__label-arrow:before {content: \"▾\";}#sk-7a4057e7-f572-4464-a82e-a9dfdd9cbf49 div.sk-estimator input.sk-toggleable__control:checked~label.sk-toggleable__label {background-color: #d4ebff;}#sk-7a4057e7-f572-4464-a82e-a9dfdd9cbf49 div.sk-label input.sk-toggleable__control:checked~label.sk-toggleable__label {background-color: #d4ebff;}#sk-7a4057e7-f572-4464-a82e-a9dfdd9cbf49 input.sk-hidden--visually {border: 0;clip: rect(1px 1px 1px 1px);clip: rect(1px, 1px, 1px, 1px);height: 1px;margin: -1px;overflow: hidden;padding: 0;position: absolute;width: 1px;}#sk-7a4057e7-f572-4464-a82e-a9dfdd9cbf49 div.sk-estimator {font-family: monospace;background-color: #f0f8ff;border: 1px dotted black;border-radius: 0.25em;box-sizing: border-box;margin-bottom: 0.5em;}#sk-7a4057e7-f572-4464-a82e-a9dfdd9cbf49 div.sk-estimator:hover {background-color: #d4ebff;}#sk-7a4057e7-f572-4464-a82e-a9dfdd9cbf49 div.sk-parallel-item::after {content: \"\";width: 100%;border-bottom: 1px solid gray;flex-grow: 1;}#sk-7a4057e7-f572-4464-a82e-a9dfdd9cbf49 div.sk-label:hover label.sk-toggleable__label {background-color: #d4ebff;}#sk-7a4057e7-f572-4464-a82e-a9dfdd9cbf49 div.sk-serial::before {content: \"\";position: absolute;border-left: 1px solid gray;box-sizing: border-box;top: 2em;bottom: 0;left: 50%;}#sk-7a4057e7-f572-4464-a82e-a9dfdd9cbf49 div.sk-serial {display: flex;flex-direction: column;align-items: center;background-color: white;padding-right: 0.2em;padding-left: 0.2em;}#sk-7a4057e7-f572-4464-a82e-a9dfdd9cbf49 div.sk-item {z-index: 1;}#sk-7a4057e7-f572-4464-a82e-a9dfdd9cbf49 div.sk-parallel {display: flex;align-items: stretch;justify-content: center;background-color: white;}#sk-7a4057e7-f572-4464-a82e-a9dfdd9cbf49 div.sk-parallel::before {content: \"\";position: absolute;border-left: 1px solid gray;box-sizing: border-box;top: 2em;bottom: 0;left: 50%;}#sk-7a4057e7-f572-4464-a82e-a9dfdd9cbf49 div.sk-parallel-item {display: flex;flex-direction: column;position: relative;background-color: white;}#sk-7a4057e7-f572-4464-a82e-a9dfdd9cbf49 div.sk-parallel-item:first-child::after {align-self: flex-end;width: 50%;}#sk-7a4057e7-f572-4464-a82e-a9dfdd9cbf49 div.sk-parallel-item:last-child::after {align-self: flex-start;width: 50%;}#sk-7a4057e7-f572-4464-a82e-a9dfdd9cbf49 div.sk-parallel-item:only-child::after {width: 0;}#sk-7a4057e7-f572-4464-a82e-a9dfdd9cbf49 div.sk-dashed-wrapped {border: 1px dashed gray;margin: 0 0.4em 0.5em 0.4em;box-sizing: border-box;padding-bottom: 0.4em;background-color: white;position: relative;}#sk-7a4057e7-f572-4464-a82e-a9dfdd9cbf49 div.sk-label label {font-family: monospace;font-weight: bold;background-color: white;display: inline-block;line-height: 1.2em;}#sk-7a4057e7-f572-4464-a82e-a9dfdd9cbf49 div.sk-label-container {position: relative;z-index: 2;text-align: center;}#sk-7a4057e7-f572-4464-a82e-a9dfdd9cbf49 div.sk-container {/* jupyter's `normalize.less` sets `[hidden] { display: none; }` but bootstrap.min.css set `[hidden] { display: none !important; }` so we also need the `!important` here to be able to override the default hidden behavior on the sphinx rendered scikit-learn.org. See: https://github.com/scikit-learn/scikit-learn/issues/21755 */display: inline-block !important;position: relative;}#sk-7a4057e7-f572-4464-a82e-a9dfdd9cbf49 div.sk-text-repr-fallback {display: none;}</style><div id=\"sk-7a4057e7-f572-4464-a82e-a9dfdd9cbf49\" class=\"sk-top-container\"><div class=\"sk-text-repr-fallback\"><pre>GridSearchCV(estimator=Pipeline(steps=[(&#x27;preprocess&#x27;,\n",
       "                                        ColumnTransformer(transformers=[(&#x27;ordinalpipe&#x27;,\n",
       "                                                                         Pipeline(steps=[(&#x27;ordimputer&#x27;,\n",
       "                                                                                          SimpleImputer(strategy=&#x27;most_frequent&#x27;)),\n",
       "                                                                                         (&#x27;ordenc&#x27;,\n",
       "                                                                                          OrdinalEncoder(categories=[[&#x27;10th&#x27;,\n",
       "                                                                                                                      &#x27;11th&#x27;,\n",
       "                                                                                                                      &#x27;HS-grad&#x27;,\n",
       "                                                                                                                      &#x27;Some-college&#x27;,\n",
       "                                                                                                                      &#x27;Assoc-acdm&#x27;,\n",
       "                                                                                                                      &#x27;Assoc-voc&#x27;,\n",
       "                                                                                                                      &#x27;Bachelors&#x27;,\n",
       "                                                                                                                      &#x27;Masters&#x27;,\n",
       "                                                                                                                      &#x27;Doctorate&#x27;]])),\n",
       "                                                                                         (&#x27;ordnorm&#x27;,\n",
       "                                                                                          StandardScaler())]),\n",
       "                                                                         [&#x27;educat...\n",
       "                                                                                         (&#x27;onehotnorm&#x27;,\n",
       "                                                                                          MaxAbsScaler())]),\n",
       "                                                                         [&#x27;occupation&#x27;,\n",
       "                                                                          &#x27;sex&#x27;]),\n",
       "                                                                        (&#x27;numpipe&#x27;,\n",
       "                                                                         Pipeline(steps=[(&#x27;numimputer&#x27;,\n",
       "                                                                                          SimpleImputer()),\n",
       "                                                                                         (&#x27;numnorm&#x27;,\n",
       "                                                                                          StandardScaler())]),\n",
       "                                                                         Index([&#x27;age&#x27;, &#x27;hours.per.week&#x27;], dtype=&#x27;object&#x27;))])),\n",
       "                                       (&#x27;model&#x27;, KNeighborsClassifier())]),\n",
       "             param_grid={&#x27;model__n_neighbors&#x27;: [3, 11, 15], &#x27;model__p&#x27;: [1, 2],\n",
       "                         &#x27;preprocess__numpipe__numimputer__strategy&#x27;: [&#x27;mean&#x27;,\n",
       "                                                                       &#x27;median&#x27;]})</pre><b>Please rerun this cell to show the HTML repr or trust the notebook.</b></div><div class=\"sk-container\" hidden><div class=\"sk-item sk-dashed-wrapped\"><div class=\"sk-label-container\"><div class=\"sk-label sk-toggleable\"><input class=\"sk-toggleable__control sk-hidden--visually\" id=\"0440e2b7-624a-4682-8947-5474102546c8\" type=\"checkbox\" ><label for=\"0440e2b7-624a-4682-8947-5474102546c8\" class=\"sk-toggleable__label sk-toggleable__label-arrow\">GridSearchCV</label><div class=\"sk-toggleable__content\"><pre>GridSearchCV(estimator=Pipeline(steps=[(&#x27;preprocess&#x27;,\n",
       "                                        ColumnTransformer(transformers=[(&#x27;ordinalpipe&#x27;,\n",
       "                                                                         Pipeline(steps=[(&#x27;ordimputer&#x27;,\n",
       "                                                                                          SimpleImputer(strategy=&#x27;most_frequent&#x27;)),\n",
       "                                                                                         (&#x27;ordenc&#x27;,\n",
       "                                                                                          OrdinalEncoder(categories=[[&#x27;10th&#x27;,\n",
       "                                                                                                                      &#x27;11th&#x27;,\n",
       "                                                                                                                      &#x27;HS-grad&#x27;,\n",
       "                                                                                                                      &#x27;Some-college&#x27;,\n",
       "                                                                                                                      &#x27;Assoc-acdm&#x27;,\n",
       "                                                                                                                      &#x27;Assoc-voc&#x27;,\n",
       "                                                                                                                      &#x27;Bachelors&#x27;,\n",
       "                                                                                                                      &#x27;Masters&#x27;,\n",
       "                                                                                                                      &#x27;Doctorate&#x27;]])),\n",
       "                                                                                         (&#x27;ordnorm&#x27;,\n",
       "                                                                                          StandardScaler())]),\n",
       "                                                                         [&#x27;educat...\n",
       "                                                                                         (&#x27;onehotnorm&#x27;,\n",
       "                                                                                          MaxAbsScaler())]),\n",
       "                                                                         [&#x27;occupation&#x27;,\n",
       "                                                                          &#x27;sex&#x27;]),\n",
       "                                                                        (&#x27;numpipe&#x27;,\n",
       "                                                                         Pipeline(steps=[(&#x27;numimputer&#x27;,\n",
       "                                                                                          SimpleImputer()),\n",
       "                                                                                         (&#x27;numnorm&#x27;,\n",
       "                                                                                          StandardScaler())]),\n",
       "                                                                         Index([&#x27;age&#x27;, &#x27;hours.per.week&#x27;], dtype=&#x27;object&#x27;))])),\n",
       "                                       (&#x27;model&#x27;, KNeighborsClassifier())]),\n",
       "             param_grid={&#x27;model__n_neighbors&#x27;: [3, 11, 15], &#x27;model__p&#x27;: [1, 2],\n",
       "                         &#x27;preprocess__numpipe__numimputer__strategy&#x27;: [&#x27;mean&#x27;,\n",
       "                                                                       &#x27;median&#x27;]})</pre></div></div></div><div class=\"sk-parallel\"><div class=\"sk-parallel-item\"><div class=\"sk-item\"><div class=\"sk-serial\"><div class=\"sk-item\"><div class=\"sk-serial\"><div class=\"sk-item sk-dashed-wrapped\"><div class=\"sk-label-container\"><div class=\"sk-label sk-toggleable\"><input class=\"sk-toggleable__control sk-hidden--visually\" id=\"e0292e8c-02cc-4e6b-9926-e7111174908b\" type=\"checkbox\" ><label for=\"e0292e8c-02cc-4e6b-9926-e7111174908b\" class=\"sk-toggleable__label sk-toggleable__label-arrow\">preprocess: ColumnTransformer</label><div class=\"sk-toggleable__content\"><pre>ColumnTransformer(transformers=[(&#x27;ordinalpipe&#x27;,\n",
       "                                 Pipeline(steps=[(&#x27;ordimputer&#x27;,\n",
       "                                                  SimpleImputer(strategy=&#x27;most_frequent&#x27;)),\n",
       "                                                 (&#x27;ordenc&#x27;,\n",
       "                                                  OrdinalEncoder(categories=[[&#x27;10th&#x27;,\n",
       "                                                                              &#x27;11th&#x27;,\n",
       "                                                                              &#x27;HS-grad&#x27;,\n",
       "                                                                              &#x27;Some-college&#x27;,\n",
       "                                                                              &#x27;Assoc-acdm&#x27;,\n",
       "                                                                              &#x27;Assoc-voc&#x27;,\n",
       "                                                                              &#x27;Bachelors&#x27;,\n",
       "                                                                              &#x27;Masters&#x27;,\n",
       "                                                                              &#x27;Doctorate&#x27;]])),\n",
       "                                                 (&#x27;ordnorm&#x27;,\n",
       "                                                  StandardScaler())]),\n",
       "                                 [&#x27;education&#x27;]),\n",
       "                                (&#x27;nominalpipe&#x27;,\n",
       "                                 Pipeline(steps=[(&#x27;onehotimputer&#x27;,\n",
       "                                                  SimpleImputer(strategy=&#x27;most_frequent&#x27;)),\n",
       "                                                 (&#x27;onehotenc&#x27;,\n",
       "                                                  OneHotEncoder(drop=&#x27;first&#x27;,\n",
       "                                                                sparse=False)),\n",
       "                                                 (&#x27;onehotnorm&#x27;,\n",
       "                                                  MaxAbsScaler())]),\n",
       "                                 [&#x27;occupation&#x27;, &#x27;sex&#x27;]),\n",
       "                                (&#x27;numpipe&#x27;,\n",
       "                                 Pipeline(steps=[(&#x27;numimputer&#x27;,\n",
       "                                                  SimpleImputer()),\n",
       "                                                 (&#x27;numnorm&#x27;,\n",
       "                                                  StandardScaler())]),\n",
       "                                 Index([&#x27;age&#x27;, &#x27;hours.per.week&#x27;], dtype=&#x27;object&#x27;))])</pre></div></div></div><div class=\"sk-parallel\"><div class=\"sk-parallel-item\"><div class=\"sk-item\"><div class=\"sk-label-container\"><div class=\"sk-label sk-toggleable\"><input class=\"sk-toggleable__control sk-hidden--visually\" id=\"7913cd54-1d99-4f4c-9626-2e757c5cafc6\" type=\"checkbox\" ><label for=\"7913cd54-1d99-4f4c-9626-2e757c5cafc6\" class=\"sk-toggleable__label sk-toggleable__label-arrow\">ordinalpipe</label><div class=\"sk-toggleable__content\"><pre>[&#x27;education&#x27;]</pre></div></div></div><div class=\"sk-serial\"><div class=\"sk-item\"><div class=\"sk-serial\"><div class=\"sk-item\"><div class=\"sk-estimator sk-toggleable\"><input class=\"sk-toggleable__control sk-hidden--visually\" id=\"e95ff944-9cac-476b-a514-6cdeb8fc3dde\" type=\"checkbox\" ><label for=\"e95ff944-9cac-476b-a514-6cdeb8fc3dde\" class=\"sk-toggleable__label sk-toggleable__label-arrow\">SimpleImputer</label><div class=\"sk-toggleable__content\"><pre>SimpleImputer(strategy=&#x27;most_frequent&#x27;)</pre></div></div></div><div class=\"sk-item\"><div class=\"sk-estimator sk-toggleable\"><input class=\"sk-toggleable__control sk-hidden--visually\" id=\"3fe975b5-3b2a-47dc-a8c0-a6e7d942f4f9\" type=\"checkbox\" ><label for=\"3fe975b5-3b2a-47dc-a8c0-a6e7d942f4f9\" class=\"sk-toggleable__label sk-toggleable__label-arrow\">OrdinalEncoder</label><div class=\"sk-toggleable__content\"><pre>OrdinalEncoder(categories=[[&#x27;10th&#x27;, &#x27;11th&#x27;, &#x27;HS-grad&#x27;, &#x27;Some-college&#x27;,\n",
       "                            &#x27;Assoc-acdm&#x27;, &#x27;Assoc-voc&#x27;, &#x27;Bachelors&#x27;, &#x27;Masters&#x27;,\n",
       "                            &#x27;Doctorate&#x27;]])</pre></div></div></div><div class=\"sk-item\"><div class=\"sk-estimator sk-toggleable\"><input class=\"sk-toggleable__control sk-hidden--visually\" id=\"48c8e53e-8ac2-4699-bc09-1e555786d8ae\" type=\"checkbox\" ><label for=\"48c8e53e-8ac2-4699-bc09-1e555786d8ae\" class=\"sk-toggleable__label sk-toggleable__label-arrow\">StandardScaler</label><div class=\"sk-toggleable__content\"><pre>StandardScaler()</pre></div></div></div></div></div></div></div></div><div class=\"sk-parallel-item\"><div class=\"sk-item\"><div class=\"sk-label-container\"><div class=\"sk-label sk-toggleable\"><input class=\"sk-toggleable__control sk-hidden--visually\" id=\"62e8b103-e149-4c2e-b5dd-053de1aa1180\" type=\"checkbox\" ><label for=\"62e8b103-e149-4c2e-b5dd-053de1aa1180\" class=\"sk-toggleable__label sk-toggleable__label-arrow\">nominalpipe</label><div class=\"sk-toggleable__content\"><pre>[&#x27;occupation&#x27;, &#x27;sex&#x27;]</pre></div></div></div><div class=\"sk-serial\"><div class=\"sk-item\"><div class=\"sk-serial\"><div class=\"sk-item\"><div class=\"sk-estimator sk-toggleable\"><input class=\"sk-toggleable__control sk-hidden--visually\" id=\"e1d10931-92fa-4780-9dbc-b543dd3be954\" type=\"checkbox\" ><label for=\"e1d10931-92fa-4780-9dbc-b543dd3be954\" class=\"sk-toggleable__label sk-toggleable__label-arrow\">SimpleImputer</label><div class=\"sk-toggleable__content\"><pre>SimpleImputer(strategy=&#x27;most_frequent&#x27;)</pre></div></div></div><div class=\"sk-item\"><div class=\"sk-estimator sk-toggleable\"><input class=\"sk-toggleable__control sk-hidden--visually\" id=\"eeb82831-9cf7-4a36-81b9-b052064a697c\" type=\"checkbox\" ><label for=\"eeb82831-9cf7-4a36-81b9-b052064a697c\" class=\"sk-toggleable__label sk-toggleable__label-arrow\">OneHotEncoder</label><div class=\"sk-toggleable__content\"><pre>OneHotEncoder(drop=&#x27;first&#x27;, sparse=False)</pre></div></div></div><div class=\"sk-item\"><div class=\"sk-estimator sk-toggleable\"><input class=\"sk-toggleable__control sk-hidden--visually\" id=\"df467ce3-858f-47cc-ad80-001850c4136e\" type=\"checkbox\" ><label for=\"df467ce3-858f-47cc-ad80-001850c4136e\" class=\"sk-toggleable__label sk-toggleable__label-arrow\">MaxAbsScaler</label><div class=\"sk-toggleable__content\"><pre>MaxAbsScaler()</pre></div></div></div></div></div></div></div></div><div class=\"sk-parallel-item\"><div class=\"sk-item\"><div class=\"sk-label-container\"><div class=\"sk-label sk-toggleable\"><input class=\"sk-toggleable__control sk-hidden--visually\" id=\"35d35be1-01d5-4048-8a8b-9e0dbff720ab\" type=\"checkbox\" ><label for=\"35d35be1-01d5-4048-8a8b-9e0dbff720ab\" class=\"sk-toggleable__label sk-toggleable__label-arrow\">numpipe</label><div class=\"sk-toggleable__content\"><pre>Index([&#x27;age&#x27;, &#x27;hours.per.week&#x27;], dtype=&#x27;object&#x27;)</pre></div></div></div><div class=\"sk-serial\"><div class=\"sk-item\"><div class=\"sk-serial\"><div class=\"sk-item\"><div class=\"sk-estimator sk-toggleable\"><input class=\"sk-toggleable__control sk-hidden--visually\" id=\"dcdbcdf8-a253-4954-90ef-794364eba445\" type=\"checkbox\" ><label for=\"dcdbcdf8-a253-4954-90ef-794364eba445\" class=\"sk-toggleable__label sk-toggleable__label-arrow\">SimpleImputer</label><div class=\"sk-toggleable__content\"><pre>SimpleImputer()</pre></div></div></div><div class=\"sk-item\"><div class=\"sk-estimator sk-toggleable\"><input class=\"sk-toggleable__control sk-hidden--visually\" id=\"92698f9d-37e8-469d-9603-816f9b2fcb74\" type=\"checkbox\" ><label for=\"92698f9d-37e8-469d-9603-816f9b2fcb74\" class=\"sk-toggleable__label sk-toggleable__label-arrow\">StandardScaler</label><div class=\"sk-toggleable__content\"><pre>StandardScaler()</pre></div></div></div></div></div></div></div></div></div></div><div class=\"sk-item\"><div class=\"sk-estimator sk-toggleable\"><input class=\"sk-toggleable__control sk-hidden--visually\" id=\"1730d9bf-cf54-453a-85ad-221fd2d79123\" type=\"checkbox\" ><label for=\"1730d9bf-cf54-453a-85ad-221fd2d79123\" class=\"sk-toggleable__label sk-toggleable__label-arrow\">KNeighborsClassifier</label><div class=\"sk-toggleable__content\"><pre>KNeighborsClassifier()</pre></div></div></div></div></div></div></div></div></div></div></div></div>"
      ],
      "text/plain": [
       "GridSearchCV(estimator=Pipeline(steps=[('preprocess',\n",
       "                                        ColumnTransformer(transformers=[('ordinalpipe',\n",
       "                                                                         Pipeline(steps=[('ordimputer',\n",
       "                                                                                          SimpleImputer(strategy='most_frequent')),\n",
       "                                                                                         ('ordenc',\n",
       "                                                                                          OrdinalEncoder(categories=[['10th',\n",
       "                                                                                                                      '11th',\n",
       "                                                                                                                      'HS-grad',\n",
       "                                                                                                                      'Some-college',\n",
       "                                                                                                                      'Assoc-acdm',\n",
       "                                                                                                                      'Assoc-voc',\n",
       "                                                                                                                      'Bachelors',\n",
       "                                                                                                                      'Masters',\n",
       "                                                                                                                      'Doctorate']])),\n",
       "                                                                                         ('ordnorm',\n",
       "                                                                                          StandardScaler())]),\n",
       "                                                                         ['educat...\n",
       "                                                                                         ('onehotnorm',\n",
       "                                                                                          MaxAbsScaler())]),\n",
       "                                                                         ['occupation',\n",
       "                                                                          'sex']),\n",
       "                                                                        ('numpipe',\n",
       "                                                                         Pipeline(steps=[('numimputer',\n",
       "                                                                                          SimpleImputer()),\n",
       "                                                                                         ('numnorm',\n",
       "                                                                                          StandardScaler())]),\n",
       "                                                                         Index(['age', 'hours.per.week'], dtype='object'))])),\n",
       "                                       ('model', KNeighborsClassifier())]),\n",
       "             param_grid={'model__n_neighbors': [3, 11, 15], 'model__p': [1, 2],\n",
       "                         'preprocess__numpipe__numimputer__strategy': ['mean',\n",
       "                                                                       'median']})"
      ]
     },
     "execution_count": 68,
     "metadata": {},
     "output_type": "execute_result"
    }
   ],
   "source": [
    "gs_full_pipe.fit(X_inc_train,y_inc_train)"
   ]
  },
  {
   "cell_type": "code",
   "execution_count": 69,
   "id": "097445f5",
   "metadata": {
    "cell_style": "split",
    "slideshow": {
     "slide_type": "fragment"
    }
   },
   "outputs": [
    {
     "data": {
      "text/plain": [
       "0.7934462426379503"
      ]
     },
     "execution_count": 69,
     "metadata": {},
     "output_type": "execute_result"
    }
   ],
   "source": [
    "gs_full_pipe.best_score_"
   ]
  },
  {
   "cell_type": "code",
   "execution_count": 70,
   "id": "a702944b",
   "metadata": {
    "cell_style": "split",
    "slideshow": {
     "slide_type": "fragment"
    }
   },
   "outputs": [
    {
     "data": {
      "text/plain": [
       "{'model__n_neighbors': 15,\n",
       " 'model__p': 1,\n",
       " 'preprocess__numpipe__numimputer__strategy': 'mean'}"
      ]
     },
     "execution_count": 70,
     "metadata": {},
     "output_type": "execute_result"
    }
   ],
   "source": [
    "gs_full_pipe.best_params_"
   ]
  },
  {
   "cell_type": "code",
   "execution_count": 71,
   "id": "298ad64a",
   "metadata": {
    "cell_style": "center",
    "slideshow": {
     "slide_type": "slide"
    }
   },
   "outputs": [
    {
     "data": {
      "image/png": "[encoded data removed]",
      "text/plain": [
       "<Figure size 432x288 with 2 Axes>"
      ]
     },
     "metadata": {
      "needs_background": "light"
     },
     "output_type": "display_data"
    }
   ],
   "source": [
    "best_model = gs_full_pipe.best_estimator_\n",
    "y_pred = best_model.predict(X_inc_test)\n",
    "#plot_confusion_matrix(best_model,X_inc_test,y_inc_test)\n",
    "ConfusionMatrixDisplay.from_estimator(best_model,X_inc_test,y_inc_test);"
   ]
  },
  {
   "cell_type": "markdown",
   "id": "53d3c807",
   "metadata": {
    "slideshow": {
     "slide_type": "slide"
    }
   },
   "source": [
    "Try a different scoring metric due to class imbalance"
   ]
  },
  {
   "cell_type": "code",
   "execution_count": 72,
   "id": "e22f8ba4",
   "metadata": {
    "slideshow": {
     "slide_type": "fragment"
    }
   },
   "outputs": [],
   "source": [
    "# going down each level in estimator with double underscore (level1__level2__estimator__argument)\n",
    "final_pipe_grid = {'preprocess__numpipe__numimputer__strategy': [\"mean\", \"median\"],\n",
    "             'model__n_neighbors': [3, 11, 15],\n",
    "             'model__p': [1, 2]}\n",
    "\n",
    "gs_full_pipe2 = GridSearchCV(estimator=final_pipe, \n",
    "                       param_grid=final_pipe_grid, scoring = 'roc_auc')"
   ]
  },
  {
   "cell_type": "code",
   "execution_count": 73,
   "id": "889ed968",
   "metadata": {
    "slideshow": {
     "slide_type": "subslide"
    }
   },
   "outputs": [
    {
     "data": {
      "image/png": "[encoded data removed]",
      "text/plain": [
       "<Figure size 432x288 with 2 Axes>"
      ]
     },
     "metadata": {
      "needs_background": "light"
     },
     "output_type": "display_data"
    }
   ],
   "source": [
    "gs_full_pipe2.fit(X_inc_train, y_inc_train)\n",
    "best_model2 = gs_full_pipe2.best_estimator_\n",
    "#plot_confusion_matrix(best_model2, X_inc_test,y_inc_test)\n",
    "ConfusionMatrixDisplay.from_estimator(best_model2, X_inc_test,y_inc_test);"
   ]
  },
  {
   "cell_type": "markdown",
   "id": "db6967f8",
   "metadata": {
    "slideshow": {
     "slide_type": "slide"
    }
   },
   "source": [
    "Scoring made a difference, but not that much. In some case will make a *huge* difference.\n",
    "\n",
    "Probably would do much better with a better classifier and a better tuning range:\n",
    "- But now you see how to address hyperparameters inside column transformers\n",
    "- At any level of the full pipeline\n",
    "- Change metrics you are tuning on"
   ]
  },
  {
   "cell_type": "markdown",
   "id": "ac26ce79",
   "metadata": {
    "slideshow": {
     "slide_type": "slide"
    }
   },
   "source": [
    "#### Feature Union"
   ]
  },
  {
   "cell_type": "markdown",
   "id": "34ddbfcf",
   "metadata": {
    "cell_style": "split",
    "slideshow": {
     "slide_type": "slide"
    }
   },
   "source": [
    "Given a subset of features:\n",
    "- Want to transform feature subset in multiple ways (in parallel)\n",
    "- Keep all of these transformed subsets as features\n",
    "- **Feature Union** of multiple transformers"
   ]
  },
  {
   "cell_type": "markdown",
   "id": "d6839815",
   "metadata": {
    "cell_style": "split",
    "slideshow": {
     "slide_type": "fragment"
    }
   },
   "source": [
    "- E.g. PolynomialFeatures\n",
    "- Function transformer (transform features according to function)"
   ]
  },
  {
   "cell_type": "code",
   "execution_count": 74,
   "id": "755ea694",
   "metadata": {
    "slideshow": {
     "slide_type": "slide"
    }
   },
   "outputs": [],
   "source": [
    "from scipy.stats import norm\n",
    "X = np.linspace(-1.7*np.pi, 1.5*np.pi, 100)\n",
    "np.random.shuffle(X)\n",
    "epsilon = norm.rvs(loc = 0, scale = 3.5, size = 100)\n",
    "y = 5*np.sin(2*X) - 3*np.cos(X) + 2*X + .3*X**2 + epsilon\n",
    "data_df = pd.DataFrame()\n",
    "data_df['X'] = X\n",
    "data_df['y'] = y"
   ]
  },
  {
   "cell_type": "code",
   "execution_count": 75,
   "id": "a7af5435",
   "metadata": {
    "cell_style": "split",
    "scrolled": true,
    "slideshow": {
     "slide_type": "slide"
    }
   },
   "outputs": [
    {
     "data": {
      "text/html": [
       "<div>\n",
       "<style scoped>\n",
       "    .dataframe tbody tr th:only-of-type {\n",
       "        vertical-align: middle;\n",
       "    }\n",
       "\n",
       "    .dataframe tbody tr th {\n",
       "        vertical-align: top;\n",
       "    }\n",
       "\n",
       "    .dataframe thead th {\n",
       "        text-align: right;\n",
       "    }\n",
       "</style>\n",
       "<table border=\"1\" class=\"dataframe\">\n",
       "  <thead>\n",
       "    <tr style=\"text-align: right;\">\n",
       "      <th></th>\n",
       "      <th>X</th>\n",
       "      <th>y</th>\n",
       "    </tr>\n",
       "  </thead>\n",
       "  <tbody>\n",
       "    <tr>\n",
       "      <th>0</th>\n",
       "      <td>-3.309779</td>\n",
       "      <td>4.234167</td>\n",
       "    </tr>\n",
       "    <tr>\n",
       "      <th>1</th>\n",
       "      <td>-4.528336</td>\n",
       "      <td>-9.561622</td>\n",
       "    </tr>\n",
       "    <tr>\n",
       "      <th>2</th>\n",
       "      <td>0.955171</td>\n",
       "      <td>4.236319</td>\n",
       "    </tr>\n",
       "    <tr>\n",
       "      <th>3</th>\n",
       "      <td>-0.161840</td>\n",
       "      <td>-4.638399</td>\n",
       "    </tr>\n",
       "    <tr>\n",
       "      <th>4</th>\n",
       "      <td>-4.020604</td>\n",
       "      <td>-4.882365</td>\n",
       "    </tr>\n",
       "    <tr>\n",
       "      <th>...</th>\n",
       "      <td>...</td>\n",
       "      <td>...</td>\n",
       "    </tr>\n",
       "    <tr>\n",
       "      <th>95</th>\n",
       "      <td>0.345893</td>\n",
       "      <td>-0.813816</td>\n",
       "    </tr>\n",
       "    <tr>\n",
       "      <th>96</th>\n",
       "      <td>3.798471</td>\n",
       "      <td>22.931680</td>\n",
       "    </tr>\n",
       "    <tr>\n",
       "      <th>97</th>\n",
       "      <td>-3.614418</td>\n",
       "      <td>-0.259720</td>\n",
       "    </tr>\n",
       "    <tr>\n",
       "      <th>98</th>\n",
       "      <td>-2.294315</td>\n",
       "      <td>2.363795</td>\n",
       "    </tr>\n",
       "    <tr>\n",
       "      <th>99</th>\n",
       "      <td>-5.340708</td>\n",
       "      <td>-1.988191</td>\n",
       "    </tr>\n",
       "  </tbody>\n",
       "</table>\n",
       "<p>100 rows × 2 columns</p>\n",
       "</div>"
      ],
      "text/plain": [
       "           X          y\n",
       "0  -3.309779   4.234167\n",
       "1  -4.528336  -9.561622\n",
       "2   0.955171   4.236319\n",
       "3  -0.161840  -4.638399\n",
       "4  -4.020604  -4.882365\n",
       "..       ...        ...\n",
       "95  0.345893  -0.813816\n",
       "96  3.798471  22.931680\n",
       "97 -3.614418  -0.259720\n",
       "98 -2.294315   2.363795\n",
       "99 -5.340708  -1.988191\n",
       "\n",
       "[100 rows x 2 columns]"
      ]
     },
     "execution_count": 75,
     "metadata": {},
     "output_type": "execute_result"
    }
   ],
   "source": [
    "data_df"
   ]
  },
  {
   "cell_type": "code",
   "execution_count": 76,
   "id": "f00cb403",
   "metadata": {
    "cell_style": "split",
    "slideshow": {
     "slide_type": "fragment"
    }
   },
   "outputs": [
    {
     "data": {
      "image/png": "[encoded data removed]",
      "text/plain": [
       "<Figure size 432x288 with 1 Axes>"
      ]
     },
     "metadata": {
      "needs_background": "light"
     },
     "output_type": "display_data"
    }
   ],
   "source": [
    "sns.scatterplot(x = 'X', y = 'y', data = \n",
    "                data_df)\n",
    "plt.show()"
   ]
  },
  {
   "cell_type": "code",
   "execution_count": 77,
   "id": "7aabad37",
   "metadata": {
    "cell_style": "center",
    "slideshow": {
     "slide_type": "fragment"
    }
   },
   "outputs": [],
   "source": [
    "X_reshape = data_df['X'].values.reshape(-1,1)\n",
    "y = data_df['y']"
   ]
  },
  {
   "cell_type": "code",
   "execution_count": 78,
   "id": "f8a4e2ab",
   "metadata": {
    "slideshow": {
     "slide_type": "fragment"
    }
   },
   "outputs": [],
   "source": [
    "X_train, X_test, y_train, y_test = train_test_split(X_reshape, y, test_size = 0.2)"
   ]
  },
  {
   "cell_type": "code",
   "execution_count": 79,
   "id": "5af57cb2",
   "metadata": {
    "slideshow": {
     "slide_type": "slide"
    }
   },
   "outputs": [],
   "source": [
    "# polinomial features \n",
    "from sklearn.preprocessing import PolynomialFeatures\n",
    "from sklearn.preprocessing import FunctionTransformer\n",
    "from sklearn.pipeline import FeatureUnion\n",
    "from sklearn.linear_model import Ridge\n",
    "from sklearn.metrics import mean_absolute_error"
   ]
  },
  {
   "cell_type": "markdown",
   "id": "880fbd28",
   "metadata": {
    "slideshow": {
     "slide_type": "fragment"
    }
   },
   "source": [
    "Let's also define two custom functions:"
   ]
  },
  {
   "cell_type": "code",
   "execution_count": 80,
   "id": "f8d68d6b",
   "metadata": {
    "cell_style": "split",
    "slideshow": {
     "slide_type": "fragment"
    }
   },
   "outputs": [],
   "source": [
    "def sinefunc(x, c = 1):\n",
    "    return np.sin(c*x)"
   ]
  },
  {
   "cell_type": "code",
   "execution_count": 81,
   "id": "41e5d738",
   "metadata": {
    "cell_style": "split",
    "slideshow": {
     "slide_type": "fragment"
    }
   },
   "outputs": [],
   "source": [
    "def cosfunc(x, d = 1):\n",
    "    return np.cos(d*x)"
   ]
  },
  {
   "cell_type": "code",
   "execution_count": 82,
   "id": "8ecbe537",
   "metadata": {
    "cell_style": "center",
    "slideshow": {
     "slide_type": "slide"
    }
   },
   "outputs": [],
   "source": [
    "# label, extentiation of the function\n",
    "# use functionTransformer to transform the functions you made \n",
    "transformer_list = [('poly', PolynomialFeatures(include_bias = False)), \n",
    "                     ('sine', FunctionTransformer(sinefunc)), \n",
    "                     ('cosine', FunctionTransformer(cosfunc))\n",
    "                   ]\n",
    "\n",
    "# takes in input features, applies transformers in parallel to inputs, concatenates:\n",
    "feat_union = FeatureUnion(transformer_list) "
   ]
  },
  {
   "cell_type": "code",
   "execution_count": 83,
   "id": "f4278f84",
   "metadata": {
    "cell_style": "center",
    "slideshow": {
     "slide_type": "fragment"
    }
   },
   "outputs": [
    {
     "data": {
      "text/html": [
       "<style>#sk-dc47a515-1296-4822-880f-3e807e0218e2 {color: black;background-color: white;}#sk-dc47a515-1296-4822-880f-3e807e0218e2 pre{padding: 0;}#sk-dc47a515-1296-4822-880f-3e807e0218e2 div.sk-toggleable {background-color: white;}#sk-dc47a515-1296-4822-880f-3e807e0218e2 label.sk-toggleable__label {cursor: pointer;display: block;width: 100%;margin-bottom: 0;padding: 0.3em;box-sizing: border-box;text-align: center;}#sk-dc47a515-1296-4822-880f-3e807e0218e2 label.sk-toggleable__label-arrow:before {content: \"▸\";float: left;margin-right: 0.25em;color: #696969;}#sk-dc47a515-1296-4822-880f-3e807e0218e2 label.sk-toggleable__label-arrow:hover:before {color: black;}#sk-dc47a515-1296-4822-880f-3e807e0218e2 div.sk-estimator:hover label.sk-toggleable__label-arrow:before {color: black;}#sk-dc47a515-1296-4822-880f-3e807e0218e2 div.sk-toggleable__content {max-height: 0;max-width: 0;overflow: hidden;text-align: left;background-color: #f0f8ff;}#sk-dc47a515-1296-4822-880f-3e807e0218e2 div.sk-toggleable__content pre {margin: 0.2em;color: black;border-radius: 0.25em;background-color: #f0f8ff;}#sk-dc47a515-1296-4822-880f-3e807e0218e2 input.sk-toggleable__control:checked~div.sk-toggleable__content {max-height: 200px;max-width: 100%;overflow: auto;}#sk-dc47a515-1296-4822-880f-3e807e0218e2 input.sk-toggleable__control:checked~label.sk-toggleable__label-arrow:before {content: \"▾\";}#sk-dc47a515-1296-4822-880f-3e807e0218e2 div.sk-estimator input.sk-toggleable__control:checked~label.sk-toggleable__label {background-color: #d4ebff;}#sk-dc47a515-1296-4822-880f-3e807e0218e2 div.sk-label input.sk-toggleable__control:checked~label.sk-toggleable__label {background-color: #d4ebff;}#sk-dc47a515-1296-4822-880f-3e807e0218e2 input.sk-hidden--visually {border: 0;clip: rect(1px 1px 1px 1px);clip: rect(1px, 1px, 1px, 1px);height: 1px;margin: -1px;overflow: hidden;padding: 0;position: absolute;width: 1px;}#sk-dc47a515-1296-4822-880f-3e807e0218e2 div.sk-estimator {font-family: monospace;background-color: #f0f8ff;border: 1px dotted black;border-radius: 0.25em;box-sizing: border-box;margin-bottom: 0.5em;}#sk-dc47a515-1296-4822-880f-3e807e0218e2 div.sk-estimator:hover {background-color: #d4ebff;}#sk-dc47a515-1296-4822-880f-3e807e0218e2 div.sk-parallel-item::after {content: \"\";width: 100%;border-bottom: 1px solid gray;flex-grow: 1;}#sk-dc47a515-1296-4822-880f-3e807e0218e2 div.sk-label:hover label.sk-toggleable__label {background-color: #d4ebff;}#sk-dc47a515-1296-4822-880f-3e807e0218e2 div.sk-serial::before {content: \"\";position: absolute;border-left: 1px solid gray;box-sizing: border-box;top: 2em;bottom: 0;left: 50%;}#sk-dc47a515-1296-4822-880f-3e807e0218e2 div.sk-serial {display: flex;flex-direction: column;align-items: center;background-color: white;padding-right: 0.2em;padding-left: 0.2em;}#sk-dc47a515-1296-4822-880f-3e807e0218e2 div.sk-item {z-index: 1;}#sk-dc47a515-1296-4822-880f-3e807e0218e2 div.sk-parallel {display: flex;align-items: stretch;justify-content: center;background-color: white;}#sk-dc47a515-1296-4822-880f-3e807e0218e2 div.sk-parallel::before {content: \"\";position: absolute;border-left: 1px solid gray;box-sizing: border-box;top: 2em;bottom: 0;left: 50%;}#sk-dc47a515-1296-4822-880f-3e807e0218e2 div.sk-parallel-item {display: flex;flex-direction: column;position: relative;background-color: white;}#sk-dc47a515-1296-4822-880f-3e807e0218e2 div.sk-parallel-item:first-child::after {align-self: flex-end;width: 50%;}#sk-dc47a515-1296-4822-880f-3e807e0218e2 div.sk-parallel-item:last-child::after {align-self: flex-start;width: 50%;}#sk-dc47a515-1296-4822-880f-3e807e0218e2 div.sk-parallel-item:only-child::after {width: 0;}#sk-dc47a515-1296-4822-880f-3e807e0218e2 div.sk-dashed-wrapped {border: 1px dashed gray;margin: 0 0.4em 0.5em 0.4em;box-sizing: border-box;padding-bottom: 0.4em;background-color: white;position: relative;}#sk-dc47a515-1296-4822-880f-3e807e0218e2 div.sk-label label {font-family: monospace;font-weight: bold;background-color: white;display: inline-block;line-height: 1.2em;}#sk-dc47a515-1296-4822-880f-3e807e0218e2 div.sk-label-container {position: relative;z-index: 2;text-align: center;}#sk-dc47a515-1296-4822-880f-3e807e0218e2 div.sk-container {/* jupyter's `normalize.less` sets `[hidden] { display: none; }` but bootstrap.min.css set `[hidden] { display: none !important; }` so we also need the `!important` here to be able to override the default hidden behavior on the sphinx rendered scikit-learn.org. See: https://github.com/scikit-learn/scikit-learn/issues/21755 */display: inline-block !important;position: relative;}#sk-dc47a515-1296-4822-880f-3e807e0218e2 div.sk-text-repr-fallback {display: none;}</style><div id=\"sk-dc47a515-1296-4822-880f-3e807e0218e2\" class=\"sk-top-container\"><div class=\"sk-text-repr-fallback\"><pre>Pipeline(steps=[(&#x27;feateng&#x27;,\n",
       "                 FeatureUnion(transformer_list=[(&#x27;poly&#x27;,\n",
       "                                                 PolynomialFeatures(include_bias=False)),\n",
       "                                                (&#x27;sine&#x27;,\n",
       "                                                 FunctionTransformer(func=&lt;function sinefunc at 0x7fd0004e80d0&gt;)),\n",
       "                                                (&#x27;cosine&#x27;,\n",
       "                                                 FunctionTransformer(func=&lt;function cosfunc at 0x7fd0004e85e0&gt;))])),\n",
       "                (&#x27;scaler&#x27;, StandardScaler())])</pre><b>Please rerun this cell to show the HTML repr or trust the notebook.</b></div><div class=\"sk-container\" hidden><div class=\"sk-item sk-dashed-wrapped\"><div class=\"sk-label-container\"><div class=\"sk-label sk-toggleable\"><input class=\"sk-toggleable__control sk-hidden--visually\" id=\"a6e43d7d-1393-41e8-9249-7e1a5a9f1a9e\" type=\"checkbox\" ><label for=\"a6e43d7d-1393-41e8-9249-7e1a5a9f1a9e\" class=\"sk-toggleable__label sk-toggleable__label-arrow\">Pipeline</label><div class=\"sk-toggleable__content\"><pre>Pipeline(steps=[(&#x27;feateng&#x27;,\n",
       "                 FeatureUnion(transformer_list=[(&#x27;poly&#x27;,\n",
       "                                                 PolynomialFeatures(include_bias=False)),\n",
       "                                                (&#x27;sine&#x27;,\n",
       "                                                 FunctionTransformer(func=&lt;function sinefunc at 0x7fd0004e80d0&gt;)),\n",
       "                                                (&#x27;cosine&#x27;,\n",
       "                                                 FunctionTransformer(func=&lt;function cosfunc at 0x7fd0004e85e0&gt;))])),\n",
       "                (&#x27;scaler&#x27;, StandardScaler())])</pre></div></div></div><div class=\"sk-serial\"><div class=\"sk-item sk-dashed-wrapped\"><div class=\"sk-label-container\"><div class=\"sk-label sk-toggleable\"><input class=\"sk-toggleable__control sk-hidden--visually\" id=\"c5c844e0-d5e0-40a6-99d5-bd3e975c5774\" type=\"checkbox\" ><label for=\"c5c844e0-d5e0-40a6-99d5-bd3e975c5774\" class=\"sk-toggleable__label sk-toggleable__label-arrow\">feateng: FeatureUnion</label><div class=\"sk-toggleable__content\"><pre>FeatureUnion(transformer_list=[(&#x27;poly&#x27;, PolynomialFeatures(include_bias=False)),\n",
       "                               (&#x27;sine&#x27;,\n",
       "                                FunctionTransformer(func=&lt;function sinefunc at 0x7fd0004e80d0&gt;)),\n",
       "                               (&#x27;cosine&#x27;,\n",
       "                                FunctionTransformer(func=&lt;function cosfunc at 0x7fd0004e85e0&gt;))])</pre></div></div></div><div class=\"sk-parallel\"><div class=\"sk-parallel-item\"><div class=\"sk-item\"><div class=\"sk-label-container\"><div class=\"sk-label sk-toggleable\"><label>poly</label></div></div><div class=\"sk-serial\"><div class=\"sk-item\"><div class=\"sk-estimator sk-toggleable\"><input class=\"sk-toggleable__control sk-hidden--visually\" id=\"2adf1b8e-cea2-4951-ad43-23cf24a49f32\" type=\"checkbox\" ><label for=\"2adf1b8e-cea2-4951-ad43-23cf24a49f32\" class=\"sk-toggleable__label sk-toggleable__label-arrow\">PolynomialFeatures</label><div class=\"sk-toggleable__content\"><pre>PolynomialFeatures(include_bias=False)</pre></div></div></div></div></div></div><div class=\"sk-parallel-item\"><div class=\"sk-item\"><div class=\"sk-label-container\"><div class=\"sk-label sk-toggleable\"><label>sine</label></div></div><div class=\"sk-serial\"><div class=\"sk-item\"><div class=\"sk-estimator sk-toggleable\"><input class=\"sk-toggleable__control sk-hidden--visually\" id=\"7130bd8d-35be-4a45-89dd-11cab45d8303\" type=\"checkbox\" ><label for=\"7130bd8d-35be-4a45-89dd-11cab45d8303\" class=\"sk-toggleable__label sk-toggleable__label-arrow\">FunctionTransformer</label><div class=\"sk-toggleable__content\"><pre>FunctionTransformer(func=&lt;function sinefunc at 0x7fd0004e80d0&gt;)</pre></div></div></div></div></div></div><div class=\"sk-parallel-item\"><div class=\"sk-item\"><div class=\"sk-label-container\"><div class=\"sk-label sk-toggleable\"><label>cosine</label></div></div><div class=\"sk-serial\"><div class=\"sk-item\"><div class=\"sk-estimator sk-toggleable\"><input class=\"sk-toggleable__control sk-hidden--visually\" id=\"8b11317c-2896-4005-bc50-ca50907d8fd1\" type=\"checkbox\" ><label for=\"8b11317c-2896-4005-bc50-ca50907d8fd1\" class=\"sk-toggleable__label sk-toggleable__label-arrow\">FunctionTransformer</label><div class=\"sk-toggleable__content\"><pre>FunctionTransformer(func=&lt;function cosfunc at 0x7fd0004e85e0&gt;)</pre></div></div></div></div></div></div></div></div><div class=\"sk-item\"><div class=\"sk-estimator sk-toggleable\"><input class=\"sk-toggleable__control sk-hidden--visually\" id=\"3e7d494a-a595-466a-9570-513542176494\" type=\"checkbox\" ><label for=\"3e7d494a-a595-466a-9570-513542176494\" class=\"sk-toggleable__label sk-toggleable__label-arrow\">StandardScaler</label><div class=\"sk-toggleable__content\"><pre>StandardScaler()</pre></div></div></div></div></div></div></div>"
      ],
      "text/plain": [
       "Pipeline(steps=[('feateng',\n",
       "                 FeatureUnion(transformer_list=[('poly',\n",
       "                                                 PolynomialFeatures(include_bias=False)),\n",
       "                                                ('sine',\n",
       "                                                 FunctionTransformer(func=<function sinefunc at 0x7fd0004e80d0>)),\n",
       "                                                ('cosine',\n",
       "                                                 FunctionTransformer(func=<function cosfunc at 0x7fd0004e85e0>))])),\n",
       "                ('scaler', StandardScaler())])"
      ]
     },
     "execution_count": 83,
     "metadata": {},
     "output_type": "execute_result"
    }
   ],
   "source": [
    "# feat_unin, is the 1st step from the previous  into this pipeline\n",
    "steps = [('feateng', feat_union), ('scaler', StandardScaler())]\n",
    "preprocess_pipe = Pipeline(steps)\n",
    "preprocess_pipe"
   ]
  },
  {
   "cell_type": "code",
   "execution_count": 84,
   "id": "c32bfbe3",
   "metadata": {
    "cell_style": "center",
    "scrolled": false,
    "slideshow": {
     "slide_type": "slide"
    }
   },
   "outputs": [
    {
     "data": {
      "text/plain": [
       "array([[ 0.1829273 , -1.11705367,  0.54537962,  1.63095747],\n",
       "       [ 1.09125595,  0.13132439, -0.11585426, -1.23703534],\n",
       "       [-0.92725217, -0.08654263, -0.37495187, -1.19620461],\n",
       "       [ 0.2838527 , -1.0713016 ,  0.89028849,  1.37246213],\n",
       "       [-0.32169973, -0.99722681, -1.26192752,  0.98732433]])"
      ]
     },
     "execution_count": 84,
     "metadata": {},
     "output_type": "execute_result"
    }
   ],
   "source": [
    "X_proc = preprocess_pipe.fit_transform(X_train)\n",
    "X_proc[0:5]\n",
    "# columns: original x value, quadratic polinomial, sign of the original value, cosine of the original value"
   ]
  },
  {
   "cell_type": "markdown",
   "id": "069e132c",
   "metadata": {
    "cell_style": "split",
    "slideshow": {
     "slide_type": "fragment"
    }
   },
   "source": [
    "First column is linear in X, second quadratic in X, then the sin and cosine terms.\n",
    "\n",
    "- Check if all standard scaled:"
   ]
  },
  {
   "cell_type": "code",
   "execution_count": 85,
   "id": "260429a6",
   "metadata": {
    "cell_style": "split",
    "slideshow": {
     "slide_type": "fragment"
    }
   },
   "outputs": [
    {
     "name": "stdout",
     "output_type": "stream",
     "text": [
      "[-2.49800181e-17 -4.53803661e-16  2.01227923e-17  2.77555756e-18]\n"
     ]
    }
   ],
   "source": [
    "print(X_proc.mean(axis = 0))\n",
    "# everything been standardized, all mean are almost 0"
   ]
  },
  {
   "cell_type": "code",
   "execution_count": 86,
   "id": "0a03a636",
   "metadata": {
    "cell_style": "split",
    "slideshow": {
     "slide_type": "fragment"
    }
   },
   "outputs": [
    {
     "name": "stdout",
     "output_type": "stream",
     "text": [
      "[1. 1. 1. 1.]\n"
     ]
    }
   ],
   "source": [
    "print(X_proc.std(axis = 0))\n",
    "# everything had been standardized, all standard diviation is 1"
   ]
  },
  {
   "cell_type": "markdown",
   "id": "4e9eb2aa",
   "metadata": {
    "slideshow": {
     "slide_type": "slide"
    }
   },
   "source": [
    "Finish pipeline and hyperparameter tune:"
   ]
  },
  {
   "cell_type": "code",
   "execution_count": 87,
   "id": "0a8e3508",
   "metadata": {
    "slideshow": {
     "slide_type": "fragment"
    }
   },
   "outputs": [],
   "source": [
    "# multiple transformation on the same column\n",
    "steps = [('preprocess', preprocess_pipe), ('ridge', Ridge())]\n",
    "regress_pipe = Pipeline(steps)\n",
    "params = {'preprocess__feateng__poly__degree': [1, 2, 3, 4], \n",
    "          'preprocess__feateng__sine__kw_args': [{'c': 1},{'c': 2},{'c': 3}],\n",
    "          'ridge__alpha': [1e-3, .01, .1, 1, 10, 100]}\n",
    "cv = GridSearchCV(estimator = regress_pipe, param_grid = params, cv = 6)\n",
    "cv.fit(X_train, y_train)\n",
    "best_model = cv.best_estimator_"
   ]
  },
  {
   "cell_type": "code",
   "execution_count": 88,
   "id": "a92cbf3c",
   "metadata": {
    "cell_style": "center",
    "scrolled": false,
    "slideshow": {
     "slide_type": "slide"
    }
   },
   "outputs": [
    {
     "data": {
      "text/plain": [
       "[('preprocess',\n",
       "  Pipeline(steps=[('feateng',\n",
       "                   FeatureUnion(transformer_list=[('poly',\n",
       "                                                   PolynomialFeatures(include_bias=False)),\n",
       "                                                  ('sine',\n",
       "                                                   FunctionTransformer(func=<function sinefunc at 0x7fd0004e80d0>,\n",
       "                                                                       kw_args={'c': 2})),\n",
       "                                                  ('cosine',\n",
       "                                                   FunctionTransformer(func=<function cosfunc at 0x7fd0004e85e0>))])),\n",
       "                  ('scaler', StandardScaler())])),\n",
       " ('ridge', Ridge(alpha=1))]"
      ]
     },
     "execution_count": 88,
     "metadata": {},
     "output_type": "execute_result"
    }
   ],
   "source": [
    "# parameters for the best \n",
    "best_model.steps"
   ]
  },
  {
   "cell_type": "code",
   "execution_count": 89,
   "id": "ebb5871b",
   "metadata": {
    "cell_style": "split",
    "slideshow": {
     "slide_type": "fragment"
    }
   },
   "outputs": [
    {
     "data": {
      "text/plain": [
       "0.7893013717654512"
      ]
     },
     "execution_count": 89,
     "metadata": {},
     "output_type": "execute_result"
    }
   ],
   "source": [
    "cv.best_score_"
   ]
  },
  {
   "cell_type": "code",
   "execution_count": 90,
   "id": "10f614cb",
   "metadata": {
    "cell_style": "split",
    "slideshow": {
     "slide_type": "fragment"
    }
   },
   "outputs": [
    {
     "data": {
      "text/plain": [
       "{'preprocess__feateng__poly__degree': 2,\n",
       " 'preprocess__feateng__sine__kw_args': {'c': 2},\n",
       " 'ridge__alpha': 1}"
      ]
     },
     "execution_count": 90,
     "metadata": {},
     "output_type": "execute_result"
    }
   ],
   "source": [
    "cv.best_params_"
   ]
  },
  {
   "cell_type": "code",
   "execution_count": 91,
   "id": "5beacb43",
   "metadata": {
    "scrolled": true,
    "slideshow": {
     "slide_type": "slide"
    }
   },
   "outputs": [
    {
     "data": {
      "text/html": [
       "<div>\n",
       "<style scoped>\n",
       "    .dataframe tbody tr th:only-of-type {\n",
       "        vertical-align: middle;\n",
       "    }\n",
       "\n",
       "    .dataframe tbody tr th {\n",
       "        vertical-align: top;\n",
       "    }\n",
       "\n",
       "    .dataframe thead th {\n",
       "        text-align: right;\n",
       "    }\n",
       "</style>\n",
       "<table border=\"1\" class=\"dataframe\">\n",
       "  <thead>\n",
       "    <tr style=\"text-align: right;\">\n",
       "      <th></th>\n",
       "      <th>mean_fit_time</th>\n",
       "      <th>std_fit_time</th>\n",
       "      <th>mean_score_time</th>\n",
       "      <th>std_score_time</th>\n",
       "      <th>param_preprocess__feateng__poly__degree</th>\n",
       "      <th>param_preprocess__feateng__sine__kw_args</th>\n",
       "      <th>param_ridge__alpha</th>\n",
       "      <th>params</th>\n",
       "      <th>split0_test_score</th>\n",
       "      <th>split1_test_score</th>\n",
       "      <th>split2_test_score</th>\n",
       "      <th>split3_test_score</th>\n",
       "      <th>split4_test_score</th>\n",
       "      <th>split5_test_score</th>\n",
       "      <th>mean_test_score</th>\n",
       "      <th>std_test_score</th>\n",
       "      <th>rank_test_score</th>\n",
       "    </tr>\n",
       "  </thead>\n",
       "  <tbody>\n",
       "    <tr>\n",
       "      <th>0</th>\n",
       "      <td>0.001274</td>\n",
       "      <td>0.000466</td>\n",
       "      <td>0.000498</td>\n",
       "      <td>0.000069</td>\n",
       "      <td>1</td>\n",
       "      <td>{'c': 1}</td>\n",
       "      <td>0.001</td>\n",
       "      <td>{'preprocess__feateng__poly__degree': 1, 'prep...</td>\n",
       "      <td>0.675550</td>\n",
       "      <td>0.539833</td>\n",
       "      <td>0.695687</td>\n",
       "      <td>0.253815</td>\n",
       "      <td>0.626805</td>\n",
       "      <td>0.697638</td>\n",
       "      <td>0.581555</td>\n",
       "      <td>0.156279</td>\n",
       "      <td>61</td>\n",
       "    </tr>\n",
       "    <tr>\n",
       "      <th>1</th>\n",
       "      <td>0.001047</td>\n",
       "      <td>0.000083</td>\n",
       "      <td>0.000443</td>\n",
       "      <td>0.000029</td>\n",
       "      <td>1</td>\n",
       "      <td>{'c': 1}</td>\n",
       "      <td>0.01</td>\n",
       "      <td>{'preprocess__feateng__poly__degree': 1, 'prep...</td>\n",
       "      <td>0.675571</td>\n",
       "      <td>0.539822</td>\n",
       "      <td>0.695679</td>\n",
       "      <td>0.253904</td>\n",
       "      <td>0.626779</td>\n",
       "      <td>0.697630</td>\n",
       "      <td>0.581564</td>\n",
       "      <td>0.156247</td>\n",
       "      <td>60</td>\n",
       "    </tr>\n",
       "    <tr>\n",
       "      <th>2</th>\n",
       "      <td>0.000846</td>\n",
       "      <td>0.000012</td>\n",
       "      <td>0.000404</td>\n",
       "      <td>0.000006</td>\n",
       "      <td>1</td>\n",
       "      <td>{'c': 1}</td>\n",
       "      <td>0.1</td>\n",
       "      <td>{'preprocess__feateng__poly__degree': 1, 'prep...</td>\n",
       "      <td>0.675771</td>\n",
       "      <td>0.539711</td>\n",
       "      <td>0.695595</td>\n",
       "      <td>0.254785</td>\n",
       "      <td>0.626523</td>\n",
       "      <td>0.697546</td>\n",
       "      <td>0.581655</td>\n",
       "      <td>0.155931</td>\n",
       "      <td>59</td>\n",
       "    </tr>\n",
       "    <tr>\n",
       "      <th>3</th>\n",
       "      <td>0.000838</td>\n",
       "      <td>0.000033</td>\n",
       "      <td>0.000390</td>\n",
       "      <td>0.000004</td>\n",
       "      <td>1</td>\n",
       "      <td>{'c': 1}</td>\n",
       "      <td>1</td>\n",
       "      <td>{'preprocess__feateng__poly__degree': 1, 'prep...</td>\n",
       "      <td>0.677556</td>\n",
       "      <td>0.538521</td>\n",
       "      <td>0.694663</td>\n",
       "      <td>0.263265</td>\n",
       "      <td>0.623895</td>\n",
       "      <td>0.696644</td>\n",
       "      <td>0.582424</td>\n",
       "      <td>0.152864</td>\n",
       "      <td>58</td>\n",
       "    </tr>\n",
       "    <tr>\n",
       "      <th>4</th>\n",
       "      <td>0.000817</td>\n",
       "      <td>0.000005</td>\n",
       "      <td>0.000395</td>\n",
       "      <td>0.000011</td>\n",
       "      <td>1</td>\n",
       "      <td>{'c': 1}</td>\n",
       "      <td>10</td>\n",
       "      <td>{'preprocess__feateng__poly__degree': 1, 'prep...</td>\n",
       "      <td>0.679401</td>\n",
       "      <td>0.520716</td>\n",
       "      <td>0.678239</td>\n",
       "      <td>0.322450</td>\n",
       "      <td>0.593213</td>\n",
       "      <td>0.682477</td>\n",
       "      <td>0.579416</td>\n",
       "      <td>0.129133</td>\n",
       "      <td>62</td>\n",
       "    </tr>\n",
       "    <tr>\n",
       "      <th>...</th>\n",
       "      <td>...</td>\n",
       "      <td>...</td>\n",
       "      <td>...</td>\n",
       "      <td>...</td>\n",
       "      <td>...</td>\n",
       "      <td>...</td>\n",
       "      <td>...</td>\n",
       "      <td>...</td>\n",
       "      <td>...</td>\n",
       "      <td>...</td>\n",
       "      <td>...</td>\n",
       "      <td>...</td>\n",
       "      <td>...</td>\n",
       "      <td>...</td>\n",
       "      <td>...</td>\n",
       "      <td>...</td>\n",
       "      <td>...</td>\n",
       "    </tr>\n",
       "    <tr>\n",
       "      <th>67</th>\n",
       "      <td>0.000826</td>\n",
       "      <td>0.000003</td>\n",
       "      <td>0.000408</td>\n",
       "      <td>0.000028</td>\n",
       "      <td>4</td>\n",
       "      <td>{'c': 3}</td>\n",
       "      <td>0.01</td>\n",
       "      <td>{'preprocess__feateng__poly__degree': 4, 'prep...</td>\n",
       "      <td>0.683586</td>\n",
       "      <td>0.642631</td>\n",
       "      <td>0.550249</td>\n",
       "      <td>0.419684</td>\n",
       "      <td>0.806280</td>\n",
       "      <td>0.752081</td>\n",
       "      <td>0.642419</td>\n",
       "      <td>0.128242</td>\n",
       "      <td>27</td>\n",
       "    </tr>\n",
       "    <tr>\n",
       "      <th>68</th>\n",
       "      <td>0.000824</td>\n",
       "      <td>0.000007</td>\n",
       "      <td>0.000395</td>\n",
       "      <td>0.000002</td>\n",
       "      <td>4</td>\n",
       "      <td>{'c': 3}</td>\n",
       "      <td>0.1</td>\n",
       "      <td>{'preprocess__feateng__poly__degree': 4, 'prep...</td>\n",
       "      <td>0.684406</td>\n",
       "      <td>0.641646</td>\n",
       "      <td>0.550964</td>\n",
       "      <td>0.430158</td>\n",
       "      <td>0.804114</td>\n",
       "      <td>0.751926</td>\n",
       "      <td>0.643869</td>\n",
       "      <td>0.124704</td>\n",
       "      <td>25</td>\n",
       "    </tr>\n",
       "    <tr>\n",
       "      <th>69</th>\n",
       "      <td>0.000824</td>\n",
       "      <td>0.000004</td>\n",
       "      <td>0.000407</td>\n",
       "      <td>0.000028</td>\n",
       "      <td>4</td>\n",
       "      <td>{'c': 3}</td>\n",
       "      <td>1</td>\n",
       "      <td>{'preprocess__feateng__poly__degree': 4, 'prep...</td>\n",
       "      <td>0.691146</td>\n",
       "      <td>0.634504</td>\n",
       "      <td>0.552724</td>\n",
       "      <td>0.459447</td>\n",
       "      <td>0.795201</td>\n",
       "      <td>0.749106</td>\n",
       "      <td>0.647021</td>\n",
       "      <td>0.114425</td>\n",
       "      <td>23</td>\n",
       "    </tr>\n",
       "    <tr>\n",
       "      <th>70</th>\n",
       "      <td>0.000817</td>\n",
       "      <td>0.000004</td>\n",
       "      <td>0.000393</td>\n",
       "      <td>0.000003</td>\n",
       "      <td>4</td>\n",
       "      <td>{'c': 3}</td>\n",
       "      <td>10</td>\n",
       "      <td>{'preprocess__feateng__poly__degree': 4, 'prep...</td>\n",
       "      <td>0.716603</td>\n",
       "      <td>0.612084</td>\n",
       "      <td>0.577736</td>\n",
       "      <td>0.504867</td>\n",
       "      <td>0.757507</td>\n",
       "      <td>0.740760</td>\n",
       "      <td>0.651593</td>\n",
       "      <td>0.093040</td>\n",
       "      <td>21</td>\n",
       "    </tr>\n",
       "    <tr>\n",
       "      <th>71</th>\n",
       "      <td>0.000820</td>\n",
       "      <td>0.000004</td>\n",
       "      <td>0.000408</td>\n",
       "      <td>0.000026</td>\n",
       "      <td>4</td>\n",
       "      <td>{'c': 3}</td>\n",
       "      <td>100</td>\n",
       "      <td>{'preprocess__feateng__poly__degree': 4, 'prep...</td>\n",
       "      <td>0.578035</td>\n",
       "      <td>0.413053</td>\n",
       "      <td>0.508557</td>\n",
       "      <td>0.435019</td>\n",
       "      <td>0.466756</td>\n",
       "      <td>0.591646</td>\n",
       "      <td>0.498844</td>\n",
       "      <td>0.067628</td>\n",
       "      <td>65</td>\n",
       "    </tr>\n",
       "  </tbody>\n",
       "</table>\n",
       "<p>72 rows × 17 columns</p>\n",
       "</div>"
      ],
      "text/plain": [
       "    mean_fit_time  std_fit_time  mean_score_time  std_score_time  \\\n",
       "0        0.001274      0.000466         0.000498        0.000069   \n",
       "1        0.001047      0.000083         0.000443        0.000029   \n",
       "2        0.000846      0.000012         0.000404        0.000006   \n",
       "3        0.000838      0.000033         0.000390        0.000004   \n",
       "4        0.000817      0.000005         0.000395        0.000011   \n",
       "..            ...           ...              ...             ...   \n",
       "67       0.000826      0.000003         0.000408        0.000028   \n",
       "68       0.000824      0.000007         0.000395        0.000002   \n",
       "69       0.000824      0.000004         0.000407        0.000028   \n",
       "70       0.000817      0.000004         0.000393        0.000003   \n",
       "71       0.000820      0.000004         0.000408        0.000026   \n",
       "\n",
       "   param_preprocess__feateng__poly__degree  \\\n",
       "0                                        1   \n",
       "1                                        1   \n",
       "2                                        1   \n",
       "3                                        1   \n",
       "4                                        1   \n",
       "..                                     ...   \n",
       "67                                       4   \n",
       "68                                       4   \n",
       "69                                       4   \n",
       "70                                       4   \n",
       "71                                       4   \n",
       "\n",
       "   param_preprocess__feateng__sine__kw_args param_ridge__alpha  \\\n",
       "0                                  {'c': 1}              0.001   \n",
       "1                                  {'c': 1}               0.01   \n",
       "2                                  {'c': 1}                0.1   \n",
       "3                                  {'c': 1}                  1   \n",
       "4                                  {'c': 1}                 10   \n",
       "..                                      ...                ...   \n",
       "67                                 {'c': 3}               0.01   \n",
       "68                                 {'c': 3}                0.1   \n",
       "69                                 {'c': 3}                  1   \n",
       "70                                 {'c': 3}                 10   \n",
       "71                                 {'c': 3}                100   \n",
       "\n",
       "                                               params  split0_test_score  \\\n",
       "0   {'preprocess__feateng__poly__degree': 1, 'prep...           0.675550   \n",
       "1   {'preprocess__feateng__poly__degree': 1, 'prep...           0.675571   \n",
       "2   {'preprocess__feateng__poly__degree': 1, 'prep...           0.675771   \n",
       "3   {'preprocess__feateng__poly__degree': 1, 'prep...           0.677556   \n",
       "4   {'preprocess__feateng__poly__degree': 1, 'prep...           0.679401   \n",
       "..                                                ...                ...   \n",
       "67  {'preprocess__feateng__poly__degree': 4, 'prep...           0.683586   \n",
       "68  {'preprocess__feateng__poly__degree': 4, 'prep...           0.684406   \n",
       "69  {'preprocess__feateng__poly__degree': 4, 'prep...           0.691146   \n",
       "70  {'preprocess__feateng__poly__degree': 4, 'prep...           0.716603   \n",
       "71  {'preprocess__feateng__poly__degree': 4, 'prep...           0.578035   \n",
       "\n",
       "    split1_test_score  split2_test_score  split3_test_score  \\\n",
       "0            0.539833           0.695687           0.253815   \n",
       "1            0.539822           0.695679           0.253904   \n",
       "2            0.539711           0.695595           0.254785   \n",
       "3            0.538521           0.694663           0.263265   \n",
       "4            0.520716           0.678239           0.322450   \n",
       "..                ...                ...                ...   \n",
       "67           0.642631           0.550249           0.419684   \n",
       "68           0.641646           0.550964           0.430158   \n",
       "69           0.634504           0.552724           0.459447   \n",
       "70           0.612084           0.577736           0.504867   \n",
       "71           0.413053           0.508557           0.435019   \n",
       "\n",
       "    split4_test_score  split5_test_score  mean_test_score  std_test_score  \\\n",
       "0            0.626805           0.697638         0.581555        0.156279   \n",
       "1            0.626779           0.697630         0.581564        0.156247   \n",
       "2            0.626523           0.697546         0.581655        0.155931   \n",
       "3            0.623895           0.696644         0.582424        0.152864   \n",
       "4            0.593213           0.682477         0.579416        0.129133   \n",
       "..                ...                ...              ...             ...   \n",
       "67           0.806280           0.752081         0.642419        0.128242   \n",
       "68           0.804114           0.751926         0.643869        0.124704   \n",
       "69           0.795201           0.749106         0.647021        0.114425   \n",
       "70           0.757507           0.740760         0.651593        0.093040   \n",
       "71           0.466756           0.591646         0.498844        0.067628   \n",
       "\n",
       "    rank_test_score  \n",
       "0                61  \n",
       "1                60  \n",
       "2                59  \n",
       "3                58  \n",
       "4                62  \n",
       "..              ...  \n",
       "67               27  \n",
       "68               25  \n",
       "69               23  \n",
       "70               21  \n",
       "71               65  \n",
       "\n",
       "[72 rows x 17 columns]"
      ]
     },
     "execution_count": 91,
     "metadata": {},
     "output_type": "execute_result"
    }
   ],
   "source": [
    "pd.DataFrame(cv.cv_results_)"
   ]
  },
  {
   "cell_type": "code",
   "execution_count": 92,
   "id": "da436bbb",
   "metadata": {
    "scrolled": false,
    "slideshow": {
     "slide_type": "slide"
    }
   },
   "outputs": [],
   "source": [
    "best_model.fit(X_train, y_train)\n",
    "y_predictions = best_model.predict(data_df['X'].values.reshape(-1,1))"
   ]
  },
  {
   "cell_type": "code",
   "execution_count": 93,
   "id": "5944718d",
   "metadata": {
    "cell_style": "split",
    "scrolled": true,
    "slideshow": {
     "slide_type": "fragment"
    }
   },
   "outputs": [
    {
     "data": {
      "image/png": "[encoded data removed]",
      "text/plain": [
       "<Figure size 432x288 with 1 Axes>"
      ]
     },
     "metadata": {
      "needs_background": "light"
     },
     "output_type": "display_data"
    }
   ],
   "source": [
    "fig, ax = plt.subplots()\n",
    "ax.scatter(X, y_predictions, label = 'fit')\n",
    "ax.scatter(X, y, label = 'data')\n",
    "ax.legend()\n",
    "plt.show()"
   ]
  },
  {
   "cell_type": "code",
   "execution_count": 94,
   "id": "e339fc7b",
   "metadata": {
    "cell_style": "split",
    "slideshow": {
     "slide_type": "fragment"
    }
   },
   "outputs": [],
   "source": [
    "y_pred = best_model.predict(X_test)"
   ]
  },
  {
   "cell_type": "code",
   "execution_count": 95,
   "id": "37eed449",
   "metadata": {
    "cell_style": "split",
    "slideshow": {
     "slide_type": "fragment"
    }
   },
   "outputs": [
    {
     "data": {
      "text/plain": [
       "2.5395824941461007"
      ]
     },
     "execution_count": 95,
     "metadata": {},
     "output_type": "execute_result"
    }
   ],
   "source": [
    "mean_absolute_error(y_pred, y_test)"
   ]
  },
  {
   "cell_type": "markdown",
   "id": "32ccfeb3",
   "metadata": {
    "cell_style": "split",
    "slideshow": {
     "slide_type": "fragment"
    }
   },
   "source": [
    "Can use Pipelines, FeatureUnions, FunctionTransformers:\n",
    "- to systematically search basis function spaces\n",
    "- Get best fits based off series of functions\n",
    "- Best function selection"
   ]
  },
  {
   "cell_type": "markdown",
   "id": "07fc11ce",
   "metadata": {
    "cell_style": "split",
    "slideshow": {
     "slide_type": "fragment"
    }
   },
   "source": [
    "**Obviously very powerful**"
   ]
  },
  {
   "cell_type": "markdown",
   "id": "5dd978de",
   "metadata": {
    "slideshow": {
     "slide_type": "slide"
    }
   },
   "source": [
    "Combining FeatureUnion with ColumnTransformer:\n",
    "- Apply function finding/feature engineering of different kinds to different columns\n",
    "- Input transformed features into various types of predictive models (with regularization/hyperparameter tuning)\n",
    "\n",
    "**Now can start to build very powerful/flexible models**"
   ]
  },
  {
   "cell_type": "markdown",
   "id": "53a9ba25",
   "metadata": {
    "cell_style": "split",
    "slideshow": {
     "slide_type": "slide"
    }
   },
   "source": [
    "Kind of like building legos. \n",
    "- Maybe you want some extra pieces\n",
    "- Model/Transformer extensions\n",
    "- Treat models like transformers in FeatureUnion (parallel modeling)\n",
    "- Get an expansion pack!\n"
   ]
  },
  {
   "cell_type": "markdown",
   "id": "2d6e3626",
   "metadata": {
    "cell_style": "split",
    "slideshow": {
     "slide_type": "fragment"
    }
   },
   "source": [
    "May be worth exploring **sklego**:\n",
    "<center><img src = \"Images/sklego.png\" width = 300 /></center>\n",
    "\n",
    "<center>https://scikit-lego.netlify.app/</center>"
   ]
  },
  {
   "cell_type": "markdown",
   "id": "0228738b",
   "metadata": {
    "slideshow": {
     "slide_type": "slide"
    }
   },
   "source": [
    "#### Optimizing tuning strategies"
   ]
  },
  {
   "cell_type": "markdown",
   "id": "dde538fc",
   "metadata": {
    "cell_style": "center",
    "slideshow": {
     "slide_type": "slide"
    }
   },
   "source": [
    "As models/pipelines get complex:\n",
    "- Lots of hyperparameters to play around with\n",
    "- GridSearch not the best **initial** strategy:\n",
    "    - Takes forever\n",
    "    - Want to sample space more effectively."
   ]
  },
  {
   "cell_type": "markdown",
   "id": "e5c9ca48",
   "metadata": {
    "slideshow": {
     "slide_type": "slide"
    }
   },
   "source": [
    "Randomized Search CV"
   ]
  },
  {
   "cell_type": "markdown",
   "id": "919444f0",
   "metadata": {
    "slideshow": {
     "slide_type": "fragment"
    }
   },
   "source": [
    "<img src = \"Images/grid_vs_randomcv.png\" />\n",
    "\n",
    "<center>Often smaller number of random hyperparamter samples better than grid search.</center>"
   ]
  },
  {
   "cell_type": "code",
   "execution_count": 96,
   "id": "95794f65",
   "metadata": {
    "cell_style": "center",
    "slideshow": {
     "slide_type": "slide"
    }
   },
   "outputs": [],
   "source": [
    "from sklearn.model_selection import RandomizedSearchCV"
   ]
  },
  {
   "cell_type": "markdown",
   "id": "d9b82f55",
   "metadata": {
    "cell_style": "split",
    "slideshow": {
     "slide_type": "fragment"
    }
   },
   "source": [
    "Basically same syntax as GridSearchCV:\n",
    "- param_distributions: \n",
    "    - can take dict of hyperparameters with value list: uniformly samples\n",
    "    - can take dict of hyperparameters with specified distributions.\n",
    "- n_iter is # of samples to take."
   ]
  },
  {
   "cell_type": "code",
   "execution_count": 97,
   "id": "8b90e01d",
   "metadata": {
    "cell_style": "split",
    "slideshow": {
     "slide_type": "fragment"
    }
   },
   "outputs": [
    {
     "data": {
      "text/plain": [
       "{'preprocess__feateng__poly__degree': [1, 2, 3, 4],\n",
       " 'preprocess__feateng__sine__kw_args': [{'c': 1}, {'c': 2}, {'c': 3}],\n",
       " 'ridge__alpha': [0.001, 0.01, 0.1, 1, 10, 100]}"
      ]
     },
     "execution_count": 97,
     "metadata": {},
     "output_type": "execute_result"
    }
   ],
   "source": [
    "# will uniformly random sample this grid.\n",
    "params"
   ]
  },
  {
   "cell_type": "code",
   "execution_count": 98,
   "id": "d560fbae",
   "metadata": {
    "cell_style": "center",
    "slideshow": {
     "slide_type": "slide"
    }
   },
   "outputs": [],
   "source": [
    "random_cv = RandomizedSearchCV(estimator = regress_pipe, param_distributions = params, n_iter = 10, cv = 6)\n",
    "random_cv.fit(X_train, y_train);"
   ]
  },
  {
   "cell_type": "code",
   "execution_count": 99,
   "id": "7b8537e1",
   "metadata": {
    "cell_style": "center",
    "slideshow": {
     "slide_type": "fragment"
    }
   },
   "outputs": [
    {
     "data": {
      "text/html": [
       "<div>\n",
       "<style scoped>\n",
       "    .dataframe tbody tr th:only-of-type {\n",
       "        vertical-align: middle;\n",
       "    }\n",
       "\n",
       "    .dataframe tbody tr th {\n",
       "        vertical-align: top;\n",
       "    }\n",
       "\n",
       "    .dataframe thead th {\n",
       "        text-align: right;\n",
       "    }\n",
       "</style>\n",
       "<table border=\"1\" class=\"dataframe\">\n",
       "  <thead>\n",
       "    <tr style=\"text-align: right;\">\n",
       "      <th></th>\n",
       "      <th>mean_fit_time</th>\n",
       "      <th>std_fit_time</th>\n",
       "      <th>mean_score_time</th>\n",
       "      <th>std_score_time</th>\n",
       "      <th>param_ridge__alpha</th>\n",
       "      <th>param_preprocess__feateng__sine__kw_args</th>\n",
       "      <th>param_preprocess__feateng__poly__degree</th>\n",
       "      <th>params</th>\n",
       "      <th>split0_test_score</th>\n",
       "      <th>split1_test_score</th>\n",
       "      <th>split2_test_score</th>\n",
       "      <th>split3_test_score</th>\n",
       "      <th>split4_test_score</th>\n",
       "      <th>split5_test_score</th>\n",
       "      <th>mean_test_score</th>\n",
       "      <th>std_test_score</th>\n",
       "      <th>rank_test_score</th>\n",
       "    </tr>\n",
       "  </thead>\n",
       "  <tbody>\n",
       "    <tr>\n",
       "      <th>0</th>\n",
       "      <td>0.001326</td>\n",
       "      <td>0.000318</td>\n",
       "      <td>0.000575</td>\n",
       "      <td>0.000216</td>\n",
       "      <td>100</td>\n",
       "      <td>{'c': 1}</td>\n",
       "      <td>4</td>\n",
       "      <td>{'ridge__alpha': 100, 'preprocess__feateng__si...</td>\n",
       "      <td>0.562335</td>\n",
       "      <td>0.365284</td>\n",
       "      <td>0.506887</td>\n",
       "      <td>0.423239</td>\n",
       "      <td>0.466122</td>\n",
       "      <td>0.612680</td>\n",
       "      <td>0.489425</td>\n",
       "      <td>0.082812</td>\n",
       "      <td>10</td>\n",
       "    </tr>\n",
       "    <tr>\n",
       "      <th>1</th>\n",
       "      <td>0.000910</td>\n",
       "      <td>0.000070</td>\n",
       "      <td>0.000414</td>\n",
       "      <td>0.000015</td>\n",
       "      <td>100</td>\n",
       "      <td>{'c': 2}</td>\n",
       "      <td>4</td>\n",
       "      <td>{'ridge__alpha': 100, 'preprocess__feateng__si...</td>\n",
       "      <td>0.600330</td>\n",
       "      <td>0.547583</td>\n",
       "      <td>0.673284</td>\n",
       "      <td>0.618811</td>\n",
       "      <td>0.569961</td>\n",
       "      <td>0.633577</td>\n",
       "      <td>0.607258</td>\n",
       "      <td>0.041202</td>\n",
       "      <td>7</td>\n",
       "    </tr>\n",
       "    <tr>\n",
       "      <th>2</th>\n",
       "      <td>0.000834</td>\n",
       "      <td>0.000031</td>\n",
       "      <td>0.000387</td>\n",
       "      <td>0.000002</td>\n",
       "      <td>1</td>\n",
       "      <td>{'c': 1}</td>\n",
       "      <td>1</td>\n",
       "      <td>{'ridge__alpha': 1, 'preprocess__feateng__sine...</td>\n",
       "      <td>0.677556</td>\n",
       "      <td>0.538521</td>\n",
       "      <td>0.694663</td>\n",
       "      <td>0.263265</td>\n",
       "      <td>0.623895</td>\n",
       "      <td>0.696644</td>\n",
       "      <td>0.582424</td>\n",
       "      <td>0.152864</td>\n",
       "      <td>8</td>\n",
       "    </tr>\n",
       "    <tr>\n",
       "      <th>3</th>\n",
       "      <td>0.000856</td>\n",
       "      <td>0.000061</td>\n",
       "      <td>0.000402</td>\n",
       "      <td>0.000011</td>\n",
       "      <td>1</td>\n",
       "      <td>{'c': 3}</td>\n",
       "      <td>2</td>\n",
       "      <td>{'ridge__alpha': 1, 'preprocess__feateng__sine...</td>\n",
       "      <td>0.673449</td>\n",
       "      <td>0.632313</td>\n",
       "      <td>0.563895</td>\n",
       "      <td>0.439034</td>\n",
       "      <td>0.791924</td>\n",
       "      <td>0.757145</td>\n",
       "      <td>0.642960</td>\n",
       "      <td>0.118398</td>\n",
       "      <td>4</td>\n",
       "    </tr>\n",
       "    <tr>\n",
       "      <th>4</th>\n",
       "      <td>0.000856</td>\n",
       "      <td>0.000027</td>\n",
       "      <td>0.000401</td>\n",
       "      <td>0.000004</td>\n",
       "      <td>1</td>\n",
       "      <td>{'c': 1}</td>\n",
       "      <td>3</td>\n",
       "      <td>{'ridge__alpha': 1, 'preprocess__feateng__sine...</td>\n",
       "      <td>0.743494</td>\n",
       "      <td>0.572614</td>\n",
       "      <td>0.531408</td>\n",
       "      <td>0.398922</td>\n",
       "      <td>0.776376</td>\n",
       "      <td>0.779695</td>\n",
       "      <td>0.633751</td>\n",
       "      <td>0.143202</td>\n",
       "      <td>5</td>\n",
       "    </tr>\n",
       "  </tbody>\n",
       "</table>\n",
       "</div>"
      ],
      "text/plain": [
       "   mean_fit_time  std_fit_time  mean_score_time  std_score_time  \\\n",
       "0       0.001326      0.000318         0.000575        0.000216   \n",
       "1       0.000910      0.000070         0.000414        0.000015   \n",
       "2       0.000834      0.000031         0.000387        0.000002   \n",
       "3       0.000856      0.000061         0.000402        0.000011   \n",
       "4       0.000856      0.000027         0.000401        0.000004   \n",
       "\n",
       "  param_ridge__alpha param_preprocess__feateng__sine__kw_args  \\\n",
       "0                100                                 {'c': 1}   \n",
       "1                100                                 {'c': 2}   \n",
       "2                  1                                 {'c': 1}   \n",
       "3                  1                                 {'c': 3}   \n",
       "4                  1                                 {'c': 1}   \n",
       "\n",
       "  param_preprocess__feateng__poly__degree  \\\n",
       "0                                       4   \n",
       "1                                       4   \n",
       "2                                       1   \n",
       "3                                       2   \n",
       "4                                       3   \n",
       "\n",
       "                                              params  split0_test_score  \\\n",
       "0  {'ridge__alpha': 100, 'preprocess__feateng__si...           0.562335   \n",
       "1  {'ridge__alpha': 100, 'preprocess__feateng__si...           0.600330   \n",
       "2  {'ridge__alpha': 1, 'preprocess__feateng__sine...           0.677556   \n",
       "3  {'ridge__alpha': 1, 'preprocess__feateng__sine...           0.673449   \n",
       "4  {'ridge__alpha': 1, 'preprocess__feateng__sine...           0.743494   \n",
       "\n",
       "   split1_test_score  split2_test_score  split3_test_score  split4_test_score  \\\n",
       "0           0.365284           0.506887           0.423239           0.466122   \n",
       "1           0.547583           0.673284           0.618811           0.569961   \n",
       "2           0.538521           0.694663           0.263265           0.623895   \n",
       "3           0.632313           0.563895           0.439034           0.791924   \n",
       "4           0.572614           0.531408           0.398922           0.776376   \n",
       "\n",
       "   split5_test_score  mean_test_score  std_test_score  rank_test_score  \n",
       "0           0.612680         0.489425        0.082812               10  \n",
       "1           0.633577         0.607258        0.041202                7  \n",
       "2           0.696644         0.582424        0.152864                8  \n",
       "3           0.757145         0.642960        0.118398                4  \n",
       "4           0.779695         0.633751        0.143202                5  "
      ]
     },
     "execution_count": 99,
     "metadata": {},
     "output_type": "execute_result"
    }
   ],
   "source": [
    "randomcv_results = pd.DataFrame(random_cv.cv_results_)\n",
    "randomcv_results.head()"
   ]
  },
  {
   "cell_type": "code",
   "execution_count": 100,
   "id": "b3ab5118",
   "metadata": {
    "cell_style": "split",
    "slideshow": {
     "slide_type": "slide"
    }
   },
   "outputs": [
    {
     "data": {
      "text/html": [
       "<style>#sk-e5e608c8-656f-48cb-a90e-1f13c9e6045f {color: black;background-color: white;}#sk-e5e608c8-656f-48cb-a90e-1f13c9e6045f pre{padding: 0;}#sk-e5e608c8-656f-48cb-a90e-1f13c9e6045f div.sk-toggleable {background-color: white;}#sk-e5e608c8-656f-48cb-a90e-1f13c9e6045f label.sk-toggleable__label {cursor: pointer;display: block;width: 100%;margin-bottom: 0;padding: 0.3em;box-sizing: border-box;text-align: center;}#sk-e5e608c8-656f-48cb-a90e-1f13c9e6045f label.sk-toggleable__label-arrow:before {content: \"▸\";float: left;margin-right: 0.25em;color: #696969;}#sk-e5e608c8-656f-48cb-a90e-1f13c9e6045f label.sk-toggleable__label-arrow:hover:before {color: black;}#sk-e5e608c8-656f-48cb-a90e-1f13c9e6045f div.sk-estimator:hover label.sk-toggleable__label-arrow:before {color: black;}#sk-e5e608c8-656f-48cb-a90e-1f13c9e6045f div.sk-toggleable__content {max-height: 0;max-width: 0;overflow: hidden;text-align: left;background-color: #f0f8ff;}#sk-e5e608c8-656f-48cb-a90e-1f13c9e6045f div.sk-toggleable__content pre {margin: 0.2em;color: black;border-radius: 0.25em;background-color: #f0f8ff;}#sk-e5e608c8-656f-48cb-a90e-1f13c9e6045f input.sk-toggleable__control:checked~div.sk-toggleable__content {max-height: 200px;max-width: 100%;overflow: auto;}#sk-e5e608c8-656f-48cb-a90e-1f13c9e6045f input.sk-toggleable__control:checked~label.sk-toggleable__label-arrow:before {content: \"▾\";}#sk-e5e608c8-656f-48cb-a90e-1f13c9e6045f div.sk-estimator input.sk-toggleable__control:checked~label.sk-toggleable__label {background-color: #d4ebff;}#sk-e5e608c8-656f-48cb-a90e-1f13c9e6045f div.sk-label input.sk-toggleable__control:checked~label.sk-toggleable__label {background-color: #d4ebff;}#sk-e5e608c8-656f-48cb-a90e-1f13c9e6045f input.sk-hidden--visually {border: 0;clip: rect(1px 1px 1px 1px);clip: rect(1px, 1px, 1px, 1px);height: 1px;margin: -1px;overflow: hidden;padding: 0;position: absolute;width: 1px;}#sk-e5e608c8-656f-48cb-a90e-1f13c9e6045f div.sk-estimator {font-family: monospace;background-color: #f0f8ff;border: 1px dotted black;border-radius: 0.25em;box-sizing: border-box;margin-bottom: 0.5em;}#sk-e5e608c8-656f-48cb-a90e-1f13c9e6045f div.sk-estimator:hover {background-color: #d4ebff;}#sk-e5e608c8-656f-48cb-a90e-1f13c9e6045f div.sk-parallel-item::after {content: \"\";width: 100%;border-bottom: 1px solid gray;flex-grow: 1;}#sk-e5e608c8-656f-48cb-a90e-1f13c9e6045f div.sk-label:hover label.sk-toggleable__label {background-color: #d4ebff;}#sk-e5e608c8-656f-48cb-a90e-1f13c9e6045f div.sk-serial::before {content: \"\";position: absolute;border-left: 1px solid gray;box-sizing: border-box;top: 2em;bottom: 0;left: 50%;}#sk-e5e608c8-656f-48cb-a90e-1f13c9e6045f div.sk-serial {display: flex;flex-direction: column;align-items: center;background-color: white;padding-right: 0.2em;padding-left: 0.2em;}#sk-e5e608c8-656f-48cb-a90e-1f13c9e6045f div.sk-item {z-index: 1;}#sk-e5e608c8-656f-48cb-a90e-1f13c9e6045f div.sk-parallel {display: flex;align-items: stretch;justify-content: center;background-color: white;}#sk-e5e608c8-656f-48cb-a90e-1f13c9e6045f div.sk-parallel::before {content: \"\";position: absolute;border-left: 1px solid gray;box-sizing: border-box;top: 2em;bottom: 0;left: 50%;}#sk-e5e608c8-656f-48cb-a90e-1f13c9e6045f div.sk-parallel-item {display: flex;flex-direction: column;position: relative;background-color: white;}#sk-e5e608c8-656f-48cb-a90e-1f13c9e6045f div.sk-parallel-item:first-child::after {align-self: flex-end;width: 50%;}#sk-e5e608c8-656f-48cb-a90e-1f13c9e6045f div.sk-parallel-item:last-child::after {align-self: flex-start;width: 50%;}#sk-e5e608c8-656f-48cb-a90e-1f13c9e6045f div.sk-parallel-item:only-child::after {width: 0;}#sk-e5e608c8-656f-48cb-a90e-1f13c9e6045f div.sk-dashed-wrapped {border: 1px dashed gray;margin: 0 0.4em 0.5em 0.4em;box-sizing: border-box;padding-bottom: 0.4em;background-color: white;position: relative;}#sk-e5e608c8-656f-48cb-a90e-1f13c9e6045f div.sk-label label {font-family: monospace;font-weight: bold;background-color: white;display: inline-block;line-height: 1.2em;}#sk-e5e608c8-656f-48cb-a90e-1f13c9e6045f div.sk-label-container {position: relative;z-index: 2;text-align: center;}#sk-e5e608c8-656f-48cb-a90e-1f13c9e6045f div.sk-container {/* jupyter's `normalize.less` sets `[hidden] { display: none; }` but bootstrap.min.css set `[hidden] { display: none !important; }` so we also need the `!important` here to be able to override the default hidden behavior on the sphinx rendered scikit-learn.org. See: https://github.com/scikit-learn/scikit-learn/issues/21755 */display: inline-block !important;position: relative;}#sk-e5e608c8-656f-48cb-a90e-1f13c9e6045f div.sk-text-repr-fallback {display: none;}</style><div id=\"sk-e5e608c8-656f-48cb-a90e-1f13c9e6045f\" class=\"sk-top-container\"><div class=\"sk-text-repr-fallback\"><pre>Pipeline(steps=[(&#x27;preprocess&#x27;,\n",
       "                 Pipeline(steps=[(&#x27;feateng&#x27;,\n",
       "                                  FeatureUnion(transformer_list=[(&#x27;poly&#x27;,\n",
       "                                                                  PolynomialFeatures(include_bias=False)),\n",
       "                                                                 (&#x27;sine&#x27;,\n",
       "                                                                  FunctionTransformer(func=&lt;function sinefunc at 0x7fd0004e80d0&gt;,\n",
       "                                                                                      kw_args={&#x27;c&#x27;: 2})),\n",
       "                                                                 (&#x27;cosine&#x27;,\n",
       "                                                                  FunctionTransformer(func=&lt;function cosfunc at 0x7fd0004e85e0&gt;))])),\n",
       "                                 (&#x27;scaler&#x27;, StandardScaler())])),\n",
       "                (&#x27;ridge&#x27;, Ridge(alpha=0.01))])</pre><b>Please rerun this cell to show the HTML repr or trust the notebook.</b></div><div class=\"sk-container\" hidden><div class=\"sk-item sk-dashed-wrapped\"><div class=\"sk-label-container\"><div class=\"sk-label sk-toggleable\"><input class=\"sk-toggleable__control sk-hidden--visually\" id=\"3a1c838a-3fdf-485a-9a3e-d0fad075cf89\" type=\"checkbox\" ><label for=\"3a1c838a-3fdf-485a-9a3e-d0fad075cf89\" class=\"sk-toggleable__label sk-toggleable__label-arrow\">Pipeline</label><div class=\"sk-toggleable__content\"><pre>Pipeline(steps=[(&#x27;preprocess&#x27;,\n",
       "                 Pipeline(steps=[(&#x27;feateng&#x27;,\n",
       "                                  FeatureUnion(transformer_list=[(&#x27;poly&#x27;,\n",
       "                                                                  PolynomialFeatures(include_bias=False)),\n",
       "                                                                 (&#x27;sine&#x27;,\n",
       "                                                                  FunctionTransformer(func=&lt;function sinefunc at 0x7fd0004e80d0&gt;,\n",
       "                                                                                      kw_args={&#x27;c&#x27;: 2})),\n",
       "                                                                 (&#x27;cosine&#x27;,\n",
       "                                                                  FunctionTransformer(func=&lt;function cosfunc at 0x7fd0004e85e0&gt;))])),\n",
       "                                 (&#x27;scaler&#x27;, StandardScaler())])),\n",
       "                (&#x27;ridge&#x27;, Ridge(alpha=0.01))])</pre></div></div></div><div class=\"sk-serial\"><div class=\"sk-item\"><div class=\"sk-label-container\"><div class=\"sk-label sk-toggleable\"><input class=\"sk-toggleable__control sk-hidden--visually\" id=\"8202604e-718f-437e-b30c-5bb91fd0482d\" type=\"checkbox\" ><label for=\"8202604e-718f-437e-b30c-5bb91fd0482d\" class=\"sk-toggleable__label sk-toggleable__label-arrow\">preprocess: Pipeline</label><div class=\"sk-toggleable__content\"><pre>Pipeline(steps=[(&#x27;feateng&#x27;,\n",
       "                 FeatureUnion(transformer_list=[(&#x27;poly&#x27;,\n",
       "                                                 PolynomialFeatures(include_bias=False)),\n",
       "                                                (&#x27;sine&#x27;,\n",
       "                                                 FunctionTransformer(func=&lt;function sinefunc at 0x7fd0004e80d0&gt;,\n",
       "                                                                     kw_args={&#x27;c&#x27;: 2})),\n",
       "                                                (&#x27;cosine&#x27;,\n",
       "                                                 FunctionTransformer(func=&lt;function cosfunc at 0x7fd0004e85e0&gt;))])),\n",
       "                (&#x27;scaler&#x27;, StandardScaler())])</pre></div></div></div><div class=\"sk-serial\"><div class=\"sk-item sk-dashed-wrapped\"><div class=\"sk-label-container\"><div class=\"sk-label sk-toggleable\"><input class=\"sk-toggleable__control sk-hidden--visually\" id=\"f5fc8237-8cfd-46af-993c-81a76899b614\" type=\"checkbox\" ><label for=\"f5fc8237-8cfd-46af-993c-81a76899b614\" class=\"sk-toggleable__label sk-toggleable__label-arrow\">feateng: FeatureUnion</label><div class=\"sk-toggleable__content\"><pre>FeatureUnion(transformer_list=[(&#x27;poly&#x27;, PolynomialFeatures(include_bias=False)),\n",
       "                               (&#x27;sine&#x27;,\n",
       "                                FunctionTransformer(func=&lt;function sinefunc at 0x7fd0004e80d0&gt;,\n",
       "                                                    kw_args={&#x27;c&#x27;: 2})),\n",
       "                               (&#x27;cosine&#x27;,\n",
       "                                FunctionTransformer(func=&lt;function cosfunc at 0x7fd0004e85e0&gt;))])</pre></div></div></div><div class=\"sk-parallel\"><div class=\"sk-parallel-item\"><div class=\"sk-item\"><div class=\"sk-label-container\"><div class=\"sk-label sk-toggleable\"><label>poly</label></div></div><div class=\"sk-serial\"><div class=\"sk-item\"><div class=\"sk-estimator sk-toggleable\"><input class=\"sk-toggleable__control sk-hidden--visually\" id=\"2060d1c9-8c79-45f8-a3a7-ddbdaa9d3238\" type=\"checkbox\" ><label for=\"2060d1c9-8c79-45f8-a3a7-ddbdaa9d3238\" class=\"sk-toggleable__label sk-toggleable__label-arrow\">PolynomialFeatures</label><div class=\"sk-toggleable__content\"><pre>PolynomialFeatures(include_bias=False)</pre></div></div></div></div></div></div><div class=\"sk-parallel-item\"><div class=\"sk-item\"><div class=\"sk-label-container\"><div class=\"sk-label sk-toggleable\"><label>sine</label></div></div><div class=\"sk-serial\"><div class=\"sk-item\"><div class=\"sk-estimator sk-toggleable\"><input class=\"sk-toggleable__control sk-hidden--visually\" id=\"ac234b00-73fe-4e59-9655-3d504ee4c314\" type=\"checkbox\" ><label for=\"ac234b00-73fe-4e59-9655-3d504ee4c314\" class=\"sk-toggleable__label sk-toggleable__label-arrow\">FunctionTransformer</label><div class=\"sk-toggleable__content\"><pre>FunctionTransformer(func=&lt;function sinefunc at 0x7fd0004e80d0&gt;,\n",
       "                    kw_args={&#x27;c&#x27;: 2})</pre></div></div></div></div></div></div><div class=\"sk-parallel-item\"><div class=\"sk-item\"><div class=\"sk-label-container\"><div class=\"sk-label sk-toggleable\"><label>cosine</label></div></div><div class=\"sk-serial\"><div class=\"sk-item\"><div class=\"sk-estimator sk-toggleable\"><input class=\"sk-toggleable__control sk-hidden--visually\" id=\"1dc19a9b-b788-4ef0-9d1b-0f3e8a226c5e\" type=\"checkbox\" ><label for=\"1dc19a9b-b788-4ef0-9d1b-0f3e8a226c5e\" class=\"sk-toggleable__label sk-toggleable__label-arrow\">FunctionTransformer</label><div class=\"sk-toggleable__content\"><pre>FunctionTransformer(func=&lt;function cosfunc at 0x7fd0004e85e0&gt;)</pre></div></div></div></div></div></div></div></div><div class=\"sk-item\"><div class=\"sk-estimator sk-toggleable\"><input class=\"sk-toggleable__control sk-hidden--visually\" id=\"20bafead-8521-41a5-a235-f89f468f3264\" type=\"checkbox\" ><label for=\"20bafead-8521-41a5-a235-f89f468f3264\" class=\"sk-toggleable__label sk-toggleable__label-arrow\">StandardScaler</label><div class=\"sk-toggleable__content\"><pre>StandardScaler()</pre></div></div></div></div></div><div class=\"sk-item\"><div class=\"sk-estimator sk-toggleable\"><input class=\"sk-toggleable__control sk-hidden--visually\" id=\"3924ad9a-167b-40de-8af4-2edc26d326f1\" type=\"checkbox\" ><label for=\"3924ad9a-167b-40de-8af4-2edc26d326f1\" class=\"sk-toggleable__label sk-toggleable__label-arrow\">Ridge</label><div class=\"sk-toggleable__content\"><pre>Ridge(alpha=0.01)</pre></div></div></div></div></div></div></div>"
      ],
      "text/plain": [
       "Pipeline(steps=[('preprocess',\n",
       "                 Pipeline(steps=[('feateng',\n",
       "                                  FeatureUnion(transformer_list=[('poly',\n",
       "                                                                  PolynomialFeatures(include_bias=False)),\n",
       "                                                                 ('sine',\n",
       "                                                                  FunctionTransformer(func=<function sinefunc at 0x7fd0004e80d0>,\n",
       "                                                                                      kw_args={'c': 2})),\n",
       "                                                                 ('cosine',\n",
       "                                                                  FunctionTransformer(func=<function cosfunc at 0x7fd0004e85e0>))])),\n",
       "                                 ('scaler', StandardScaler())])),\n",
       "                ('ridge', Ridge(alpha=0.01))])"
      ]
     },
     "execution_count": 100,
     "metadata": {},
     "output_type": "execute_result"
    }
   ],
   "source": [
    "best_random = random_cv.best_estimator_\n",
    "best_random"
   ]
  },
  {
   "cell_type": "code",
   "execution_count": 101,
   "id": "eac9daf0",
   "metadata": {
    "cell_style": "split",
    "slideshow": {
     "slide_type": "fragment"
    }
   },
   "outputs": [
    {
     "data": {
      "text/plain": [
       "0.7885336987169619"
      ]
     },
     "execution_count": 101,
     "metadata": {},
     "output_type": "execute_result"
    }
   ],
   "source": [
    "random_cv.best_score_"
   ]
  },
  {
   "cell_type": "markdown",
   "id": "190aaf41",
   "metadata": {
    "slideshow": {
     "slide_type": "slide"
    }
   },
   "source": [
    "Then after promising RandomSearchCV():\n",
    "- GridSearchCV (possibly):\n",
    "    - select best hyperparameter from random search.\n",
    "    - fine step grid search tuning around this point."
   ]
  },
  {
   "cell_type": "markdown",
   "id": "1a177b5c",
   "metadata": {
    "slideshow": {
     "slide_type": "slide"
    }
   },
   "source": [
    "This is just the beginning of hyperperparameter tuning strategies:\n",
    "- Principled Bayesian approaches exist, etc.\n",
    "- That being said, RandomSearchCV used well is **very** effective"
   ]
  },
  {
   "cell_type": "code",
   "execution_count": null,
   "id": "db2a7c48",
   "metadata": {},
   "outputs": [],
   "source": []
  }
 ],
 "metadata": {
  "celltoolbar": "Slideshow",
  "hide_input": false,
  "kernelspec": {
   "display_name": "Python (myenv)",
   "language": "python",
   "name": "myenv"
  },
  "language_info": {
   "codemirror_mode": {
    "name": "ipython",
    "version": 3
   },
   "file_extension": ".py",
   "mimetype": "text/x-python",
   "name": "python",
   "nbconvert_exporter": "python",
   "pygments_lexer": "ipython3",
   "version": "3.9.12"
  },
  "latex_envs": {
   "LaTeX_envs_menu_present": true,
   "autoclose": false,
   "autocomplete": true,
   "bibliofile": "biblio.bib",
   "cite_by": "apalike",
   "current_citInitial": 1,
   "eqLabelWithNumbers": true,
   "eqNumInitial": 1,
   "hotkeys": {
    "equation": "Ctrl-E",
    "itemize": "Ctrl-I"
   },
   "labels_anchors": false,
   "latex_user_defs": false,
   "report_style_numbering": false,
   "user_envs_cfg": false
  },
  "nbTranslate": {
   "displayLangs": [
    "*"
   ],
   "hotkey": "alt-t",
   "langInMainMenu": true,
   "sourceLang": "en",
   "targetLang": "fr",
   "useGoogleTranslate": true
  },
  "toc": {
   "base_numbering": 1,
   "nav_menu": {},
   "number_sections": true,
   "sideBar": true,
   "skip_h1_title": false,
   "title_cell": "Table of Contents",
   "title_sidebar": "TOC",
   "toc_cell": true,
   "toc_position": {
    "height": "calc(100% - 180px)",
    "left": "10px",
    "top": "150px",
    "width": "232px"
   },
   "toc_section_display": true,
   "toc_window_display": false
  }
 },
 "nbformat": 4,
 "nbformat_minor": 5
}
