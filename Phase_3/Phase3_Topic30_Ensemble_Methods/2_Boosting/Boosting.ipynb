{
 "cells": [
  {
   "cell_type": "markdown",
   "metadata": {
    "slideshow": {
     "slide_type": "slide"
    }
   },
   "source": [
    "<div style=\"color:white;\n",
    "           display:fill;\n",
    "           border-radius:5px;\n",
    "           background-color:#5642C5;\n",
    "           font-size:200%;\n",
    "           font-family:Arial;letter-spacing:0.5px\">\n",
    "\n",
    "<p width = 20%, style=\"padding: 10px;\n",
    "              color:white;\">\n",
    "Ensemble Learning: Gradient Boosting\n",
    "              \n",
    "</p>\n",
    "</div>\n",
    "\n",
    "Data Science Cohort Live NYC Nov 2022\n",
    "<p>Phase 3: Topic 30</p>\n",
    "<br>\n",
    "<br>\n",
    "\n",
    "<div align = \"right\">\n",
    "<img src=\"Images/flatiron-school-logo.png\" align = \"right\" width=\"200\"/>\n",
    "</div>\n",
    "    \n",
    "    "
   ]
  },
  {
   "cell_type": "code",
   "execution_count": 1,
   "metadata": {
    "slideshow": {
     "slide_type": "skip"
    }
   },
   "outputs": [],
   "source": [
    "import sympy"
   ]
  },
  {
   "cell_type": "markdown",
   "metadata": {
    "slideshow": {
     "slide_type": "slide"
    }
   },
   "source": [
    "#### Boosting\n",
    "- Besides bagging: other major framework for ensemble tree learning\n",
    "- Different philosophies of learning."
   ]
  },
  {
   "cell_type": "markdown",
   "metadata": {
    "slideshow": {
     "slide_type": "slide"
    }
   },
   "source": [
    "The Ralph Nader philosophy of learning:"
   ]
  },
  {
   "cell_type": "markdown",
   "metadata": {
    "cell_style": "split",
    "slideshow": {
     "slide_type": "fragment"
    }
   },
   "source": [
    "<img src = \"Images\\mistake_nader.jpg\" />"
   ]
  },
  {
   "cell_type": "markdown",
   "metadata": {
    "cell_style": "split",
    "slideshow": {
     "slide_type": "fragment"
    }
   },
   "source": [
    "<img src = \"Images\\nader.jpeg\" />\n",
    "<center> Nader giving you life lessons about learning theory AND the true source of income inequality in this country. </center>"
   ]
  },
  {
   "cell_type": "markdown",
   "metadata": {
    "slideshow": {
     "slide_type": "slide"
    }
   },
   "source": [
    "Boosting is essentially this:\n",
    "- at each step learner trains on mistakes of previous step. (fits on the errors of the previous function, makes prediction on the previous errors.\n",
    "- uses knowledge of mistakes to correct predictions in next step.\n",
    "- (make a prediction , learn from the misstakes and update the model and predict again)"
   ]
  },
  {
   "cell_type": "markdown",
   "metadata": {
    "slideshow": {
     "slide_type": "slide"
    }
   },
   "source": [
    "**More technically**\n",
    "- Trying to approximate collection of targets $\\{y_i\\}$ with a function $F(x_i)$.\n",
    "\n",
    "Boosting: sequentially update F via step-by-step learning from errors."
   ]
  },
  {
   "cell_type": "markdown",
   "metadata": {
    "slideshow": {
     "slide_type": "fragment"
    }
   },
   "source": [
    "<img src = \"Images/boosting_update.png\" width = 500 />"
   ]
  },
  {
   "cell_type": "markdown",
   "metadata": {
    "cell_style": "split",
    "slideshow": {
     "slide_type": "slide"
    }
   },
   "source": [
    "But there's a general problem with this:\n",
    "- what if what we learn from last mistake is gleaned from a set of situations that are too specific?"
   ]
  },
  {
   "cell_type": "markdown",
   "metadata": {
    "cell_style": "split",
    "slideshow": {
     "slide_type": "fragment"
    }
   },
   "source": [
    "**More technically**\n",
    "\n",
    "Weighting last mistake with respect to the specific training data too strongly.\n",
    "\n",
    "- Our corrections to how we predict will then be too specific to the training data."
   ]
  },
  {
   "cell_type": "markdown",
   "metadata": {
    "cell_style": "center",
    "slideshow": {
     "slide_type": "slide"
    }
   },
   "source": [
    "**I just overfitted**"
   ]
  },
  {
   "cell_type": "markdown",
   "metadata": {
    "slideshow": {
     "slide_type": "fragment"
    }
   },
   "source": [
    "Yes I learned from a specific set of mistakes:\n",
    "- but have I learned a sufficiently general lesson?"
   ]
  },
  {
   "cell_type": "markdown",
   "metadata": {
    "slideshow": {
     "slide_type": "fragment"
    }
   },
   "source": [
    "Want to learn from last mistakes in a way that is **generalizable** (Making weaker learners)"
   ]
  },
  {
   "cell_type": "markdown",
   "metadata": {
    "cell_style": "center",
    "slideshow": {
     "slide_type": "slide"
    }
   },
   "source": [
    "One possibility: \n",
    "- don't weight lesson from any one mistake too strongly.\n",
    "- perhaps even learn from different mistakes in a \"weak\" manner\n",
    "- BUT do this a bunch of times in sequence.\n"
   ]
  },
  {
   "cell_type": "markdown",
   "metadata": {
    "cell_style": "center",
    "slideshow": {
     "slide_type": "fragment"
    }
   },
   "source": [
    "The hope is that eventually:\n",
    "\n",
    "- Gain wisdom via each generation learning from the previous \n",
    "- But in a weak way: take some of the \"lessons\" but not all."
   ]
  },
  {
   "cell_type": "markdown",
   "metadata": {
    "slideshow": {
     "slide_type": "slide"
    }
   },
   "source": [
    "<center><b> Can such a sequence of weak learners create a single strong learner? </b></center>"
   ]
  },
  {
   "cell_type": "markdown",
   "metadata": {
    "slideshow": {
     "slide_type": "fragment"
    }
   },
   "source": [
    "The answer is yes."
   ]
  },
  {
   "cell_type": "markdown",
   "metadata": {
    "slideshow": {
     "slide_type": "slide"
    }
   },
   "source": [
    "#### Gradient Boosting"
   ]
  },
  {
   "cell_type": "markdown",
   "metadata": {
    "cell_style": "split",
    "slideshow": {
     "slide_type": "fragment"
    }
   },
   "source": [
    "<img src = \"Images/boosting_update.png\" width = 500 />"
   ]
  },
  {
   "cell_type": "markdown",
   "metadata": {
    "cell_style": "split",
    "slideshow": {
     "slide_type": "fragment"
    }
   },
   "source": [
    "Getting better approximations on $F$ iteratively.\n",
    "- Looks a lot like gradient descent.\n",
    "\n"
   ]
  },
  {
   "cell_type": "markdown",
   "metadata": {
    "slideshow": {
     "slide_type": "slide"
    }
   },
   "source": [
    "Use regression as example:\n",
    "\n",
    "- Least squares objective function:"
   ]
  },
  {
   "cell_type": "code",
   "execution_count": 2,
   "metadata": {
    "slideshow": {
     "slide_type": "slide"
    }
   },
   "outputs": [],
   "source": [
    "from sympy import *\n",
    "from sympy.abc import x, y\n",
    "\n",
    "x, y, i, N, h, F = symbols(\"x, y, i, N, h_0, F\")\n",
    "L = summation((Indexed('y',i) - F)**2 ,(i,1,N))/2"
   ]
  },
  {
   "cell_type": "code",
   "execution_count": 3,
   "metadata": {
    "cell_style": "split",
    "slideshow": {
     "slide_type": "slide"
    }
   },
   "outputs": [
    {
     "data": {
      "text/latex": [
       "$\\displaystyle \\frac{\\sum_{i=1}^{N} \\left(- F + {y}_{i}\\right)^{2}}{2}$"
      ],
      "text/plain": [
       "Sum((-F + y[i])**2, (i, 1, N))/2"
      ]
     },
     "execution_count": 3,
     "metadata": {},
     "output_type": "execute_result"
    }
   ],
   "source": [
    "L # loss function"
   ]
  },
  {
   "cell_type": "markdown",
   "metadata": {
    "cell_style": "split",
    "slideshow": {
     "slide_type": "fragment"
    }
   },
   "source": [
    "Take gradient with respect to the function $F$"
   ]
  },
  {
   "cell_type": "code",
   "execution_count": 4,
   "metadata": {
    "cell_style": "split",
    "slideshow": {
     "slide_type": "fragment"
    }
   },
   "outputs": [
    {
     "data": {
      "text/latex": [
       "$\\displaystyle \\frac{\\sum_{i=1}^{N} \\left(2 F - 2 {y}_{i}\\right)}{2}$"
      ],
      "text/plain": [
       "Sum(2*F - 2*y[i], (i, 1, N))/2"
      ]
     },
     "execution_count": 4,
     "metadata": {},
     "output_type": "execute_result"
    }
   ],
   "source": [
    "gradL = diff(L, F)\n",
    "gradL # gradient, aka derivative"
   ]
  },
  {
   "cell_type": "markdown",
   "metadata": {
    "slideshow": {
     "slide_type": "slide"
    }
   },
   "source": [
    "Thus:"
   ]
  },
  {
   "cell_type": "markdown",
   "metadata": {
    "cell_style": "center",
    "slideshow": {
     "slide_type": "fragment"
    }
   },
   "source": [
    "$$ \\nabla_FL = \\sum_{i=1}^N \\Big(F(x_i)- y_i\\Big) $$\n",
    "\n",
    "or $$ - \\nabla_FL = \\sum_{i=1}^N  \\Big(y_i - F(x_i)\\Big) $$\n",
    "**This is  error we input to learner at each step** (sum of the residuals -Fxi -yi)"
   ]
  },
  {
   "cell_type": "markdown",
   "metadata": {
    "cell_style": "split",
    "slideshow": {
     "slide_type": "slide"
    }
   },
   "source": [
    "Input into a regressor:\n",
    "\n",
    "Want to learn from errors at given stage $m$:\n",
    "- Creating a decision tree regressor"
   ]
  },
  {
   "cell_type": "markdown",
   "metadata": {
    "cell_style": "split",
    "slideshow": {
     "slide_type": "fragment"
    }
   },
   "source": [
    "<img src = \"Images/train_mistakes.png\" />"
   ]
  },
  {
   "cell_type": "markdown",
   "metadata": {
    "cell_style": "split",
    "slideshow": {
     "slide_type": "slide"
    }
   },
   "source": [
    "Now we have a statistical model that can predict error from previous step:\n",
    "\n",
    "- Learned function:\n",
    "$$h_m(x_i)$$"
   ]
  },
  {
   "cell_type": "markdown",
   "metadata": {
    "cell_style": "split",
    "slideshow": {
     "slide_type": "fragment"
    }
   },
   "source": [
    "<img src = \"Images/error_prediction.png\" />"
   ]
  },
  {
   "cell_type": "markdown",
   "metadata": {
    "cell_style": "center",
    "slideshow": {
     "slide_type": "slide"
    }
   },
   "source": [
    "Adding this to previous estimator: previous estimator + training error\n",
    "    \n",
    "$$ F_{m+1}(x_i) = F_m(x_i) + h_m(x_i) $$\n",
    "\n",
    "Corrects for error in previous stage."
   ]
  },
  {
   "cell_type": "markdown",
   "metadata": {
    "slideshow": {
     "slide_type": "fragment"
    }
   },
   "source": [
    "This is good, right?"
   ]
  },
  {
   "cell_type": "markdown",
   "metadata": {
    "slideshow": {
     "slide_type": "slide"
    }
   },
   "source": [
    "Not necessarily. If regressor is good at fitting error:\n",
    "\n",
    "- this is a super-strong learner:\n",
    "- Accounts too strongly for specific training errors  at step $m$.\n",
    "\n",
    "**Will introduce variance problems**"
   ]
  },
  {
   "cell_type": "markdown",
   "metadata": {
    "slideshow": {
     "slide_type": "slide"
    }
   },
   "source": [
    "A way to make learner weak: \n",
    "- simpler decision trees\n",
    "- the learning rate $\\alpha$"
   ]
  },
  {
   "cell_type": "markdown",
   "metadata": {
    "slideshow": {
     "slide_type": "slide"
    }
   },
   "source": [
    "#### Weaker vs. stronger learners: decision tree depth"
   ]
  },
  {
   "cell_type": "markdown",
   "metadata": {
    "cell_style": "split",
    "slideshow": {
     "slide_type": "slide"
    }
   },
   "source": [
    "<center><b>Strong Learner </b> </center>\n",
    "<img src = \"Images/deep_tree.png\" />\n",
    "<center> Will train on errors at each step very well. But probably too well. </center>"
   ]
  },
  {
   "cell_type": "markdown",
   "metadata": {
    "cell_style": "split",
    "slideshow": {
     "slide_type": "fragment"
    }
   },
   "source": [
    "<center><b>Weak learner </b></center>\n",
    "<center><img src = \"Images/dec_stump.png\" width = 250/></center>\n",
    "\n",
    "<center> Decision boundary learned by stump: </center>\n",
    "<center><img src = \"Images/dectree_stump_boundary.png\" width = 250/></center>"
   ]
  },
  {
   "cell_type": "markdown",
   "metadata": {
    "slideshow": {
     "slide_type": "slide"
    }
   },
   "source": [
    "#### The learning rate"
   ]
  },
  {
   "cell_type": "markdown",
   "metadata": {
    "cell_style": "split",
    "slideshow": {
     "slide_type": "fragment"
    }
   },
   "source": [
    "Instead of:\n",
    "    \n",
    "$$ F_{m+1}(x_i) = F_m(x_i) + h_m(x_i) $$\n",
    "\n",
    "with $ h_m(x_i)$ learned by tree."
   ]
  },
  {
   "cell_type": "markdown",
   "metadata": {
    "cell_style": "split",
    "slideshow": {
     "slide_type": "fragment"
    }
   },
   "source": [
    "Weight learning from mth mistake weakly:\n",
    "\n",
    "$$ F_{m+1}(x_i) = F_m(x_i) + \\alpha h_m(x_i) $$\n",
    "\n",
    "where $\\alpha$ is small. \n",
    "\n",
    "- Weakens effect of learning from error."
   ]
  },
  {
   "cell_type": "markdown",
   "metadata": {
    "slideshow": {
     "slide_type": "slide"
    }
   },
   "source": [
    "The learning rate $\\alpha$ controls how much we weight learners:\n",
    "\n",
    "- We weight how we factor in our learning from mistakes of a given step weakly.\n"
   ]
  },
  {
   "cell_type": "markdown",
   "metadata": {
    "slideshow": {
     "slide_type": "slide"
    }
   },
   "source": [
    "The learning rate (one factor controlling weakness of learners): connects to gradient descent"
   ]
  },
  {
   "cell_type": "markdown",
   "metadata": {
    "cell_style": "center",
    "slideshow": {
     "slide_type": "fragment"
    }
   },
   "source": [
    "$$ F_{m+1}(x_i) = F_m(x_i) + \\alpha h_m(x_i) $$"
   ]
  },
  {
   "cell_type": "markdown",
   "metadata": {
    "cell_style": "center",
    "slideshow": {
     "slide_type": "fragment"
    }
   },
   "source": [
    "$$ F_{m+1}(x_i) = F_m(x_i) + \\alpha \\Big(y_i - F_m(x_i)\\Big)_{estimated} $$\n"
   ]
  },
  {
   "cell_type": "markdown",
   "metadata": {
    "slideshow": {
     "slide_type": "slide"
    }
   },
   "source": [
    "But we know that:\n",
    "$$ - \\nabla_F L|_{x_i} = \\sum_i^{N} \\Big(y_i - F_m(x_i)\\Big) $$"
   ]
  },
  {
   "cell_type": "markdown",
   "metadata": {
    "cell_style": "center",
    "slideshow": {
     "slide_type": "slide"
    }
   },
   "source": [
    "$$ F_{m+1}(x_i) = F_m(x_i) + \\alpha \\Big(y_i - F_m(x_i)\\Big)_{estimated} $$"
   ]
  },
  {
   "cell_type": "markdown",
   "metadata": {
    "cell_style": "center",
    "slideshow": {
     "slide_type": "fragment"
    }
   },
   "source": [
    "$$ F_{m+1}(x_i) = F_m(x_i) - \\alpha \\nabla_F L|_{x_i} $$"
   ]
  },
  {
   "cell_type": "markdown",
   "metadata": {
    "cell_style": "center",
    "slideshow": {
     "slide_type": "slide"
    }
   },
   "source": [
    "$$ F_{m+1}(x_i) = F_m(x_i) - \\alpha \\nabla_F L|_{x_i} $$"
   ]
  },
  {
   "cell_type": "markdown",
   "metadata": {
    "cell_style": "center",
    "slideshow": {
     "slide_type": "fragment"
    }
   },
   "source": [
    "Doing gradient descent:\n",
    "- iteratively adding onto (or boosting) estimator to lower loss.\n",
    "- Parameter $\\alpha$ controlling gradient step also representing weakness of learning at each stage.\n"
   ]
  },
  {
   "cell_type": "markdown",
   "metadata": {
    "slideshow": {
     "slide_type": "slide"
    }
   },
   "source": [
    "That's why its called gradient boosting!\n",
    "\n",
    "General framework: with different $L$ applies to classification, etc."
   ]
  },
  {
   "cell_type": "markdown",
   "metadata": {
    "slideshow": {
     "slide_type": "slide"
    }
   },
   "source": [
    "A summary of the learning process in more detail:"
   ]
  },
  {
   "cell_type": "markdown",
   "metadata": {
    "slideshow": {
     "slide_type": "fragment"
    }
   },
   "source": [
    "<center><img src = \"Images/update_detailed_process.png\" width = 1000/></center>"
   ]
  },
  {
   "cell_type": "code",
   "execution_count": 5,
   "metadata": {
    "slideshow": {
     "slide_type": "skip"
    }
   },
   "outputs": [],
   "source": [
    "import pandas as pd\n",
    "import numpy as np\n",
    "import matplotlib.pyplot as plt\n",
    "from scipy.stats import norm\n",
    "from sklearn.tree import DecisionTreeRegressor, plot_tree\n",
    "\n",
    "%matplotlib inline"
   ]
  },
  {
   "cell_type": "markdown",
   "metadata": {
    "slideshow": {
     "slide_type": "slide"
    }
   },
   "source": [
    "#### Fit a noisy sinusoid with boosting:"
   ]
  },
  {
   "cell_type": "code",
   "execution_count": 6,
   "metadata": {
    "scrolled": true,
    "slideshow": {
     "slide_type": "slide"
    }
   },
   "outputs": [
    {
     "data": {
<<<<<<< HEAD
      "image/png": "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\n",
=======
      "image/png": "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\n",
>>>>>>> upstream/main
      "text/plain": [
       "<Figure size 432x288 with 1 Axes>"
      ]
     },
     "metadata": {
      "needs_background": "light"
     },
     "output_type": "display_data"
    }
   ],
   "source": [
    "import numpy as np\n",
    "X = np.linspace(0,40,1000)\n",
    "y = np.sin(X) + norm.rvs(loc = 0, scale = .4, size = 1000)\n",
    "fig, ax = plt.subplots()\n",
    "ax.scatter(X, y);"
   ]
  },
  {
   "cell_type": "markdown",
   "metadata": {
    "slideshow": {
     "slide_type": "slide"
    }
   },
   "source": [
    "#### Starting point: the dummy model\n",
    "\n",
    "Dummy regressor: average of our $\\{y_i\\}$ as a model of our data."
   ]
  },
  {
   "cell_type": "code",
   "execution_count": 7,
   "metadata": {
    "cell_style": "center",
    "scrolled": false,
    "slideshow": {
     "slide_type": "slide"
    }
   },
   "outputs": [],
   "source": [
    "%%capture dummyapprox\n",
    "fig, ax = plt.subplots()\n",
    "ax.scatter(X, y, label = 'Data')\n",
    "f0 = y.mean()\n",
    "ax.hlines(f0, 0, 40, linestyle = '--', color = 'r', label = 'Dummy Regressor')\n",
    "ax.set_ylabel('y')\n",
    "ax.set_xlabel('X')\n",
    "ax.legend()\n",
    "plt.show()"
   ]
  },
  {
   "cell_type": "code",
   "execution_count": 8,
   "metadata": {
    "cell_style": "center",
    "slideshow": {
     "slide_type": "fragment"
    }
   },
   "outputs": [
    {
     "data": {
<<<<<<< HEAD
      "image/png": "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\n",
=======
      "image/png": "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\n",
>>>>>>> upstream/main
      "text/plain": [
       "<Figure size 432x288 with 1 Axes>"
      ]
     },
     "metadata": {
      "needs_background": "light"
     },
     "output_type": "display_data"
    }
   ],
   "source": [
    "dummyapprox()"
   ]
  },
  {
   "cell_type": "markdown",
   "metadata": {
    "slideshow": {
     "slide_type": "slide"
    }
   },
   "source": [
    "#### Now walk through process of \"boosting\" this prediction with weak learner sequence."
   ]
  },
  {
   "cell_type": "code",
   "execution_count": 9,
   "metadata": {
    "slideshow": {
     "slide_type": "slide"
    }
   },
   "outputs": [],
   "source": [
    "def simple_boosting_algorithm(X, y, n_learners, learner,\n",
    "                              learning_rate):\n",
    "    y = y.ravel()\n",
    "    # calculates the dummy model\n",
    "    f0 = y.mean()\n",
    "    \n",
    "    # calculates error of first step\n",
    "    residuals = y - f0 # f0 is the prediction , for dummy class is the mean\n",
    "    \n",
    "    # This next line fills an array of len(y) with the mean of y.\n",
    "    f = np.full(len(y), fill_value=f0)\n",
    "\n",
    "    # start sequential training \n",
    "\n",
    "    for i in range(n_learners):\n",
    "        # error of previous model\n",
    "        residuals = y - f\n",
    "        \n",
    "        # fit error with decision tree\n",
    "        mod = learner.fit(X.reshape(-1, 1), residuals)\n",
    "\n",
    "        # update f\n",
    "        f = learning_rate * mod.predict(X.reshape(-1, 1)) + f\n",
    "        fit_df = pd.DataFrame({'x': X, 'F': f})\n",
    "    return fit_df\n",
    "    \n",
    "   "
   ]
  },
  {
   "cell_type": "code",
   "execution_count": null,
   "metadata": {},
   "outputs": [],
   "source": []
  },
  {
   "cell_type": "code",
   "execution_count": 10,
   "metadata": {
    "scrolled": false,
    "slideshow": {
     "slide_type": "skip"
    }
   },
   "outputs": [
    {
     "data": {
      "text/html": [
       "\n",
       "    <div class=\"bk-root\">\n",
       "        <a href=\"https://bokeh.org\" target=\"_blank\" class=\"bk-logo bk-logo-small bk-logo-notebook\"></a>\n",
       "        <span id=\"1002\">Loading BokehJS ...</span>\n",
       "    </div>"
      ]
     },
     "metadata": {},
     "output_type": "display_data"
    },
    {
     "data": {
      "application/javascript": [
       "\n",
       "(function(root) {\n",
       "  function now() {\n",
       "    return new Date();\n",
       "  }\n",
       "\n",
       "  const force = true;\n",
       "\n",
       "  if (typeof root._bokeh_onload_callbacks === \"undefined\" || force === true) {\n",
       "    root._bokeh_onload_callbacks = [];\n",
       "    root._bokeh_is_loading = undefined;\n",
       "  }\n",
       "\n",
       "  const JS_MIME_TYPE = 'application/javascript';\n",
       "  const HTML_MIME_TYPE = 'text/html';\n",
       "  const EXEC_MIME_TYPE = 'application/vnd.bokehjs_exec.v0+json';\n",
       "  const CLASS_NAME = 'output_bokeh rendered_html';\n",
       "\n",
       "  /**\n",
       "   * Render data to the DOM node\n",
       "   */\n",
       "  function render(props, node) {\n",
       "    const script = document.createElement(\"script\");\n",
       "    node.appendChild(script);\n",
       "  }\n",
       "\n",
       "  /**\n",
       "   * Handle when an output is cleared or removed\n",
       "   */\n",
       "  function handleClearOutput(event, handle) {\n",
       "    const cell = handle.cell;\n",
       "\n",
       "    const id = cell.output_area._bokeh_element_id;\n",
       "    const server_id = cell.output_area._bokeh_server_id;\n",
       "    // Clean up Bokeh references\n",
       "    if (id != null && id in Bokeh.index) {\n",
       "      Bokeh.index[id].model.document.clear();\n",
       "      delete Bokeh.index[id];\n",
       "    }\n",
       "\n",
       "    if (server_id !== undefined) {\n",
       "      // Clean up Bokeh references\n",
       "      const cmd_clean = \"from bokeh.io.state import curstate; print(curstate().uuid_to_server['\" + server_id + \"'].get_sessions()[0].document.roots[0]._id)\";\n",
       "      cell.notebook.kernel.execute(cmd_clean, {\n",
       "        iopub: {\n",
       "          output: function(msg) {\n",
       "            const id = msg.content.text.trim();\n",
       "            if (id in Bokeh.index) {\n",
       "              Bokeh.index[id].model.document.clear();\n",
       "              delete Bokeh.index[id];\n",
       "            }\n",
       "          }\n",
       "        }\n",
       "      });\n",
       "      // Destroy server and session\n",
       "      const cmd_destroy = \"import bokeh.io.notebook as ion; ion.destroy_server('\" + server_id + \"')\";\n",
       "      cell.notebook.kernel.execute(cmd_destroy);\n",
       "    }\n",
       "  }\n",
       "\n",
       "  /**\n",
       "   * Handle when a new output is added\n",
       "   */\n",
       "  function handleAddOutput(event, handle) {\n",
       "    const output_area = handle.output_area;\n",
       "    const output = handle.output;\n",
       "\n",
       "    // limit handleAddOutput to display_data with EXEC_MIME_TYPE content only\n",
       "    if ((output.output_type != \"display_data\") || (!Object.prototype.hasOwnProperty.call(output.data, EXEC_MIME_TYPE))) {\n",
       "      return\n",
       "    }\n",
       "\n",
       "    const toinsert = output_area.element.find(\".\" + CLASS_NAME.split(' ')[0]);\n",
       "\n",
       "    if (output.metadata[EXEC_MIME_TYPE][\"id\"] !== undefined) {\n",
       "      toinsert[toinsert.length - 1].firstChild.textContent = output.data[JS_MIME_TYPE];\n",
       "      // store reference to embed id on output_area\n",
       "      output_area._bokeh_element_id = output.metadata[EXEC_MIME_TYPE][\"id\"];\n",
       "    }\n",
       "    if (output.metadata[EXEC_MIME_TYPE][\"server_id\"] !== undefined) {\n",
       "      const bk_div = document.createElement(\"div\");\n",
       "      bk_div.innerHTML = output.data[HTML_MIME_TYPE];\n",
       "      const script_attrs = bk_div.children[0].attributes;\n",
       "      for (let i = 0; i < script_attrs.length; i++) {\n",
       "        toinsert[toinsert.length - 1].firstChild.setAttribute(script_attrs[i].name, script_attrs[i].value);\n",
       "        toinsert[toinsert.length - 1].firstChild.textContent = bk_div.children[0].textContent\n",
       "      }\n",
       "      // store reference to server id on output_area\n",
       "      output_area._bokeh_server_id = output.metadata[EXEC_MIME_TYPE][\"server_id\"];\n",
       "    }\n",
       "  }\n",
       "\n",
       "  function register_renderer(events, OutputArea) {\n",
       "\n",
       "    function append_mime(data, metadata, element) {\n",
       "      // create a DOM node to render to\n",
       "      const toinsert = this.create_output_subarea(\n",
       "        metadata,\n",
       "        CLASS_NAME,\n",
       "        EXEC_MIME_TYPE\n",
       "      );\n",
       "      this.keyboard_manager.register_events(toinsert);\n",
       "      // Render to node\n",
       "      const props = {data: data, metadata: metadata[EXEC_MIME_TYPE]};\n",
       "      render(props, toinsert[toinsert.length - 1]);\n",
       "      element.append(toinsert);\n",
       "      return toinsert\n",
       "    }\n",
       "\n",
       "    /* Handle when an output is cleared or removed */\n",
       "    events.on('clear_output.CodeCell', handleClearOutput);\n",
       "    events.on('delete.Cell', handleClearOutput);\n",
       "\n",
       "    /* Handle when a new output is added */\n",
       "    events.on('output_added.OutputArea', handleAddOutput);\n",
       "\n",
       "    /**\n",
       "     * Register the mime type and append_mime function with output_area\n",
       "     */\n",
       "    OutputArea.prototype.register_mime_type(EXEC_MIME_TYPE, append_mime, {\n",
       "      /* Is output safe? */\n",
       "      safe: true,\n",
       "      /* Index of renderer in `output_area.display_order` */\n",
       "      index: 0\n",
       "    });\n",
       "  }\n",
       "\n",
       "  // register the mime type if in Jupyter Notebook environment and previously unregistered\n",
       "  if (root.Jupyter !== undefined) {\n",
       "    const events = require('base/js/events');\n",
       "    const OutputArea = require('notebook/js/outputarea').OutputArea;\n",
       "\n",
       "    if (OutputArea.prototype.mime_types().indexOf(EXEC_MIME_TYPE) == -1) {\n",
       "      register_renderer(events, OutputArea);\n",
       "    }\n",
       "  }\n",
       "\n",
       "  \n",
       "  if (typeof (root._bokeh_timeout) === \"undefined\" || force === true) {\n",
       "    root._bokeh_timeout = Date.now() + 5000;\n",
       "    root._bokeh_failed_load = false;\n",
       "  }\n",
       "\n",
       "  const NB_LOAD_WARNING = {'data': {'text/html':\n",
       "     \"<div style='background-color: #fdd'>\\n\"+\n",
       "     \"<p>\\n\"+\n",
       "     \"BokehJS does not appear to have successfully loaded. If loading BokehJS from CDN, this \\n\"+\n",
       "     \"may be due to a slow or bad network connection. Possible fixes:\\n\"+\n",
       "     \"</p>\\n\"+\n",
       "     \"<ul>\\n\"+\n",
       "     \"<li>re-rerun `output_notebook()` to attempt to load from CDN again, or</li>\\n\"+\n",
       "     \"<li>use INLINE resources instead, as so:</li>\\n\"+\n",
       "     \"</ul>\\n\"+\n",
       "     \"<code>\\n\"+\n",
       "     \"from bokeh.resources import INLINE\\n\"+\n",
       "     \"output_notebook(resources=INLINE)\\n\"+\n",
       "     \"</code>\\n\"+\n",
       "     \"</div>\"}};\n",
       "\n",
       "  function display_loaded() {\n",
       "    const el = document.getElementById(\"1002\");\n",
       "    if (el != null) {\n",
       "      el.textContent = \"BokehJS is loading...\";\n",
       "    }\n",
       "    if (root.Bokeh !== undefined) {\n",
       "      if (el != null) {\n",
       "        el.textContent = \"BokehJS \" + root.Bokeh.version + \" successfully loaded.\";\n",
       "      }\n",
       "    } else if (Date.now() < root._bokeh_timeout) {\n",
       "      setTimeout(display_loaded, 100)\n",
       "    }\n",
       "  }\n",
       "\n",
       "\n",
       "  function run_callbacks() {\n",
       "    try {\n",
       "      root._bokeh_onload_callbacks.forEach(function(callback) {\n",
       "        if (callback != null)\n",
       "          callback();\n",
       "      });\n",
       "    } finally {\n",
       "      delete root._bokeh_onload_callbacks\n",
       "    }\n",
       "    console.debug(\"Bokeh: all callbacks have finished\");\n",
       "  }\n",
       "\n",
       "  function load_libs(css_urls, js_urls, callback) {\n",
       "    if (css_urls == null) css_urls = [];\n",
       "    if (js_urls == null) js_urls = [];\n",
       "\n",
       "    root._bokeh_onload_callbacks.push(callback);\n",
       "    if (root._bokeh_is_loading > 0) {\n",
       "      console.debug(\"Bokeh: BokehJS is being loaded, scheduling callback at\", now());\n",
       "      return null;\n",
       "    }\n",
       "    if (js_urls == null || js_urls.length === 0) {\n",
       "      run_callbacks();\n",
       "      return null;\n",
       "    }\n",
       "    console.debug(\"Bokeh: BokehJS not loaded, scheduling load and callback at\", now());\n",
       "    root._bokeh_is_loading = css_urls.length + js_urls.length;\n",
       "\n",
       "    function on_load() {\n",
       "      root._bokeh_is_loading--;\n",
       "      if (root._bokeh_is_loading === 0) {\n",
       "        console.debug(\"Bokeh: all BokehJS libraries/stylesheets loaded\");\n",
       "        run_callbacks()\n",
       "      }\n",
       "    }\n",
       "\n",
       "    function on_error(url) {\n",
       "      console.error(\"failed to load \" + url);\n",
       "    }\n",
       "\n",
       "    for (let i = 0; i < css_urls.length; i++) {\n",
       "      const url = css_urls[i];\n",
       "      const element = document.createElement(\"link\");\n",
       "      element.onload = on_load;\n",
       "      element.onerror = on_error.bind(null, url);\n",
       "      element.rel = \"stylesheet\";\n",
       "      element.type = \"text/css\";\n",
       "      element.href = url;\n",
       "      console.debug(\"Bokeh: injecting link tag for BokehJS stylesheet: \", url);\n",
       "      document.body.appendChild(element);\n",
       "    }\n",
       "\n",
       "    for (let i = 0; i < js_urls.length; i++) {\n",
       "      const url = js_urls[i];\n",
       "      const element = document.createElement('script');\n",
       "      element.onload = on_load;\n",
       "      element.onerror = on_error.bind(null, url);\n",
       "      element.async = false;\n",
       "      element.src = url;\n",
       "      console.debug(\"Bokeh: injecting script tag for BokehJS library: \", url);\n",
       "      document.head.appendChild(element);\n",
       "    }\n",
       "  };\n",
       "\n",
       "  function inject_raw_css(css) {\n",
       "    const element = document.createElement(\"style\");\n",
       "    element.appendChild(document.createTextNode(css));\n",
       "    document.body.appendChild(element);\n",
       "  }\n",
       "\n",
       "  \n",
       "  const js_urls = [\"https://cdn.bokeh.org/bokeh/release/bokeh-2.4.2.min.js\", \"https://cdn.bokeh.org/bokeh/release/bokeh-gl-2.4.2.min.js\", \"https://cdn.bokeh.org/bokeh/release/bokeh-widgets-2.4.2.min.js\", \"https://cdn.bokeh.org/bokeh/release/bokeh-tables-2.4.2.min.js\", \"https://cdn.bokeh.org/bokeh/release/bokeh-mathjax-2.4.2.min.js\"];\n",
       "  const css_urls = [];\n",
       "  \n",
       "\n",
       "  const inline_js = [\n",
       "    function(Bokeh) {\n",
       "      Bokeh.set_log_level(\"info\");\n",
       "    },\n",
       "    function(Bokeh) {\n",
       "    \n",
       "    \n",
       "    }\n",
       "  ];\n",
       "\n",
       "  function run_inline_js() {\n",
       "    \n",
       "    if (root.Bokeh !== undefined || force === true) {\n",
       "      \n",
       "    for (let i = 0; i < inline_js.length; i++) {\n",
       "      inline_js[i].call(root, root.Bokeh);\n",
       "    }\n",
       "    if (force === true) {\n",
       "        display_loaded();\n",
       "      }} else if (Date.now() < root._bokeh_timeout) {\n",
       "      setTimeout(run_inline_js, 100);\n",
       "    } else if (!root._bokeh_failed_load) {\n",
       "      console.log(\"Bokeh: BokehJS failed to load within specified timeout.\");\n",
       "      root._bokeh_failed_load = true;\n",
       "    } else if (force !== true) {\n",
       "      const cell = $(document.getElementById(\"1002\")).parents('.cell').data().cell;\n",
       "      cell.output_area.append_execute_result(NB_LOAD_WARNING)\n",
       "    }\n",
       "\n",
       "  }\n",
       "\n",
       "  if (root._bokeh_is_loading === 0) {\n",
       "    console.debug(\"Bokeh: BokehJS loaded, going straight to plotting\");\n",
       "    run_inline_js();\n",
       "  } else {\n",
       "    load_libs(css_urls, js_urls, function() {\n",
       "      console.debug(\"Bokeh: BokehJS plotting callback run at\", now());\n",
       "      run_inline_js();\n",
       "    });\n",
       "  }\n",
       "}(window));"
      ],
      "application/vnd.bokehjs_load.v0+json": "\n(function(root) {\n  function now() {\n    return new Date();\n  }\n\n  const force = true;\n\n  if (typeof root._bokeh_onload_callbacks === \"undefined\" || force === true) {\n    root._bokeh_onload_callbacks = [];\n    root._bokeh_is_loading = undefined;\n  }\n\n  \n\n  \n  if (typeof (root._bokeh_timeout) === \"undefined\" || force === true) {\n    root._bokeh_timeout = Date.now() + 5000;\n    root._bokeh_failed_load = false;\n  }\n\n  const NB_LOAD_WARNING = {'data': {'text/html':\n     \"<div style='background-color: #fdd'>\\n\"+\n     \"<p>\\n\"+\n     \"BokehJS does not appear to have successfully loaded. If loading BokehJS from CDN, this \\n\"+\n     \"may be due to a slow or bad network connection. Possible fixes:\\n\"+\n     \"</p>\\n\"+\n     \"<ul>\\n\"+\n     \"<li>re-rerun `output_notebook()` to attempt to load from CDN again, or</li>\\n\"+\n     \"<li>use INLINE resources instead, as so:</li>\\n\"+\n     \"</ul>\\n\"+\n     \"<code>\\n\"+\n     \"from bokeh.resources import INLINE\\n\"+\n     \"output_notebook(resources=INLINE)\\n\"+\n     \"</code>\\n\"+\n     \"</div>\"}};\n\n  function display_loaded() {\n    const el = document.getElementById(\"1002\");\n    if (el != null) {\n      el.textContent = \"BokehJS is loading...\";\n    }\n    if (root.Bokeh !== undefined) {\n      if (el != null) {\n        el.textContent = \"BokehJS \" + root.Bokeh.version + \" successfully loaded.\";\n      }\n    } else if (Date.now() < root._bokeh_timeout) {\n      setTimeout(display_loaded, 100)\n    }\n  }\n\n\n  function run_callbacks() {\n    try {\n      root._bokeh_onload_callbacks.forEach(function(callback) {\n        if (callback != null)\n          callback();\n      });\n    } finally {\n      delete root._bokeh_onload_callbacks\n    }\n    console.debug(\"Bokeh: all callbacks have finished\");\n  }\n\n  function load_libs(css_urls, js_urls, callback) {\n    if (css_urls == null) css_urls = [];\n    if (js_urls == null) js_urls = [];\n\n    root._bokeh_onload_callbacks.push(callback);\n    if (root._bokeh_is_loading > 0) {\n      console.debug(\"Bokeh: BokehJS is being loaded, scheduling callback at\", now());\n      return null;\n    }\n    if (js_urls == null || js_urls.length === 0) {\n      run_callbacks();\n      return null;\n    }\n    console.debug(\"Bokeh: BokehJS not loaded, scheduling load and callback at\", now());\n    root._bokeh_is_loading = css_urls.length + js_urls.length;\n\n    function on_load() {\n      root._bokeh_is_loading--;\n      if (root._bokeh_is_loading === 0) {\n        console.debug(\"Bokeh: all BokehJS libraries/stylesheets loaded\");\n        run_callbacks()\n      }\n    }\n\n    function on_error(url) {\n      console.error(\"failed to load \" + url);\n    }\n\n    for (let i = 0; i < css_urls.length; i++) {\n      const url = css_urls[i];\n      const element = document.createElement(\"link\");\n      element.onload = on_load;\n      element.onerror = on_error.bind(null, url);\n      element.rel = \"stylesheet\";\n      element.type = \"text/css\";\n      element.href = url;\n      console.debug(\"Bokeh: injecting link tag for BokehJS stylesheet: \", url);\n      document.body.appendChild(element);\n    }\n\n    for (let i = 0; i < js_urls.length; i++) {\n      const url = js_urls[i];\n      const element = document.createElement('script');\n      element.onload = on_load;\n      element.onerror = on_error.bind(null, url);\n      element.async = false;\n      element.src = url;\n      console.debug(\"Bokeh: injecting script tag for BokehJS library: \", url);\n      document.head.appendChild(element);\n    }\n  };\n\n  function inject_raw_css(css) {\n    const element = document.createElement(\"style\");\n    element.appendChild(document.createTextNode(css));\n    document.body.appendChild(element);\n  }\n\n  \n  const js_urls = [\"https://cdn.bokeh.org/bokeh/release/bokeh-2.4.2.min.js\", \"https://cdn.bokeh.org/bokeh/release/bokeh-gl-2.4.2.min.js\", \"https://cdn.bokeh.org/bokeh/release/bokeh-widgets-2.4.2.min.js\", \"https://cdn.bokeh.org/bokeh/release/bokeh-tables-2.4.2.min.js\", \"https://cdn.bokeh.org/bokeh/release/bokeh-mathjax-2.4.2.min.js\"];\n  const css_urls = [];\n  \n\n  const inline_js = [\n    function(Bokeh) {\n      Bokeh.set_log_level(\"info\");\n    },\n    function(Bokeh) {\n    \n    \n    }\n  ];\n\n  function run_inline_js() {\n    \n    if (root.Bokeh !== undefined || force === true) {\n      \n    for (let i = 0; i < inline_js.length; i++) {\n      inline_js[i].call(root, root.Bokeh);\n    }\n    if (force === true) {\n        display_loaded();\n      }} else if (Date.now() < root._bokeh_timeout) {\n      setTimeout(run_inline_js, 100);\n    } else if (!root._bokeh_failed_load) {\n      console.log(\"Bokeh: BokehJS failed to load within specified timeout.\");\n      root._bokeh_failed_load = true;\n    } else if (force !== true) {\n      const cell = $(document.getElementById(\"1002\")).parents('.cell').data().cell;\n      cell.output_area.append_execute_result(NB_LOAD_WARNING)\n    }\n\n  }\n\n  if (root._bokeh_is_loading === 0) {\n    console.debug(\"Bokeh: BokehJS loaded, going straight to plotting\");\n    run_inline_js();\n  } else {\n    load_libs(css_urls, js_urls, function() {\n      console.debug(\"Bokeh: BokehJS plotting callback run at\", now());\n      run_inline_js();\n    });\n  }\n}(window));"
     },
     "metadata": {},
     "output_type": "display_data"
    }
   ],
   "source": [
    "\n",
    "from bokeh.layouts import column,row\n",
    "from bokeh.models import ColumnDataSource, Slider, TextInput, Select\n",
    "from bokeh.plotting import figure, output_file, show\n",
    "from bokeh.io import show, output_notebook\n",
    "from bokeh.themes import Theme\n",
    "import yaml\n",
    "import numpy as np\n",
    "output_notebook()\n",
    "\n",
    "def bk_app(doc):\n",
    "    \n",
    "    func_approx =simple_boosting_algorithm(X=X,\n",
    "                      y=y,\n",
    "                      n_learners= 1,\n",
    "                      learner=DecisionTreeRegressor(max_depth= 1),\n",
    "                      learning_rate=0.02)\n",
    "\n",
    "    source = ColumnDataSource(func_approx)\n",
    "\n",
    "    # Create plots and widgets\n",
    "    plot = figure()\n",
    "\n",
    "    plot.circle(X, y, size = 6, color = 'blue', legend_label= 'Data')\n",
    "    plot.line('x', 'F', source = source, line_width=3, line_alpha=1, color = 'red', legend_label = 'Boosting') \n",
    "\n",
    "    # Create Slider object\n",
    "     \n",
    "    tree_depth = Slider(start=1, end=10, value=1,\n",
    "                    step=1, title='Tree Depth')  \n",
    "    \n",
    "    n_est = TextInput(title=\"Number of estimators\", value = '1')\n",
    "    \n",
    "    lr = Select(title=\"Learning rate\", value='5e-1',\n",
    "               options=['1e-4', '1e-3', '5e-3', '1e-2', '5e-2', '1e-1', '5e-1', '1'])\n",
    "\n",
    "    # Adding callback code\n",
    "    def callback(attr, old, new):\n",
    "        N = n_est.value\n",
    "        depth = tree_depth.value\n",
    "        learn_rate = float(lr.value)\n",
    "        \n",
    "        func_approx =simple_boosting_algorithm(X=X,\n",
    "                              y=y,\n",
    "                              n_learners= int(N),\n",
    "                              learner=DecisionTreeRegressor(max_depth= depth),\n",
    "                              learning_rate= float(learn_rate))\n",
    "\n",
    "        source.data = func_approx\n",
    "\n",
    "\n",
    "    tree_depth.on_change('value', callback)\n",
    "    n_est.on_change('value', callback)\n",
    "    lr.on_change('value', callback)\n",
    "\n",
    "    doc.add_root(row(\n",
    "        plot,\n",
    "        column(tree_depth, n_est, lr),\n",
    "    ))\n",
    "\n",
    "    doc.theme = Theme(json=yaml.load(\"\"\"\n",
    "        attrs:\n",
    "            Figure:\n",
    "                background_fill_color: white\n",
    "                outline_line_color: white\n",
    "                toolbar_location: above\n",
    "                height: 450\n",
    "                width: 450\n",
    "    \"\"\", Loader=yaml.FullLoader))\n",
    "\n"
   ]
  },
  {
   "cell_type": "markdown",
   "metadata": {
    "slideshow": {
     "slide_type": "slide"
    }
   },
   "source": [
    "The effects of sequential boosting with weak learners:"
   ]
  },
  {
   "cell_type": "code",
   "execution_count": 11,
   "metadata": {
    "scrolled": false,
    "slideshow": {
     "slide_type": "fragment"
    }
   },
   "outputs": [
    {
     "data": {
      "application/vnd.bokehjs_exec.v0+json": "",
      "text/html": [
<<<<<<< HEAD
       "\n",
=======
>>>>>>> upstream/main
       "<script id=\"1003\">\n",
       "  (function() {\n",
       "    const xhr = new XMLHttpRequest()\n",
       "    xhr.responseType = 'blob';\n",
<<<<<<< HEAD
       "    xhr.open('GET', \"http://localhost:59767/autoload.js?bokeh-autoload-element=1003&bokeh-absolute-url=http://localhost:59767&resources=none\", true);\n",
       "    \n",
=======
       "    xhr.open('GET', \"http://localhost:51038/autoload.js?bokeh-autoload-element=1003&bokeh-absolute-url=http://localhost:51038&resources=none\", true);\n",
>>>>>>> upstream/main
       "    xhr.onload = function (event) {\n",
       "      const script = document.createElement('script');\n",
       "      const src = URL.createObjectURL(event.target.response);\n",
       "      script.src = src;\n",
       "      document.body.appendChild(script);\n",
       "    };\n",
       "    xhr.send();\n",
       "  })();\n",
       "</script>"
      ]
     },
     "metadata": {
      "application/vnd.bokehjs_exec.v0+json": {
<<<<<<< HEAD
       "server_id": "834d40a39f50449182bc24645b0a7204"
=======
       "server_id": "048aa36290fb4fba860d5b93cd3f4c8b"
>>>>>>> upstream/main
      }
     },
     "output_type": "display_data"
    }
   ],
   "source": [
    "show(bk_app, notebook_url=\"http://localhost:8888\")"
   ]
  },
  {
   "cell_type": "markdown",
   "metadata": {
    "cell_style": "split",
    "slideshow": {
     "slide_type": "slide"
    }
   },
   "source": [
    "Gradient boosting:\n",
    "    \n",
    "- Tuning hyperparameters can be very important for performance."
   ]
  },
  {
   "cell_type": "markdown",
   "metadata": {
    "cell_style": "split",
    "slideshow": {
     "slide_type": "slide"
    }
   },
   "source": [
    "- Number of estimators (convergence/overfitting)\n",
    "- learning rate (too high...overfit)\n",
    "- tree depth (too large...overfit)\n",
    "\n",
    "Critical hyperparameters in balance between underfitting/overfitting"
   ]
  },
  {
   "cell_type": "markdown",
   "metadata": {
    "slideshow": {
     "slide_type": "slide"
    }
   },
   "source": [
    "Playing around with hyperparameters"
   ]
  },
  {
   "cell_type": "code",
   "execution_count": 12,
   "metadata": {
    "scrolled": true,
    "slideshow": {
     "slide_type": "fragment"
    }
   },
   "outputs": [
    {
     "data": {
      "application/vnd.bokehjs_exec.v0+json": "",
      "text/html": [
<<<<<<< HEAD
       "\n",
=======
>>>>>>> upstream/main
       "<script id=\"1004\">\n",
       "  (function() {\n",
       "    const xhr = new XMLHttpRequest()\n",
       "    xhr.responseType = 'blob';\n",
<<<<<<< HEAD
       "    xhr.open('GET', \"http://localhost:59769/autoload.js?bokeh-autoload-element=1004&bokeh-absolute-url=http://localhost:59769&resources=none\", true);\n",
       "    \n",
=======
       "    xhr.open('GET', \"http://localhost:51040/autoload.js?bokeh-autoload-element=1004&bokeh-absolute-url=http://localhost:51040&resources=none\", true);\n",
>>>>>>> upstream/main
       "    xhr.onload = function (event) {\n",
       "      const script = document.createElement('script');\n",
       "      const src = URL.createObjectURL(event.target.response);\n",
       "      script.src = src;\n",
       "      document.body.appendChild(script);\n",
       "    };\n",
       "    xhr.send();\n",
       "  })();\n",
       "</script>"
      ]
     },
     "metadata": {
      "application/vnd.bokehjs_exec.v0+json": {
<<<<<<< HEAD
       "server_id": "ce61c9012e1d4f3e80cdb9a0acbce86a"
=======
       "server_id": "b9aea5db5d344727a5f4402e86e82cc3"
>>>>>>> upstream/main
      }
     },
     "output_type": "display_data"
    }
   ],
   "source": [
    "show(bk_app, notebook_url=\"http://localhost:8888\")"
   ]
  },
  {
   "cell_type": "markdown",
   "metadata": {
    "cell_style": "split",
    "slideshow": {
     "slide_type": "slide"
    }
   },
   "source": [
    "Why do all this?\n",
    "\n",
    "- Decision trees can be very fast.\n",
    "- Weak learners (particularly stumps) are even **faster**. ( because of a tree stump)"
   ]
  },
  {
   "cell_type": "markdown",
   "metadata": {
    "cell_style": "split",
    "slideshow": {
     "slide_type": "fragment"
    }
   },
   "source": [
    "In principal:\n",
    "- can tune and fit models really quickly."
   ]
  },
  {
   "cell_type": "markdown",
   "metadata": {
    "cell_style": "center",
    "slideshow": {
     "slide_type": "slide"
    }
   },
   "source": [
    "Our naive implementation: \n",
    "- can be a little sensitive to overfitting \n",
    "- certainly overfits more than random forests."
   ]
  },
  {
   "cell_type": "markdown",
   "metadata": {
    "slideshow": {
     "slide_type": "slide"
    }
   },
   "source": [
    "\n",
    "Gets much better with extra randomization: \n",
    "- Random feature subset selection on individual trees \n",
    "- Randomly sampling subset of training data to improve on error at each stage.\n"
   ]
  },
  {
   "cell_type": "markdown",
   "metadata": {
    "slideshow": {
     "slide_type": "slide"
    }
   },
   "source": [
    "Even better with regularization on trees:"
   ]
  },
  {
   "cell_type": "markdown",
   "metadata": {
    "cell_style": "split",
    "slideshow": {
     "slide_type": "fragment"
    }
   },
   "source": [
    "$$ L = \\sum_{i=1}^N l(y_i, \\hat{y}_i) + \\gamma \\sum_{m=1}^M \\Omega(h_m)$$\n",
    "- $\\Omega$: complexity of tree at the mth step. \n",
    "- $\\gamma$: controls penalty on complexity ( penalizes building complex trees)\n",
    "\n",
    "**Penalizing building more complex trees but also allows for it if necessary**"
   ]
  },
  {
   "cell_type": "markdown",
   "metadata": {
    "cell_style": "split",
    "slideshow": {
     "slide_type": "fragment"
    }
   },
   "source": [
    "$\\gamma$ controls tree pruning. If branch doesn't minimize error (maximize imformation gain) **enough** then cut it.\n",
    "\n",
    "<img src = \"Images/pruning_reg.webp\" />"
   ]
  },
  {
   "cell_type": "markdown",
   "metadata": {
    "cell_style": "center",
    "slideshow": {
     "slide_type": "slide"
    }
   },
   "source": [
    "#### Use above strategies + a lot of algorithm optimization\n",
    "\n",
    "- XGBoost (Extreme Gradient Boosting)\n",
    "\n"
   ]
  },
  {
   "cell_type": "markdown",
   "metadata": {
    "cell_style": "center",
    "slideshow": {
     "slide_type": "fragment"
    }
   },
   "source": [
    "<img src = \"Images/xgboost.png\" />\n",
    "<center>Package integrates well with scikit-learn</center>"
   ]
  },
  {
   "cell_type": "markdown",
   "metadata": {
    "slideshow": {
     "slide_type": "slide"
    }
   },
   "source": [
    "Load in the XGB classifier/regressor"
   ]
  },
  {
   "cell_type": "code",
   "execution_count": 13,
   "metadata": {
    "slideshow": {
     "slide_type": "fragment"
    }
   },
   "outputs": [
    {
     "name": "stderr",
     "output_type": "stream",
     "text": [
      "/opt/anaconda3/lib/python3.9/site-packages/xgboost/compat.py:36: FutureWarning: pandas.Int64Index is deprecated and will be removed from pandas in a future version. Use pandas.Index with the appropriate dtype instead.\n",
      "  from pandas import MultiIndex, Int64Index\n"
     ]
    }
   ],
   "source": [
    "from xgboost import XGBRegressor\n",
    "from xgboost import XGBClassifier"
   ]
  },
  {
   "cell_type": "code",
   "execution_count": 14,
   "metadata": {
    "slideshow": {
     "slide_type": "fragment"
    }
   },
   "outputs": [],
   "source": [
    "from sklearn.model_selection import train_test_split\n",
    "from sklearn.model_selection import GridSearchCV"
   ]
  },
  {
   "cell_type": "code",
   "execution_count": 15,
   "metadata": {
    "slideshow": {
     "slide_type": "fragment"
    }
   },
   "outputs": [],
   "source": [
    "X_train, X_test, y_train, y_test = train_test_split(X, y, test_size = .3)"
   ]
  },
  {
   "cell_type": "markdown",
   "metadata": {
    "slideshow": {
     "slide_type": "slide"
    }
   },
   "source": [
    "#### Hyperparameters to tune and ranges"
   ]
  },
  {
   "cell_type": "markdown",
   "metadata": {
    "slideshow": {
     "slide_type": "fragment"
    }
   },
   "source": [
    "| Hyperparameter | Description  | Typical ranges | <center> Comments </center> |\n",
    "| --- | --- | --- | --- |\n",
    "| n_estimator | Number of trees <br> (iterations in sequence) | 50-500 | <center> Can get into low thousands. <br> Increasing beyond certain point: <br> overfitting or no benefit. </center>  |\n",
    "| max_depth | Maximum tree depth of learners | 3-6 |<center> Increment by 1. <br> Changing depth: huge effect. </center>| \n",
    "| learning_rate | The learning rate | 1e-3 to 1 | <center> Proper regularization/randomization <br> allows for faster learning rates <br> ~ 0.1-1 </center>   |\n",
    "|  <font color='red'>gamma </font>| Tree complexity regularization | 0 - 100 | <center> Primary knob for tree regularization </center>   |\n",
    "| <font color='red'>colsample_bytree </font> | <center> Fraction of features <br> randomly sampled by tree </center> | 0.5 - 1 | <center> Regularizing effect  <br>colsample_bylevel, colsample_bynode:<br> add extra degrees of randomization </center>|"
   ]
  },
  {
   "cell_type": "markdown",
   "metadata": {
    "slideshow": {
     "slide_type": "slide"
    }
   },
   "source": [
    "XGB estimators fits neatly and seamlessly into scikit-learn model pipelines, grid search, etc."
   ]
  },
  {
   "cell_type": "code",
   "execution_count": 16,
   "metadata": {
    "slideshow": {
     "slide_type": "fragment"
    }
   },
   "outputs": [],
   "source": [
    "from xgboost import XGBRegressor\n",
    "from xgboost import XGBClassifier"
   ]
  },
  {
   "cell_type": "code",
   "execution_count": 17,
   "metadata": {
    "slideshow": {
     "slide_type": "fragment"
    }
   },
   "outputs": [],
   "source": [
    "params = {'max_depth': [3,4, 5], 'learning_rate': [.1, .3, .5],\n",
    "          'gamma': [0,5,10], 'n_estimators': [50,100, 150] }\n",
    "cv = GridSearchCV(estimator = XGBRegressor(objective='reg:squarederror'), scoring='neg_mean_absolute_error',\n",
    "                  param_grid = params, cv = 5)\n",
    "# use squared error as a loss function, scoring metric for determining if it's a good model\n",
    "cv.fit(X_train.reshape(-1,1), y_train);"
   ]
  },
  {
   "cell_type": "code",
   "execution_count": 18,
   "metadata": {
    "cell_style": "center",
    "scrolled": true,
    "slideshow": {
     "slide_type": "slide"
    }
   },
   "outputs": [
    {
     "data": {
      "text/plain": [
       "XGBRegressor(base_score=0.5, booster='gbtree', colsample_bylevel=1,\n",
       "             colsample_bynode=1, colsample_bytree=1, enable_categorical=False,\n",
       "             gamma=0, gpu_id=-1, importance_type=None,\n",
       "             interaction_constraints='', learning_rate=0.1, max_delta_step=0,\n",
       "             max_depth=3, min_child_weight=1, missing=nan,\n",
<<<<<<< HEAD
       "             monotone_constraints='()', n_estimators=150, n_jobs=10,\n",
=======
       "             monotone_constraints='()', n_estimators=100, n_jobs=8,\n",
>>>>>>> upstream/main
       "             num_parallel_tree=1, predictor='auto', random_state=0, reg_alpha=0,\n",
       "             reg_lambda=1, scale_pos_weight=1, subsample=1, tree_method='exact',\n",
       "             validate_parameters=1, verbosity=None)"
      ]
     },
     "execution_count": 18,
     "metadata": {},
     "output_type": "execute_result"
    }
   ],
   "source": [
    "cv.best_estimator_"
   ]
  },
  {
   "cell_type": "code",
   "execution_count": 19,
   "metadata": {
    "cell_style": "split",
    "slideshow": {
     "slide_type": "fragment"
    }
   },
   "outputs": [
    {
     "data": {
      "text/plain": [
<<<<<<< HEAD
       "-0.33543528905929076"
=======
       "-0.3521079489740862"
>>>>>>> upstream/main
      ]
     },
     "execution_count": 19,
     "metadata": {},
     "output_type": "execute_result"
    }
   ],
   "source": [
    "cv.best_score_\n",
    "# negative mean absolute error, absolute error is off by 0.34"
   ]
  },
  {
   "cell_type": "code",
   "execution_count": 20,
   "metadata": {
    "cell_style": "split",
    "slideshow": {
     "slide_type": "fragment"
    }
   },
   "outputs": [],
   "source": [
    "best_mod = cv.best_estimator_\n",
    "best_mod.fit(X_train.reshape(-1,1), y_train);\n",
    "y_pred = best_mod.predict(X_test)"
   ]
  },
  {
   "cell_type": "code",
   "execution_count": 21,
   "metadata": {
    "cell_style": "split",
    "slideshow": {
     "slide_type": "fragment"
    }
   },
   "outputs": [],
   "source": [
    "total_preds = best_mod.predict(X_train) # why is it predicting on the train?- to get the R2"
   ]
  },
  {
   "cell_type": "code",
   "execution_count": 22,
   "metadata": {
    "cell_style": "split",
    "scrolled": false,
    "slideshow": {
     "slide_type": "slide"
    }
   },
   "outputs": [
    {
     "data": {
<<<<<<< HEAD
      "image/png": "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\n",
=======
      "image/png": "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\n",
>>>>>>> upstream/main
      "text/plain": [
       "<Figure size 432x288 with 1 Axes>"
      ]
     },
     "metadata": {
      "needs_background": "light"
     },
     "output_type": "display_data"
    }
   ],
   "source": [
    "fig, ax = plt.subplots()\n",
    "ax.scatter(X_test, y_test, c ='g', label = 'Test data')\n",
    "ax.scatter(X_test, y_pred, c ='r', label = 'Prediction')\n",
    "ax.legend()\n",
    "plt.show()"
   ]
  },
  {
   "cell_type": "markdown",
   "metadata": {
    "cell_style": "split",
    "slideshow": {
     "slide_type": "fragment"
    }
   },
   "source": [
    "Clearly doing pretty well with variance\n",
    "- CV average MAE at scale of intrinsic noise in model.\n",
    "- Also doing decently with bias. Sine wave amplitude ~ 1."
   ]
  },
  {
   "cell_type": "markdown",
   "metadata": {
    "slideshow": {
     "slide_type": "slide"
    }
   },
   "source": [
    "#### How about something a little more complicated?"
   ]
  },
  {
   "cell_type": "code",
   "execution_count": 23,
   "metadata": {
    "slideshow": {
     "slide_type": "slide"
    }
   },
   "outputs": [],
   "source": [
    "# load data\n",
    "file_path = \"Data/WHO_life.csv\"\n",
    "who_df = pd.read_csv(file_path).drop(columns = ['Adult Mortality', 'infant deaths',\n",
    "                                            'Year', 'Status', ' thinness 5-9 years', 'Country', \n",
    "                                            'under-five deaths ']).dropna()\n",
    "# clean column names\n",
    "who_df.columns = who_df.columns.str.strip()\n",
    "\n",
    "X_who, y_who = who_df.drop(columns = ['Life expectancy']), who_df['Life expectancy']"
   ]
  },
  {
   "cell_type": "code",
   "execution_count": 24,
   "metadata": {
    "cell_style": "center",
    "scrolled": true,
    "slideshow": {
     "slide_type": "slide"
    }
   },
   "outputs": [
    {
     "data": {
      "text/html": [
       "<div>\n",
       "<style scoped>\n",
       "    .dataframe tbody tr th:only-of-type {\n",
       "        vertical-align: middle;\n",
       "    }\n",
       "\n",
       "    .dataframe tbody tr th {\n",
       "        vertical-align: top;\n",
       "    }\n",
       "\n",
       "    .dataframe thead th {\n",
       "        text-align: right;\n",
       "    }\n",
       "</style>\n",
       "<table border=\"1\" class=\"dataframe\">\n",
       "  <thead>\n",
       "    <tr style=\"text-align: right;\">\n",
       "      <th></th>\n",
       "      <th>Alcohol</th>\n",
       "      <th>percentage expenditure</th>\n",
       "      <th>Hepatitis B</th>\n",
       "      <th>Measles</th>\n",
       "      <th>BMI</th>\n",
       "      <th>Polio</th>\n",
       "      <th>Total expenditure</th>\n",
       "      <th>Diphtheria</th>\n",
       "      <th>HIV/AIDS</th>\n",
       "      <th>GDP</th>\n",
       "      <th>Population</th>\n",
       "      <th>thinness  1-19 years</th>\n",
       "      <th>Income composition of resources</th>\n",
       "      <th>Schooling</th>\n",
       "    </tr>\n",
       "  </thead>\n",
       "  <tbody>\n",
       "    <tr>\n",
       "      <th>0</th>\n",
       "      <td>0.01</td>\n",
       "      <td>71.279624</td>\n",
       "      <td>65.0</td>\n",
       "      <td>1154</td>\n",
       "      <td>19.1</td>\n",
       "      <td>6.0</td>\n",
       "      <td>8.16</td>\n",
       "      <td>65.0</td>\n",
       "      <td>0.1</td>\n",
       "      <td>584.259210</td>\n",
       "      <td>33736494.0</td>\n",
       "      <td>17.2</td>\n",
       "      <td>0.479</td>\n",
       "      <td>10.1</td>\n",
       "    </tr>\n",
       "    <tr>\n",
       "      <th>1</th>\n",
       "      <td>0.01</td>\n",
       "      <td>73.523582</td>\n",
       "      <td>62.0</td>\n",
       "      <td>492</td>\n",
       "      <td>18.6</td>\n",
       "      <td>58.0</td>\n",
       "      <td>8.18</td>\n",
       "      <td>62.0</td>\n",
       "      <td>0.1</td>\n",
       "      <td>612.696514</td>\n",
       "      <td>327582.0</td>\n",
       "      <td>17.5</td>\n",
       "      <td>0.476</td>\n",
       "      <td>10.0</td>\n",
       "    </tr>\n",
       "    <tr>\n",
       "      <th>2</th>\n",
       "      <td>0.01</td>\n",
       "      <td>73.219243</td>\n",
       "      <td>64.0</td>\n",
       "      <td>430</td>\n",
       "      <td>18.1</td>\n",
       "      <td>62.0</td>\n",
       "      <td>8.13</td>\n",
       "      <td>64.0</td>\n",
       "      <td>0.1</td>\n",
       "      <td>631.744976</td>\n",
       "      <td>31731688.0</td>\n",
       "      <td>17.7</td>\n",
       "      <td>0.470</td>\n",
       "      <td>9.9</td>\n",
       "    </tr>\n",
       "    <tr>\n",
       "      <th>3</th>\n",
       "      <td>0.01</td>\n",
       "      <td>78.184215</td>\n",
       "      <td>67.0</td>\n",
       "      <td>2787</td>\n",
       "      <td>17.6</td>\n",
       "      <td>67.0</td>\n",
       "      <td>8.52</td>\n",
       "      <td>67.0</td>\n",
       "      <td>0.1</td>\n",
       "      <td>669.959000</td>\n",
       "      <td>3696958.0</td>\n",
       "      <td>17.9</td>\n",
       "      <td>0.463</td>\n",
       "      <td>9.8</td>\n",
       "    </tr>\n",
       "    <tr>\n",
       "      <th>4</th>\n",
       "      <td>0.01</td>\n",
       "      <td>7.097109</td>\n",
       "      <td>68.0</td>\n",
       "      <td>3013</td>\n",
       "      <td>17.2</td>\n",
       "      <td>68.0</td>\n",
       "      <td>7.87</td>\n",
       "      <td>68.0</td>\n",
       "      <td>0.1</td>\n",
       "      <td>63.537231</td>\n",
       "      <td>2978599.0</td>\n",
       "      <td>18.2</td>\n",
       "      <td>0.454</td>\n",
       "      <td>9.5</td>\n",
       "    </tr>\n",
       "  </tbody>\n",
       "</table>\n",
       "</div>"
      ],
      "text/plain": [
       "   Alcohol  percentage expenditure  Hepatitis B  Measles   BMI  Polio  \\\n",
       "0     0.01               71.279624         65.0     1154  19.1    6.0   \n",
       "1     0.01               73.523582         62.0      492  18.6   58.0   \n",
       "2     0.01               73.219243         64.0      430  18.1   62.0   \n",
       "3     0.01               78.184215         67.0     2787  17.6   67.0   \n",
       "4     0.01                7.097109         68.0     3013  17.2   68.0   \n",
       "\n",
       "   Total expenditure  Diphtheria  HIV/AIDS         GDP  Population  \\\n",
       "0               8.16        65.0       0.1  584.259210  33736494.0   \n",
       "1               8.18        62.0       0.1  612.696514    327582.0   \n",
       "2               8.13        64.0       0.1  631.744976  31731688.0   \n",
       "3               8.52        67.0       0.1  669.959000   3696958.0   \n",
       "4               7.87        68.0       0.1   63.537231   2978599.0   \n",
       "\n",
       "   thinness  1-19 years  Income composition of resources  Schooling  \n",
       "0                  17.2                            0.479       10.1  \n",
       "1                  17.5                            0.476       10.0  \n",
       "2                  17.7                            0.470        9.9  \n",
       "3                  17.9                            0.463        9.8  \n",
       "4                  18.2                            0.454        9.5  "
      ]
     },
     "execution_count": 24,
     "metadata": {},
     "output_type": "execute_result"
    }
   ],
   "source": [
    "X_who.head()"
   ]
  },
  {
   "cell_type": "code",
   "execution_count": 25,
   "metadata": {
    "cell_style": "split",
    "slideshow": {
     "slide_type": "fragment"
    }
   },
   "outputs": [
    {
     "data": {
      "text/plain": [
       "0    65.0\n",
       "1    59.9\n",
       "2    59.9\n",
       "3    59.5\n",
       "4    59.2\n",
       "Name: Life expectancy, dtype: float64"
      ]
     },
     "execution_count": 25,
     "metadata": {},
     "output_type": "execute_result"
    }
   ],
   "source": [
    "y_who.head()"
   ]
  },
  {
   "cell_type": "code",
   "execution_count": 26,
   "metadata": {
    "slideshow": {
     "slide_type": "fragment"
    }
   },
   "outputs": [],
   "source": [
    "# Train test split\n",
    "X_who_train, X_who_test, y_who_train, y_who_test = train_test_split(X_who, y_who, test_size = 0.3)"
   ]
  },
  {
   "cell_type": "code",
   "execution_count": 38,
   "metadata": {
    "slideshow": {
     "slide_type": "slide"
    }
   },
   "outputs": [
    {
     "name": "stderr",
     "output_type": "stream",
     "text": [
      "/opt/anaconda3/lib/python3.9/site-packages/xgboost/data.py:250: FutureWarning: pandas.Int64Index is deprecated and will be removed from pandas in a future version. Use pandas.Index with the appropriate dtype instead.\n",
      "  elif isinstance(data.columns, (pd.Int64Index, pd.RangeIndex)):\n",
      "/opt/anaconda3/lib/python3.9/site-packages/xgboost/data.py:250: FutureWarning: pandas.Int64Index is deprecated and will be removed from pandas in a future version. Use pandas.Index with the appropriate dtype instead.\n",
      "  elif isinstance(data.columns, (pd.Int64Index, pd.RangeIndex)):\n",
      "/opt/anaconda3/lib/python3.9/site-packages/xgboost/data.py:250: FutureWarning: pandas.Int64Index is deprecated and will be removed from pandas in a future version. Use pandas.Index with the appropriate dtype instead.\n",
      "  elif isinstance(data.columns, (pd.Int64Index, pd.RangeIndex)):\n",
      "/opt/anaconda3/lib/python3.9/site-packages/xgboost/data.py:250: FutureWarning: pandas.Int64Index is deprecated and will be removed from pandas in a future version. Use pandas.Index with the appropriate dtype instead.\n",
      "  elif isinstance(data.columns, (pd.Int64Index, pd.RangeIndex)):\n",
      "/opt/anaconda3/lib/python3.9/site-packages/xgboost/data.py:250: FutureWarning: pandas.Int64Index is deprecated and will be removed from pandas in a future version. Use pandas.Index with the appropriate dtype instead.\n",
      "  elif isinstance(data.columns, (pd.Int64Index, pd.RangeIndex)):\n",
      "/opt/anaconda3/lib/python3.9/site-packages/xgboost/data.py:250: FutureWarning: pandas.Int64Index is deprecated and will be removed from pandas in a future version. Use pandas.Index with the appropriate dtype instead.\n",
      "  elif isinstance(data.columns, (pd.Int64Index, pd.RangeIndex)):\n",
      "/opt/anaconda3/lib/python3.9/site-packages/xgboost/data.py:250: FutureWarning: pandas.Int64Index is deprecated and will be removed from pandas in a future version. Use pandas.Index with the appropriate dtype instead.\n",
      "  elif isinstance(data.columns, (pd.Int64Index, pd.RangeIndex)):\n",
      "/opt/anaconda3/lib/python3.9/site-packages/xgboost/data.py:250: FutureWarning: pandas.Int64Index is deprecated and will be removed from pandas in a future version. Use pandas.Index with the appropriate dtype instead.\n",
      "  elif isinstance(data.columns, (pd.Int64Index, pd.RangeIndex)):\n",
      "/opt/anaconda3/lib/python3.9/site-packages/xgboost/data.py:250: FutureWarning: pandas.Int64Index is deprecated and will be removed from pandas in a future version. Use pandas.Index with the appropriate dtype instead.\n",
      "  elif isinstance(data.columns, (pd.Int64Index, pd.RangeIndex)):\n",
      "/opt/anaconda3/lib/python3.9/site-packages/xgboost/data.py:250: FutureWarning: pandas.Int64Index is deprecated and will be removed from pandas in a future version. Use pandas.Index with the appropriate dtype instead.\n",
      "  elif isinstance(data.columns, (pd.Int64Index, pd.RangeIndex)):\n",
      "/opt/anaconda3/lib/python3.9/site-packages/xgboost/data.py:250: FutureWarning: pandas.Int64Index is deprecated and will be removed from pandas in a future version. Use pandas.Index with the appropriate dtype instead.\n",
      "  elif isinstance(data.columns, (pd.Int64Index, pd.RangeIndex)):\n",
      "/opt/anaconda3/lib/python3.9/site-packages/xgboost/data.py:250: FutureWarning: pandas.Int64Index is deprecated and will be removed from pandas in a future version. Use pandas.Index with the appropriate dtype instead.\n",
      "  elif isinstance(data.columns, (pd.Int64Index, pd.RangeIndex)):\n",
      "/opt/anaconda3/lib/python3.9/site-packages/xgboost/data.py:250: FutureWarning: pandas.Int64Index is deprecated and will be removed from pandas in a future version. Use pandas.Index with the appropriate dtype instead.\n",
      "  elif isinstance(data.columns, (pd.Int64Index, pd.RangeIndex)):\n",
      "/opt/anaconda3/lib/python3.9/site-packages/xgboost/data.py:250: FutureWarning: pandas.Int64Index is deprecated and will be removed from pandas in a future version. Use pandas.Index with the appropriate dtype instead.\n",
      "  elif isinstance(data.columns, (pd.Int64Index, pd.RangeIndex)):\n",
      "/opt/anaconda3/lib/python3.9/site-packages/xgboost/data.py:250: FutureWarning: pandas.Int64Index is deprecated and will be removed from pandas in a future version. Use pandas.Index with the appropriate dtype instead.\n",
      "  elif isinstance(data.columns, (pd.Int64Index, pd.RangeIndex)):\n",
      "/opt/anaconda3/lib/python3.9/site-packages/xgboost/data.py:250: FutureWarning: pandas.Int64Index is deprecated and will be removed from pandas in a future version. Use pandas.Index with the appropriate dtype instead.\n",
      "  elif isinstance(data.columns, (pd.Int64Index, pd.RangeIndex)):\n",
      "/opt/anaconda3/lib/python3.9/site-packages/xgboost/data.py:250: FutureWarning: pandas.Int64Index is deprecated and will be removed from pandas in a future version. Use pandas.Index with the appropriate dtype instead.\n",
      "  elif isinstance(data.columns, (pd.Int64Index, pd.RangeIndex)):\n",
      "/opt/anaconda3/lib/python3.9/site-packages/xgboost/data.py:250: FutureWarning: pandas.Int64Index is deprecated and will be removed from pandas in a future version. Use pandas.Index with the appropriate dtype instead.\n",
      "  elif isinstance(data.columns, (pd.Int64Index, pd.RangeIndex)):\n",
      "/opt/anaconda3/lib/python3.9/site-packages/xgboost/data.py:250: FutureWarning: pandas.Int64Index is deprecated and will be removed from pandas in a future version. Use pandas.Index with the appropriate dtype instead.\n",
      "  elif isinstance(data.columns, (pd.Int64Index, pd.RangeIndex)):\n",
      "/opt/anaconda3/lib/python3.9/site-packages/xgboost/data.py:250: FutureWarning: pandas.Int64Index is deprecated and will be removed from pandas in a future version. Use pandas.Index with the appropriate dtype instead.\n",
      "  elif isinstance(data.columns, (pd.Int64Index, pd.RangeIndex)):\n",
      "/opt/anaconda3/lib/python3.9/site-packages/xgboost/data.py:250: FutureWarning: pandas.Int64Index is deprecated and will be removed from pandas in a future version. Use pandas.Index with the appropriate dtype instead.\n",
      "  elif isinstance(data.columns, (pd.Int64Index, pd.RangeIndex)):\n",
      "/opt/anaconda3/lib/python3.9/site-packages/xgboost/data.py:250: FutureWarning: pandas.Int64Index is deprecated and will be removed from pandas in a future version. Use pandas.Index with the appropriate dtype instead.\n",
      "  elif isinstance(data.columns, (pd.Int64Index, pd.RangeIndex)):\n",
      "/opt/anaconda3/lib/python3.9/site-packages/xgboost/data.py:250: FutureWarning: pandas.Int64Index is deprecated and will be removed from pandas in a future version. Use pandas.Index with the appropriate dtype instead.\n",
      "  elif isinstance(data.columns, (pd.Int64Index, pd.RangeIndex)):\n",
      "/opt/anaconda3/lib/python3.9/site-packages/xgboost/data.py:250: FutureWarning: pandas.Int64Index is deprecated and will be removed from pandas in a future version. Use pandas.Index with the appropriate dtype instead.\n",
      "  elif isinstance(data.columns, (pd.Int64Index, pd.RangeIndex)):\n",
      "/opt/anaconda3/lib/python3.9/site-packages/xgboost/data.py:250: FutureWarning: pandas.Int64Index is deprecated and will be removed from pandas in a future version. Use pandas.Index with the appropriate dtype instead.\n",
      "  elif isinstance(data.columns, (pd.Int64Index, pd.RangeIndex)):\n",
      "/opt/anaconda3/lib/python3.9/site-packages/xgboost/data.py:250: FutureWarning: pandas.Int64Index is deprecated and will be removed from pandas in a future version. Use pandas.Index with the appropriate dtype instead.\n",
      "  elif isinstance(data.columns, (pd.Int64Index, pd.RangeIndex)):\n",
      "/opt/anaconda3/lib/python3.9/site-packages/xgboost/data.py:250: FutureWarning: pandas.Int64Index is deprecated and will be removed from pandas in a future version. Use pandas.Index with the appropriate dtype instead.\n",
      "  elif isinstance(data.columns, (pd.Int64Index, pd.RangeIndex)):\n",
      "/opt/anaconda3/lib/python3.9/site-packages/xgboost/data.py:250: FutureWarning: pandas.Int64Index is deprecated and will be removed from pandas in a future version. Use pandas.Index with the appropriate dtype instead.\n",
      "  elif isinstance(data.columns, (pd.Int64Index, pd.RangeIndex)):\n",
      "/opt/anaconda3/lib/python3.9/site-packages/xgboost/data.py:250: FutureWarning: pandas.Int64Index is deprecated and will be removed from pandas in a future version. Use pandas.Index with the appropriate dtype instead.\n",
      "  elif isinstance(data.columns, (pd.Int64Index, pd.RangeIndex)):\n",
      "/opt/anaconda3/lib/python3.9/site-packages/xgboost/data.py:250: FutureWarning: pandas.Int64Index is deprecated and will be removed from pandas in a future version. Use pandas.Index with the appropriate dtype instead.\n",
      "  elif isinstance(data.columns, (pd.Int64Index, pd.RangeIndex)):\n"
     ]
    },
    {
     "name": "stderr",
     "output_type": "stream",
     "text": [
      "/opt/anaconda3/lib/python3.9/site-packages/xgboost/data.py:250: FutureWarning: pandas.Int64Index is deprecated and will be removed from pandas in a future version. Use pandas.Index with the appropriate dtype instead.\n",
      "  elif isinstance(data.columns, (pd.Int64Index, pd.RangeIndex)):\n",
      "/opt/anaconda3/lib/python3.9/site-packages/xgboost/data.py:250: FutureWarning: pandas.Int64Index is deprecated and will be removed from pandas in a future version. Use pandas.Index with the appropriate dtype instead.\n",
      "  elif isinstance(data.columns, (pd.Int64Index, pd.RangeIndex)):\n",
      "/opt/anaconda3/lib/python3.9/site-packages/xgboost/data.py:250: FutureWarning: pandas.Int64Index is deprecated and will be removed from pandas in a future version. Use pandas.Index with the appropriate dtype instead.\n",
      "  elif isinstance(data.columns, (pd.Int64Index, pd.RangeIndex)):\n",
      "/opt/anaconda3/lib/python3.9/site-packages/xgboost/data.py:250: FutureWarning: pandas.Int64Index is deprecated and will be removed from pandas in a future version. Use pandas.Index with the appropriate dtype instead.\n",
      "  elif isinstance(data.columns, (pd.Int64Index, pd.RangeIndex)):\n",
      "/opt/anaconda3/lib/python3.9/site-packages/xgboost/data.py:250: FutureWarning: pandas.Int64Index is deprecated and will be removed from pandas in a future version. Use pandas.Index with the appropriate dtype instead.\n",
      "  elif isinstance(data.columns, (pd.Int64Index, pd.RangeIndex)):\n",
      "/opt/anaconda3/lib/python3.9/site-packages/xgboost/data.py:250: FutureWarning: pandas.Int64Index is deprecated and will be removed from pandas in a future version. Use pandas.Index with the appropriate dtype instead.\n",
      "  elif isinstance(data.columns, (pd.Int64Index, pd.RangeIndex)):\n",
      "/opt/anaconda3/lib/python3.9/site-packages/xgboost/data.py:250: FutureWarning: pandas.Int64Index is deprecated and will be removed from pandas in a future version. Use pandas.Index with the appropriate dtype instead.\n",
      "  elif isinstance(data.columns, (pd.Int64Index, pd.RangeIndex)):\n",
      "/opt/anaconda3/lib/python3.9/site-packages/xgboost/data.py:250: FutureWarning: pandas.Int64Index is deprecated and will be removed from pandas in a future version. Use pandas.Index with the appropriate dtype instead.\n",
      "  elif isinstance(data.columns, (pd.Int64Index, pd.RangeIndex)):\n",
      "/opt/anaconda3/lib/python3.9/site-packages/xgboost/data.py:250: FutureWarning: pandas.Int64Index is deprecated and will be removed from pandas in a future version. Use pandas.Index with the appropriate dtype instead.\n",
      "  elif isinstance(data.columns, (pd.Int64Index, pd.RangeIndex)):\n",
      "/opt/anaconda3/lib/python3.9/site-packages/xgboost/data.py:250: FutureWarning: pandas.Int64Index is deprecated and will be removed from pandas in a future version. Use pandas.Index with the appropriate dtype instead.\n",
      "  elif isinstance(data.columns, (pd.Int64Index, pd.RangeIndex)):\n",
      "/opt/anaconda3/lib/python3.9/site-packages/xgboost/data.py:250: FutureWarning: pandas.Int64Index is deprecated and will be removed from pandas in a future version. Use pandas.Index with the appropriate dtype instead.\n",
      "  elif isinstance(data.columns, (pd.Int64Index, pd.RangeIndex)):\n",
      "/opt/anaconda3/lib/python3.9/site-packages/xgboost/data.py:250: FutureWarning: pandas.Int64Index is deprecated and will be removed from pandas in a future version. Use pandas.Index with the appropriate dtype instead.\n",
      "  elif isinstance(data.columns, (pd.Int64Index, pd.RangeIndex)):\n",
      "/opt/anaconda3/lib/python3.9/site-packages/xgboost/data.py:250: FutureWarning: pandas.Int64Index is deprecated and will be removed from pandas in a future version. Use pandas.Index with the appropriate dtype instead.\n",
      "  elif isinstance(data.columns, (pd.Int64Index, pd.RangeIndex)):\n",
      "/opt/anaconda3/lib/python3.9/site-packages/xgboost/data.py:250: FutureWarning: pandas.Int64Index is deprecated and will be removed from pandas in a future version. Use pandas.Index with the appropriate dtype instead.\n",
      "  elif isinstance(data.columns, (pd.Int64Index, pd.RangeIndex)):\n",
      "/opt/anaconda3/lib/python3.9/site-packages/xgboost/data.py:250: FutureWarning: pandas.Int64Index is deprecated and will be removed from pandas in a future version. Use pandas.Index with the appropriate dtype instead.\n",
      "  elif isinstance(data.columns, (pd.Int64Index, pd.RangeIndex)):\n",
      "/opt/anaconda3/lib/python3.9/site-packages/xgboost/data.py:250: FutureWarning: pandas.Int64Index is deprecated and will be removed from pandas in a future version. Use pandas.Index with the appropriate dtype instead.\n",
      "  elif isinstance(data.columns, (pd.Int64Index, pd.RangeIndex)):\n",
      "/opt/anaconda3/lib/python3.9/site-packages/xgboost/data.py:250: FutureWarning: pandas.Int64Index is deprecated and will be removed from pandas in a future version. Use pandas.Index with the appropriate dtype instead.\n",
      "  elif isinstance(data.columns, (pd.Int64Index, pd.RangeIndex)):\n",
      "/opt/anaconda3/lib/python3.9/site-packages/xgboost/data.py:250: FutureWarning: pandas.Int64Index is deprecated and will be removed from pandas in a future version. Use pandas.Index with the appropriate dtype instead.\n",
      "  elif isinstance(data.columns, (pd.Int64Index, pd.RangeIndex)):\n",
      "/opt/anaconda3/lib/python3.9/site-packages/xgboost/data.py:250: FutureWarning: pandas.Int64Index is deprecated and will be removed from pandas in a future version. Use pandas.Index with the appropriate dtype instead.\n",
      "  elif isinstance(data.columns, (pd.Int64Index, pd.RangeIndex)):\n",
      "/opt/anaconda3/lib/python3.9/site-packages/xgboost/data.py:250: FutureWarning: pandas.Int64Index is deprecated and will be removed from pandas in a future version. Use pandas.Index with the appropriate dtype instead.\n",
      "  elif isinstance(data.columns, (pd.Int64Index, pd.RangeIndex)):\n",
      "/opt/anaconda3/lib/python3.9/site-packages/xgboost/data.py:250: FutureWarning: pandas.Int64Index is deprecated and will be removed from pandas in a future version. Use pandas.Index with the appropriate dtype instead.\n",
      "  elif isinstance(data.columns, (pd.Int64Index, pd.RangeIndex)):\n",
      "/opt/anaconda3/lib/python3.9/site-packages/xgboost/data.py:250: FutureWarning: pandas.Int64Index is deprecated and will be removed from pandas in a future version. Use pandas.Index with the appropriate dtype instead.\n",
      "  elif isinstance(data.columns, (pd.Int64Index, pd.RangeIndex)):\n",
      "/opt/anaconda3/lib/python3.9/site-packages/xgboost/data.py:250: FutureWarning: pandas.Int64Index is deprecated and will be removed from pandas in a future version. Use pandas.Index with the appropriate dtype instead.\n",
      "  elif isinstance(data.columns, (pd.Int64Index, pd.RangeIndex)):\n",
      "/opt/anaconda3/lib/python3.9/site-packages/xgboost/data.py:250: FutureWarning: pandas.Int64Index is deprecated and will be removed from pandas in a future version. Use pandas.Index with the appropriate dtype instead.\n",
      "  elif isinstance(data.columns, (pd.Int64Index, pd.RangeIndex)):\n",
      "/opt/anaconda3/lib/python3.9/site-packages/xgboost/data.py:250: FutureWarning: pandas.Int64Index is deprecated and will be removed from pandas in a future version. Use pandas.Index with the appropriate dtype instead.\n",
      "  elif isinstance(data.columns, (pd.Int64Index, pd.RangeIndex)):\n",
      "/opt/anaconda3/lib/python3.9/site-packages/xgboost/data.py:250: FutureWarning: pandas.Int64Index is deprecated and will be removed from pandas in a future version. Use pandas.Index with the appropriate dtype instead.\n",
      "  elif isinstance(data.columns, (pd.Int64Index, pd.RangeIndex)):\n",
      "/opt/anaconda3/lib/python3.9/site-packages/xgboost/data.py:250: FutureWarning: pandas.Int64Index is deprecated and will be removed from pandas in a future version. Use pandas.Index with the appropriate dtype instead.\n",
      "  elif isinstance(data.columns, (pd.Int64Index, pd.RangeIndex)):\n",
      "/opt/anaconda3/lib/python3.9/site-packages/xgboost/data.py:250: FutureWarning: pandas.Int64Index is deprecated and will be removed from pandas in a future version. Use pandas.Index with the appropriate dtype instead.\n",
      "  elif isinstance(data.columns, (pd.Int64Index, pd.RangeIndex)):\n",
      "/opt/anaconda3/lib/python3.9/site-packages/xgboost/data.py:250: FutureWarning: pandas.Int64Index is deprecated and will be removed from pandas in a future version. Use pandas.Index with the appropriate dtype instead.\n",
      "  elif isinstance(data.columns, (pd.Int64Index, pd.RangeIndex)):\n",
      "/opt/anaconda3/lib/python3.9/site-packages/xgboost/data.py:250: FutureWarning: pandas.Int64Index is deprecated and will be removed from pandas in a future version. Use pandas.Index with the appropriate dtype instead.\n",
      "  elif isinstance(data.columns, (pd.Int64Index, pd.RangeIndex)):\n"
     ]
    },
    {
     "name": "stderr",
     "output_type": "stream",
     "text": [
      "/opt/anaconda3/lib/python3.9/site-packages/xgboost/data.py:250: FutureWarning: pandas.Int64Index is deprecated and will be removed from pandas in a future version. Use pandas.Index with the appropriate dtype instead.\n",
      "  elif isinstance(data.columns, (pd.Int64Index, pd.RangeIndex)):\n",
      "/opt/anaconda3/lib/python3.9/site-packages/xgboost/data.py:250: FutureWarning: pandas.Int64Index is deprecated and will be removed from pandas in a future version. Use pandas.Index with the appropriate dtype instead.\n",
      "  elif isinstance(data.columns, (pd.Int64Index, pd.RangeIndex)):\n",
      "/opt/anaconda3/lib/python3.9/site-packages/xgboost/data.py:250: FutureWarning: pandas.Int64Index is deprecated and will be removed from pandas in a future version. Use pandas.Index with the appropriate dtype instead.\n",
      "  elif isinstance(data.columns, (pd.Int64Index, pd.RangeIndex)):\n",
      "/opt/anaconda3/lib/python3.9/site-packages/xgboost/data.py:250: FutureWarning: pandas.Int64Index is deprecated and will be removed from pandas in a future version. Use pandas.Index with the appropriate dtype instead.\n",
      "  elif isinstance(data.columns, (pd.Int64Index, pd.RangeIndex)):\n",
      "/opt/anaconda3/lib/python3.9/site-packages/xgboost/data.py:250: FutureWarning: pandas.Int64Index is deprecated and will be removed from pandas in a future version. Use pandas.Index with the appropriate dtype instead.\n",
      "  elif isinstance(data.columns, (pd.Int64Index, pd.RangeIndex)):\n",
      "/opt/anaconda3/lib/python3.9/site-packages/xgboost/data.py:250: FutureWarning: pandas.Int64Index is deprecated and will be removed from pandas in a future version. Use pandas.Index with the appropriate dtype instead.\n",
      "  elif isinstance(data.columns, (pd.Int64Index, pd.RangeIndex)):\n",
      "/opt/anaconda3/lib/python3.9/site-packages/xgboost/data.py:250: FutureWarning: pandas.Int64Index is deprecated and will be removed from pandas in a future version. Use pandas.Index with the appropriate dtype instead.\n",
      "  elif isinstance(data.columns, (pd.Int64Index, pd.RangeIndex)):\n",
      "/opt/anaconda3/lib/python3.9/site-packages/xgboost/data.py:250: FutureWarning: pandas.Int64Index is deprecated and will be removed from pandas in a future version. Use pandas.Index with the appropriate dtype instead.\n",
      "  elif isinstance(data.columns, (pd.Int64Index, pd.RangeIndex)):\n",
      "/opt/anaconda3/lib/python3.9/site-packages/xgboost/data.py:250: FutureWarning: pandas.Int64Index is deprecated and will be removed from pandas in a future version. Use pandas.Index with the appropriate dtype instead.\n",
      "  elif isinstance(data.columns, (pd.Int64Index, pd.RangeIndex)):\n",
      "/opt/anaconda3/lib/python3.9/site-packages/xgboost/data.py:250: FutureWarning: pandas.Int64Index is deprecated and will be removed from pandas in a future version. Use pandas.Index with the appropriate dtype instead.\n",
      "  elif isinstance(data.columns, (pd.Int64Index, pd.RangeIndex)):\n",
      "/opt/anaconda3/lib/python3.9/site-packages/xgboost/data.py:250: FutureWarning: pandas.Int64Index is deprecated and will be removed from pandas in a future version. Use pandas.Index with the appropriate dtype instead.\n",
      "  elif isinstance(data.columns, (pd.Int64Index, pd.RangeIndex)):\n",
      "/opt/anaconda3/lib/python3.9/site-packages/xgboost/data.py:250: FutureWarning: pandas.Int64Index is deprecated and will be removed from pandas in a future version. Use pandas.Index with the appropriate dtype instead.\n",
      "  elif isinstance(data.columns, (pd.Int64Index, pd.RangeIndex)):\n",
      "/opt/anaconda3/lib/python3.9/site-packages/xgboost/data.py:250: FutureWarning: pandas.Int64Index is deprecated and will be removed from pandas in a future version. Use pandas.Index with the appropriate dtype instead.\n",
      "  elif isinstance(data.columns, (pd.Int64Index, pd.RangeIndex)):\n",
      "/opt/anaconda3/lib/python3.9/site-packages/xgboost/data.py:250: FutureWarning: pandas.Int64Index is deprecated and will be removed from pandas in a future version. Use pandas.Index with the appropriate dtype instead.\n",
      "  elif isinstance(data.columns, (pd.Int64Index, pd.RangeIndex)):\n",
      "/opt/anaconda3/lib/python3.9/site-packages/xgboost/data.py:250: FutureWarning: pandas.Int64Index is deprecated and will be removed from pandas in a future version. Use pandas.Index with the appropriate dtype instead.\n",
      "  elif isinstance(data.columns, (pd.Int64Index, pd.RangeIndex)):\n",
      "/opt/anaconda3/lib/python3.9/site-packages/xgboost/data.py:250: FutureWarning: pandas.Int64Index is deprecated and will be removed from pandas in a future version. Use pandas.Index with the appropriate dtype instead.\n",
      "  elif isinstance(data.columns, (pd.Int64Index, pd.RangeIndex)):\n",
      "/opt/anaconda3/lib/python3.9/site-packages/xgboost/data.py:250: FutureWarning: pandas.Int64Index is deprecated and will be removed from pandas in a future version. Use pandas.Index with the appropriate dtype instead.\n",
      "  elif isinstance(data.columns, (pd.Int64Index, pd.RangeIndex)):\n",
      "/opt/anaconda3/lib/python3.9/site-packages/xgboost/data.py:250: FutureWarning: pandas.Int64Index is deprecated and will be removed from pandas in a future version. Use pandas.Index with the appropriate dtype instead.\n",
      "  elif isinstance(data.columns, (pd.Int64Index, pd.RangeIndex)):\n",
      "/opt/anaconda3/lib/python3.9/site-packages/xgboost/data.py:250: FutureWarning: pandas.Int64Index is deprecated and will be removed from pandas in a future version. Use pandas.Index with the appropriate dtype instead.\n",
      "  elif isinstance(data.columns, (pd.Int64Index, pd.RangeIndex)):\n",
      "/opt/anaconda3/lib/python3.9/site-packages/xgboost/data.py:250: FutureWarning: pandas.Int64Index is deprecated and will be removed from pandas in a future version. Use pandas.Index with the appropriate dtype instead.\n",
      "  elif isinstance(data.columns, (pd.Int64Index, pd.RangeIndex)):\n",
      "/opt/anaconda3/lib/python3.9/site-packages/xgboost/data.py:250: FutureWarning: pandas.Int64Index is deprecated and will be removed from pandas in a future version. Use pandas.Index with the appropriate dtype instead.\n",
      "  elif isinstance(data.columns, (pd.Int64Index, pd.RangeIndex)):\n",
      "/opt/anaconda3/lib/python3.9/site-packages/xgboost/data.py:250: FutureWarning: pandas.Int64Index is deprecated and will be removed from pandas in a future version. Use pandas.Index with the appropriate dtype instead.\n",
      "  elif isinstance(data.columns, (pd.Int64Index, pd.RangeIndex)):\n",
      "/opt/anaconda3/lib/python3.9/site-packages/xgboost/data.py:250: FutureWarning: pandas.Int64Index is deprecated and will be removed from pandas in a future version. Use pandas.Index with the appropriate dtype instead.\n",
      "  elif isinstance(data.columns, (pd.Int64Index, pd.RangeIndex)):\n",
      "/opt/anaconda3/lib/python3.9/site-packages/xgboost/data.py:250: FutureWarning: pandas.Int64Index is deprecated and will be removed from pandas in a future version. Use pandas.Index with the appropriate dtype instead.\n",
      "  elif isinstance(data.columns, (pd.Int64Index, pd.RangeIndex)):\n",
      "/opt/anaconda3/lib/python3.9/site-packages/xgboost/data.py:250: FutureWarning: pandas.Int64Index is deprecated and will be removed from pandas in a future version. Use pandas.Index with the appropriate dtype instead.\n",
      "  elif isinstance(data.columns, (pd.Int64Index, pd.RangeIndex)):\n",
      "/opt/anaconda3/lib/python3.9/site-packages/xgboost/data.py:250: FutureWarning: pandas.Int64Index is deprecated and will be removed from pandas in a future version. Use pandas.Index with the appropriate dtype instead.\n",
      "  elif isinstance(data.columns, (pd.Int64Index, pd.RangeIndex)):\n",
      "/opt/anaconda3/lib/python3.9/site-packages/xgboost/data.py:250: FutureWarning: pandas.Int64Index is deprecated and will be removed from pandas in a future version. Use pandas.Index with the appropriate dtype instead.\n",
      "  elif isinstance(data.columns, (pd.Int64Index, pd.RangeIndex)):\n",
      "/opt/anaconda3/lib/python3.9/site-packages/xgboost/data.py:250: FutureWarning: pandas.Int64Index is deprecated and will be removed from pandas in a future version. Use pandas.Index with the appropriate dtype instead.\n",
      "  elif isinstance(data.columns, (pd.Int64Index, pd.RangeIndex)):\n",
      "/opt/anaconda3/lib/python3.9/site-packages/xgboost/data.py:250: FutureWarning: pandas.Int64Index is deprecated and will be removed from pandas in a future version. Use pandas.Index with the appropriate dtype instead.\n",
      "  elif isinstance(data.columns, (pd.Int64Index, pd.RangeIndex)):\n",
      "/opt/anaconda3/lib/python3.9/site-packages/xgboost/data.py:250: FutureWarning: pandas.Int64Index is deprecated and will be removed from pandas in a future version. Use pandas.Index with the appropriate dtype instead.\n",
      "  elif isinstance(data.columns, (pd.Int64Index, pd.RangeIndex)):\n"
     ]
    },
    {
     "name": "stderr",
     "output_type": "stream",
     "text": [
      "/opt/anaconda3/lib/python3.9/site-packages/xgboost/data.py:250: FutureWarning: pandas.Int64Index is deprecated and will be removed from pandas in a future version. Use pandas.Index with the appropriate dtype instead.\n",
      "  elif isinstance(data.columns, (pd.Int64Index, pd.RangeIndex)):\n",
      "/opt/anaconda3/lib/python3.9/site-packages/xgboost/data.py:250: FutureWarning: pandas.Int64Index is deprecated and will be removed from pandas in a future version. Use pandas.Index with the appropriate dtype instead.\n",
      "  elif isinstance(data.columns, (pd.Int64Index, pd.RangeIndex)):\n",
      "/opt/anaconda3/lib/python3.9/site-packages/xgboost/data.py:250: FutureWarning: pandas.Int64Index is deprecated and will be removed from pandas in a future version. Use pandas.Index with the appropriate dtype instead.\n",
      "  elif isinstance(data.columns, (pd.Int64Index, pd.RangeIndex)):\n",
      "/opt/anaconda3/lib/python3.9/site-packages/xgboost/data.py:250: FutureWarning: pandas.Int64Index is deprecated and will be removed from pandas in a future version. Use pandas.Index with the appropriate dtype instead.\n",
      "  elif isinstance(data.columns, (pd.Int64Index, pd.RangeIndex)):\n",
      "/opt/anaconda3/lib/python3.9/site-packages/xgboost/data.py:250: FutureWarning: pandas.Int64Index is deprecated and will be removed from pandas in a future version. Use pandas.Index with the appropriate dtype instead.\n",
      "  elif isinstance(data.columns, (pd.Int64Index, pd.RangeIndex)):\n",
      "/opt/anaconda3/lib/python3.9/site-packages/xgboost/data.py:250: FutureWarning: pandas.Int64Index is deprecated and will be removed from pandas in a future version. Use pandas.Index with the appropriate dtype instead.\n",
      "  elif isinstance(data.columns, (pd.Int64Index, pd.RangeIndex)):\n",
      "/opt/anaconda3/lib/python3.9/site-packages/xgboost/data.py:250: FutureWarning: pandas.Int64Index is deprecated and will be removed from pandas in a future version. Use pandas.Index with the appropriate dtype instead.\n",
      "  elif isinstance(data.columns, (pd.Int64Index, pd.RangeIndex)):\n",
      "/opt/anaconda3/lib/python3.9/site-packages/xgboost/data.py:250: FutureWarning: pandas.Int64Index is deprecated and will be removed from pandas in a future version. Use pandas.Index with the appropriate dtype instead.\n",
      "  elif isinstance(data.columns, (pd.Int64Index, pd.RangeIndex)):\n",
      "/opt/anaconda3/lib/python3.9/site-packages/xgboost/data.py:250: FutureWarning: pandas.Int64Index is deprecated and will be removed from pandas in a future version. Use pandas.Index with the appropriate dtype instead.\n",
      "  elif isinstance(data.columns, (pd.Int64Index, pd.RangeIndex)):\n",
      "/opt/anaconda3/lib/python3.9/site-packages/xgboost/data.py:250: FutureWarning: pandas.Int64Index is deprecated and will be removed from pandas in a future version. Use pandas.Index with the appropriate dtype instead.\n",
      "  elif isinstance(data.columns, (pd.Int64Index, pd.RangeIndex)):\n",
      "/opt/anaconda3/lib/python3.9/site-packages/xgboost/data.py:250: FutureWarning: pandas.Int64Index is deprecated and will be removed from pandas in a future version. Use pandas.Index with the appropriate dtype instead.\n",
      "  elif isinstance(data.columns, (pd.Int64Index, pd.RangeIndex)):\n",
      "/opt/anaconda3/lib/python3.9/site-packages/xgboost/data.py:250: FutureWarning: pandas.Int64Index is deprecated and will be removed from pandas in a future version. Use pandas.Index with the appropriate dtype instead.\n",
      "  elif isinstance(data.columns, (pd.Int64Index, pd.RangeIndex)):\n",
      "/opt/anaconda3/lib/python3.9/site-packages/xgboost/data.py:250: FutureWarning: pandas.Int64Index is deprecated and will be removed from pandas in a future version. Use pandas.Index with the appropriate dtype instead.\n",
      "  elif isinstance(data.columns, (pd.Int64Index, pd.RangeIndex)):\n",
      "/opt/anaconda3/lib/python3.9/site-packages/xgboost/data.py:250: FutureWarning: pandas.Int64Index is deprecated and will be removed from pandas in a future version. Use pandas.Index with the appropriate dtype instead.\n",
      "  elif isinstance(data.columns, (pd.Int64Index, pd.RangeIndex)):\n",
      "/opt/anaconda3/lib/python3.9/site-packages/xgboost/data.py:250: FutureWarning: pandas.Int64Index is deprecated and will be removed from pandas in a future version. Use pandas.Index with the appropriate dtype instead.\n",
      "  elif isinstance(data.columns, (pd.Int64Index, pd.RangeIndex)):\n",
      "/opt/anaconda3/lib/python3.9/site-packages/xgboost/data.py:250: FutureWarning: pandas.Int64Index is deprecated and will be removed from pandas in a future version. Use pandas.Index with the appropriate dtype instead.\n",
      "  elif isinstance(data.columns, (pd.Int64Index, pd.RangeIndex)):\n",
      "/opt/anaconda3/lib/python3.9/site-packages/xgboost/data.py:250: FutureWarning: pandas.Int64Index is deprecated and will be removed from pandas in a future version. Use pandas.Index with the appropriate dtype instead.\n",
      "  elif isinstance(data.columns, (pd.Int64Index, pd.RangeIndex)):\n",
      "/opt/anaconda3/lib/python3.9/site-packages/xgboost/data.py:250: FutureWarning: pandas.Int64Index is deprecated and will be removed from pandas in a future version. Use pandas.Index with the appropriate dtype instead.\n",
      "  elif isinstance(data.columns, (pd.Int64Index, pd.RangeIndex)):\n",
      "/opt/anaconda3/lib/python3.9/site-packages/xgboost/data.py:250: FutureWarning: pandas.Int64Index is deprecated and will be removed from pandas in a future version. Use pandas.Index with the appropriate dtype instead.\n",
      "  elif isinstance(data.columns, (pd.Int64Index, pd.RangeIndex)):\n",
      "/opt/anaconda3/lib/python3.9/site-packages/xgboost/data.py:250: FutureWarning: pandas.Int64Index is deprecated and will be removed from pandas in a future version. Use pandas.Index with the appropriate dtype instead.\n",
      "  elif isinstance(data.columns, (pd.Int64Index, pd.RangeIndex)):\n",
      "/opt/anaconda3/lib/python3.9/site-packages/xgboost/data.py:250: FutureWarning: pandas.Int64Index is deprecated and will be removed from pandas in a future version. Use pandas.Index with the appropriate dtype instead.\n",
      "  elif isinstance(data.columns, (pd.Int64Index, pd.RangeIndex)):\n",
      "/opt/anaconda3/lib/python3.9/site-packages/xgboost/data.py:250: FutureWarning: pandas.Int64Index is deprecated and will be removed from pandas in a future version. Use pandas.Index with the appropriate dtype instead.\n",
      "  elif isinstance(data.columns, (pd.Int64Index, pd.RangeIndex)):\n",
      "/opt/anaconda3/lib/python3.9/site-packages/xgboost/data.py:250: FutureWarning: pandas.Int64Index is deprecated and will be removed from pandas in a future version. Use pandas.Index with the appropriate dtype instead.\n",
      "  elif isinstance(data.columns, (pd.Int64Index, pd.RangeIndex)):\n",
      "/opt/anaconda3/lib/python3.9/site-packages/xgboost/data.py:250: FutureWarning: pandas.Int64Index is deprecated and will be removed from pandas in a future version. Use pandas.Index with the appropriate dtype instead.\n",
      "  elif isinstance(data.columns, (pd.Int64Index, pd.RangeIndex)):\n",
      "/opt/anaconda3/lib/python3.9/site-packages/xgboost/data.py:250: FutureWarning: pandas.Int64Index is deprecated and will be removed from pandas in a future version. Use pandas.Index with the appropriate dtype instead.\n",
      "  elif isinstance(data.columns, (pd.Int64Index, pd.RangeIndex)):\n",
      "/opt/anaconda3/lib/python3.9/site-packages/xgboost/data.py:250: FutureWarning: pandas.Int64Index is deprecated and will be removed from pandas in a future version. Use pandas.Index with the appropriate dtype instead.\n",
      "  elif isinstance(data.columns, (pd.Int64Index, pd.RangeIndex)):\n",
      "/opt/anaconda3/lib/python3.9/site-packages/xgboost/data.py:250: FutureWarning: pandas.Int64Index is deprecated and will be removed from pandas in a future version. Use pandas.Index with the appropriate dtype instead.\n",
      "  elif isinstance(data.columns, (pd.Int64Index, pd.RangeIndex)):\n",
      "/opt/anaconda3/lib/python3.9/site-packages/xgboost/data.py:250: FutureWarning: pandas.Int64Index is deprecated and will be removed from pandas in a future version. Use pandas.Index with the appropriate dtype instead.\n",
      "  elif isinstance(data.columns, (pd.Int64Index, pd.RangeIndex)):\n",
      "/opt/anaconda3/lib/python3.9/site-packages/xgboost/data.py:250: FutureWarning: pandas.Int64Index is deprecated and will be removed from pandas in a future version. Use pandas.Index with the appropriate dtype instead.\n",
      "  elif isinstance(data.columns, (pd.Int64Index, pd.RangeIndex)):\n",
      "/opt/anaconda3/lib/python3.9/site-packages/xgboost/data.py:250: FutureWarning: pandas.Int64Index is deprecated and will be removed from pandas in a future version. Use pandas.Index with the appropriate dtype instead.\n",
      "  elif isinstance(data.columns, (pd.Int64Index, pd.RangeIndex)):\n"
     ]
    },
    {
     "name": "stderr",
     "output_type": "stream",
     "text": [
      "/opt/anaconda3/lib/python3.9/site-packages/xgboost/data.py:250: FutureWarning: pandas.Int64Index is deprecated and will be removed from pandas in a future version. Use pandas.Index with the appropriate dtype instead.\n",
      "  elif isinstance(data.columns, (pd.Int64Index, pd.RangeIndex)):\n",
      "/opt/anaconda3/lib/python3.9/site-packages/xgboost/data.py:250: FutureWarning: pandas.Int64Index is deprecated and will be removed from pandas in a future version. Use pandas.Index with the appropriate dtype instead.\n",
      "  elif isinstance(data.columns, (pd.Int64Index, pd.RangeIndex)):\n",
      "/opt/anaconda3/lib/python3.9/site-packages/xgboost/data.py:250: FutureWarning: pandas.Int64Index is deprecated and will be removed from pandas in a future version. Use pandas.Index with the appropriate dtype instead.\n",
      "  elif isinstance(data.columns, (pd.Int64Index, pd.RangeIndex)):\n",
      "/opt/anaconda3/lib/python3.9/site-packages/xgboost/data.py:250: FutureWarning: pandas.Int64Index is deprecated and will be removed from pandas in a future version. Use pandas.Index with the appropriate dtype instead.\n",
      "  elif isinstance(data.columns, (pd.Int64Index, pd.RangeIndex)):\n",
      "/opt/anaconda3/lib/python3.9/site-packages/xgboost/data.py:250: FutureWarning: pandas.Int64Index is deprecated and will be removed from pandas in a future version. Use pandas.Index with the appropriate dtype instead.\n",
      "  elif isinstance(data.columns, (pd.Int64Index, pd.RangeIndex)):\n",
      "/opt/anaconda3/lib/python3.9/site-packages/xgboost/data.py:250: FutureWarning: pandas.Int64Index is deprecated and will be removed from pandas in a future version. Use pandas.Index with the appropriate dtype instead.\n",
      "  elif isinstance(data.columns, (pd.Int64Index, pd.RangeIndex)):\n",
      "/opt/anaconda3/lib/python3.9/site-packages/xgboost/data.py:250: FutureWarning: pandas.Int64Index is deprecated and will be removed from pandas in a future version. Use pandas.Index with the appropriate dtype instead.\n",
      "  elif isinstance(data.columns, (pd.Int64Index, pd.RangeIndex)):\n",
      "/opt/anaconda3/lib/python3.9/site-packages/xgboost/data.py:250: FutureWarning: pandas.Int64Index is deprecated and will be removed from pandas in a future version. Use pandas.Index with the appropriate dtype instead.\n",
      "  elif isinstance(data.columns, (pd.Int64Index, pd.RangeIndex)):\n",
      "/opt/anaconda3/lib/python3.9/site-packages/xgboost/data.py:250: FutureWarning: pandas.Int64Index is deprecated and will be removed from pandas in a future version. Use pandas.Index with the appropriate dtype instead.\n",
      "  elif isinstance(data.columns, (pd.Int64Index, pd.RangeIndex)):\n",
      "/opt/anaconda3/lib/python3.9/site-packages/xgboost/data.py:250: FutureWarning: pandas.Int64Index is deprecated and will be removed from pandas in a future version. Use pandas.Index with the appropriate dtype instead.\n",
      "  elif isinstance(data.columns, (pd.Int64Index, pd.RangeIndex)):\n",
      "/opt/anaconda3/lib/python3.9/site-packages/xgboost/data.py:250: FutureWarning: pandas.Int64Index is deprecated and will be removed from pandas in a future version. Use pandas.Index with the appropriate dtype instead.\n",
      "  elif isinstance(data.columns, (pd.Int64Index, pd.RangeIndex)):\n",
      "/opt/anaconda3/lib/python3.9/site-packages/xgboost/data.py:250: FutureWarning: pandas.Int64Index is deprecated and will be removed from pandas in a future version. Use pandas.Index with the appropriate dtype instead.\n",
      "  elif isinstance(data.columns, (pd.Int64Index, pd.RangeIndex)):\n",
      "/opt/anaconda3/lib/python3.9/site-packages/xgboost/data.py:250: FutureWarning: pandas.Int64Index is deprecated and will be removed from pandas in a future version. Use pandas.Index with the appropriate dtype instead.\n",
      "  elif isinstance(data.columns, (pd.Int64Index, pd.RangeIndex)):\n",
      "/opt/anaconda3/lib/python3.9/site-packages/xgboost/data.py:250: FutureWarning: pandas.Int64Index is deprecated and will be removed from pandas in a future version. Use pandas.Index with the appropriate dtype instead.\n",
      "  elif isinstance(data.columns, (pd.Int64Index, pd.RangeIndex)):\n",
      "/opt/anaconda3/lib/python3.9/site-packages/xgboost/data.py:250: FutureWarning: pandas.Int64Index is deprecated and will be removed from pandas in a future version. Use pandas.Index with the appropriate dtype instead.\n",
      "  elif isinstance(data.columns, (pd.Int64Index, pd.RangeIndex)):\n",
      "/opt/anaconda3/lib/python3.9/site-packages/xgboost/data.py:250: FutureWarning: pandas.Int64Index is deprecated and will be removed from pandas in a future version. Use pandas.Index with the appropriate dtype instead.\n",
      "  elif isinstance(data.columns, (pd.Int64Index, pd.RangeIndex)):\n",
      "/opt/anaconda3/lib/python3.9/site-packages/xgboost/data.py:250: FutureWarning: pandas.Int64Index is deprecated and will be removed from pandas in a future version. Use pandas.Index with the appropriate dtype instead.\n",
      "  elif isinstance(data.columns, (pd.Int64Index, pd.RangeIndex)):\n",
      "/opt/anaconda3/lib/python3.9/site-packages/xgboost/data.py:250: FutureWarning: pandas.Int64Index is deprecated and will be removed from pandas in a future version. Use pandas.Index with the appropriate dtype instead.\n",
      "  elif isinstance(data.columns, (pd.Int64Index, pd.RangeIndex)):\n",
      "/opt/anaconda3/lib/python3.9/site-packages/xgboost/data.py:250: FutureWarning: pandas.Int64Index is deprecated and will be removed from pandas in a future version. Use pandas.Index with the appropriate dtype instead.\n",
      "  elif isinstance(data.columns, (pd.Int64Index, pd.RangeIndex)):\n",
      "/opt/anaconda3/lib/python3.9/site-packages/xgboost/data.py:250: FutureWarning: pandas.Int64Index is deprecated and will be removed from pandas in a future version. Use pandas.Index with the appropriate dtype instead.\n",
      "  elif isinstance(data.columns, (pd.Int64Index, pd.RangeIndex)):\n",
      "/opt/anaconda3/lib/python3.9/site-packages/xgboost/data.py:250: FutureWarning: pandas.Int64Index is deprecated and will be removed from pandas in a future version. Use pandas.Index with the appropriate dtype instead.\n",
      "  elif isinstance(data.columns, (pd.Int64Index, pd.RangeIndex)):\n",
      "/opt/anaconda3/lib/python3.9/site-packages/xgboost/data.py:250: FutureWarning: pandas.Int64Index is deprecated and will be removed from pandas in a future version. Use pandas.Index with the appropriate dtype instead.\n",
      "  elif isinstance(data.columns, (pd.Int64Index, pd.RangeIndex)):\n",
      "/opt/anaconda3/lib/python3.9/site-packages/xgboost/data.py:250: FutureWarning: pandas.Int64Index is deprecated and will be removed from pandas in a future version. Use pandas.Index with the appropriate dtype instead.\n",
      "  elif isinstance(data.columns, (pd.Int64Index, pd.RangeIndex)):\n",
      "/opt/anaconda3/lib/python3.9/site-packages/xgboost/data.py:250: FutureWarning: pandas.Int64Index is deprecated and will be removed from pandas in a future version. Use pandas.Index with the appropriate dtype instead.\n",
      "  elif isinstance(data.columns, (pd.Int64Index, pd.RangeIndex)):\n",
      "/opt/anaconda3/lib/python3.9/site-packages/xgboost/data.py:250: FutureWarning: pandas.Int64Index is deprecated and will be removed from pandas in a future version. Use pandas.Index with the appropriate dtype instead.\n",
      "  elif isinstance(data.columns, (pd.Int64Index, pd.RangeIndex)):\n",
      "/opt/anaconda3/lib/python3.9/site-packages/xgboost/data.py:250: FutureWarning: pandas.Int64Index is deprecated and will be removed from pandas in a future version. Use pandas.Index with the appropriate dtype instead.\n",
      "  elif isinstance(data.columns, (pd.Int64Index, pd.RangeIndex)):\n",
      "/opt/anaconda3/lib/python3.9/site-packages/xgboost/data.py:250: FutureWarning: pandas.Int64Index is deprecated and will be removed from pandas in a future version. Use pandas.Index with the appropriate dtype instead.\n",
      "  elif isinstance(data.columns, (pd.Int64Index, pd.RangeIndex)):\n",
      "/opt/anaconda3/lib/python3.9/site-packages/xgboost/data.py:250: FutureWarning: pandas.Int64Index is deprecated and will be removed from pandas in a future version. Use pandas.Index with the appropriate dtype instead.\n",
      "  elif isinstance(data.columns, (pd.Int64Index, pd.RangeIndex)):\n",
      "/opt/anaconda3/lib/python3.9/site-packages/xgboost/data.py:250: FutureWarning: pandas.Int64Index is deprecated and will be removed from pandas in a future version. Use pandas.Index with the appropriate dtype instead.\n",
      "  elif isinstance(data.columns, (pd.Int64Index, pd.RangeIndex)):\n",
      "/opt/anaconda3/lib/python3.9/site-packages/xgboost/data.py:250: FutureWarning: pandas.Int64Index is deprecated and will be removed from pandas in a future version. Use pandas.Index with the appropriate dtype instead.\n",
      "  elif isinstance(data.columns, (pd.Int64Index, pd.RangeIndex)):\n"
     ]
    },
    {
     "name": "stderr",
     "output_type": "stream",
     "text": [
      "/opt/anaconda3/lib/python3.9/site-packages/xgboost/data.py:250: FutureWarning: pandas.Int64Index is deprecated and will be removed from pandas in a future version. Use pandas.Index with the appropriate dtype instead.\n",
      "  elif isinstance(data.columns, (pd.Int64Index, pd.RangeIndex)):\n",
      "/opt/anaconda3/lib/python3.9/site-packages/xgboost/data.py:250: FutureWarning: pandas.Int64Index is deprecated and will be removed from pandas in a future version. Use pandas.Index with the appropriate dtype instead.\n",
      "  elif isinstance(data.columns, (pd.Int64Index, pd.RangeIndex)):\n",
      "/opt/anaconda3/lib/python3.9/site-packages/xgboost/data.py:250: FutureWarning: pandas.Int64Index is deprecated and will be removed from pandas in a future version. Use pandas.Index with the appropriate dtype instead.\n",
      "  elif isinstance(data.columns, (pd.Int64Index, pd.RangeIndex)):\n",
      "/opt/anaconda3/lib/python3.9/site-packages/xgboost/data.py:250: FutureWarning: pandas.Int64Index is deprecated and will be removed from pandas in a future version. Use pandas.Index with the appropriate dtype instead.\n",
      "  elif isinstance(data.columns, (pd.Int64Index, pd.RangeIndex)):\n",
      "/opt/anaconda3/lib/python3.9/site-packages/xgboost/data.py:250: FutureWarning: pandas.Int64Index is deprecated and will be removed from pandas in a future version. Use pandas.Index with the appropriate dtype instead.\n",
      "  elif isinstance(data.columns, (pd.Int64Index, pd.RangeIndex)):\n",
      "/opt/anaconda3/lib/python3.9/site-packages/xgboost/data.py:250: FutureWarning: pandas.Int64Index is deprecated and will be removed from pandas in a future version. Use pandas.Index with the appropriate dtype instead.\n",
      "  elif isinstance(data.columns, (pd.Int64Index, pd.RangeIndex)):\n",
      "/opt/anaconda3/lib/python3.9/site-packages/xgboost/data.py:250: FutureWarning: pandas.Int64Index is deprecated and will be removed from pandas in a future version. Use pandas.Index with the appropriate dtype instead.\n",
      "  elif isinstance(data.columns, (pd.Int64Index, pd.RangeIndex)):\n",
      "/opt/anaconda3/lib/python3.9/site-packages/xgboost/data.py:250: FutureWarning: pandas.Int64Index is deprecated and will be removed from pandas in a future version. Use pandas.Index with the appropriate dtype instead.\n",
      "  elif isinstance(data.columns, (pd.Int64Index, pd.RangeIndex)):\n",
      "/opt/anaconda3/lib/python3.9/site-packages/xgboost/data.py:250: FutureWarning: pandas.Int64Index is deprecated and will be removed from pandas in a future version. Use pandas.Index with the appropriate dtype instead.\n",
      "  elif isinstance(data.columns, (pd.Int64Index, pd.RangeIndex)):\n",
      "/opt/anaconda3/lib/python3.9/site-packages/xgboost/data.py:250: FutureWarning: pandas.Int64Index is deprecated and will be removed from pandas in a future version. Use pandas.Index with the appropriate dtype instead.\n",
      "  elif isinstance(data.columns, (pd.Int64Index, pd.RangeIndex)):\n",
      "/opt/anaconda3/lib/python3.9/site-packages/xgboost/data.py:250: FutureWarning: pandas.Int64Index is deprecated and will be removed from pandas in a future version. Use pandas.Index with the appropriate dtype instead.\n",
      "  elif isinstance(data.columns, (pd.Int64Index, pd.RangeIndex)):\n",
      "/opt/anaconda3/lib/python3.9/site-packages/xgboost/data.py:250: FutureWarning: pandas.Int64Index is deprecated and will be removed from pandas in a future version. Use pandas.Index with the appropriate dtype instead.\n",
      "  elif isinstance(data.columns, (pd.Int64Index, pd.RangeIndex)):\n",
      "/opt/anaconda3/lib/python3.9/site-packages/xgboost/data.py:250: FutureWarning: pandas.Int64Index is deprecated and will be removed from pandas in a future version. Use pandas.Index with the appropriate dtype instead.\n",
      "  elif isinstance(data.columns, (pd.Int64Index, pd.RangeIndex)):\n",
      "/opt/anaconda3/lib/python3.9/site-packages/xgboost/data.py:250: FutureWarning: pandas.Int64Index is deprecated and will be removed from pandas in a future version. Use pandas.Index with the appropriate dtype instead.\n",
      "  elif isinstance(data.columns, (pd.Int64Index, pd.RangeIndex)):\n",
      "/opt/anaconda3/lib/python3.9/site-packages/xgboost/data.py:250: FutureWarning: pandas.Int64Index is deprecated and will be removed from pandas in a future version. Use pandas.Index with the appropriate dtype instead.\n",
      "  elif isinstance(data.columns, (pd.Int64Index, pd.RangeIndex)):\n",
      "/opt/anaconda3/lib/python3.9/site-packages/xgboost/data.py:250: FutureWarning: pandas.Int64Index is deprecated and will be removed from pandas in a future version. Use pandas.Index with the appropriate dtype instead.\n",
      "  elif isinstance(data.columns, (pd.Int64Index, pd.RangeIndex)):\n",
      "/opt/anaconda3/lib/python3.9/site-packages/xgboost/data.py:250: FutureWarning: pandas.Int64Index is deprecated and will be removed from pandas in a future version. Use pandas.Index with the appropriate dtype instead.\n",
      "  elif isinstance(data.columns, (pd.Int64Index, pd.RangeIndex)):\n",
      "/opt/anaconda3/lib/python3.9/site-packages/xgboost/data.py:250: FutureWarning: pandas.Int64Index is deprecated and will be removed from pandas in a future version. Use pandas.Index with the appropriate dtype instead.\n",
      "  elif isinstance(data.columns, (pd.Int64Index, pd.RangeIndex)):\n",
      "/opt/anaconda3/lib/python3.9/site-packages/xgboost/data.py:250: FutureWarning: pandas.Int64Index is deprecated and will be removed from pandas in a future version. Use pandas.Index with the appropriate dtype instead.\n",
      "  elif isinstance(data.columns, (pd.Int64Index, pd.RangeIndex)):\n",
      "/opt/anaconda3/lib/python3.9/site-packages/xgboost/data.py:250: FutureWarning: pandas.Int64Index is deprecated and will be removed from pandas in a future version. Use pandas.Index with the appropriate dtype instead.\n",
      "  elif isinstance(data.columns, (pd.Int64Index, pd.RangeIndex)):\n",
      "/opt/anaconda3/lib/python3.9/site-packages/xgboost/data.py:250: FutureWarning: pandas.Int64Index is deprecated and will be removed from pandas in a future version. Use pandas.Index with the appropriate dtype instead.\n",
      "  elif isinstance(data.columns, (pd.Int64Index, pd.RangeIndex)):\n",
      "/opt/anaconda3/lib/python3.9/site-packages/xgboost/data.py:250: FutureWarning: pandas.Int64Index is deprecated and will be removed from pandas in a future version. Use pandas.Index with the appropriate dtype instead.\n",
      "  elif isinstance(data.columns, (pd.Int64Index, pd.RangeIndex)):\n",
      "/opt/anaconda3/lib/python3.9/site-packages/xgboost/data.py:250: FutureWarning: pandas.Int64Index is deprecated and will be removed from pandas in a future version. Use pandas.Index with the appropriate dtype instead.\n",
      "  elif isinstance(data.columns, (pd.Int64Index, pd.RangeIndex)):\n",
      "/opt/anaconda3/lib/python3.9/site-packages/xgboost/data.py:250: FutureWarning: pandas.Int64Index is deprecated and will be removed from pandas in a future version. Use pandas.Index with the appropriate dtype instead.\n",
      "  elif isinstance(data.columns, (pd.Int64Index, pd.RangeIndex)):\n",
      "/opt/anaconda3/lib/python3.9/site-packages/xgboost/data.py:250: FutureWarning: pandas.Int64Index is deprecated and will be removed from pandas in a future version. Use pandas.Index with the appropriate dtype instead.\n",
      "  elif isinstance(data.columns, (pd.Int64Index, pd.RangeIndex)):\n",
      "/opt/anaconda3/lib/python3.9/site-packages/xgboost/data.py:250: FutureWarning: pandas.Int64Index is deprecated and will be removed from pandas in a future version. Use pandas.Index with the appropriate dtype instead.\n",
      "  elif isinstance(data.columns, (pd.Int64Index, pd.RangeIndex)):\n",
      "/opt/anaconda3/lib/python3.9/site-packages/xgboost/data.py:250: FutureWarning: pandas.Int64Index is deprecated and will be removed from pandas in a future version. Use pandas.Index with the appropriate dtype instead.\n",
      "  elif isinstance(data.columns, (pd.Int64Index, pd.RangeIndex)):\n",
      "/opt/anaconda3/lib/python3.9/site-packages/xgboost/data.py:250: FutureWarning: pandas.Int64Index is deprecated and will be removed from pandas in a future version. Use pandas.Index with the appropriate dtype instead.\n",
      "  elif isinstance(data.columns, (pd.Int64Index, pd.RangeIndex)):\n",
      "/opt/anaconda3/lib/python3.9/site-packages/xgboost/data.py:250: FutureWarning: pandas.Int64Index is deprecated and will be removed from pandas in a future version. Use pandas.Index with the appropriate dtype instead.\n",
      "  elif isinstance(data.columns, (pd.Int64Index, pd.RangeIndex)):\n",
      "/opt/anaconda3/lib/python3.9/site-packages/xgboost/data.py:250: FutureWarning: pandas.Int64Index is deprecated and will be removed from pandas in a future version. Use pandas.Index with the appropriate dtype instead.\n",
      "  elif isinstance(data.columns, (pd.Int64Index, pd.RangeIndex)):\n"
     ]
    },
    {
     "name": "stderr",
     "output_type": "stream",
     "text": [
      "/opt/anaconda3/lib/python3.9/site-packages/xgboost/data.py:250: FutureWarning: pandas.Int64Index is deprecated and will be removed from pandas in a future version. Use pandas.Index with the appropriate dtype instead.\n",
      "  elif isinstance(data.columns, (pd.Int64Index, pd.RangeIndex)):\n",
      "/opt/anaconda3/lib/python3.9/site-packages/xgboost/data.py:250: FutureWarning: pandas.Int64Index is deprecated and will be removed from pandas in a future version. Use pandas.Index with the appropriate dtype instead.\n",
      "  elif isinstance(data.columns, (pd.Int64Index, pd.RangeIndex)):\n",
      "/opt/anaconda3/lib/python3.9/site-packages/xgboost/data.py:250: FutureWarning: pandas.Int64Index is deprecated and will be removed from pandas in a future version. Use pandas.Index with the appropriate dtype instead.\n",
      "  elif isinstance(data.columns, (pd.Int64Index, pd.RangeIndex)):\n",
      "/opt/anaconda3/lib/python3.9/site-packages/xgboost/data.py:250: FutureWarning: pandas.Int64Index is deprecated and will be removed from pandas in a future version. Use pandas.Index with the appropriate dtype instead.\n",
      "  elif isinstance(data.columns, (pd.Int64Index, pd.RangeIndex)):\n",
      "/opt/anaconda3/lib/python3.9/site-packages/xgboost/data.py:250: FutureWarning: pandas.Int64Index is deprecated and will be removed from pandas in a future version. Use pandas.Index with the appropriate dtype instead.\n",
      "  elif isinstance(data.columns, (pd.Int64Index, pd.RangeIndex)):\n",
      "/opt/anaconda3/lib/python3.9/site-packages/xgboost/data.py:250: FutureWarning: pandas.Int64Index is deprecated and will be removed from pandas in a future version. Use pandas.Index with the appropriate dtype instead.\n",
      "  elif isinstance(data.columns, (pd.Int64Index, pd.RangeIndex)):\n",
      "/opt/anaconda3/lib/python3.9/site-packages/xgboost/data.py:250: FutureWarning: pandas.Int64Index is deprecated and will be removed from pandas in a future version. Use pandas.Index with the appropriate dtype instead.\n",
      "  elif isinstance(data.columns, (pd.Int64Index, pd.RangeIndex)):\n",
      "/opt/anaconda3/lib/python3.9/site-packages/xgboost/data.py:250: FutureWarning: pandas.Int64Index is deprecated and will be removed from pandas in a future version. Use pandas.Index with the appropriate dtype instead.\n",
      "  elif isinstance(data.columns, (pd.Int64Index, pd.RangeIndex)):\n",
      "/opt/anaconda3/lib/python3.9/site-packages/xgboost/data.py:250: FutureWarning: pandas.Int64Index is deprecated and will be removed from pandas in a future version. Use pandas.Index with the appropriate dtype instead.\n",
      "  elif isinstance(data.columns, (pd.Int64Index, pd.RangeIndex)):\n",
      "/opt/anaconda3/lib/python3.9/site-packages/xgboost/data.py:250: FutureWarning: pandas.Int64Index is deprecated and will be removed from pandas in a future version. Use pandas.Index with the appropriate dtype instead.\n",
      "  elif isinstance(data.columns, (pd.Int64Index, pd.RangeIndex)):\n",
      "/opt/anaconda3/lib/python3.9/site-packages/xgboost/data.py:250: FutureWarning: pandas.Int64Index is deprecated and will be removed from pandas in a future version. Use pandas.Index with the appropriate dtype instead.\n",
      "  elif isinstance(data.columns, (pd.Int64Index, pd.RangeIndex)):\n",
      "/opt/anaconda3/lib/python3.9/site-packages/xgboost/data.py:250: FutureWarning: pandas.Int64Index is deprecated and will be removed from pandas in a future version. Use pandas.Index with the appropriate dtype instead.\n",
      "  elif isinstance(data.columns, (pd.Int64Index, pd.RangeIndex)):\n",
      "/opt/anaconda3/lib/python3.9/site-packages/xgboost/data.py:250: FutureWarning: pandas.Int64Index is deprecated and will be removed from pandas in a future version. Use pandas.Index with the appropriate dtype instead.\n",
      "  elif isinstance(data.columns, (pd.Int64Index, pd.RangeIndex)):\n",
      "/opt/anaconda3/lib/python3.9/site-packages/xgboost/data.py:250: FutureWarning: pandas.Int64Index is deprecated and will be removed from pandas in a future version. Use pandas.Index with the appropriate dtype instead.\n",
      "  elif isinstance(data.columns, (pd.Int64Index, pd.RangeIndex)):\n",
      "/opt/anaconda3/lib/python3.9/site-packages/xgboost/data.py:250: FutureWarning: pandas.Int64Index is deprecated and will be removed from pandas in a future version. Use pandas.Index with the appropriate dtype instead.\n",
      "  elif isinstance(data.columns, (pd.Int64Index, pd.RangeIndex)):\n",
      "/opt/anaconda3/lib/python3.9/site-packages/xgboost/data.py:250: FutureWarning: pandas.Int64Index is deprecated and will be removed from pandas in a future version. Use pandas.Index with the appropriate dtype instead.\n",
      "  elif isinstance(data.columns, (pd.Int64Index, pd.RangeIndex)):\n",
      "/opt/anaconda3/lib/python3.9/site-packages/xgboost/data.py:250: FutureWarning: pandas.Int64Index is deprecated and will be removed from pandas in a future version. Use pandas.Index with the appropriate dtype instead.\n",
      "  elif isinstance(data.columns, (pd.Int64Index, pd.RangeIndex)):\n",
      "/opt/anaconda3/lib/python3.9/site-packages/xgboost/data.py:250: FutureWarning: pandas.Int64Index is deprecated and will be removed from pandas in a future version. Use pandas.Index with the appropriate dtype instead.\n",
      "  elif isinstance(data.columns, (pd.Int64Index, pd.RangeIndex)):\n",
      "/opt/anaconda3/lib/python3.9/site-packages/xgboost/data.py:250: FutureWarning: pandas.Int64Index is deprecated and will be removed from pandas in a future version. Use pandas.Index with the appropriate dtype instead.\n",
      "  elif isinstance(data.columns, (pd.Int64Index, pd.RangeIndex)):\n",
      "/opt/anaconda3/lib/python3.9/site-packages/xgboost/data.py:250: FutureWarning: pandas.Int64Index is deprecated and will be removed from pandas in a future version. Use pandas.Index with the appropriate dtype instead.\n",
      "  elif isinstance(data.columns, (pd.Int64Index, pd.RangeIndex)):\n",
      "/opt/anaconda3/lib/python3.9/site-packages/xgboost/data.py:250: FutureWarning: pandas.Int64Index is deprecated and will be removed from pandas in a future version. Use pandas.Index with the appropriate dtype instead.\n",
      "  elif isinstance(data.columns, (pd.Int64Index, pd.RangeIndex)):\n",
      "/opt/anaconda3/lib/python3.9/site-packages/xgboost/data.py:250: FutureWarning: pandas.Int64Index is deprecated and will be removed from pandas in a future version. Use pandas.Index with the appropriate dtype instead.\n",
      "  elif isinstance(data.columns, (pd.Int64Index, pd.RangeIndex)):\n",
      "/opt/anaconda3/lib/python3.9/site-packages/xgboost/data.py:250: FutureWarning: pandas.Int64Index is deprecated and will be removed from pandas in a future version. Use pandas.Index with the appropriate dtype instead.\n",
      "  elif isinstance(data.columns, (pd.Int64Index, pd.RangeIndex)):\n",
      "/opt/anaconda3/lib/python3.9/site-packages/xgboost/data.py:250: FutureWarning: pandas.Int64Index is deprecated and will be removed from pandas in a future version. Use pandas.Index with the appropriate dtype instead.\n",
      "  elif isinstance(data.columns, (pd.Int64Index, pd.RangeIndex)):\n",
      "/opt/anaconda3/lib/python3.9/site-packages/xgboost/data.py:250: FutureWarning: pandas.Int64Index is deprecated and will be removed from pandas in a future version. Use pandas.Index with the appropriate dtype instead.\n",
      "  elif isinstance(data.columns, (pd.Int64Index, pd.RangeIndex)):\n",
      "/opt/anaconda3/lib/python3.9/site-packages/xgboost/data.py:250: FutureWarning: pandas.Int64Index is deprecated and will be removed from pandas in a future version. Use pandas.Index with the appropriate dtype instead.\n",
      "  elif isinstance(data.columns, (pd.Int64Index, pd.RangeIndex)):\n",
      "/opt/anaconda3/lib/python3.9/site-packages/xgboost/data.py:250: FutureWarning: pandas.Int64Index is deprecated and will be removed from pandas in a future version. Use pandas.Index with the appropriate dtype instead.\n",
      "  elif isinstance(data.columns, (pd.Int64Index, pd.RangeIndex)):\n",
      "/opt/anaconda3/lib/python3.9/site-packages/xgboost/data.py:250: FutureWarning: pandas.Int64Index is deprecated and will be removed from pandas in a future version. Use pandas.Index with the appropriate dtype instead.\n",
      "  elif isinstance(data.columns, (pd.Int64Index, pd.RangeIndex)):\n",
      "/opt/anaconda3/lib/python3.9/site-packages/xgboost/data.py:250: FutureWarning: pandas.Int64Index is deprecated and will be removed from pandas in a future version. Use pandas.Index with the appropriate dtype instead.\n",
      "  elif isinstance(data.columns, (pd.Int64Index, pd.RangeIndex)):\n",
      "/opt/anaconda3/lib/python3.9/site-packages/xgboost/data.py:250: FutureWarning: pandas.Int64Index is deprecated and will be removed from pandas in a future version. Use pandas.Index with the appropriate dtype instead.\n",
      "  elif isinstance(data.columns, (pd.Int64Index, pd.RangeIndex)):\n"
     ]
    },
    {
     "name": "stderr",
     "output_type": "stream",
     "text": [
      "/opt/anaconda3/lib/python3.9/site-packages/xgboost/data.py:250: FutureWarning: pandas.Int64Index is deprecated and will be removed from pandas in a future version. Use pandas.Index with the appropriate dtype instead.\n",
      "  elif isinstance(data.columns, (pd.Int64Index, pd.RangeIndex)):\n",
      "/opt/anaconda3/lib/python3.9/site-packages/xgboost/data.py:250: FutureWarning: pandas.Int64Index is deprecated and will be removed from pandas in a future version. Use pandas.Index with the appropriate dtype instead.\n",
      "  elif isinstance(data.columns, (pd.Int64Index, pd.RangeIndex)):\n",
      "/opt/anaconda3/lib/python3.9/site-packages/xgboost/data.py:250: FutureWarning: pandas.Int64Index is deprecated and will be removed from pandas in a future version. Use pandas.Index with the appropriate dtype instead.\n",
      "  elif isinstance(data.columns, (pd.Int64Index, pd.RangeIndex)):\n",
      "/opt/anaconda3/lib/python3.9/site-packages/xgboost/data.py:250: FutureWarning: pandas.Int64Index is deprecated and will be removed from pandas in a future version. Use pandas.Index with the appropriate dtype instead.\n",
      "  elif isinstance(data.columns, (pd.Int64Index, pd.RangeIndex)):\n",
      "/opt/anaconda3/lib/python3.9/site-packages/xgboost/data.py:250: FutureWarning: pandas.Int64Index is deprecated and will be removed from pandas in a future version. Use pandas.Index with the appropriate dtype instead.\n",
      "  elif isinstance(data.columns, (pd.Int64Index, pd.RangeIndex)):\n",
      "/opt/anaconda3/lib/python3.9/site-packages/xgboost/data.py:250: FutureWarning: pandas.Int64Index is deprecated and will be removed from pandas in a future version. Use pandas.Index with the appropriate dtype instead.\n",
      "  elif isinstance(data.columns, (pd.Int64Index, pd.RangeIndex)):\n",
      "/opt/anaconda3/lib/python3.9/site-packages/xgboost/data.py:250: FutureWarning: pandas.Int64Index is deprecated and will be removed from pandas in a future version. Use pandas.Index with the appropriate dtype instead.\n",
      "  elif isinstance(data.columns, (pd.Int64Index, pd.RangeIndex)):\n",
      "/opt/anaconda3/lib/python3.9/site-packages/xgboost/data.py:250: FutureWarning: pandas.Int64Index is deprecated and will be removed from pandas in a future version. Use pandas.Index with the appropriate dtype instead.\n",
      "  elif isinstance(data.columns, (pd.Int64Index, pd.RangeIndex)):\n",
      "/opt/anaconda3/lib/python3.9/site-packages/xgboost/data.py:250: FutureWarning: pandas.Int64Index is deprecated and will be removed from pandas in a future version. Use pandas.Index with the appropriate dtype instead.\n",
      "  elif isinstance(data.columns, (pd.Int64Index, pd.RangeIndex)):\n",
      "/opt/anaconda3/lib/python3.9/site-packages/xgboost/data.py:250: FutureWarning: pandas.Int64Index is deprecated and will be removed from pandas in a future version. Use pandas.Index with the appropriate dtype instead.\n",
      "  elif isinstance(data.columns, (pd.Int64Index, pd.RangeIndex)):\n",
      "/opt/anaconda3/lib/python3.9/site-packages/xgboost/data.py:250: FutureWarning: pandas.Int64Index is deprecated and will be removed from pandas in a future version. Use pandas.Index with the appropriate dtype instead.\n",
      "  elif isinstance(data.columns, (pd.Int64Index, pd.RangeIndex)):\n",
      "/opt/anaconda3/lib/python3.9/site-packages/xgboost/data.py:250: FutureWarning: pandas.Int64Index is deprecated and will be removed from pandas in a future version. Use pandas.Index with the appropriate dtype instead.\n",
      "  elif isinstance(data.columns, (pd.Int64Index, pd.RangeIndex)):\n",
      "/opt/anaconda3/lib/python3.9/site-packages/xgboost/data.py:250: FutureWarning: pandas.Int64Index is deprecated and will be removed from pandas in a future version. Use pandas.Index with the appropriate dtype instead.\n",
      "  elif isinstance(data.columns, (pd.Int64Index, pd.RangeIndex)):\n",
      "/opt/anaconda3/lib/python3.9/site-packages/xgboost/data.py:250: FutureWarning: pandas.Int64Index is deprecated and will be removed from pandas in a future version. Use pandas.Index with the appropriate dtype instead.\n",
      "  elif isinstance(data.columns, (pd.Int64Index, pd.RangeIndex)):\n",
      "/opt/anaconda3/lib/python3.9/site-packages/xgboost/data.py:250: FutureWarning: pandas.Int64Index is deprecated and will be removed from pandas in a future version. Use pandas.Index with the appropriate dtype instead.\n",
      "  elif isinstance(data.columns, (pd.Int64Index, pd.RangeIndex)):\n",
      "/opt/anaconda3/lib/python3.9/site-packages/xgboost/data.py:250: FutureWarning: pandas.Int64Index is deprecated and will be removed from pandas in a future version. Use pandas.Index with the appropriate dtype instead.\n",
      "  elif isinstance(data.columns, (pd.Int64Index, pd.RangeIndex)):\n",
      "/opt/anaconda3/lib/python3.9/site-packages/xgboost/data.py:250: FutureWarning: pandas.Int64Index is deprecated and will be removed from pandas in a future version. Use pandas.Index with the appropriate dtype instead.\n",
      "  elif isinstance(data.columns, (pd.Int64Index, pd.RangeIndex)):\n",
      "/opt/anaconda3/lib/python3.9/site-packages/xgboost/data.py:250: FutureWarning: pandas.Int64Index is deprecated and will be removed from pandas in a future version. Use pandas.Index with the appropriate dtype instead.\n",
      "  elif isinstance(data.columns, (pd.Int64Index, pd.RangeIndex)):\n",
      "/opt/anaconda3/lib/python3.9/site-packages/xgboost/data.py:250: FutureWarning: pandas.Int64Index is deprecated and will be removed from pandas in a future version. Use pandas.Index with the appropriate dtype instead.\n",
      "  elif isinstance(data.columns, (pd.Int64Index, pd.RangeIndex)):\n",
      "/opt/anaconda3/lib/python3.9/site-packages/xgboost/data.py:250: FutureWarning: pandas.Int64Index is deprecated and will be removed from pandas in a future version. Use pandas.Index with the appropriate dtype instead.\n",
      "  elif isinstance(data.columns, (pd.Int64Index, pd.RangeIndex)):\n",
      "/opt/anaconda3/lib/python3.9/site-packages/xgboost/data.py:250: FutureWarning: pandas.Int64Index is deprecated and will be removed from pandas in a future version. Use pandas.Index with the appropriate dtype instead.\n",
      "  elif isinstance(data.columns, (pd.Int64Index, pd.RangeIndex)):\n",
      "/opt/anaconda3/lib/python3.9/site-packages/xgboost/data.py:250: FutureWarning: pandas.Int64Index is deprecated and will be removed from pandas in a future version. Use pandas.Index with the appropriate dtype instead.\n",
      "  elif isinstance(data.columns, (pd.Int64Index, pd.RangeIndex)):\n",
      "/opt/anaconda3/lib/python3.9/site-packages/xgboost/data.py:250: FutureWarning: pandas.Int64Index is deprecated and will be removed from pandas in a future version. Use pandas.Index with the appropriate dtype instead.\n",
      "  elif isinstance(data.columns, (pd.Int64Index, pd.RangeIndex)):\n",
      "/opt/anaconda3/lib/python3.9/site-packages/xgboost/data.py:250: FutureWarning: pandas.Int64Index is deprecated and will be removed from pandas in a future version. Use pandas.Index with the appropriate dtype instead.\n",
      "  elif isinstance(data.columns, (pd.Int64Index, pd.RangeIndex)):\n",
      "/opt/anaconda3/lib/python3.9/site-packages/xgboost/data.py:250: FutureWarning: pandas.Int64Index is deprecated and will be removed from pandas in a future version. Use pandas.Index with the appropriate dtype instead.\n",
      "  elif isinstance(data.columns, (pd.Int64Index, pd.RangeIndex)):\n",
      "/opt/anaconda3/lib/python3.9/site-packages/xgboost/data.py:250: FutureWarning: pandas.Int64Index is deprecated and will be removed from pandas in a future version. Use pandas.Index with the appropriate dtype instead.\n",
      "  elif isinstance(data.columns, (pd.Int64Index, pd.RangeIndex)):\n",
      "/opt/anaconda3/lib/python3.9/site-packages/xgboost/data.py:250: FutureWarning: pandas.Int64Index is deprecated and will be removed from pandas in a future version. Use pandas.Index with the appropriate dtype instead.\n",
      "  elif isinstance(data.columns, (pd.Int64Index, pd.RangeIndex)):\n",
      "/opt/anaconda3/lib/python3.9/site-packages/xgboost/data.py:250: FutureWarning: pandas.Int64Index is deprecated and will be removed from pandas in a future version. Use pandas.Index with the appropriate dtype instead.\n",
      "  elif isinstance(data.columns, (pd.Int64Index, pd.RangeIndex)):\n",
      "/opt/anaconda3/lib/python3.9/site-packages/xgboost/data.py:250: FutureWarning: pandas.Int64Index is deprecated and will be removed from pandas in a future version. Use pandas.Index with the appropriate dtype instead.\n",
      "  elif isinstance(data.columns, (pd.Int64Index, pd.RangeIndex)):\n",
      "/opt/anaconda3/lib/python3.9/site-packages/xgboost/data.py:250: FutureWarning: pandas.Int64Index is deprecated and will be removed from pandas in a future version. Use pandas.Index with the appropriate dtype instead.\n",
      "  elif isinstance(data.columns, (pd.Int64Index, pd.RangeIndex)):\n"
     ]
    },
    {
     "name": "stderr",
     "output_type": "stream",
     "text": [
      "/opt/anaconda3/lib/python3.9/site-packages/xgboost/data.py:250: FutureWarning: pandas.Int64Index is deprecated and will be removed from pandas in a future version. Use pandas.Index with the appropriate dtype instead.\n",
      "  elif isinstance(data.columns, (pd.Int64Index, pd.RangeIndex)):\n",
      "/opt/anaconda3/lib/python3.9/site-packages/xgboost/data.py:250: FutureWarning: pandas.Int64Index is deprecated and will be removed from pandas in a future version. Use pandas.Index with the appropriate dtype instead.\n",
      "  elif isinstance(data.columns, (pd.Int64Index, pd.RangeIndex)):\n",
      "/opt/anaconda3/lib/python3.9/site-packages/xgboost/data.py:250: FutureWarning: pandas.Int64Index is deprecated and will be removed from pandas in a future version. Use pandas.Index with the appropriate dtype instead.\n",
      "  elif isinstance(data.columns, (pd.Int64Index, pd.RangeIndex)):\n",
      "/opt/anaconda3/lib/python3.9/site-packages/xgboost/data.py:250: FutureWarning: pandas.Int64Index is deprecated and will be removed from pandas in a future version. Use pandas.Index with the appropriate dtype instead.\n",
      "  elif isinstance(data.columns, (pd.Int64Index, pd.RangeIndex)):\n",
      "/opt/anaconda3/lib/python3.9/site-packages/xgboost/data.py:250: FutureWarning: pandas.Int64Index is deprecated and will be removed from pandas in a future version. Use pandas.Index with the appropriate dtype instead.\n",
      "  elif isinstance(data.columns, (pd.Int64Index, pd.RangeIndex)):\n",
      "/opt/anaconda3/lib/python3.9/site-packages/xgboost/data.py:250: FutureWarning: pandas.Int64Index is deprecated and will be removed from pandas in a future version. Use pandas.Index with the appropriate dtype instead.\n",
      "  elif isinstance(data.columns, (pd.Int64Index, pd.RangeIndex)):\n",
      "/opt/anaconda3/lib/python3.9/site-packages/xgboost/data.py:250: FutureWarning: pandas.Int64Index is deprecated and will be removed from pandas in a future version. Use pandas.Index with the appropriate dtype instead.\n",
      "  elif isinstance(data.columns, (pd.Int64Index, pd.RangeIndex)):\n",
      "/opt/anaconda3/lib/python3.9/site-packages/xgboost/data.py:250: FutureWarning: pandas.Int64Index is deprecated and will be removed from pandas in a future version. Use pandas.Index with the appropriate dtype instead.\n",
      "  elif isinstance(data.columns, (pd.Int64Index, pd.RangeIndex)):\n",
      "/opt/anaconda3/lib/python3.9/site-packages/xgboost/data.py:250: FutureWarning: pandas.Int64Index is deprecated and will be removed from pandas in a future version. Use pandas.Index with the appropriate dtype instead.\n",
      "  elif isinstance(data.columns, (pd.Int64Index, pd.RangeIndex)):\n",
      "/opt/anaconda3/lib/python3.9/site-packages/xgboost/data.py:250: FutureWarning: pandas.Int64Index is deprecated and will be removed from pandas in a future version. Use pandas.Index with the appropriate dtype instead.\n",
      "  elif isinstance(data.columns, (pd.Int64Index, pd.RangeIndex)):\n",
      "/opt/anaconda3/lib/python3.9/site-packages/xgboost/data.py:250: FutureWarning: pandas.Int64Index is deprecated and will be removed from pandas in a future version. Use pandas.Index with the appropriate dtype instead.\n",
      "  elif isinstance(data.columns, (pd.Int64Index, pd.RangeIndex)):\n",
      "/opt/anaconda3/lib/python3.9/site-packages/xgboost/data.py:250: FutureWarning: pandas.Int64Index is deprecated and will be removed from pandas in a future version. Use pandas.Index with the appropriate dtype instead.\n",
      "  elif isinstance(data.columns, (pd.Int64Index, pd.RangeIndex)):\n",
      "/opt/anaconda3/lib/python3.9/site-packages/xgboost/data.py:250: FutureWarning: pandas.Int64Index is deprecated and will be removed from pandas in a future version. Use pandas.Index with the appropriate dtype instead.\n",
      "  elif isinstance(data.columns, (pd.Int64Index, pd.RangeIndex)):\n",
      "/opt/anaconda3/lib/python3.9/site-packages/xgboost/data.py:250: FutureWarning: pandas.Int64Index is deprecated and will be removed from pandas in a future version. Use pandas.Index with the appropriate dtype instead.\n",
      "  elif isinstance(data.columns, (pd.Int64Index, pd.RangeIndex)):\n",
      "/opt/anaconda3/lib/python3.9/site-packages/xgboost/data.py:250: FutureWarning: pandas.Int64Index is deprecated and will be removed from pandas in a future version. Use pandas.Index with the appropriate dtype instead.\n",
      "  elif isinstance(data.columns, (pd.Int64Index, pd.RangeIndex)):\n",
      "/opt/anaconda3/lib/python3.9/site-packages/xgboost/data.py:250: FutureWarning: pandas.Int64Index is deprecated and will be removed from pandas in a future version. Use pandas.Index with the appropriate dtype instead.\n",
      "  elif isinstance(data.columns, (pd.Int64Index, pd.RangeIndex)):\n",
      "/opt/anaconda3/lib/python3.9/site-packages/xgboost/data.py:250: FutureWarning: pandas.Int64Index is deprecated and will be removed from pandas in a future version. Use pandas.Index with the appropriate dtype instead.\n",
      "  elif isinstance(data.columns, (pd.Int64Index, pd.RangeIndex)):\n",
      "/opt/anaconda3/lib/python3.9/site-packages/xgboost/data.py:250: FutureWarning: pandas.Int64Index is deprecated and will be removed from pandas in a future version. Use pandas.Index with the appropriate dtype instead.\n",
      "  elif isinstance(data.columns, (pd.Int64Index, pd.RangeIndex)):\n",
      "/opt/anaconda3/lib/python3.9/site-packages/xgboost/data.py:250: FutureWarning: pandas.Int64Index is deprecated and will be removed from pandas in a future version. Use pandas.Index with the appropriate dtype instead.\n",
      "  elif isinstance(data.columns, (pd.Int64Index, pd.RangeIndex)):\n",
      "/opt/anaconda3/lib/python3.9/site-packages/xgboost/data.py:250: FutureWarning: pandas.Int64Index is deprecated and will be removed from pandas in a future version. Use pandas.Index with the appropriate dtype instead.\n",
      "  elif isinstance(data.columns, (pd.Int64Index, pd.RangeIndex)):\n",
      "/opt/anaconda3/lib/python3.9/site-packages/xgboost/data.py:250: FutureWarning: pandas.Int64Index is deprecated and will be removed from pandas in a future version. Use pandas.Index with the appropriate dtype instead.\n",
      "  elif isinstance(data.columns, (pd.Int64Index, pd.RangeIndex)):\n",
      "/opt/anaconda3/lib/python3.9/site-packages/xgboost/data.py:250: FutureWarning: pandas.Int64Index is deprecated and will be removed from pandas in a future version. Use pandas.Index with the appropriate dtype instead.\n",
      "  elif isinstance(data.columns, (pd.Int64Index, pd.RangeIndex)):\n",
      "/opt/anaconda3/lib/python3.9/site-packages/xgboost/data.py:250: FutureWarning: pandas.Int64Index is deprecated and will be removed from pandas in a future version. Use pandas.Index with the appropriate dtype instead.\n",
      "  elif isinstance(data.columns, (pd.Int64Index, pd.RangeIndex)):\n",
      "/opt/anaconda3/lib/python3.9/site-packages/xgboost/data.py:250: FutureWarning: pandas.Int64Index is deprecated and will be removed from pandas in a future version. Use pandas.Index with the appropriate dtype instead.\n",
      "  elif isinstance(data.columns, (pd.Int64Index, pd.RangeIndex)):\n",
      "/opt/anaconda3/lib/python3.9/site-packages/xgboost/data.py:250: FutureWarning: pandas.Int64Index is deprecated and will be removed from pandas in a future version. Use pandas.Index with the appropriate dtype instead.\n",
      "  elif isinstance(data.columns, (pd.Int64Index, pd.RangeIndex)):\n",
      "/opt/anaconda3/lib/python3.9/site-packages/xgboost/data.py:250: FutureWarning: pandas.Int64Index is deprecated and will be removed from pandas in a future version. Use pandas.Index with the appropriate dtype instead.\n",
      "  elif isinstance(data.columns, (pd.Int64Index, pd.RangeIndex)):\n",
      "/opt/anaconda3/lib/python3.9/site-packages/xgboost/data.py:250: FutureWarning: pandas.Int64Index is deprecated and will be removed from pandas in a future version. Use pandas.Index with the appropriate dtype instead.\n",
      "  elif isinstance(data.columns, (pd.Int64Index, pd.RangeIndex)):\n",
      "/opt/anaconda3/lib/python3.9/site-packages/xgboost/data.py:250: FutureWarning: pandas.Int64Index is deprecated and will be removed from pandas in a future version. Use pandas.Index with the appropriate dtype instead.\n",
      "  elif isinstance(data.columns, (pd.Int64Index, pd.RangeIndex)):\n",
      "/opt/anaconda3/lib/python3.9/site-packages/xgboost/data.py:250: FutureWarning: pandas.Int64Index is deprecated and will be removed from pandas in a future version. Use pandas.Index with the appropriate dtype instead.\n",
      "  elif isinstance(data.columns, (pd.Int64Index, pd.RangeIndex)):\n",
      "/opt/anaconda3/lib/python3.9/site-packages/xgboost/data.py:250: FutureWarning: pandas.Int64Index is deprecated and will be removed from pandas in a future version. Use pandas.Index with the appropriate dtype instead.\n",
      "  elif isinstance(data.columns, (pd.Int64Index, pd.RangeIndex)):\n"
     ]
    },
    {
     "name": "stderr",
     "output_type": "stream",
     "text": [
      "/opt/anaconda3/lib/python3.9/site-packages/xgboost/data.py:250: FutureWarning: pandas.Int64Index is deprecated and will be removed from pandas in a future version. Use pandas.Index with the appropriate dtype instead.\n",
      "  elif isinstance(data.columns, (pd.Int64Index, pd.RangeIndex)):\n",
      "/opt/anaconda3/lib/python3.9/site-packages/xgboost/data.py:250: FutureWarning: pandas.Int64Index is deprecated and will be removed from pandas in a future version. Use pandas.Index with the appropriate dtype instead.\n",
      "  elif isinstance(data.columns, (pd.Int64Index, pd.RangeIndex)):\n",
      "/opt/anaconda3/lib/python3.9/site-packages/xgboost/data.py:250: FutureWarning: pandas.Int64Index is deprecated and will be removed from pandas in a future version. Use pandas.Index with the appropriate dtype instead.\n",
      "  elif isinstance(data.columns, (pd.Int64Index, pd.RangeIndex)):\n",
      "/opt/anaconda3/lib/python3.9/site-packages/xgboost/data.py:250: FutureWarning: pandas.Int64Index is deprecated and will be removed from pandas in a future version. Use pandas.Index with the appropriate dtype instead.\n",
      "  elif isinstance(data.columns, (pd.Int64Index, pd.RangeIndex)):\n",
      "/opt/anaconda3/lib/python3.9/site-packages/xgboost/data.py:250: FutureWarning: pandas.Int64Index is deprecated and will be removed from pandas in a future version. Use pandas.Index with the appropriate dtype instead.\n",
      "  elif isinstance(data.columns, (pd.Int64Index, pd.RangeIndex)):\n",
      "/opt/anaconda3/lib/python3.9/site-packages/xgboost/data.py:250: FutureWarning: pandas.Int64Index is deprecated and will be removed from pandas in a future version. Use pandas.Index with the appropriate dtype instead.\n",
      "  elif isinstance(data.columns, (pd.Int64Index, pd.RangeIndex)):\n",
      "/opt/anaconda3/lib/python3.9/site-packages/xgboost/data.py:250: FutureWarning: pandas.Int64Index is deprecated and will be removed from pandas in a future version. Use pandas.Index with the appropriate dtype instead.\n",
      "  elif isinstance(data.columns, (pd.Int64Index, pd.RangeIndex)):\n",
      "/opt/anaconda3/lib/python3.9/site-packages/xgboost/data.py:250: FutureWarning: pandas.Int64Index is deprecated and will be removed from pandas in a future version. Use pandas.Index with the appropriate dtype instead.\n",
      "  elif isinstance(data.columns, (pd.Int64Index, pd.RangeIndex)):\n",
      "/opt/anaconda3/lib/python3.9/site-packages/xgboost/data.py:250: FutureWarning: pandas.Int64Index is deprecated and will be removed from pandas in a future version. Use pandas.Index with the appropriate dtype instead.\n",
      "  elif isinstance(data.columns, (pd.Int64Index, pd.RangeIndex)):\n",
      "/opt/anaconda3/lib/python3.9/site-packages/xgboost/data.py:250: FutureWarning: pandas.Int64Index is deprecated and will be removed from pandas in a future version. Use pandas.Index with the appropriate dtype instead.\n",
      "  elif isinstance(data.columns, (pd.Int64Index, pd.RangeIndex)):\n",
      "/opt/anaconda3/lib/python3.9/site-packages/xgboost/data.py:250: FutureWarning: pandas.Int64Index is deprecated and will be removed from pandas in a future version. Use pandas.Index with the appropriate dtype instead.\n",
      "  elif isinstance(data.columns, (pd.Int64Index, pd.RangeIndex)):\n",
      "/opt/anaconda3/lib/python3.9/site-packages/xgboost/data.py:250: FutureWarning: pandas.Int64Index is deprecated and will be removed from pandas in a future version. Use pandas.Index with the appropriate dtype instead.\n",
      "  elif isinstance(data.columns, (pd.Int64Index, pd.RangeIndex)):\n",
      "/opt/anaconda3/lib/python3.9/site-packages/xgboost/data.py:250: FutureWarning: pandas.Int64Index is deprecated and will be removed from pandas in a future version. Use pandas.Index with the appropriate dtype instead.\n",
      "  elif isinstance(data.columns, (pd.Int64Index, pd.RangeIndex)):\n",
      "/opt/anaconda3/lib/python3.9/site-packages/xgboost/data.py:250: FutureWarning: pandas.Int64Index is deprecated and will be removed from pandas in a future version. Use pandas.Index with the appropriate dtype instead.\n",
      "  elif isinstance(data.columns, (pd.Int64Index, pd.RangeIndex)):\n",
      "/opt/anaconda3/lib/python3.9/site-packages/xgboost/data.py:250: FutureWarning: pandas.Int64Index is deprecated and will be removed from pandas in a future version. Use pandas.Index with the appropriate dtype instead.\n",
      "  elif isinstance(data.columns, (pd.Int64Index, pd.RangeIndex)):\n",
      "/opt/anaconda3/lib/python3.9/site-packages/xgboost/data.py:250: FutureWarning: pandas.Int64Index is deprecated and will be removed from pandas in a future version. Use pandas.Index with the appropriate dtype instead.\n",
      "  elif isinstance(data.columns, (pd.Int64Index, pd.RangeIndex)):\n",
      "/opt/anaconda3/lib/python3.9/site-packages/xgboost/data.py:250: FutureWarning: pandas.Int64Index is deprecated and will be removed from pandas in a future version. Use pandas.Index with the appropriate dtype instead.\n",
      "  elif isinstance(data.columns, (pd.Int64Index, pd.RangeIndex)):\n",
      "/opt/anaconda3/lib/python3.9/site-packages/xgboost/data.py:250: FutureWarning: pandas.Int64Index is deprecated and will be removed from pandas in a future version. Use pandas.Index with the appropriate dtype instead.\n",
      "  elif isinstance(data.columns, (pd.Int64Index, pd.RangeIndex)):\n",
      "/opt/anaconda3/lib/python3.9/site-packages/xgboost/data.py:250: FutureWarning: pandas.Int64Index is deprecated and will be removed from pandas in a future version. Use pandas.Index with the appropriate dtype instead.\n",
      "  elif isinstance(data.columns, (pd.Int64Index, pd.RangeIndex)):\n",
      "/opt/anaconda3/lib/python3.9/site-packages/xgboost/data.py:250: FutureWarning: pandas.Int64Index is deprecated and will be removed from pandas in a future version. Use pandas.Index with the appropriate dtype instead.\n",
      "  elif isinstance(data.columns, (pd.Int64Index, pd.RangeIndex)):\n",
      "/opt/anaconda3/lib/python3.9/site-packages/xgboost/data.py:250: FutureWarning: pandas.Int64Index is deprecated and will be removed from pandas in a future version. Use pandas.Index with the appropriate dtype instead.\n",
      "  elif isinstance(data.columns, (pd.Int64Index, pd.RangeIndex)):\n",
      "/opt/anaconda3/lib/python3.9/site-packages/xgboost/data.py:250: FutureWarning: pandas.Int64Index is deprecated and will be removed from pandas in a future version. Use pandas.Index with the appropriate dtype instead.\n",
      "  elif isinstance(data.columns, (pd.Int64Index, pd.RangeIndex)):\n",
      "/opt/anaconda3/lib/python3.9/site-packages/xgboost/data.py:250: FutureWarning: pandas.Int64Index is deprecated and will be removed from pandas in a future version. Use pandas.Index with the appropriate dtype instead.\n",
      "  elif isinstance(data.columns, (pd.Int64Index, pd.RangeIndex)):\n",
      "/opt/anaconda3/lib/python3.9/site-packages/xgboost/data.py:250: FutureWarning: pandas.Int64Index is deprecated and will be removed from pandas in a future version. Use pandas.Index with the appropriate dtype instead.\n",
      "  elif isinstance(data.columns, (pd.Int64Index, pd.RangeIndex)):\n",
      "/opt/anaconda3/lib/python3.9/site-packages/xgboost/data.py:250: FutureWarning: pandas.Int64Index is deprecated and will be removed from pandas in a future version. Use pandas.Index with the appropriate dtype instead.\n",
      "  elif isinstance(data.columns, (pd.Int64Index, pd.RangeIndex)):\n",
      "/opt/anaconda3/lib/python3.9/site-packages/xgboost/data.py:250: FutureWarning: pandas.Int64Index is deprecated and will be removed from pandas in a future version. Use pandas.Index with the appropriate dtype instead.\n",
      "  elif isinstance(data.columns, (pd.Int64Index, pd.RangeIndex)):\n",
      "/opt/anaconda3/lib/python3.9/site-packages/xgboost/data.py:250: FutureWarning: pandas.Int64Index is deprecated and will be removed from pandas in a future version. Use pandas.Index with the appropriate dtype instead.\n",
      "  elif isinstance(data.columns, (pd.Int64Index, pd.RangeIndex)):\n",
      "/opt/anaconda3/lib/python3.9/site-packages/xgboost/data.py:250: FutureWarning: pandas.Int64Index is deprecated and will be removed from pandas in a future version. Use pandas.Index with the appropriate dtype instead.\n",
      "  elif isinstance(data.columns, (pd.Int64Index, pd.RangeIndex)):\n",
      "/opt/anaconda3/lib/python3.9/site-packages/xgboost/data.py:250: FutureWarning: pandas.Int64Index is deprecated and will be removed from pandas in a future version. Use pandas.Index with the appropriate dtype instead.\n",
      "  elif isinstance(data.columns, (pd.Int64Index, pd.RangeIndex)):\n",
      "/opt/anaconda3/lib/python3.9/site-packages/xgboost/data.py:250: FutureWarning: pandas.Int64Index is deprecated and will be removed from pandas in a future version. Use pandas.Index with the appropriate dtype instead.\n",
      "  elif isinstance(data.columns, (pd.Int64Index, pd.RangeIndex)):\n"
     ]
    },
    {
     "name": "stderr",
     "output_type": "stream",
     "text": [
      "/opt/anaconda3/lib/python3.9/site-packages/xgboost/data.py:250: FutureWarning: pandas.Int64Index is deprecated and will be removed from pandas in a future version. Use pandas.Index with the appropriate dtype instead.\n",
      "  elif isinstance(data.columns, (pd.Int64Index, pd.RangeIndex)):\n",
      "/opt/anaconda3/lib/python3.9/site-packages/xgboost/data.py:250: FutureWarning: pandas.Int64Index is deprecated and will be removed from pandas in a future version. Use pandas.Index with the appropriate dtype instead.\n",
      "  elif isinstance(data.columns, (pd.Int64Index, pd.RangeIndex)):\n",
      "/opt/anaconda3/lib/python3.9/site-packages/xgboost/data.py:250: FutureWarning: pandas.Int64Index is deprecated and will be removed from pandas in a future version. Use pandas.Index with the appropriate dtype instead.\n",
      "  elif isinstance(data.columns, (pd.Int64Index, pd.RangeIndex)):\n",
      "/opt/anaconda3/lib/python3.9/site-packages/xgboost/data.py:250: FutureWarning: pandas.Int64Index is deprecated and will be removed from pandas in a future version. Use pandas.Index with the appropriate dtype instead.\n",
      "  elif isinstance(data.columns, (pd.Int64Index, pd.RangeIndex)):\n",
      "/opt/anaconda3/lib/python3.9/site-packages/xgboost/data.py:250: FutureWarning: pandas.Int64Index is deprecated and will be removed from pandas in a future version. Use pandas.Index with the appropriate dtype instead.\n",
      "  elif isinstance(data.columns, (pd.Int64Index, pd.RangeIndex)):\n",
      "/opt/anaconda3/lib/python3.9/site-packages/xgboost/data.py:250: FutureWarning: pandas.Int64Index is deprecated and will be removed from pandas in a future version. Use pandas.Index with the appropriate dtype instead.\n",
      "  elif isinstance(data.columns, (pd.Int64Index, pd.RangeIndex)):\n",
      "/opt/anaconda3/lib/python3.9/site-packages/xgboost/data.py:250: FutureWarning: pandas.Int64Index is deprecated and will be removed from pandas in a future version. Use pandas.Index with the appropriate dtype instead.\n",
      "  elif isinstance(data.columns, (pd.Int64Index, pd.RangeIndex)):\n",
      "/opt/anaconda3/lib/python3.9/site-packages/xgboost/data.py:250: FutureWarning: pandas.Int64Index is deprecated and will be removed from pandas in a future version. Use pandas.Index with the appropriate dtype instead.\n",
      "  elif isinstance(data.columns, (pd.Int64Index, pd.RangeIndex)):\n",
      "/opt/anaconda3/lib/python3.9/site-packages/xgboost/data.py:250: FutureWarning: pandas.Int64Index is deprecated and will be removed from pandas in a future version. Use pandas.Index with the appropriate dtype instead.\n",
      "  elif isinstance(data.columns, (pd.Int64Index, pd.RangeIndex)):\n",
      "/opt/anaconda3/lib/python3.9/site-packages/xgboost/data.py:250: FutureWarning: pandas.Int64Index is deprecated and will be removed from pandas in a future version. Use pandas.Index with the appropriate dtype instead.\n",
      "  elif isinstance(data.columns, (pd.Int64Index, pd.RangeIndex)):\n",
      "/opt/anaconda3/lib/python3.9/site-packages/xgboost/data.py:250: FutureWarning: pandas.Int64Index is deprecated and will be removed from pandas in a future version. Use pandas.Index with the appropriate dtype instead.\n",
      "  elif isinstance(data.columns, (pd.Int64Index, pd.RangeIndex)):\n",
      "/opt/anaconda3/lib/python3.9/site-packages/xgboost/data.py:250: FutureWarning: pandas.Int64Index is deprecated and will be removed from pandas in a future version. Use pandas.Index with the appropriate dtype instead.\n",
      "  elif isinstance(data.columns, (pd.Int64Index, pd.RangeIndex)):\n",
      "/opt/anaconda3/lib/python3.9/site-packages/xgboost/data.py:250: FutureWarning: pandas.Int64Index is deprecated and will be removed from pandas in a future version. Use pandas.Index with the appropriate dtype instead.\n",
      "  elif isinstance(data.columns, (pd.Int64Index, pd.RangeIndex)):\n",
      "/opt/anaconda3/lib/python3.9/site-packages/xgboost/data.py:250: FutureWarning: pandas.Int64Index is deprecated and will be removed from pandas in a future version. Use pandas.Index with the appropriate dtype instead.\n",
      "  elif isinstance(data.columns, (pd.Int64Index, pd.RangeIndex)):\n",
      "/opt/anaconda3/lib/python3.9/site-packages/xgboost/data.py:250: FutureWarning: pandas.Int64Index is deprecated and will be removed from pandas in a future version. Use pandas.Index with the appropriate dtype instead.\n",
      "  elif isinstance(data.columns, (pd.Int64Index, pd.RangeIndex)):\n",
      "/opt/anaconda3/lib/python3.9/site-packages/xgboost/data.py:250: FutureWarning: pandas.Int64Index is deprecated and will be removed from pandas in a future version. Use pandas.Index with the appropriate dtype instead.\n",
      "  elif isinstance(data.columns, (pd.Int64Index, pd.RangeIndex)):\n",
      "/opt/anaconda3/lib/python3.9/site-packages/xgboost/data.py:250: FutureWarning: pandas.Int64Index is deprecated and will be removed from pandas in a future version. Use pandas.Index with the appropriate dtype instead.\n",
      "  elif isinstance(data.columns, (pd.Int64Index, pd.RangeIndex)):\n",
      "/opt/anaconda3/lib/python3.9/site-packages/xgboost/data.py:250: FutureWarning: pandas.Int64Index is deprecated and will be removed from pandas in a future version. Use pandas.Index with the appropriate dtype instead.\n",
      "  elif isinstance(data.columns, (pd.Int64Index, pd.RangeIndex)):\n",
      "/opt/anaconda3/lib/python3.9/site-packages/xgboost/data.py:250: FutureWarning: pandas.Int64Index is deprecated and will be removed from pandas in a future version. Use pandas.Index with the appropriate dtype instead.\n",
      "  elif isinstance(data.columns, (pd.Int64Index, pd.RangeIndex)):\n",
      "/opt/anaconda3/lib/python3.9/site-packages/xgboost/data.py:250: FutureWarning: pandas.Int64Index is deprecated and will be removed from pandas in a future version. Use pandas.Index with the appropriate dtype instead.\n",
      "  elif isinstance(data.columns, (pd.Int64Index, pd.RangeIndex)):\n",
      "/opt/anaconda3/lib/python3.9/site-packages/xgboost/data.py:250: FutureWarning: pandas.Int64Index is deprecated and will be removed from pandas in a future version. Use pandas.Index with the appropriate dtype instead.\n",
      "  elif isinstance(data.columns, (pd.Int64Index, pd.RangeIndex)):\n",
      "/opt/anaconda3/lib/python3.9/site-packages/xgboost/data.py:250: FutureWarning: pandas.Int64Index is deprecated and will be removed from pandas in a future version. Use pandas.Index with the appropriate dtype instead.\n",
      "  elif isinstance(data.columns, (pd.Int64Index, pd.RangeIndex)):\n",
      "/opt/anaconda3/lib/python3.9/site-packages/xgboost/data.py:250: FutureWarning: pandas.Int64Index is deprecated and will be removed from pandas in a future version. Use pandas.Index with the appropriate dtype instead.\n",
      "  elif isinstance(data.columns, (pd.Int64Index, pd.RangeIndex)):\n",
      "/opt/anaconda3/lib/python3.9/site-packages/xgboost/data.py:250: FutureWarning: pandas.Int64Index is deprecated and will be removed from pandas in a future version. Use pandas.Index with the appropriate dtype instead.\n",
      "  elif isinstance(data.columns, (pd.Int64Index, pd.RangeIndex)):\n",
      "/opt/anaconda3/lib/python3.9/site-packages/xgboost/data.py:250: FutureWarning: pandas.Int64Index is deprecated and will be removed from pandas in a future version. Use pandas.Index with the appropriate dtype instead.\n",
      "  elif isinstance(data.columns, (pd.Int64Index, pd.RangeIndex)):\n",
      "/opt/anaconda3/lib/python3.9/site-packages/xgboost/data.py:250: FutureWarning: pandas.Int64Index is deprecated and will be removed from pandas in a future version. Use pandas.Index with the appropriate dtype instead.\n",
      "  elif isinstance(data.columns, (pd.Int64Index, pd.RangeIndex)):\n",
      "/opt/anaconda3/lib/python3.9/site-packages/xgboost/data.py:250: FutureWarning: pandas.Int64Index is deprecated and will be removed from pandas in a future version. Use pandas.Index with the appropriate dtype instead.\n",
      "  elif isinstance(data.columns, (pd.Int64Index, pd.RangeIndex)):\n",
      "/opt/anaconda3/lib/python3.9/site-packages/xgboost/data.py:250: FutureWarning: pandas.Int64Index is deprecated and will be removed from pandas in a future version. Use pandas.Index with the appropriate dtype instead.\n",
      "  elif isinstance(data.columns, (pd.Int64Index, pd.RangeIndex)):\n",
      "/opt/anaconda3/lib/python3.9/site-packages/xgboost/data.py:250: FutureWarning: pandas.Int64Index is deprecated and will be removed from pandas in a future version. Use pandas.Index with the appropriate dtype instead.\n",
      "  elif isinstance(data.columns, (pd.Int64Index, pd.RangeIndex)):\n",
      "/opt/anaconda3/lib/python3.9/site-packages/xgboost/data.py:250: FutureWarning: pandas.Int64Index is deprecated and will be removed from pandas in a future version. Use pandas.Index with the appropriate dtype instead.\n",
      "  elif isinstance(data.columns, (pd.Int64Index, pd.RangeIndex)):\n"
     ]
    },
    {
     "name": "stderr",
     "output_type": "stream",
     "text": [
      "/opt/anaconda3/lib/python3.9/site-packages/xgboost/data.py:250: FutureWarning: pandas.Int64Index is deprecated and will be removed from pandas in a future version. Use pandas.Index with the appropriate dtype instead.\n",
      "  elif isinstance(data.columns, (pd.Int64Index, pd.RangeIndex)):\n",
      "/opt/anaconda3/lib/python3.9/site-packages/xgboost/data.py:250: FutureWarning: pandas.Int64Index is deprecated and will be removed from pandas in a future version. Use pandas.Index with the appropriate dtype instead.\n",
      "  elif isinstance(data.columns, (pd.Int64Index, pd.RangeIndex)):\n",
      "/opt/anaconda3/lib/python3.9/site-packages/xgboost/data.py:250: FutureWarning: pandas.Int64Index is deprecated and will be removed from pandas in a future version. Use pandas.Index with the appropriate dtype instead.\n",
      "  elif isinstance(data.columns, (pd.Int64Index, pd.RangeIndex)):\n",
      "/opt/anaconda3/lib/python3.9/site-packages/xgboost/data.py:250: FutureWarning: pandas.Int64Index is deprecated and will be removed from pandas in a future version. Use pandas.Index with the appropriate dtype instead.\n",
      "  elif isinstance(data.columns, (pd.Int64Index, pd.RangeIndex)):\n",
      "/opt/anaconda3/lib/python3.9/site-packages/xgboost/data.py:250: FutureWarning: pandas.Int64Index is deprecated and will be removed from pandas in a future version. Use pandas.Index with the appropriate dtype instead.\n",
      "  elif isinstance(data.columns, (pd.Int64Index, pd.RangeIndex)):\n",
      "/opt/anaconda3/lib/python3.9/site-packages/xgboost/data.py:250: FutureWarning: pandas.Int64Index is deprecated and will be removed from pandas in a future version. Use pandas.Index with the appropriate dtype instead.\n",
      "  elif isinstance(data.columns, (pd.Int64Index, pd.RangeIndex)):\n",
      "/opt/anaconda3/lib/python3.9/site-packages/xgboost/data.py:250: FutureWarning: pandas.Int64Index is deprecated and will be removed from pandas in a future version. Use pandas.Index with the appropriate dtype instead.\n",
      "  elif isinstance(data.columns, (pd.Int64Index, pd.RangeIndex)):\n",
      "/opt/anaconda3/lib/python3.9/site-packages/xgboost/data.py:250: FutureWarning: pandas.Int64Index is deprecated and will be removed from pandas in a future version. Use pandas.Index with the appropriate dtype instead.\n",
      "  elif isinstance(data.columns, (pd.Int64Index, pd.RangeIndex)):\n",
      "/opt/anaconda3/lib/python3.9/site-packages/xgboost/data.py:250: FutureWarning: pandas.Int64Index is deprecated and will be removed from pandas in a future version. Use pandas.Index with the appropriate dtype instead.\n",
      "  elif isinstance(data.columns, (pd.Int64Index, pd.RangeIndex)):\n",
      "/opt/anaconda3/lib/python3.9/site-packages/xgboost/data.py:250: FutureWarning: pandas.Int64Index is deprecated and will be removed from pandas in a future version. Use pandas.Index with the appropriate dtype instead.\n",
      "  elif isinstance(data.columns, (pd.Int64Index, pd.RangeIndex)):\n",
      "/opt/anaconda3/lib/python3.9/site-packages/xgboost/data.py:250: FutureWarning: pandas.Int64Index is deprecated and will be removed from pandas in a future version. Use pandas.Index with the appropriate dtype instead.\n",
      "  elif isinstance(data.columns, (pd.Int64Index, pd.RangeIndex)):\n",
      "/opt/anaconda3/lib/python3.9/site-packages/xgboost/data.py:250: FutureWarning: pandas.Int64Index is deprecated and will be removed from pandas in a future version. Use pandas.Index with the appropriate dtype instead.\n",
      "  elif isinstance(data.columns, (pd.Int64Index, pd.RangeIndex)):\n",
      "/opt/anaconda3/lib/python3.9/site-packages/xgboost/data.py:250: FutureWarning: pandas.Int64Index is deprecated and will be removed from pandas in a future version. Use pandas.Index with the appropriate dtype instead.\n",
      "  elif isinstance(data.columns, (pd.Int64Index, pd.RangeIndex)):\n",
      "/opt/anaconda3/lib/python3.9/site-packages/xgboost/data.py:250: FutureWarning: pandas.Int64Index is deprecated and will be removed from pandas in a future version. Use pandas.Index with the appropriate dtype instead.\n",
      "  elif isinstance(data.columns, (pd.Int64Index, pd.RangeIndex)):\n",
      "/opt/anaconda3/lib/python3.9/site-packages/xgboost/data.py:250: FutureWarning: pandas.Int64Index is deprecated and will be removed from pandas in a future version. Use pandas.Index with the appropriate dtype instead.\n",
      "  elif isinstance(data.columns, (pd.Int64Index, pd.RangeIndex)):\n",
      "/opt/anaconda3/lib/python3.9/site-packages/xgboost/data.py:250: FutureWarning: pandas.Int64Index is deprecated and will be removed from pandas in a future version. Use pandas.Index with the appropriate dtype instead.\n",
      "  elif isinstance(data.columns, (pd.Int64Index, pd.RangeIndex)):\n",
      "/opt/anaconda3/lib/python3.9/site-packages/xgboost/data.py:250: FutureWarning: pandas.Int64Index is deprecated and will be removed from pandas in a future version. Use pandas.Index with the appropriate dtype instead.\n",
      "  elif isinstance(data.columns, (pd.Int64Index, pd.RangeIndex)):\n",
      "/opt/anaconda3/lib/python3.9/site-packages/xgboost/data.py:250: FutureWarning: pandas.Int64Index is deprecated and will be removed from pandas in a future version. Use pandas.Index with the appropriate dtype instead.\n",
      "  elif isinstance(data.columns, (pd.Int64Index, pd.RangeIndex)):\n",
      "/opt/anaconda3/lib/python3.9/site-packages/xgboost/data.py:250: FutureWarning: pandas.Int64Index is deprecated and will be removed from pandas in a future version. Use pandas.Index with the appropriate dtype instead.\n",
      "  elif isinstance(data.columns, (pd.Int64Index, pd.RangeIndex)):\n",
      "/opt/anaconda3/lib/python3.9/site-packages/xgboost/data.py:250: FutureWarning: pandas.Int64Index is deprecated and will be removed from pandas in a future version. Use pandas.Index with the appropriate dtype instead.\n",
      "  elif isinstance(data.columns, (pd.Int64Index, pd.RangeIndex)):\n",
      "/opt/anaconda3/lib/python3.9/site-packages/xgboost/data.py:250: FutureWarning: pandas.Int64Index is deprecated and will be removed from pandas in a future version. Use pandas.Index with the appropriate dtype instead.\n",
      "  elif isinstance(data.columns, (pd.Int64Index, pd.RangeIndex)):\n",
      "/opt/anaconda3/lib/python3.9/site-packages/xgboost/data.py:250: FutureWarning: pandas.Int64Index is deprecated and will be removed from pandas in a future version. Use pandas.Index with the appropriate dtype instead.\n",
      "  elif isinstance(data.columns, (pd.Int64Index, pd.RangeIndex)):\n",
      "/opt/anaconda3/lib/python3.9/site-packages/xgboost/data.py:250: FutureWarning: pandas.Int64Index is deprecated and will be removed from pandas in a future version. Use pandas.Index with the appropriate dtype instead.\n",
      "  elif isinstance(data.columns, (pd.Int64Index, pd.RangeIndex)):\n",
      "/opt/anaconda3/lib/python3.9/site-packages/xgboost/data.py:250: FutureWarning: pandas.Int64Index is deprecated and will be removed from pandas in a future version. Use pandas.Index with the appropriate dtype instead.\n",
      "  elif isinstance(data.columns, (pd.Int64Index, pd.RangeIndex)):\n",
      "/opt/anaconda3/lib/python3.9/site-packages/xgboost/data.py:250: FutureWarning: pandas.Int64Index is deprecated and will be removed from pandas in a future version. Use pandas.Index with the appropriate dtype instead.\n",
      "  elif isinstance(data.columns, (pd.Int64Index, pd.RangeIndex)):\n",
      "/opt/anaconda3/lib/python3.9/site-packages/xgboost/data.py:250: FutureWarning: pandas.Int64Index is deprecated and will be removed from pandas in a future version. Use pandas.Index with the appropriate dtype instead.\n",
      "  elif isinstance(data.columns, (pd.Int64Index, pd.RangeIndex)):\n",
      "/opt/anaconda3/lib/python3.9/site-packages/xgboost/data.py:250: FutureWarning: pandas.Int64Index is deprecated and will be removed from pandas in a future version. Use pandas.Index with the appropriate dtype instead.\n",
      "  elif isinstance(data.columns, (pd.Int64Index, pd.RangeIndex)):\n",
      "/opt/anaconda3/lib/python3.9/site-packages/xgboost/data.py:250: FutureWarning: pandas.Int64Index is deprecated and will be removed from pandas in a future version. Use pandas.Index with the appropriate dtype instead.\n",
      "  elif isinstance(data.columns, (pd.Int64Index, pd.RangeIndex)):\n",
      "/opt/anaconda3/lib/python3.9/site-packages/xgboost/data.py:250: FutureWarning: pandas.Int64Index is deprecated and will be removed from pandas in a future version. Use pandas.Index with the appropriate dtype instead.\n",
      "  elif isinstance(data.columns, (pd.Int64Index, pd.RangeIndex)):\n",
      "/opt/anaconda3/lib/python3.9/site-packages/xgboost/data.py:250: FutureWarning: pandas.Int64Index is deprecated and will be removed from pandas in a future version. Use pandas.Index with the appropriate dtype instead.\n",
      "  elif isinstance(data.columns, (pd.Int64Index, pd.RangeIndex)):\n"
     ]
    },
    {
     "name": "stderr",
     "output_type": "stream",
     "text": [
      "/opt/anaconda3/lib/python3.9/site-packages/xgboost/data.py:250: FutureWarning: pandas.Int64Index is deprecated and will be removed from pandas in a future version. Use pandas.Index with the appropriate dtype instead.\n",
      "  elif isinstance(data.columns, (pd.Int64Index, pd.RangeIndex)):\n",
      "/opt/anaconda3/lib/python3.9/site-packages/xgboost/data.py:250: FutureWarning: pandas.Int64Index is deprecated and will be removed from pandas in a future version. Use pandas.Index with the appropriate dtype instead.\n",
      "  elif isinstance(data.columns, (pd.Int64Index, pd.RangeIndex)):\n",
      "/opt/anaconda3/lib/python3.9/site-packages/xgboost/data.py:250: FutureWarning: pandas.Int64Index is deprecated and will be removed from pandas in a future version. Use pandas.Index with the appropriate dtype instead.\n",
      "  elif isinstance(data.columns, (pd.Int64Index, pd.RangeIndex)):\n",
      "/opt/anaconda3/lib/python3.9/site-packages/xgboost/data.py:250: FutureWarning: pandas.Int64Index is deprecated and will be removed from pandas in a future version. Use pandas.Index with the appropriate dtype instead.\n",
      "  elif isinstance(data.columns, (pd.Int64Index, pd.RangeIndex)):\n",
      "/opt/anaconda3/lib/python3.9/site-packages/xgboost/data.py:250: FutureWarning: pandas.Int64Index is deprecated and will be removed from pandas in a future version. Use pandas.Index with the appropriate dtype instead.\n",
      "  elif isinstance(data.columns, (pd.Int64Index, pd.RangeIndex)):\n",
      "/opt/anaconda3/lib/python3.9/site-packages/xgboost/data.py:250: FutureWarning: pandas.Int64Index is deprecated and will be removed from pandas in a future version. Use pandas.Index with the appropriate dtype instead.\n",
      "  elif isinstance(data.columns, (pd.Int64Index, pd.RangeIndex)):\n",
      "/opt/anaconda3/lib/python3.9/site-packages/xgboost/data.py:250: FutureWarning: pandas.Int64Index is deprecated and will be removed from pandas in a future version. Use pandas.Index with the appropriate dtype instead.\n",
      "  elif isinstance(data.columns, (pd.Int64Index, pd.RangeIndex)):\n",
      "/opt/anaconda3/lib/python3.9/site-packages/xgboost/data.py:250: FutureWarning: pandas.Int64Index is deprecated and will be removed from pandas in a future version. Use pandas.Index with the appropriate dtype instead.\n",
      "  elif isinstance(data.columns, (pd.Int64Index, pd.RangeIndex)):\n",
      "/opt/anaconda3/lib/python3.9/site-packages/xgboost/data.py:250: FutureWarning: pandas.Int64Index is deprecated and will be removed from pandas in a future version. Use pandas.Index with the appropriate dtype instead.\n",
      "  elif isinstance(data.columns, (pd.Int64Index, pd.RangeIndex)):\n",
      "/opt/anaconda3/lib/python3.9/site-packages/xgboost/data.py:250: FutureWarning: pandas.Int64Index is deprecated and will be removed from pandas in a future version. Use pandas.Index with the appropriate dtype instead.\n",
      "  elif isinstance(data.columns, (pd.Int64Index, pd.RangeIndex)):\n",
      "/opt/anaconda3/lib/python3.9/site-packages/xgboost/data.py:250: FutureWarning: pandas.Int64Index is deprecated and will be removed from pandas in a future version. Use pandas.Index with the appropriate dtype instead.\n",
      "  elif isinstance(data.columns, (pd.Int64Index, pd.RangeIndex)):\n",
      "/opt/anaconda3/lib/python3.9/site-packages/xgboost/data.py:250: FutureWarning: pandas.Int64Index is deprecated and will be removed from pandas in a future version. Use pandas.Index with the appropriate dtype instead.\n",
      "  elif isinstance(data.columns, (pd.Int64Index, pd.RangeIndex)):\n",
      "/opt/anaconda3/lib/python3.9/site-packages/xgboost/data.py:250: FutureWarning: pandas.Int64Index is deprecated and will be removed from pandas in a future version. Use pandas.Index with the appropriate dtype instead.\n",
      "  elif isinstance(data.columns, (pd.Int64Index, pd.RangeIndex)):\n",
      "/opt/anaconda3/lib/python3.9/site-packages/xgboost/data.py:250: FutureWarning: pandas.Int64Index is deprecated and will be removed from pandas in a future version. Use pandas.Index with the appropriate dtype instead.\n",
      "  elif isinstance(data.columns, (pd.Int64Index, pd.RangeIndex)):\n",
      "/opt/anaconda3/lib/python3.9/site-packages/xgboost/data.py:250: FutureWarning: pandas.Int64Index is deprecated and will be removed from pandas in a future version. Use pandas.Index with the appropriate dtype instead.\n",
      "  elif isinstance(data.columns, (pd.Int64Index, pd.RangeIndex)):\n",
      "/opt/anaconda3/lib/python3.9/site-packages/xgboost/data.py:250: FutureWarning: pandas.Int64Index is deprecated and will be removed from pandas in a future version. Use pandas.Index with the appropriate dtype instead.\n",
      "  elif isinstance(data.columns, (pd.Int64Index, pd.RangeIndex)):\n",
      "/opt/anaconda3/lib/python3.9/site-packages/xgboost/data.py:250: FutureWarning: pandas.Int64Index is deprecated and will be removed from pandas in a future version. Use pandas.Index with the appropriate dtype instead.\n",
      "  elif isinstance(data.columns, (pd.Int64Index, pd.RangeIndex)):\n",
      "/opt/anaconda3/lib/python3.9/site-packages/xgboost/data.py:250: FutureWarning: pandas.Int64Index is deprecated and will be removed from pandas in a future version. Use pandas.Index with the appropriate dtype instead.\n",
      "  elif isinstance(data.columns, (pd.Int64Index, pd.RangeIndex)):\n",
      "/opt/anaconda3/lib/python3.9/site-packages/xgboost/data.py:250: FutureWarning: pandas.Int64Index is deprecated and will be removed from pandas in a future version. Use pandas.Index with the appropriate dtype instead.\n",
      "  elif isinstance(data.columns, (pd.Int64Index, pd.RangeIndex)):\n",
      "/opt/anaconda3/lib/python3.9/site-packages/xgboost/data.py:250: FutureWarning: pandas.Int64Index is deprecated and will be removed from pandas in a future version. Use pandas.Index with the appropriate dtype instead.\n",
      "  elif isinstance(data.columns, (pd.Int64Index, pd.RangeIndex)):\n",
      "/opt/anaconda3/lib/python3.9/site-packages/xgboost/data.py:250: FutureWarning: pandas.Int64Index is deprecated and will be removed from pandas in a future version. Use pandas.Index with the appropriate dtype instead.\n",
      "  elif isinstance(data.columns, (pd.Int64Index, pd.RangeIndex)):\n",
      "/opt/anaconda3/lib/python3.9/site-packages/xgboost/data.py:250: FutureWarning: pandas.Int64Index is deprecated and will be removed from pandas in a future version. Use pandas.Index with the appropriate dtype instead.\n",
      "  elif isinstance(data.columns, (pd.Int64Index, pd.RangeIndex)):\n",
      "/opt/anaconda3/lib/python3.9/site-packages/xgboost/data.py:250: FutureWarning: pandas.Int64Index is deprecated and will be removed from pandas in a future version. Use pandas.Index with the appropriate dtype instead.\n",
      "  elif isinstance(data.columns, (pd.Int64Index, pd.RangeIndex)):\n",
      "/opt/anaconda3/lib/python3.9/site-packages/xgboost/data.py:250: FutureWarning: pandas.Int64Index is deprecated and will be removed from pandas in a future version. Use pandas.Index with the appropriate dtype instead.\n",
      "  elif isinstance(data.columns, (pd.Int64Index, pd.RangeIndex)):\n",
      "/opt/anaconda3/lib/python3.9/site-packages/xgboost/data.py:250: FutureWarning: pandas.Int64Index is deprecated and will be removed from pandas in a future version. Use pandas.Index with the appropriate dtype instead.\n",
      "  elif isinstance(data.columns, (pd.Int64Index, pd.RangeIndex)):\n",
      "/opt/anaconda3/lib/python3.9/site-packages/xgboost/data.py:250: FutureWarning: pandas.Int64Index is deprecated and will be removed from pandas in a future version. Use pandas.Index with the appropriate dtype instead.\n",
      "  elif isinstance(data.columns, (pd.Int64Index, pd.RangeIndex)):\n",
      "/opt/anaconda3/lib/python3.9/site-packages/xgboost/data.py:250: FutureWarning: pandas.Int64Index is deprecated and will be removed from pandas in a future version. Use pandas.Index with the appropriate dtype instead.\n",
      "  elif isinstance(data.columns, (pd.Int64Index, pd.RangeIndex)):\n",
      "/opt/anaconda3/lib/python3.9/site-packages/xgboost/data.py:250: FutureWarning: pandas.Int64Index is deprecated and will be removed from pandas in a future version. Use pandas.Index with the appropriate dtype instead.\n",
      "  elif isinstance(data.columns, (pd.Int64Index, pd.RangeIndex)):\n",
      "/opt/anaconda3/lib/python3.9/site-packages/xgboost/data.py:250: FutureWarning: pandas.Int64Index is deprecated and will be removed from pandas in a future version. Use pandas.Index with the appropriate dtype instead.\n",
      "  elif isinstance(data.columns, (pd.Int64Index, pd.RangeIndex)):\n",
      "/opt/anaconda3/lib/python3.9/site-packages/xgboost/data.py:250: FutureWarning: pandas.Int64Index is deprecated and will be removed from pandas in a future version. Use pandas.Index with the appropriate dtype instead.\n",
      "  elif isinstance(data.columns, (pd.Int64Index, pd.RangeIndex)):\n"
     ]
    },
    {
     "name": "stderr",
     "output_type": "stream",
     "text": [
      "/opt/anaconda3/lib/python3.9/site-packages/xgboost/data.py:250: FutureWarning: pandas.Int64Index is deprecated and will be removed from pandas in a future version. Use pandas.Index with the appropriate dtype instead.\n",
      "  elif isinstance(data.columns, (pd.Int64Index, pd.RangeIndex)):\n",
      "/opt/anaconda3/lib/python3.9/site-packages/xgboost/data.py:250: FutureWarning: pandas.Int64Index is deprecated and will be removed from pandas in a future version. Use pandas.Index with the appropriate dtype instead.\n",
      "  elif isinstance(data.columns, (pd.Int64Index, pd.RangeIndex)):\n",
      "/opt/anaconda3/lib/python3.9/site-packages/xgboost/data.py:250: FutureWarning: pandas.Int64Index is deprecated and will be removed from pandas in a future version. Use pandas.Index with the appropriate dtype instead.\n",
      "  elif isinstance(data.columns, (pd.Int64Index, pd.RangeIndex)):\n",
      "/opt/anaconda3/lib/python3.9/site-packages/xgboost/data.py:250: FutureWarning: pandas.Int64Index is deprecated and will be removed from pandas in a future version. Use pandas.Index with the appropriate dtype instead.\n",
      "  elif isinstance(data.columns, (pd.Int64Index, pd.RangeIndex)):\n",
      "/opt/anaconda3/lib/python3.9/site-packages/xgboost/data.py:250: FutureWarning: pandas.Int64Index is deprecated and will be removed from pandas in a future version. Use pandas.Index with the appropriate dtype instead.\n",
      "  elif isinstance(data.columns, (pd.Int64Index, pd.RangeIndex)):\n",
      "/opt/anaconda3/lib/python3.9/site-packages/xgboost/data.py:250: FutureWarning: pandas.Int64Index is deprecated and will be removed from pandas in a future version. Use pandas.Index with the appropriate dtype instead.\n",
      "  elif isinstance(data.columns, (pd.Int64Index, pd.RangeIndex)):\n",
      "/opt/anaconda3/lib/python3.9/site-packages/xgboost/data.py:250: FutureWarning: pandas.Int64Index is deprecated and will be removed from pandas in a future version. Use pandas.Index with the appropriate dtype instead.\n",
      "  elif isinstance(data.columns, (pd.Int64Index, pd.RangeIndex)):\n",
      "/opt/anaconda3/lib/python3.9/site-packages/xgboost/data.py:250: FutureWarning: pandas.Int64Index is deprecated and will be removed from pandas in a future version. Use pandas.Index with the appropriate dtype instead.\n",
      "  elif isinstance(data.columns, (pd.Int64Index, pd.RangeIndex)):\n",
      "/opt/anaconda3/lib/python3.9/site-packages/xgboost/data.py:250: FutureWarning: pandas.Int64Index is deprecated and will be removed from pandas in a future version. Use pandas.Index with the appropriate dtype instead.\n",
      "  elif isinstance(data.columns, (pd.Int64Index, pd.RangeIndex)):\n",
      "/opt/anaconda3/lib/python3.9/site-packages/xgboost/data.py:250: FutureWarning: pandas.Int64Index is deprecated and will be removed from pandas in a future version. Use pandas.Index with the appropriate dtype instead.\n",
      "  elif isinstance(data.columns, (pd.Int64Index, pd.RangeIndex)):\n",
      "/opt/anaconda3/lib/python3.9/site-packages/xgboost/data.py:250: FutureWarning: pandas.Int64Index is deprecated and will be removed from pandas in a future version. Use pandas.Index with the appropriate dtype instead.\n",
      "  elif isinstance(data.columns, (pd.Int64Index, pd.RangeIndex)):\n",
      "/opt/anaconda3/lib/python3.9/site-packages/xgboost/data.py:250: FutureWarning: pandas.Int64Index is deprecated and will be removed from pandas in a future version. Use pandas.Index with the appropriate dtype instead.\n",
      "  elif isinstance(data.columns, (pd.Int64Index, pd.RangeIndex)):\n",
      "/opt/anaconda3/lib/python3.9/site-packages/xgboost/data.py:250: FutureWarning: pandas.Int64Index is deprecated and will be removed from pandas in a future version. Use pandas.Index with the appropriate dtype instead.\n",
      "  elif isinstance(data.columns, (pd.Int64Index, pd.RangeIndex)):\n",
      "/opt/anaconda3/lib/python3.9/site-packages/xgboost/data.py:250: FutureWarning: pandas.Int64Index is deprecated and will be removed from pandas in a future version. Use pandas.Index with the appropriate dtype instead.\n",
      "  elif isinstance(data.columns, (pd.Int64Index, pd.RangeIndex)):\n",
      "/opt/anaconda3/lib/python3.9/site-packages/xgboost/data.py:250: FutureWarning: pandas.Int64Index is deprecated and will be removed from pandas in a future version. Use pandas.Index with the appropriate dtype instead.\n",
      "  elif isinstance(data.columns, (pd.Int64Index, pd.RangeIndex)):\n",
      "/opt/anaconda3/lib/python3.9/site-packages/xgboost/data.py:250: FutureWarning: pandas.Int64Index is deprecated and will be removed from pandas in a future version. Use pandas.Index with the appropriate dtype instead.\n",
      "  elif isinstance(data.columns, (pd.Int64Index, pd.RangeIndex)):\n",
      "/opt/anaconda3/lib/python3.9/site-packages/xgboost/data.py:250: FutureWarning: pandas.Int64Index is deprecated and will be removed from pandas in a future version. Use pandas.Index with the appropriate dtype instead.\n",
      "  elif isinstance(data.columns, (pd.Int64Index, pd.RangeIndex)):\n",
      "/opt/anaconda3/lib/python3.9/site-packages/xgboost/data.py:250: FutureWarning: pandas.Int64Index is deprecated and will be removed from pandas in a future version. Use pandas.Index with the appropriate dtype instead.\n",
      "  elif isinstance(data.columns, (pd.Int64Index, pd.RangeIndex)):\n",
      "/opt/anaconda3/lib/python3.9/site-packages/xgboost/data.py:250: FutureWarning: pandas.Int64Index is deprecated and will be removed from pandas in a future version. Use pandas.Index with the appropriate dtype instead.\n",
      "  elif isinstance(data.columns, (pd.Int64Index, pd.RangeIndex)):\n",
      "/opt/anaconda3/lib/python3.9/site-packages/xgboost/data.py:250: FutureWarning: pandas.Int64Index is deprecated and will be removed from pandas in a future version. Use pandas.Index with the appropriate dtype instead.\n",
      "  elif isinstance(data.columns, (pd.Int64Index, pd.RangeIndex)):\n",
      "/opt/anaconda3/lib/python3.9/site-packages/xgboost/data.py:250: FutureWarning: pandas.Int64Index is deprecated and will be removed from pandas in a future version. Use pandas.Index with the appropriate dtype instead.\n",
      "  elif isinstance(data.columns, (pd.Int64Index, pd.RangeIndex)):\n",
      "/opt/anaconda3/lib/python3.9/site-packages/xgboost/data.py:250: FutureWarning: pandas.Int64Index is deprecated and will be removed from pandas in a future version. Use pandas.Index with the appropriate dtype instead.\n",
      "  elif isinstance(data.columns, (pd.Int64Index, pd.RangeIndex)):\n",
      "/opt/anaconda3/lib/python3.9/site-packages/xgboost/data.py:250: FutureWarning: pandas.Int64Index is deprecated and will be removed from pandas in a future version. Use pandas.Index with the appropriate dtype instead.\n",
      "  elif isinstance(data.columns, (pd.Int64Index, pd.RangeIndex)):\n",
      "/opt/anaconda3/lib/python3.9/site-packages/xgboost/data.py:250: FutureWarning: pandas.Int64Index is deprecated and will be removed from pandas in a future version. Use pandas.Index with the appropriate dtype instead.\n",
      "  elif isinstance(data.columns, (pd.Int64Index, pd.RangeIndex)):\n",
      "/opt/anaconda3/lib/python3.9/site-packages/xgboost/data.py:250: FutureWarning: pandas.Int64Index is deprecated and will be removed from pandas in a future version. Use pandas.Index with the appropriate dtype instead.\n",
      "  elif isinstance(data.columns, (pd.Int64Index, pd.RangeIndex)):\n",
      "/opt/anaconda3/lib/python3.9/site-packages/xgboost/data.py:250: FutureWarning: pandas.Int64Index is deprecated and will be removed from pandas in a future version. Use pandas.Index with the appropriate dtype instead.\n",
      "  elif isinstance(data.columns, (pd.Int64Index, pd.RangeIndex)):\n",
      "/opt/anaconda3/lib/python3.9/site-packages/xgboost/data.py:250: FutureWarning: pandas.Int64Index is deprecated and will be removed from pandas in a future version. Use pandas.Index with the appropriate dtype instead.\n",
      "  elif isinstance(data.columns, (pd.Int64Index, pd.RangeIndex)):\n",
      "/opt/anaconda3/lib/python3.9/site-packages/xgboost/data.py:250: FutureWarning: pandas.Int64Index is deprecated and will be removed from pandas in a future version. Use pandas.Index with the appropriate dtype instead.\n",
      "  elif isinstance(data.columns, (pd.Int64Index, pd.RangeIndex)):\n",
      "/opt/anaconda3/lib/python3.9/site-packages/xgboost/data.py:250: FutureWarning: pandas.Int64Index is deprecated and will be removed from pandas in a future version. Use pandas.Index with the appropriate dtype instead.\n",
      "  elif isinstance(data.columns, (pd.Int64Index, pd.RangeIndex)):\n",
      "/opt/anaconda3/lib/python3.9/site-packages/xgboost/data.py:250: FutureWarning: pandas.Int64Index is deprecated and will be removed from pandas in a future version. Use pandas.Index with the appropriate dtype instead.\n",
      "  elif isinstance(data.columns, (pd.Int64Index, pd.RangeIndex)):\n"
     ]
    },
    {
     "name": "stderr",
     "output_type": "stream",
     "text": [
      "/opt/anaconda3/lib/python3.9/site-packages/xgboost/data.py:250: FutureWarning: pandas.Int64Index is deprecated and will be removed from pandas in a future version. Use pandas.Index with the appropriate dtype instead.\n",
      "  elif isinstance(data.columns, (pd.Int64Index, pd.RangeIndex)):\n",
      "/opt/anaconda3/lib/python3.9/site-packages/xgboost/data.py:250: FutureWarning: pandas.Int64Index is deprecated and will be removed from pandas in a future version. Use pandas.Index with the appropriate dtype instead.\n",
      "  elif isinstance(data.columns, (pd.Int64Index, pd.RangeIndex)):\n",
      "/opt/anaconda3/lib/python3.9/site-packages/xgboost/data.py:250: FutureWarning: pandas.Int64Index is deprecated and will be removed from pandas in a future version. Use pandas.Index with the appropriate dtype instead.\n",
      "  elif isinstance(data.columns, (pd.Int64Index, pd.RangeIndex)):\n",
      "/opt/anaconda3/lib/python3.9/site-packages/xgboost/data.py:250: FutureWarning: pandas.Int64Index is deprecated and will be removed from pandas in a future version. Use pandas.Index with the appropriate dtype instead.\n",
      "  elif isinstance(data.columns, (pd.Int64Index, pd.RangeIndex)):\n",
      "/opt/anaconda3/lib/python3.9/site-packages/xgboost/data.py:250: FutureWarning: pandas.Int64Index is deprecated and will be removed from pandas in a future version. Use pandas.Index with the appropriate dtype instead.\n",
      "  elif isinstance(data.columns, (pd.Int64Index, pd.RangeIndex)):\n",
      "/opt/anaconda3/lib/python3.9/site-packages/xgboost/data.py:250: FutureWarning: pandas.Int64Index is deprecated and will be removed from pandas in a future version. Use pandas.Index with the appropriate dtype instead.\n",
      "  elif isinstance(data.columns, (pd.Int64Index, pd.RangeIndex)):\n",
      "/opt/anaconda3/lib/python3.9/site-packages/xgboost/data.py:250: FutureWarning: pandas.Int64Index is deprecated and will be removed from pandas in a future version. Use pandas.Index with the appropriate dtype instead.\n",
      "  elif isinstance(data.columns, (pd.Int64Index, pd.RangeIndex)):\n",
      "/opt/anaconda3/lib/python3.9/site-packages/xgboost/data.py:250: FutureWarning: pandas.Int64Index is deprecated and will be removed from pandas in a future version. Use pandas.Index with the appropriate dtype instead.\n",
      "  elif isinstance(data.columns, (pd.Int64Index, pd.RangeIndex)):\n",
      "/opt/anaconda3/lib/python3.9/site-packages/xgboost/data.py:250: FutureWarning: pandas.Int64Index is deprecated and will be removed from pandas in a future version. Use pandas.Index with the appropriate dtype instead.\n",
      "  elif isinstance(data.columns, (pd.Int64Index, pd.RangeIndex)):\n",
      "/opt/anaconda3/lib/python3.9/site-packages/xgboost/data.py:250: FutureWarning: pandas.Int64Index is deprecated and will be removed from pandas in a future version. Use pandas.Index with the appropriate dtype instead.\n",
      "  elif isinstance(data.columns, (pd.Int64Index, pd.RangeIndex)):\n",
      "/opt/anaconda3/lib/python3.9/site-packages/xgboost/data.py:250: FutureWarning: pandas.Int64Index is deprecated and will be removed from pandas in a future version. Use pandas.Index with the appropriate dtype instead.\n",
      "  elif isinstance(data.columns, (pd.Int64Index, pd.RangeIndex)):\n",
      "/opt/anaconda3/lib/python3.9/site-packages/xgboost/data.py:250: FutureWarning: pandas.Int64Index is deprecated and will be removed from pandas in a future version. Use pandas.Index with the appropriate dtype instead.\n",
      "  elif isinstance(data.columns, (pd.Int64Index, pd.RangeIndex)):\n",
      "/opt/anaconda3/lib/python3.9/site-packages/xgboost/data.py:250: FutureWarning: pandas.Int64Index is deprecated and will be removed from pandas in a future version. Use pandas.Index with the appropriate dtype instead.\n",
      "  elif isinstance(data.columns, (pd.Int64Index, pd.RangeIndex)):\n",
      "/opt/anaconda3/lib/python3.9/site-packages/xgboost/data.py:250: FutureWarning: pandas.Int64Index is deprecated and will be removed from pandas in a future version. Use pandas.Index with the appropriate dtype instead.\n",
      "  elif isinstance(data.columns, (pd.Int64Index, pd.RangeIndex)):\n",
      "/opt/anaconda3/lib/python3.9/site-packages/xgboost/data.py:250: FutureWarning: pandas.Int64Index is deprecated and will be removed from pandas in a future version. Use pandas.Index with the appropriate dtype instead.\n",
      "  elif isinstance(data.columns, (pd.Int64Index, pd.RangeIndex)):\n",
      "/opt/anaconda3/lib/python3.9/site-packages/xgboost/data.py:250: FutureWarning: pandas.Int64Index is deprecated and will be removed from pandas in a future version. Use pandas.Index with the appropriate dtype instead.\n",
      "  elif isinstance(data.columns, (pd.Int64Index, pd.RangeIndex)):\n",
      "/opt/anaconda3/lib/python3.9/site-packages/xgboost/data.py:250: FutureWarning: pandas.Int64Index is deprecated and will be removed from pandas in a future version. Use pandas.Index with the appropriate dtype instead.\n",
      "  elif isinstance(data.columns, (pd.Int64Index, pd.RangeIndex)):\n",
      "/opt/anaconda3/lib/python3.9/site-packages/xgboost/data.py:250: FutureWarning: pandas.Int64Index is deprecated and will be removed from pandas in a future version. Use pandas.Index with the appropriate dtype instead.\n",
      "  elif isinstance(data.columns, (pd.Int64Index, pd.RangeIndex)):\n",
      "/opt/anaconda3/lib/python3.9/site-packages/xgboost/data.py:250: FutureWarning: pandas.Int64Index is deprecated and will be removed from pandas in a future version. Use pandas.Index with the appropriate dtype instead.\n",
      "  elif isinstance(data.columns, (pd.Int64Index, pd.RangeIndex)):\n",
      "/opt/anaconda3/lib/python3.9/site-packages/xgboost/data.py:250: FutureWarning: pandas.Int64Index is deprecated and will be removed from pandas in a future version. Use pandas.Index with the appropriate dtype instead.\n",
      "  elif isinstance(data.columns, (pd.Int64Index, pd.RangeIndex)):\n",
      "/opt/anaconda3/lib/python3.9/site-packages/xgboost/data.py:250: FutureWarning: pandas.Int64Index is deprecated and will be removed from pandas in a future version. Use pandas.Index with the appropriate dtype instead.\n",
      "  elif isinstance(data.columns, (pd.Int64Index, pd.RangeIndex)):\n",
      "/opt/anaconda3/lib/python3.9/site-packages/xgboost/data.py:250: FutureWarning: pandas.Int64Index is deprecated and will be removed from pandas in a future version. Use pandas.Index with the appropriate dtype instead.\n",
      "  elif isinstance(data.columns, (pd.Int64Index, pd.RangeIndex)):\n",
      "/opt/anaconda3/lib/python3.9/site-packages/xgboost/data.py:250: FutureWarning: pandas.Int64Index is deprecated and will be removed from pandas in a future version. Use pandas.Index with the appropriate dtype instead.\n",
      "  elif isinstance(data.columns, (pd.Int64Index, pd.RangeIndex)):\n",
      "/opt/anaconda3/lib/python3.9/site-packages/xgboost/data.py:250: FutureWarning: pandas.Int64Index is deprecated and will be removed from pandas in a future version. Use pandas.Index with the appropriate dtype instead.\n",
      "  elif isinstance(data.columns, (pd.Int64Index, pd.RangeIndex)):\n",
      "/opt/anaconda3/lib/python3.9/site-packages/xgboost/data.py:250: FutureWarning: pandas.Int64Index is deprecated and will be removed from pandas in a future version. Use pandas.Index with the appropriate dtype instead.\n",
      "  elif isinstance(data.columns, (pd.Int64Index, pd.RangeIndex)):\n",
      "/opt/anaconda3/lib/python3.9/site-packages/xgboost/data.py:250: FutureWarning: pandas.Int64Index is deprecated and will be removed from pandas in a future version. Use pandas.Index with the appropriate dtype instead.\n",
      "  elif isinstance(data.columns, (pd.Int64Index, pd.RangeIndex)):\n",
      "/opt/anaconda3/lib/python3.9/site-packages/xgboost/data.py:250: FutureWarning: pandas.Int64Index is deprecated and will be removed from pandas in a future version. Use pandas.Index with the appropriate dtype instead.\n",
      "  elif isinstance(data.columns, (pd.Int64Index, pd.RangeIndex)):\n",
      "/opt/anaconda3/lib/python3.9/site-packages/xgboost/data.py:250: FutureWarning: pandas.Int64Index is deprecated and will be removed from pandas in a future version. Use pandas.Index with the appropriate dtype instead.\n",
      "  elif isinstance(data.columns, (pd.Int64Index, pd.RangeIndex)):\n",
      "/opt/anaconda3/lib/python3.9/site-packages/xgboost/data.py:250: FutureWarning: pandas.Int64Index is deprecated and will be removed from pandas in a future version. Use pandas.Index with the appropriate dtype instead.\n",
      "  elif isinstance(data.columns, (pd.Int64Index, pd.RangeIndex)):\n",
      "/opt/anaconda3/lib/python3.9/site-packages/xgboost/data.py:250: FutureWarning: pandas.Int64Index is deprecated and will be removed from pandas in a future version. Use pandas.Index with the appropriate dtype instead.\n",
      "  elif isinstance(data.columns, (pd.Int64Index, pd.RangeIndex)):\n"
     ]
    },
    {
     "name": "stderr",
     "output_type": "stream",
     "text": [
      "/opt/anaconda3/lib/python3.9/site-packages/xgboost/data.py:250: FutureWarning: pandas.Int64Index is deprecated and will be removed from pandas in a future version. Use pandas.Index with the appropriate dtype instead.\n",
      "  elif isinstance(data.columns, (pd.Int64Index, pd.RangeIndex)):\n",
      "/opt/anaconda3/lib/python3.9/site-packages/xgboost/data.py:250: FutureWarning: pandas.Int64Index is deprecated and will be removed from pandas in a future version. Use pandas.Index with the appropriate dtype instead.\n",
      "  elif isinstance(data.columns, (pd.Int64Index, pd.RangeIndex)):\n",
      "/opt/anaconda3/lib/python3.9/site-packages/xgboost/data.py:250: FutureWarning: pandas.Int64Index is deprecated and will be removed from pandas in a future version. Use pandas.Index with the appropriate dtype instead.\n",
      "  elif isinstance(data.columns, (pd.Int64Index, pd.RangeIndex)):\n",
      "/opt/anaconda3/lib/python3.9/site-packages/xgboost/data.py:250: FutureWarning: pandas.Int64Index is deprecated and will be removed from pandas in a future version. Use pandas.Index with the appropriate dtype instead.\n",
      "  elif isinstance(data.columns, (pd.Int64Index, pd.RangeIndex)):\n",
      "/opt/anaconda3/lib/python3.9/site-packages/xgboost/data.py:250: FutureWarning: pandas.Int64Index is deprecated and will be removed from pandas in a future version. Use pandas.Index with the appropriate dtype instead.\n",
      "  elif isinstance(data.columns, (pd.Int64Index, pd.RangeIndex)):\n",
      "/opt/anaconda3/lib/python3.9/site-packages/xgboost/data.py:250: FutureWarning: pandas.Int64Index is deprecated and will be removed from pandas in a future version. Use pandas.Index with the appropriate dtype instead.\n",
      "  elif isinstance(data.columns, (pd.Int64Index, pd.RangeIndex)):\n",
      "/opt/anaconda3/lib/python3.9/site-packages/xgboost/data.py:250: FutureWarning: pandas.Int64Index is deprecated and will be removed from pandas in a future version. Use pandas.Index with the appropriate dtype instead.\n",
      "  elif isinstance(data.columns, (pd.Int64Index, pd.RangeIndex)):\n",
      "/opt/anaconda3/lib/python3.9/site-packages/xgboost/data.py:250: FutureWarning: pandas.Int64Index is deprecated and will be removed from pandas in a future version. Use pandas.Index with the appropriate dtype instead.\n",
      "  elif isinstance(data.columns, (pd.Int64Index, pd.RangeIndex)):\n",
      "/opt/anaconda3/lib/python3.9/site-packages/xgboost/data.py:250: FutureWarning: pandas.Int64Index is deprecated and will be removed from pandas in a future version. Use pandas.Index with the appropriate dtype instead.\n",
      "  elif isinstance(data.columns, (pd.Int64Index, pd.RangeIndex)):\n",
      "/opt/anaconda3/lib/python3.9/site-packages/xgboost/data.py:250: FutureWarning: pandas.Int64Index is deprecated and will be removed from pandas in a future version. Use pandas.Index with the appropriate dtype instead.\n",
      "  elif isinstance(data.columns, (pd.Int64Index, pd.RangeIndex)):\n",
      "/opt/anaconda3/lib/python3.9/site-packages/xgboost/data.py:250: FutureWarning: pandas.Int64Index is deprecated and will be removed from pandas in a future version. Use pandas.Index with the appropriate dtype instead.\n",
      "  elif isinstance(data.columns, (pd.Int64Index, pd.RangeIndex)):\n",
      "/opt/anaconda3/lib/python3.9/site-packages/xgboost/data.py:250: FutureWarning: pandas.Int64Index is deprecated and will be removed from pandas in a future version. Use pandas.Index with the appropriate dtype instead.\n",
      "  elif isinstance(data.columns, (pd.Int64Index, pd.RangeIndex)):\n",
      "/opt/anaconda3/lib/python3.9/site-packages/xgboost/data.py:250: FutureWarning: pandas.Int64Index is deprecated and will be removed from pandas in a future version. Use pandas.Index with the appropriate dtype instead.\n",
      "  elif isinstance(data.columns, (pd.Int64Index, pd.RangeIndex)):\n",
      "/opt/anaconda3/lib/python3.9/site-packages/xgboost/data.py:250: FutureWarning: pandas.Int64Index is deprecated and will be removed from pandas in a future version. Use pandas.Index with the appropriate dtype instead.\n",
      "  elif isinstance(data.columns, (pd.Int64Index, pd.RangeIndex)):\n",
      "/opt/anaconda3/lib/python3.9/site-packages/xgboost/data.py:250: FutureWarning: pandas.Int64Index is deprecated and will be removed from pandas in a future version. Use pandas.Index with the appropriate dtype instead.\n",
      "  elif isinstance(data.columns, (pd.Int64Index, pd.RangeIndex)):\n",
      "/opt/anaconda3/lib/python3.9/site-packages/xgboost/data.py:250: FutureWarning: pandas.Int64Index is deprecated and will be removed from pandas in a future version. Use pandas.Index with the appropriate dtype instead.\n",
      "  elif isinstance(data.columns, (pd.Int64Index, pd.RangeIndex)):\n",
      "/opt/anaconda3/lib/python3.9/site-packages/xgboost/data.py:250: FutureWarning: pandas.Int64Index is deprecated and will be removed from pandas in a future version. Use pandas.Index with the appropriate dtype instead.\n",
      "  elif isinstance(data.columns, (pd.Int64Index, pd.RangeIndex)):\n",
      "/opt/anaconda3/lib/python3.9/site-packages/xgboost/data.py:250: FutureWarning: pandas.Int64Index is deprecated and will be removed from pandas in a future version. Use pandas.Index with the appropriate dtype instead.\n",
      "  elif isinstance(data.columns, (pd.Int64Index, pd.RangeIndex)):\n",
      "/opt/anaconda3/lib/python3.9/site-packages/xgboost/data.py:250: FutureWarning: pandas.Int64Index is deprecated and will be removed from pandas in a future version. Use pandas.Index with the appropriate dtype instead.\n",
      "  elif isinstance(data.columns, (pd.Int64Index, pd.RangeIndex)):\n",
      "/opt/anaconda3/lib/python3.9/site-packages/xgboost/data.py:250: FutureWarning: pandas.Int64Index is deprecated and will be removed from pandas in a future version. Use pandas.Index with the appropriate dtype instead.\n",
      "  elif isinstance(data.columns, (pd.Int64Index, pd.RangeIndex)):\n",
      "/opt/anaconda3/lib/python3.9/site-packages/xgboost/data.py:250: FutureWarning: pandas.Int64Index is deprecated and will be removed from pandas in a future version. Use pandas.Index with the appropriate dtype instead.\n",
      "  elif isinstance(data.columns, (pd.Int64Index, pd.RangeIndex)):\n",
      "/opt/anaconda3/lib/python3.9/site-packages/xgboost/data.py:250: FutureWarning: pandas.Int64Index is deprecated and will be removed from pandas in a future version. Use pandas.Index with the appropriate dtype instead.\n",
      "  elif isinstance(data.columns, (pd.Int64Index, pd.RangeIndex)):\n",
      "/opt/anaconda3/lib/python3.9/site-packages/xgboost/data.py:250: FutureWarning: pandas.Int64Index is deprecated and will be removed from pandas in a future version. Use pandas.Index with the appropriate dtype instead.\n",
      "  elif isinstance(data.columns, (pd.Int64Index, pd.RangeIndex)):\n",
      "/opt/anaconda3/lib/python3.9/site-packages/xgboost/data.py:250: FutureWarning: pandas.Int64Index is deprecated and will be removed from pandas in a future version. Use pandas.Index with the appropriate dtype instead.\n",
      "  elif isinstance(data.columns, (pd.Int64Index, pd.RangeIndex)):\n",
      "/opt/anaconda3/lib/python3.9/site-packages/xgboost/data.py:250: FutureWarning: pandas.Int64Index is deprecated and will be removed from pandas in a future version. Use pandas.Index with the appropriate dtype instead.\n",
      "  elif isinstance(data.columns, (pd.Int64Index, pd.RangeIndex)):\n",
      "/opt/anaconda3/lib/python3.9/site-packages/xgboost/data.py:250: FutureWarning: pandas.Int64Index is deprecated and will be removed from pandas in a future version. Use pandas.Index with the appropriate dtype instead.\n",
      "  elif isinstance(data.columns, (pd.Int64Index, pd.RangeIndex)):\n",
      "/opt/anaconda3/lib/python3.9/site-packages/xgboost/data.py:250: FutureWarning: pandas.Int64Index is deprecated and will be removed from pandas in a future version. Use pandas.Index with the appropriate dtype instead.\n",
      "  elif isinstance(data.columns, (pd.Int64Index, pd.RangeIndex)):\n",
      "/opt/anaconda3/lib/python3.9/site-packages/xgboost/data.py:250: FutureWarning: pandas.Int64Index is deprecated and will be removed from pandas in a future version. Use pandas.Index with the appropriate dtype instead.\n",
      "  elif isinstance(data.columns, (pd.Int64Index, pd.RangeIndex)):\n",
      "/opt/anaconda3/lib/python3.9/site-packages/xgboost/data.py:250: FutureWarning: pandas.Int64Index is deprecated and will be removed from pandas in a future version. Use pandas.Index with the appropriate dtype instead.\n",
      "  elif isinstance(data.columns, (pd.Int64Index, pd.RangeIndex)):\n",
      "/opt/anaconda3/lib/python3.9/site-packages/xgboost/data.py:250: FutureWarning: pandas.Int64Index is deprecated and will be removed from pandas in a future version. Use pandas.Index with the appropriate dtype instead.\n",
      "  elif isinstance(data.columns, (pd.Int64Index, pd.RangeIndex)):\n"
     ]
    },
    {
     "name": "stderr",
     "output_type": "stream",
     "text": [
      "/opt/anaconda3/lib/python3.9/site-packages/xgboost/data.py:250: FutureWarning: pandas.Int64Index is deprecated and will be removed from pandas in a future version. Use pandas.Index with the appropriate dtype instead.\n",
      "  elif isinstance(data.columns, (pd.Int64Index, pd.RangeIndex)):\n",
      "/opt/anaconda3/lib/python3.9/site-packages/xgboost/data.py:250: FutureWarning: pandas.Int64Index is deprecated and will be removed from pandas in a future version. Use pandas.Index with the appropriate dtype instead.\n",
      "  elif isinstance(data.columns, (pd.Int64Index, pd.RangeIndex)):\n",
      "/opt/anaconda3/lib/python3.9/site-packages/xgboost/data.py:250: FutureWarning: pandas.Int64Index is deprecated and will be removed from pandas in a future version. Use pandas.Index with the appropriate dtype instead.\n",
      "  elif isinstance(data.columns, (pd.Int64Index, pd.RangeIndex)):\n",
      "/opt/anaconda3/lib/python3.9/site-packages/xgboost/data.py:250: FutureWarning: pandas.Int64Index is deprecated and will be removed from pandas in a future version. Use pandas.Index with the appropriate dtype instead.\n",
      "  elif isinstance(data.columns, (pd.Int64Index, pd.RangeIndex)):\n",
      "/opt/anaconda3/lib/python3.9/site-packages/xgboost/data.py:250: FutureWarning: pandas.Int64Index is deprecated and will be removed from pandas in a future version. Use pandas.Index with the appropriate dtype instead.\n",
      "  elif isinstance(data.columns, (pd.Int64Index, pd.RangeIndex)):\n",
      "/opt/anaconda3/lib/python3.9/site-packages/xgboost/data.py:250: FutureWarning: pandas.Int64Index is deprecated and will be removed from pandas in a future version. Use pandas.Index with the appropriate dtype instead.\n",
      "  elif isinstance(data.columns, (pd.Int64Index, pd.RangeIndex)):\n",
      "/opt/anaconda3/lib/python3.9/site-packages/xgboost/data.py:250: FutureWarning: pandas.Int64Index is deprecated and will be removed from pandas in a future version. Use pandas.Index with the appropriate dtype instead.\n",
      "  elif isinstance(data.columns, (pd.Int64Index, pd.RangeIndex)):\n",
      "/opt/anaconda3/lib/python3.9/site-packages/xgboost/data.py:250: FutureWarning: pandas.Int64Index is deprecated and will be removed from pandas in a future version. Use pandas.Index with the appropriate dtype instead.\n",
      "  elif isinstance(data.columns, (pd.Int64Index, pd.RangeIndex)):\n",
      "/opt/anaconda3/lib/python3.9/site-packages/xgboost/data.py:250: FutureWarning: pandas.Int64Index is deprecated and will be removed from pandas in a future version. Use pandas.Index with the appropriate dtype instead.\n",
      "  elif isinstance(data.columns, (pd.Int64Index, pd.RangeIndex)):\n",
      "/opt/anaconda3/lib/python3.9/site-packages/xgboost/data.py:250: FutureWarning: pandas.Int64Index is deprecated and will be removed from pandas in a future version. Use pandas.Index with the appropriate dtype instead.\n",
      "  elif isinstance(data.columns, (pd.Int64Index, pd.RangeIndex)):\n",
      "/opt/anaconda3/lib/python3.9/site-packages/xgboost/data.py:250: FutureWarning: pandas.Int64Index is deprecated and will be removed from pandas in a future version. Use pandas.Index with the appropriate dtype instead.\n",
      "  elif isinstance(data.columns, (pd.Int64Index, pd.RangeIndex)):\n",
      "/opt/anaconda3/lib/python3.9/site-packages/xgboost/data.py:250: FutureWarning: pandas.Int64Index is deprecated and will be removed from pandas in a future version. Use pandas.Index with the appropriate dtype instead.\n",
      "  elif isinstance(data.columns, (pd.Int64Index, pd.RangeIndex)):\n",
      "/opt/anaconda3/lib/python3.9/site-packages/xgboost/data.py:250: FutureWarning: pandas.Int64Index is deprecated and will be removed from pandas in a future version. Use pandas.Index with the appropriate dtype instead.\n",
      "  elif isinstance(data.columns, (pd.Int64Index, pd.RangeIndex)):\n",
      "/opt/anaconda3/lib/python3.9/site-packages/xgboost/data.py:250: FutureWarning: pandas.Int64Index is deprecated and will be removed from pandas in a future version. Use pandas.Index with the appropriate dtype instead.\n",
      "  elif isinstance(data.columns, (pd.Int64Index, pd.RangeIndex)):\n",
      "/opt/anaconda3/lib/python3.9/site-packages/xgboost/data.py:250: FutureWarning: pandas.Int64Index is deprecated and will be removed from pandas in a future version. Use pandas.Index with the appropriate dtype instead.\n",
      "  elif isinstance(data.columns, (pd.Int64Index, pd.RangeIndex)):\n",
      "/opt/anaconda3/lib/python3.9/site-packages/xgboost/data.py:250: FutureWarning: pandas.Int64Index is deprecated and will be removed from pandas in a future version. Use pandas.Index with the appropriate dtype instead.\n",
      "  elif isinstance(data.columns, (pd.Int64Index, pd.RangeIndex)):\n",
      "/opt/anaconda3/lib/python3.9/site-packages/xgboost/data.py:250: FutureWarning: pandas.Int64Index is deprecated and will be removed from pandas in a future version. Use pandas.Index with the appropriate dtype instead.\n",
      "  elif isinstance(data.columns, (pd.Int64Index, pd.RangeIndex)):\n",
      "/opt/anaconda3/lib/python3.9/site-packages/xgboost/data.py:250: FutureWarning: pandas.Int64Index is deprecated and will be removed from pandas in a future version. Use pandas.Index with the appropriate dtype instead.\n",
      "  elif isinstance(data.columns, (pd.Int64Index, pd.RangeIndex)):\n",
      "/opt/anaconda3/lib/python3.9/site-packages/xgboost/data.py:250: FutureWarning: pandas.Int64Index is deprecated and will be removed from pandas in a future version. Use pandas.Index with the appropriate dtype instead.\n",
      "  elif isinstance(data.columns, (pd.Int64Index, pd.RangeIndex)):\n",
      "/opt/anaconda3/lib/python3.9/site-packages/xgboost/data.py:250: FutureWarning: pandas.Int64Index is deprecated and will be removed from pandas in a future version. Use pandas.Index with the appropriate dtype instead.\n",
      "  elif isinstance(data.columns, (pd.Int64Index, pd.RangeIndex)):\n",
      "/opt/anaconda3/lib/python3.9/site-packages/xgboost/data.py:250: FutureWarning: pandas.Int64Index is deprecated and will be removed from pandas in a future version. Use pandas.Index with the appropriate dtype instead.\n",
      "  elif isinstance(data.columns, (pd.Int64Index, pd.RangeIndex)):\n",
      "/opt/anaconda3/lib/python3.9/site-packages/xgboost/data.py:250: FutureWarning: pandas.Int64Index is deprecated and will be removed from pandas in a future version. Use pandas.Index with the appropriate dtype instead.\n",
      "  elif isinstance(data.columns, (pd.Int64Index, pd.RangeIndex)):\n",
      "/opt/anaconda3/lib/python3.9/site-packages/xgboost/data.py:250: FutureWarning: pandas.Int64Index is deprecated and will be removed from pandas in a future version. Use pandas.Index with the appropriate dtype instead.\n",
      "  elif isinstance(data.columns, (pd.Int64Index, pd.RangeIndex)):\n",
      "/opt/anaconda3/lib/python3.9/site-packages/xgboost/data.py:250: FutureWarning: pandas.Int64Index is deprecated and will be removed from pandas in a future version. Use pandas.Index with the appropriate dtype instead.\n",
      "  elif isinstance(data.columns, (pd.Int64Index, pd.RangeIndex)):\n",
      "/opt/anaconda3/lib/python3.9/site-packages/xgboost/data.py:250: FutureWarning: pandas.Int64Index is deprecated and will be removed from pandas in a future version. Use pandas.Index with the appropriate dtype instead.\n",
      "  elif isinstance(data.columns, (pd.Int64Index, pd.RangeIndex)):\n",
      "/opt/anaconda3/lib/python3.9/site-packages/xgboost/data.py:250: FutureWarning: pandas.Int64Index is deprecated and will be removed from pandas in a future version. Use pandas.Index with the appropriate dtype instead.\n",
      "  elif isinstance(data.columns, (pd.Int64Index, pd.RangeIndex)):\n",
      "/opt/anaconda3/lib/python3.9/site-packages/xgboost/data.py:250: FutureWarning: pandas.Int64Index is deprecated and will be removed from pandas in a future version. Use pandas.Index with the appropriate dtype instead.\n",
      "  elif isinstance(data.columns, (pd.Int64Index, pd.RangeIndex)):\n",
      "/opt/anaconda3/lib/python3.9/site-packages/xgboost/data.py:250: FutureWarning: pandas.Int64Index is deprecated and will be removed from pandas in a future version. Use pandas.Index with the appropriate dtype instead.\n",
      "  elif isinstance(data.columns, (pd.Int64Index, pd.RangeIndex)):\n",
      "/opt/anaconda3/lib/python3.9/site-packages/xgboost/data.py:250: FutureWarning: pandas.Int64Index is deprecated and will be removed from pandas in a future version. Use pandas.Index with the appropriate dtype instead.\n",
      "  elif isinstance(data.columns, (pd.Int64Index, pd.RangeIndex)):\n",
      "/opt/anaconda3/lib/python3.9/site-packages/xgboost/data.py:250: FutureWarning: pandas.Int64Index is deprecated and will be removed from pandas in a future version. Use pandas.Index with the appropriate dtype instead.\n",
      "  elif isinstance(data.columns, (pd.Int64Index, pd.RangeIndex)):\n"
     ]
    },
    {
     "name": "stderr",
     "output_type": "stream",
     "text": [
      "/opt/anaconda3/lib/python3.9/site-packages/xgboost/data.py:250: FutureWarning: pandas.Int64Index is deprecated and will be removed from pandas in a future version. Use pandas.Index with the appropriate dtype instead.\n",
      "  elif isinstance(data.columns, (pd.Int64Index, pd.RangeIndex)):\n",
      "/opt/anaconda3/lib/python3.9/site-packages/xgboost/data.py:250: FutureWarning: pandas.Int64Index is deprecated and will be removed from pandas in a future version. Use pandas.Index with the appropriate dtype instead.\n",
      "  elif isinstance(data.columns, (pd.Int64Index, pd.RangeIndex)):\n",
      "/opt/anaconda3/lib/python3.9/site-packages/xgboost/data.py:250: FutureWarning: pandas.Int64Index is deprecated and will be removed from pandas in a future version. Use pandas.Index with the appropriate dtype instead.\n",
      "  elif isinstance(data.columns, (pd.Int64Index, pd.RangeIndex)):\n",
      "/opt/anaconda3/lib/python3.9/site-packages/xgboost/data.py:250: FutureWarning: pandas.Int64Index is deprecated and will be removed from pandas in a future version. Use pandas.Index with the appropriate dtype instead.\n",
      "  elif isinstance(data.columns, (pd.Int64Index, pd.RangeIndex)):\n",
      "/opt/anaconda3/lib/python3.9/site-packages/xgboost/data.py:250: FutureWarning: pandas.Int64Index is deprecated and will be removed from pandas in a future version. Use pandas.Index with the appropriate dtype instead.\n",
      "  elif isinstance(data.columns, (pd.Int64Index, pd.RangeIndex)):\n",
      "/opt/anaconda3/lib/python3.9/site-packages/xgboost/data.py:250: FutureWarning: pandas.Int64Index is deprecated and will be removed from pandas in a future version. Use pandas.Index with the appropriate dtype instead.\n",
      "  elif isinstance(data.columns, (pd.Int64Index, pd.RangeIndex)):\n",
      "/opt/anaconda3/lib/python3.9/site-packages/xgboost/data.py:250: FutureWarning: pandas.Int64Index is deprecated and will be removed from pandas in a future version. Use pandas.Index with the appropriate dtype instead.\n",
      "  elif isinstance(data.columns, (pd.Int64Index, pd.RangeIndex)):\n",
      "/opt/anaconda3/lib/python3.9/site-packages/xgboost/data.py:250: FutureWarning: pandas.Int64Index is deprecated and will be removed from pandas in a future version. Use pandas.Index with the appropriate dtype instead.\n",
      "  elif isinstance(data.columns, (pd.Int64Index, pd.RangeIndex)):\n",
      "/opt/anaconda3/lib/python3.9/site-packages/xgboost/data.py:250: FutureWarning: pandas.Int64Index is deprecated and will be removed from pandas in a future version. Use pandas.Index with the appropriate dtype instead.\n",
      "  elif isinstance(data.columns, (pd.Int64Index, pd.RangeIndex)):\n",
      "/opt/anaconda3/lib/python3.9/site-packages/xgboost/data.py:250: FutureWarning: pandas.Int64Index is deprecated and will be removed from pandas in a future version. Use pandas.Index with the appropriate dtype instead.\n",
      "  elif isinstance(data.columns, (pd.Int64Index, pd.RangeIndex)):\n",
      "/opt/anaconda3/lib/python3.9/site-packages/xgboost/data.py:250: FutureWarning: pandas.Int64Index is deprecated and will be removed from pandas in a future version. Use pandas.Index with the appropriate dtype instead.\n",
      "  elif isinstance(data.columns, (pd.Int64Index, pd.RangeIndex)):\n",
      "/opt/anaconda3/lib/python3.9/site-packages/xgboost/data.py:250: FutureWarning: pandas.Int64Index is deprecated and will be removed from pandas in a future version. Use pandas.Index with the appropriate dtype instead.\n",
      "  elif isinstance(data.columns, (pd.Int64Index, pd.RangeIndex)):\n",
      "/opt/anaconda3/lib/python3.9/site-packages/xgboost/data.py:250: FutureWarning: pandas.Int64Index is deprecated and will be removed from pandas in a future version. Use pandas.Index with the appropriate dtype instead.\n",
      "  elif isinstance(data.columns, (pd.Int64Index, pd.RangeIndex)):\n",
      "/opt/anaconda3/lib/python3.9/site-packages/xgboost/data.py:250: FutureWarning: pandas.Int64Index is deprecated and will be removed from pandas in a future version. Use pandas.Index with the appropriate dtype instead.\n",
      "  elif isinstance(data.columns, (pd.Int64Index, pd.RangeIndex)):\n",
      "/opt/anaconda3/lib/python3.9/site-packages/xgboost/data.py:250: FutureWarning: pandas.Int64Index is deprecated and will be removed from pandas in a future version. Use pandas.Index with the appropriate dtype instead.\n",
      "  elif isinstance(data.columns, (pd.Int64Index, pd.RangeIndex)):\n",
      "/opt/anaconda3/lib/python3.9/site-packages/xgboost/data.py:250: FutureWarning: pandas.Int64Index is deprecated and will be removed from pandas in a future version. Use pandas.Index with the appropriate dtype instead.\n",
      "  elif isinstance(data.columns, (pd.Int64Index, pd.RangeIndex)):\n",
      "/opt/anaconda3/lib/python3.9/site-packages/xgboost/data.py:250: FutureWarning: pandas.Int64Index is deprecated and will be removed from pandas in a future version. Use pandas.Index with the appropriate dtype instead.\n",
      "  elif isinstance(data.columns, (pd.Int64Index, pd.RangeIndex)):\n",
      "/opt/anaconda3/lib/python3.9/site-packages/xgboost/data.py:250: FutureWarning: pandas.Int64Index is deprecated and will be removed from pandas in a future version. Use pandas.Index with the appropriate dtype instead.\n",
      "  elif isinstance(data.columns, (pd.Int64Index, pd.RangeIndex)):\n",
      "/opt/anaconda3/lib/python3.9/site-packages/xgboost/data.py:250: FutureWarning: pandas.Int64Index is deprecated and will be removed from pandas in a future version. Use pandas.Index with the appropriate dtype instead.\n",
      "  elif isinstance(data.columns, (pd.Int64Index, pd.RangeIndex)):\n",
      "/opt/anaconda3/lib/python3.9/site-packages/xgboost/data.py:250: FutureWarning: pandas.Int64Index is deprecated and will be removed from pandas in a future version. Use pandas.Index with the appropriate dtype instead.\n",
      "  elif isinstance(data.columns, (pd.Int64Index, pd.RangeIndex)):\n",
      "/opt/anaconda3/lib/python3.9/site-packages/xgboost/data.py:250: FutureWarning: pandas.Int64Index is deprecated and will be removed from pandas in a future version. Use pandas.Index with the appropriate dtype instead.\n",
      "  elif isinstance(data.columns, (pd.Int64Index, pd.RangeIndex)):\n",
      "/opt/anaconda3/lib/python3.9/site-packages/xgboost/data.py:250: FutureWarning: pandas.Int64Index is deprecated and will be removed from pandas in a future version. Use pandas.Index with the appropriate dtype instead.\n",
      "  elif isinstance(data.columns, (pd.Int64Index, pd.RangeIndex)):\n",
      "/opt/anaconda3/lib/python3.9/site-packages/xgboost/data.py:250: FutureWarning: pandas.Int64Index is deprecated and will be removed from pandas in a future version. Use pandas.Index with the appropriate dtype instead.\n",
      "  elif isinstance(data.columns, (pd.Int64Index, pd.RangeIndex)):\n",
      "/opt/anaconda3/lib/python3.9/site-packages/xgboost/data.py:250: FutureWarning: pandas.Int64Index is deprecated and will be removed from pandas in a future version. Use pandas.Index with the appropriate dtype instead.\n",
      "  elif isinstance(data.columns, (pd.Int64Index, pd.RangeIndex)):\n",
      "/opt/anaconda3/lib/python3.9/site-packages/xgboost/data.py:250: FutureWarning: pandas.Int64Index is deprecated and will be removed from pandas in a future version. Use pandas.Index with the appropriate dtype instead.\n",
      "  elif isinstance(data.columns, (pd.Int64Index, pd.RangeIndex)):\n",
      "/opt/anaconda3/lib/python3.9/site-packages/xgboost/data.py:250: FutureWarning: pandas.Int64Index is deprecated and will be removed from pandas in a future version. Use pandas.Index with the appropriate dtype instead.\n",
      "  elif isinstance(data.columns, (pd.Int64Index, pd.RangeIndex)):\n",
      "/opt/anaconda3/lib/python3.9/site-packages/xgboost/data.py:250: FutureWarning: pandas.Int64Index is deprecated and will be removed from pandas in a future version. Use pandas.Index with the appropriate dtype instead.\n",
      "  elif isinstance(data.columns, (pd.Int64Index, pd.RangeIndex)):\n",
      "/opt/anaconda3/lib/python3.9/site-packages/xgboost/data.py:250: FutureWarning: pandas.Int64Index is deprecated and will be removed from pandas in a future version. Use pandas.Index with the appropriate dtype instead.\n",
      "  elif isinstance(data.columns, (pd.Int64Index, pd.RangeIndex)):\n",
      "/opt/anaconda3/lib/python3.9/site-packages/xgboost/data.py:250: FutureWarning: pandas.Int64Index is deprecated and will be removed from pandas in a future version. Use pandas.Index with the appropriate dtype instead.\n",
      "  elif isinstance(data.columns, (pd.Int64Index, pd.RangeIndex)):\n",
      "/opt/anaconda3/lib/python3.9/site-packages/xgboost/data.py:250: FutureWarning: pandas.Int64Index is deprecated and will be removed from pandas in a future version. Use pandas.Index with the appropriate dtype instead.\n",
      "  elif isinstance(data.columns, (pd.Int64Index, pd.RangeIndex)):\n"
     ]
    },
    {
     "name": "stderr",
     "output_type": "stream",
     "text": [
      "/opt/anaconda3/lib/python3.9/site-packages/xgboost/data.py:250: FutureWarning: pandas.Int64Index is deprecated and will be removed from pandas in a future version. Use pandas.Index with the appropriate dtype instead.\n",
      "  elif isinstance(data.columns, (pd.Int64Index, pd.RangeIndex)):\n",
      "/opt/anaconda3/lib/python3.9/site-packages/xgboost/data.py:250: FutureWarning: pandas.Int64Index is deprecated and will be removed from pandas in a future version. Use pandas.Index with the appropriate dtype instead.\n",
      "  elif isinstance(data.columns, (pd.Int64Index, pd.RangeIndex)):\n",
      "/opt/anaconda3/lib/python3.9/site-packages/xgboost/data.py:250: FutureWarning: pandas.Int64Index is deprecated and will be removed from pandas in a future version. Use pandas.Index with the appropriate dtype instead.\n",
      "  elif isinstance(data.columns, (pd.Int64Index, pd.RangeIndex)):\n",
      "/opt/anaconda3/lib/python3.9/site-packages/xgboost/data.py:250: FutureWarning: pandas.Int64Index is deprecated and will be removed from pandas in a future version. Use pandas.Index with the appropriate dtype instead.\n",
      "  elif isinstance(data.columns, (pd.Int64Index, pd.RangeIndex)):\n",
      "/opt/anaconda3/lib/python3.9/site-packages/xgboost/data.py:250: FutureWarning: pandas.Int64Index is deprecated and will be removed from pandas in a future version. Use pandas.Index with the appropriate dtype instead.\n",
      "  elif isinstance(data.columns, (pd.Int64Index, pd.RangeIndex)):\n",
      "/opt/anaconda3/lib/python3.9/site-packages/xgboost/data.py:250: FutureWarning: pandas.Int64Index is deprecated and will be removed from pandas in a future version. Use pandas.Index with the appropriate dtype instead.\n",
      "  elif isinstance(data.columns, (pd.Int64Index, pd.RangeIndex)):\n",
      "/opt/anaconda3/lib/python3.9/site-packages/xgboost/data.py:250: FutureWarning: pandas.Int64Index is deprecated and will be removed from pandas in a future version. Use pandas.Index with the appropriate dtype instead.\n",
      "  elif isinstance(data.columns, (pd.Int64Index, pd.RangeIndex)):\n",
      "/opt/anaconda3/lib/python3.9/site-packages/xgboost/data.py:250: FutureWarning: pandas.Int64Index is deprecated and will be removed from pandas in a future version. Use pandas.Index with the appropriate dtype instead.\n",
      "  elif isinstance(data.columns, (pd.Int64Index, pd.RangeIndex)):\n",
      "/opt/anaconda3/lib/python3.9/site-packages/xgboost/data.py:250: FutureWarning: pandas.Int64Index is deprecated and will be removed from pandas in a future version. Use pandas.Index with the appropriate dtype instead.\n",
      "  elif isinstance(data.columns, (pd.Int64Index, pd.RangeIndex)):\n",
      "/opt/anaconda3/lib/python3.9/site-packages/xgboost/data.py:250: FutureWarning: pandas.Int64Index is deprecated and will be removed from pandas in a future version. Use pandas.Index with the appropriate dtype instead.\n",
      "  elif isinstance(data.columns, (pd.Int64Index, pd.RangeIndex)):\n",
      "/opt/anaconda3/lib/python3.9/site-packages/xgboost/data.py:250: FutureWarning: pandas.Int64Index is deprecated and will be removed from pandas in a future version. Use pandas.Index with the appropriate dtype instead.\n",
      "  elif isinstance(data.columns, (pd.Int64Index, pd.RangeIndex)):\n",
      "/opt/anaconda3/lib/python3.9/site-packages/xgboost/data.py:250: FutureWarning: pandas.Int64Index is deprecated and will be removed from pandas in a future version. Use pandas.Index with the appropriate dtype instead.\n",
      "  elif isinstance(data.columns, (pd.Int64Index, pd.RangeIndex)):\n",
      "/opt/anaconda3/lib/python3.9/site-packages/xgboost/data.py:250: FutureWarning: pandas.Int64Index is deprecated and will be removed from pandas in a future version. Use pandas.Index with the appropriate dtype instead.\n",
      "  elif isinstance(data.columns, (pd.Int64Index, pd.RangeIndex)):\n",
      "/opt/anaconda3/lib/python3.9/site-packages/xgboost/data.py:250: FutureWarning: pandas.Int64Index is deprecated and will be removed from pandas in a future version. Use pandas.Index with the appropriate dtype instead.\n",
      "  elif isinstance(data.columns, (pd.Int64Index, pd.RangeIndex)):\n",
      "/opt/anaconda3/lib/python3.9/site-packages/xgboost/data.py:250: FutureWarning: pandas.Int64Index is deprecated and will be removed from pandas in a future version. Use pandas.Index with the appropriate dtype instead.\n",
      "  elif isinstance(data.columns, (pd.Int64Index, pd.RangeIndex)):\n",
      "/opt/anaconda3/lib/python3.9/site-packages/xgboost/data.py:250: FutureWarning: pandas.Int64Index is deprecated and will be removed from pandas in a future version. Use pandas.Index with the appropriate dtype instead.\n",
      "  elif isinstance(data.columns, (pd.Int64Index, pd.RangeIndex)):\n",
      "/opt/anaconda3/lib/python3.9/site-packages/xgboost/data.py:250: FutureWarning: pandas.Int64Index is deprecated and will be removed from pandas in a future version. Use pandas.Index with the appropriate dtype instead.\n",
      "  elif isinstance(data.columns, (pd.Int64Index, pd.RangeIndex)):\n",
      "/opt/anaconda3/lib/python3.9/site-packages/xgboost/data.py:250: FutureWarning: pandas.Int64Index is deprecated and will be removed from pandas in a future version. Use pandas.Index with the appropriate dtype instead.\n",
      "  elif isinstance(data.columns, (pd.Int64Index, pd.RangeIndex)):\n",
      "/opt/anaconda3/lib/python3.9/site-packages/xgboost/data.py:250: FutureWarning: pandas.Int64Index is deprecated and will be removed from pandas in a future version. Use pandas.Index with the appropriate dtype instead.\n",
      "  elif isinstance(data.columns, (pd.Int64Index, pd.RangeIndex)):\n",
      "/opt/anaconda3/lib/python3.9/site-packages/xgboost/data.py:250: FutureWarning: pandas.Int64Index is deprecated and will be removed from pandas in a future version. Use pandas.Index with the appropriate dtype instead.\n",
      "  elif isinstance(data.columns, (pd.Int64Index, pd.RangeIndex)):\n",
      "/opt/anaconda3/lib/python3.9/site-packages/xgboost/data.py:250: FutureWarning: pandas.Int64Index is deprecated and will be removed from pandas in a future version. Use pandas.Index with the appropriate dtype instead.\n",
      "  elif isinstance(data.columns, (pd.Int64Index, pd.RangeIndex)):\n",
      "/opt/anaconda3/lib/python3.9/site-packages/xgboost/data.py:250: FutureWarning: pandas.Int64Index is deprecated and will be removed from pandas in a future version. Use pandas.Index with the appropriate dtype instead.\n",
      "  elif isinstance(data.columns, (pd.Int64Index, pd.RangeIndex)):\n",
      "/opt/anaconda3/lib/python3.9/site-packages/xgboost/data.py:250: FutureWarning: pandas.Int64Index is deprecated and will be removed from pandas in a future version. Use pandas.Index with the appropriate dtype instead.\n",
      "  elif isinstance(data.columns, (pd.Int64Index, pd.RangeIndex)):\n",
      "/opt/anaconda3/lib/python3.9/site-packages/xgboost/data.py:250: FutureWarning: pandas.Int64Index is deprecated and will be removed from pandas in a future version. Use pandas.Index with the appropriate dtype instead.\n",
      "  elif isinstance(data.columns, (pd.Int64Index, pd.RangeIndex)):\n",
      "/opt/anaconda3/lib/python3.9/site-packages/xgboost/data.py:250: FutureWarning: pandas.Int64Index is deprecated and will be removed from pandas in a future version. Use pandas.Index with the appropriate dtype instead.\n",
      "  elif isinstance(data.columns, (pd.Int64Index, pd.RangeIndex)):\n",
      "/opt/anaconda3/lib/python3.9/site-packages/xgboost/data.py:250: FutureWarning: pandas.Int64Index is deprecated and will be removed from pandas in a future version. Use pandas.Index with the appropriate dtype instead.\n",
      "  elif isinstance(data.columns, (pd.Int64Index, pd.RangeIndex)):\n",
      "/opt/anaconda3/lib/python3.9/site-packages/xgboost/data.py:250: FutureWarning: pandas.Int64Index is deprecated and will be removed from pandas in a future version. Use pandas.Index with the appropriate dtype instead.\n",
      "  elif isinstance(data.columns, (pd.Int64Index, pd.RangeIndex)):\n",
      "/opt/anaconda3/lib/python3.9/site-packages/xgboost/data.py:250: FutureWarning: pandas.Int64Index is deprecated and will be removed from pandas in a future version. Use pandas.Index with the appropriate dtype instead.\n",
      "  elif isinstance(data.columns, (pd.Int64Index, pd.RangeIndex)):\n",
      "/opt/anaconda3/lib/python3.9/site-packages/xgboost/data.py:250: FutureWarning: pandas.Int64Index is deprecated and will be removed from pandas in a future version. Use pandas.Index with the appropriate dtype instead.\n",
      "  elif isinstance(data.columns, (pd.Int64Index, pd.RangeIndex)):\n",
      "/opt/anaconda3/lib/python3.9/site-packages/xgboost/data.py:250: FutureWarning: pandas.Int64Index is deprecated and will be removed from pandas in a future version. Use pandas.Index with the appropriate dtype instead.\n",
      "  elif isinstance(data.columns, (pd.Int64Index, pd.RangeIndex)):\n"
     ]
    },
    {
     "name": "stderr",
     "output_type": "stream",
     "text": [
      "/opt/anaconda3/lib/python3.9/site-packages/xgboost/data.py:250: FutureWarning: pandas.Int64Index is deprecated and will be removed from pandas in a future version. Use pandas.Index with the appropriate dtype instead.\n",
      "  elif isinstance(data.columns, (pd.Int64Index, pd.RangeIndex)):\n",
      "/opt/anaconda3/lib/python3.9/site-packages/xgboost/data.py:250: FutureWarning: pandas.Int64Index is deprecated and will be removed from pandas in a future version. Use pandas.Index with the appropriate dtype instead.\n",
      "  elif isinstance(data.columns, (pd.Int64Index, pd.RangeIndex)):\n",
      "/opt/anaconda3/lib/python3.9/site-packages/xgboost/data.py:250: FutureWarning: pandas.Int64Index is deprecated and will be removed from pandas in a future version. Use pandas.Index with the appropriate dtype instead.\n",
      "  elif isinstance(data.columns, (pd.Int64Index, pd.RangeIndex)):\n",
      "/opt/anaconda3/lib/python3.9/site-packages/xgboost/data.py:250: FutureWarning: pandas.Int64Index is deprecated and will be removed from pandas in a future version. Use pandas.Index with the appropriate dtype instead.\n",
      "  elif isinstance(data.columns, (pd.Int64Index, pd.RangeIndex)):\n",
      "/opt/anaconda3/lib/python3.9/site-packages/xgboost/data.py:250: FutureWarning: pandas.Int64Index is deprecated and will be removed from pandas in a future version. Use pandas.Index with the appropriate dtype instead.\n",
      "  elif isinstance(data.columns, (pd.Int64Index, pd.RangeIndex)):\n",
      "/opt/anaconda3/lib/python3.9/site-packages/xgboost/data.py:250: FutureWarning: pandas.Int64Index is deprecated and will be removed from pandas in a future version. Use pandas.Index with the appropriate dtype instead.\n",
      "  elif isinstance(data.columns, (pd.Int64Index, pd.RangeIndex)):\n",
      "/opt/anaconda3/lib/python3.9/site-packages/xgboost/data.py:250: FutureWarning: pandas.Int64Index is deprecated and will be removed from pandas in a future version. Use pandas.Index with the appropriate dtype instead.\n",
      "  elif isinstance(data.columns, (pd.Int64Index, pd.RangeIndex)):\n",
      "/opt/anaconda3/lib/python3.9/site-packages/xgboost/data.py:250: FutureWarning: pandas.Int64Index is deprecated and will be removed from pandas in a future version. Use pandas.Index with the appropriate dtype instead.\n",
      "  elif isinstance(data.columns, (pd.Int64Index, pd.RangeIndex)):\n",
      "/opt/anaconda3/lib/python3.9/site-packages/xgboost/data.py:250: FutureWarning: pandas.Int64Index is deprecated and will be removed from pandas in a future version. Use pandas.Index with the appropriate dtype instead.\n",
      "  elif isinstance(data.columns, (pd.Int64Index, pd.RangeIndex)):\n",
      "/opt/anaconda3/lib/python3.9/site-packages/xgboost/data.py:250: FutureWarning: pandas.Int64Index is deprecated and will be removed from pandas in a future version. Use pandas.Index with the appropriate dtype instead.\n",
      "  elif isinstance(data.columns, (pd.Int64Index, pd.RangeIndex)):\n",
      "/opt/anaconda3/lib/python3.9/site-packages/xgboost/data.py:250: FutureWarning: pandas.Int64Index is deprecated and will be removed from pandas in a future version. Use pandas.Index with the appropriate dtype instead.\n",
      "  elif isinstance(data.columns, (pd.Int64Index, pd.RangeIndex)):\n",
      "/opt/anaconda3/lib/python3.9/site-packages/xgboost/data.py:250: FutureWarning: pandas.Int64Index is deprecated and will be removed from pandas in a future version. Use pandas.Index with the appropriate dtype instead.\n",
      "  elif isinstance(data.columns, (pd.Int64Index, pd.RangeIndex)):\n",
      "/opt/anaconda3/lib/python3.9/site-packages/xgboost/data.py:250: FutureWarning: pandas.Int64Index is deprecated and will be removed from pandas in a future version. Use pandas.Index with the appropriate dtype instead.\n",
      "  elif isinstance(data.columns, (pd.Int64Index, pd.RangeIndex)):\n",
      "/opt/anaconda3/lib/python3.9/site-packages/xgboost/data.py:250: FutureWarning: pandas.Int64Index is deprecated and will be removed from pandas in a future version. Use pandas.Index with the appropriate dtype instead.\n",
      "  elif isinstance(data.columns, (pd.Int64Index, pd.RangeIndex)):\n",
      "/opt/anaconda3/lib/python3.9/site-packages/xgboost/data.py:250: FutureWarning: pandas.Int64Index is deprecated and will be removed from pandas in a future version. Use pandas.Index with the appropriate dtype instead.\n",
      "  elif isinstance(data.columns, (pd.Int64Index, pd.RangeIndex)):\n",
      "/opt/anaconda3/lib/python3.9/site-packages/xgboost/data.py:250: FutureWarning: pandas.Int64Index is deprecated and will be removed from pandas in a future version. Use pandas.Index with the appropriate dtype instead.\n",
      "  elif isinstance(data.columns, (pd.Int64Index, pd.RangeIndex)):\n",
      "/opt/anaconda3/lib/python3.9/site-packages/xgboost/data.py:250: FutureWarning: pandas.Int64Index is deprecated and will be removed from pandas in a future version. Use pandas.Index with the appropriate dtype instead.\n",
      "  elif isinstance(data.columns, (pd.Int64Index, pd.RangeIndex)):\n",
      "/opt/anaconda3/lib/python3.9/site-packages/xgboost/data.py:250: FutureWarning: pandas.Int64Index is deprecated and will be removed from pandas in a future version. Use pandas.Index with the appropriate dtype instead.\n",
      "  elif isinstance(data.columns, (pd.Int64Index, pd.RangeIndex)):\n",
      "/opt/anaconda3/lib/python3.9/site-packages/xgboost/data.py:250: FutureWarning: pandas.Int64Index is deprecated and will be removed from pandas in a future version. Use pandas.Index with the appropriate dtype instead.\n",
      "  elif isinstance(data.columns, (pd.Int64Index, pd.RangeIndex)):\n",
      "/opt/anaconda3/lib/python3.9/site-packages/xgboost/data.py:250: FutureWarning: pandas.Int64Index is deprecated and will be removed from pandas in a future version. Use pandas.Index with the appropriate dtype instead.\n",
      "  elif isinstance(data.columns, (pd.Int64Index, pd.RangeIndex)):\n",
      "/opt/anaconda3/lib/python3.9/site-packages/xgboost/data.py:250: FutureWarning: pandas.Int64Index is deprecated and will be removed from pandas in a future version. Use pandas.Index with the appropriate dtype instead.\n",
      "  elif isinstance(data.columns, (pd.Int64Index, pd.RangeIndex)):\n",
      "/opt/anaconda3/lib/python3.9/site-packages/xgboost/data.py:250: FutureWarning: pandas.Int64Index is deprecated and will be removed from pandas in a future version. Use pandas.Index with the appropriate dtype instead.\n",
      "  elif isinstance(data.columns, (pd.Int64Index, pd.RangeIndex)):\n",
      "/opt/anaconda3/lib/python3.9/site-packages/xgboost/data.py:250: FutureWarning: pandas.Int64Index is deprecated and will be removed from pandas in a future version. Use pandas.Index with the appropriate dtype instead.\n",
      "  elif isinstance(data.columns, (pd.Int64Index, pd.RangeIndex)):\n",
      "/opt/anaconda3/lib/python3.9/site-packages/xgboost/data.py:250: FutureWarning: pandas.Int64Index is deprecated and will be removed from pandas in a future version. Use pandas.Index with the appropriate dtype instead.\n",
      "  elif isinstance(data.columns, (pd.Int64Index, pd.RangeIndex)):\n",
      "/opt/anaconda3/lib/python3.9/site-packages/xgboost/data.py:250: FutureWarning: pandas.Int64Index is deprecated and will be removed from pandas in a future version. Use pandas.Index with the appropriate dtype instead.\n",
      "  elif isinstance(data.columns, (pd.Int64Index, pd.RangeIndex)):\n",
      "/opt/anaconda3/lib/python3.9/site-packages/xgboost/data.py:250: FutureWarning: pandas.Int64Index is deprecated and will be removed from pandas in a future version. Use pandas.Index with the appropriate dtype instead.\n",
      "  elif isinstance(data.columns, (pd.Int64Index, pd.RangeIndex)):\n",
      "/opt/anaconda3/lib/python3.9/site-packages/xgboost/data.py:250: FutureWarning: pandas.Int64Index is deprecated and will be removed from pandas in a future version. Use pandas.Index with the appropriate dtype instead.\n",
      "  elif isinstance(data.columns, (pd.Int64Index, pd.RangeIndex)):\n",
      "/opt/anaconda3/lib/python3.9/site-packages/xgboost/data.py:250: FutureWarning: pandas.Int64Index is deprecated and will be removed from pandas in a future version. Use pandas.Index with the appropriate dtype instead.\n",
      "  elif isinstance(data.columns, (pd.Int64Index, pd.RangeIndex)):\n",
      "/opt/anaconda3/lib/python3.9/site-packages/xgboost/data.py:250: FutureWarning: pandas.Int64Index is deprecated and will be removed from pandas in a future version. Use pandas.Index with the appropriate dtype instead.\n",
      "  elif isinstance(data.columns, (pd.Int64Index, pd.RangeIndex)):\n",
      "/opt/anaconda3/lib/python3.9/site-packages/xgboost/data.py:250: FutureWarning: pandas.Int64Index is deprecated and will be removed from pandas in a future version. Use pandas.Index with the appropriate dtype instead.\n",
      "  elif isinstance(data.columns, (pd.Int64Index, pd.RangeIndex)):\n"
     ]
    },
    {
     "name": "stderr",
     "output_type": "stream",
     "text": [
      "/opt/anaconda3/lib/python3.9/site-packages/xgboost/data.py:250: FutureWarning: pandas.Int64Index is deprecated and will be removed from pandas in a future version. Use pandas.Index with the appropriate dtype instead.\n",
      "  elif isinstance(data.columns, (pd.Int64Index, pd.RangeIndex)):\n",
      "/opt/anaconda3/lib/python3.9/site-packages/xgboost/data.py:250: FutureWarning: pandas.Int64Index is deprecated and will be removed from pandas in a future version. Use pandas.Index with the appropriate dtype instead.\n",
      "  elif isinstance(data.columns, (pd.Int64Index, pd.RangeIndex)):\n",
      "/opt/anaconda3/lib/python3.9/site-packages/xgboost/data.py:250: FutureWarning: pandas.Int64Index is deprecated and will be removed from pandas in a future version. Use pandas.Index with the appropriate dtype instead.\n",
      "  elif isinstance(data.columns, (pd.Int64Index, pd.RangeIndex)):\n",
      "/opt/anaconda3/lib/python3.9/site-packages/xgboost/data.py:250: FutureWarning: pandas.Int64Index is deprecated and will be removed from pandas in a future version. Use pandas.Index with the appropriate dtype instead.\n",
      "  elif isinstance(data.columns, (pd.Int64Index, pd.RangeIndex)):\n",
      "/opt/anaconda3/lib/python3.9/site-packages/xgboost/data.py:250: FutureWarning: pandas.Int64Index is deprecated and will be removed from pandas in a future version. Use pandas.Index with the appropriate dtype instead.\n",
      "  elif isinstance(data.columns, (pd.Int64Index, pd.RangeIndex)):\n",
      "/opt/anaconda3/lib/python3.9/site-packages/xgboost/data.py:250: FutureWarning: pandas.Int64Index is deprecated and will be removed from pandas in a future version. Use pandas.Index with the appropriate dtype instead.\n",
      "  elif isinstance(data.columns, (pd.Int64Index, pd.RangeIndex)):\n",
      "/opt/anaconda3/lib/python3.9/site-packages/xgboost/data.py:250: FutureWarning: pandas.Int64Index is deprecated and will be removed from pandas in a future version. Use pandas.Index with the appropriate dtype instead.\n",
      "  elif isinstance(data.columns, (pd.Int64Index, pd.RangeIndex)):\n",
      "/opt/anaconda3/lib/python3.9/site-packages/xgboost/data.py:250: FutureWarning: pandas.Int64Index is deprecated and will be removed from pandas in a future version. Use pandas.Index with the appropriate dtype instead.\n",
      "  elif isinstance(data.columns, (pd.Int64Index, pd.RangeIndex)):\n",
      "/opt/anaconda3/lib/python3.9/site-packages/xgboost/data.py:250: FutureWarning: pandas.Int64Index is deprecated and will be removed from pandas in a future version. Use pandas.Index with the appropriate dtype instead.\n",
      "  elif isinstance(data.columns, (pd.Int64Index, pd.RangeIndex)):\n",
      "/opt/anaconda3/lib/python3.9/site-packages/xgboost/data.py:250: FutureWarning: pandas.Int64Index is deprecated and will be removed from pandas in a future version. Use pandas.Index with the appropriate dtype instead.\n",
      "  elif isinstance(data.columns, (pd.Int64Index, pd.RangeIndex)):\n",
      "/opt/anaconda3/lib/python3.9/site-packages/xgboost/data.py:250: FutureWarning: pandas.Int64Index is deprecated and will be removed from pandas in a future version. Use pandas.Index with the appropriate dtype instead.\n",
      "  elif isinstance(data.columns, (pd.Int64Index, pd.RangeIndex)):\n",
      "/opt/anaconda3/lib/python3.9/site-packages/xgboost/data.py:250: FutureWarning: pandas.Int64Index is deprecated and will be removed from pandas in a future version. Use pandas.Index with the appropriate dtype instead.\n",
      "  elif isinstance(data.columns, (pd.Int64Index, pd.RangeIndex)):\n",
      "/opt/anaconda3/lib/python3.9/site-packages/xgboost/data.py:250: FutureWarning: pandas.Int64Index is deprecated and will be removed from pandas in a future version. Use pandas.Index with the appropriate dtype instead.\n",
      "  elif isinstance(data.columns, (pd.Int64Index, pd.RangeIndex)):\n",
      "/opt/anaconda3/lib/python3.9/site-packages/xgboost/data.py:250: FutureWarning: pandas.Int64Index is deprecated and will be removed from pandas in a future version. Use pandas.Index with the appropriate dtype instead.\n",
      "  elif isinstance(data.columns, (pd.Int64Index, pd.RangeIndex)):\n",
      "/opt/anaconda3/lib/python3.9/site-packages/xgboost/data.py:250: FutureWarning: pandas.Int64Index is deprecated and will be removed from pandas in a future version. Use pandas.Index with the appropriate dtype instead.\n",
      "  elif isinstance(data.columns, (pd.Int64Index, pd.RangeIndex)):\n",
      "/opt/anaconda3/lib/python3.9/site-packages/xgboost/data.py:250: FutureWarning: pandas.Int64Index is deprecated and will be removed from pandas in a future version. Use pandas.Index with the appropriate dtype instead.\n",
      "  elif isinstance(data.columns, (pd.Int64Index, pd.RangeIndex)):\n",
      "/opt/anaconda3/lib/python3.9/site-packages/xgboost/data.py:250: FutureWarning: pandas.Int64Index is deprecated and will be removed from pandas in a future version. Use pandas.Index with the appropriate dtype instead.\n",
      "  elif isinstance(data.columns, (pd.Int64Index, pd.RangeIndex)):\n",
      "/opt/anaconda3/lib/python3.9/site-packages/xgboost/data.py:250: FutureWarning: pandas.Int64Index is deprecated and will be removed from pandas in a future version. Use pandas.Index with the appropriate dtype instead.\n",
      "  elif isinstance(data.columns, (pd.Int64Index, pd.RangeIndex)):\n",
      "/opt/anaconda3/lib/python3.9/site-packages/xgboost/data.py:250: FutureWarning: pandas.Int64Index is deprecated and will be removed from pandas in a future version. Use pandas.Index with the appropriate dtype instead.\n",
      "  elif isinstance(data.columns, (pd.Int64Index, pd.RangeIndex)):\n",
      "/opt/anaconda3/lib/python3.9/site-packages/xgboost/data.py:250: FutureWarning: pandas.Int64Index is deprecated and will be removed from pandas in a future version. Use pandas.Index with the appropriate dtype instead.\n",
      "  elif isinstance(data.columns, (pd.Int64Index, pd.RangeIndex)):\n",
      "/opt/anaconda3/lib/python3.9/site-packages/xgboost/data.py:250: FutureWarning: pandas.Int64Index is deprecated and will be removed from pandas in a future version. Use pandas.Index with the appropriate dtype instead.\n",
      "  elif isinstance(data.columns, (pd.Int64Index, pd.RangeIndex)):\n",
      "/opt/anaconda3/lib/python3.9/site-packages/xgboost/data.py:250: FutureWarning: pandas.Int64Index is deprecated and will be removed from pandas in a future version. Use pandas.Index with the appropriate dtype instead.\n",
      "  elif isinstance(data.columns, (pd.Int64Index, pd.RangeIndex)):\n",
      "/opt/anaconda3/lib/python3.9/site-packages/xgboost/data.py:250: FutureWarning: pandas.Int64Index is deprecated and will be removed from pandas in a future version. Use pandas.Index with the appropriate dtype instead.\n",
      "  elif isinstance(data.columns, (pd.Int64Index, pd.RangeIndex)):\n",
      "/opt/anaconda3/lib/python3.9/site-packages/xgboost/data.py:250: FutureWarning: pandas.Int64Index is deprecated and will be removed from pandas in a future version. Use pandas.Index with the appropriate dtype instead.\n",
      "  elif isinstance(data.columns, (pd.Int64Index, pd.RangeIndex)):\n",
      "/opt/anaconda3/lib/python3.9/site-packages/xgboost/data.py:250: FutureWarning: pandas.Int64Index is deprecated and will be removed from pandas in a future version. Use pandas.Index with the appropriate dtype instead.\n",
      "  elif isinstance(data.columns, (pd.Int64Index, pd.RangeIndex)):\n",
      "/opt/anaconda3/lib/python3.9/site-packages/xgboost/data.py:250: FutureWarning: pandas.Int64Index is deprecated and will be removed from pandas in a future version. Use pandas.Index with the appropriate dtype instead.\n",
      "  elif isinstance(data.columns, (pd.Int64Index, pd.RangeIndex)):\n",
      "/opt/anaconda3/lib/python3.9/site-packages/xgboost/data.py:250: FutureWarning: pandas.Int64Index is deprecated and will be removed from pandas in a future version. Use pandas.Index with the appropriate dtype instead.\n",
      "  elif isinstance(data.columns, (pd.Int64Index, pd.RangeIndex)):\n",
      "/opt/anaconda3/lib/python3.9/site-packages/xgboost/data.py:250: FutureWarning: pandas.Int64Index is deprecated and will be removed from pandas in a future version. Use pandas.Index with the appropriate dtype instead.\n",
      "  elif isinstance(data.columns, (pd.Int64Index, pd.RangeIndex)):\n",
      "/opt/anaconda3/lib/python3.9/site-packages/xgboost/data.py:250: FutureWarning: pandas.Int64Index is deprecated and will be removed from pandas in a future version. Use pandas.Index with the appropriate dtype instead.\n",
      "  elif isinstance(data.columns, (pd.Int64Index, pd.RangeIndex)):\n",
      "/opt/anaconda3/lib/python3.9/site-packages/xgboost/data.py:250: FutureWarning: pandas.Int64Index is deprecated and will be removed from pandas in a future version. Use pandas.Index with the appropriate dtype instead.\n",
      "  elif isinstance(data.columns, (pd.Int64Index, pd.RangeIndex)):\n"
     ]
    },
    {
     "name": "stderr",
     "output_type": "stream",
     "text": [
      "/opt/anaconda3/lib/python3.9/site-packages/xgboost/data.py:250: FutureWarning: pandas.Int64Index is deprecated and will be removed from pandas in a future version. Use pandas.Index with the appropriate dtype instead.\n",
      "  elif isinstance(data.columns, (pd.Int64Index, pd.RangeIndex)):\n",
      "/opt/anaconda3/lib/python3.9/site-packages/xgboost/data.py:250: FutureWarning: pandas.Int64Index is deprecated and will be removed from pandas in a future version. Use pandas.Index with the appropriate dtype instead.\n",
      "  elif isinstance(data.columns, (pd.Int64Index, pd.RangeIndex)):\n",
      "/opt/anaconda3/lib/python3.9/site-packages/xgboost/data.py:250: FutureWarning: pandas.Int64Index is deprecated and will be removed from pandas in a future version. Use pandas.Index with the appropriate dtype instead.\n",
      "  elif isinstance(data.columns, (pd.Int64Index, pd.RangeIndex)):\n",
      "/opt/anaconda3/lib/python3.9/site-packages/xgboost/data.py:250: FutureWarning: pandas.Int64Index is deprecated and will be removed from pandas in a future version. Use pandas.Index with the appropriate dtype instead.\n",
      "  elif isinstance(data.columns, (pd.Int64Index, pd.RangeIndex)):\n",
      "/opt/anaconda3/lib/python3.9/site-packages/xgboost/data.py:250: FutureWarning: pandas.Int64Index is deprecated and will be removed from pandas in a future version. Use pandas.Index with the appropriate dtype instead.\n",
      "  elif isinstance(data.columns, (pd.Int64Index, pd.RangeIndex)):\n",
      "/opt/anaconda3/lib/python3.9/site-packages/xgboost/data.py:250: FutureWarning: pandas.Int64Index is deprecated and will be removed from pandas in a future version. Use pandas.Index with the appropriate dtype instead.\n",
      "  elif isinstance(data.columns, (pd.Int64Index, pd.RangeIndex)):\n",
      "/opt/anaconda3/lib/python3.9/site-packages/xgboost/data.py:250: FutureWarning: pandas.Int64Index is deprecated and will be removed from pandas in a future version. Use pandas.Index with the appropriate dtype instead.\n",
      "  elif isinstance(data.columns, (pd.Int64Index, pd.RangeIndex)):\n",
      "/opt/anaconda3/lib/python3.9/site-packages/xgboost/data.py:250: FutureWarning: pandas.Int64Index is deprecated and will be removed from pandas in a future version. Use pandas.Index with the appropriate dtype instead.\n",
      "  elif isinstance(data.columns, (pd.Int64Index, pd.RangeIndex)):\n",
      "/opt/anaconda3/lib/python3.9/site-packages/xgboost/data.py:250: FutureWarning: pandas.Int64Index is deprecated and will be removed from pandas in a future version. Use pandas.Index with the appropriate dtype instead.\n",
      "  elif isinstance(data.columns, (pd.Int64Index, pd.RangeIndex)):\n",
      "/opt/anaconda3/lib/python3.9/site-packages/xgboost/data.py:250: FutureWarning: pandas.Int64Index is deprecated and will be removed from pandas in a future version. Use pandas.Index with the appropriate dtype instead.\n",
      "  elif isinstance(data.columns, (pd.Int64Index, pd.RangeIndex)):\n",
      "/opt/anaconda3/lib/python3.9/site-packages/xgboost/data.py:250: FutureWarning: pandas.Int64Index is deprecated and will be removed from pandas in a future version. Use pandas.Index with the appropriate dtype instead.\n",
      "  elif isinstance(data.columns, (pd.Int64Index, pd.RangeIndex)):\n",
      "/opt/anaconda3/lib/python3.9/site-packages/xgboost/data.py:250: FutureWarning: pandas.Int64Index is deprecated and will be removed from pandas in a future version. Use pandas.Index with the appropriate dtype instead.\n",
      "  elif isinstance(data.columns, (pd.Int64Index, pd.RangeIndex)):\n",
      "/opt/anaconda3/lib/python3.9/site-packages/xgboost/data.py:250: FutureWarning: pandas.Int64Index is deprecated and will be removed from pandas in a future version. Use pandas.Index with the appropriate dtype instead.\n",
      "  elif isinstance(data.columns, (pd.Int64Index, pd.RangeIndex)):\n",
      "/opt/anaconda3/lib/python3.9/site-packages/xgboost/data.py:250: FutureWarning: pandas.Int64Index is deprecated and will be removed from pandas in a future version. Use pandas.Index with the appropriate dtype instead.\n",
      "  elif isinstance(data.columns, (pd.Int64Index, pd.RangeIndex)):\n",
      "/opt/anaconda3/lib/python3.9/site-packages/xgboost/data.py:250: FutureWarning: pandas.Int64Index is deprecated and will be removed from pandas in a future version. Use pandas.Index with the appropriate dtype instead.\n",
      "  elif isinstance(data.columns, (pd.Int64Index, pd.RangeIndex)):\n",
      "/opt/anaconda3/lib/python3.9/site-packages/xgboost/data.py:250: FutureWarning: pandas.Int64Index is deprecated and will be removed from pandas in a future version. Use pandas.Index with the appropriate dtype instead.\n",
      "  elif isinstance(data.columns, (pd.Int64Index, pd.RangeIndex)):\n",
      "/opt/anaconda3/lib/python3.9/site-packages/xgboost/data.py:250: FutureWarning: pandas.Int64Index is deprecated and will be removed from pandas in a future version. Use pandas.Index with the appropriate dtype instead.\n",
      "  elif isinstance(data.columns, (pd.Int64Index, pd.RangeIndex)):\n",
      "/opt/anaconda3/lib/python3.9/site-packages/xgboost/data.py:250: FutureWarning: pandas.Int64Index is deprecated and will be removed from pandas in a future version. Use pandas.Index with the appropriate dtype instead.\n",
      "  elif isinstance(data.columns, (pd.Int64Index, pd.RangeIndex)):\n",
      "/opt/anaconda3/lib/python3.9/site-packages/xgboost/data.py:250: FutureWarning: pandas.Int64Index is deprecated and will be removed from pandas in a future version. Use pandas.Index with the appropriate dtype instead.\n",
      "  elif isinstance(data.columns, (pd.Int64Index, pd.RangeIndex)):\n",
      "/opt/anaconda3/lib/python3.9/site-packages/xgboost/data.py:250: FutureWarning: pandas.Int64Index is deprecated and will be removed from pandas in a future version. Use pandas.Index with the appropriate dtype instead.\n",
      "  elif isinstance(data.columns, (pd.Int64Index, pd.RangeIndex)):\n",
      "/opt/anaconda3/lib/python3.9/site-packages/xgboost/data.py:250: FutureWarning: pandas.Int64Index is deprecated and will be removed from pandas in a future version. Use pandas.Index with the appropriate dtype instead.\n",
      "  elif isinstance(data.columns, (pd.Int64Index, pd.RangeIndex)):\n",
      "/opt/anaconda3/lib/python3.9/site-packages/xgboost/data.py:250: FutureWarning: pandas.Int64Index is deprecated and will be removed from pandas in a future version. Use pandas.Index with the appropriate dtype instead.\n",
      "  elif isinstance(data.columns, (pd.Int64Index, pd.RangeIndex)):\n",
      "/opt/anaconda3/lib/python3.9/site-packages/xgboost/data.py:250: FutureWarning: pandas.Int64Index is deprecated and will be removed from pandas in a future version. Use pandas.Index with the appropriate dtype instead.\n",
      "  elif isinstance(data.columns, (pd.Int64Index, pd.RangeIndex)):\n",
      "/opt/anaconda3/lib/python3.9/site-packages/xgboost/data.py:250: FutureWarning: pandas.Int64Index is deprecated and will be removed from pandas in a future version. Use pandas.Index with the appropriate dtype instead.\n",
      "  elif isinstance(data.columns, (pd.Int64Index, pd.RangeIndex)):\n",
      "/opt/anaconda3/lib/python3.9/site-packages/xgboost/data.py:250: FutureWarning: pandas.Int64Index is deprecated and will be removed from pandas in a future version. Use pandas.Index with the appropriate dtype instead.\n",
      "  elif isinstance(data.columns, (pd.Int64Index, pd.RangeIndex)):\n",
      "/opt/anaconda3/lib/python3.9/site-packages/xgboost/data.py:250: FutureWarning: pandas.Int64Index is deprecated and will be removed from pandas in a future version. Use pandas.Index with the appropriate dtype instead.\n",
      "  elif isinstance(data.columns, (pd.Int64Index, pd.RangeIndex)):\n",
      "/opt/anaconda3/lib/python3.9/site-packages/xgboost/data.py:250: FutureWarning: pandas.Int64Index is deprecated and will be removed from pandas in a future version. Use pandas.Index with the appropriate dtype instead.\n",
      "  elif isinstance(data.columns, (pd.Int64Index, pd.RangeIndex)):\n",
      "/opt/anaconda3/lib/python3.9/site-packages/xgboost/data.py:250: FutureWarning: pandas.Int64Index is deprecated and will be removed from pandas in a future version. Use pandas.Index with the appropriate dtype instead.\n",
      "  elif isinstance(data.columns, (pd.Int64Index, pd.RangeIndex)):\n",
      "/opt/anaconda3/lib/python3.9/site-packages/xgboost/data.py:250: FutureWarning: pandas.Int64Index is deprecated and will be removed from pandas in a future version. Use pandas.Index with the appropriate dtype instead.\n",
      "  elif isinstance(data.columns, (pd.Int64Index, pd.RangeIndex)):\n",
      "/opt/anaconda3/lib/python3.9/site-packages/xgboost/data.py:250: FutureWarning: pandas.Int64Index is deprecated and will be removed from pandas in a future version. Use pandas.Index with the appropriate dtype instead.\n",
      "  elif isinstance(data.columns, (pd.Int64Index, pd.RangeIndex)):\n"
     ]
    },
    {
     "name": "stderr",
     "output_type": "stream",
     "text": [
      "/opt/anaconda3/lib/python3.9/site-packages/xgboost/data.py:250: FutureWarning: pandas.Int64Index is deprecated and will be removed from pandas in a future version. Use pandas.Index with the appropriate dtype instead.\n",
      "  elif isinstance(data.columns, (pd.Int64Index, pd.RangeIndex)):\n",
      "/opt/anaconda3/lib/python3.9/site-packages/xgboost/data.py:250: FutureWarning: pandas.Int64Index is deprecated and will be removed from pandas in a future version. Use pandas.Index with the appropriate dtype instead.\n",
      "  elif isinstance(data.columns, (pd.Int64Index, pd.RangeIndex)):\n",
      "/opt/anaconda3/lib/python3.9/site-packages/xgboost/data.py:250: FutureWarning: pandas.Int64Index is deprecated and will be removed from pandas in a future version. Use pandas.Index with the appropriate dtype instead.\n",
      "  elif isinstance(data.columns, (pd.Int64Index, pd.RangeIndex)):\n",
      "/opt/anaconda3/lib/python3.9/site-packages/xgboost/data.py:250: FutureWarning: pandas.Int64Index is deprecated and will be removed from pandas in a future version. Use pandas.Index with the appropriate dtype instead.\n",
      "  elif isinstance(data.columns, (pd.Int64Index, pd.RangeIndex)):\n",
      "/opt/anaconda3/lib/python3.9/site-packages/xgboost/data.py:250: FutureWarning: pandas.Int64Index is deprecated and will be removed from pandas in a future version. Use pandas.Index with the appropriate dtype instead.\n",
      "  elif isinstance(data.columns, (pd.Int64Index, pd.RangeIndex)):\n",
      "/opt/anaconda3/lib/python3.9/site-packages/xgboost/data.py:250: FutureWarning: pandas.Int64Index is deprecated and will be removed from pandas in a future version. Use pandas.Index with the appropriate dtype instead.\n",
      "  elif isinstance(data.columns, (pd.Int64Index, pd.RangeIndex)):\n",
      "/opt/anaconda3/lib/python3.9/site-packages/xgboost/data.py:250: FutureWarning: pandas.Int64Index is deprecated and will be removed from pandas in a future version. Use pandas.Index with the appropriate dtype instead.\n",
      "  elif isinstance(data.columns, (pd.Int64Index, pd.RangeIndex)):\n",
      "/opt/anaconda3/lib/python3.9/site-packages/xgboost/data.py:250: FutureWarning: pandas.Int64Index is deprecated and will be removed from pandas in a future version. Use pandas.Index with the appropriate dtype instead.\n",
      "  elif isinstance(data.columns, (pd.Int64Index, pd.RangeIndex)):\n",
      "/opt/anaconda3/lib/python3.9/site-packages/xgboost/data.py:250: FutureWarning: pandas.Int64Index is deprecated and will be removed from pandas in a future version. Use pandas.Index with the appropriate dtype instead.\n",
      "  elif isinstance(data.columns, (pd.Int64Index, pd.RangeIndex)):\n",
      "/opt/anaconda3/lib/python3.9/site-packages/xgboost/data.py:250: FutureWarning: pandas.Int64Index is deprecated and will be removed from pandas in a future version. Use pandas.Index with the appropriate dtype instead.\n",
      "  elif isinstance(data.columns, (pd.Int64Index, pd.RangeIndex)):\n",
      "/opt/anaconda3/lib/python3.9/site-packages/xgboost/data.py:250: FutureWarning: pandas.Int64Index is deprecated and will be removed from pandas in a future version. Use pandas.Index with the appropriate dtype instead.\n",
      "  elif isinstance(data.columns, (pd.Int64Index, pd.RangeIndex)):\n",
      "/opt/anaconda3/lib/python3.9/site-packages/xgboost/data.py:250: FutureWarning: pandas.Int64Index is deprecated and will be removed from pandas in a future version. Use pandas.Index with the appropriate dtype instead.\n",
      "  elif isinstance(data.columns, (pd.Int64Index, pd.RangeIndex)):\n",
      "/opt/anaconda3/lib/python3.9/site-packages/xgboost/data.py:250: FutureWarning: pandas.Int64Index is deprecated and will be removed from pandas in a future version. Use pandas.Index with the appropriate dtype instead.\n",
      "  elif isinstance(data.columns, (pd.Int64Index, pd.RangeIndex)):\n",
      "/opt/anaconda3/lib/python3.9/site-packages/xgboost/data.py:250: FutureWarning: pandas.Int64Index is deprecated and will be removed from pandas in a future version. Use pandas.Index with the appropriate dtype instead.\n",
      "  elif isinstance(data.columns, (pd.Int64Index, pd.RangeIndex)):\n",
      "/opt/anaconda3/lib/python3.9/site-packages/xgboost/data.py:250: FutureWarning: pandas.Int64Index is deprecated and will be removed from pandas in a future version. Use pandas.Index with the appropriate dtype instead.\n",
      "  elif isinstance(data.columns, (pd.Int64Index, pd.RangeIndex)):\n",
      "/opt/anaconda3/lib/python3.9/site-packages/xgboost/data.py:250: FutureWarning: pandas.Int64Index is deprecated and will be removed from pandas in a future version. Use pandas.Index with the appropriate dtype instead.\n",
      "  elif isinstance(data.columns, (pd.Int64Index, pd.RangeIndex)):\n",
      "/opt/anaconda3/lib/python3.9/site-packages/xgboost/data.py:250: FutureWarning: pandas.Int64Index is deprecated and will be removed from pandas in a future version. Use pandas.Index with the appropriate dtype instead.\n",
      "  elif isinstance(data.columns, (pd.Int64Index, pd.RangeIndex)):\n",
      "/opt/anaconda3/lib/python3.9/site-packages/xgboost/data.py:250: FutureWarning: pandas.Int64Index is deprecated and will be removed from pandas in a future version. Use pandas.Index with the appropriate dtype instead.\n",
      "  elif isinstance(data.columns, (pd.Int64Index, pd.RangeIndex)):\n",
      "/opt/anaconda3/lib/python3.9/site-packages/xgboost/data.py:250: FutureWarning: pandas.Int64Index is deprecated and will be removed from pandas in a future version. Use pandas.Index with the appropriate dtype instead.\n",
      "  elif isinstance(data.columns, (pd.Int64Index, pd.RangeIndex)):\n",
      "/opt/anaconda3/lib/python3.9/site-packages/xgboost/data.py:250: FutureWarning: pandas.Int64Index is deprecated and will be removed from pandas in a future version. Use pandas.Index with the appropriate dtype instead.\n",
      "  elif isinstance(data.columns, (pd.Int64Index, pd.RangeIndex)):\n",
      "/opt/anaconda3/lib/python3.9/site-packages/xgboost/data.py:250: FutureWarning: pandas.Int64Index is deprecated and will be removed from pandas in a future version. Use pandas.Index with the appropriate dtype instead.\n",
      "  elif isinstance(data.columns, (pd.Int64Index, pd.RangeIndex)):\n",
      "/opt/anaconda3/lib/python3.9/site-packages/xgboost/data.py:250: FutureWarning: pandas.Int64Index is deprecated and will be removed from pandas in a future version. Use pandas.Index with the appropriate dtype instead.\n",
      "  elif isinstance(data.columns, (pd.Int64Index, pd.RangeIndex)):\n",
      "/opt/anaconda3/lib/python3.9/site-packages/xgboost/data.py:250: FutureWarning: pandas.Int64Index is deprecated and will be removed from pandas in a future version. Use pandas.Index with the appropriate dtype instead.\n",
      "  elif isinstance(data.columns, (pd.Int64Index, pd.RangeIndex)):\n",
      "/opt/anaconda3/lib/python3.9/site-packages/xgboost/data.py:250: FutureWarning: pandas.Int64Index is deprecated and will be removed from pandas in a future version. Use pandas.Index with the appropriate dtype instead.\n",
      "  elif isinstance(data.columns, (pd.Int64Index, pd.RangeIndex)):\n",
      "/opt/anaconda3/lib/python3.9/site-packages/xgboost/data.py:250: FutureWarning: pandas.Int64Index is deprecated and will be removed from pandas in a future version. Use pandas.Index with the appropriate dtype instead.\n",
      "  elif isinstance(data.columns, (pd.Int64Index, pd.RangeIndex)):\n",
      "/opt/anaconda3/lib/python3.9/site-packages/xgboost/data.py:250: FutureWarning: pandas.Int64Index is deprecated and will be removed from pandas in a future version. Use pandas.Index with the appropriate dtype instead.\n",
      "  elif isinstance(data.columns, (pd.Int64Index, pd.RangeIndex)):\n",
      "/opt/anaconda3/lib/python3.9/site-packages/xgboost/data.py:250: FutureWarning: pandas.Int64Index is deprecated and will be removed from pandas in a future version. Use pandas.Index with the appropriate dtype instead.\n",
      "  elif isinstance(data.columns, (pd.Int64Index, pd.RangeIndex)):\n",
      "/opt/anaconda3/lib/python3.9/site-packages/xgboost/data.py:250: FutureWarning: pandas.Int64Index is deprecated and will be removed from pandas in a future version. Use pandas.Index with the appropriate dtype instead.\n",
      "  elif isinstance(data.columns, (pd.Int64Index, pd.RangeIndex)):\n",
      "/opt/anaconda3/lib/python3.9/site-packages/xgboost/data.py:250: FutureWarning: pandas.Int64Index is deprecated and will be removed from pandas in a future version. Use pandas.Index with the appropriate dtype instead.\n",
      "  elif isinstance(data.columns, (pd.Int64Index, pd.RangeIndex)):\n",
      "/opt/anaconda3/lib/python3.9/site-packages/xgboost/data.py:250: FutureWarning: pandas.Int64Index is deprecated and will be removed from pandas in a future version. Use pandas.Index with the appropriate dtype instead.\n",
      "  elif isinstance(data.columns, (pd.Int64Index, pd.RangeIndex)):\n"
     ]
    },
    {
     "name": "stderr",
     "output_type": "stream",
     "text": [
      "/opt/anaconda3/lib/python3.9/site-packages/xgboost/data.py:250: FutureWarning: pandas.Int64Index is deprecated and will be removed from pandas in a future version. Use pandas.Index with the appropriate dtype instead.\n",
      "  elif isinstance(data.columns, (pd.Int64Index, pd.RangeIndex)):\n",
      "/opt/anaconda3/lib/python3.9/site-packages/xgboost/data.py:250: FutureWarning: pandas.Int64Index is deprecated and will be removed from pandas in a future version. Use pandas.Index with the appropriate dtype instead.\n",
      "  elif isinstance(data.columns, (pd.Int64Index, pd.RangeIndex)):\n",
      "/opt/anaconda3/lib/python3.9/site-packages/xgboost/data.py:250: FutureWarning: pandas.Int64Index is deprecated and will be removed from pandas in a future version. Use pandas.Index with the appropriate dtype instead.\n",
      "  elif isinstance(data.columns, (pd.Int64Index, pd.RangeIndex)):\n",
      "/opt/anaconda3/lib/python3.9/site-packages/xgboost/data.py:250: FutureWarning: pandas.Int64Index is deprecated and will be removed from pandas in a future version. Use pandas.Index with the appropriate dtype instead.\n",
      "  elif isinstance(data.columns, (pd.Int64Index, pd.RangeIndex)):\n",
      "/opt/anaconda3/lib/python3.9/site-packages/xgboost/data.py:250: FutureWarning: pandas.Int64Index is deprecated and will be removed from pandas in a future version. Use pandas.Index with the appropriate dtype instead.\n",
      "  elif isinstance(data.columns, (pd.Int64Index, pd.RangeIndex)):\n",
      "/opt/anaconda3/lib/python3.9/site-packages/xgboost/data.py:250: FutureWarning: pandas.Int64Index is deprecated and will be removed from pandas in a future version. Use pandas.Index with the appropriate dtype instead.\n",
      "  elif isinstance(data.columns, (pd.Int64Index, pd.RangeIndex)):\n",
      "/opt/anaconda3/lib/python3.9/site-packages/xgboost/data.py:250: FutureWarning: pandas.Int64Index is deprecated and will be removed from pandas in a future version. Use pandas.Index with the appropriate dtype instead.\n",
      "  elif isinstance(data.columns, (pd.Int64Index, pd.RangeIndex)):\n",
      "/opt/anaconda3/lib/python3.9/site-packages/xgboost/data.py:250: FutureWarning: pandas.Int64Index is deprecated and will be removed from pandas in a future version. Use pandas.Index with the appropriate dtype instead.\n",
      "  elif isinstance(data.columns, (pd.Int64Index, pd.RangeIndex)):\n",
      "/opt/anaconda3/lib/python3.9/site-packages/xgboost/data.py:250: FutureWarning: pandas.Int64Index is deprecated and will be removed from pandas in a future version. Use pandas.Index with the appropriate dtype instead.\n",
      "  elif isinstance(data.columns, (pd.Int64Index, pd.RangeIndex)):\n",
      "/opt/anaconda3/lib/python3.9/site-packages/xgboost/data.py:250: FutureWarning: pandas.Int64Index is deprecated and will be removed from pandas in a future version. Use pandas.Index with the appropriate dtype instead.\n",
      "  elif isinstance(data.columns, (pd.Int64Index, pd.RangeIndex)):\n",
      "/opt/anaconda3/lib/python3.9/site-packages/xgboost/data.py:250: FutureWarning: pandas.Int64Index is deprecated and will be removed from pandas in a future version. Use pandas.Index with the appropriate dtype instead.\n",
      "  elif isinstance(data.columns, (pd.Int64Index, pd.RangeIndex)):\n",
      "/opt/anaconda3/lib/python3.9/site-packages/xgboost/data.py:250: FutureWarning: pandas.Int64Index is deprecated and will be removed from pandas in a future version. Use pandas.Index with the appropriate dtype instead.\n",
      "  elif isinstance(data.columns, (pd.Int64Index, pd.RangeIndex)):\n",
      "/opt/anaconda3/lib/python3.9/site-packages/xgboost/data.py:250: FutureWarning: pandas.Int64Index is deprecated and will be removed from pandas in a future version. Use pandas.Index with the appropriate dtype instead.\n",
      "  elif isinstance(data.columns, (pd.Int64Index, pd.RangeIndex)):\n",
      "/opt/anaconda3/lib/python3.9/site-packages/xgboost/data.py:250: FutureWarning: pandas.Int64Index is deprecated and will be removed from pandas in a future version. Use pandas.Index with the appropriate dtype instead.\n",
      "  elif isinstance(data.columns, (pd.Int64Index, pd.RangeIndex)):\n",
      "/opt/anaconda3/lib/python3.9/site-packages/xgboost/data.py:250: FutureWarning: pandas.Int64Index is deprecated and will be removed from pandas in a future version. Use pandas.Index with the appropriate dtype instead.\n",
      "  elif isinstance(data.columns, (pd.Int64Index, pd.RangeIndex)):\n",
      "/opt/anaconda3/lib/python3.9/site-packages/xgboost/data.py:250: FutureWarning: pandas.Int64Index is deprecated and will be removed from pandas in a future version. Use pandas.Index with the appropriate dtype instead.\n",
      "  elif isinstance(data.columns, (pd.Int64Index, pd.RangeIndex)):\n",
      "/opt/anaconda3/lib/python3.9/site-packages/xgboost/data.py:250: FutureWarning: pandas.Int64Index is deprecated and will be removed from pandas in a future version. Use pandas.Index with the appropriate dtype instead.\n",
      "  elif isinstance(data.columns, (pd.Int64Index, pd.RangeIndex)):\n",
      "/opt/anaconda3/lib/python3.9/site-packages/xgboost/data.py:250: FutureWarning: pandas.Int64Index is deprecated and will be removed from pandas in a future version. Use pandas.Index with the appropriate dtype instead.\n",
      "  elif isinstance(data.columns, (pd.Int64Index, pd.RangeIndex)):\n",
      "/opt/anaconda3/lib/python3.9/site-packages/xgboost/data.py:250: FutureWarning: pandas.Int64Index is deprecated and will be removed from pandas in a future version. Use pandas.Index with the appropriate dtype instead.\n",
      "  elif isinstance(data.columns, (pd.Int64Index, pd.RangeIndex)):\n",
      "/opt/anaconda3/lib/python3.9/site-packages/xgboost/data.py:250: FutureWarning: pandas.Int64Index is deprecated and will be removed from pandas in a future version. Use pandas.Index with the appropriate dtype instead.\n",
      "  elif isinstance(data.columns, (pd.Int64Index, pd.RangeIndex)):\n",
      "/opt/anaconda3/lib/python3.9/site-packages/xgboost/data.py:250: FutureWarning: pandas.Int64Index is deprecated and will be removed from pandas in a future version. Use pandas.Index with the appropriate dtype instead.\n",
      "  elif isinstance(data.columns, (pd.Int64Index, pd.RangeIndex)):\n",
      "/opt/anaconda3/lib/python3.9/site-packages/xgboost/data.py:250: FutureWarning: pandas.Int64Index is deprecated and will be removed from pandas in a future version. Use pandas.Index with the appropriate dtype instead.\n",
      "  elif isinstance(data.columns, (pd.Int64Index, pd.RangeIndex)):\n",
      "/opt/anaconda3/lib/python3.9/site-packages/xgboost/data.py:250: FutureWarning: pandas.Int64Index is deprecated and will be removed from pandas in a future version. Use pandas.Index with the appropriate dtype instead.\n",
      "  elif isinstance(data.columns, (pd.Int64Index, pd.RangeIndex)):\n",
      "/opt/anaconda3/lib/python3.9/site-packages/xgboost/data.py:250: FutureWarning: pandas.Int64Index is deprecated and will be removed from pandas in a future version. Use pandas.Index with the appropriate dtype instead.\n",
      "  elif isinstance(data.columns, (pd.Int64Index, pd.RangeIndex)):\n",
      "/opt/anaconda3/lib/python3.9/site-packages/xgboost/data.py:250: FutureWarning: pandas.Int64Index is deprecated and will be removed from pandas in a future version. Use pandas.Index with the appropriate dtype instead.\n",
      "  elif isinstance(data.columns, (pd.Int64Index, pd.RangeIndex)):\n",
      "/opt/anaconda3/lib/python3.9/site-packages/xgboost/data.py:250: FutureWarning: pandas.Int64Index is deprecated and will be removed from pandas in a future version. Use pandas.Index with the appropriate dtype instead.\n",
      "  elif isinstance(data.columns, (pd.Int64Index, pd.RangeIndex)):\n",
      "/opt/anaconda3/lib/python3.9/site-packages/xgboost/data.py:250: FutureWarning: pandas.Int64Index is deprecated and will be removed from pandas in a future version. Use pandas.Index with the appropriate dtype instead.\n",
      "  elif isinstance(data.columns, (pd.Int64Index, pd.RangeIndex)):\n",
      "/opt/anaconda3/lib/python3.9/site-packages/xgboost/data.py:250: FutureWarning: pandas.Int64Index is deprecated and will be removed from pandas in a future version. Use pandas.Index with the appropriate dtype instead.\n",
      "  elif isinstance(data.columns, (pd.Int64Index, pd.RangeIndex)):\n",
      "/opt/anaconda3/lib/python3.9/site-packages/xgboost/data.py:250: FutureWarning: pandas.Int64Index is deprecated and will be removed from pandas in a future version. Use pandas.Index with the appropriate dtype instead.\n",
      "  elif isinstance(data.columns, (pd.Int64Index, pd.RangeIndex)):\n",
      "/opt/anaconda3/lib/python3.9/site-packages/xgboost/data.py:250: FutureWarning: pandas.Int64Index is deprecated and will be removed from pandas in a future version. Use pandas.Index with the appropriate dtype instead.\n",
      "  elif isinstance(data.columns, (pd.Int64Index, pd.RangeIndex)):\n"
     ]
    },
    {
     "name": "stderr",
     "output_type": "stream",
     "text": [
      "/opt/anaconda3/lib/python3.9/site-packages/xgboost/data.py:250: FutureWarning: pandas.Int64Index is deprecated and will be removed from pandas in a future version. Use pandas.Index with the appropriate dtype instead.\n",
      "  elif isinstance(data.columns, (pd.Int64Index, pd.RangeIndex)):\n",
      "/opt/anaconda3/lib/python3.9/site-packages/xgboost/data.py:250: FutureWarning: pandas.Int64Index is deprecated and will be removed from pandas in a future version. Use pandas.Index with the appropriate dtype instead.\n",
      "  elif isinstance(data.columns, (pd.Int64Index, pd.RangeIndex)):\n",
      "/opt/anaconda3/lib/python3.9/site-packages/xgboost/data.py:250: FutureWarning: pandas.Int64Index is deprecated and will be removed from pandas in a future version. Use pandas.Index with the appropriate dtype instead.\n",
      "  elif isinstance(data.columns, (pd.Int64Index, pd.RangeIndex)):\n",
      "/opt/anaconda3/lib/python3.9/site-packages/xgboost/data.py:250: FutureWarning: pandas.Int64Index is deprecated and will be removed from pandas in a future version. Use pandas.Index with the appropriate dtype instead.\n",
      "  elif isinstance(data.columns, (pd.Int64Index, pd.RangeIndex)):\n",
      "/opt/anaconda3/lib/python3.9/site-packages/xgboost/data.py:250: FutureWarning: pandas.Int64Index is deprecated and will be removed from pandas in a future version. Use pandas.Index with the appropriate dtype instead.\n",
      "  elif isinstance(data.columns, (pd.Int64Index, pd.RangeIndex)):\n",
      "/opt/anaconda3/lib/python3.9/site-packages/xgboost/data.py:250: FutureWarning: pandas.Int64Index is deprecated and will be removed from pandas in a future version. Use pandas.Index with the appropriate dtype instead.\n",
      "  elif isinstance(data.columns, (pd.Int64Index, pd.RangeIndex)):\n",
      "/opt/anaconda3/lib/python3.9/site-packages/xgboost/data.py:250: FutureWarning: pandas.Int64Index is deprecated and will be removed from pandas in a future version. Use pandas.Index with the appropriate dtype instead.\n",
      "  elif isinstance(data.columns, (pd.Int64Index, pd.RangeIndex)):\n",
      "/opt/anaconda3/lib/python3.9/site-packages/xgboost/data.py:250: FutureWarning: pandas.Int64Index is deprecated and will be removed from pandas in a future version. Use pandas.Index with the appropriate dtype instead.\n",
      "  elif isinstance(data.columns, (pd.Int64Index, pd.RangeIndex)):\n",
      "/opt/anaconda3/lib/python3.9/site-packages/xgboost/data.py:250: FutureWarning: pandas.Int64Index is deprecated and will be removed from pandas in a future version. Use pandas.Index with the appropriate dtype instead.\n",
      "  elif isinstance(data.columns, (pd.Int64Index, pd.RangeIndex)):\n",
      "/opt/anaconda3/lib/python3.9/site-packages/xgboost/data.py:250: FutureWarning: pandas.Int64Index is deprecated and will be removed from pandas in a future version. Use pandas.Index with the appropriate dtype instead.\n",
      "  elif isinstance(data.columns, (pd.Int64Index, pd.RangeIndex)):\n",
      "/opt/anaconda3/lib/python3.9/site-packages/xgboost/data.py:250: FutureWarning: pandas.Int64Index is deprecated and will be removed from pandas in a future version. Use pandas.Index with the appropriate dtype instead.\n",
      "  elif isinstance(data.columns, (pd.Int64Index, pd.RangeIndex)):\n",
      "/opt/anaconda3/lib/python3.9/site-packages/xgboost/data.py:250: FutureWarning: pandas.Int64Index is deprecated and will be removed from pandas in a future version. Use pandas.Index with the appropriate dtype instead.\n",
      "  elif isinstance(data.columns, (pd.Int64Index, pd.RangeIndex)):\n",
      "/opt/anaconda3/lib/python3.9/site-packages/xgboost/data.py:250: FutureWarning: pandas.Int64Index is deprecated and will be removed from pandas in a future version. Use pandas.Index with the appropriate dtype instead.\n",
      "  elif isinstance(data.columns, (pd.Int64Index, pd.RangeIndex)):\n",
      "/opt/anaconda3/lib/python3.9/site-packages/xgboost/data.py:250: FutureWarning: pandas.Int64Index is deprecated and will be removed from pandas in a future version. Use pandas.Index with the appropriate dtype instead.\n",
      "  elif isinstance(data.columns, (pd.Int64Index, pd.RangeIndex)):\n",
      "/opt/anaconda3/lib/python3.9/site-packages/xgboost/data.py:250: FutureWarning: pandas.Int64Index is deprecated and will be removed from pandas in a future version. Use pandas.Index with the appropriate dtype instead.\n",
      "  elif isinstance(data.columns, (pd.Int64Index, pd.RangeIndex)):\n",
      "/opt/anaconda3/lib/python3.9/site-packages/xgboost/data.py:250: FutureWarning: pandas.Int64Index is deprecated and will be removed from pandas in a future version. Use pandas.Index with the appropriate dtype instead.\n",
      "  elif isinstance(data.columns, (pd.Int64Index, pd.RangeIndex)):\n",
      "/opt/anaconda3/lib/python3.9/site-packages/xgboost/data.py:250: FutureWarning: pandas.Int64Index is deprecated and will be removed from pandas in a future version. Use pandas.Index with the appropriate dtype instead.\n",
      "  elif isinstance(data.columns, (pd.Int64Index, pd.RangeIndex)):\n",
      "/opt/anaconda3/lib/python3.9/site-packages/xgboost/data.py:250: FutureWarning: pandas.Int64Index is deprecated and will be removed from pandas in a future version. Use pandas.Index with the appropriate dtype instead.\n",
      "  elif isinstance(data.columns, (pd.Int64Index, pd.RangeIndex)):\n",
      "/opt/anaconda3/lib/python3.9/site-packages/xgboost/data.py:250: FutureWarning: pandas.Int64Index is deprecated and will be removed from pandas in a future version. Use pandas.Index with the appropriate dtype instead.\n",
      "  elif isinstance(data.columns, (pd.Int64Index, pd.RangeIndex)):\n",
      "/opt/anaconda3/lib/python3.9/site-packages/xgboost/data.py:250: FutureWarning: pandas.Int64Index is deprecated and will be removed from pandas in a future version. Use pandas.Index with the appropriate dtype instead.\n",
      "  elif isinstance(data.columns, (pd.Int64Index, pd.RangeIndex)):\n",
      "/opt/anaconda3/lib/python3.9/site-packages/xgboost/data.py:250: FutureWarning: pandas.Int64Index is deprecated and will be removed from pandas in a future version. Use pandas.Index with the appropriate dtype instead.\n",
      "  elif isinstance(data.columns, (pd.Int64Index, pd.RangeIndex)):\n",
      "/opt/anaconda3/lib/python3.9/site-packages/xgboost/data.py:250: FutureWarning: pandas.Int64Index is deprecated and will be removed from pandas in a future version. Use pandas.Index with the appropriate dtype instead.\n",
      "  elif isinstance(data.columns, (pd.Int64Index, pd.RangeIndex)):\n",
      "/opt/anaconda3/lib/python3.9/site-packages/xgboost/data.py:250: FutureWarning: pandas.Int64Index is deprecated and will be removed from pandas in a future version. Use pandas.Index with the appropriate dtype instead.\n",
      "  elif isinstance(data.columns, (pd.Int64Index, pd.RangeIndex)):\n",
      "/opt/anaconda3/lib/python3.9/site-packages/xgboost/data.py:250: FutureWarning: pandas.Int64Index is deprecated and will be removed from pandas in a future version. Use pandas.Index with the appropriate dtype instead.\n",
      "  elif isinstance(data.columns, (pd.Int64Index, pd.RangeIndex)):\n",
      "/opt/anaconda3/lib/python3.9/site-packages/xgboost/data.py:250: FutureWarning: pandas.Int64Index is deprecated and will be removed from pandas in a future version. Use pandas.Index with the appropriate dtype instead.\n",
      "  elif isinstance(data.columns, (pd.Int64Index, pd.RangeIndex)):\n",
      "/opt/anaconda3/lib/python3.9/site-packages/xgboost/data.py:250: FutureWarning: pandas.Int64Index is deprecated and will be removed from pandas in a future version. Use pandas.Index with the appropriate dtype instead.\n",
      "  elif isinstance(data.columns, (pd.Int64Index, pd.RangeIndex)):\n",
      "/opt/anaconda3/lib/python3.9/site-packages/xgboost/data.py:250: FutureWarning: pandas.Int64Index is deprecated and will be removed from pandas in a future version. Use pandas.Index with the appropriate dtype instead.\n",
      "  elif isinstance(data.columns, (pd.Int64Index, pd.RangeIndex)):\n",
      "/opt/anaconda3/lib/python3.9/site-packages/xgboost/data.py:250: FutureWarning: pandas.Int64Index is deprecated and will be removed from pandas in a future version. Use pandas.Index with the appropriate dtype instead.\n",
      "  elif isinstance(data.columns, (pd.Int64Index, pd.RangeIndex)):\n",
      "/opt/anaconda3/lib/python3.9/site-packages/xgboost/data.py:250: FutureWarning: pandas.Int64Index is deprecated and will be removed from pandas in a future version. Use pandas.Index with the appropriate dtype instead.\n",
      "  elif isinstance(data.columns, (pd.Int64Index, pd.RangeIndex)):\n",
      "/opt/anaconda3/lib/python3.9/site-packages/xgboost/data.py:250: FutureWarning: pandas.Int64Index is deprecated and will be removed from pandas in a future version. Use pandas.Index with the appropriate dtype instead.\n",
      "  elif isinstance(data.columns, (pd.Int64Index, pd.RangeIndex)):\n"
     ]
    },
    {
     "name": "stderr",
     "output_type": "stream",
     "text": [
      "/opt/anaconda3/lib/python3.9/site-packages/xgboost/data.py:250: FutureWarning: pandas.Int64Index is deprecated and will be removed from pandas in a future version. Use pandas.Index with the appropriate dtype instead.\n",
      "  elif isinstance(data.columns, (pd.Int64Index, pd.RangeIndex)):\n",
      "/opt/anaconda3/lib/python3.9/site-packages/xgboost/data.py:250: FutureWarning: pandas.Int64Index is deprecated and will be removed from pandas in a future version. Use pandas.Index with the appropriate dtype instead.\n",
      "  elif isinstance(data.columns, (pd.Int64Index, pd.RangeIndex)):\n",
      "/opt/anaconda3/lib/python3.9/site-packages/xgboost/data.py:250: FutureWarning: pandas.Int64Index is deprecated and will be removed from pandas in a future version. Use pandas.Index with the appropriate dtype instead.\n",
      "  elif isinstance(data.columns, (pd.Int64Index, pd.RangeIndex)):\n",
      "/opt/anaconda3/lib/python3.9/site-packages/xgboost/data.py:250: FutureWarning: pandas.Int64Index is deprecated and will be removed from pandas in a future version. Use pandas.Index with the appropriate dtype instead.\n",
      "  elif isinstance(data.columns, (pd.Int64Index, pd.RangeIndex)):\n",
      "/opt/anaconda3/lib/python3.9/site-packages/xgboost/data.py:250: FutureWarning: pandas.Int64Index is deprecated and will be removed from pandas in a future version. Use pandas.Index with the appropriate dtype instead.\n",
      "  elif isinstance(data.columns, (pd.Int64Index, pd.RangeIndex)):\n",
      "/opt/anaconda3/lib/python3.9/site-packages/xgboost/data.py:250: FutureWarning: pandas.Int64Index is deprecated and will be removed from pandas in a future version. Use pandas.Index with the appropriate dtype instead.\n",
      "  elif isinstance(data.columns, (pd.Int64Index, pd.RangeIndex)):\n",
      "/opt/anaconda3/lib/python3.9/site-packages/xgboost/data.py:250: FutureWarning: pandas.Int64Index is deprecated and will be removed from pandas in a future version. Use pandas.Index with the appropriate dtype instead.\n",
      "  elif isinstance(data.columns, (pd.Int64Index, pd.RangeIndex)):\n",
      "/opt/anaconda3/lib/python3.9/site-packages/xgboost/data.py:250: FutureWarning: pandas.Int64Index is deprecated and will be removed from pandas in a future version. Use pandas.Index with the appropriate dtype instead.\n",
      "  elif isinstance(data.columns, (pd.Int64Index, pd.RangeIndex)):\n",
      "/opt/anaconda3/lib/python3.9/site-packages/xgboost/data.py:250: FutureWarning: pandas.Int64Index is deprecated and will be removed from pandas in a future version. Use pandas.Index with the appropriate dtype instead.\n",
      "  elif isinstance(data.columns, (pd.Int64Index, pd.RangeIndex)):\n",
      "/opt/anaconda3/lib/python3.9/site-packages/xgboost/data.py:250: FutureWarning: pandas.Int64Index is deprecated and will be removed from pandas in a future version. Use pandas.Index with the appropriate dtype instead.\n",
      "  elif isinstance(data.columns, (pd.Int64Index, pd.RangeIndex)):\n",
      "/opt/anaconda3/lib/python3.9/site-packages/xgboost/data.py:250: FutureWarning: pandas.Int64Index is deprecated and will be removed from pandas in a future version. Use pandas.Index with the appropriate dtype instead.\n",
      "  elif isinstance(data.columns, (pd.Int64Index, pd.RangeIndex)):\n",
      "/opt/anaconda3/lib/python3.9/site-packages/xgboost/data.py:250: FutureWarning: pandas.Int64Index is deprecated and will be removed from pandas in a future version. Use pandas.Index with the appropriate dtype instead.\n",
      "  elif isinstance(data.columns, (pd.Int64Index, pd.RangeIndex)):\n",
      "/opt/anaconda3/lib/python3.9/site-packages/xgboost/data.py:250: FutureWarning: pandas.Int64Index is deprecated and will be removed from pandas in a future version. Use pandas.Index with the appropriate dtype instead.\n",
      "  elif isinstance(data.columns, (pd.Int64Index, pd.RangeIndex)):\n",
      "/opt/anaconda3/lib/python3.9/site-packages/xgboost/data.py:250: FutureWarning: pandas.Int64Index is deprecated and will be removed from pandas in a future version. Use pandas.Index with the appropriate dtype instead.\n",
      "  elif isinstance(data.columns, (pd.Int64Index, pd.RangeIndex)):\n",
      "/opt/anaconda3/lib/python3.9/site-packages/xgboost/data.py:250: FutureWarning: pandas.Int64Index is deprecated and will be removed from pandas in a future version. Use pandas.Index with the appropriate dtype instead.\n",
      "  elif isinstance(data.columns, (pd.Int64Index, pd.RangeIndex)):\n",
      "/opt/anaconda3/lib/python3.9/site-packages/xgboost/data.py:250: FutureWarning: pandas.Int64Index is deprecated and will be removed from pandas in a future version. Use pandas.Index with the appropriate dtype instead.\n",
      "  elif isinstance(data.columns, (pd.Int64Index, pd.RangeIndex)):\n",
      "/opt/anaconda3/lib/python3.9/site-packages/xgboost/data.py:250: FutureWarning: pandas.Int64Index is deprecated and will be removed from pandas in a future version. Use pandas.Index with the appropriate dtype instead.\n",
      "  elif isinstance(data.columns, (pd.Int64Index, pd.RangeIndex)):\n",
      "/opt/anaconda3/lib/python3.9/site-packages/xgboost/data.py:250: FutureWarning: pandas.Int64Index is deprecated and will be removed from pandas in a future version. Use pandas.Index with the appropriate dtype instead.\n",
      "  elif isinstance(data.columns, (pd.Int64Index, pd.RangeIndex)):\n",
      "/opt/anaconda3/lib/python3.9/site-packages/xgboost/data.py:250: FutureWarning: pandas.Int64Index is deprecated and will be removed from pandas in a future version. Use pandas.Index with the appropriate dtype instead.\n",
      "  elif isinstance(data.columns, (pd.Int64Index, pd.RangeIndex)):\n",
      "/opt/anaconda3/lib/python3.9/site-packages/xgboost/data.py:250: FutureWarning: pandas.Int64Index is deprecated and will be removed from pandas in a future version. Use pandas.Index with the appropriate dtype instead.\n",
      "  elif isinstance(data.columns, (pd.Int64Index, pd.RangeIndex)):\n",
      "/opt/anaconda3/lib/python3.9/site-packages/xgboost/data.py:250: FutureWarning: pandas.Int64Index is deprecated and will be removed from pandas in a future version. Use pandas.Index with the appropriate dtype instead.\n",
      "  elif isinstance(data.columns, (pd.Int64Index, pd.RangeIndex)):\n",
      "/opt/anaconda3/lib/python3.9/site-packages/xgboost/data.py:250: FutureWarning: pandas.Int64Index is deprecated and will be removed from pandas in a future version. Use pandas.Index with the appropriate dtype instead.\n",
      "  elif isinstance(data.columns, (pd.Int64Index, pd.RangeIndex)):\n",
      "/opt/anaconda3/lib/python3.9/site-packages/xgboost/data.py:250: FutureWarning: pandas.Int64Index is deprecated and will be removed from pandas in a future version. Use pandas.Index with the appropriate dtype instead.\n",
      "  elif isinstance(data.columns, (pd.Int64Index, pd.RangeIndex)):\n",
      "/opt/anaconda3/lib/python3.9/site-packages/xgboost/data.py:250: FutureWarning: pandas.Int64Index is deprecated and will be removed from pandas in a future version. Use pandas.Index with the appropriate dtype instead.\n",
      "  elif isinstance(data.columns, (pd.Int64Index, pd.RangeIndex)):\n",
      "/opt/anaconda3/lib/python3.9/site-packages/xgboost/data.py:250: FutureWarning: pandas.Int64Index is deprecated and will be removed from pandas in a future version. Use pandas.Index with the appropriate dtype instead.\n",
      "  elif isinstance(data.columns, (pd.Int64Index, pd.RangeIndex)):\n",
      "/opt/anaconda3/lib/python3.9/site-packages/xgboost/data.py:250: FutureWarning: pandas.Int64Index is deprecated and will be removed from pandas in a future version. Use pandas.Index with the appropriate dtype instead.\n",
      "  elif isinstance(data.columns, (pd.Int64Index, pd.RangeIndex)):\n",
      "/opt/anaconda3/lib/python3.9/site-packages/xgboost/data.py:250: FutureWarning: pandas.Int64Index is deprecated and will be removed from pandas in a future version. Use pandas.Index with the appropriate dtype instead.\n",
      "  elif isinstance(data.columns, (pd.Int64Index, pd.RangeIndex)):\n",
      "/opt/anaconda3/lib/python3.9/site-packages/xgboost/data.py:250: FutureWarning: pandas.Int64Index is deprecated and will be removed from pandas in a future version. Use pandas.Index with the appropriate dtype instead.\n",
      "  elif isinstance(data.columns, (pd.Int64Index, pd.RangeIndex)):\n",
      "/opt/anaconda3/lib/python3.9/site-packages/xgboost/data.py:250: FutureWarning: pandas.Int64Index is deprecated and will be removed from pandas in a future version. Use pandas.Index with the appropriate dtype instead.\n",
      "  elif isinstance(data.columns, (pd.Int64Index, pd.RangeIndex)):\n",
      "/opt/anaconda3/lib/python3.9/site-packages/xgboost/data.py:250: FutureWarning: pandas.Int64Index is deprecated and will be removed from pandas in a future version. Use pandas.Index with the appropriate dtype instead.\n",
      "  elif isinstance(data.columns, (pd.Int64Index, pd.RangeIndex)):\n"
     ]
    },
    {
     "name": "stderr",
     "output_type": "stream",
     "text": [
      "/opt/anaconda3/lib/python3.9/site-packages/xgboost/data.py:250: FutureWarning: pandas.Int64Index is deprecated and will be removed from pandas in a future version. Use pandas.Index with the appropriate dtype instead.\n",
      "  elif isinstance(data.columns, (pd.Int64Index, pd.RangeIndex)):\n",
      "/opt/anaconda3/lib/python3.9/site-packages/xgboost/data.py:250: FutureWarning: pandas.Int64Index is deprecated and will be removed from pandas in a future version. Use pandas.Index with the appropriate dtype instead.\n",
      "  elif isinstance(data.columns, (pd.Int64Index, pd.RangeIndex)):\n",
      "/opt/anaconda3/lib/python3.9/site-packages/xgboost/data.py:250: FutureWarning: pandas.Int64Index is deprecated and will be removed from pandas in a future version. Use pandas.Index with the appropriate dtype instead.\n",
      "  elif isinstance(data.columns, (pd.Int64Index, pd.RangeIndex)):\n",
      "/opt/anaconda3/lib/python3.9/site-packages/xgboost/data.py:250: FutureWarning: pandas.Int64Index is deprecated and will be removed from pandas in a future version. Use pandas.Index with the appropriate dtype instead.\n",
      "  elif isinstance(data.columns, (pd.Int64Index, pd.RangeIndex)):\n",
      "/opt/anaconda3/lib/python3.9/site-packages/xgboost/data.py:250: FutureWarning: pandas.Int64Index is deprecated and will be removed from pandas in a future version. Use pandas.Index with the appropriate dtype instead.\n",
      "  elif isinstance(data.columns, (pd.Int64Index, pd.RangeIndex)):\n",
      "/opt/anaconda3/lib/python3.9/site-packages/xgboost/data.py:250: FutureWarning: pandas.Int64Index is deprecated and will be removed from pandas in a future version. Use pandas.Index with the appropriate dtype instead.\n",
      "  elif isinstance(data.columns, (pd.Int64Index, pd.RangeIndex)):\n",
      "/opt/anaconda3/lib/python3.9/site-packages/xgboost/data.py:250: FutureWarning: pandas.Int64Index is deprecated and will be removed from pandas in a future version. Use pandas.Index with the appropriate dtype instead.\n",
      "  elif isinstance(data.columns, (pd.Int64Index, pd.RangeIndex)):\n",
      "/opt/anaconda3/lib/python3.9/site-packages/xgboost/data.py:250: FutureWarning: pandas.Int64Index is deprecated and will be removed from pandas in a future version. Use pandas.Index with the appropriate dtype instead.\n",
      "  elif isinstance(data.columns, (pd.Int64Index, pd.RangeIndex)):\n",
      "/opt/anaconda3/lib/python3.9/site-packages/xgboost/data.py:250: FutureWarning: pandas.Int64Index is deprecated and will be removed from pandas in a future version. Use pandas.Index with the appropriate dtype instead.\n",
      "  elif isinstance(data.columns, (pd.Int64Index, pd.RangeIndex)):\n",
      "/opt/anaconda3/lib/python3.9/site-packages/xgboost/data.py:250: FutureWarning: pandas.Int64Index is deprecated and will be removed from pandas in a future version. Use pandas.Index with the appropriate dtype instead.\n",
      "  elif isinstance(data.columns, (pd.Int64Index, pd.RangeIndex)):\n",
      "/opt/anaconda3/lib/python3.9/site-packages/xgboost/data.py:250: FutureWarning: pandas.Int64Index is deprecated and will be removed from pandas in a future version. Use pandas.Index with the appropriate dtype instead.\n",
      "  elif isinstance(data.columns, (pd.Int64Index, pd.RangeIndex)):\n",
      "/opt/anaconda3/lib/python3.9/site-packages/xgboost/data.py:250: FutureWarning: pandas.Int64Index is deprecated and will be removed from pandas in a future version. Use pandas.Index with the appropriate dtype instead.\n",
      "  elif isinstance(data.columns, (pd.Int64Index, pd.RangeIndex)):\n",
      "/opt/anaconda3/lib/python3.9/site-packages/xgboost/data.py:250: FutureWarning: pandas.Int64Index is deprecated and will be removed from pandas in a future version. Use pandas.Index with the appropriate dtype instead.\n",
      "  elif isinstance(data.columns, (pd.Int64Index, pd.RangeIndex)):\n",
      "/opt/anaconda3/lib/python3.9/site-packages/xgboost/data.py:250: FutureWarning: pandas.Int64Index is deprecated and will be removed from pandas in a future version. Use pandas.Index with the appropriate dtype instead.\n",
      "  elif isinstance(data.columns, (pd.Int64Index, pd.RangeIndex)):\n",
      "/opt/anaconda3/lib/python3.9/site-packages/xgboost/data.py:250: FutureWarning: pandas.Int64Index is deprecated and will be removed from pandas in a future version. Use pandas.Index with the appropriate dtype instead.\n",
      "  elif isinstance(data.columns, (pd.Int64Index, pd.RangeIndex)):\n",
      "/opt/anaconda3/lib/python3.9/site-packages/xgboost/data.py:250: FutureWarning: pandas.Int64Index is deprecated and will be removed from pandas in a future version. Use pandas.Index with the appropriate dtype instead.\n",
      "  elif isinstance(data.columns, (pd.Int64Index, pd.RangeIndex)):\n",
      "/opt/anaconda3/lib/python3.9/site-packages/xgboost/data.py:250: FutureWarning: pandas.Int64Index is deprecated and will be removed from pandas in a future version. Use pandas.Index with the appropriate dtype instead.\n",
      "  elif isinstance(data.columns, (pd.Int64Index, pd.RangeIndex)):\n",
      "/opt/anaconda3/lib/python3.9/site-packages/xgboost/data.py:250: FutureWarning: pandas.Int64Index is deprecated and will be removed from pandas in a future version. Use pandas.Index with the appropriate dtype instead.\n",
      "  elif isinstance(data.columns, (pd.Int64Index, pd.RangeIndex)):\n",
      "/opt/anaconda3/lib/python3.9/site-packages/xgboost/data.py:250: FutureWarning: pandas.Int64Index is deprecated and will be removed from pandas in a future version. Use pandas.Index with the appropriate dtype instead.\n",
      "  elif isinstance(data.columns, (pd.Int64Index, pd.RangeIndex)):\n",
      "/opt/anaconda3/lib/python3.9/site-packages/xgboost/data.py:250: FutureWarning: pandas.Int64Index is deprecated and will be removed from pandas in a future version. Use pandas.Index with the appropriate dtype instead.\n",
      "  elif isinstance(data.columns, (pd.Int64Index, pd.RangeIndex)):\n",
      "/opt/anaconda3/lib/python3.9/site-packages/xgboost/data.py:250: FutureWarning: pandas.Int64Index is deprecated and will be removed from pandas in a future version. Use pandas.Index with the appropriate dtype instead.\n",
      "  elif isinstance(data.columns, (pd.Int64Index, pd.RangeIndex)):\n",
      "/opt/anaconda3/lib/python3.9/site-packages/xgboost/data.py:250: FutureWarning: pandas.Int64Index is deprecated and will be removed from pandas in a future version. Use pandas.Index with the appropriate dtype instead.\n",
      "  elif isinstance(data.columns, (pd.Int64Index, pd.RangeIndex)):\n",
      "/opt/anaconda3/lib/python3.9/site-packages/xgboost/data.py:250: FutureWarning: pandas.Int64Index is deprecated and will be removed from pandas in a future version. Use pandas.Index with the appropriate dtype instead.\n",
      "  elif isinstance(data.columns, (pd.Int64Index, pd.RangeIndex)):\n",
      "/opt/anaconda3/lib/python3.9/site-packages/xgboost/data.py:250: FutureWarning: pandas.Int64Index is deprecated and will be removed from pandas in a future version. Use pandas.Index with the appropriate dtype instead.\n",
      "  elif isinstance(data.columns, (pd.Int64Index, pd.RangeIndex)):\n",
      "/opt/anaconda3/lib/python3.9/site-packages/xgboost/data.py:250: FutureWarning: pandas.Int64Index is deprecated and will be removed from pandas in a future version. Use pandas.Index with the appropriate dtype instead.\n",
      "  elif isinstance(data.columns, (pd.Int64Index, pd.RangeIndex)):\n",
      "/opt/anaconda3/lib/python3.9/site-packages/xgboost/data.py:250: FutureWarning: pandas.Int64Index is deprecated and will be removed from pandas in a future version. Use pandas.Index with the appropriate dtype instead.\n",
      "  elif isinstance(data.columns, (pd.Int64Index, pd.RangeIndex)):\n",
      "/opt/anaconda3/lib/python3.9/site-packages/xgboost/data.py:250: FutureWarning: pandas.Int64Index is deprecated and will be removed from pandas in a future version. Use pandas.Index with the appropriate dtype instead.\n",
      "  elif isinstance(data.columns, (pd.Int64Index, pd.RangeIndex)):\n",
      "/opt/anaconda3/lib/python3.9/site-packages/xgboost/data.py:250: FutureWarning: pandas.Int64Index is deprecated and will be removed from pandas in a future version. Use pandas.Index with the appropriate dtype instead.\n",
      "  elif isinstance(data.columns, (pd.Int64Index, pd.RangeIndex)):\n",
      "/opt/anaconda3/lib/python3.9/site-packages/xgboost/data.py:250: FutureWarning: pandas.Int64Index is deprecated and will be removed from pandas in a future version. Use pandas.Index with the appropriate dtype instead.\n",
      "  elif isinstance(data.columns, (pd.Int64Index, pd.RangeIndex)):\n",
      "/opt/anaconda3/lib/python3.9/site-packages/xgboost/data.py:250: FutureWarning: pandas.Int64Index is deprecated and will be removed from pandas in a future version. Use pandas.Index with the appropriate dtype instead.\n",
      "  elif isinstance(data.columns, (pd.Int64Index, pd.RangeIndex)):\n"
     ]
    },
    {
     "name": "stderr",
     "output_type": "stream",
     "text": [
      "/opt/anaconda3/lib/python3.9/site-packages/xgboost/data.py:250: FutureWarning: pandas.Int64Index is deprecated and will be removed from pandas in a future version. Use pandas.Index with the appropriate dtype instead.\n",
      "  elif isinstance(data.columns, (pd.Int64Index, pd.RangeIndex)):\n",
      "/opt/anaconda3/lib/python3.9/site-packages/xgboost/data.py:250: FutureWarning: pandas.Int64Index is deprecated and will be removed from pandas in a future version. Use pandas.Index with the appropriate dtype instead.\n",
      "  elif isinstance(data.columns, (pd.Int64Index, pd.RangeIndex)):\n",
      "/opt/anaconda3/lib/python3.9/site-packages/xgboost/data.py:250: FutureWarning: pandas.Int64Index is deprecated and will be removed from pandas in a future version. Use pandas.Index with the appropriate dtype instead.\n",
      "  elif isinstance(data.columns, (pd.Int64Index, pd.RangeIndex)):\n",
      "/opt/anaconda3/lib/python3.9/site-packages/xgboost/data.py:250: FutureWarning: pandas.Int64Index is deprecated and will be removed from pandas in a future version. Use pandas.Index with the appropriate dtype instead.\n",
      "  elif isinstance(data.columns, (pd.Int64Index, pd.RangeIndex)):\n",
      "/opt/anaconda3/lib/python3.9/site-packages/xgboost/data.py:250: FutureWarning: pandas.Int64Index is deprecated and will be removed from pandas in a future version. Use pandas.Index with the appropriate dtype instead.\n",
      "  elif isinstance(data.columns, (pd.Int64Index, pd.RangeIndex)):\n",
      "/opt/anaconda3/lib/python3.9/site-packages/xgboost/data.py:250: FutureWarning: pandas.Int64Index is deprecated and will be removed from pandas in a future version. Use pandas.Index with the appropriate dtype instead.\n",
      "  elif isinstance(data.columns, (pd.Int64Index, pd.RangeIndex)):\n",
      "/opt/anaconda3/lib/python3.9/site-packages/xgboost/data.py:250: FutureWarning: pandas.Int64Index is deprecated and will be removed from pandas in a future version. Use pandas.Index with the appropriate dtype instead.\n",
      "  elif isinstance(data.columns, (pd.Int64Index, pd.RangeIndex)):\n",
      "/opt/anaconda3/lib/python3.9/site-packages/xgboost/data.py:250: FutureWarning: pandas.Int64Index is deprecated and will be removed from pandas in a future version. Use pandas.Index with the appropriate dtype instead.\n",
      "  elif isinstance(data.columns, (pd.Int64Index, pd.RangeIndex)):\n",
      "/opt/anaconda3/lib/python3.9/site-packages/xgboost/data.py:250: FutureWarning: pandas.Int64Index is deprecated and will be removed from pandas in a future version. Use pandas.Index with the appropriate dtype instead.\n",
      "  elif isinstance(data.columns, (pd.Int64Index, pd.RangeIndex)):\n",
      "/opt/anaconda3/lib/python3.9/site-packages/xgboost/data.py:250: FutureWarning: pandas.Int64Index is deprecated and will be removed from pandas in a future version. Use pandas.Index with the appropriate dtype instead.\n",
      "  elif isinstance(data.columns, (pd.Int64Index, pd.RangeIndex)):\n",
      "/opt/anaconda3/lib/python3.9/site-packages/xgboost/data.py:250: FutureWarning: pandas.Int64Index is deprecated and will be removed from pandas in a future version. Use pandas.Index with the appropriate dtype instead.\n",
      "  elif isinstance(data.columns, (pd.Int64Index, pd.RangeIndex)):\n",
      "/opt/anaconda3/lib/python3.9/site-packages/xgboost/data.py:250: FutureWarning: pandas.Int64Index is deprecated and will be removed from pandas in a future version. Use pandas.Index with the appropriate dtype instead.\n",
      "  elif isinstance(data.columns, (pd.Int64Index, pd.RangeIndex)):\n",
      "/opt/anaconda3/lib/python3.9/site-packages/xgboost/data.py:250: FutureWarning: pandas.Int64Index is deprecated and will be removed from pandas in a future version. Use pandas.Index with the appropriate dtype instead.\n",
      "  elif isinstance(data.columns, (pd.Int64Index, pd.RangeIndex)):\n",
      "/opt/anaconda3/lib/python3.9/site-packages/xgboost/data.py:250: FutureWarning: pandas.Int64Index is deprecated and will be removed from pandas in a future version. Use pandas.Index with the appropriate dtype instead.\n",
      "  elif isinstance(data.columns, (pd.Int64Index, pd.RangeIndex)):\n",
      "/opt/anaconda3/lib/python3.9/site-packages/xgboost/data.py:250: FutureWarning: pandas.Int64Index is deprecated and will be removed from pandas in a future version. Use pandas.Index with the appropriate dtype instead.\n",
      "  elif isinstance(data.columns, (pd.Int64Index, pd.RangeIndex)):\n",
      "/opt/anaconda3/lib/python3.9/site-packages/xgboost/data.py:250: FutureWarning: pandas.Int64Index is deprecated and will be removed from pandas in a future version. Use pandas.Index with the appropriate dtype instead.\n",
      "  elif isinstance(data.columns, (pd.Int64Index, pd.RangeIndex)):\n",
      "/opt/anaconda3/lib/python3.9/site-packages/xgboost/data.py:250: FutureWarning: pandas.Int64Index is deprecated and will be removed from pandas in a future version. Use pandas.Index with the appropriate dtype instead.\n",
      "  elif isinstance(data.columns, (pd.Int64Index, pd.RangeIndex)):\n",
      "/opt/anaconda3/lib/python3.9/site-packages/xgboost/data.py:250: FutureWarning: pandas.Int64Index is deprecated and will be removed from pandas in a future version. Use pandas.Index with the appropriate dtype instead.\n",
      "  elif isinstance(data.columns, (pd.Int64Index, pd.RangeIndex)):\n",
      "/opt/anaconda3/lib/python3.9/site-packages/xgboost/data.py:250: FutureWarning: pandas.Int64Index is deprecated and will be removed from pandas in a future version. Use pandas.Index with the appropriate dtype instead.\n",
      "  elif isinstance(data.columns, (pd.Int64Index, pd.RangeIndex)):\n",
      "/opt/anaconda3/lib/python3.9/site-packages/xgboost/data.py:250: FutureWarning: pandas.Int64Index is deprecated and will be removed from pandas in a future version. Use pandas.Index with the appropriate dtype instead.\n",
      "  elif isinstance(data.columns, (pd.Int64Index, pd.RangeIndex)):\n",
      "/opt/anaconda3/lib/python3.9/site-packages/xgboost/data.py:250: FutureWarning: pandas.Int64Index is deprecated and will be removed from pandas in a future version. Use pandas.Index with the appropriate dtype instead.\n",
      "  elif isinstance(data.columns, (pd.Int64Index, pd.RangeIndex)):\n",
      "/opt/anaconda3/lib/python3.9/site-packages/xgboost/data.py:250: FutureWarning: pandas.Int64Index is deprecated and will be removed from pandas in a future version. Use pandas.Index with the appropriate dtype instead.\n",
      "  elif isinstance(data.columns, (pd.Int64Index, pd.RangeIndex)):\n",
      "/opt/anaconda3/lib/python3.9/site-packages/xgboost/data.py:250: FutureWarning: pandas.Int64Index is deprecated and will be removed from pandas in a future version. Use pandas.Index with the appropriate dtype instead.\n",
      "  elif isinstance(data.columns, (pd.Int64Index, pd.RangeIndex)):\n",
      "/opt/anaconda3/lib/python3.9/site-packages/xgboost/data.py:250: FutureWarning: pandas.Int64Index is deprecated and will be removed from pandas in a future version. Use pandas.Index with the appropriate dtype instead.\n",
      "  elif isinstance(data.columns, (pd.Int64Index, pd.RangeIndex)):\n",
      "/opt/anaconda3/lib/python3.9/site-packages/xgboost/data.py:250: FutureWarning: pandas.Int64Index is deprecated and will be removed from pandas in a future version. Use pandas.Index with the appropriate dtype instead.\n",
      "  elif isinstance(data.columns, (pd.Int64Index, pd.RangeIndex)):\n",
      "/opt/anaconda3/lib/python3.9/site-packages/xgboost/data.py:250: FutureWarning: pandas.Int64Index is deprecated and will be removed from pandas in a future version. Use pandas.Index with the appropriate dtype instead.\n",
      "  elif isinstance(data.columns, (pd.Int64Index, pd.RangeIndex)):\n",
      "/opt/anaconda3/lib/python3.9/site-packages/xgboost/data.py:250: FutureWarning: pandas.Int64Index is deprecated and will be removed from pandas in a future version. Use pandas.Index with the appropriate dtype instead.\n",
      "  elif isinstance(data.columns, (pd.Int64Index, pd.RangeIndex)):\n",
      "/opt/anaconda3/lib/python3.9/site-packages/xgboost/data.py:250: FutureWarning: pandas.Int64Index is deprecated and will be removed from pandas in a future version. Use pandas.Index with the appropriate dtype instead.\n",
      "  elif isinstance(data.columns, (pd.Int64Index, pd.RangeIndex)):\n",
      "/opt/anaconda3/lib/python3.9/site-packages/xgboost/data.py:250: FutureWarning: pandas.Int64Index is deprecated and will be removed from pandas in a future version. Use pandas.Index with the appropriate dtype instead.\n",
      "  elif isinstance(data.columns, (pd.Int64Index, pd.RangeIndex)):\n",
      "/opt/anaconda3/lib/python3.9/site-packages/xgboost/data.py:250: FutureWarning: pandas.Int64Index is deprecated and will be removed from pandas in a future version. Use pandas.Index with the appropriate dtype instead.\n",
      "  elif isinstance(data.columns, (pd.Int64Index, pd.RangeIndex)):\n"
     ]
    },
    {
     "name": "stderr",
     "output_type": "stream",
     "text": [
      "/opt/anaconda3/lib/python3.9/site-packages/xgboost/data.py:250: FutureWarning: pandas.Int64Index is deprecated and will be removed from pandas in a future version. Use pandas.Index with the appropriate dtype instead.\n",
      "  elif isinstance(data.columns, (pd.Int64Index, pd.RangeIndex)):\n",
      "/opt/anaconda3/lib/python3.9/site-packages/xgboost/data.py:250: FutureWarning: pandas.Int64Index is deprecated and will be removed from pandas in a future version. Use pandas.Index with the appropriate dtype instead.\n",
      "  elif isinstance(data.columns, (pd.Int64Index, pd.RangeIndex)):\n",
      "/opt/anaconda3/lib/python3.9/site-packages/xgboost/data.py:250: FutureWarning: pandas.Int64Index is deprecated and will be removed from pandas in a future version. Use pandas.Index with the appropriate dtype instead.\n",
      "  elif isinstance(data.columns, (pd.Int64Index, pd.RangeIndex)):\n",
      "/opt/anaconda3/lib/python3.9/site-packages/xgboost/data.py:250: FutureWarning: pandas.Int64Index is deprecated and will be removed from pandas in a future version. Use pandas.Index with the appropriate dtype instead.\n",
      "  elif isinstance(data.columns, (pd.Int64Index, pd.RangeIndex)):\n",
      "/opt/anaconda3/lib/python3.9/site-packages/xgboost/data.py:250: FutureWarning: pandas.Int64Index is deprecated and will be removed from pandas in a future version. Use pandas.Index with the appropriate dtype instead.\n",
      "  elif isinstance(data.columns, (pd.Int64Index, pd.RangeIndex)):\n",
      "/opt/anaconda3/lib/python3.9/site-packages/xgboost/data.py:250: FutureWarning: pandas.Int64Index is deprecated and will be removed from pandas in a future version. Use pandas.Index with the appropriate dtype instead.\n",
      "  elif isinstance(data.columns, (pd.Int64Index, pd.RangeIndex)):\n",
      "/opt/anaconda3/lib/python3.9/site-packages/xgboost/data.py:250: FutureWarning: pandas.Int64Index is deprecated and will be removed from pandas in a future version. Use pandas.Index with the appropriate dtype instead.\n",
      "  elif isinstance(data.columns, (pd.Int64Index, pd.RangeIndex)):\n",
      "/opt/anaconda3/lib/python3.9/site-packages/xgboost/data.py:250: FutureWarning: pandas.Int64Index is deprecated and will be removed from pandas in a future version. Use pandas.Index with the appropriate dtype instead.\n",
      "  elif isinstance(data.columns, (pd.Int64Index, pd.RangeIndex)):\n",
      "/opt/anaconda3/lib/python3.9/site-packages/xgboost/data.py:250: FutureWarning: pandas.Int64Index is deprecated and will be removed from pandas in a future version. Use pandas.Index with the appropriate dtype instead.\n",
      "  elif isinstance(data.columns, (pd.Int64Index, pd.RangeIndex)):\n",
      "/opt/anaconda3/lib/python3.9/site-packages/xgboost/data.py:250: FutureWarning: pandas.Int64Index is deprecated and will be removed from pandas in a future version. Use pandas.Index with the appropriate dtype instead.\n",
      "  elif isinstance(data.columns, (pd.Int64Index, pd.RangeIndex)):\n",
      "/opt/anaconda3/lib/python3.9/site-packages/xgboost/data.py:250: FutureWarning: pandas.Int64Index is deprecated and will be removed from pandas in a future version. Use pandas.Index with the appropriate dtype instead.\n",
      "  elif isinstance(data.columns, (pd.Int64Index, pd.RangeIndex)):\n",
      "/opt/anaconda3/lib/python3.9/site-packages/xgboost/data.py:250: FutureWarning: pandas.Int64Index is deprecated and will be removed from pandas in a future version. Use pandas.Index with the appropriate dtype instead.\n",
      "  elif isinstance(data.columns, (pd.Int64Index, pd.RangeIndex)):\n",
      "/opt/anaconda3/lib/python3.9/site-packages/xgboost/data.py:250: FutureWarning: pandas.Int64Index is deprecated and will be removed from pandas in a future version. Use pandas.Index with the appropriate dtype instead.\n",
      "  elif isinstance(data.columns, (pd.Int64Index, pd.RangeIndex)):\n",
      "/opt/anaconda3/lib/python3.9/site-packages/xgboost/data.py:250: FutureWarning: pandas.Int64Index is deprecated and will be removed from pandas in a future version. Use pandas.Index with the appropriate dtype instead.\n",
      "  elif isinstance(data.columns, (pd.Int64Index, pd.RangeIndex)):\n",
      "/opt/anaconda3/lib/python3.9/site-packages/xgboost/data.py:250: FutureWarning: pandas.Int64Index is deprecated and will be removed from pandas in a future version. Use pandas.Index with the appropriate dtype instead.\n",
      "  elif isinstance(data.columns, (pd.Int64Index, pd.RangeIndex)):\n",
      "/opt/anaconda3/lib/python3.9/site-packages/xgboost/data.py:250: FutureWarning: pandas.Int64Index is deprecated and will be removed from pandas in a future version. Use pandas.Index with the appropriate dtype instead.\n",
      "  elif isinstance(data.columns, (pd.Int64Index, pd.RangeIndex)):\n",
      "/opt/anaconda3/lib/python3.9/site-packages/xgboost/data.py:250: FutureWarning: pandas.Int64Index is deprecated and will be removed from pandas in a future version. Use pandas.Index with the appropriate dtype instead.\n",
      "  elif isinstance(data.columns, (pd.Int64Index, pd.RangeIndex)):\n",
      "/opt/anaconda3/lib/python3.9/site-packages/xgboost/data.py:250: FutureWarning: pandas.Int64Index is deprecated and will be removed from pandas in a future version. Use pandas.Index with the appropriate dtype instead.\n",
      "  elif isinstance(data.columns, (pd.Int64Index, pd.RangeIndex)):\n",
      "/opt/anaconda3/lib/python3.9/site-packages/xgboost/data.py:250: FutureWarning: pandas.Int64Index is deprecated and will be removed from pandas in a future version. Use pandas.Index with the appropriate dtype instead.\n",
      "  elif isinstance(data.columns, (pd.Int64Index, pd.RangeIndex)):\n",
      "/opt/anaconda3/lib/python3.9/site-packages/xgboost/data.py:250: FutureWarning: pandas.Int64Index is deprecated and will be removed from pandas in a future version. Use pandas.Index with the appropriate dtype instead.\n",
      "  elif isinstance(data.columns, (pd.Int64Index, pd.RangeIndex)):\n",
      "/opt/anaconda3/lib/python3.9/site-packages/xgboost/data.py:250: FutureWarning: pandas.Int64Index is deprecated and will be removed from pandas in a future version. Use pandas.Index with the appropriate dtype instead.\n",
      "  elif isinstance(data.columns, (pd.Int64Index, pd.RangeIndex)):\n",
      "/opt/anaconda3/lib/python3.9/site-packages/xgboost/data.py:250: FutureWarning: pandas.Int64Index is deprecated and will be removed from pandas in a future version. Use pandas.Index with the appropriate dtype instead.\n",
      "  elif isinstance(data.columns, (pd.Int64Index, pd.RangeIndex)):\n",
      "/opt/anaconda3/lib/python3.9/site-packages/xgboost/data.py:250: FutureWarning: pandas.Int64Index is deprecated and will be removed from pandas in a future version. Use pandas.Index with the appropriate dtype instead.\n",
      "  elif isinstance(data.columns, (pd.Int64Index, pd.RangeIndex)):\n",
      "/opt/anaconda3/lib/python3.9/site-packages/xgboost/data.py:250: FutureWarning: pandas.Int64Index is deprecated and will be removed from pandas in a future version. Use pandas.Index with the appropriate dtype instead.\n",
      "  elif isinstance(data.columns, (pd.Int64Index, pd.RangeIndex)):\n",
      "/opt/anaconda3/lib/python3.9/site-packages/xgboost/data.py:250: FutureWarning: pandas.Int64Index is deprecated and will be removed from pandas in a future version. Use pandas.Index with the appropriate dtype instead.\n",
      "  elif isinstance(data.columns, (pd.Int64Index, pd.RangeIndex)):\n",
      "/opt/anaconda3/lib/python3.9/site-packages/xgboost/data.py:250: FutureWarning: pandas.Int64Index is deprecated and will be removed from pandas in a future version. Use pandas.Index with the appropriate dtype instead.\n",
      "  elif isinstance(data.columns, (pd.Int64Index, pd.RangeIndex)):\n",
      "/opt/anaconda3/lib/python3.9/site-packages/xgboost/data.py:250: FutureWarning: pandas.Int64Index is deprecated and will be removed from pandas in a future version. Use pandas.Index with the appropriate dtype instead.\n",
      "  elif isinstance(data.columns, (pd.Int64Index, pd.RangeIndex)):\n",
      "/opt/anaconda3/lib/python3.9/site-packages/xgboost/data.py:250: FutureWarning: pandas.Int64Index is deprecated and will be removed from pandas in a future version. Use pandas.Index with the appropriate dtype instead.\n",
      "  elif isinstance(data.columns, (pd.Int64Index, pd.RangeIndex)):\n",
      "/opt/anaconda3/lib/python3.9/site-packages/xgboost/data.py:250: FutureWarning: pandas.Int64Index is deprecated and will be removed from pandas in a future version. Use pandas.Index with the appropriate dtype instead.\n",
      "  elif isinstance(data.columns, (pd.Int64Index, pd.RangeIndex)):\n",
      "/opt/anaconda3/lib/python3.9/site-packages/xgboost/data.py:250: FutureWarning: pandas.Int64Index is deprecated and will be removed from pandas in a future version. Use pandas.Index with the appropriate dtype instead.\n",
      "  elif isinstance(data.columns, (pd.Int64Index, pd.RangeIndex)):\n"
     ]
    },
    {
     "name": "stderr",
     "output_type": "stream",
     "text": [
      "/opt/anaconda3/lib/python3.9/site-packages/xgboost/data.py:250: FutureWarning: pandas.Int64Index is deprecated and will be removed from pandas in a future version. Use pandas.Index with the appropriate dtype instead.\n",
      "  elif isinstance(data.columns, (pd.Int64Index, pd.RangeIndex)):\n",
      "/opt/anaconda3/lib/python3.9/site-packages/xgboost/data.py:250: FutureWarning: pandas.Int64Index is deprecated and will be removed from pandas in a future version. Use pandas.Index with the appropriate dtype instead.\n",
      "  elif isinstance(data.columns, (pd.Int64Index, pd.RangeIndex)):\n",
      "/opt/anaconda3/lib/python3.9/site-packages/xgboost/data.py:250: FutureWarning: pandas.Int64Index is deprecated and will be removed from pandas in a future version. Use pandas.Index with the appropriate dtype instead.\n",
      "  elif isinstance(data.columns, (pd.Int64Index, pd.RangeIndex)):\n",
      "/opt/anaconda3/lib/python3.9/site-packages/xgboost/data.py:250: FutureWarning: pandas.Int64Index is deprecated and will be removed from pandas in a future version. Use pandas.Index with the appropriate dtype instead.\n",
      "  elif isinstance(data.columns, (pd.Int64Index, pd.RangeIndex)):\n",
      "/opt/anaconda3/lib/python3.9/site-packages/xgboost/data.py:250: FutureWarning: pandas.Int64Index is deprecated and will be removed from pandas in a future version. Use pandas.Index with the appropriate dtype instead.\n",
      "  elif isinstance(data.columns, (pd.Int64Index, pd.RangeIndex)):\n",
      "/opt/anaconda3/lib/python3.9/site-packages/xgboost/data.py:250: FutureWarning: pandas.Int64Index is deprecated and will be removed from pandas in a future version. Use pandas.Index with the appropriate dtype instead.\n",
      "  elif isinstance(data.columns, (pd.Int64Index, pd.RangeIndex)):\n",
      "/opt/anaconda3/lib/python3.9/site-packages/xgboost/data.py:250: FutureWarning: pandas.Int64Index is deprecated and will be removed from pandas in a future version. Use pandas.Index with the appropriate dtype instead.\n",
      "  elif isinstance(data.columns, (pd.Int64Index, pd.RangeIndex)):\n",
      "/opt/anaconda3/lib/python3.9/site-packages/xgboost/data.py:250: FutureWarning: pandas.Int64Index is deprecated and will be removed from pandas in a future version. Use pandas.Index with the appropriate dtype instead.\n",
      "  elif isinstance(data.columns, (pd.Int64Index, pd.RangeIndex)):\n",
      "/opt/anaconda3/lib/python3.9/site-packages/xgboost/data.py:250: FutureWarning: pandas.Int64Index is deprecated and will be removed from pandas in a future version. Use pandas.Index with the appropriate dtype instead.\n",
      "  elif isinstance(data.columns, (pd.Int64Index, pd.RangeIndex)):\n",
      "/opt/anaconda3/lib/python3.9/site-packages/xgboost/data.py:250: FutureWarning: pandas.Int64Index is deprecated and will be removed from pandas in a future version. Use pandas.Index with the appropriate dtype instead.\n",
      "  elif isinstance(data.columns, (pd.Int64Index, pd.RangeIndex)):\n",
      "/opt/anaconda3/lib/python3.9/site-packages/xgboost/data.py:250: FutureWarning: pandas.Int64Index is deprecated and will be removed from pandas in a future version. Use pandas.Index with the appropriate dtype instead.\n",
      "  elif isinstance(data.columns, (pd.Int64Index, pd.RangeIndex)):\n",
      "/opt/anaconda3/lib/python3.9/site-packages/xgboost/data.py:250: FutureWarning: pandas.Int64Index is deprecated and will be removed from pandas in a future version. Use pandas.Index with the appropriate dtype instead.\n",
      "  elif isinstance(data.columns, (pd.Int64Index, pd.RangeIndex)):\n",
      "/opt/anaconda3/lib/python3.9/site-packages/xgboost/data.py:250: FutureWarning: pandas.Int64Index is deprecated and will be removed from pandas in a future version. Use pandas.Index with the appropriate dtype instead.\n",
      "  elif isinstance(data.columns, (pd.Int64Index, pd.RangeIndex)):\n",
      "/opt/anaconda3/lib/python3.9/site-packages/xgboost/data.py:250: FutureWarning: pandas.Int64Index is deprecated and will be removed from pandas in a future version. Use pandas.Index with the appropriate dtype instead.\n",
      "  elif isinstance(data.columns, (pd.Int64Index, pd.RangeIndex)):\n",
      "/opt/anaconda3/lib/python3.9/site-packages/xgboost/data.py:250: FutureWarning: pandas.Int64Index is deprecated and will be removed from pandas in a future version. Use pandas.Index with the appropriate dtype instead.\n",
      "  elif isinstance(data.columns, (pd.Int64Index, pd.RangeIndex)):\n",
      "/opt/anaconda3/lib/python3.9/site-packages/xgboost/data.py:250: FutureWarning: pandas.Int64Index is deprecated and will be removed from pandas in a future version. Use pandas.Index with the appropriate dtype instead.\n",
      "  elif isinstance(data.columns, (pd.Int64Index, pd.RangeIndex)):\n",
      "/opt/anaconda3/lib/python3.9/site-packages/xgboost/data.py:250: FutureWarning: pandas.Int64Index is deprecated and will be removed from pandas in a future version. Use pandas.Index with the appropriate dtype instead.\n",
      "  elif isinstance(data.columns, (pd.Int64Index, pd.RangeIndex)):\n",
      "/opt/anaconda3/lib/python3.9/site-packages/xgboost/data.py:250: FutureWarning: pandas.Int64Index is deprecated and will be removed from pandas in a future version. Use pandas.Index with the appropriate dtype instead.\n",
      "  elif isinstance(data.columns, (pd.Int64Index, pd.RangeIndex)):\n",
      "/opt/anaconda3/lib/python3.9/site-packages/xgboost/data.py:250: FutureWarning: pandas.Int64Index is deprecated and will be removed from pandas in a future version. Use pandas.Index with the appropriate dtype instead.\n",
      "  elif isinstance(data.columns, (pd.Int64Index, pd.RangeIndex)):\n",
      "/opt/anaconda3/lib/python3.9/site-packages/xgboost/data.py:250: FutureWarning: pandas.Int64Index is deprecated and will be removed from pandas in a future version. Use pandas.Index with the appropriate dtype instead.\n",
      "  elif isinstance(data.columns, (pd.Int64Index, pd.RangeIndex)):\n",
      "/opt/anaconda3/lib/python3.9/site-packages/xgboost/data.py:250: FutureWarning: pandas.Int64Index is deprecated and will be removed from pandas in a future version. Use pandas.Index with the appropriate dtype instead.\n",
      "  elif isinstance(data.columns, (pd.Int64Index, pd.RangeIndex)):\n",
      "/opt/anaconda3/lib/python3.9/site-packages/xgboost/data.py:250: FutureWarning: pandas.Int64Index is deprecated and will be removed from pandas in a future version. Use pandas.Index with the appropriate dtype instead.\n",
      "  elif isinstance(data.columns, (pd.Int64Index, pd.RangeIndex)):\n",
      "/opt/anaconda3/lib/python3.9/site-packages/xgboost/data.py:250: FutureWarning: pandas.Int64Index is deprecated and will be removed from pandas in a future version. Use pandas.Index with the appropriate dtype instead.\n",
      "  elif isinstance(data.columns, (pd.Int64Index, pd.RangeIndex)):\n",
      "/opt/anaconda3/lib/python3.9/site-packages/xgboost/data.py:250: FutureWarning: pandas.Int64Index is deprecated and will be removed from pandas in a future version. Use pandas.Index with the appropriate dtype instead.\n",
      "  elif isinstance(data.columns, (pd.Int64Index, pd.RangeIndex)):\n",
      "/opt/anaconda3/lib/python3.9/site-packages/xgboost/data.py:250: FutureWarning: pandas.Int64Index is deprecated and will be removed from pandas in a future version. Use pandas.Index with the appropriate dtype instead.\n",
      "  elif isinstance(data.columns, (pd.Int64Index, pd.RangeIndex)):\n",
      "/opt/anaconda3/lib/python3.9/site-packages/xgboost/data.py:250: FutureWarning: pandas.Int64Index is deprecated and will be removed from pandas in a future version. Use pandas.Index with the appropriate dtype instead.\n",
      "  elif isinstance(data.columns, (pd.Int64Index, pd.RangeIndex)):\n",
      "/opt/anaconda3/lib/python3.9/site-packages/xgboost/data.py:250: FutureWarning: pandas.Int64Index is deprecated and will be removed from pandas in a future version. Use pandas.Index with the appropriate dtype instead.\n",
      "  elif isinstance(data.columns, (pd.Int64Index, pd.RangeIndex)):\n",
      "/opt/anaconda3/lib/python3.9/site-packages/xgboost/data.py:250: FutureWarning: pandas.Int64Index is deprecated and will be removed from pandas in a future version. Use pandas.Index with the appropriate dtype instead.\n",
      "  elif isinstance(data.columns, (pd.Int64Index, pd.RangeIndex)):\n",
      "/opt/anaconda3/lib/python3.9/site-packages/xgboost/data.py:250: FutureWarning: pandas.Int64Index is deprecated and will be removed from pandas in a future version. Use pandas.Index with the appropriate dtype instead.\n",
      "  elif isinstance(data.columns, (pd.Int64Index, pd.RangeIndex)):\n",
      "/opt/anaconda3/lib/python3.9/site-packages/xgboost/data.py:250: FutureWarning: pandas.Int64Index is deprecated and will be removed from pandas in a future version. Use pandas.Index with the appropriate dtype instead.\n",
      "  elif isinstance(data.columns, (pd.Int64Index, pd.RangeIndex)):\n"
     ]
    },
    {
     "name": "stderr",
     "output_type": "stream",
     "text": [
      "/opt/anaconda3/lib/python3.9/site-packages/xgboost/data.py:250: FutureWarning: pandas.Int64Index is deprecated and will be removed from pandas in a future version. Use pandas.Index with the appropriate dtype instead.\n",
      "  elif isinstance(data.columns, (pd.Int64Index, pd.RangeIndex)):\n",
      "/opt/anaconda3/lib/python3.9/site-packages/xgboost/data.py:250: FutureWarning: pandas.Int64Index is deprecated and will be removed from pandas in a future version. Use pandas.Index with the appropriate dtype instead.\n",
      "  elif isinstance(data.columns, (pd.Int64Index, pd.RangeIndex)):\n",
      "/opt/anaconda3/lib/python3.9/site-packages/xgboost/data.py:250: FutureWarning: pandas.Int64Index is deprecated and will be removed from pandas in a future version. Use pandas.Index with the appropriate dtype instead.\n",
      "  elif isinstance(data.columns, (pd.Int64Index, pd.RangeIndex)):\n",
      "/opt/anaconda3/lib/python3.9/site-packages/xgboost/data.py:250: FutureWarning: pandas.Int64Index is deprecated and will be removed from pandas in a future version. Use pandas.Index with the appropriate dtype instead.\n",
      "  elif isinstance(data.columns, (pd.Int64Index, pd.RangeIndex)):\n",
      "/opt/anaconda3/lib/python3.9/site-packages/xgboost/data.py:250: FutureWarning: pandas.Int64Index is deprecated and will be removed from pandas in a future version. Use pandas.Index with the appropriate dtype instead.\n",
      "  elif isinstance(data.columns, (pd.Int64Index, pd.RangeIndex)):\n",
      "/opt/anaconda3/lib/python3.9/site-packages/xgboost/data.py:250: FutureWarning: pandas.Int64Index is deprecated and will be removed from pandas in a future version. Use pandas.Index with the appropriate dtype instead.\n",
      "  elif isinstance(data.columns, (pd.Int64Index, pd.RangeIndex)):\n",
      "/opt/anaconda3/lib/python3.9/site-packages/xgboost/data.py:250: FutureWarning: pandas.Int64Index is deprecated and will be removed from pandas in a future version. Use pandas.Index with the appropriate dtype instead.\n",
      "  elif isinstance(data.columns, (pd.Int64Index, pd.RangeIndex)):\n",
      "/opt/anaconda3/lib/python3.9/site-packages/xgboost/data.py:250: FutureWarning: pandas.Int64Index is deprecated and will be removed from pandas in a future version. Use pandas.Index with the appropriate dtype instead.\n",
      "  elif isinstance(data.columns, (pd.Int64Index, pd.RangeIndex)):\n",
      "/opt/anaconda3/lib/python3.9/site-packages/xgboost/data.py:250: FutureWarning: pandas.Int64Index is deprecated and will be removed from pandas in a future version. Use pandas.Index with the appropriate dtype instead.\n",
      "  elif isinstance(data.columns, (pd.Int64Index, pd.RangeIndex)):\n",
      "/opt/anaconda3/lib/python3.9/site-packages/xgboost/data.py:250: FutureWarning: pandas.Int64Index is deprecated and will be removed from pandas in a future version. Use pandas.Index with the appropriate dtype instead.\n",
      "  elif isinstance(data.columns, (pd.Int64Index, pd.RangeIndex)):\n",
      "/opt/anaconda3/lib/python3.9/site-packages/xgboost/data.py:250: FutureWarning: pandas.Int64Index is deprecated and will be removed from pandas in a future version. Use pandas.Index with the appropriate dtype instead.\n",
      "  elif isinstance(data.columns, (pd.Int64Index, pd.RangeIndex)):\n",
      "/opt/anaconda3/lib/python3.9/site-packages/xgboost/data.py:250: FutureWarning: pandas.Int64Index is deprecated and will be removed from pandas in a future version. Use pandas.Index with the appropriate dtype instead.\n",
      "  elif isinstance(data.columns, (pd.Int64Index, pd.RangeIndex)):\n",
      "/opt/anaconda3/lib/python3.9/site-packages/xgboost/data.py:250: FutureWarning: pandas.Int64Index is deprecated and will be removed from pandas in a future version. Use pandas.Index with the appropriate dtype instead.\n",
      "  elif isinstance(data.columns, (pd.Int64Index, pd.RangeIndex)):\n",
      "/opt/anaconda3/lib/python3.9/site-packages/xgboost/data.py:250: FutureWarning: pandas.Int64Index is deprecated and will be removed from pandas in a future version. Use pandas.Index with the appropriate dtype instead.\n",
      "  elif isinstance(data.columns, (pd.Int64Index, pd.RangeIndex)):\n",
      "/opt/anaconda3/lib/python3.9/site-packages/xgboost/data.py:250: FutureWarning: pandas.Int64Index is deprecated and will be removed from pandas in a future version. Use pandas.Index with the appropriate dtype instead.\n",
      "  elif isinstance(data.columns, (pd.Int64Index, pd.RangeIndex)):\n",
      "/opt/anaconda3/lib/python3.9/site-packages/xgboost/data.py:250: FutureWarning: pandas.Int64Index is deprecated and will be removed from pandas in a future version. Use pandas.Index with the appropriate dtype instead.\n",
      "  elif isinstance(data.columns, (pd.Int64Index, pd.RangeIndex)):\n",
      "/opt/anaconda3/lib/python3.9/site-packages/xgboost/data.py:250: FutureWarning: pandas.Int64Index is deprecated and will be removed from pandas in a future version. Use pandas.Index with the appropriate dtype instead.\n",
      "  elif isinstance(data.columns, (pd.Int64Index, pd.RangeIndex)):\n",
      "/opt/anaconda3/lib/python3.9/site-packages/xgboost/data.py:250: FutureWarning: pandas.Int64Index is deprecated and will be removed from pandas in a future version. Use pandas.Index with the appropriate dtype instead.\n",
      "  elif isinstance(data.columns, (pd.Int64Index, pd.RangeIndex)):\n",
      "/opt/anaconda3/lib/python3.9/site-packages/xgboost/data.py:250: FutureWarning: pandas.Int64Index is deprecated and will be removed from pandas in a future version. Use pandas.Index with the appropriate dtype instead.\n",
      "  elif isinstance(data.columns, (pd.Int64Index, pd.RangeIndex)):\n",
      "/opt/anaconda3/lib/python3.9/site-packages/xgboost/data.py:250: FutureWarning: pandas.Int64Index is deprecated and will be removed from pandas in a future version. Use pandas.Index with the appropriate dtype instead.\n",
      "  elif isinstance(data.columns, (pd.Int64Index, pd.RangeIndex)):\n",
      "/opt/anaconda3/lib/python3.9/site-packages/xgboost/data.py:250: FutureWarning: pandas.Int64Index is deprecated and will be removed from pandas in a future version. Use pandas.Index with the appropriate dtype instead.\n",
      "  elif isinstance(data.columns, (pd.Int64Index, pd.RangeIndex)):\n",
      "/opt/anaconda3/lib/python3.9/site-packages/xgboost/data.py:250: FutureWarning: pandas.Int64Index is deprecated and will be removed from pandas in a future version. Use pandas.Index with the appropriate dtype instead.\n",
      "  elif isinstance(data.columns, (pd.Int64Index, pd.RangeIndex)):\n",
      "/opt/anaconda3/lib/python3.9/site-packages/xgboost/data.py:250: FutureWarning: pandas.Int64Index is deprecated and will be removed from pandas in a future version. Use pandas.Index with the appropriate dtype instead.\n",
      "  elif isinstance(data.columns, (pd.Int64Index, pd.RangeIndex)):\n",
      "/opt/anaconda3/lib/python3.9/site-packages/xgboost/data.py:250: FutureWarning: pandas.Int64Index is deprecated and will be removed from pandas in a future version. Use pandas.Index with the appropriate dtype instead.\n",
      "  elif isinstance(data.columns, (pd.Int64Index, pd.RangeIndex)):\n",
      "/opt/anaconda3/lib/python3.9/site-packages/xgboost/data.py:250: FutureWarning: pandas.Int64Index is deprecated and will be removed from pandas in a future version. Use pandas.Index with the appropriate dtype instead.\n",
      "  elif isinstance(data.columns, (pd.Int64Index, pd.RangeIndex)):\n",
      "/opt/anaconda3/lib/python3.9/site-packages/xgboost/data.py:250: FutureWarning: pandas.Int64Index is deprecated and will be removed from pandas in a future version. Use pandas.Index with the appropriate dtype instead.\n",
      "  elif isinstance(data.columns, (pd.Int64Index, pd.RangeIndex)):\n",
      "/opt/anaconda3/lib/python3.9/site-packages/xgboost/data.py:250: FutureWarning: pandas.Int64Index is deprecated and will be removed from pandas in a future version. Use pandas.Index with the appropriate dtype instead.\n",
      "  elif isinstance(data.columns, (pd.Int64Index, pd.RangeIndex)):\n",
      "/opt/anaconda3/lib/python3.9/site-packages/xgboost/data.py:250: FutureWarning: pandas.Int64Index is deprecated and will be removed from pandas in a future version. Use pandas.Index with the appropriate dtype instead.\n",
      "  elif isinstance(data.columns, (pd.Int64Index, pd.RangeIndex)):\n",
      "/opt/anaconda3/lib/python3.9/site-packages/xgboost/data.py:250: FutureWarning: pandas.Int64Index is deprecated and will be removed from pandas in a future version. Use pandas.Index with the appropriate dtype instead.\n",
      "  elif isinstance(data.columns, (pd.Int64Index, pd.RangeIndex)):\n",
      "/opt/anaconda3/lib/python3.9/site-packages/xgboost/data.py:250: FutureWarning: pandas.Int64Index is deprecated and will be removed from pandas in a future version. Use pandas.Index with the appropriate dtype instead.\n",
      "  elif isinstance(data.columns, (pd.Int64Index, pd.RangeIndex)):\n"
     ]
    },
    {
     "name": "stderr",
     "output_type": "stream",
     "text": [
      "/opt/anaconda3/lib/python3.9/site-packages/xgboost/data.py:250: FutureWarning: pandas.Int64Index is deprecated and will be removed from pandas in a future version. Use pandas.Index with the appropriate dtype instead.\n",
      "  elif isinstance(data.columns, (pd.Int64Index, pd.RangeIndex)):\n",
      "/opt/anaconda3/lib/python3.9/site-packages/xgboost/data.py:250: FutureWarning: pandas.Int64Index is deprecated and will be removed from pandas in a future version. Use pandas.Index with the appropriate dtype instead.\n",
      "  elif isinstance(data.columns, (pd.Int64Index, pd.RangeIndex)):\n",
      "/opt/anaconda3/lib/python3.9/site-packages/xgboost/data.py:250: FutureWarning: pandas.Int64Index is deprecated and will be removed from pandas in a future version. Use pandas.Index with the appropriate dtype instead.\n",
      "  elif isinstance(data.columns, (pd.Int64Index, pd.RangeIndex)):\n",
      "/opt/anaconda3/lib/python3.9/site-packages/xgboost/data.py:250: FutureWarning: pandas.Int64Index is deprecated and will be removed from pandas in a future version. Use pandas.Index with the appropriate dtype instead.\n",
      "  elif isinstance(data.columns, (pd.Int64Index, pd.RangeIndex)):\n",
      "/opt/anaconda3/lib/python3.9/site-packages/xgboost/data.py:250: FutureWarning: pandas.Int64Index is deprecated and will be removed from pandas in a future version. Use pandas.Index with the appropriate dtype instead.\n",
      "  elif isinstance(data.columns, (pd.Int64Index, pd.RangeIndex)):\n",
      "/opt/anaconda3/lib/python3.9/site-packages/xgboost/data.py:250: FutureWarning: pandas.Int64Index is deprecated and will be removed from pandas in a future version. Use pandas.Index with the appropriate dtype instead.\n",
      "  elif isinstance(data.columns, (pd.Int64Index, pd.RangeIndex)):\n",
      "/opt/anaconda3/lib/python3.9/site-packages/xgboost/data.py:250: FutureWarning: pandas.Int64Index is deprecated and will be removed from pandas in a future version. Use pandas.Index with the appropriate dtype instead.\n",
      "  elif isinstance(data.columns, (pd.Int64Index, pd.RangeIndex)):\n",
      "/opt/anaconda3/lib/python3.9/site-packages/xgboost/data.py:250: FutureWarning: pandas.Int64Index is deprecated and will be removed from pandas in a future version. Use pandas.Index with the appropriate dtype instead.\n",
      "  elif isinstance(data.columns, (pd.Int64Index, pd.RangeIndex)):\n",
      "/opt/anaconda3/lib/python3.9/site-packages/xgboost/data.py:250: FutureWarning: pandas.Int64Index is deprecated and will be removed from pandas in a future version. Use pandas.Index with the appropriate dtype instead.\n",
      "  elif isinstance(data.columns, (pd.Int64Index, pd.RangeIndex)):\n",
      "/opt/anaconda3/lib/python3.9/site-packages/xgboost/data.py:250: FutureWarning: pandas.Int64Index is deprecated and will be removed from pandas in a future version. Use pandas.Index with the appropriate dtype instead.\n",
      "  elif isinstance(data.columns, (pd.Int64Index, pd.RangeIndex)):\n",
      "/opt/anaconda3/lib/python3.9/site-packages/xgboost/data.py:250: FutureWarning: pandas.Int64Index is deprecated and will be removed from pandas in a future version. Use pandas.Index with the appropriate dtype instead.\n",
      "  elif isinstance(data.columns, (pd.Int64Index, pd.RangeIndex)):\n",
      "/opt/anaconda3/lib/python3.9/site-packages/xgboost/data.py:250: FutureWarning: pandas.Int64Index is deprecated and will be removed from pandas in a future version. Use pandas.Index with the appropriate dtype instead.\n",
      "  elif isinstance(data.columns, (pd.Int64Index, pd.RangeIndex)):\n",
      "/opt/anaconda3/lib/python3.9/site-packages/xgboost/data.py:250: FutureWarning: pandas.Int64Index is deprecated and will be removed from pandas in a future version. Use pandas.Index with the appropriate dtype instead.\n",
      "  elif isinstance(data.columns, (pd.Int64Index, pd.RangeIndex)):\n",
      "/opt/anaconda3/lib/python3.9/site-packages/xgboost/data.py:250: FutureWarning: pandas.Int64Index is deprecated and will be removed from pandas in a future version. Use pandas.Index with the appropriate dtype instead.\n",
      "  elif isinstance(data.columns, (pd.Int64Index, pd.RangeIndex)):\n",
      "/opt/anaconda3/lib/python3.9/site-packages/xgboost/data.py:250: FutureWarning: pandas.Int64Index is deprecated and will be removed from pandas in a future version. Use pandas.Index with the appropriate dtype instead.\n",
      "  elif isinstance(data.columns, (pd.Int64Index, pd.RangeIndex)):\n",
      "/opt/anaconda3/lib/python3.9/site-packages/xgboost/data.py:250: FutureWarning: pandas.Int64Index is deprecated and will be removed from pandas in a future version. Use pandas.Index with the appropriate dtype instead.\n",
      "  elif isinstance(data.columns, (pd.Int64Index, pd.RangeIndex)):\n",
      "/opt/anaconda3/lib/python3.9/site-packages/xgboost/data.py:250: FutureWarning: pandas.Int64Index is deprecated and will be removed from pandas in a future version. Use pandas.Index with the appropriate dtype instead.\n",
      "  elif isinstance(data.columns, (pd.Int64Index, pd.RangeIndex)):\n",
      "/opt/anaconda3/lib/python3.9/site-packages/xgboost/data.py:250: FutureWarning: pandas.Int64Index is deprecated and will be removed from pandas in a future version. Use pandas.Index with the appropriate dtype instead.\n",
      "  elif isinstance(data.columns, (pd.Int64Index, pd.RangeIndex)):\n",
      "/opt/anaconda3/lib/python3.9/site-packages/xgboost/data.py:250: FutureWarning: pandas.Int64Index is deprecated and will be removed from pandas in a future version. Use pandas.Index with the appropriate dtype instead.\n",
      "  elif isinstance(data.columns, (pd.Int64Index, pd.RangeIndex)):\n",
      "/opt/anaconda3/lib/python3.9/site-packages/xgboost/data.py:250: FutureWarning: pandas.Int64Index is deprecated and will be removed from pandas in a future version. Use pandas.Index with the appropriate dtype instead.\n",
      "  elif isinstance(data.columns, (pd.Int64Index, pd.RangeIndex)):\n",
      "/opt/anaconda3/lib/python3.9/site-packages/xgboost/data.py:250: FutureWarning: pandas.Int64Index is deprecated and will be removed from pandas in a future version. Use pandas.Index with the appropriate dtype instead.\n",
      "  elif isinstance(data.columns, (pd.Int64Index, pd.RangeIndex)):\n",
      "/opt/anaconda3/lib/python3.9/site-packages/xgboost/data.py:250: FutureWarning: pandas.Int64Index is deprecated and will be removed from pandas in a future version. Use pandas.Index with the appropriate dtype instead.\n",
      "  elif isinstance(data.columns, (pd.Int64Index, pd.RangeIndex)):\n",
      "/opt/anaconda3/lib/python3.9/site-packages/xgboost/data.py:250: FutureWarning: pandas.Int64Index is deprecated and will be removed from pandas in a future version. Use pandas.Index with the appropriate dtype instead.\n",
      "  elif isinstance(data.columns, (pd.Int64Index, pd.RangeIndex)):\n",
      "/opt/anaconda3/lib/python3.9/site-packages/xgboost/data.py:250: FutureWarning: pandas.Int64Index is deprecated and will be removed from pandas in a future version. Use pandas.Index with the appropriate dtype instead.\n",
      "  elif isinstance(data.columns, (pd.Int64Index, pd.RangeIndex)):\n",
      "/opt/anaconda3/lib/python3.9/site-packages/xgboost/data.py:250: FutureWarning: pandas.Int64Index is deprecated and will be removed from pandas in a future version. Use pandas.Index with the appropriate dtype instead.\n",
      "  elif isinstance(data.columns, (pd.Int64Index, pd.RangeIndex)):\n",
      "/opt/anaconda3/lib/python3.9/site-packages/xgboost/data.py:250: FutureWarning: pandas.Int64Index is deprecated and will be removed from pandas in a future version. Use pandas.Index with the appropriate dtype instead.\n",
      "  elif isinstance(data.columns, (pd.Int64Index, pd.RangeIndex)):\n",
      "/opt/anaconda3/lib/python3.9/site-packages/xgboost/data.py:250: FutureWarning: pandas.Int64Index is deprecated and will be removed from pandas in a future version. Use pandas.Index with the appropriate dtype instead.\n",
      "  elif isinstance(data.columns, (pd.Int64Index, pd.RangeIndex)):\n",
      "/opt/anaconda3/lib/python3.9/site-packages/xgboost/data.py:250: FutureWarning: pandas.Int64Index is deprecated and will be removed from pandas in a future version. Use pandas.Index with the appropriate dtype instead.\n",
      "  elif isinstance(data.columns, (pd.Int64Index, pd.RangeIndex)):\n",
      "/opt/anaconda3/lib/python3.9/site-packages/xgboost/data.py:250: FutureWarning: pandas.Int64Index is deprecated and will be removed from pandas in a future version. Use pandas.Index with the appropriate dtype instead.\n",
      "  elif isinstance(data.columns, (pd.Int64Index, pd.RangeIndex)):\n",
      "/opt/anaconda3/lib/python3.9/site-packages/xgboost/data.py:250: FutureWarning: pandas.Int64Index is deprecated and will be removed from pandas in a future version. Use pandas.Index with the appropriate dtype instead.\n",
      "  elif isinstance(data.columns, (pd.Int64Index, pd.RangeIndex)):\n"
     ]
    },
    {
     "name": "stderr",
     "output_type": "stream",
     "text": [
      "/opt/anaconda3/lib/python3.9/site-packages/xgboost/data.py:250: FutureWarning: pandas.Int64Index is deprecated and will be removed from pandas in a future version. Use pandas.Index with the appropriate dtype instead.\n",
      "  elif isinstance(data.columns, (pd.Int64Index, pd.RangeIndex)):\n",
      "/opt/anaconda3/lib/python3.9/site-packages/xgboost/data.py:250: FutureWarning: pandas.Int64Index is deprecated and will be removed from pandas in a future version. Use pandas.Index with the appropriate dtype instead.\n",
      "  elif isinstance(data.columns, (pd.Int64Index, pd.RangeIndex)):\n",
      "/opt/anaconda3/lib/python3.9/site-packages/xgboost/data.py:250: FutureWarning: pandas.Int64Index is deprecated and will be removed from pandas in a future version. Use pandas.Index with the appropriate dtype instead.\n",
      "  elif isinstance(data.columns, (pd.Int64Index, pd.RangeIndex)):\n",
      "/opt/anaconda3/lib/python3.9/site-packages/xgboost/data.py:250: FutureWarning: pandas.Int64Index is deprecated and will be removed from pandas in a future version. Use pandas.Index with the appropriate dtype instead.\n",
      "  elif isinstance(data.columns, (pd.Int64Index, pd.RangeIndex)):\n",
      "/opt/anaconda3/lib/python3.9/site-packages/xgboost/data.py:250: FutureWarning: pandas.Int64Index is deprecated and will be removed from pandas in a future version. Use pandas.Index with the appropriate dtype instead.\n",
      "  elif isinstance(data.columns, (pd.Int64Index, pd.RangeIndex)):\n",
      "/opt/anaconda3/lib/python3.9/site-packages/xgboost/data.py:250: FutureWarning: pandas.Int64Index is deprecated and will be removed from pandas in a future version. Use pandas.Index with the appropriate dtype instead.\n",
      "  elif isinstance(data.columns, (pd.Int64Index, pd.RangeIndex)):\n",
      "/opt/anaconda3/lib/python3.9/site-packages/xgboost/data.py:250: FutureWarning: pandas.Int64Index is deprecated and will be removed from pandas in a future version. Use pandas.Index with the appropriate dtype instead.\n",
      "  elif isinstance(data.columns, (pd.Int64Index, pd.RangeIndex)):\n",
      "/opt/anaconda3/lib/python3.9/site-packages/xgboost/data.py:250: FutureWarning: pandas.Int64Index is deprecated and will be removed from pandas in a future version. Use pandas.Index with the appropriate dtype instead.\n",
      "  elif isinstance(data.columns, (pd.Int64Index, pd.RangeIndex)):\n",
      "/opt/anaconda3/lib/python3.9/site-packages/xgboost/data.py:250: FutureWarning: pandas.Int64Index is deprecated and will be removed from pandas in a future version. Use pandas.Index with the appropriate dtype instead.\n",
      "  elif isinstance(data.columns, (pd.Int64Index, pd.RangeIndex)):\n",
      "/opt/anaconda3/lib/python3.9/site-packages/xgboost/data.py:250: FutureWarning: pandas.Int64Index is deprecated and will be removed from pandas in a future version. Use pandas.Index with the appropriate dtype instead.\n",
      "  elif isinstance(data.columns, (pd.Int64Index, pd.RangeIndex)):\n",
      "/opt/anaconda3/lib/python3.9/site-packages/xgboost/data.py:250: FutureWarning: pandas.Int64Index is deprecated and will be removed from pandas in a future version. Use pandas.Index with the appropriate dtype instead.\n",
      "  elif isinstance(data.columns, (pd.Int64Index, pd.RangeIndex)):\n",
      "/opt/anaconda3/lib/python3.9/site-packages/xgboost/data.py:250: FutureWarning: pandas.Int64Index is deprecated and will be removed from pandas in a future version. Use pandas.Index with the appropriate dtype instead.\n",
      "  elif isinstance(data.columns, (pd.Int64Index, pd.RangeIndex)):\n",
      "/opt/anaconda3/lib/python3.9/site-packages/xgboost/data.py:250: FutureWarning: pandas.Int64Index is deprecated and will be removed from pandas in a future version. Use pandas.Index with the appropriate dtype instead.\n",
      "  elif isinstance(data.columns, (pd.Int64Index, pd.RangeIndex)):\n",
      "/opt/anaconda3/lib/python3.9/site-packages/xgboost/data.py:250: FutureWarning: pandas.Int64Index is deprecated and will be removed from pandas in a future version. Use pandas.Index with the appropriate dtype instead.\n",
      "  elif isinstance(data.columns, (pd.Int64Index, pd.RangeIndex)):\n",
      "/opt/anaconda3/lib/python3.9/site-packages/xgboost/data.py:250: FutureWarning: pandas.Int64Index is deprecated and will be removed from pandas in a future version. Use pandas.Index with the appropriate dtype instead.\n",
      "  elif isinstance(data.columns, (pd.Int64Index, pd.RangeIndex)):\n",
      "/opt/anaconda3/lib/python3.9/site-packages/xgboost/data.py:250: FutureWarning: pandas.Int64Index is deprecated and will be removed from pandas in a future version. Use pandas.Index with the appropriate dtype instead.\n",
      "  elif isinstance(data.columns, (pd.Int64Index, pd.RangeIndex)):\n",
      "/opt/anaconda3/lib/python3.9/site-packages/xgboost/data.py:250: FutureWarning: pandas.Int64Index is deprecated and will be removed from pandas in a future version. Use pandas.Index with the appropriate dtype instead.\n",
      "  elif isinstance(data.columns, (pd.Int64Index, pd.RangeIndex)):\n",
      "/opt/anaconda3/lib/python3.9/site-packages/xgboost/data.py:250: FutureWarning: pandas.Int64Index is deprecated and will be removed from pandas in a future version. Use pandas.Index with the appropriate dtype instead.\n",
      "  elif isinstance(data.columns, (pd.Int64Index, pd.RangeIndex)):\n",
      "/opt/anaconda3/lib/python3.9/site-packages/xgboost/data.py:250: FutureWarning: pandas.Int64Index is deprecated and will be removed from pandas in a future version. Use pandas.Index with the appropriate dtype instead.\n",
      "  elif isinstance(data.columns, (pd.Int64Index, pd.RangeIndex)):\n",
      "/opt/anaconda3/lib/python3.9/site-packages/xgboost/data.py:250: FutureWarning: pandas.Int64Index is deprecated and will be removed from pandas in a future version. Use pandas.Index with the appropriate dtype instead.\n",
      "  elif isinstance(data.columns, (pd.Int64Index, pd.RangeIndex)):\n",
      "/opt/anaconda3/lib/python3.9/site-packages/xgboost/data.py:250: FutureWarning: pandas.Int64Index is deprecated and will be removed from pandas in a future version. Use pandas.Index with the appropriate dtype instead.\n",
      "  elif isinstance(data.columns, (pd.Int64Index, pd.RangeIndex)):\n",
      "/opt/anaconda3/lib/python3.9/site-packages/xgboost/data.py:250: FutureWarning: pandas.Int64Index is deprecated and will be removed from pandas in a future version. Use pandas.Index with the appropriate dtype instead.\n",
      "  elif isinstance(data.columns, (pd.Int64Index, pd.RangeIndex)):\n",
      "/opt/anaconda3/lib/python3.9/site-packages/xgboost/data.py:250: FutureWarning: pandas.Int64Index is deprecated and will be removed from pandas in a future version. Use pandas.Index with the appropriate dtype instead.\n",
      "  elif isinstance(data.columns, (pd.Int64Index, pd.RangeIndex)):\n",
      "/opt/anaconda3/lib/python3.9/site-packages/xgboost/data.py:250: FutureWarning: pandas.Int64Index is deprecated and will be removed from pandas in a future version. Use pandas.Index with the appropriate dtype instead.\n",
      "  elif isinstance(data.columns, (pd.Int64Index, pd.RangeIndex)):\n",
      "/opt/anaconda3/lib/python3.9/site-packages/xgboost/data.py:250: FutureWarning: pandas.Int64Index is deprecated and will be removed from pandas in a future version. Use pandas.Index with the appropriate dtype instead.\n",
      "  elif isinstance(data.columns, (pd.Int64Index, pd.RangeIndex)):\n",
      "/opt/anaconda3/lib/python3.9/site-packages/xgboost/data.py:250: FutureWarning: pandas.Int64Index is deprecated and will be removed from pandas in a future version. Use pandas.Index with the appropriate dtype instead.\n",
      "  elif isinstance(data.columns, (pd.Int64Index, pd.RangeIndex)):\n",
      "/opt/anaconda3/lib/python3.9/site-packages/xgboost/data.py:250: FutureWarning: pandas.Int64Index is deprecated and will be removed from pandas in a future version. Use pandas.Index with the appropriate dtype instead.\n",
      "  elif isinstance(data.columns, (pd.Int64Index, pd.RangeIndex)):\n",
      "/opt/anaconda3/lib/python3.9/site-packages/xgboost/data.py:250: FutureWarning: pandas.Int64Index is deprecated and will be removed from pandas in a future version. Use pandas.Index with the appropriate dtype instead.\n",
      "  elif isinstance(data.columns, (pd.Int64Index, pd.RangeIndex)):\n",
      "/opt/anaconda3/lib/python3.9/site-packages/xgboost/data.py:250: FutureWarning: pandas.Int64Index is deprecated and will be removed from pandas in a future version. Use pandas.Index with the appropriate dtype instead.\n",
      "  elif isinstance(data.columns, (pd.Int64Index, pd.RangeIndex)):\n",
      "/opt/anaconda3/lib/python3.9/site-packages/xgboost/data.py:250: FutureWarning: pandas.Int64Index is deprecated and will be removed from pandas in a future version. Use pandas.Index with the appropriate dtype instead.\n",
      "  elif isinstance(data.columns, (pd.Int64Index, pd.RangeIndex)):\n"
     ]
    },
    {
     "name": "stderr",
     "output_type": "stream",
     "text": [
      "/opt/anaconda3/lib/python3.9/site-packages/xgboost/data.py:250: FutureWarning: pandas.Int64Index is deprecated and will be removed from pandas in a future version. Use pandas.Index with the appropriate dtype instead.\n",
      "  elif isinstance(data.columns, (pd.Int64Index, pd.RangeIndex)):\n",
      "/opt/anaconda3/lib/python3.9/site-packages/xgboost/data.py:250: FutureWarning: pandas.Int64Index is deprecated and will be removed from pandas in a future version. Use pandas.Index with the appropriate dtype instead.\n",
      "  elif isinstance(data.columns, (pd.Int64Index, pd.RangeIndex)):\n",
      "/opt/anaconda3/lib/python3.9/site-packages/xgboost/data.py:250: FutureWarning: pandas.Int64Index is deprecated and will be removed from pandas in a future version. Use pandas.Index with the appropriate dtype instead.\n",
      "  elif isinstance(data.columns, (pd.Int64Index, pd.RangeIndex)):\n",
      "/opt/anaconda3/lib/python3.9/site-packages/xgboost/data.py:250: FutureWarning: pandas.Int64Index is deprecated and will be removed from pandas in a future version. Use pandas.Index with the appropriate dtype instead.\n",
      "  elif isinstance(data.columns, (pd.Int64Index, pd.RangeIndex)):\n",
      "/opt/anaconda3/lib/python3.9/site-packages/xgboost/data.py:250: FutureWarning: pandas.Int64Index is deprecated and will be removed from pandas in a future version. Use pandas.Index with the appropriate dtype instead.\n",
      "  elif isinstance(data.columns, (pd.Int64Index, pd.RangeIndex)):\n",
      "/opt/anaconda3/lib/python3.9/site-packages/xgboost/data.py:250: FutureWarning: pandas.Int64Index is deprecated and will be removed from pandas in a future version. Use pandas.Index with the appropriate dtype instead.\n",
      "  elif isinstance(data.columns, (pd.Int64Index, pd.RangeIndex)):\n",
      "/opt/anaconda3/lib/python3.9/site-packages/xgboost/data.py:250: FutureWarning: pandas.Int64Index is deprecated and will be removed from pandas in a future version. Use pandas.Index with the appropriate dtype instead.\n",
      "  elif isinstance(data.columns, (pd.Int64Index, pd.RangeIndex)):\n",
      "/opt/anaconda3/lib/python3.9/site-packages/xgboost/data.py:250: FutureWarning: pandas.Int64Index is deprecated and will be removed from pandas in a future version. Use pandas.Index with the appropriate dtype instead.\n",
      "  elif isinstance(data.columns, (pd.Int64Index, pd.RangeIndex)):\n",
      "/opt/anaconda3/lib/python3.9/site-packages/xgboost/data.py:250: FutureWarning: pandas.Int64Index is deprecated and will be removed from pandas in a future version. Use pandas.Index with the appropriate dtype instead.\n",
      "  elif isinstance(data.columns, (pd.Int64Index, pd.RangeIndex)):\n",
      "/opt/anaconda3/lib/python3.9/site-packages/xgboost/data.py:250: FutureWarning: pandas.Int64Index is deprecated and will be removed from pandas in a future version. Use pandas.Index with the appropriate dtype instead.\n",
      "  elif isinstance(data.columns, (pd.Int64Index, pd.RangeIndex)):\n",
      "/opt/anaconda3/lib/python3.9/site-packages/xgboost/data.py:250: FutureWarning: pandas.Int64Index is deprecated and will be removed from pandas in a future version. Use pandas.Index with the appropriate dtype instead.\n",
      "  elif isinstance(data.columns, (pd.Int64Index, pd.RangeIndex)):\n",
      "/opt/anaconda3/lib/python3.9/site-packages/xgboost/data.py:250: FutureWarning: pandas.Int64Index is deprecated and will be removed from pandas in a future version. Use pandas.Index with the appropriate dtype instead.\n",
      "  elif isinstance(data.columns, (pd.Int64Index, pd.RangeIndex)):\n",
      "/opt/anaconda3/lib/python3.9/site-packages/xgboost/data.py:250: FutureWarning: pandas.Int64Index is deprecated and will be removed from pandas in a future version. Use pandas.Index with the appropriate dtype instead.\n",
      "  elif isinstance(data.columns, (pd.Int64Index, pd.RangeIndex)):\n",
      "/opt/anaconda3/lib/python3.9/site-packages/xgboost/data.py:250: FutureWarning: pandas.Int64Index is deprecated and will be removed from pandas in a future version. Use pandas.Index with the appropriate dtype instead.\n",
      "  elif isinstance(data.columns, (pd.Int64Index, pd.RangeIndex)):\n",
      "/opt/anaconda3/lib/python3.9/site-packages/xgboost/data.py:250: FutureWarning: pandas.Int64Index is deprecated and will be removed from pandas in a future version. Use pandas.Index with the appropriate dtype instead.\n",
      "  elif isinstance(data.columns, (pd.Int64Index, pd.RangeIndex)):\n",
      "/opt/anaconda3/lib/python3.9/site-packages/xgboost/data.py:250: FutureWarning: pandas.Int64Index is deprecated and will be removed from pandas in a future version. Use pandas.Index with the appropriate dtype instead.\n",
      "  elif isinstance(data.columns, (pd.Int64Index, pd.RangeIndex)):\n",
      "/opt/anaconda3/lib/python3.9/site-packages/xgboost/data.py:250: FutureWarning: pandas.Int64Index is deprecated and will be removed from pandas in a future version. Use pandas.Index with the appropriate dtype instead.\n",
      "  elif isinstance(data.columns, (pd.Int64Index, pd.RangeIndex)):\n",
      "/opt/anaconda3/lib/python3.9/site-packages/xgboost/data.py:250: FutureWarning: pandas.Int64Index is deprecated and will be removed from pandas in a future version. Use pandas.Index with the appropriate dtype instead.\n",
      "  elif isinstance(data.columns, (pd.Int64Index, pd.RangeIndex)):\n",
      "/opt/anaconda3/lib/python3.9/site-packages/xgboost/data.py:250: FutureWarning: pandas.Int64Index is deprecated and will be removed from pandas in a future version. Use pandas.Index with the appropriate dtype instead.\n",
      "  elif isinstance(data.columns, (pd.Int64Index, pd.RangeIndex)):\n",
      "/opt/anaconda3/lib/python3.9/site-packages/xgboost/data.py:250: FutureWarning: pandas.Int64Index is deprecated and will be removed from pandas in a future version. Use pandas.Index with the appropriate dtype instead.\n",
      "  elif isinstance(data.columns, (pd.Int64Index, pd.RangeIndex)):\n",
      "/opt/anaconda3/lib/python3.9/site-packages/xgboost/data.py:250: FutureWarning: pandas.Int64Index is deprecated and will be removed from pandas in a future version. Use pandas.Index with the appropriate dtype instead.\n",
      "  elif isinstance(data.columns, (pd.Int64Index, pd.RangeIndex)):\n",
      "/opt/anaconda3/lib/python3.9/site-packages/xgboost/data.py:250: FutureWarning: pandas.Int64Index is deprecated and will be removed from pandas in a future version. Use pandas.Index with the appropriate dtype instead.\n",
      "  elif isinstance(data.columns, (pd.Int64Index, pd.RangeIndex)):\n",
      "/opt/anaconda3/lib/python3.9/site-packages/xgboost/data.py:250: FutureWarning: pandas.Int64Index is deprecated and will be removed from pandas in a future version. Use pandas.Index with the appropriate dtype instead.\n",
      "  elif isinstance(data.columns, (pd.Int64Index, pd.RangeIndex)):\n",
      "/opt/anaconda3/lib/python3.9/site-packages/xgboost/data.py:250: FutureWarning: pandas.Int64Index is deprecated and will be removed from pandas in a future version. Use pandas.Index with the appropriate dtype instead.\n",
      "  elif isinstance(data.columns, (pd.Int64Index, pd.RangeIndex)):\n",
      "/opt/anaconda3/lib/python3.9/site-packages/xgboost/data.py:250: FutureWarning: pandas.Int64Index is deprecated and will be removed from pandas in a future version. Use pandas.Index with the appropriate dtype instead.\n",
      "  elif isinstance(data.columns, (pd.Int64Index, pd.RangeIndex)):\n",
      "/opt/anaconda3/lib/python3.9/site-packages/xgboost/data.py:250: FutureWarning: pandas.Int64Index is deprecated and will be removed from pandas in a future version. Use pandas.Index with the appropriate dtype instead.\n",
      "  elif isinstance(data.columns, (pd.Int64Index, pd.RangeIndex)):\n",
      "/opt/anaconda3/lib/python3.9/site-packages/xgboost/data.py:250: FutureWarning: pandas.Int64Index is deprecated and will be removed from pandas in a future version. Use pandas.Index with the appropriate dtype instead.\n",
      "  elif isinstance(data.columns, (pd.Int64Index, pd.RangeIndex)):\n",
      "/opt/anaconda3/lib/python3.9/site-packages/xgboost/data.py:250: FutureWarning: pandas.Int64Index is deprecated and will be removed from pandas in a future version. Use pandas.Index with the appropriate dtype instead.\n",
      "  elif isinstance(data.columns, (pd.Int64Index, pd.RangeIndex)):\n",
      "/opt/anaconda3/lib/python3.9/site-packages/xgboost/data.py:250: FutureWarning: pandas.Int64Index is deprecated and will be removed from pandas in a future version. Use pandas.Index with the appropriate dtype instead.\n",
      "  elif isinstance(data.columns, (pd.Int64Index, pd.RangeIndex)):\n",
      "/opt/anaconda3/lib/python3.9/site-packages/xgboost/data.py:250: FutureWarning: pandas.Int64Index is deprecated and will be removed from pandas in a future version. Use pandas.Index with the appropriate dtype instead.\n",
      "  elif isinstance(data.columns, (pd.Int64Index, pd.RangeIndex)):\n"
     ]
    },
    {
     "name": "stderr",
     "output_type": "stream",
     "text": [
      "/opt/anaconda3/lib/python3.9/site-packages/xgboost/data.py:250: FutureWarning: pandas.Int64Index is deprecated and will be removed from pandas in a future version. Use pandas.Index with the appropriate dtype instead.\n",
      "  elif isinstance(data.columns, (pd.Int64Index, pd.RangeIndex)):\n",
      "/opt/anaconda3/lib/python3.9/site-packages/xgboost/data.py:250: FutureWarning: pandas.Int64Index is deprecated and will be removed from pandas in a future version. Use pandas.Index with the appropriate dtype instead.\n",
      "  elif isinstance(data.columns, (pd.Int64Index, pd.RangeIndex)):\n",
      "/opt/anaconda3/lib/python3.9/site-packages/xgboost/data.py:250: FutureWarning: pandas.Int64Index is deprecated and will be removed from pandas in a future version. Use pandas.Index with the appropriate dtype instead.\n",
      "  elif isinstance(data.columns, (pd.Int64Index, pd.RangeIndex)):\n",
      "/opt/anaconda3/lib/python3.9/site-packages/xgboost/data.py:250: FutureWarning: pandas.Int64Index is deprecated and will be removed from pandas in a future version. Use pandas.Index with the appropriate dtype instead.\n",
      "  elif isinstance(data.columns, (pd.Int64Index, pd.RangeIndex)):\n",
      "/opt/anaconda3/lib/python3.9/site-packages/xgboost/data.py:250: FutureWarning: pandas.Int64Index is deprecated and will be removed from pandas in a future version. Use pandas.Index with the appropriate dtype instead.\n",
      "  elif isinstance(data.columns, (pd.Int64Index, pd.RangeIndex)):\n",
      "/opt/anaconda3/lib/python3.9/site-packages/xgboost/data.py:250: FutureWarning: pandas.Int64Index is deprecated and will be removed from pandas in a future version. Use pandas.Index with the appropriate dtype instead.\n",
      "  elif isinstance(data.columns, (pd.Int64Index, pd.RangeIndex)):\n",
      "/opt/anaconda3/lib/python3.9/site-packages/xgboost/data.py:250: FutureWarning: pandas.Int64Index is deprecated and will be removed from pandas in a future version. Use pandas.Index with the appropriate dtype instead.\n",
      "  elif isinstance(data.columns, (pd.Int64Index, pd.RangeIndex)):\n",
      "/opt/anaconda3/lib/python3.9/site-packages/xgboost/data.py:250: FutureWarning: pandas.Int64Index is deprecated and will be removed from pandas in a future version. Use pandas.Index with the appropriate dtype instead.\n",
      "  elif isinstance(data.columns, (pd.Int64Index, pd.RangeIndex)):\n",
      "/opt/anaconda3/lib/python3.9/site-packages/xgboost/data.py:250: FutureWarning: pandas.Int64Index is deprecated and will be removed from pandas in a future version. Use pandas.Index with the appropriate dtype instead.\n",
      "  elif isinstance(data.columns, (pd.Int64Index, pd.RangeIndex)):\n",
      "/opt/anaconda3/lib/python3.9/site-packages/xgboost/data.py:250: FutureWarning: pandas.Int64Index is deprecated and will be removed from pandas in a future version. Use pandas.Index with the appropriate dtype instead.\n",
      "  elif isinstance(data.columns, (pd.Int64Index, pd.RangeIndex)):\n",
      "/opt/anaconda3/lib/python3.9/site-packages/xgboost/data.py:250: FutureWarning: pandas.Int64Index is deprecated and will be removed from pandas in a future version. Use pandas.Index with the appropriate dtype instead.\n",
      "  elif isinstance(data.columns, (pd.Int64Index, pd.RangeIndex)):\n",
      "/opt/anaconda3/lib/python3.9/site-packages/xgboost/data.py:250: FutureWarning: pandas.Int64Index is deprecated and will be removed from pandas in a future version. Use pandas.Index with the appropriate dtype instead.\n",
      "  elif isinstance(data.columns, (pd.Int64Index, pd.RangeIndex)):\n",
      "/opt/anaconda3/lib/python3.9/site-packages/xgboost/data.py:250: FutureWarning: pandas.Int64Index is deprecated and will be removed from pandas in a future version. Use pandas.Index with the appropriate dtype instead.\n",
      "  elif isinstance(data.columns, (pd.Int64Index, pd.RangeIndex)):\n",
      "/opt/anaconda3/lib/python3.9/site-packages/xgboost/data.py:250: FutureWarning: pandas.Int64Index is deprecated and will be removed from pandas in a future version. Use pandas.Index with the appropriate dtype instead.\n",
      "  elif isinstance(data.columns, (pd.Int64Index, pd.RangeIndex)):\n",
      "/opt/anaconda3/lib/python3.9/site-packages/xgboost/data.py:250: FutureWarning: pandas.Int64Index is deprecated and will be removed from pandas in a future version. Use pandas.Index with the appropriate dtype instead.\n",
      "  elif isinstance(data.columns, (pd.Int64Index, pd.RangeIndex)):\n",
      "/opt/anaconda3/lib/python3.9/site-packages/xgboost/data.py:250: FutureWarning: pandas.Int64Index is deprecated and will be removed from pandas in a future version. Use pandas.Index with the appropriate dtype instead.\n",
      "  elif isinstance(data.columns, (pd.Int64Index, pd.RangeIndex)):\n",
      "/opt/anaconda3/lib/python3.9/site-packages/xgboost/data.py:250: FutureWarning: pandas.Int64Index is deprecated and will be removed from pandas in a future version. Use pandas.Index with the appropriate dtype instead.\n",
      "  elif isinstance(data.columns, (pd.Int64Index, pd.RangeIndex)):\n",
      "/opt/anaconda3/lib/python3.9/site-packages/xgboost/data.py:250: FutureWarning: pandas.Int64Index is deprecated and will be removed from pandas in a future version. Use pandas.Index with the appropriate dtype instead.\n",
      "  elif isinstance(data.columns, (pd.Int64Index, pd.RangeIndex)):\n",
      "/opt/anaconda3/lib/python3.9/site-packages/xgboost/data.py:250: FutureWarning: pandas.Int64Index is deprecated and will be removed from pandas in a future version. Use pandas.Index with the appropriate dtype instead.\n",
      "  elif isinstance(data.columns, (pd.Int64Index, pd.RangeIndex)):\n",
      "/opt/anaconda3/lib/python3.9/site-packages/xgboost/data.py:250: FutureWarning: pandas.Int64Index is deprecated and will be removed from pandas in a future version. Use pandas.Index with the appropriate dtype instead.\n",
      "  elif isinstance(data.columns, (pd.Int64Index, pd.RangeIndex)):\n",
      "/opt/anaconda3/lib/python3.9/site-packages/xgboost/data.py:250: FutureWarning: pandas.Int64Index is deprecated and will be removed from pandas in a future version. Use pandas.Index with the appropriate dtype instead.\n",
      "  elif isinstance(data.columns, (pd.Int64Index, pd.RangeIndex)):\n",
      "/opt/anaconda3/lib/python3.9/site-packages/xgboost/data.py:250: FutureWarning: pandas.Int64Index is deprecated and will be removed from pandas in a future version. Use pandas.Index with the appropriate dtype instead.\n",
      "  elif isinstance(data.columns, (pd.Int64Index, pd.RangeIndex)):\n",
      "/opt/anaconda3/lib/python3.9/site-packages/xgboost/data.py:250: FutureWarning: pandas.Int64Index is deprecated and will be removed from pandas in a future version. Use pandas.Index with the appropriate dtype instead.\n",
      "  elif isinstance(data.columns, (pd.Int64Index, pd.RangeIndex)):\n",
      "/opt/anaconda3/lib/python3.9/site-packages/xgboost/data.py:250: FutureWarning: pandas.Int64Index is deprecated and will be removed from pandas in a future version. Use pandas.Index with the appropriate dtype instead.\n",
      "  elif isinstance(data.columns, (pd.Int64Index, pd.RangeIndex)):\n",
      "/opt/anaconda3/lib/python3.9/site-packages/xgboost/data.py:250: FutureWarning: pandas.Int64Index is deprecated and will be removed from pandas in a future version. Use pandas.Index with the appropriate dtype instead.\n",
      "  elif isinstance(data.columns, (pd.Int64Index, pd.RangeIndex)):\n",
      "/opt/anaconda3/lib/python3.9/site-packages/xgboost/data.py:250: FutureWarning: pandas.Int64Index is deprecated and will be removed from pandas in a future version. Use pandas.Index with the appropriate dtype instead.\n",
      "  elif isinstance(data.columns, (pd.Int64Index, pd.RangeIndex)):\n",
      "/opt/anaconda3/lib/python3.9/site-packages/xgboost/data.py:250: FutureWarning: pandas.Int64Index is deprecated and will be removed from pandas in a future version. Use pandas.Index with the appropriate dtype instead.\n",
      "  elif isinstance(data.columns, (pd.Int64Index, pd.RangeIndex)):\n",
      "/opt/anaconda3/lib/python3.9/site-packages/xgboost/data.py:250: FutureWarning: pandas.Int64Index is deprecated and will be removed from pandas in a future version. Use pandas.Index with the appropriate dtype instead.\n",
      "  elif isinstance(data.columns, (pd.Int64Index, pd.RangeIndex)):\n",
      "/opt/anaconda3/lib/python3.9/site-packages/xgboost/data.py:250: FutureWarning: pandas.Int64Index is deprecated and will be removed from pandas in a future version. Use pandas.Index with the appropriate dtype instead.\n",
      "  elif isinstance(data.columns, (pd.Int64Index, pd.RangeIndex)):\n",
      "/opt/anaconda3/lib/python3.9/site-packages/xgboost/data.py:250: FutureWarning: pandas.Int64Index is deprecated and will be removed from pandas in a future version. Use pandas.Index with the appropriate dtype instead.\n",
      "  elif isinstance(data.columns, (pd.Int64Index, pd.RangeIndex)):\n"
     ]
    },
    {
     "name": "stderr",
     "output_type": "stream",
     "text": [
      "/opt/anaconda3/lib/python3.9/site-packages/xgboost/data.py:250: FutureWarning: pandas.Int64Index is deprecated and will be removed from pandas in a future version. Use pandas.Index with the appropriate dtype instead.\n",
      "  elif isinstance(data.columns, (pd.Int64Index, pd.RangeIndex)):\n",
      "/opt/anaconda3/lib/python3.9/site-packages/xgboost/data.py:250: FutureWarning: pandas.Int64Index is deprecated and will be removed from pandas in a future version. Use pandas.Index with the appropriate dtype instead.\n",
      "  elif isinstance(data.columns, (pd.Int64Index, pd.RangeIndex)):\n",
      "/opt/anaconda3/lib/python3.9/site-packages/xgboost/data.py:250: FutureWarning: pandas.Int64Index is deprecated and will be removed from pandas in a future version. Use pandas.Index with the appropriate dtype instead.\n",
      "  elif isinstance(data.columns, (pd.Int64Index, pd.RangeIndex)):\n",
      "/opt/anaconda3/lib/python3.9/site-packages/xgboost/data.py:250: FutureWarning: pandas.Int64Index is deprecated and will be removed from pandas in a future version. Use pandas.Index with the appropriate dtype instead.\n",
      "  elif isinstance(data.columns, (pd.Int64Index, pd.RangeIndex)):\n",
      "/opt/anaconda3/lib/python3.9/site-packages/xgboost/data.py:250: FutureWarning: pandas.Int64Index is deprecated and will be removed from pandas in a future version. Use pandas.Index with the appropriate dtype instead.\n",
      "  elif isinstance(data.columns, (pd.Int64Index, pd.RangeIndex)):\n",
      "/opt/anaconda3/lib/python3.9/site-packages/xgboost/data.py:250: FutureWarning: pandas.Int64Index is deprecated and will be removed from pandas in a future version. Use pandas.Index with the appropriate dtype instead.\n",
      "  elif isinstance(data.columns, (pd.Int64Index, pd.RangeIndex)):\n",
      "/opt/anaconda3/lib/python3.9/site-packages/xgboost/data.py:250: FutureWarning: pandas.Int64Index is deprecated and will be removed from pandas in a future version. Use pandas.Index with the appropriate dtype instead.\n",
      "  elif isinstance(data.columns, (pd.Int64Index, pd.RangeIndex)):\n",
      "/opt/anaconda3/lib/python3.9/site-packages/xgboost/data.py:250: FutureWarning: pandas.Int64Index is deprecated and will be removed from pandas in a future version. Use pandas.Index with the appropriate dtype instead.\n",
      "  elif isinstance(data.columns, (pd.Int64Index, pd.RangeIndex)):\n",
      "/opt/anaconda3/lib/python3.9/site-packages/xgboost/data.py:250: FutureWarning: pandas.Int64Index is deprecated and will be removed from pandas in a future version. Use pandas.Index with the appropriate dtype instead.\n",
      "  elif isinstance(data.columns, (pd.Int64Index, pd.RangeIndex)):\n",
      "/opt/anaconda3/lib/python3.9/site-packages/xgboost/data.py:250: FutureWarning: pandas.Int64Index is deprecated and will be removed from pandas in a future version. Use pandas.Index with the appropriate dtype instead.\n",
      "  elif isinstance(data.columns, (pd.Int64Index, pd.RangeIndex)):\n",
      "/opt/anaconda3/lib/python3.9/site-packages/xgboost/data.py:250: FutureWarning: pandas.Int64Index is deprecated and will be removed from pandas in a future version. Use pandas.Index with the appropriate dtype instead.\n",
      "  elif isinstance(data.columns, (pd.Int64Index, pd.RangeIndex)):\n",
      "/opt/anaconda3/lib/python3.9/site-packages/xgboost/data.py:250: FutureWarning: pandas.Int64Index is deprecated and will be removed from pandas in a future version. Use pandas.Index with the appropriate dtype instead.\n",
      "  elif isinstance(data.columns, (pd.Int64Index, pd.RangeIndex)):\n",
      "/opt/anaconda3/lib/python3.9/site-packages/xgboost/data.py:250: FutureWarning: pandas.Int64Index is deprecated and will be removed from pandas in a future version. Use pandas.Index with the appropriate dtype instead.\n",
      "  elif isinstance(data.columns, (pd.Int64Index, pd.RangeIndex)):\n",
      "/opt/anaconda3/lib/python3.9/site-packages/xgboost/data.py:250: FutureWarning: pandas.Int64Index is deprecated and will be removed from pandas in a future version. Use pandas.Index with the appropriate dtype instead.\n",
      "  elif isinstance(data.columns, (pd.Int64Index, pd.RangeIndex)):\n",
      "/opt/anaconda3/lib/python3.9/site-packages/xgboost/data.py:250: FutureWarning: pandas.Int64Index is deprecated and will be removed from pandas in a future version. Use pandas.Index with the appropriate dtype instead.\n",
      "  elif isinstance(data.columns, (pd.Int64Index, pd.RangeIndex)):\n",
      "/opt/anaconda3/lib/python3.9/site-packages/xgboost/data.py:250: FutureWarning: pandas.Int64Index is deprecated and will be removed from pandas in a future version. Use pandas.Index with the appropriate dtype instead.\n",
      "  elif isinstance(data.columns, (pd.Int64Index, pd.RangeIndex)):\n",
      "/opt/anaconda3/lib/python3.9/site-packages/xgboost/data.py:250: FutureWarning: pandas.Int64Index is deprecated and will be removed from pandas in a future version. Use pandas.Index with the appropriate dtype instead.\n",
      "  elif isinstance(data.columns, (pd.Int64Index, pd.RangeIndex)):\n",
      "/opt/anaconda3/lib/python3.9/site-packages/xgboost/data.py:250: FutureWarning: pandas.Int64Index is deprecated and will be removed from pandas in a future version. Use pandas.Index with the appropriate dtype instead.\n",
      "  elif isinstance(data.columns, (pd.Int64Index, pd.RangeIndex)):\n",
      "/opt/anaconda3/lib/python3.9/site-packages/xgboost/data.py:250: FutureWarning: pandas.Int64Index is deprecated and will be removed from pandas in a future version. Use pandas.Index with the appropriate dtype instead.\n",
      "  elif isinstance(data.columns, (pd.Int64Index, pd.RangeIndex)):\n",
      "/opt/anaconda3/lib/python3.9/site-packages/xgboost/data.py:250: FutureWarning: pandas.Int64Index is deprecated and will be removed from pandas in a future version. Use pandas.Index with the appropriate dtype instead.\n",
      "  elif isinstance(data.columns, (pd.Int64Index, pd.RangeIndex)):\n",
      "/opt/anaconda3/lib/python3.9/site-packages/xgboost/data.py:250: FutureWarning: pandas.Int64Index is deprecated and will be removed from pandas in a future version. Use pandas.Index with the appropriate dtype instead.\n",
      "  elif isinstance(data.columns, (pd.Int64Index, pd.RangeIndex)):\n",
      "/opt/anaconda3/lib/python3.9/site-packages/xgboost/data.py:250: FutureWarning: pandas.Int64Index is deprecated and will be removed from pandas in a future version. Use pandas.Index with the appropriate dtype instead.\n",
      "  elif isinstance(data.columns, (pd.Int64Index, pd.RangeIndex)):\n",
      "/opt/anaconda3/lib/python3.9/site-packages/xgboost/data.py:250: FutureWarning: pandas.Int64Index is deprecated and will be removed from pandas in a future version. Use pandas.Index with the appropriate dtype instead.\n",
      "  elif isinstance(data.columns, (pd.Int64Index, pd.RangeIndex)):\n",
      "/opt/anaconda3/lib/python3.9/site-packages/xgboost/data.py:250: FutureWarning: pandas.Int64Index is deprecated and will be removed from pandas in a future version. Use pandas.Index with the appropriate dtype instead.\n",
      "  elif isinstance(data.columns, (pd.Int64Index, pd.RangeIndex)):\n",
      "/opt/anaconda3/lib/python3.9/site-packages/xgboost/data.py:250: FutureWarning: pandas.Int64Index is deprecated and will be removed from pandas in a future version. Use pandas.Index with the appropriate dtype instead.\n",
      "  elif isinstance(data.columns, (pd.Int64Index, pd.RangeIndex)):\n",
      "/opt/anaconda3/lib/python3.9/site-packages/xgboost/data.py:250: FutureWarning: pandas.Int64Index is deprecated and will be removed from pandas in a future version. Use pandas.Index with the appropriate dtype instead.\n",
      "  elif isinstance(data.columns, (pd.Int64Index, pd.RangeIndex)):\n",
      "/opt/anaconda3/lib/python3.9/site-packages/xgboost/data.py:250: FutureWarning: pandas.Int64Index is deprecated and will be removed from pandas in a future version. Use pandas.Index with the appropriate dtype instead.\n",
      "  elif isinstance(data.columns, (pd.Int64Index, pd.RangeIndex)):\n",
      "/opt/anaconda3/lib/python3.9/site-packages/xgboost/data.py:250: FutureWarning: pandas.Int64Index is deprecated and will be removed from pandas in a future version. Use pandas.Index with the appropriate dtype instead.\n",
      "  elif isinstance(data.columns, (pd.Int64Index, pd.RangeIndex)):\n",
      "/opt/anaconda3/lib/python3.9/site-packages/xgboost/data.py:250: FutureWarning: pandas.Int64Index is deprecated and will be removed from pandas in a future version. Use pandas.Index with the appropriate dtype instead.\n",
      "  elif isinstance(data.columns, (pd.Int64Index, pd.RangeIndex)):\n",
      "/opt/anaconda3/lib/python3.9/site-packages/xgboost/data.py:250: FutureWarning: pandas.Int64Index is deprecated and will be removed from pandas in a future version. Use pandas.Index with the appropriate dtype instead.\n",
      "  elif isinstance(data.columns, (pd.Int64Index, pd.RangeIndex)):\n"
     ]
    },
    {
     "name": "stderr",
     "output_type": "stream",
     "text": [
      "/opt/anaconda3/lib/python3.9/site-packages/xgboost/data.py:250: FutureWarning: pandas.Int64Index is deprecated and will be removed from pandas in a future version. Use pandas.Index with the appropriate dtype instead.\n",
      "  elif isinstance(data.columns, (pd.Int64Index, pd.RangeIndex)):\n",
      "/opt/anaconda3/lib/python3.9/site-packages/xgboost/data.py:250: FutureWarning: pandas.Int64Index is deprecated and will be removed from pandas in a future version. Use pandas.Index with the appropriate dtype instead.\n",
      "  elif isinstance(data.columns, (pd.Int64Index, pd.RangeIndex)):\n",
      "/opt/anaconda3/lib/python3.9/site-packages/xgboost/data.py:250: FutureWarning: pandas.Int64Index is deprecated and will be removed from pandas in a future version. Use pandas.Index with the appropriate dtype instead.\n",
      "  elif isinstance(data.columns, (pd.Int64Index, pd.RangeIndex)):\n",
      "/opt/anaconda3/lib/python3.9/site-packages/xgboost/data.py:250: FutureWarning: pandas.Int64Index is deprecated and will be removed from pandas in a future version. Use pandas.Index with the appropriate dtype instead.\n",
      "  elif isinstance(data.columns, (pd.Int64Index, pd.RangeIndex)):\n",
      "/opt/anaconda3/lib/python3.9/site-packages/xgboost/data.py:250: FutureWarning: pandas.Int64Index is deprecated and will be removed from pandas in a future version. Use pandas.Index with the appropriate dtype instead.\n",
      "  elif isinstance(data.columns, (pd.Int64Index, pd.RangeIndex)):\n",
      "/opt/anaconda3/lib/python3.9/site-packages/xgboost/data.py:250: FutureWarning: pandas.Int64Index is deprecated and will be removed from pandas in a future version. Use pandas.Index with the appropriate dtype instead.\n",
      "  elif isinstance(data.columns, (pd.Int64Index, pd.RangeIndex)):\n",
      "/opt/anaconda3/lib/python3.9/site-packages/xgboost/data.py:250: FutureWarning: pandas.Int64Index is deprecated and will be removed from pandas in a future version. Use pandas.Index with the appropriate dtype instead.\n",
      "  elif isinstance(data.columns, (pd.Int64Index, pd.RangeIndex)):\n",
      "/opt/anaconda3/lib/python3.9/site-packages/xgboost/data.py:250: FutureWarning: pandas.Int64Index is deprecated and will be removed from pandas in a future version. Use pandas.Index with the appropriate dtype instead.\n",
      "  elif isinstance(data.columns, (pd.Int64Index, pd.RangeIndex)):\n",
      "/opt/anaconda3/lib/python3.9/site-packages/xgboost/data.py:250: FutureWarning: pandas.Int64Index is deprecated and will be removed from pandas in a future version. Use pandas.Index with the appropriate dtype instead.\n",
      "  elif isinstance(data.columns, (pd.Int64Index, pd.RangeIndex)):\n",
      "/opt/anaconda3/lib/python3.9/site-packages/xgboost/data.py:250: FutureWarning: pandas.Int64Index is deprecated and will be removed from pandas in a future version. Use pandas.Index with the appropriate dtype instead.\n",
      "  elif isinstance(data.columns, (pd.Int64Index, pd.RangeIndex)):\n",
      "/opt/anaconda3/lib/python3.9/site-packages/xgboost/data.py:250: FutureWarning: pandas.Int64Index is deprecated and will be removed from pandas in a future version. Use pandas.Index with the appropriate dtype instead.\n",
      "  elif isinstance(data.columns, (pd.Int64Index, pd.RangeIndex)):\n",
      "/opt/anaconda3/lib/python3.9/site-packages/xgboost/data.py:250: FutureWarning: pandas.Int64Index is deprecated and will be removed from pandas in a future version. Use pandas.Index with the appropriate dtype instead.\n",
      "  elif isinstance(data.columns, (pd.Int64Index, pd.RangeIndex)):\n",
      "/opt/anaconda3/lib/python3.9/site-packages/xgboost/data.py:250: FutureWarning: pandas.Int64Index is deprecated and will be removed from pandas in a future version. Use pandas.Index with the appropriate dtype instead.\n",
      "  elif isinstance(data.columns, (pd.Int64Index, pd.RangeIndex)):\n",
      "/opt/anaconda3/lib/python3.9/site-packages/xgboost/data.py:250: FutureWarning: pandas.Int64Index is deprecated and will be removed from pandas in a future version. Use pandas.Index with the appropriate dtype instead.\n",
      "  elif isinstance(data.columns, (pd.Int64Index, pd.RangeIndex)):\n",
      "/opt/anaconda3/lib/python3.9/site-packages/xgboost/data.py:250: FutureWarning: pandas.Int64Index is deprecated and will be removed from pandas in a future version. Use pandas.Index with the appropriate dtype instead.\n",
      "  elif isinstance(data.columns, (pd.Int64Index, pd.RangeIndex)):\n",
      "/opt/anaconda3/lib/python3.9/site-packages/xgboost/data.py:250: FutureWarning: pandas.Int64Index is deprecated and will be removed from pandas in a future version. Use pandas.Index with the appropriate dtype instead.\n",
      "  elif isinstance(data.columns, (pd.Int64Index, pd.RangeIndex)):\n",
      "/opt/anaconda3/lib/python3.9/site-packages/xgboost/data.py:250: FutureWarning: pandas.Int64Index is deprecated and will be removed from pandas in a future version. Use pandas.Index with the appropriate dtype instead.\n",
      "  elif isinstance(data.columns, (pd.Int64Index, pd.RangeIndex)):\n",
      "/opt/anaconda3/lib/python3.9/site-packages/xgboost/data.py:250: FutureWarning: pandas.Int64Index is deprecated and will be removed from pandas in a future version. Use pandas.Index with the appropriate dtype instead.\n",
      "  elif isinstance(data.columns, (pd.Int64Index, pd.RangeIndex)):\n",
      "/opt/anaconda3/lib/python3.9/site-packages/xgboost/data.py:250: FutureWarning: pandas.Int64Index is deprecated and will be removed from pandas in a future version. Use pandas.Index with the appropriate dtype instead.\n",
      "  elif isinstance(data.columns, (pd.Int64Index, pd.RangeIndex)):\n",
      "/opt/anaconda3/lib/python3.9/site-packages/xgboost/data.py:250: FutureWarning: pandas.Int64Index is deprecated and will be removed from pandas in a future version. Use pandas.Index with the appropriate dtype instead.\n",
      "  elif isinstance(data.columns, (pd.Int64Index, pd.RangeIndex)):\n",
      "/opt/anaconda3/lib/python3.9/site-packages/xgboost/data.py:250: FutureWarning: pandas.Int64Index is deprecated and will be removed from pandas in a future version. Use pandas.Index with the appropriate dtype instead.\n",
      "  elif isinstance(data.columns, (pd.Int64Index, pd.RangeIndex)):\n",
      "/opt/anaconda3/lib/python3.9/site-packages/xgboost/data.py:250: FutureWarning: pandas.Int64Index is deprecated and will be removed from pandas in a future version. Use pandas.Index with the appropriate dtype instead.\n",
      "  elif isinstance(data.columns, (pd.Int64Index, pd.RangeIndex)):\n",
      "/opt/anaconda3/lib/python3.9/site-packages/xgboost/data.py:250: FutureWarning: pandas.Int64Index is deprecated and will be removed from pandas in a future version. Use pandas.Index with the appropriate dtype instead.\n",
      "  elif isinstance(data.columns, (pd.Int64Index, pd.RangeIndex)):\n",
      "/opt/anaconda3/lib/python3.9/site-packages/xgboost/data.py:250: FutureWarning: pandas.Int64Index is deprecated and will be removed from pandas in a future version. Use pandas.Index with the appropriate dtype instead.\n",
      "  elif isinstance(data.columns, (pd.Int64Index, pd.RangeIndex)):\n",
      "/opt/anaconda3/lib/python3.9/site-packages/xgboost/data.py:250: FutureWarning: pandas.Int64Index is deprecated and will be removed from pandas in a future version. Use pandas.Index with the appropriate dtype instead.\n",
      "  elif isinstance(data.columns, (pd.Int64Index, pd.RangeIndex)):\n",
      "/opt/anaconda3/lib/python3.9/site-packages/xgboost/data.py:250: FutureWarning: pandas.Int64Index is deprecated and will be removed from pandas in a future version. Use pandas.Index with the appropriate dtype instead.\n",
      "  elif isinstance(data.columns, (pd.Int64Index, pd.RangeIndex)):\n",
      "/opt/anaconda3/lib/python3.9/site-packages/xgboost/data.py:250: FutureWarning: pandas.Int64Index is deprecated and will be removed from pandas in a future version. Use pandas.Index with the appropriate dtype instead.\n",
      "  elif isinstance(data.columns, (pd.Int64Index, pd.RangeIndex)):\n",
      "/opt/anaconda3/lib/python3.9/site-packages/xgboost/data.py:250: FutureWarning: pandas.Int64Index is deprecated and will be removed from pandas in a future version. Use pandas.Index with the appropriate dtype instead.\n",
      "  elif isinstance(data.columns, (pd.Int64Index, pd.RangeIndex)):\n",
      "/opt/anaconda3/lib/python3.9/site-packages/xgboost/data.py:250: FutureWarning: pandas.Int64Index is deprecated and will be removed from pandas in a future version. Use pandas.Index with the appropriate dtype instead.\n",
      "  elif isinstance(data.columns, (pd.Int64Index, pd.RangeIndex)):\n",
      "/opt/anaconda3/lib/python3.9/site-packages/xgboost/data.py:250: FutureWarning: pandas.Int64Index is deprecated and will be removed from pandas in a future version. Use pandas.Index with the appropriate dtype instead.\n",
      "  elif isinstance(data.columns, (pd.Int64Index, pd.RangeIndex)):\n"
     ]
    },
    {
     "name": "stderr",
     "output_type": "stream",
     "text": [
      "/opt/anaconda3/lib/python3.9/site-packages/xgboost/data.py:250: FutureWarning: pandas.Int64Index is deprecated and will be removed from pandas in a future version. Use pandas.Index with the appropriate dtype instead.\n",
      "  elif isinstance(data.columns, (pd.Int64Index, pd.RangeIndex)):\n",
      "/opt/anaconda3/lib/python3.9/site-packages/xgboost/data.py:250: FutureWarning: pandas.Int64Index is deprecated and will be removed from pandas in a future version. Use pandas.Index with the appropriate dtype instead.\n",
      "  elif isinstance(data.columns, (pd.Int64Index, pd.RangeIndex)):\n",
      "/opt/anaconda3/lib/python3.9/site-packages/xgboost/data.py:250: FutureWarning: pandas.Int64Index is deprecated and will be removed from pandas in a future version. Use pandas.Index with the appropriate dtype instead.\n",
      "  elif isinstance(data.columns, (pd.Int64Index, pd.RangeIndex)):\n",
      "/opt/anaconda3/lib/python3.9/site-packages/xgboost/data.py:250: FutureWarning: pandas.Int64Index is deprecated and will be removed from pandas in a future version. Use pandas.Index with the appropriate dtype instead.\n",
      "  elif isinstance(data.columns, (pd.Int64Index, pd.RangeIndex)):\n",
      "/opt/anaconda3/lib/python3.9/site-packages/xgboost/data.py:250: FutureWarning: pandas.Int64Index is deprecated and will be removed from pandas in a future version. Use pandas.Index with the appropriate dtype instead.\n",
      "  elif isinstance(data.columns, (pd.Int64Index, pd.RangeIndex)):\n",
      "/opt/anaconda3/lib/python3.9/site-packages/xgboost/data.py:250: FutureWarning: pandas.Int64Index is deprecated and will be removed from pandas in a future version. Use pandas.Index with the appropriate dtype instead.\n",
      "  elif isinstance(data.columns, (pd.Int64Index, pd.RangeIndex)):\n",
      "/opt/anaconda3/lib/python3.9/site-packages/xgboost/data.py:250: FutureWarning: pandas.Int64Index is deprecated and will be removed from pandas in a future version. Use pandas.Index with the appropriate dtype instead.\n",
      "  elif isinstance(data.columns, (pd.Int64Index, pd.RangeIndex)):\n",
      "/opt/anaconda3/lib/python3.9/site-packages/xgboost/data.py:250: FutureWarning: pandas.Int64Index is deprecated and will be removed from pandas in a future version. Use pandas.Index with the appropriate dtype instead.\n",
      "  elif isinstance(data.columns, (pd.Int64Index, pd.RangeIndex)):\n",
      "/opt/anaconda3/lib/python3.9/site-packages/xgboost/data.py:250: FutureWarning: pandas.Int64Index is deprecated and will be removed from pandas in a future version. Use pandas.Index with the appropriate dtype instead.\n",
      "  elif isinstance(data.columns, (pd.Int64Index, pd.RangeIndex)):\n",
      "/opt/anaconda3/lib/python3.9/site-packages/xgboost/data.py:250: FutureWarning: pandas.Int64Index is deprecated and will be removed from pandas in a future version. Use pandas.Index with the appropriate dtype instead.\n",
      "  elif isinstance(data.columns, (pd.Int64Index, pd.RangeIndex)):\n",
      "/opt/anaconda3/lib/python3.9/site-packages/xgboost/data.py:250: FutureWarning: pandas.Int64Index is deprecated and will be removed from pandas in a future version. Use pandas.Index with the appropriate dtype instead.\n",
      "  elif isinstance(data.columns, (pd.Int64Index, pd.RangeIndex)):\n",
      "/opt/anaconda3/lib/python3.9/site-packages/xgboost/data.py:250: FutureWarning: pandas.Int64Index is deprecated and will be removed from pandas in a future version. Use pandas.Index with the appropriate dtype instead.\n",
      "  elif isinstance(data.columns, (pd.Int64Index, pd.RangeIndex)):\n",
      "/opt/anaconda3/lib/python3.9/site-packages/xgboost/data.py:250: FutureWarning: pandas.Int64Index is deprecated and will be removed from pandas in a future version. Use pandas.Index with the appropriate dtype instead.\n",
      "  elif isinstance(data.columns, (pd.Int64Index, pd.RangeIndex)):\n",
      "/opt/anaconda3/lib/python3.9/site-packages/xgboost/data.py:250: FutureWarning: pandas.Int64Index is deprecated and will be removed from pandas in a future version. Use pandas.Index with the appropriate dtype instead.\n",
      "  elif isinstance(data.columns, (pd.Int64Index, pd.RangeIndex)):\n",
      "/opt/anaconda3/lib/python3.9/site-packages/xgboost/data.py:250: FutureWarning: pandas.Int64Index is deprecated and will be removed from pandas in a future version. Use pandas.Index with the appropriate dtype instead.\n",
      "  elif isinstance(data.columns, (pd.Int64Index, pd.RangeIndex)):\n",
      "/opt/anaconda3/lib/python3.9/site-packages/xgboost/data.py:250: FutureWarning: pandas.Int64Index is deprecated and will be removed from pandas in a future version. Use pandas.Index with the appropriate dtype instead.\n",
      "  elif isinstance(data.columns, (pd.Int64Index, pd.RangeIndex)):\n",
      "/opt/anaconda3/lib/python3.9/site-packages/xgboost/data.py:250: FutureWarning: pandas.Int64Index is deprecated and will be removed from pandas in a future version. Use pandas.Index with the appropriate dtype instead.\n",
      "  elif isinstance(data.columns, (pd.Int64Index, pd.RangeIndex)):\n",
      "/opt/anaconda3/lib/python3.9/site-packages/xgboost/data.py:250: FutureWarning: pandas.Int64Index is deprecated and will be removed from pandas in a future version. Use pandas.Index with the appropriate dtype instead.\n",
      "  elif isinstance(data.columns, (pd.Int64Index, pd.RangeIndex)):\n",
      "/opt/anaconda3/lib/python3.9/site-packages/xgboost/data.py:250: FutureWarning: pandas.Int64Index is deprecated and will be removed from pandas in a future version. Use pandas.Index with the appropriate dtype instead.\n",
      "  elif isinstance(data.columns, (pd.Int64Index, pd.RangeIndex)):\n",
      "/opt/anaconda3/lib/python3.9/site-packages/xgboost/data.py:250: FutureWarning: pandas.Int64Index is deprecated and will be removed from pandas in a future version. Use pandas.Index with the appropriate dtype instead.\n",
      "  elif isinstance(data.columns, (pd.Int64Index, pd.RangeIndex)):\n",
      "/opt/anaconda3/lib/python3.9/site-packages/xgboost/data.py:250: FutureWarning: pandas.Int64Index is deprecated and will be removed from pandas in a future version. Use pandas.Index with the appropriate dtype instead.\n",
      "  elif isinstance(data.columns, (pd.Int64Index, pd.RangeIndex)):\n",
      "/opt/anaconda3/lib/python3.9/site-packages/xgboost/data.py:250: FutureWarning: pandas.Int64Index is deprecated and will be removed from pandas in a future version. Use pandas.Index with the appropriate dtype instead.\n",
      "  elif isinstance(data.columns, (pd.Int64Index, pd.RangeIndex)):\n",
      "/opt/anaconda3/lib/python3.9/site-packages/xgboost/data.py:250: FutureWarning: pandas.Int64Index is deprecated and will be removed from pandas in a future version. Use pandas.Index with the appropriate dtype instead.\n",
      "  elif isinstance(data.columns, (pd.Int64Index, pd.RangeIndex)):\n",
      "/opt/anaconda3/lib/python3.9/site-packages/xgboost/data.py:250: FutureWarning: pandas.Int64Index is deprecated and will be removed from pandas in a future version. Use pandas.Index with the appropriate dtype instead.\n",
      "  elif isinstance(data.columns, (pd.Int64Index, pd.RangeIndex)):\n",
      "/opt/anaconda3/lib/python3.9/site-packages/xgboost/data.py:250: FutureWarning: pandas.Int64Index is deprecated and will be removed from pandas in a future version. Use pandas.Index with the appropriate dtype instead.\n",
      "  elif isinstance(data.columns, (pd.Int64Index, pd.RangeIndex)):\n",
      "/opt/anaconda3/lib/python3.9/site-packages/xgboost/data.py:250: FutureWarning: pandas.Int64Index is deprecated and will be removed from pandas in a future version. Use pandas.Index with the appropriate dtype instead.\n",
      "  elif isinstance(data.columns, (pd.Int64Index, pd.RangeIndex)):\n",
      "/opt/anaconda3/lib/python3.9/site-packages/xgboost/data.py:250: FutureWarning: pandas.Int64Index is deprecated and will be removed from pandas in a future version. Use pandas.Index with the appropriate dtype instead.\n",
      "  elif isinstance(data.columns, (pd.Int64Index, pd.RangeIndex)):\n",
      "/opt/anaconda3/lib/python3.9/site-packages/xgboost/data.py:250: FutureWarning: pandas.Int64Index is deprecated and will be removed from pandas in a future version. Use pandas.Index with the appropriate dtype instead.\n",
      "  elif isinstance(data.columns, (pd.Int64Index, pd.RangeIndex)):\n",
      "/opt/anaconda3/lib/python3.9/site-packages/xgboost/data.py:250: FutureWarning: pandas.Int64Index is deprecated and will be removed from pandas in a future version. Use pandas.Index with the appropriate dtype instead.\n",
      "  elif isinstance(data.columns, (pd.Int64Index, pd.RangeIndex)):\n",
      "/opt/anaconda3/lib/python3.9/site-packages/xgboost/data.py:250: FutureWarning: pandas.Int64Index is deprecated and will be removed from pandas in a future version. Use pandas.Index with the appropriate dtype instead.\n",
      "  elif isinstance(data.columns, (pd.Int64Index, pd.RangeIndex)):\n"
     ]
    },
    {
     "name": "stderr",
     "output_type": "stream",
     "text": [
      "/opt/anaconda3/lib/python3.9/site-packages/xgboost/data.py:250: FutureWarning: pandas.Int64Index is deprecated and will be removed from pandas in a future version. Use pandas.Index with the appropriate dtype instead.\n",
      "  elif isinstance(data.columns, (pd.Int64Index, pd.RangeIndex)):\n",
      "/opt/anaconda3/lib/python3.9/site-packages/xgboost/data.py:250: FutureWarning: pandas.Int64Index is deprecated and will be removed from pandas in a future version. Use pandas.Index with the appropriate dtype instead.\n",
      "  elif isinstance(data.columns, (pd.Int64Index, pd.RangeIndex)):\n",
      "/opt/anaconda3/lib/python3.9/site-packages/xgboost/data.py:250: FutureWarning: pandas.Int64Index is deprecated and will be removed from pandas in a future version. Use pandas.Index with the appropriate dtype instead.\n",
      "  elif isinstance(data.columns, (pd.Int64Index, pd.RangeIndex)):\n",
      "/opt/anaconda3/lib/python3.9/site-packages/xgboost/data.py:250: FutureWarning: pandas.Int64Index is deprecated and will be removed from pandas in a future version. Use pandas.Index with the appropriate dtype instead.\n",
      "  elif isinstance(data.columns, (pd.Int64Index, pd.RangeIndex)):\n",
      "/opt/anaconda3/lib/python3.9/site-packages/xgboost/data.py:250: FutureWarning: pandas.Int64Index is deprecated and will be removed from pandas in a future version. Use pandas.Index with the appropriate dtype instead.\n",
      "  elif isinstance(data.columns, (pd.Int64Index, pd.RangeIndex)):\n",
      "/opt/anaconda3/lib/python3.9/site-packages/xgboost/data.py:250: FutureWarning: pandas.Int64Index is deprecated and will be removed from pandas in a future version. Use pandas.Index with the appropriate dtype instead.\n",
      "  elif isinstance(data.columns, (pd.Int64Index, pd.RangeIndex)):\n",
      "/opt/anaconda3/lib/python3.9/site-packages/xgboost/data.py:250: FutureWarning: pandas.Int64Index is deprecated and will be removed from pandas in a future version. Use pandas.Index with the appropriate dtype instead.\n",
      "  elif isinstance(data.columns, (pd.Int64Index, pd.RangeIndex)):\n",
      "/opt/anaconda3/lib/python3.9/site-packages/xgboost/data.py:250: FutureWarning: pandas.Int64Index is deprecated and will be removed from pandas in a future version. Use pandas.Index with the appropriate dtype instead.\n",
      "  elif isinstance(data.columns, (pd.Int64Index, pd.RangeIndex)):\n",
      "/opt/anaconda3/lib/python3.9/site-packages/xgboost/data.py:250: FutureWarning: pandas.Int64Index is deprecated and will be removed from pandas in a future version. Use pandas.Index with the appropriate dtype instead.\n",
      "  elif isinstance(data.columns, (pd.Int64Index, pd.RangeIndex)):\n",
      "/opt/anaconda3/lib/python3.9/site-packages/xgboost/data.py:250: FutureWarning: pandas.Int64Index is deprecated and will be removed from pandas in a future version. Use pandas.Index with the appropriate dtype instead.\n",
      "  elif isinstance(data.columns, (pd.Int64Index, pd.RangeIndex)):\n",
      "/opt/anaconda3/lib/python3.9/site-packages/xgboost/data.py:250: FutureWarning: pandas.Int64Index is deprecated and will be removed from pandas in a future version. Use pandas.Index with the appropriate dtype instead.\n",
      "  elif isinstance(data.columns, (pd.Int64Index, pd.RangeIndex)):\n",
      "/opt/anaconda3/lib/python3.9/site-packages/xgboost/data.py:250: FutureWarning: pandas.Int64Index is deprecated and will be removed from pandas in a future version. Use pandas.Index with the appropriate dtype instead.\n",
      "  elif isinstance(data.columns, (pd.Int64Index, pd.RangeIndex)):\n",
      "/opt/anaconda3/lib/python3.9/site-packages/xgboost/data.py:250: FutureWarning: pandas.Int64Index is deprecated and will be removed from pandas in a future version. Use pandas.Index with the appropriate dtype instead.\n",
      "  elif isinstance(data.columns, (pd.Int64Index, pd.RangeIndex)):\n",
      "/opt/anaconda3/lib/python3.9/site-packages/xgboost/data.py:250: FutureWarning: pandas.Int64Index is deprecated and will be removed from pandas in a future version. Use pandas.Index with the appropriate dtype instead.\n",
      "  elif isinstance(data.columns, (pd.Int64Index, pd.RangeIndex)):\n",
      "/opt/anaconda3/lib/python3.9/site-packages/xgboost/data.py:250: FutureWarning: pandas.Int64Index is deprecated and will be removed from pandas in a future version. Use pandas.Index with the appropriate dtype instead.\n",
      "  elif isinstance(data.columns, (pd.Int64Index, pd.RangeIndex)):\n",
      "/opt/anaconda3/lib/python3.9/site-packages/xgboost/data.py:250: FutureWarning: pandas.Int64Index is deprecated and will be removed from pandas in a future version. Use pandas.Index with the appropriate dtype instead.\n",
      "  elif isinstance(data.columns, (pd.Int64Index, pd.RangeIndex)):\n",
      "/opt/anaconda3/lib/python3.9/site-packages/xgboost/data.py:250: FutureWarning: pandas.Int64Index is deprecated and will be removed from pandas in a future version. Use pandas.Index with the appropriate dtype instead.\n",
      "  elif isinstance(data.columns, (pd.Int64Index, pd.RangeIndex)):\n",
      "/opt/anaconda3/lib/python3.9/site-packages/xgboost/data.py:250: FutureWarning: pandas.Int64Index is deprecated and will be removed from pandas in a future version. Use pandas.Index with the appropriate dtype instead.\n",
      "  elif isinstance(data.columns, (pd.Int64Index, pd.RangeIndex)):\n",
      "/opt/anaconda3/lib/python3.9/site-packages/xgboost/data.py:250: FutureWarning: pandas.Int64Index is deprecated and will be removed from pandas in a future version. Use pandas.Index with the appropriate dtype instead.\n",
      "  elif isinstance(data.columns, (pd.Int64Index, pd.RangeIndex)):\n",
      "/opt/anaconda3/lib/python3.9/site-packages/xgboost/data.py:250: FutureWarning: pandas.Int64Index is deprecated and will be removed from pandas in a future version. Use pandas.Index with the appropriate dtype instead.\n",
      "  elif isinstance(data.columns, (pd.Int64Index, pd.RangeIndex)):\n",
      "/opt/anaconda3/lib/python3.9/site-packages/xgboost/data.py:250: FutureWarning: pandas.Int64Index is deprecated and will be removed from pandas in a future version. Use pandas.Index with the appropriate dtype instead.\n",
      "  elif isinstance(data.columns, (pd.Int64Index, pd.RangeIndex)):\n",
      "/opt/anaconda3/lib/python3.9/site-packages/xgboost/data.py:250: FutureWarning: pandas.Int64Index is deprecated and will be removed from pandas in a future version. Use pandas.Index with the appropriate dtype instead.\n",
      "  elif isinstance(data.columns, (pd.Int64Index, pd.RangeIndex)):\n",
      "/opt/anaconda3/lib/python3.9/site-packages/xgboost/data.py:250: FutureWarning: pandas.Int64Index is deprecated and will be removed from pandas in a future version. Use pandas.Index with the appropriate dtype instead.\n",
      "  elif isinstance(data.columns, (pd.Int64Index, pd.RangeIndex)):\n",
      "/opt/anaconda3/lib/python3.9/site-packages/xgboost/data.py:250: FutureWarning: pandas.Int64Index is deprecated and will be removed from pandas in a future version. Use pandas.Index with the appropriate dtype instead.\n",
      "  elif isinstance(data.columns, (pd.Int64Index, pd.RangeIndex)):\n",
      "/opt/anaconda3/lib/python3.9/site-packages/xgboost/data.py:250: FutureWarning: pandas.Int64Index is deprecated and will be removed from pandas in a future version. Use pandas.Index with the appropriate dtype instead.\n",
      "  elif isinstance(data.columns, (pd.Int64Index, pd.RangeIndex)):\n",
      "/opt/anaconda3/lib/python3.9/site-packages/xgboost/data.py:250: FutureWarning: pandas.Int64Index is deprecated and will be removed from pandas in a future version. Use pandas.Index with the appropriate dtype instead.\n",
      "  elif isinstance(data.columns, (pd.Int64Index, pd.RangeIndex)):\n",
      "/opt/anaconda3/lib/python3.9/site-packages/xgboost/data.py:250: FutureWarning: pandas.Int64Index is deprecated and will be removed from pandas in a future version. Use pandas.Index with the appropriate dtype instead.\n",
      "  elif isinstance(data.columns, (pd.Int64Index, pd.RangeIndex)):\n",
      "/opt/anaconda3/lib/python3.9/site-packages/xgboost/data.py:250: FutureWarning: pandas.Int64Index is deprecated and will be removed from pandas in a future version. Use pandas.Index with the appropriate dtype instead.\n",
      "  elif isinstance(data.columns, (pd.Int64Index, pd.RangeIndex)):\n",
      "/opt/anaconda3/lib/python3.9/site-packages/xgboost/data.py:250: FutureWarning: pandas.Int64Index is deprecated and will be removed from pandas in a future version. Use pandas.Index with the appropriate dtype instead.\n",
      "  elif isinstance(data.columns, (pd.Int64Index, pd.RangeIndex)):\n",
      "/opt/anaconda3/lib/python3.9/site-packages/xgboost/data.py:250: FutureWarning: pandas.Int64Index is deprecated and will be removed from pandas in a future version. Use pandas.Index with the appropriate dtype instead.\n",
      "  elif isinstance(data.columns, (pd.Int64Index, pd.RangeIndex)):\n"
     ]
    },
    {
     "name": "stderr",
     "output_type": "stream",
     "text": [
      "/opt/anaconda3/lib/python3.9/site-packages/xgboost/data.py:250: FutureWarning: pandas.Int64Index is deprecated and will be removed from pandas in a future version. Use pandas.Index with the appropriate dtype instead.\n",
      "  elif isinstance(data.columns, (pd.Int64Index, pd.RangeIndex)):\n",
      "/opt/anaconda3/lib/python3.9/site-packages/xgboost/data.py:250: FutureWarning: pandas.Int64Index is deprecated and will be removed from pandas in a future version. Use pandas.Index with the appropriate dtype instead.\n",
      "  elif isinstance(data.columns, (pd.Int64Index, pd.RangeIndex)):\n",
      "/opt/anaconda3/lib/python3.9/site-packages/xgboost/data.py:250: FutureWarning: pandas.Int64Index is deprecated and will be removed from pandas in a future version. Use pandas.Index with the appropriate dtype instead.\n",
      "  elif isinstance(data.columns, (pd.Int64Index, pd.RangeIndex)):\n",
      "/opt/anaconda3/lib/python3.9/site-packages/xgboost/data.py:250: FutureWarning: pandas.Int64Index is deprecated and will be removed from pandas in a future version. Use pandas.Index with the appropriate dtype instead.\n",
      "  elif isinstance(data.columns, (pd.Int64Index, pd.RangeIndex)):\n",
      "/opt/anaconda3/lib/python3.9/site-packages/xgboost/data.py:250: FutureWarning: pandas.Int64Index is deprecated and will be removed from pandas in a future version. Use pandas.Index with the appropriate dtype instead.\n",
      "  elif isinstance(data.columns, (pd.Int64Index, pd.RangeIndex)):\n",
      "/opt/anaconda3/lib/python3.9/site-packages/xgboost/data.py:250: FutureWarning: pandas.Int64Index is deprecated and will be removed from pandas in a future version. Use pandas.Index with the appropriate dtype instead.\n",
      "  elif isinstance(data.columns, (pd.Int64Index, pd.RangeIndex)):\n",
      "/opt/anaconda3/lib/python3.9/site-packages/xgboost/data.py:250: FutureWarning: pandas.Int64Index is deprecated and will be removed from pandas in a future version. Use pandas.Index with the appropriate dtype instead.\n",
      "  elif isinstance(data.columns, (pd.Int64Index, pd.RangeIndex)):\n",
      "/opt/anaconda3/lib/python3.9/site-packages/xgboost/data.py:250: FutureWarning: pandas.Int64Index is deprecated and will be removed from pandas in a future version. Use pandas.Index with the appropriate dtype instead.\n",
      "  elif isinstance(data.columns, (pd.Int64Index, pd.RangeIndex)):\n",
      "/opt/anaconda3/lib/python3.9/site-packages/xgboost/data.py:250: FutureWarning: pandas.Int64Index is deprecated and will be removed from pandas in a future version. Use pandas.Index with the appropriate dtype instead.\n",
      "  elif isinstance(data.columns, (pd.Int64Index, pd.RangeIndex)):\n",
      "/opt/anaconda3/lib/python3.9/site-packages/xgboost/data.py:250: FutureWarning: pandas.Int64Index is deprecated and will be removed from pandas in a future version. Use pandas.Index with the appropriate dtype instead.\n",
      "  elif isinstance(data.columns, (pd.Int64Index, pd.RangeIndex)):\n",
      "/opt/anaconda3/lib/python3.9/site-packages/xgboost/data.py:250: FutureWarning: pandas.Int64Index is deprecated and will be removed from pandas in a future version. Use pandas.Index with the appropriate dtype instead.\n",
      "  elif isinstance(data.columns, (pd.Int64Index, pd.RangeIndex)):\n",
      "/opt/anaconda3/lib/python3.9/site-packages/xgboost/data.py:250: FutureWarning: pandas.Int64Index is deprecated and will be removed from pandas in a future version. Use pandas.Index with the appropriate dtype instead.\n",
      "  elif isinstance(data.columns, (pd.Int64Index, pd.RangeIndex)):\n",
      "/opt/anaconda3/lib/python3.9/site-packages/xgboost/data.py:250: FutureWarning: pandas.Int64Index is deprecated and will be removed from pandas in a future version. Use pandas.Index with the appropriate dtype instead.\n",
      "  elif isinstance(data.columns, (pd.Int64Index, pd.RangeIndex)):\n",
      "/opt/anaconda3/lib/python3.9/site-packages/xgboost/data.py:250: FutureWarning: pandas.Int64Index is deprecated and will be removed from pandas in a future version. Use pandas.Index with the appropriate dtype instead.\n",
      "  elif isinstance(data.columns, (pd.Int64Index, pd.RangeIndex)):\n",
      "/opt/anaconda3/lib/python3.9/site-packages/xgboost/data.py:250: FutureWarning: pandas.Int64Index is deprecated and will be removed from pandas in a future version. Use pandas.Index with the appropriate dtype instead.\n",
      "  elif isinstance(data.columns, (pd.Int64Index, pd.RangeIndex)):\n",
      "/opt/anaconda3/lib/python3.9/site-packages/xgboost/data.py:250: FutureWarning: pandas.Int64Index is deprecated and will be removed from pandas in a future version. Use pandas.Index with the appropriate dtype instead.\n",
      "  elif isinstance(data.columns, (pd.Int64Index, pd.RangeIndex)):\n",
      "/opt/anaconda3/lib/python3.9/site-packages/xgboost/data.py:250: FutureWarning: pandas.Int64Index is deprecated and will be removed from pandas in a future version. Use pandas.Index with the appropriate dtype instead.\n",
      "  elif isinstance(data.columns, (pd.Int64Index, pd.RangeIndex)):\n",
      "/opt/anaconda3/lib/python3.9/site-packages/xgboost/data.py:250: FutureWarning: pandas.Int64Index is deprecated and will be removed from pandas in a future version. Use pandas.Index with the appropriate dtype instead.\n",
      "  elif isinstance(data.columns, (pd.Int64Index, pd.RangeIndex)):\n",
      "/opt/anaconda3/lib/python3.9/site-packages/xgboost/data.py:250: FutureWarning: pandas.Int64Index is deprecated and will be removed from pandas in a future version. Use pandas.Index with the appropriate dtype instead.\n",
      "  elif isinstance(data.columns, (pd.Int64Index, pd.RangeIndex)):\n",
      "/opt/anaconda3/lib/python3.9/site-packages/xgboost/data.py:250: FutureWarning: pandas.Int64Index is deprecated and will be removed from pandas in a future version. Use pandas.Index with the appropriate dtype instead.\n",
      "  elif isinstance(data.columns, (pd.Int64Index, pd.RangeIndex)):\n",
      "/opt/anaconda3/lib/python3.9/site-packages/xgboost/data.py:250: FutureWarning: pandas.Int64Index is deprecated and will be removed from pandas in a future version. Use pandas.Index with the appropriate dtype instead.\n",
      "  elif isinstance(data.columns, (pd.Int64Index, pd.RangeIndex)):\n",
      "/opt/anaconda3/lib/python3.9/site-packages/xgboost/data.py:250: FutureWarning: pandas.Int64Index is deprecated and will be removed from pandas in a future version. Use pandas.Index with the appropriate dtype instead.\n",
      "  elif isinstance(data.columns, (pd.Int64Index, pd.RangeIndex)):\n",
      "/opt/anaconda3/lib/python3.9/site-packages/xgboost/data.py:250: FutureWarning: pandas.Int64Index is deprecated and will be removed from pandas in a future version. Use pandas.Index with the appropriate dtype instead.\n",
      "  elif isinstance(data.columns, (pd.Int64Index, pd.RangeIndex)):\n",
      "/opt/anaconda3/lib/python3.9/site-packages/xgboost/data.py:250: FutureWarning: pandas.Int64Index is deprecated and will be removed from pandas in a future version. Use pandas.Index with the appropriate dtype instead.\n",
      "  elif isinstance(data.columns, (pd.Int64Index, pd.RangeIndex)):\n",
      "/opt/anaconda3/lib/python3.9/site-packages/xgboost/data.py:250: FutureWarning: pandas.Int64Index is deprecated and will be removed from pandas in a future version. Use pandas.Index with the appropriate dtype instead.\n",
      "  elif isinstance(data.columns, (pd.Int64Index, pd.RangeIndex)):\n",
      "/opt/anaconda3/lib/python3.9/site-packages/xgboost/data.py:250: FutureWarning: pandas.Int64Index is deprecated and will be removed from pandas in a future version. Use pandas.Index with the appropriate dtype instead.\n",
      "  elif isinstance(data.columns, (pd.Int64Index, pd.RangeIndex)):\n",
      "/opt/anaconda3/lib/python3.9/site-packages/xgboost/data.py:250: FutureWarning: pandas.Int64Index is deprecated and will be removed from pandas in a future version. Use pandas.Index with the appropriate dtype instead.\n",
      "  elif isinstance(data.columns, (pd.Int64Index, pd.RangeIndex)):\n",
      "/opt/anaconda3/lib/python3.9/site-packages/xgboost/data.py:250: FutureWarning: pandas.Int64Index is deprecated and will be removed from pandas in a future version. Use pandas.Index with the appropriate dtype instead.\n",
      "  elif isinstance(data.columns, (pd.Int64Index, pd.RangeIndex)):\n",
      "/opt/anaconda3/lib/python3.9/site-packages/xgboost/data.py:250: FutureWarning: pandas.Int64Index is deprecated and will be removed from pandas in a future version. Use pandas.Index with the appropriate dtype instead.\n",
      "  elif isinstance(data.columns, (pd.Int64Index, pd.RangeIndex)):\n",
      "/opt/anaconda3/lib/python3.9/site-packages/xgboost/data.py:250: FutureWarning: pandas.Int64Index is deprecated and will be removed from pandas in a future version. Use pandas.Index with the appropriate dtype instead.\n",
      "  elif isinstance(data.columns, (pd.Int64Index, pd.RangeIndex)):\n"
     ]
    },
    {
     "name": "stderr",
     "output_type": "stream",
     "text": [
      "/opt/anaconda3/lib/python3.9/site-packages/xgboost/data.py:250: FutureWarning: pandas.Int64Index is deprecated and will be removed from pandas in a future version. Use pandas.Index with the appropriate dtype instead.\n",
      "  elif isinstance(data.columns, (pd.Int64Index, pd.RangeIndex)):\n",
      "/opt/anaconda3/lib/python3.9/site-packages/xgboost/data.py:250: FutureWarning: pandas.Int64Index is deprecated and will be removed from pandas in a future version. Use pandas.Index with the appropriate dtype instead.\n",
      "  elif isinstance(data.columns, (pd.Int64Index, pd.RangeIndex)):\n",
      "/opt/anaconda3/lib/python3.9/site-packages/xgboost/data.py:250: FutureWarning: pandas.Int64Index is deprecated and will be removed from pandas in a future version. Use pandas.Index with the appropriate dtype instead.\n",
      "  elif isinstance(data.columns, (pd.Int64Index, pd.RangeIndex)):\n",
      "/opt/anaconda3/lib/python3.9/site-packages/xgboost/data.py:250: FutureWarning: pandas.Int64Index is deprecated and will be removed from pandas in a future version. Use pandas.Index with the appropriate dtype instead.\n",
      "  elif isinstance(data.columns, (pd.Int64Index, pd.RangeIndex)):\n",
      "/opt/anaconda3/lib/python3.9/site-packages/xgboost/data.py:250: FutureWarning: pandas.Int64Index is deprecated and will be removed from pandas in a future version. Use pandas.Index with the appropriate dtype instead.\n",
      "  elif isinstance(data.columns, (pd.Int64Index, pd.RangeIndex)):\n",
      "/opt/anaconda3/lib/python3.9/site-packages/xgboost/data.py:250: FutureWarning: pandas.Int64Index is deprecated and will be removed from pandas in a future version. Use pandas.Index with the appropriate dtype instead.\n",
      "  elif isinstance(data.columns, (pd.Int64Index, pd.RangeIndex)):\n",
      "/opt/anaconda3/lib/python3.9/site-packages/xgboost/data.py:250: FutureWarning: pandas.Int64Index is deprecated and will be removed from pandas in a future version. Use pandas.Index with the appropriate dtype instead.\n",
      "  elif isinstance(data.columns, (pd.Int64Index, pd.RangeIndex)):\n",
      "/opt/anaconda3/lib/python3.9/site-packages/xgboost/data.py:250: FutureWarning: pandas.Int64Index is deprecated and will be removed from pandas in a future version. Use pandas.Index with the appropriate dtype instead.\n",
      "  elif isinstance(data.columns, (pd.Int64Index, pd.RangeIndex)):\n",
      "/opt/anaconda3/lib/python3.9/site-packages/xgboost/data.py:250: FutureWarning: pandas.Int64Index is deprecated and will be removed from pandas in a future version. Use pandas.Index with the appropriate dtype instead.\n",
      "  elif isinstance(data.columns, (pd.Int64Index, pd.RangeIndex)):\n",
      "/opt/anaconda3/lib/python3.9/site-packages/xgboost/data.py:250: FutureWarning: pandas.Int64Index is deprecated and will be removed from pandas in a future version. Use pandas.Index with the appropriate dtype instead.\n",
      "  elif isinstance(data.columns, (pd.Int64Index, pd.RangeIndex)):\n",
      "/opt/anaconda3/lib/python3.9/site-packages/xgboost/data.py:250: FutureWarning: pandas.Int64Index is deprecated and will be removed from pandas in a future version. Use pandas.Index with the appropriate dtype instead.\n",
      "  elif isinstance(data.columns, (pd.Int64Index, pd.RangeIndex)):\n",
      "/opt/anaconda3/lib/python3.9/site-packages/xgboost/data.py:250: FutureWarning: pandas.Int64Index is deprecated and will be removed from pandas in a future version. Use pandas.Index with the appropriate dtype instead.\n",
      "  elif isinstance(data.columns, (pd.Int64Index, pd.RangeIndex)):\n",
      "/opt/anaconda3/lib/python3.9/site-packages/xgboost/data.py:250: FutureWarning: pandas.Int64Index is deprecated and will be removed from pandas in a future version. Use pandas.Index with the appropriate dtype instead.\n",
      "  elif isinstance(data.columns, (pd.Int64Index, pd.RangeIndex)):\n",
      "/opt/anaconda3/lib/python3.9/site-packages/xgboost/data.py:250: FutureWarning: pandas.Int64Index is deprecated and will be removed from pandas in a future version. Use pandas.Index with the appropriate dtype instead.\n",
      "  elif isinstance(data.columns, (pd.Int64Index, pd.RangeIndex)):\n",
      "/opt/anaconda3/lib/python3.9/site-packages/xgboost/data.py:250: FutureWarning: pandas.Int64Index is deprecated and will be removed from pandas in a future version. Use pandas.Index with the appropriate dtype instead.\n",
      "  elif isinstance(data.columns, (pd.Int64Index, pd.RangeIndex)):\n",
      "/opt/anaconda3/lib/python3.9/site-packages/xgboost/data.py:250: FutureWarning: pandas.Int64Index is deprecated and will be removed from pandas in a future version. Use pandas.Index with the appropriate dtype instead.\n",
      "  elif isinstance(data.columns, (pd.Int64Index, pd.RangeIndex)):\n",
      "ERROR:tornado.application:Uncaught exception GET /ws (::1)\n",
      "HTTPServerRequest(protocol='http', host='localhost:59767', method='GET', uri='/ws', version='HTTP/1.1', remote_ip='::1')\n",
      "Traceback (most recent call last):\n",
      "  File \"/opt/anaconda3/lib/python3.9/site-packages/tornado/websocket.py\", line 954, in _accept_connection\n",
      "    open_result = handler.open(*handler.open_args, **handler.open_kwargs)\n",
      "  File \"/opt/anaconda3/lib/python3.9/site-packages/tornado/web.py\", line 3173, in wrapper\n",
      "    return method(self, *args, **kwargs)\n",
      "  File \"/opt/anaconda3/lib/python3.9/site-packages/bokeh/server/views/ws.py\", line 149, in open\n",
      "    raise ProtocolError(\"Token is expired.\")\n",
      "bokeh.protocol.exceptions.ProtocolError: Token is expired.\n",
      "ERROR:tornado.application:Uncaught exception GET /ws (::1)\n",
      "HTTPServerRequest(protocol='http', host='localhost:59767', method='GET', uri='/ws', version='HTTP/1.1', remote_ip='::1')\n",
      "Traceback (most recent call last):\n",
      "  File \"/opt/anaconda3/lib/python3.9/site-packages/tornado/websocket.py\", line 954, in _accept_connection\n",
      "    open_result = handler.open(*handler.open_args, **handler.open_kwargs)\n",
      "  File \"/opt/anaconda3/lib/python3.9/site-packages/tornado/web.py\", line 3173, in wrapper\n",
      "    return method(self, *args, **kwargs)\n",
      "  File \"/opt/anaconda3/lib/python3.9/site-packages/bokeh/server/views/ws.py\", line 149, in open\n",
      "    raise ProtocolError(\"Token is expired.\")\n",
      "bokeh.protocol.exceptions.ProtocolError: Token is expired.\n",
      "ERROR:tornado.application:Uncaught exception GET /ws (::1)\n",
      "HTTPServerRequest(protocol='http', host='localhost:59769', method='GET', uri='/ws', version='HTTP/1.1', remote_ip='::1')\n",
      "Traceback (most recent call last):\n",
      "  File \"/opt/anaconda3/lib/python3.9/site-packages/tornado/websocket.py\", line 954, in _accept_connection\n",
      "    open_result = handler.open(*handler.open_args, **handler.open_kwargs)\n",
      "  File \"/opt/anaconda3/lib/python3.9/site-packages/tornado/web.py\", line 3173, in wrapper\n",
      "    return method(self, *args, **kwargs)\n",
      "  File \"/opt/anaconda3/lib/python3.9/site-packages/bokeh/server/views/ws.py\", line 149, in open\n",
      "    raise ProtocolError(\"Token is expired.\")\n",
      "bokeh.protocol.exceptions.ProtocolError: Token is expired.\n",
      "ERROR:tornado.application:Uncaught exception GET /ws (::1)\n",
      "HTTPServerRequest(protocol='http', host='localhost:59769', method='GET', uri='/ws', version='HTTP/1.1', remote_ip='::1')\n",
      "Traceback (most recent call last):\n",
      "  File \"/opt/anaconda3/lib/python3.9/site-packages/tornado/websocket.py\", line 954, in _accept_connection\n",
      "    open_result = handler.open(*handler.open_args, **handler.open_kwargs)\n",
      "  File \"/opt/anaconda3/lib/python3.9/site-packages/tornado/web.py\", line 3173, in wrapper\n",
      "    return method(self, *args, **kwargs)\n",
      "  File \"/opt/anaconda3/lib/python3.9/site-packages/bokeh/server/views/ws.py\", line 149, in open\n",
      "    raise ProtocolError(\"Token is expired.\")\n",
      "bokeh.protocol.exceptions.ProtocolError: Token is expired.\n"
     ]
    }
   ],
   "source": [
    "params = {'max_depth': [3,4, 5], 'learning_rate': [.1, .3, .5],\n",
    "          'gamma': [0,5,10], 'colsample_bynode': [.5, .75, 1], 'n_estimators': [50,100, 150] }\n",
    "cv = GridSearchCV(estimator = XGBRegressor(objective='reg:squarederror'), scoring='neg_mean_absolute_error',\n",
    "                  param_grid = params, cv = 5)\n",
    "cv.fit(X_who_train, y_who_train);"
   ]
  },
  {
   "cell_type": "code",
   "execution_count": 28,
   "metadata": {
    "cell_style": "center",
    "slideshow": {
     "slide_type": "slide"
    }
   },
   "outputs": [
    {
     "data": {
      "text/plain": [
<<<<<<< HEAD
       "-1.6443834608362686"
=======
       "-1.6829698581304249"
>>>>>>> upstream/main
      ]
     },
     "execution_count": 28,
     "metadata": {},
     "output_type": "execute_result"
    }
   ],
   "source": [
    "cv.best_score_"
   ]
  },
  {
   "cell_type": "code",
   "execution_count": 29,
   "metadata": {
    "cell_style": "center",
    "slideshow": {
     "slide_type": "fragment"
    }
   },
   "outputs": [
    {
     "data": {
      "text/plain": [
       "XGBRegressor(base_score=0.5, booster='gbtree', colsample_bylevel=1,\n",
       "             colsample_bynode=0.5, colsample_bytree=1, enable_categorical=False,\n",
       "             gamma=0, gpu_id=-1, importance_type=None,\n",
       "             interaction_constraints='', learning_rate=0.3, max_delta_step=0,\n",
       "             max_depth=5, min_child_weight=1, missing=nan,\n",
       "             monotone_constraints='()', n_estimators=150, n_jobs=10,\n",
       "             num_parallel_tree=1, predictor='auto', random_state=0, reg_alpha=0,\n",
       "             reg_lambda=1, scale_pos_weight=1, subsample=1, tree_method='exact',\n",
       "             validate_parameters=1, verbosity=None)"
      ]
     },
     "execution_count": 29,
     "metadata": {},
     "output_type": "execute_result"
    }
   ],
   "source": [
    "best_regressor = cv.best_estimator_\n",
    "best_regressor"
   ]
  },
  {
   "cell_type": "code",
   "execution_count": 30,
   "metadata": {
    "cell_style": "split",
    "slideshow": {
     "slide_type": "slide"
    }
   },
   "outputs": [],
   "source": [
    "best_regressor.fit(X_who_train, y_who_train)\n",
    "y_pred_train = best_regressor.predict(\n",
    "    X_who_train)\n",
    "y_pred_test = best_regressor.predict(X_who_test)"
   ]
  },
  {
   "cell_type": "code",
   "execution_count": 31,
   "metadata": {
    "cell_style": "split",
    "slideshow": {
     "slide_type": "slide"
    }
   },
   "outputs": [],
   "source": [
    "from sklearn.metrics import mean_absolute_error\n",
    "from sklearn.metrics import mean_squared_error\n",
    "from sklearn.metrics import r2_score\n"
   ]
  },
  {
   "cell_type": "code",
   "execution_count": 32,
   "metadata": {
    "cell_style": "split",
    "slideshow": {
     "slide_type": "slide"
    }
   },
   "outputs": [
    {
     "name": "stdout",
     "output_type": "stream",
     "text": [
<<<<<<< HEAD
      "1.6922543859000159\n"
=======
      "1.711768367266414\n"
>>>>>>> upstream/main
     ]
    }
   ],
   "source": [
    "MAE = mean_absolute_error(y_who_test, \n",
    "                          y_pred_test)\n",
    "print(MAE)"
   ]
  },
  {
   "cell_type": "code",
   "execution_count": 33,
   "metadata": {
    "cell_style": "split",
    "slideshow": {
     "slide_type": "fragment"
    }
   },
   "outputs": [
    {
     "name": "stdout",
     "output_type": "stream",
     "text": [
<<<<<<< HEAD
      "2.436910978447856\n"
=======
      "2.3691056645296333\n"
>>>>>>> upstream/main
     ]
    }
   ],
   "source": [
    "RMSE = np.sqrt(mean_squared_error(y_who_test,\n",
    "                                  y_pred_test))\n",
    "print(RMSE)"
   ]
  },
  {
   "cell_type": "markdown",
   "metadata": {
    "slideshow": {
     "slide_type": "slide"
    }
   },
   "source": [
    "Train and test: $R^2$ score"
   ]
  },
  {
   "cell_type": "code",
   "execution_count": 34,
   "metadata": {
    "cell_style": "split",
    "slideshow": {
     "slide_type": "fragment"
    }
   },
   "outputs": [
    {
     "data": {
      "text/plain": [
<<<<<<< HEAD
       "0.9996032433319422"
=======
       "0.9896355610015164"
>>>>>>> upstream/main
      ]
     },
     "execution_count": 34,
     "metadata": {},
     "output_type": "execute_result"
    }
   ],
   "source": [
    "r2_score(y_who_train, y_pred_train)"
   ]
  },
  {
   "cell_type": "code",
   "execution_count": 35,
   "metadata": {
    "cell_style": "split",
    "slideshow": {
     "slide_type": "fragment"
    }
   },
   "outputs": [
    {
     "data": {
      "text/plain": [
<<<<<<< HEAD
       "0.9287152853644662"
=======
       "0.9249631924646295"
>>>>>>> upstream/main
      ]
     },
     "execution_count": 35,
     "metadata": {},
     "output_type": "execute_result"
    }
   ],
   "source": [
    "r2_score(y_who_test, y_pred_test)"
   ]
  },
  {
   "cell_type": "markdown",
   "metadata": {
    "slideshow": {
     "slide_type": "slide"
    }
   },
   "source": [
    "Comparing this to our simple multiple linear regression:\n",
    "- $R^2 = 0.76$ \n",
    "- MAE of ~3.5.\n",
    "- Had to carefully remove correlated features.\n",
    "- Standardize for feature weight importance or regularization.\n"
   ]
  },
  {
   "cell_type": "code",
   "execution_count": 36,
   "metadata": {
    "cell_style": "center",
    "scrolled": true,
    "slideshow": {
     "slide_type": "slide"
    }
   },
   "outputs": [
    {
     "data": {
<<<<<<< HEAD
      "image/png": "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\n",
=======
      "image/png": "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\n",
>>>>>>> upstream/main
      "text/plain": [
       "<Figure size 432x288 with 1 Axes>"
      ]
     },
     "metadata": {
      "needs_background": "light"
     },
     "output_type": "display_data"
    }
   ],
   "source": [
    "feat_imp = pd.Series(best_regressor.feature_importances_,\n",
    "             index = X_who.columns).sort_values(ascending = False)\n",
    "fig, ax = plt.subplots()\n",
    "feat_imp.plot(kind = 'barh', ax = ax)\n",
    "ax.set_xlabel('Feature Importance')\n",
    "ax.set_title('XGB Regressor: Feature Importances')\n",
    "plt.show()"
   ]
  },
  {
   "cell_type": "markdown",
   "metadata": {
    "cell_style": "center",
    "slideshow": {
     "slide_type": "slide"
    }
   },
   "source": [
    "Exact same with classification:\n",
    "- XGBClassifier() - classification (choose the obbjective function, scoring method)\n",
    "- basically same hyperparameters\n",
    "- just different objective function\n"
   ]
  },
  {
   "cell_type": "markdown",
   "metadata": {
    "cell_style": "center",
    "slideshow": {
     "slide_type": "slide"
    }
   },
   "source": [
    "#### Gradient boosting\n",
    "\n",
    "- Needs tuning\n",
    "- But extremely fast and effective (as has been seen)\n",
    "- Along with random forest: workhorse of classification/regression in many professional workflows."
   ]
  }
 ],
 "metadata": {
  "celltoolbar": "Slideshow",
  "kernelspec": {
   "display_name": "Python (myenv)",
   "language": "python",
   "name": "myenv"
  },
  "language_info": {
   "codemirror_mode": {
    "name": "ipython",
    "version": 3
   },
   "file_extension": ".py",
   "mimetype": "text/x-python",
   "name": "python",
   "nbconvert_exporter": "python",
   "pygments_lexer": "ipython3",
   "version": "3.9.12"
  }
 },
 "nbformat": 4,
 "nbformat_minor": 2
}
