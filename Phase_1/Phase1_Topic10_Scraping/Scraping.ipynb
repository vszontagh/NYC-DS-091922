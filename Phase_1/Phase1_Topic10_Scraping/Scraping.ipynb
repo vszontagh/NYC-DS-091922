{
 "cells": [
  {
   "cell_type": "markdown",
   "id": "5bcceb3c",
   "metadata": {
    "slideshow": {
     "slide_type": "slide"
    }
   },
   "source": [
    "<div style=\"color:white;\n",
    "           display:fill;\n",
    "           border-radius:5px;\n",
    "           background-color:#5642C5;\n",
    "           font-size:200%;\n",
    "           font-\\amily:Arial;letter-spacing:0.5px\">\n",
    "\n",
    "<p width = 20%, style=\"padding: 10px;\n",
    "              color:white;\">\n",
    "Web Scraping\n",
    "              \n",
    "</p>\n",
    "</div>\n",
    "\n",
    "Data Science Cohort Live NYC Sept 2022\n",
    "<p>Phase 1: Topic 10</p>\n",
    "<br>\n",
    "<br>\n",
    "\n",
    "<div align = \"right\">\n",
    "<img src=\"Images/flatiron-school-logo.png\" align = \"right\" width=\"200\"/>\n",
    "</div>\n",
    "    \n",
    "   "
   ]
  },
  {
   "cell_type": "markdown",
   "id": "3b843ca9",
   "metadata": {
    "slideshow": {
     "slide_type": "slide"
    }
   },
   "source": [
    "Previously:\n",
    "    \n",
    "- Accessed data via API\n",
    "\n",
    "Sometimes no programmatic access to data!\n",
    "- No API exists\n",
    "- No SQL server to interact with.\n",
    "- No csv files to download."
   ]
  },
  {
   "cell_type": "markdown",
   "id": "e2b003c8",
   "metadata": {
    "slideshow": {
     "slide_type": "slide"
    }
   },
   "source": [
    "Many ecommerce sites: no APIs or databases to interact with.\n",
    "<br>\n",
    "<br>\n",
    "\n",
    "<div>\n",
    "<center><img src=\"Images/prod_page.png\" width=\"600\"/></center>\n",
    "</div>\n",
    "<center> Master of Malt</center>\n",
    "   "
   ]
  },
  {
   "cell_type": "markdown",
   "id": "093b9a49",
   "metadata": {
    "slideshow": {
     "slide_type": "subslide"
    }
   },
   "source": [
    "<div>\n",
    "<center><img src=\"Images/ardbeg_page.png\" width=\"700\"/></center>\n",
    "</div>   "
   ]
  },
  {
   "cell_type": "markdown",
   "id": "8a1f1c60",
   "metadata": {
    "slideshow": {
     "slide_type": "subslide"
    }
   },
   "source": [
    "There is data on the page\n",
    "<div>\n",
    "<center><img src=\"Images/ardbeg_tast_nt.png\" width=\"600\"/></center>\n",
    "</div>   "
   ]
  },
  {
   "cell_type": "markdown",
   "id": "7f24d01a",
   "metadata": {
    "slideshow": {
     "slide_type": "slide"
    }
   },
   "source": [
    "Find the data is in the web site source code...\n",
    "<div>\n",
    "<center><img src=\"Images/source_whiskex.png\" width=\"1800\"/></center>\n",
    "</div>\n",
    "    <center> Data embedded within a soup of HTML tags </center>   "
   ]
  },
  {
   "cell_type": "markdown",
   "id": "ae0bb9d7",
   "metadata": {
    "slideshow": {
     "slide_type": "slide"
    }
   },
   "source": [
    "Let's take a look at a very simple sample web site."
   ]
  },
  {
   "cell_type": "markdown",
   "id": "65a27f29",
   "metadata": {
    "slideshow": {
     "slide_type": "slide"
    }
   },
   "source": [
    "#### HyperText Markup Language (HTML)\n",
    "\n",
    "Tells a browser how to layout content.\n",
    "\n",
    "- Consists of elements called tags. \n",
    "- The most basic tag is the html tag: specfies everything inside of opening/closing tags is HTML. \n",
    "\n",
    "Take a look at an example website.\n"
   ]
  },
  {
   "cell_type": "markdown",
   "id": "520d5d23",
   "metadata": {
    "slideshow": {
     "slide_type": "slide"
    }
   },
   "source": [
    "### Let's take a look at Yelp\n",
    "- Open up yelp.com in your browser.\n",
    "- Open up the inspector\n",
    "    - Mac: cmd+option+c\n",
    "    - Windows: ctrl+shift+c\n",
    "- Click on the elements tab, and click on an element"
   ]
  },
  {
   "cell_type": "markdown",
   "id": "c9c0087e",
   "metadata": {
    "slideshow": {
     "slide_type": "slide"
    }
   },
   "source": [
    "| Tag | Function | \n",
    "| --- | --- |\n",
    "| html | Denotes extent of HTML document |\n",
    "| head | External style sheet definition, metadata, titles |\n",
    "| title | Web page title |\n",
    "| body | Specifies main web page content block |\n",
    "| h1-h6 | Section heading (ordered by decreasing size)|\n",
    "| p | Represents paragraph |\n",
    "| div | Defines division or section of document |\n",
    "| span | Meant for inline or small selection  |\n",
    "| img | Signifies image and defines source |\n",
    "| a | Linking to external sites or internal events  |\n",
    "| ul | Declare unordered (bulleted) list |\n",
    "| li | List item |"
   ]
  },
  {
   "cell_type": "markdown",
   "id": "be2989de",
   "metadata": {
    "slideshow": {
     "slide_type": "slide"
    }
   },
   "source": [
    "#### CSS (Cascading Style Sheets)\n",
    "\n",
    "- Uses class and id modifiers on tag.\n",
    "- Styling:\n",
    "    - Color\n",
    "    - Font\n",
    "    - Spacing,\n",
    "    - etc.\n",
    "- Can use external sheet for styling\n",
    "- Separate content and styling."
   ]
  },
  {
   "cell_type": "markdown",
   "id": "077f1865",
   "metadata": {
    "slideshow": {
     "slide_type": "slide"
    }
   },
   "source": [
    "#### Structure of tag levels\n",
    "- HTML document structured as tree structure:\n",
    "<br>\n",
    "<br>\n",
    "<div>\n",
    "    <center><img src=\"Images/html_tree.png\" width=\"500\"/></center>\n",
    "</div>"
   ]
  },
  {
   "cell_type": "markdown",
   "id": "42570998",
   "metadata": {
    "slideshow": {
     "slide_type": "slide"
    }
   },
   "source": [
    "#### Goal\n",
    "Extract information structured by tags.\n",
    "\n",
    "- Get HTML documents as text.\n",
    "- Parse tags and extract data."
   ]
  },
  {
   "cell_type": "markdown",
   "id": "c7648104",
   "metadata": {
    "slideshow": {
     "slide_type": "slide"
    }
   },
   "source": [
    "#### Web scraping frameworks\n",
    "\n",
    "<div>\n",
    "    <center><img src=\"Images/scrapy.png\" width=\"180\"/></center>\n",
    "</div>\n",
    "<div>\n",
    "<center><img src=\"Images/selenium.png\" width=\"300\"/></center>\n",
    "</div>\n",
    "<div>\n",
    "<center><img src=\"Images/bs4.png\" width=\"300\"/></center>\n",
    "</div>"
   ]
  },
  {
   "cell_type": "markdown",
   "id": "2b1f7891",
   "metadata": {
    "cell_style": "split",
    "slideshow": {
     "slide_type": "slide"
    }
   },
   "source": [
    "We will use:\n",
    "\n",
    "<div>\n",
    "<center><img src=\"Images/bs4.png\" width=\"400\"/></center>\n",
    "</div>"
   ]
  },
  {
   "cell_type": "markdown",
   "id": "e36b9fe2",
   "metadata": {
    "cell_style": "split",
    "slideshow": {
     "slide_type": "fragment"
    }
   },
   "source": [
    "<div>\n",
    "<center><img src=\"Images/requests.png\" width=\"300\"/></center>\n",
    "</div>"
   ]
  },
  {
   "cell_type": "markdown",
   "id": "5acb7bfd",
   "metadata": {
    "slideshow": {
     "slide_type": "fragment"
    }
   },
   "source": [
    "- **Requests**: grab the HTML content as text.\n",
    "- **BeautifulSoup**: parse the content and extract data."
   ]
  },
  {
   "cell_type": "code",
   "execution_count": null,
   "id": "84456aa9",
   "metadata": {
    "slideshow": {
     "slide_type": "slide"
    }
   },
   "outputs": [],
   "source": [
    "# import requests\n",
    "import requests"
   ]
  },
  {
   "cell_type": "markdown",
   "id": "f74663f7",
   "metadata": {
    "slideshow": {
     "slide_type": "slide"
    }
   },
   "source": [
    "Make requests on a simple webpage:"
   ]
  },
  {
   "cell_type": "code",
   "execution_count": null,
   "id": "c3721af9",
   "metadata": {
    "slideshow": {
     "slide_type": "fragment"
    }
   },
   "outputs": [],
   "source": [
    "sample_url = \"http://dataquestio.github.io/web-scraping-pages/simple.html\"\n",
    "r = requests.get(sample_url)"
   ]
  },
  {
   "cell_type": "markdown",
   "id": "1cdfd902",
   "metadata": {
    "slideshow": {
     "slide_type": "slide"
    }
   },
   "source": [
    "Let's get the content:\n",
    "- like .text attribute\n",
    "- returns in byte representation."
   ]
  },
  {
   "cell_type": "code",
   "execution_count": null,
   "id": "b6da87d5",
   "metadata": {
    "slideshow": {
     "slide_type": "fragment"
    }
   },
   "outputs": [],
   "source": [
    "req_content = r.content\n",
    "req_content "
   ]
  },
  {
   "cell_type": "markdown",
   "id": "f9140472",
   "metadata": {
    "slideshow": {
     "slide_type": "slide"
    }
   },
   "source": [
    "- Pretty ugly.\n",
    "- Parse and get relevant data:\n",
    "    - Want to use HTML tree structure.\n",
    "    - Class and id structure.\n",
    "    \n",
    "BeautifulSoup helps us with this:"
   ]
  },
  {
   "cell_type": "code",
   "execution_count": null,
   "id": "54c74c0b",
   "metadata": {
    "slideshow": {
     "slide_type": "slide"
    }
   },
   "outputs": [],
   "source": [
    "from bs4 import BeautifulSoup"
   ]
  },
  {
   "cell_type": "markdown",
   "id": "997d15c1",
   "metadata": {
    "slideshow": {
     "slide_type": "fragment"
    }
   },
   "source": [
    "Create Soup object with web site content as input."
   ]
  },
  {
   "cell_type": "code",
   "execution_count": null,
   "id": "90b1b4f4",
   "metadata": {
    "scrolled": false,
    "slideshow": {
     "slide_type": "fragment"
    }
   },
   "outputs": [],
   "source": [
    "soup = BeautifulSoup(req_content, 'html.parser') "
   ]
  },
  {
   "cell_type": "code",
   "execution_count": null,
   "id": "6400ae9f",
   "metadata": {
    "slideshow": {
     "slide_type": "subslide"
    }
   },
   "outputs": [],
   "source": [
    "print(soup.prettify())"
   ]
  },
  {
   "cell_type": "markdown",
   "id": "23d7a226",
   "metadata": {
    "slideshow": {
     "slide_type": "subslide"
    }
   },
   "source": [
    "Soup is parsing structure and hierarchy of tags and content in HTML document.\n",
    "\n",
    "Can go tranverse through tree hierarchy:"
   ]
  },
  {
   "cell_type": "markdown",
   "id": "71ccb476",
   "metadata": {
    "slideshow": {
     "slide_type": "slide"
    }
   },
   "source": [
    "#### Descending through hierarchy"
   ]
  },
  {
   "cell_type": "code",
   "execution_count": null,
   "id": "c1474ca2",
   "metadata": {
    "slideshow": {
     "slide_type": "fragment"
    }
   },
   "outputs": [],
   "source": [
    "soup"
   ]
  },
  {
   "cell_type": "code",
   "execution_count": null,
   "id": "86d767fb",
   "metadata": {
    "cell_style": "split",
    "slideshow": {
     "slide_type": "subslide"
    }
   },
   "outputs": [],
   "source": [
    "html_level = soup.html\n",
    "html_level"
   ]
  },
  {
   "cell_type": "markdown",
   "id": "18cb6de8",
   "metadata": {
    "cell_style": "split",
    "slideshow": {
     "slide_type": "fragment"
    }
   },
   "source": [
    "Tag element contains:\n",
    "- node tag\n",
    "- node contents (children nodes, text, etc.)"
   ]
  },
  {
   "cell_type": "code",
   "execution_count": null,
   "id": "bb3674bc",
   "metadata": {
    "cell_style": "split",
    "slideshow": {
     "slide_type": "fragment"
    }
   },
   "outputs": [],
   "source": [
    "type(html_level)"
   ]
  },
  {
   "cell_type": "markdown",
   "id": "b1806354",
   "metadata": {
    "cell_style": "center",
    "slideshow": {
     "slide_type": "slide"
    }
   },
   "source": [
    "**.name** attribute \n",
    "\n",
    "Can get the name of the node that you are at:\n",
    "- .name attribute of Soup/Tag objects    "
   ]
  },
  {
   "cell_type": "code",
   "execution_count": null,
   "id": "e94efe51",
   "metadata": {
    "cell_style": "center",
    "slideshow": {
     "slide_type": "fragment"
    }
   },
   "outputs": [],
   "source": [
    "html_level.name"
   ]
  },
  {
   "cell_type": "markdown",
   "id": "3897b93f",
   "metadata": {
    "slideshow": {
     "slide_type": "slide"
    }
   },
   "source": [
    "**.contents** attribute\n",
    "\n",
    "- gets list of tag's children"
   ]
  },
  {
   "cell_type": "code",
   "execution_count": null,
   "id": "86d21df4",
   "metadata": {
    "slideshow": {
     "slide_type": "fragment"
    }
   },
   "outputs": [],
   "source": [
    "html_level.contents"
   ]
  },
  {
   "cell_type": "markdown",
   "id": "dc796d9b",
   "metadata": {
    "slideshow": {
     "slide_type": "slide"
    }
   },
   "source": [
    "**.children** attribute\n",
    "\n",
    "Can also yield the children as generator:\n",
    "- as opposed to .contents which yields entire list of children.\n",
    "- useful when creating list comprehensions off the tag's children."
   ]
  },
  {
   "cell_type": "code",
   "execution_count": null,
   "id": "9f09a4eb",
   "metadata": {
    "cell_style": "center",
    "slideshow": {
     "slide_type": "fragment"
    }
   },
   "outputs": [],
   "source": [
    "html_level.children"
   ]
  },
  {
   "cell_type": "markdown",
   "id": "ca91b967",
   "metadata": {
    "cell_style": "split",
    "slideshow": {
     "slide_type": "slide"
    }
   },
   "source": [
    "Get the name of the tags of html's direct children:\n",
    "- need to exclude line breaks."
   ]
  },
  {
   "cell_type": "code",
   "execution_count": null,
   "id": "2ea802f2",
   "metadata": {
    "cell_style": "split",
    "slideshow": {
     "slide_type": "fragment"
    }
   },
   "outputs": [],
   "source": [
    "children_names = \\\n",
    "[child.name for child \n",
    " in html_level.children \n",
    " if child != '\\n']"
   ]
  },
  {
   "cell_type": "code",
   "execution_count": null,
   "id": "4885aa47",
   "metadata": {
    "cell_style": "split",
    "slideshow": {
     "slide_type": "fragment"
    }
   },
   "outputs": [],
   "source": [
    "children_names"
   ]
  },
  {
   "cell_type": "markdown",
   "id": "8cd7bc13",
   "metadata": {
    "cell_style": "split",
    "slideshow": {
     "slide_type": "slide"
    }
   },
   "source": [
    "Let's access the body child and go down the branch:\n",
    "- Can address body child as an attribute of previous level."
   ]
  },
  {
   "cell_type": "code",
   "execution_count": null,
   "id": "54d736d4",
   "metadata": {
    "cell_style": "split",
    "slideshow": {
     "slide_type": "fragment"
    }
   },
   "outputs": [],
   "source": [
    "body_level = html_level.body\n",
    "body_level"
   ]
  },
  {
   "cell_type": "markdown",
   "id": "4fcd097b",
   "metadata": {
    "slideshow": {
     "slide_type": "slide"
    }
   },
   "source": [
    "There's another level left down this branch:"
   ]
  },
  {
   "cell_type": "code",
   "execution_count": null,
   "id": "050fbf21",
   "metadata": {
    "cell_style": "split",
    "slideshow": {
     "slide_type": "fragment"
    }
   },
   "outputs": [],
   "source": [
    "body_level"
   ]
  },
  {
   "cell_type": "markdown",
   "id": "95f3a897",
   "metadata": {
    "cell_style": "split",
    "slideshow": {
     "slide_type": "fragment"
    }
   },
   "source": [
    "Accessing the paragraph <p> child:"
   ]
  },
  {
   "cell_type": "code",
   "execution_count": null,
   "id": "cbfad251",
   "metadata": {
    "cell_style": "split",
    "slideshow": {
     "slide_type": "fragment"
    }
   },
   "outputs": [],
   "source": [
    "p_level = body_level.p\n",
    "p_level"
   ]
  },
  {
   "cell_type": "markdown",
   "id": "a15554f8",
   "metadata": {
    "slideshow": {
     "slide_type": "slide"
    }
   },
   "source": [
    "**.text** attribute\n",
    "\n",
    "Get the text inside the tag:\n",
    "- .text attribute"
   ]
  },
  {
   "cell_type": "code",
   "execution_count": null,
   "id": "5dd153d1",
   "metadata": {
    "slideshow": {
     "slide_type": "fragment"
    }
   },
   "outputs": [],
   "source": [
    "p_level.text"
   ]
  },
  {
   "cell_type": "markdown",
   "id": "87c29f9f",
   "metadata": {
    "slideshow": {
     "slide_type": "slide"
    }
   },
   "source": [
    "#### Going up levels:\n",
    "**.parent** attribute:\n",
    "- We can also go the other way:"
   ]
  },
  {
   "cell_type": "code",
   "execution_count": null,
   "id": "12beeca8",
   "metadata": {
    "slideshow": {
     "slide_type": "fragment"
    }
   },
   "outputs": [],
   "source": [
    "p_level.parent"
   ]
  },
  {
   "cell_type": "markdown",
   "id": "d9b111a7",
   "metadata": {
    "slideshow": {
     "slide_type": "fragment"
    }
   },
   "source": [
    "Not too shabby."
   ]
  },
  {
   "cell_type": "markdown",
   "id": "b5ed232a",
   "metadata": {
    "slideshow": {
     "slide_type": "slide"
    }
   },
   "source": [
    "#### Going sideways\n",
    "- Traversing through siblings"
   ]
  },
  {
   "cell_type": "markdown",
   "id": "923931f5",
   "metadata": {
    "slideshow": {
     "slide_type": "slide"
    }
   },
   "source": [
    "**.previous_siblings** attribute\n",
    "- generator that creates previous siblings"
   ]
  },
  {
   "cell_type": "code",
   "execution_count": null,
   "id": "1c6d75d5",
   "metadata": {
    "cell_style": "split",
    "slideshow": {
     "slide_type": "fragment"
    }
   },
   "outputs": [],
   "source": [
    "html_level"
   ]
  },
  {
   "cell_type": "code",
   "execution_count": null,
   "id": "cc2051fa",
   "metadata": {
    "cell_style": "split",
    "slideshow": {
     "slide_type": "fragment"
    }
   },
   "outputs": [],
   "source": [
    "body_level"
   ]
  },
  {
   "cell_type": "code",
   "execution_count": null,
   "id": "1f178358",
   "metadata": {
    "cell_style": "split",
    "slideshow": {
     "slide_type": "fragment"
    }
   },
   "outputs": [],
   "source": [
    "prev_sibs = body_level.previous_siblings\n",
    "prev_sibs"
   ]
  },
  {
   "cell_type": "markdown",
   "id": "365f5186",
   "metadata": {
    "cell_style": "split",
    "slideshow": {
     "slide_type": "slide"
    }
   },
   "source": [
    "Traversing the generator:\n",
    "- goes backwards through previous siblings with next() operator\n",
    "- terminates when exhausts previous siblings"
   ]
  },
  {
   "cell_type": "code",
   "execution_count": null,
   "id": "29f8f01c",
   "metadata": {
    "cell_style": "split",
    "slideshow": {
     "slide_type": "fragment"
    }
   },
   "outputs": [],
   "source": [
    "next(prev_sibs)"
   ]
  },
  {
   "cell_type": "markdown",
   "id": "49bafe06",
   "metadata": {
    "slideshow": {
     "slide_type": "slide"
    }
   },
   "source": [
    "Can be used in a list comprehension as well:\n",
    "- get tag names of previous siblings excluding line breaks"
   ]
  },
  {
   "cell_type": "code",
   "execution_count": null,
   "id": "434d0a7c",
   "metadata": {
    "slideshow": {
     "slide_type": "fragment"
    }
   },
   "outputs": [],
   "source": [
    "prevsib_names = [prev_sib.name for prev_sib in body_level.previous_siblings if prev_sib != \"\\n\"]\n",
    "prevsib_names"
   ]
  },
  {
   "cell_type": "markdown",
   "id": "504ec3ab",
   "metadata": {
    "cell_style": "split",
    "slideshow": {
     "slide_type": "slide"
    }
   },
   "source": [
    "**.next_siblings** attribute: \n",
    "- does the same thing but for siblings following the current tag"
   ]
  },
  {
   "cell_type": "code",
   "execution_count": null,
   "id": "a6317904",
   "metadata": {
    "cell_style": "split",
    "slideshow": {
     "slide_type": "fragment"
    }
   },
   "outputs": [],
   "source": [
    "head_level = html_level.head\n",
    "list(head_level.next_siblings)"
   ]
  },
  {
   "cell_type": "markdown",
   "id": "fe32fcb9",
   "metadata": {
    "slideshow": {
     "slide_type": "slide"
    }
   },
   "source": [
    "Previous web-site was very simple. Website usually has more complex tree structures:\n",
    "- A given tag can have many children of the same type. Want all children of a given type.\n",
    "- Dealing with nested structures: divs within divs \n",
    "- A set of children with a given class. \n",
    "- Specific tag with a unique id  "
   ]
  },
  {
   "cell_type": "markdown",
   "id": "64090be8",
   "metadata": {
    "slideshow": {
     "slide_type": "slide"
    }
   },
   "source": [
    "A more complex but still simple example might help:"
   ]
  },
  {
   "cell_type": "code",
   "execution_count": null,
   "id": "6f674f33",
   "metadata": {
    "slideshow": {
     "slide_type": "slide"
    }
   },
   "outputs": [],
   "source": [
    "page = requests.get(\"http://dataquestio.github.io/web-scraping-pages/ids_and_classes.html\")\n",
    "soup = BeautifulSoup(page.content)\n",
    "soup"
   ]
  },
  {
   "cell_type": "markdown",
   "id": "a4b1a5ef",
   "metadata": {
    "slideshow": {
     "slide_type": "slide"
    }
   },
   "source": [
    "Going down to the body level:"
   ]
  },
  {
   "cell_type": "code",
   "execution_count": null,
   "id": "bf347887",
   "metadata": {
    "slideshow": {
     "slide_type": "fragment"
    }
   },
   "outputs": [],
   "source": [
    "body_level = soup.html.body\n",
    "body_level"
   ]
  },
  {
   "cell_type": "markdown",
   "id": "e67fd87f",
   "metadata": {
    "slideshow": {
     "slide_type": "slide"
    }
   },
   "source": [
    "There are many p tags.\n",
    "- Want all p tags:"
   ]
  },
  {
   "cell_type": "code",
   "execution_count": null,
   "id": "ffbd1084",
   "metadata": {
    "slideshow": {
     "slide_type": "fragment"
    }
   },
   "outputs": [],
   "source": [
    "body_level.p"
   ]
  },
  {
   "cell_type": "markdown",
   "id": "18f247bb",
   "metadata": {
    "slideshow": {
     "slide_type": "fragment"
    }
   },
   "source": [
    "Only got the first."
   ]
  },
  {
   "cell_type": "markdown",
   "id": "275c4561",
   "metadata": {
    "cell_style": "split",
    "slideshow": {
     "slide_type": "slide"
    }
   },
   "source": [
    "We need:\n",
    "    \n",
    ".find_all() \n",
    "- finds all instances of specified tags contained in current node.\n",
    "- returns a list"
   ]
  },
  {
   "cell_type": "code",
   "execution_count": null,
   "id": "f516703a",
   "metadata": {
    "cell_style": "split",
    "slideshow": {
     "slide_type": "fragment"
    }
   },
   "outputs": [],
   "source": [
    "body_level.find_all('p')"
   ]
  },
  {
   "cell_type": "markdown",
   "id": "3a536d3c",
   "metadata": {
    "cell_style": "split",
    "slideshow": {
     "slide_type": "slide"
    }
   },
   "source": [
    "But let's take a closer look at the body structure:\n",
    "- .prettify() can sometimes be useful"
   ]
  },
  {
   "cell_type": "code",
   "execution_count": null,
   "id": "c12b3a11",
   "metadata": {
    "cell_style": "split",
    "slideshow": {
     "slide_type": "fragment"
    }
   },
   "outputs": [],
   "source": [
    "print(body_level.prettify())"
   ]
  },
  {
   "cell_type": "markdown",
   "id": "f577db21",
   "metadata": {
    "cell_style": "split",
    "slideshow": {
     "slide_type": "slide"
    }
   },
   "source": [
    "**Nested structures**\n",
    "- One set of paragraphs p tags contained in a div\n",
    "- Other set as direct children of body.\n",
    "\n",
    "May want to access p tags that are direct children."
   ]
  },
  {
   "cell_type": "markdown",
   "id": "9fa2efce",
   "metadata": {
    "cell_style": "split",
    "slideshow": {
     "slide_type": "fragment"
    }
   },
   "source": [
    ".find_all() has recursive argument (True as default)\n",
    "- recursive = False:\n",
    "- gets immediate children satisying requirement"
   ]
  },
  {
   "cell_type": "code",
   "execution_count": null,
   "id": "4970b832",
   "metadata": {
    "cell_style": "center",
    "slideshow": {
     "slide_type": "slide"
    }
   },
   "outputs": [],
   "source": [
    "body_level.find_all('p', recursive = False)"
   ]
  },
  {
   "cell_type": "markdown",
   "id": "e56a7f80",
   "metadata": {
    "cell_style": "center",
    "slideshow": {
     "slide_type": "fragment"
    }
   },
   "source": [
    "This is the paragraph tags on the outer level.\n",
    "- direct children of the body"
   ]
  },
  {
   "cell_type": "markdown",
   "id": "4b5c0533",
   "metadata": {
    "slideshow": {
     "slide_type": "slide"
    }
   },
   "source": [
    "**Exercise**: get me the paragraph Tags nested in the div layer."
   ]
  },
  {
   "cell_type": "code",
   "execution_count": null,
   "id": "27adbac8",
   "metadata": {
    "slideshow": {
     "slide_type": "fragment"
    }
   },
   "outputs": [],
   "source": [
    "# do it!\n",
    "#body_level"
   ]
  },
  {
   "cell_type": "markdown",
   "id": "0bdd9d1a",
   "metadata": {
    "cell_style": "split",
    "slideshow": {
     "slide_type": "fragment"
    }
   },
   "source": [
    "<details>\n",
    "    <summary><b><u>Solution</u></b></summary>\n",
    "\n",
    "```python \n",
    "body_level.div.find_all('p')\n",
    "\n",
    "```\n",
    "</details>\n"
   ]
  },
  {
   "cell_type": "code",
   "execution_count": null,
   "id": "e60b7fdf",
   "metadata": {
    "cell_style": "center",
    "slideshow": {
     "slide_type": "fragment"
    }
   },
   "outputs": [],
   "source": [
    "# can be useful if div had class arguments\n",
    "# id arguments\n",
    "\n",
    "body_level.find('div').find_all('p')"
   ]
  },
  {
   "cell_type": "markdown",
   "id": "573eed12",
   "metadata": {
    "cell_style": "center",
    "slideshow": {
     "slide_type": "slide"
    }
   },
   "source": [
    "#### Class and id selectors\n",
    "\n",
    "- a grouping of tags (class)\n",
    "- naming a specific tag instance (id).\n",
    "\n",
    "Used in CSS styling.\n",
    "\n",
    "Can also use this for data selection / scraping."
   ]
  },
  {
   "cell_type": "markdown",
   "id": "762e224c",
   "metadata": {
    "cell_style": "center",
    "slideshow": {
     "slide_type": "subslide"
    }
   },
   "source": [
    "**Class and id selectors with**:\n",
    "- .find()\n",
    "- .find_all()\n",
    "\n",
    "Take additional arguments for class/id"
   ]
  },
  {
   "cell_type": "code",
   "execution_count": null,
   "id": "18fef704",
   "metadata": {
    "cell_style": "split",
    "scrolled": true,
    "slideshow": {
     "slide_type": "subslide"
    }
   },
   "outputs": [],
   "source": [
    "print(body_level.prettify())"
   ]
  },
  {
   "cell_type": "markdown",
   "id": "d4887ec0",
   "metadata": {
    "cell_style": "split",
    "slideshow": {
     "slide_type": "fragment"
    }
   },
   "source": [
    "Get the group of paragraph tags in the inner-text class."
   ]
  },
  {
   "cell_type": "code",
   "execution_count": null,
   "id": "5eadd12b",
   "metadata": {
    "cell_style": "split",
    "slideshow": {
     "slide_type": "-"
    }
   },
   "outputs": [],
   "source": [
    "body_level.find_all('p', class_ = 'inner-text')"
   ]
  },
  {
   "cell_type": "markdown",
   "id": "97cb3374",
   "metadata": {
    "slideshow": {
     "slide_type": "slide"
    }
   },
   "source": [
    "**Class and id selectors with**:\n",
    "- .find()\n",
    "- .find_all()\n",
    "\n",
    "Take additional arguments for class/id"
   ]
  },
  {
   "cell_type": "code",
   "execution_count": null,
   "id": "d0321298",
   "metadata": {
    "cell_style": "split",
    "slideshow": {
     "slide_type": "slide"
    }
   },
   "outputs": [],
   "source": [
    "body_level"
   ]
  },
  {
   "cell_type": "markdown",
   "id": "2626d278",
   "metadata": {
    "cell_style": "split",
    "slideshow": {
     "slide_type": "fragment"
    }
   },
   "source": [
    "Extract by id:"
   ]
  },
  {
   "cell_type": "code",
   "execution_count": null,
   "id": "ec3d92f8",
   "metadata": {
    "cell_style": "split",
    "slideshow": {
     "slide_type": "fragment"
    }
   },
   "outputs": [],
   "source": [
    "body_level.find('p', id = 'second')\n",
    "#body_level.find_all('p', id = 'second')"
   ]
  },
  {
   "cell_type": "markdown",
   "id": "19e591e6",
   "metadata": {
    "slideshow": {
     "slide_type": "slide"
    }
   },
   "source": [
    "#### Going back to our whisky page\n",
    "\n",
    "- Get bottling details (age, ABV, distillery, etc)"
   ]
  },
  {
   "cell_type": "code",
   "execution_count": null,
   "id": "95c0d4e6",
   "metadata": {
    "slideshow": {
     "slide_type": "fragment"
    }
   },
   "outputs": [],
   "source": [
    "ardbeg_url = \"https://www.thewhiskyexchange.com/p/114/ardbeg-uigeadail\""
   ]
  },
  {
   "cell_type": "code",
   "execution_count": null,
   "id": "1b178973",
   "metadata": {
    "slideshow": {
     "slide_type": "fragment"
    }
   },
   "outputs": [],
   "source": [
    "ardbeg_req = requests.get(ardbeg_url)\n",
    "ardbeg_soup = BeautifulSoup(ardbeg_req.content)"
   ]
  },
  {
   "cell_type": "markdown",
   "id": "4f22240b",
   "metadata": {
    "cell_style": "split",
    "slideshow": {
     "slide_type": "slide"
    }
   },
   "source": [
    "Let's get the whisky facts:\n",
    "- Bottler\n",
    "- Country\n",
    "- Chill filtered\n",
    "- etc."
   ]
  },
  {
   "cell_type": "code",
   "execution_count": null,
   "id": "bbfd67d7",
   "metadata": {
    "cell_style": "split",
    "slideshow": {
     "slide_type": "fragment"
    }
   },
   "outputs": [],
   "source": [
    "# returns the match as a tag object\n",
    "prod_fact = ardbeg_soup.find('ul', \n",
    "                 class_ = \"product-facts\" )\n",
    "\n",
    "prod_fact"
   ]
  },
  {
   "cell_type": "markdown",
   "id": "20d803d6",
   "metadata": {
    "cell_style": "split",
    "slideshow": {
     "slide_type": "slide"
    }
   },
   "source": [
    "Clearly have a list with each element (li) containing:\n",
    "- attribute image\n",
    "- key in h3 tag of class \"product-facts__type\"\n",
    "- value in p tag of class \"product-facts__data\"\n"
   ]
  },
  {
   "cell_type": "markdown",
   "id": "4bd74a35",
   "metadata": {
    "cell_style": "split",
    "slideshow": {
     "slide_type": "fragment"
    }
   },
   "source": [
    "Let's get the first li item:\n",
    "- prod_fact.find('li')\n",
    "- prod_fact.li"
   ]
  },
  {
   "cell_type": "code",
   "execution_count": null,
   "id": "91aae003",
   "metadata": {
    "cell_style": "split",
    "slideshow": {
     "slide_type": "fragment"
    }
   },
   "outputs": [],
   "source": [
    "first_li_elem = prod_fact.find('li')\n",
    "first_li_elem"
   ]
  },
  {
   "cell_type": "markdown",
   "id": "0b6960d6",
   "metadata": {
    "slideshow": {
     "slide_type": "slide"
    }
   },
   "source": [
    "Now we want the key-value pairs:"
   ]
  },
  {
   "cell_type": "code",
   "execution_count": null,
   "id": "8bcfefa5",
   "metadata": {
    "cell_style": "center",
    "slideshow": {
     "slide_type": "fragment"
    }
   },
   "outputs": [],
   "source": [
    "# using .find() because we know there is only one of these tags\n",
    "detail_key = first_li_elem.find('h3', class_ = \"product-facts__type\").text\n",
    "detail_key"
   ]
  },
  {
   "cell_type": "code",
   "execution_count": null,
   "id": "9f84835c",
   "metadata": {
    "cell_style": "center",
    "slideshow": {
     "slide_type": "fragment"
    }
   },
   "outputs": [],
   "source": [
    "# using .find() because we know there is only one of these tags\n",
    "detail_val = first_li_elem.find('p', class_ = \"product-facts__data\").text\n",
    "detail_val"
   ]
  },
  {
   "cell_type": "markdown",
   "id": "f176bc53",
   "metadata": {
    "slideshow": {
     "slide_type": "slide"
    }
   },
   "source": [
    "We can get the key,value pairs for all of these list elements in the product fact list:\n",
    "- iterate over .children\n",
    "- or use .find_all('li')"
   ]
  },
  {
   "cell_type": "code",
   "execution_count": null,
   "id": "fa920172",
   "metadata": {
    "cell_style": "split",
    "slideshow": {
     "slide_type": "fragment"
    }
   },
   "outputs": [],
   "source": [
    "factTag_list = prod_fact.find_all('li')\n",
    "factTag_list"
   ]
  },
  {
   "cell_type": "markdown",
   "id": "11855cbd",
   "metadata": {
    "cell_style": "split",
    "slideshow": {
     "slide_type": "fragment"
    }
   },
   "source": [
    "Each element is a Tag object."
   ]
  },
  {
   "cell_type": "code",
   "execution_count": null,
   "id": "b5790cda",
   "metadata": {
    "cell_style": "split",
    "slideshow": {
     "slide_type": "-"
    }
   },
   "outputs": [],
   "source": [
    "print(type(factTag_list[0]))"
   ]
  },
  {
   "cell_type": "markdown",
   "id": "c0381571",
   "metadata": {
    "slideshow": {
     "slide_type": "slide"
    }
   },
   "source": [
    "Let's iterate over the list and extract keys and pairs:"
   ]
  },
  {
   "cell_type": "code",
   "execution_count": null,
   "id": "3de58934",
   "metadata": {
    "slideshow": {
     "slide_type": "fragment"
    }
   },
   "outputs": [],
   "source": [
    "data_dict = {}\n",
    "\n",
    "for elem in factTag_list:\n",
    "    \n",
    "    detail_key = elem.find('h3', class_ = \"product-facts__type\").text\n",
    "    detail_val = elem.find('p', class_ = \"product-facts__data\").text\n",
    "    \n",
    "    data_dict.update({detail_key: detail_val})"
   ]
  },
  {
   "cell_type": "markdown",
   "id": "f39dd671",
   "metadata": {
    "slideshow": {
     "slide_type": "slide"
    }
   },
   "source": [
    "Take a look at out data dictionary:"
   ]
  },
  {
   "cell_type": "code",
   "execution_count": null,
   "id": "988cb989",
   "metadata": {
    "slideshow": {
     "slide_type": "fragment"
    }
   },
   "outputs": [],
   "source": [
    "data_dict"
   ]
  },
  {
   "cell_type": "markdown",
   "id": "de0a68d2",
   "metadata": {
    "slideshow": {
     "slide_type": "fragment"
    }
   },
   "source": [
    "Starting to look a lot like data that could be a row in a table or DataFrame."
   ]
  },
  {
   "cell_type": "markdown",
   "id": "1bd9ab3a",
   "metadata": {
    "slideshow": {
     "slide_type": "slide"
    }
   },
   "source": [
    "Let's try and extract some other information about this whisky as well:\n",
    "- Get the header for the Flavour Profile subsection\n",
    "- Get the contents"
   ]
  },
  {
   "cell_type": "markdown",
   "id": "f2d9f9de",
   "metadata": {
    "slideshow": {
     "slide_type": "subslide"
    }
   },
   "source": [
    "- notice that all are in the header h2 tag with id = FlavourProfile\n",
    "- let's access this h2"
   ]
  },
  {
   "cell_type": "code",
   "execution_count": null,
   "id": "9e40f2c8",
   "metadata": {
    "cell_style": "split",
    "slideshow": {
     "slide_type": "fragment"
    }
   },
   "outputs": [],
   "source": [
    "flavorheader = ardbeg_soup.find(\n",
    "    'h2', id = \"FlavourProfile\")\n",
    "flavorheader"
   ]
  },
  {
   "cell_type": "code",
   "execution_count": null,
   "id": "6d28e97c",
   "metadata": {
    "cell_style": "split",
    "slideshow": {
     "slide_type": "fragment"
    }
   },
   "outputs": [],
   "source": [
    "header_text = flavorheader.text\n",
    "header_text"
   ]
  },
  {
   "cell_type": "markdown",
   "id": "533cd839",
   "metadata": {
    "slideshow": {
     "slide_type": "subslide"
    }
   },
   "source": [
    "- the corresponding content is in a div with class = \"flavour-profile\"\n",
    "- let's access this"
   ]
  },
  {
   "cell_type": "code",
   "execution_count": null,
   "id": "6f0385f9",
   "metadata": {
    "cell_style": "split",
    "slideshow": {
     "slide_type": "fragment"
    }
   },
   "outputs": [],
   "source": [
    "flavor_content = ardbeg_soup.find(\n",
    "    'div', class_ = \"flavour-profile\")\n",
    "\n",
    "print(flavor_content.prettify())"
   ]
  },
  {
   "cell_type": "markdown",
   "id": "fb0b978f",
   "metadata": {
    "cell_style": "split",
    "slideshow": {
     "slide_type": "fragment"
    }
   },
   "source": [
    "The whisky has four flavor scores that we are interested in extracting:\n",
    "- Body\n",
    "- Richness\n",
    "- Smoke\n",
    "- Sweetness\n",
    "\n",
    "These are contained in the first of the children div nodes."
   ]
  },
  {
   "cell_type": "code",
   "execution_count": null,
   "id": "e400894b",
   "metadata": {
    "cell_style": "split"
   },
   "outputs": [],
   "source": [
    "[child.name for child \n",
    " in flavor_content.children if child != '\\n']"
   ]
  },
  {
   "cell_type": "markdown",
   "id": "3083707c",
   "metadata": {
    "slideshow": {
     "slide_type": "slide"
    }
   },
   "source": [
    "A list with the strength of various taste characteristics:"
   ]
  },
  {
   "cell_type": "code",
   "execution_count": null,
   "id": "14663700",
   "metadata": {
    "cell_style": "center",
    "slideshow": {
     "slide_type": "-"
    }
   },
   "outputs": [],
   "source": [
    "flavor_style = flavor_content.div\n",
    "flavor_style"
   ]
  },
  {
   "cell_type": "markdown",
   "id": "db08f455",
   "metadata": {
    "slideshow": {
     "slide_type": "slide"
    }
   },
   "source": [
    "Ther is another sibling div that contains other information:\n",
    "- A list with similar taste descriptors"
   ]
  },
  {
   "cell_type": "code",
   "execution_count": null,
   "id": "d12e4434",
   "metadata": {
    "slideshow": {
     "slide_type": "-"
    }
   },
   "outputs": [],
   "source": [
    "# first sibiling is a \\n character\n",
    "flavor_style.next_sibling.next_sibling"
   ]
  },
  {
   "cell_type": "code",
   "execution_count": null,
   "id": "2556d59c",
   "metadata": {
    "slideshow": {
     "slide_type": "slide"
    }
   },
   "outputs": [],
   "source": [
    "print(flavor_style.prettify())"
   ]
  },
  {
   "cell_type": "markdown",
   "id": "be9e60a1",
   "metadata": {
    "cell_style": "center",
    "slideshow": {
     "slide_type": "slide"
    }
   },
   "source": [
    "Get the keys for the flavor profile:\n",
    "- Contained as text in span of class=\"flavour-profile__label\""
   ]
  },
  {
   "cell_type": "code",
   "execution_count": null,
   "id": "b88fce2f",
   "metadata": {
    "cell_style": "split",
    "slideshow": {
     "slide_type": "fragment"
    }
   },
   "outputs": [],
   "source": [
    "flav_key_spans  = \\\n",
    "flavor_style.find_all(\n",
    "    'span', \n",
    "    class_ = 'flavour-profile__label')"
   ]
  },
  {
   "cell_type": "code",
   "execution_count": null,
   "id": "7335c43c",
   "metadata": {
    "cell_style": "split",
    "slideshow": {
     "slide_type": "fragment"
    }
   },
   "outputs": [],
   "source": [
    "flav_profile_keys = \\\n",
    "[ span.text for span in flav_key_spans ]\n",
    "flav_profile_keys"
   ]
  },
  {
   "cell_type": "markdown",
   "id": "5743c5d5",
   "metadata": {
    "cell_style": "split",
    "slideshow": {
     "slide_type": "slide"
    }
   },
   "source": [
    "For getting the values:\n",
    "- Value is inside the tag as the data-text attribute\n",
    "\n",
    "**How can we extract it**?"
   ]
  },
  {
   "cell_type": "code",
   "execution_count": null,
   "id": "13dbc62b",
   "metadata": {
    "cell_style": "split",
    "slideshow": {
     "slide_type": "-"
    }
   },
   "outputs": [],
   "source": [
    "flav_profile_gauges = \\\n",
    "flavor_style.find_all(\n",
    "    'div', \n",
    "    class_ = 'flavour-profile__gauge')\n",
    "\n",
    "flav_profile_gauges"
   ]
  },
  {
   "cell_type": "markdown",
   "id": "6a322c8e",
   "metadata": {
    "cell_style": "split",
    "slideshow": {
     "slide_type": "slide"
    }
   },
   "source": [
    "Tags are addressable as dictionaries:\n",
    "- tag attribute name is key"
   ]
  },
  {
   "cell_type": "code",
   "execution_count": null,
   "id": "1ff8ce33",
   "metadata": {
    "cell_style": "split",
    "slideshow": {
     "slide_type": "fragment"
    }
   },
   "outputs": [],
   "source": [
    "flav_profile_gauges[0]"
   ]
  },
  {
   "cell_type": "code",
   "execution_count": null,
   "id": "f1025938",
   "metadata": {
    "cell_style": "center",
    "slideshow": {
     "slide_type": "slide"
    }
   },
   "outputs": [],
   "source": [
    "flav_profile_gauges[0]['data-text']"
   ]
  },
  {
   "cell_type": "markdown",
   "id": "b1f30594",
   "metadata": {
    "slideshow": {
     "slide_type": "slide"
    }
   },
   "source": [
    "Extracting the values for the flavor profile is straightforward:"
   ]
  },
  {
   "cell_type": "code",
   "execution_count": null,
   "id": "3c3a5a8e",
   "metadata": {
    "cell_style": "center",
    "slideshow": {
     "slide_type": "fragment"
    }
   },
   "outputs": [],
   "source": [
    "value_list = [gauge['data-text'] for gauge in flav_profile_gauges]\n",
    "value_list"
   ]
  },
  {
   "cell_type": "code",
   "execution_count": null,
   "id": "aef4272d",
   "metadata": {
    "cell_style": "split",
    "slideshow": {
     "slide_type": "slide"
    }
   },
   "outputs": [],
   "source": [
    "# Zipping this together and making a dictionary\n",
    "flav_dict = \\\n",
    "dict(zip(flav_profile_keys, value_list))\n",
    "\n",
    "flav_dict"
   ]
  },
  {
   "cell_type": "markdown",
   "id": "27be9189",
   "metadata": {
    "cell_style": "split",
    "slideshow": {
     "slide_type": "fragment"
    }
   },
   "source": [
    "And we can update our data dictionary:"
   ]
  },
  {
   "cell_type": "code",
   "execution_count": null,
   "id": "2f2777ce",
   "metadata": {
    "cell_style": "split",
    "slideshow": {
     "slide_type": "fragment"
    }
   },
   "outputs": [],
   "source": [
    "# and we can update our data dictionary\n",
    "data_dict.update(flav_dict)\n",
    "\n",
    "data_dict"
   ]
  },
  {
   "cell_type": "markdown",
   "id": "ccfa4914",
   "metadata": {
    "cell_style": "split",
    "slideshow": {
     "slide_type": "slide"
    }
   },
   "source": [
    "There are many places where we can get the name of the Whisky:\n",
    "- A meta tag below the html level\n",
    "- with attributes name = 'twitter:title' and content = \"Ardbeg Uigeadail\""
   ]
  },
  {
   "cell_type": "markdown",
   "id": "5847d2e0",
   "metadata": {
    "cell_style": "split",
    "slideshow": {
     "slide_type": "fragment"
    }
   },
   "source": [
    ".find() and .find_all()\n",
    "- has way to select a tag by attributes\n",
    "- attrs takes in a dictionary of attributes"
   ]
  },
  {
   "cell_type": "code",
   "execution_count": null,
   "id": "03edc830",
   "metadata": {
    "slideshow": {
     "slide_type": "fragment"
    }
   },
   "outputs": [],
   "source": [
    "name_meta_tag = ardbeg_soup.html.find(\n",
    "    'meta', attrs = {'name': 'twitter:title'})\n",
    "name_meta_tag"
   ]
  },
  {
   "cell_type": "markdown",
   "id": "b5aa544b",
   "metadata": {
    "slideshow": {
     "slide_type": "slide"
    }
   },
   "source": [
    "Extract the content attribute from tag:\n",
    "- update data dictionary"
   ]
  },
  {
   "cell_type": "code",
   "execution_count": null,
   "id": "e1bf07a3",
   "metadata": {
    "cell_style": "split",
    "slideshow": {
     "slide_type": "fragment"
    }
   },
   "outputs": [],
   "source": [
    "name_meta_tag['content']"
   ]
  },
  {
   "cell_type": "code",
   "execution_count": null,
   "id": "ff3e703c",
   "metadata": {
    "cell_style": "split",
    "slideshow": {
     "slide_type": "fragment"
    }
   },
   "outputs": [],
   "source": [
    "data_dict.update(\n",
    "    {'name': name_meta_tag['content'] })\n",
    "\n",
    "data_dict"
   ]
  },
  {
   "cell_type": "markdown",
   "id": "50c2ba55",
   "metadata": {
    "cell_style": "split",
    "slideshow": {
     "slide_type": "slide"
    }
   },
   "source": [
    "A lot of:\n",
    "- html tree traversing\n",
    "- exploring scheme\n",
    "- searches to extract data"
   ]
  },
  {
   "cell_type": "markdown",
   "id": "57e73348",
   "metadata": {
    "cell_style": "split",
    "slideshow": {
     "slide_type": "fragment"
    }
   },
   "source": [
    "When each product site has same tagging structure:\n",
    "\n",
    "- Build function that extracts data like we did.\n",
    "- Can be used while looping through multiple products."
   ]
  },
  {
   "cell_type": "markdown",
   "id": "85817cfe",
   "metadata": {
    "slideshow": {
     "slide_type": "slide"
    }
   },
   "source": [
    "#### Build Function"
   ]
  },
  {
   "cell_type": "code",
   "execution_count": null,
   "id": "32e36907",
   "metadata": {
    "slideshow": {
     "slide_type": "subslide"
    }
   },
   "outputs": [],
   "source": [
    "def extract_data_dict(product_page):\n",
    "    \n",
    "    data_dict = {}\n",
    "    product_req = requests.get(product_page)\n",
    "    product_soup = BeautifulSoup(product_req.content)\n",
    "    \n",
    "    # get name\n",
    "    name_meta_tag = product_soup.html.find('meta', attrs = {'name': 'twitter:title'})\n",
    "    data_dict.update({'name': name_meta_tag['content'] })\n",
    "    \n",
    "    # get product facts and extract information\n",
    "\n",
    "    prod_fact = product_soup.find('ul', class_ = \"product-facts\" )\n",
    "    \n",
    "    # loops through to update data_dict with bottling information\n",
    "    for elem in prod_fact.find_all('li'):\n",
    "    \n",
    "        detail_key = elem.find('h3', class_ = \"product-facts__type\").text\n",
    "        detail_val = elem.find('p', class_ = \"product-facts__data\").text\n",
    "        data_dict.update({detail_key: detail_val})\n",
    "    \n",
    "    # get flavor ratings\n",
    "    flavor_style = product_soup.find('div', class_ = \"flavour-profile\").div\n",
    "    flav_profile_keys = [ span.text for span in flavor_style.find_all('span', class_ = 'flavour-profile__label') ]\n",
    "    value_list = [gauge['data-text'] for gauge in flavor_style.find_all('div', class_ = 'flavour-profile__gauge')]\n",
    "    data_dict.update(dict(zip(flav_profile_keys, value_list)))\n",
    "\n",
    "    return data_dict"
   ]
  },
  {
   "cell_type": "markdown",
   "id": "ce792491",
   "metadata": {
    "slideshow": {
     "slide_type": "slide"
    }
   },
   "source": [
    "Use function on a product page url:"
   ]
  },
  {
   "cell_type": "code",
   "execution_count": null,
   "id": "2ddf56f2",
   "metadata": {
    "slideshow": {
     "slide_type": "fragment"
    }
   },
   "outputs": [],
   "source": [
    "extract_data_dict('https://www.thewhiskyexchange.com/p/114/ardbeg-uigeadail')\n",
    "#extract_data_dict('https://www.thewhiskyexchange.com/p/12827/bunnahabhain-12-year-old')"
   ]
  },
  {
   "cell_type": "markdown",
   "id": "c6477fb1",
   "metadata": {
    "slideshow": {
     "slide_type": "slide"
    }
   },
   "source": [
    "#### Crawling a page of products"
   ]
  },
  {
   "cell_type": "markdown",
   "id": "b5b51550",
   "metadata": {
    "cell_style": "center",
    "slideshow": {
     "slide_type": "fragment"
    }
   },
   "source": [
    "Let's end this by applying our function to a page with a list of products:\n",
    "- need to extract product list\n",
    "- get link urls\n",
    "- apply our function to the link urls."
   ]
  },
  {
   "cell_type": "markdown",
   "id": "e8acc397",
   "metadata": {
    "cell_style": "center",
    "slideshow": {
     "slide_type": "slide"
    }
   },
   "source": [
    "Soupify the products page."
   ]
  },
  {
   "cell_type": "code",
   "execution_count": null,
   "id": "95096aee",
   "metadata": {
    "cell_style": "center",
    "slideshow": {
     "slide_type": "fragment"
    }
   },
   "outputs": [],
   "source": [
    "scotchproducts_page = \"https://www.thewhiskyexchange.com/c/40/single-malt-scotch-whisky\"\n",
    "prodpage_req = requests.get(scotchproducts_page)\n",
    "scotchproducts_soup = BeautifulSoup(prodpage_req.content)"
   ]
  },
  {
   "cell_type": "markdown",
   "id": "230afa94",
   "metadata": {
    "cell_style": "center",
    "slideshow": {
     "slide_type": "slide"
    }
   },
   "source": [
    "Parse the source code and get a list of the product urls:"
   ]
  },
  {
   "cell_type": "code",
   "execution_count": null,
   "id": "9380fa19",
   "metadata": {
    "scrolled": true,
    "slideshow": {
     "slide_type": "fragment"
    }
   },
   "outputs": [],
   "source": [
    "li_items = scotchproducts_soup.find_all('li', class_=\"product-grid__item\")\n",
    "prod_urls = [ 'https://www.thewhiskyexchange.com' + elem.a['href'] for elem in li_items][0:10]\n",
    "prod_urls"
   ]
  },
  {
   "cell_type": "markdown",
   "id": "a6ebe454",
   "metadata": {
    "cell_style": "split",
    "slideshow": {
     "slide_type": "slide"
    }
   },
   "source": [
    "Now apply our function:\n",
    "- Thread it through the list\n",
    "- map() is useful here.\n",
    "\n",
    "A list of dicts."
   ]
  },
  {
   "cell_type": "code",
   "execution_count": null,
   "id": "58a04d71",
   "metadata": {
    "cell_style": "split",
    "slideshow": {
     "slide_type": "fragment"
    }
   },
   "outputs": [],
   "source": [
    "extracted_data = \\\n",
    "list(map(extract_data_dict, prod_urls))\n",
    "\n",
    "extracted_data"
   ]
  },
  {
   "cell_type": "markdown",
   "id": "e6f58bd7",
   "metadata": {
    "slideshow": {
     "slide_type": "slide"
    }
   },
   "source": [
    "This is a tabular format:\n",
    "- put this in a dataframe.\n",
    "- can save to csv, etc."
   ]
  },
  {
   "cell_type": "code",
   "execution_count": null,
   "id": "e52517b5",
   "metadata": {
    "cell_style": "center",
    "scrolled": true,
    "slideshow": {
     "slide_type": "fragment"
    }
   },
   "outputs": [],
   "source": [
    "import pandas as pd\n",
    "whisky_df = pd.DataFrame(extracted_data)\n",
    "whisky_df"
   ]
  },
  {
   "cell_type": "markdown",
   "id": "aed5c99b",
   "metadata": {
    "cell_style": "split",
    "slideshow": {
     "slide_type": "slide"
    }
   },
   "source": [
    "If you want to scrape the entire set of product pages:\n",
    "- need to loop through product list pages.\n",
    "- extract all urls.\n",
    "- apply function to url list."
   ]
  },
  {
   "cell_type": "markdown",
   "id": "c5585ac3",
   "metadata": {
    "cell_style": "split",
    "slideshow": {
     "slide_type": "fragment"
    }
   },
   "source": [
    "**Not always easy**\n",
    "- Some product pages have some tag elements missing\n",
    "- slightly different page structure.\n",
    "- Error handling required."
   ]
  },
  {
   "cell_type": "markdown",
   "id": "423f3e86",
   "metadata": {
    "slideshow": {
     "slide_type": "slide"
    }
   },
   "source": [
    "#### A final important etiquette note"
   ]
  },
  {
   "cell_type": "markdown",
   "id": "b2147d8c",
   "metadata": {
    "cell_style": "split",
    "slideshow": {
     "slide_type": "fragment"
    }
   },
   "source": [
    "**Throttle requests**\n",
    "- limit the time between each request/product page scrape\n",
    "- server limits scrape rate: \n",
    "    - cut access to you if you scrape too much, too fast"
   ]
  },
  {
   "cell_type": "markdown",
   "id": "f1345521",
   "metadata": {
    "cell_style": "split",
    "slideshow": {
     "slide_type": "fragment"
    }
   },
   "source": [
    "- time.sleep(t)\n",
    "- t is in seconds\n",
    "\n",
    "Try every second."
   ]
  },
  {
   "cell_type": "code",
   "execution_count": null,
   "id": "bef5239c",
   "metadata": {
    "slideshow": {
     "slide_type": "slide"
    }
   },
   "outputs": [],
   "source": [
    "import time\n",
    "\n",
    "def extract_data_dict(product_page):\n",
    "    \n",
    "    # essential to not getting blocked by server\n",
    "    time.sleep(1) #this waits 500 ms before executing code\n",
    "    \n",
    "    data_dict = {}\n",
    "    product_req = requests.get(product_page)\n",
    "    product_soup = BeautifulSoup(product_req.content)\n",
    "    \n",
    "    # get name\n",
    "    name_meta_tag = product_soup.html.find('meta', attrs = {'name': 'twitter:title'})\n",
    "    data_dict.update({'name': name_meta_tag['content'] })\n",
    "    \n",
    "    # get product facts and extract information\n",
    "\n",
    "    prod_fact = product_soup.find('ul', class_ = \"product-facts\" )\n",
    "    \n",
    "    # loops through to update data_dict with bottling information\n",
    "    for elem in prod_fact.find_all('li'):\n",
    "    \n",
    "        detail_key = elem.find('h3', class_ = \"product-facts__type\").text\n",
    "        detail_val = elem.find('p', class_ = \"product-facts__data\").text\n",
    "        data_dict.update({detail_key: detail_val})\n",
    "    \n",
    "    # get flavor ratings\n",
    "    flavor_style = product_soup.find('div', class_ = \"flavour-profile\").div\n",
    "    flav_profile_keys = [ span.text for span in flavor_style.find_all('span', class_ = 'flavour-profile__label') ]\n",
    "    value_list = [gauge['data-text'] for gauge in flavor_style.find_all('div', class_ = 'flavour-profile__gauge')]\n",
    "    data_dict.update(dict(zip(flav_profile_keys, value_list)))\n",
    "\n",
    "    return data_dict"
   ]
  },
  {
   "cell_type": "markdown",
   "id": "23fad971",
   "metadata": {
    "slideshow": {
     "slide_type": "slide"
    }
   },
   "source": [
    "Running the data extractor will take more time:"
   ]
  },
  {
   "cell_type": "code",
   "execution_count": null,
   "id": "4d072965",
   "metadata": {
    "slideshow": {
     "slide_type": "fragment"
    }
   },
   "outputs": [],
   "source": [
    "extracted_data = \\\n",
    "list(map(extract_data_dict, prod_urls))\n",
    "\n",
    "extracted_data"
   ]
  },
  {
   "cell_type": "markdown",
   "id": "48c89c04",
   "metadata": {
    "slideshow": {
     "slide_type": "slide"
    }
   },
   "source": [
    "Given:\n",
    "\n",
    "- errors might pop up\n",
    "- connection may be severed\n",
    "- with wait time: takes a long time\n",
    "\n",
    "Good idea to append requested data to a .json or .csv file as you scrape.\n"
   ]
  }
 ],
 "metadata": {
  "kernelspec": {
   "display_name": "dplearn",
   "language": "python",
   "name": "dplearn"
  },
  "language_info": {
   "codemirror_mode": {
    "name": "ipython",
    "version": 3
   },
   "file_extension": ".py",
   "mimetype": "text/x-python",
   "name": "python",
   "nbconvert_exporter": "python",
   "pygments_lexer": "ipython3",
   "version": "3.7.5"
  }
 },
 "nbformat": 4,
 "nbformat_minor": 5
}
