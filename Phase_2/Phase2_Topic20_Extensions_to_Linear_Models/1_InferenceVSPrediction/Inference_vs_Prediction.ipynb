{
 "cells": [
  {
   "cell_type": "markdown",
   "id": "72b59ac9",
   "metadata": {
    "slideshow": {
     "slide_type": "slide"
    }
   },
   "source": [
    "<div style=\"color:white;\n",
    "           display:fill;\n",
    "           border-radius:5px;\n",
    "           background-color:#5642C5;\n",
    "           font-size:200%;\n",
    "           font-family:Arial;letter-spacing:0.5px\">\n",
    "\n",
    "<p width = 20%, style=\"padding: 10px;\n",
    "              color:white;\">\n",
    "Inference and Prediction \n",
    "              \n",
    "</p>\n",
    "</div>\n",
    "\n",
    "Data Science Cohort Live NYC Oct 2022\n",
    "<p>Phase 2: Topic 20</p>\n",
    "<br>\n",
    "<br>\n",
    "\n",
    "<div align = \"right\">\n",
    "<img src=\"Images/flatiron-school-logo.png\" align = \"right\" width=\"200\"/>\n",
    "</div>\n",
    "    \n",
    "    "
   ]
  },
  {
   "cell_type": "markdown",
   "id": "a57c41d2",
   "metadata": {
    "cell_style": "center",
    "slideshow": {
     "slide_type": "slide"
    }
   },
   "source": [
    "**Inference**\n",
    "\n",
    "- Hypothesis testing based on limited information."
   ]
  },
  {
   "cell_type": "markdown",
   "id": "3a65bc12",
   "metadata": {
    "cell_style": "center",
    "slideshow": {
     "slide_type": "slide"
    }
   },
   "source": [
    "**In the context of t-testing on means**:"
   ]
  },
  {
   "cell_type": "markdown",
   "id": "5e6a4fbd",
   "metadata": {
    "cell_style": "split",
    "slideshow": {
     "slide_type": "fragment"
    }
   },
   "source": [
    "The **sample mean** of the Gabonese elephants vs. the mean of the savannah population.\n",
    "\n",
    "Is there a significant difference between the Gabonese and general Savannah population?"
   ]
  },
  {
   "cell_type": "markdown",
   "id": "a49c29cb",
   "metadata": {
    "cell_style": "split",
    "slideshow": {
     "slide_type": "fragment"
    }
   },
   "source": [
    "<center><img src = \"Images/elephants.jpg\" align = center width = 400></center>\n",
    "<center>Forest vs. Savannah elephants</center>"
   ]
  },
  {
   "cell_type": "markdown",
   "id": "cb566d5a",
   "metadata": {
    "slideshow": {
     "slide_type": "slide"
    }
   },
   "source": [
    "**In the context of chi-squared testing**:"
   ]
  },
  {
   "cell_type": "markdown",
   "id": "75eb780e",
   "metadata": {
    "cell_style": "split",
    "slideshow": {
     "slide_type": "fragment"
    }
   },
   "source": [
    "Character classes preferences for MMORPG players:\n",
    "- UK **sample count distribution**.\n",
    "- Expected from US population.\n",
    "\n",
    "Is there a significant difference in class preferences between UK and US users?"
   ]
  },
  {
   "cell_type": "markdown",
   "id": "e299ef4f",
   "metadata": {
    "cell_style": "split",
    "slideshow": {
     "slide_type": "fragment"
    }
   },
   "source": [
    "<center><img src = \"Images/mmorpg.png\" align = \"center\" width = 800 /></center>\n",
    "<center>Bombergirl looks like some fun.</center>"
   ]
  },
  {
   "cell_type": "markdown",
   "id": "72612bc8",
   "metadata": {
    "slideshow": {
     "slide_type": "slide"
    }
   },
   "source": [
    "**In the context of linear regression**:"
   ]
  },
  {
   "cell_type": "markdown",
   "id": "c90c8400",
   "metadata": {
    "cell_style": "split",
    "slideshow": {
     "slide_type": "fragment"
    }
   },
   "source": [
    "\n",
    "\n",
    "- Does the total population in a country have any correlation with its average life expectancy?\n",
    "- Which factors can be said to have **statistically significant** effects on explaining the variance in life expectancy?\n",
    "- What is the weight of each factor? What is our uncertainty in this weight?"
   ]
  },
  {
   "cell_type": "markdown",
   "id": "1a3fd0c0",
   "metadata": {
    "cell_style": "split",
    "slideshow": {
     "slide_type": "fragment"
    }
   },
   "source": [
    "<center><img src = \"Images/jaffer.png\" width = 400></center>\n",
    "<center>You are keeping him waiting for answers...</center>"
   ]
  },
  {
   "cell_type": "markdown",
   "id": "15444642",
   "metadata": {
    "cell_style": "center",
    "slideshow": {
     "slide_type": "slide"
    }
   },
   "source": [
    "- Get data.\n",
    "- Make inference from a statistic/estimator based off the data (sample):\n",
    "    - sample mean $\\bar{X}$\n",
    "    - sample median\n",
    "    - $\\hat{\\beta}_1$, $\\hat{\\beta}_0$ from linear regression on dataset."
   ]
  },
  {
   "cell_type": "code",
   "execution_count": 1,
   "id": "79268396",
   "metadata": {
    "cell_style": "center",
    "slideshow": {
     "slide_type": "fragment"
    }
   },
   "outputs": [],
   "source": [
    "import pandas as pd\n",
    "import numpy as np\n",
    "#load WHO dataset: all countries health data 2001-2015\n",
    "WHO_df = pd.read_csv('Data/WHO_life.csv').dropna()\n",
    "\n",
    "# stripping white space on column names\n",
    "WHO_df.columns = WHO_df.columns.str.strip() # takes away the spacing"
   ]
  },
  {
   "cell_type": "code",
   "execution_count": 2,
   "id": "adf8fe18",
   "metadata": {
    "cell_style": "center",
    "scrolled": false,
    "slideshow": {
     "slide_type": "slide"
    }
   },
   "outputs": [
    {
     "name": "stdout",
     "output_type": "stream",
     "text": [
      "<class 'pandas.core.frame.DataFrame'>\n",
      "Int64Index: 1649 entries, 0 to 2937\n",
      "Data columns (total 22 columns):\n",
      " #   Column                           Non-Null Count  Dtype  \n",
      "---  ------                           --------------  -----  \n",
      " 0   Country                          1649 non-null   object \n",
      " 1   Year                             1649 non-null   int64  \n",
      " 2   Status                           1649 non-null   object \n",
      " 3   Life expectancy                  1649 non-null   float64\n",
      " 4   Adult Mortality                  1649 non-null   float64\n",
      " 5   infant deaths                    1649 non-null   int64  \n",
      " 6   Alcohol                          1649 non-null   float64\n",
      " 7   percentage expenditure           1649 non-null   float64\n",
      " 8   Hepatitis B                      1649 non-null   float64\n",
      " 9   Measles                          1649 non-null   int64  \n",
      " 10  BMI                              1649 non-null   float64\n",
      " 11  under-five deaths                1649 non-null   int64  \n",
      " 12  Polio                            1649 non-null   float64\n",
      " 13  Total expenditure                1649 non-null   float64\n",
      " 14  Diphtheria                       1649 non-null   float64\n",
      " 15  HIV/AIDS                         1649 non-null   float64\n",
      " 16  GDP                              1649 non-null   float64\n",
      " 17  Population                       1649 non-null   float64\n",
      " 18  thinness  1-19 years             1649 non-null   float64\n",
      " 19  thinness 5-9 years               1649 non-null   float64\n",
      " 20  Income composition of resources  1649 non-null   float64\n",
      " 21  Schooling                        1649 non-null   float64\n",
      "dtypes: float64(16), int64(4), object(2)\n",
      "memory usage: 296.3+ KB\n"
     ]
    }
   ],
   "source": [
    "WHO_df.info()"
   ]
  },
  {
   "cell_type": "markdown",
   "id": "7b949387",
   "metadata": {
    "slideshow": {
     "slide_type": "slide"
    }
   },
   "source": [
    "Let's drop some columns that are too obviously correlated with the life expectancy (e.g., adult mortality, as an example). Also let's try and see if we can develop a robust relationship that is applicable across country or country status. Let's also remove the year as a variable (data is over the past 15 years."
   ]
  },
  {
   "cell_type": "code",
   "execution_count": 3,
   "id": "51dc1351",
   "metadata": {
    "slideshow": {
     "slide_type": "fragment"
    }
   },
   "outputs": [],
   "source": [
    "X = WHO_df.drop(columns = ['Adult Mortality', 'infant deaths', 'Year', 'Status', 'Country', 'Life expectancy'])"
   ]
  },
  {
   "cell_type": "code",
   "execution_count": 4,
   "id": "2a6c96ed",
   "metadata": {
    "slideshow": {
     "slide_type": "slide"
    }
   },
   "outputs": [
    {
     "data": {
      "image/png": "[encoded data removed]",
      "text/plain": [
       "<Figure size 1008x432 with 2 Axes>"
      ]
     },
     "metadata": {
      "needs_background": "light"
     },
     "output_type": "display_data"
    }
   ],
   "source": [
    "import matplotlib.pyplot as plt\n",
    "import seaborn as sns\n",
    "sns.set_context(\"notebook\")\n",
    "sns.set_palette(\"tab10\")\n",
    "\n",
    "plt.figure(figsize=(14, 6))\n",
    "sns.heatmap(X.corr(), annot=True)\n",
    "\n",
    "plt.title('Correlation Matrix for Features')\n",
    "#plt.savefig(\"corrmat.jpg\", dpi = 300)\n",
    "plt.show()"
   ]
  },
  {
   "cell_type": "code",
   "execution_count": 5,
   "id": "f7548105",
   "metadata": {
    "cell_style": "center",
    "slideshow": {
     "slide_type": "slide"
    }
   },
   "outputs": [],
   "source": [
    "# standardization\n",
    "feature_cols = ['HIV/AIDS', 'BMI', 'Polio', 'Population', 'Alcohol', 'GDP','Schooling']\n",
    "X = WHO_df[feature_cols]\n",
    "# standardize features\n",
    "X_standard = X.apply(lambda x: (x - x.mean())/x.std() )\n",
    "y = WHO_df['Life expectancy']\n",
    "y_standard = (y - y.mean())/y.std()"
   ]
  },
  {
   "cell_type": "code",
   "execution_count": 6,
   "id": "891367c0",
   "metadata": {
    "slideshow": {
     "slide_type": "fragment"
    }
   },
   "outputs": [],
   "source": [
    "#or standardize by bringing in into a whole scaler\n",
    "from sklearn.preprocessing import StandardScaler\n",
    "scaler = StandardScaler()\n",
    "X_scaled =scaler.fit_transform(X)\n",
    "\n",
    "# turn into dataframes\n",
    "X_standard = pd.DataFrame(X_scaled,\n",
    "                          columns=X.columns,\n",
    "                          index=X.index)"
   ]
  },
  {
   "cell_type": "markdown",
   "id": "d998918a",
   "metadata": {
    "slideshow": {
     "slide_type": "slide"
    }
   },
   "source": [
    "Which of these factors affect life expectancy? Their relative weights?\n",
    "\n",
    "- Confidence intervals of weights\n",
    "- Key here is *understanding* of relationships between dependent and independent variables.\n",
    "- Minimal model explaining variance.\n",
    "\n",
    "We did this kind of statistical inference with statsmodels."
   ]
  },
  {
   "cell_type": "code",
   "execution_count": 7,
   "id": "bb11c6d5",
   "metadata": {
    "slideshow": {
     "slide_type": "slide"
    }
   },
   "outputs": [],
   "source": [
    "import statsmodels.api as sm\n",
    "# extensiate\n",
    "X_aug = sm.add_constant(X_standard)\n",
    "# fit\n",
    "res = sm.OLS(y_standard, X_aug).fit()"
   ]
  },
  {
   "cell_type": "code",
   "execution_count": 8,
   "id": "14be3476",
   "metadata": {
    "slideshow": {
     "slide_type": "fragment"
    }
   },
   "outputs": [
    {
     "data": {
      "text/html": [
       "<table class=\"simpletable\">\n",
       "<caption>OLS Regression Results</caption>\n",
       "<tr>\n",
       "  <th>Dep. Variable:</th>     <td>Life expectancy</td> <th>  R-squared:         </th> <td>   0.760</td>\n",
       "</tr>\n",
       "<tr>\n",
       "  <th>Model:</th>                   <td>OLS</td>       <th>  Adj. R-squared:    </th> <td>   0.759</td>\n",
       "</tr>\n",
       "<tr>\n",
       "  <th>Method:</th>             <td>Least Squares</td>  <th>  F-statistic:       </th> <td>   744.3</td>\n",
       "</tr>\n",
       "<tr>\n",
       "  <th>Date:</th>             <td>Thu, 20 Oct 2022</td> <th>  Prob (F-statistic):</th>  <td>  0.00</td> \n",
       "</tr>\n",
       "<tr>\n",
       "  <th>Time:</th>                 <td>11:42:34</td>     <th>  Log-Likelihood:    </th> <td> -1161.0</td>\n",
       "</tr>\n",
       "<tr>\n",
       "  <th>No. Observations:</th>      <td>  1649</td>      <th>  AIC:               </th> <td>   2338.</td>\n",
       "</tr>\n",
       "<tr>\n",
       "  <th>Df Residuals:</th>          <td>  1641</td>      <th>  BIC:               </th> <td>   2381.</td>\n",
       "</tr>\n",
       "<tr>\n",
       "  <th>Df Model:</th>              <td>     7</td>      <th>                     </th>     <td> </td>   \n",
       "</tr>\n",
       "<tr>\n",
       "  <th>Covariance Type:</th>      <td>nonrobust</td>    <th>                     </th>     <td> </td>   \n",
       "</tr>\n",
       "</table>\n",
       "<table class=\"simpletable\">\n",
       "<tr>\n",
       "       <td></td>         <th>coef</th>     <th>std err</th>      <th>t</th>      <th>P>|t|</th>  <th>[0.025</th>    <th>0.975]</th>  \n",
       "</tr>\n",
       "<tr>\n",
       "  <th>const</th>      <td>-2.538e-15</td> <td>    0.012</td> <td> -2.1e-13</td> <td> 1.000</td> <td>   -0.024</td> <td>    0.024</td>\n",
       "</tr>\n",
       "<tr>\n",
       "  <th>HIV/AIDS</th>   <td>   -0.4367</td> <td>    0.013</td> <td>  -34.667</td> <td> 0.000</td> <td>   -0.461</td> <td>   -0.412</td>\n",
       "</tr>\n",
       "<tr>\n",
       "  <th>BMI</th>        <td>    0.1412</td> <td>    0.015</td> <td>    9.629</td> <td> 0.000</td> <td>    0.112</td> <td>    0.170</td>\n",
       "</tr>\n",
       "<tr>\n",
       "  <th>Polio</th>      <td>    0.0693</td> <td>    0.013</td> <td>    5.366</td> <td> 0.000</td> <td>    0.044</td> <td>    0.095</td>\n",
       "</tr>\n",
       "<tr>\n",
       "  <th>Population</th> <td>    0.0017</td> <td>    0.012</td> <td>    0.141</td> <td> 0.888</td> <td>   -0.022</td> <td>    0.026</td>\n",
       "</tr>\n",
       "<tr>\n",
       "  <th>Alcohol</th>    <td>   -0.0396</td> <td>    0.016</td> <td>   -2.487</td> <td> 0.013</td> <td>   -0.071</td> <td>   -0.008</td>\n",
       "</tr>\n",
       "<tr>\n",
       "  <th>GDP</th>        <td>    0.1314</td> <td>    0.014</td> <td>    9.361</td> <td> 0.000</td> <td>    0.104</td> <td>    0.159</td>\n",
       "</tr>\n",
       "<tr>\n",
       "  <th>Schooling</th>  <td>    0.4953</td> <td>    0.019</td> <td>   26.746</td> <td> 0.000</td> <td>    0.459</td> <td>    0.532</td>\n",
       "</tr>\n",
       "</table>\n",
       "<table class=\"simpletable\">\n",
       "<tr>\n",
       "  <th>Omnibus:</th>       <td>16.028</td> <th>  Durbin-Watson:     </th> <td>   0.434</td>\n",
       "</tr>\n",
       "<tr>\n",
       "  <th>Prob(Omnibus):</th> <td> 0.000</td> <th>  Jarque-Bera (JB):  </th> <td>  18.402</td>\n",
       "</tr>\n",
       "<tr>\n",
       "  <th>Skew:</th>          <td>-0.173</td> <th>  Prob(JB):          </th> <td>0.000101</td>\n",
       "</tr>\n",
       "<tr>\n",
       "  <th>Kurtosis:</th>      <td> 3.384</td> <th>  Cond. No.          </th> <td>    2.91</td>\n",
       "</tr>\n",
       "</table><br/><br/>Notes:<br/>[1] Standard Errors assume that the covariance matrix of the errors is correctly specified."
      ],
      "text/plain": [
       "<class 'statsmodels.iolib.summary.Summary'>\n",
       "\"\"\"\n",
       "                            OLS Regression Results                            \n",
       "==============================================================================\n",
       "Dep. Variable:        Life expectancy   R-squared:                       0.760\n",
       "Model:                            OLS   Adj. R-squared:                  0.759\n",
       "Method:                 Least Squares   F-statistic:                     744.3\n",
       "Date:                Thu, 20 Oct 2022   Prob (F-statistic):               0.00\n",
       "Time:                        11:42:34   Log-Likelihood:                -1161.0\n",
       "No. Observations:                1649   AIC:                             2338.\n",
       "Df Residuals:                    1641   BIC:                             2381.\n",
       "Df Model:                           7                                         \n",
       "Covariance Type:            nonrobust                                         \n",
       "==============================================================================\n",
       "                 coef    std err          t      P>|t|      [0.025      0.975]\n",
       "------------------------------------------------------------------------------\n",
       "const      -2.538e-15      0.012   -2.1e-13      1.000      -0.024       0.024\n",
       "HIV/AIDS      -0.4367      0.013    -34.667      0.000      -0.461      -0.412\n",
       "BMI            0.1412      0.015      9.629      0.000       0.112       0.170\n",
       "Polio          0.0693      0.013      5.366      0.000       0.044       0.095\n",
       "Population     0.0017      0.012      0.141      0.888      -0.022       0.026\n",
       "Alcohol       -0.0396      0.016     -2.487      0.013      -0.071      -0.008\n",
       "GDP            0.1314      0.014      9.361      0.000       0.104       0.159\n",
       "Schooling      0.4953      0.019     26.746      0.000       0.459       0.532\n",
       "==============================================================================\n",
       "Omnibus:                       16.028   Durbin-Watson:                   0.434\n",
       "Prob(Omnibus):                  0.000   Jarque-Bera (JB):               18.402\n",
       "Skew:                          -0.173   Prob(JB):                     0.000101\n",
       "Kurtosis:                       3.384   Cond. No.                         2.91\n",
       "==============================================================================\n",
       "\n",
       "Notes:\n",
       "[1] Standard Errors assume that the covariance matrix of the errors is correctly specified.\n",
       "\"\"\""
      ]
     },
     "execution_count": 8,
     "metadata": {},
     "output_type": "execute_result"
    }
   ],
   "source": [
    "res.summary()\n",
    "# population p value has no affect on predicting life expectancy\n",
    "# const is 0 \n",
    "# low p value says it has some importance, \n",
    "# schooling for every increase in std the y value increase by 0.4953 (because it standardized)\n",
    "# variables has the most influence: schooling, polio, HIV"
   ]
  },
  {
   "cell_type": "markdown",
   "id": "ff774575",
   "metadata": {
    "slideshow": {
     "slide_type": "slide"
    }
   },
   "source": [
    "#### Prediction"
   ]
  },
  {
   "cell_type": "markdown",
   "id": "fdfb4d5d",
   "metadata": {
    "slideshow": {
     "slide_type": "fragment"
    }
   },
   "source": [
    "Emphasis is different:\n",
    "- Want to build a little machine:"
   ]
  },
  {
   "cell_type": "markdown",
   "id": "bcfac754",
   "metadata": {
    "cell_style": "center",
    "slideshow": {
     "slide_type": "fragment"
    }
   },
   "source": [
    "<center><img src = \"Images/machine-learning-prediction.png\" /></center>"
   ]
  },
  {
   "cell_type": "markdown",
   "id": "f2295ad9",
   "metadata": {
    "cell_style": "center",
    "slideshow": {
     "slide_type": "slide"
    }
   },
   "source": [
    "E.g.,\n",
    "\n",
    "- Input: Features reflecting socioeconomic factors of Zamunda  \n",
    "    \n",
    "- Output: Life expectancy of Zamunda\n",
    "\n",
    "<center><img src = \"Images/machine-learning-prediction.png\" /></center>"
   ]
  },
  {
   "cell_type": "markdown",
   "id": "fe93b818",
   "metadata": {
    "cell_style": "center",
    "slideshow": {
     "slide_type": "fragment"
    }
   },
   "source": [
    "- Getting good estimates of feature weights, their confidence intervals matter less here.\n",
    "- Less emphasis on building minimal explanatory model.\n",
    "- As long as it improves performance of machine, add more predictors\n"
   ]
  },
  {
   "cell_type": "markdown",
   "id": "42d02514",
   "metadata": {
    "slideshow": {
     "slide_type": "slide"
    }
   },
   "source": [
    "![which model is better](images/which_model_is_better.png)"
   ]
  },
  {
   "cell_type": "code",
   "execution_count": null,
   "id": "8e2d55b3",
   "metadata": {},
   "outputs": [],
   "source": [
    "# best is quadratic model - \n",
    "#if R2 is 1, check your work, it's overfitted\n",
    "# last one (polynomial) is overfiting"
   ]
  },
  {
   "cell_type": "markdown",
   "id": "198f3505",
   "metadata": {
    "slideshow": {
     "slide_type": "-"
    }
   },
   "source": [
    "- We don’t ultimately care about how well your model fits your data.\n",
    "- What we really care about is how well your model describes the process that generated your data.\n",
    "- Why? Because the data set you have is but one sample from a universe of possible data sets, and you want a model that would work for any data set from that universe."
   ]
  },
  {
   "cell_type": "markdown",
   "id": "05339666",
   "metadata": {
    "cell_style": "center",
    "slideshow": {
     "slide_type": "slide"
    }
   },
   "source": [
    "**Prediction Mode**\n",
    "1. Use data (sample) to train model.\n",
    "2. How well, on the average, does model **simulate** process (population) that generated sample? Evaluate/test model.\n",
    "3. Use model to make prediction on new data."
   ]
  },
  {
   "cell_type": "markdown",
   "id": "5102720a",
   "metadata": {
    "cell_style": "split",
    "slideshow": {
     "slide_type": "fragment"
    }
   },
   "source": [
    "Statsmodels good for statistical inference.\n",
    "- Scikit-learn good for training/testing/prediction.\n",
    "- Designed as general machine-learning framework"
   ]
  },
  {
   "cell_type": "markdown",
   "id": "dfb92eb2",
   "metadata": {
    "cell_style": "split",
    "slideshow": {
     "slide_type": "fragment"
    }
   },
   "source": [
    "<img src = \"Images/sklearn.png\" width = 600/>"
   ]
  },
  {
   "cell_type": "markdown",
   "id": "8e343ac6",
   "metadata": {
    "slideshow": {
     "slide_type": "fragment"
    }
   },
   "source": [
    "Let's use linear regression in scikit-learn."
   ]
  },
  {
   "cell_type": "code",
   "execution_count": 10,
   "id": "d1e1bd9c",
   "metadata": {
    "slideshow": {
     "slide_type": "slide"
    }
   },
   "outputs": [],
   "source": [
    "from sklearn.linear_model import LinearRegression\n",
    "from sklearn.model_selection import train_test_split\n",
    "\n",
    "from sklearn.metrics import mean_absolute_error\n",
    "from sklearn.metrics import mean_squared_error\n",
    "from sklearn.metrics import r2_score\n"
   ]
  },
  {
   "cell_type": "markdown",
   "id": "496418e4",
   "metadata": {
    "slideshow": {
     "slide_type": "slide"
    }
   },
   "source": [
    "Define the linear regression model"
   ]
  },
  {
   "cell_type": "code",
   "execution_count": 11,
   "id": "e22fe74e",
   "metadata": {
    "slideshow": {
     "slide_type": "fragment"
    }
   },
   "outputs": [
    {
     "data": {
      "text/plain": [
       "LinearRegression()"
      ]
     },
     "execution_count": 11,
     "metadata": {},
     "output_type": "execute_result"
    }
   ],
   "source": [
    "# extensiate the model\n",
    "lr = LinearRegression()\n",
    "lr"
   ]
  },
  {
   "cell_type": "markdown",
   "id": "cae180ff",
   "metadata": {
    "cell_style": "split",
    "slideshow": {
     "slide_type": "slide"
    }
   },
   "source": [
    "Training a model\n",
    "- Training: model optimizes parameters to best fit the data. Weights (coeff., beta)\n",
    "- In this case: fit regression coefficients minimizing least squared error.\n",
    "- Essentially creates your prediction machine."
   ]
  },
  {
   "cell_type": "markdown",
   "id": "c4fc8d86",
   "metadata": {
    "cell_style": "split",
    "slideshow": {
     "slide_type": "fragment"
    }
   },
   "source": [
    "Testing a model\n",
    "- Take data model has never seen.\n",
    "- How well does modeling predict (generalize) on data it hasn't optimized to?"
   ]
  },
  {
   "cell_type": "markdown",
   "id": "a0435b55",
   "metadata": {
    "cell_style": "split",
    "slideshow": {
     "slide_type": "slide"
    }
   },
   "source": [
    "Need to do both.\n",
    "- In practice: split dataset into train and test sets.\n",
    "- Training set: optimize model on.\n",
    "- Test set: evaluate model performance."
   ]
  },
  {
   "cell_type": "markdown",
   "id": "e9731d8d",
   "metadata": {
    "cell_style": "split",
    "slideshow": {
     "slide_type": "fragment"
    }
   },
   "source": [
    "Scikit-learn:\n",
    "\n",
    "Has function to do this.\n",
    "\n",
    "train_test_split(X, y, test_size = ...)\n",
    "- Shuffles data\n",
    "- Leaves some fraction for testing and the rest for training."
   ]
  },
  {
   "cell_type": "code",
   "execution_count": 12,
   "id": "f54f626c",
   "metadata": {
    "slideshow": {
     "slide_type": "slide"
    }
   },
   "outputs": [],
   "source": [
    "# For this, I haven't standardized. Want the actual life expectancy.\n",
    "# Take all the relevant columns \n",
    "col_selector = ['HIV/AIDS', 'Hepatitis B', 'BMI', 'Population', 'Polio',\n",
    "                'Alcohol', 'GDP', 'Measles','Total expenditure', 'Schooling', 'thinness  1-19 years']\n",
    "X = WHO_df[col_selector]\n",
    "X_train, X_test, y_train, y_test = train_test_split(X, y, test_size=0.3, random_state = 42)\n",
    "#random state will keep it the same, to reproduce stability"
   ]
  },
  {
   "cell_type": "code",
   "execution_count": 13,
   "id": "dc6ca5e0",
   "metadata": {
    "slideshow": {
     "slide_type": "fragment"
    }
   },
   "outputs": [
    {
     "name": "stdout",
     "output_type": "stream",
     "text": [
      "1154\n",
      "495\n"
     ]
    }
   ],
   "source": [
    "print(len(X_train))\n",
    "print(len(X_test))"
   ]
  },
  {
   "cell_type": "markdown",
   "id": "0b553cec",
   "metadata": {
    "slideshow": {
     "slide_type": "slide"
    }
   },
   "source": [
    "#### Creating our prediction machine\n",
    "- Train the model\n",
    "- .fit(X,y) method trains the model"
   ]
  },
  {
   "cell_type": "code",
   "execution_count": 14,
   "id": "2e3442fe",
   "metadata": {
    "slideshow": {
     "slide_type": "fragment"
    }
   },
   "outputs": [
    {
     "data": {
      "text/plain": [
       "LinearRegression()"
      ]
     },
     "execution_count": 14,
     "metadata": {},
     "output_type": "execute_result"
    }
   ],
   "source": [
    "lr.fit(X_train, y_train) # estimating thoes weights, betas"
   ]
  },
  {
   "cell_type": "markdown",
   "id": "77900a1f",
   "metadata": {
    "slideshow": {
     "slide_type": "slide"
    }
   },
   "source": [
    "Get the \"learned\" weights:\n",
    "- Minimizing least squares objective function on training data.\n",
    "- i.e. fit coefficients using training data."
   ]
  },
  {
   "cell_type": "code",
   "execution_count": 15,
   "id": "c099f6cc",
   "metadata": {
    "slideshow": {
     "slide_type": "fragment"
    }
   },
   "outputs": [
    {
     "data": {
      "text/plain": [
       "array([-5.99939011e-01, -2.53022559e-03,  4.36734823e-02,  2.22047759e-09,\n",
       "        2.55627176e-02, -1.62077203e-01,  9.31939859e-05,  1.59095006e-05,\n",
       "        1.11666913e-01,  1.61456855e+00, -1.33708803e-01])"
      ]
     },
     "execution_count": 15,
     "metadata": {},
     "output_type": "execute_result"
    }
   ],
   "source": [
    "lr.coef_"
   ]
  },
  {
   "cell_type": "code",
   "execution_count": 16,
   "id": "6feb21f4",
   "metadata": {
    "slideshow": {
     "slide_type": "fragment"
    }
   },
   "outputs": [
    {
     "data": {
      "text/plain": [
       "47.381786275285805"
      ]
     },
     "execution_count": 16,
     "metadata": {},
     "output_type": "execute_result"
    }
   ],
   "source": [
    "lr.intercept_"
   ]
  },
  {
   "cell_type": "code",
   "execution_count": 17,
   "id": "e07ae2e4",
   "metadata": {
    "slideshow": {
     "slide_type": "fragment"
    }
   },
   "outputs": [
    {
     "data": {
      "text/plain": [
       "Index(['HIV/AIDS', 'Hepatitis B', 'BMI', 'Population', 'Polio', 'Alcohol',\n",
       "       'GDP', 'Measles', 'Total expenditure', 'Schooling',\n",
       "       'thinness  1-19 years'],\n",
       "      dtype='object')"
      ]
     },
     "execution_count": 17,
     "metadata": {},
     "output_type": "execute_result"
    }
   ],
   "source": [
    "X_train.columns"
   ]
  },
  {
   "cell_type": "markdown",
   "id": "baa0b08e",
   "metadata": {
    "slideshow": {
     "slide_type": "slide"
    }
   },
   "source": [
    "Now, can also get $R^2$ on fit."
   ]
  },
  {
   "cell_type": "code",
   "execution_count": 18,
   "id": "b8bcafab",
   "metadata": {
    "slideshow": {
     "slide_type": "fragment"
    }
   },
   "outputs": [
    {
     "data": {
      "text/plain": [
       "0.7677325567606631"
      ]
     },
     "execution_count": 18,
     "metadata": {},
     "output_type": "execute_result"
    }
   ],
   "source": [
    "lr.score(X_train, y_train)\n",
    "# model captures 76.77 % of the variance"
   ]
  },
  {
   "cell_type": "markdown",
   "id": "370c869f",
   "metadata": {
    "cell_style": "split",
    "slideshow": {
     "slide_type": "slide"
    }
   },
   "source": [
    "Evaluating our model on the test data:\n",
    "- Get predictions of model.\n",
    "- Compare predictions of model to actual y (life expectancy)."
   ]
  },
  {
   "cell_type": "markdown",
   "id": "16dbfa22",
   "metadata": {
    "cell_style": "split",
    "slideshow": {
     "slide_type": "fragment"
    }
   },
   "source": [
    ".predict(X_test) method on trained model"
   ]
  },
  {
   "cell_type": "code",
   "execution_count": 19,
   "id": "a569dc7a",
   "metadata": {
    "slideshow": {
     "slide_type": "fragment"
    }
   },
   "outputs": [
    {
     "data": {
      "text/plain": [
       "array([68.00288005, 72.4857508 , 79.81867132, 58.08822502, 54.21664236,\n",
       "       54.71706431, 70.56591328, 73.61411275, 79.35722924, 70.25068103])"
      ]
     },
     "execution_count": 19,
     "metadata": {},
     "output_type": "execute_result"
    }
   ],
   "source": [
    "# This gets the predictions of model on test set.\n",
    "\n",
    "# 1st time using the X_test data\n",
    "\n",
    "y_pred = lr.predict(X_test)\n",
    "#get first ten elements of prediction.\n",
    "y_pred[0:10]"
   ]
  },
  {
   "cell_type": "markdown",
   "id": "da27b6de",
   "metadata": {
    "slideshow": {
     "slide_type": "slide"
    }
   },
   "source": [
    "Evaluating the model:\n",
    "- We care about how good prediction on life expectancy is given X (features).\n",
    "- Compare $y_{pred}$ made on $X_{test}$ to actual $y_{test}$.\n",
    "- Some metrics for comparison: the mean absolute error, the root mean squared error."
   ]
  },
  {
   "cell_type": "markdown",
   "id": "5057425a",
   "metadata": {
    "slideshow": {
     "slide_type": "slide"
    }
   },
   "source": [
    "## Beyond the $R^2$ Score\n",
    "\n",
    "There are other metrics! \n",
    "\n",
    "#### Mean Absolute Error (MAE)\n",
    "\n",
    "$$\\text{MAE}(y, y_\\text{pred}) = \\frac{1}{n} \\sum_{i=0}^{n} \\left| y_i - y_\\text{pred}i \\right|$$\n",
    "\n",
    "- Measures the average magnitude of errors regardless of direction, by calculating the total absolute value of errors and dividing by the number of samples (number of predictions made)\n",
    "- **This error term is in the same units as the target!**\n",
    "\n",
    "#### Mean Squared Error (MSE)\n",
    "\n",
    "$$\\text{MSE}(y, y_\\text{pred}) = \\frac{1}{n} \\sum_{i=0}^{n} (y_i - y_\\text{pred}i)^2$$\n",
    "\n",
    "- Measures the average squared error, by calculating the sum of squared errors for all predictions then dividing by the number of samples (number of predictions)\n",
    "- In other words - this is the Residual Sum of Squares (RSS) divided by the number of predictions!\n",
    "- This error term is **NOT** in the same units as the target!\n",
    "\n",
    "#### Root Mean Squared Error (RMSE)\n",
    "\n",
    "$$\\text{RMSE}(y, y_\\text{pred}) = \\sqrt{\\frac{1}{n} \\sum_{i=0}^{n} (y_i - y_\\text{pred}i)^2}$$\n",
    "\n",
    "- Measures the square root of the average squared error, by calculating the sum of squared errors for all predictions then dividing by the number of samples (number of predictions), then taking the square root of all that\n",
    "- More sensitive to outliers.\n",
    "- **This error term is in the same units as the target!**\n",
    "\n",
    "Note - before, we were _maximizing_ R2 (best fit = largest R2 score). But we'd want to minimize these other error metrics.\n",
    "\n",
    "Documentation: \n",
    "- [Regression Metrics in sklearn](https://scikit-learn.org/stable/modules/classes.html#regression-metrics)\n",
    "- [User Guide for Regression Metrics in sklearn](https://scikit-learn.org/stable/modules/model_evaluation.html#regression-metrics)"
   ]
  },
  {
   "cell_type": "markdown",
   "id": "c2294e3c",
   "metadata": {
    "slideshow": {
     "slide_type": "slide"
    }
   },
   "source": [
    "Evaluate model prediction on test set:"
   ]
  },
  {
   "cell_type": "code",
   "execution_count": null,
   "id": "f2841902",
   "metadata": {},
   "outputs": [],
   "source": [
    "# mse not in a same measure as the target\n",
    "# rmse - take away the outliers if using it\n"
   ]
  },
  {
   "cell_type": "code",
   "execution_count": 20,
   "id": "adfb69d8",
   "metadata": {
    "cell_style": "split",
    "slideshow": {
     "slide_type": "fragment"
    }
   },
   "outputs": [
    {
     "data": {
      "text/plain": [
       "3.559188266339657"
      ]
     },
     "execution_count": 20,
     "metadata": {},
     "output_type": "execute_result"
    }
   ],
   "source": [
    "MAE = mean_absolute_error(y_pred, y_test)\n",
    "MAE\n",
    "# measuring is off + /- 3.5 years of life expectancy ( same measuring unit)"
   ]
  },
  {
   "cell_type": "code",
   "execution_count": 21,
   "id": "606c92b5",
   "metadata": {
    "cell_style": "split",
    "slideshow": {
     "slide_type": "fragment"
    }
   },
   "outputs": [
    {
     "data": {
      "text/plain": [
       "4.474749950878808"
      ]
     },
     "execution_count": 21,
     "metadata": {},
     "output_type": "execute_result"
    }
   ],
   "source": [
    "RMSE = np.sqrt(mean_squared_error(y_pred, y_test))\n",
    "RMSE\n",
    "# rmse in the same measuring unit as the target (life expectancy) - or house price in dollars\n",
    "# off by 4 years, probably has outliers"
   ]
  },
  {
   "cell_type": "code",
   "execution_count": 22,
   "id": "9b1f88fc",
   "metadata": {},
   "outputs": [
    {
     "data": {
      "text/plain": [
       "0.7677325567606631"
      ]
     },
     "execution_count": 22,
     "metadata": {},
     "output_type": "execute_result"
    }
   ],
   "source": [
    "lr.score(X_train, y_train)"
   ]
  },
  {
   "cell_type": "code",
   "execution_count": 23,
   "id": "73cc63bc",
   "metadata": {
    "slideshow": {
     "slide_type": "slide"
    }
   },
   "outputs": [],
   "source": [
    "import matplotlib.pyplot as plt"
   ]
  },
  {
   "cell_type": "code",
   "execution_count": 24,
   "id": "4d5f33e4",
   "metadata": {
    "scrolled": true,
    "slideshow": {
     "slide_type": "fragment"
    }
   },
   "outputs": [],
   "source": [
    "%%capture life_test\n",
    "fig, ax = plt.subplots()\n",
    "y_test.hist(bins = 15, ax = ax)\n",
    "ax.set_xlabel('Life expectancy')\n",
    "ax.set_ylabel('Counts')\n",
    "ax.set_title('Life expectancy: test distribution')\n",
    "plt.show()"
   ]
  },
  {
   "cell_type": "code",
   "execution_count": 25,
   "id": "d66b92f9",
   "metadata": {
    "slideshow": {
     "slide_type": "fragment"
    }
   },
   "outputs": [
    {
     "data": {
      "image/png": "[encoded data removed]",
      "text/plain": [
       "<Figure size 432x288 with 1 Axes>"
      ]
     },
     "metadata": {
      "needs_background": "light"
     },
     "output_type": "display_data"
    }
   ],
   "source": [
    "life_test()"
   ]
  },
  {
   "cell_type": "markdown",
   "id": "3a1f3a34",
   "metadata": {
    "slideshow": {
     "slide_type": "slide"
    }
   },
   "source": [
    "From the perspective of prediction and our tolerance: this is not shabby.\n",
    "- Seeing a few individual examples."
   ]
  },
  {
   "cell_type": "code",
   "execution_count": 26,
   "id": "eaae02be",
   "metadata": {
    "cell_style": "split",
    "slideshow": {
     "slide_type": "fragment"
    }
   },
   "outputs": [
    {
     "data": {
      "text/plain": [
       "HIV/AIDS                    0.20000\n",
       "Hepatitis B                21.00000\n",
       "BMI                        59.00000\n",
       "Population              45761.00000\n",
       "Polio                      54.00000\n",
       "Alcohol                     8.48000\n",
       "GDP                      3569.75727\n",
       "Measles                  1333.00000\n",
       "Total expenditure           6.98000\n",
       "Schooling                  14.90000\n",
       "thinness  1-19 years        2.40000\n",
       "Name: 2734, dtype: float64"
      ]
     },
     "execution_count": 26,
     "metadata": {},
     "output_type": "execute_result"
    }
   ],
   "source": [
    "# \n",
    "examp_idx = 10 # index 10\n",
    "single_examp = X_test.iloc[examp_idx].values # take the values from index 10 row\n",
    "X_test.iloc[examp_idx]"
   ]
  },
  {
   "cell_type": "code",
   "execution_count": 27,
   "id": "d47dd319",
   "metadata": {
    "cell_style": "split"
   },
   "outputs": [
    {
     "data": {
      "text/plain": [
       "0.2"
      ]
     },
     "execution_count": 27,
     "metadata": {},
     "output_type": "execute_result"
    }
   ],
   "source": [
    "# list\n",
    "single_examp[0] # list of numbers"
   ]
  },
  {
   "cell_type": "code",
   "execution_count": 28,
   "id": "371de4d5",
   "metadata": {
    "cell_style": "split"
   },
   "outputs": [
    {
     "data": {
      "text/plain": [
       "0.2"
      ]
     },
     "execution_count": 28,
     "metadata": {},
     "output_type": "execute_result"
    }
   ],
   "source": [
    "# 2d array\n",
    "single_examp.reshape(1,-1)[0][0] # has rows and cols, each number separated by columns\n",
    "#(1,-1) 1 row multiple cols, for prediction its always (1,-1)\n",
    "# (-1,1) - 1 col, multiple rows (y test)\n",
    "# (1,-1)[0] - row 0, with all the data\n",
    "# two dimensional - two brackets [[ ]]"
   ]
  },
  {
   "cell_type": "code",
   "execution_count": 29,
   "id": "59a9a275",
   "metadata": {
    "cell_style": "split",
    "scrolled": false,
    "slideshow": {
     "slide_type": "slide"
    }
   },
   "outputs": [
    {
     "name": "stderr",
     "output_type": "stream",
     "text": [
      "/opt/anaconda3/lib/python3.9/site-packages/sklearn/base.py:450: UserWarning: X does not have valid feature names, but LinearRegression was fitted with feature names\n",
      "  warnings.warn(\n"
     ]
    },
    {
     "data": {
      "text/plain": [
       "array([74.66096545])"
      ]
     },
     "execution_count": 29,
     "metadata": {},
     "output_type": "execute_result"
    }
   ],
   "source": [
    "lr.predict(single_examp.reshape(1,-1)) # lr - is fitted on the train\n",
    "# prediction age , life expectancy"
   ]
  },
  {
   "cell_type": "code",
   "execution_count": 30,
   "id": "2e1056ea",
   "metadata": {
    "cell_style": "split",
    "slideshow": {
     "slide_type": "fragment"
    }
   },
   "outputs": [
    {
     "data": {
      "text/plain": [
       "75.0"
      ]
     },
     "execution_count": 30,
     "metadata": {},
     "output_type": "execute_result"
    }
   ],
   "source": [
    "y_test.iloc[examp_idx]\n",
    "# actual life expectancy"
   ]
  },
  {
   "cell_type": "markdown",
   "id": "e7c3b80c",
   "metadata": {
    "slideshow": {
     "slide_type": "slide"
    }
   },
   "source": [
    "#### Determinants of prediction error\n",
    "- Will talk about this in detail in a future lecture.\n",
    "\n",
    "Much of machine learning focuses on understanding sources of error.\n",
    "- Tuning model to get better prediction performance in test phase.\n",
    "- Balancing tradeoffs between various sources of error."
   ]
  },
  {
   "cell_type": "markdown",
   "id": "34684b1f",
   "metadata": {
    "slideshow": {
     "slide_type": "slide"
    }
   },
   "source": [
    "\n",
    "The king wants you to:\n",
    "- estimate the average life expectancy of his subjects. \n",
    "- speculate on what factors might be at play in determining the average life of his subject. \n",
    "\n"
   ]
  },
  {
   "cell_type": "markdown",
   "id": "004797e1",
   "metadata": {
    "slideshow": {
     "slide_type": "slide"
    }
   },
   "source": [
    "#### Answering the king's first question:"
   ]
  },
  {
   "cell_type": "code",
   "execution_count": 31,
   "id": "c32c7f11",
   "metadata": {
    "slideshow": {
     "slide_type": "fragment"
    }
   },
   "outputs": [
    {
     "data": {
      "text/plain": [
       "HIV/AIDS                     14.40\n",
       "Hepatitis B                  93.00\n",
       "BMI                          33.20\n",
       "Population              1884238.00\n",
       "Polio                        96.00\n",
       "Alcohol                       6.45\n",
       "GDP                        5374.00\n",
       "Measles                       6.00\n",
       "Total expenditure             4.93\n",
       "Schooling                    11.90\n",
       "thinness  1-19 years          9.60\n",
       "dtype: float64"
      ]
     },
     "execution_count": 31,
     "metadata": {},
     "output_type": "execute_result"
    }
   ],
   "source": [
    "zamunda_dict = {'HIV/AIDS': 14.4, 'Hepatitis B': 93, 'BMI': 33.2, 'Population': 1884238, 'Polio': 96, 'Alcohol': 6.45,\n",
    "       'GDP': 5374, 'Measles': 6, 'Total expenditure': 4.93, 'Schooling': 11.9, 'thinness  1-19 years': 9.6}\n",
    "\n",
    "X_zamunda = pd.Series(zamunda_dict)\n",
    "X_zamunda"
   ]
  },
  {
   "cell_type": "markdown",
   "id": "99082294",
   "metadata": {
    "slideshow": {
     "slide_type": "slide"
    }
   },
   "source": [
    "Let's put this into the model and get our prediction. For a single example need to:\n",
    "- convert to numpy array\n",
    "- do a reshape to get into form scikit learn likes."
   ]
  },
  {
   "cell_type": "code",
   "execution_count": 32,
   "id": "03de2bd0",
   "metadata": {
    "cell_style": "center",
    "slideshow": {
     "slide_type": "fragment"
    }
   },
   "outputs": [
    {
     "data": {
      "text/plain": [
       "array([1.440000e+01, 9.300000e+01, 3.320000e+01, 1.884238e+06,\n",
       "       9.600000e+01, 6.450000e+00, 5.374000e+03, 6.000000e+00,\n",
       "       4.930000e+00, 1.190000e+01, 9.600000e+00])"
      ]
     },
     "execution_count": 32,
     "metadata": {},
     "output_type": "execute_result"
    }
   ],
   "source": [
    "X_zam_np = X_zamunda.values\n",
    "X_zam_np"
   ]
  },
  {
   "cell_type": "code",
   "execution_count": 33,
   "id": "0c1f106e",
   "metadata": {
    "cell_style": "center",
    "slideshow": {
     "slide_type": "fragment"
    }
   },
   "outputs": [
    {
     "data": {
      "text/plain": [
       "array([[1.440000e+01, 9.300000e+01, 3.320000e+01, 1.884238e+06,\n",
       "        9.600000e+01, 6.450000e+00, 5.374000e+03, 6.000000e+00,\n",
       "        4.930000e+00, 1.190000e+01, 9.600000e+00]])"
      ]
     },
     "execution_count": 33,
     "metadata": {},
     "output_type": "execute_result"
    }
   ],
   "source": [
    "# predict() needs to take a 2D array\n",
    "X_zam_input = X_zam_np.reshape(1,-1)\n",
    "X_zam_input\n",
    "# one dimensional list - only one [ ]"
   ]
  },
  {
   "cell_type": "markdown",
   "id": "68d5f51c",
   "metadata": {
    "slideshow": {
     "slide_type": "slide"
    }
   },
   "source": [
    "The model predicts a life expectancy for Zamunda of:"
   ]
  },
  {
   "cell_type": "code",
   "execution_count": 34,
   "id": "b73da13c",
   "metadata": {
    "cell_style": "split",
    "slideshow": {
     "slide_type": "fragment"
    }
   },
   "outputs": [
    {
     "name": "stderr",
     "output_type": "stream",
     "text": [
      "/opt/anaconda3/lib/python3.9/site-packages/sklearn/base.py:450: UserWarning: X does not have valid feature names, but LinearRegression was fitted with feature names\n",
      "  warnings.warn(\n"
     ]
    },
    {
     "data": {
      "text/plain": [
       "array([60.35131902])"
      ]
     },
     "execution_count": 34,
     "metadata": {},
     "output_type": "execute_result"
    }
   ],
   "source": [
    "lr.predict(X_zam_input)\n",
    "# life expectancy is lower in Zamunda (60 years) than the average in the test data (75y)"
   ]
  },
  {
   "cell_type": "markdown",
   "id": "bf8d01ca",
   "metadata": {
    "cell_style": "split",
    "slideshow": {
     "slide_type": "fragment"
    }
   },
   "source": [
    "Is this good? Is this bad? Compare to:"
   ]
  },
  {
   "cell_type": "code",
   "execution_count": 35,
   "id": "8d547b28",
   "metadata": {
    "cell_style": "split",
    "slideshow": {
     "slide_type": "fragment"
    }
   },
   "outputs": [
    {
     "data": {
      "image/png": "[encoded data removed]",
      "text/plain": [
       "<Figure size 432x288 with 1 Axes>"
      ]
     },
     "metadata": {
      "needs_background": "light"
     },
     "output_type": "display_data"
    }
   ],
   "source": [
    "life_test()"
   ]
  },
  {
   "cell_type": "markdown",
   "id": "2bc0756a",
   "metadata": {
    "cell_style": "split",
    "slideshow": {
     "slide_type": "slide"
    }
   },
   "source": [
    "**Prediction**\n",
    "- What is the average life expectancy of his subjects?\n",
    "    - ~60 years.\n"
   ]
  },
  {
   "cell_type": "markdown",
   "id": "a232d928",
   "metadata": {
    "cell_style": "split",
    "slideshow": {
     "slide_type": "fragment"
    }
   },
   "source": [
    "**Inference**\n",
    "- HIV/AIDS prevalence and Schooling\n",
    "- High correlation with life expectancy"
   ]
  },
  {
   "cell_type": "markdown",
   "id": "245c104d",
   "metadata": {
    "slideshow": {
     "slide_type": "slide"
    }
   },
   "source": [
    "#### Next up\n",
    "\n",
    "- Improving model performance by:\n",
    "    - transforming features\n",
    "    - systematically understanding/correcting for sources of prediction error.\n"
   ]
  }
 ],
 "metadata": {
  "kernelspec": {
   "display_name": "Python (myenv)",
   "language": "python",
   "name": "myenv"
  },
  "language_info": {
   "codemirror_mode": {
    "name": "ipython",
    "version": 3
   },
   "file_extension": ".py",
   "mimetype": "text/x-python",
   "name": "python",
   "nbconvert_exporter": "python",
   "pygments_lexer": "ipython3",
   "version": "3.9.12"
  }
 },
 "nbformat": 4,
 "nbformat_minor": 5
}
