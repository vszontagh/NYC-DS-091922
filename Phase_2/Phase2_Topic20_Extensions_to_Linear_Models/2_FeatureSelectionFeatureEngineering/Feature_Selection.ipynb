{
 "cells": [
  {
   "cell_type": "markdown",
   "metadata": {
    "slideshow": {
     "slide_type": "slide"
    }
   },
   "source": [
    "<div style=\"color:white;\n",
    "           display:fill;\n",
    "           border-radius:5px;\n",
    "           background-color:#5642C5;\n",
    "           font-size:200%;\n",
    "           font-family:Arial;letter-spacing:0.5px\">\n",
    "\n",
    "<p width = 20%, style=\"padding: 10px;\n",
    "              color:white;\">\n",
    "Feature Selection</p>\n",
    "</div>\n",
    "\n",
    "Data Science Cohort Live NYC Oct 2022\n",
    "<p>Phase 2: Topic 20</p>\n",
    "<br>\n",
    "<br>\n",
    "\n",
    "<div align = \"right\">\n",
    "<img src=\"images/flatiron-school-logo.png\" align = \"right\" width=\"200\"/>\n",
    "</div>"
   ]
  },
  {
   "cell_type": "code",
<<<<<<< HEAD
   "execution_count": 7,
=======
   "execution_count": 6,
>>>>>>> upstream/main
   "metadata": {
    "slideshow": {
     "slide_type": "slide"
    }
   },
   "outputs": [],
   "source": [
    "import pandas as pd\n",
    "import seaborn as sns\n",
    "from sklearn.linear_model import LinearRegression\n",
    "from sklearn.feature_selection import RFE\n",
    "from sklearn.preprocessing import StandardScaler\n"
   ]
  },
  {
   "cell_type": "markdown",
   "metadata": {
    "hidden": true,
    "slideshow": {
     "slide_type": "slide"
    }
   },
   "source": [
    "> We want to do our best to make good predictions"
   ]
  },
  {
   "cell_type": "markdown",
   "metadata": {
    "hidden": true,
    "slideshow": {
     "slide_type": "fragment"
    }
   },
   "source": [
    "One way we can improve our model is to consider the data's feature and either specifically _select_ features and/or _create new features_ (called **feature engineering**)"
   ]
  },
  {
   "cell_type": "markdown",
   "metadata": {
    "heading_collapsed": true,
    "slideshow": {
     "slide_type": "slide"
    }
   },
   "source": [
    "# Learning Objectives"
   ]
  },
  {
   "cell_type": "markdown",
   "metadata": {
    "hidden": true,
    "slideshow": {
     "slide_type": "fragment"
    }
   },
   "source": [
    "- Use correlations and other algorithms to inform feature selection\n",
    "- Address the problem of multicollinearity in regression problems\n",
    "- Create new features for use in modeling\n",
    "- Use `PolynomialFeatures` to build compound features"
   ]
  },
  {
   "cell_type": "markdown",
   "metadata": {
    "heading_collapsed": true,
    "slideshow": {
     "slide_type": "slide"
    }
   },
   "source": [
    "# Model Selection"
   ]
  },
  {
   "cell_type": "markdown",
   "metadata": {
    "hidden": true,
    "slideshow": {
     "slide_type": "fragment"
    }
   },
   "source": [
    "Let's imagine that I'm going to try to predict wine quality based on the other features."
   ]
  },
  {
   "cell_type": "code",
   "execution_count": 2,
   "metadata": {
    "hidden": true,
    "slideshow": {
     "slide_type": "slide"
    }
   },
   "outputs": [],
   "source": [
    "wine = pd.read_csv('data/wine.csv')"
   ]
  },
  {
   "cell_type": "code",
   "execution_count": 3,
   "metadata": {
    "hidden": true,
    "scrolled": true,
    "slideshow": {
     "slide_type": "fragment"
    }
   },
   "outputs": [
    {
     "data": {
      "text/html": [
       "<div>\n",
       "<style scoped>\n",
       "    .dataframe tbody tr th:only-of-type {\n",
       "        vertical-align: middle;\n",
       "    }\n",
       "\n",
       "    .dataframe tbody tr th {\n",
       "        vertical-align: top;\n",
       "    }\n",
       "\n",
       "    .dataframe thead th {\n",
       "        text-align: right;\n",
       "    }\n",
       "</style>\n",
       "<table border=\"1\" class=\"dataframe\">\n",
       "  <thead>\n",
       "    <tr style=\"text-align: right;\">\n",
       "      <th></th>\n",
       "      <th>fixed acidity</th>\n",
       "      <th>volatile acidity</th>\n",
       "      <th>citric acid</th>\n",
       "      <th>residual sugar</th>\n",
       "      <th>chlorides</th>\n",
       "      <th>free sulfur dioxide</th>\n",
       "      <th>total sulfur dioxide</th>\n",
       "      <th>density</th>\n",
       "      <th>pH</th>\n",
       "      <th>sulphates</th>\n",
       "      <th>alcohol</th>\n",
       "      <th>quality</th>\n",
       "      <th>red_wine</th>\n",
       "    </tr>\n",
       "  </thead>\n",
       "  <tbody>\n",
       "    <tr>\n",
       "      <th>0</th>\n",
       "      <td>7.4</td>\n",
       "      <td>0.70</td>\n",
       "      <td>0.00</td>\n",
       "      <td>1.9</td>\n",
       "      <td>0.076</td>\n",
       "      <td>11.0</td>\n",
       "      <td>34.0</td>\n",
       "      <td>0.9978</td>\n",
       "      <td>3.51</td>\n",
       "      <td>0.56</td>\n",
       "      <td>9.4</td>\n",
       "      <td>5</td>\n",
       "      <td>1</td>\n",
       "    </tr>\n",
       "    <tr>\n",
       "      <th>1</th>\n",
       "      <td>7.8</td>\n",
       "      <td>0.88</td>\n",
       "      <td>0.00</td>\n",
       "      <td>2.6</td>\n",
       "      <td>0.098</td>\n",
       "      <td>25.0</td>\n",
       "      <td>67.0</td>\n",
       "      <td>0.9968</td>\n",
       "      <td>3.20</td>\n",
       "      <td>0.68</td>\n",
       "      <td>9.8</td>\n",
       "      <td>5</td>\n",
       "      <td>1</td>\n",
       "    </tr>\n",
       "    <tr>\n",
       "      <th>2</th>\n",
       "      <td>7.8</td>\n",
       "      <td>0.76</td>\n",
       "      <td>0.04</td>\n",
       "      <td>2.3</td>\n",
       "      <td>0.092</td>\n",
       "      <td>15.0</td>\n",
       "      <td>54.0</td>\n",
       "      <td>0.9970</td>\n",
       "      <td>3.26</td>\n",
       "      <td>0.65</td>\n",
       "      <td>9.8</td>\n",
       "      <td>5</td>\n",
       "      <td>1</td>\n",
       "    </tr>\n",
       "    <tr>\n",
       "      <th>3</th>\n",
       "      <td>11.2</td>\n",
       "      <td>0.28</td>\n",
       "      <td>0.56</td>\n",
       "      <td>1.9</td>\n",
       "      <td>0.075</td>\n",
       "      <td>17.0</td>\n",
       "      <td>60.0</td>\n",
       "      <td>0.9980</td>\n",
       "      <td>3.16</td>\n",
       "      <td>0.58</td>\n",
       "      <td>9.8</td>\n",
       "      <td>6</td>\n",
       "      <td>1</td>\n",
       "    </tr>\n",
       "    <tr>\n",
       "      <th>4</th>\n",
       "      <td>7.4</td>\n",
       "      <td>0.70</td>\n",
       "      <td>0.00</td>\n",
       "      <td>1.9</td>\n",
       "      <td>0.076</td>\n",
       "      <td>11.0</td>\n",
       "      <td>34.0</td>\n",
       "      <td>0.9978</td>\n",
       "      <td>3.51</td>\n",
       "      <td>0.56</td>\n",
       "      <td>9.4</td>\n",
       "      <td>5</td>\n",
       "      <td>1</td>\n",
       "    </tr>\n",
       "    <tr>\n",
       "      <th>5</th>\n",
       "      <td>7.4</td>\n",
       "      <td>0.66</td>\n",
       "      <td>0.00</td>\n",
       "      <td>1.8</td>\n",
       "      <td>0.075</td>\n",
       "      <td>13.0</td>\n",
       "      <td>40.0</td>\n",
       "      <td>0.9978</td>\n",
       "      <td>3.51</td>\n",
       "      <td>0.56</td>\n",
       "      <td>9.4</td>\n",
       "      <td>5</td>\n",
       "      <td>1</td>\n",
       "    </tr>\n",
       "    <tr>\n",
       "      <th>6</th>\n",
       "      <td>7.9</td>\n",
       "      <td>0.60</td>\n",
       "      <td>0.06</td>\n",
       "      <td>1.6</td>\n",
       "      <td>0.069</td>\n",
       "      <td>15.0</td>\n",
       "      <td>59.0</td>\n",
       "      <td>0.9964</td>\n",
       "      <td>3.30</td>\n",
       "      <td>0.46</td>\n",
       "      <td>9.4</td>\n",
       "      <td>5</td>\n",
       "      <td>1</td>\n",
       "    </tr>\n",
       "    <tr>\n",
       "      <th>7</th>\n",
       "      <td>7.3</td>\n",
       "      <td>0.65</td>\n",
       "      <td>0.00</td>\n",
       "      <td>1.2</td>\n",
       "      <td>0.065</td>\n",
       "      <td>15.0</td>\n",
       "      <td>21.0</td>\n",
       "      <td>0.9946</td>\n",
       "      <td>3.39</td>\n",
       "      <td>0.47</td>\n",
       "      <td>10.0</td>\n",
       "      <td>7</td>\n",
       "      <td>1</td>\n",
       "    </tr>\n",
       "    <tr>\n",
       "      <th>8</th>\n",
       "      <td>7.8</td>\n",
       "      <td>0.58</td>\n",
       "      <td>0.02</td>\n",
       "      <td>2.0</td>\n",
       "      <td>0.073</td>\n",
       "      <td>9.0</td>\n",
       "      <td>18.0</td>\n",
       "      <td>0.9968</td>\n",
       "      <td>3.36</td>\n",
       "      <td>0.57</td>\n",
       "      <td>9.5</td>\n",
       "      <td>7</td>\n",
       "      <td>1</td>\n",
       "    </tr>\n",
       "    <tr>\n",
       "      <th>9</th>\n",
       "      <td>7.5</td>\n",
       "      <td>0.50</td>\n",
       "      <td>0.36</td>\n",
       "      <td>6.1</td>\n",
       "      <td>0.071</td>\n",
       "      <td>17.0</td>\n",
       "      <td>102.0</td>\n",
       "      <td>0.9978</td>\n",
       "      <td>3.35</td>\n",
       "      <td>0.80</td>\n",
       "      <td>10.5</td>\n",
       "      <td>5</td>\n",
       "      <td>1</td>\n",
       "    </tr>\n",
       "  </tbody>\n",
       "</table>\n",
       "</div>"
      ],
      "text/plain": [
       "   fixed acidity  volatile acidity  citric acid  residual sugar  chlorides  \\\n",
       "0            7.4              0.70         0.00             1.9      0.076   \n",
       "1            7.8              0.88         0.00             2.6      0.098   \n",
       "2            7.8              0.76         0.04             2.3      0.092   \n",
       "3           11.2              0.28         0.56             1.9      0.075   \n",
       "4            7.4              0.70         0.00             1.9      0.076   \n",
       "5            7.4              0.66         0.00             1.8      0.075   \n",
       "6            7.9              0.60         0.06             1.6      0.069   \n",
       "7            7.3              0.65         0.00             1.2      0.065   \n",
       "8            7.8              0.58         0.02             2.0      0.073   \n",
       "9            7.5              0.50         0.36             6.1      0.071   \n",
       "\n",
       "   free sulfur dioxide  total sulfur dioxide  density    pH  sulphates  \\\n",
       "0                 11.0                  34.0   0.9978  3.51       0.56   \n",
       "1                 25.0                  67.0   0.9968  3.20       0.68   \n",
       "2                 15.0                  54.0   0.9970  3.26       0.65   \n",
       "3                 17.0                  60.0   0.9980  3.16       0.58   \n",
       "4                 11.0                  34.0   0.9978  3.51       0.56   \n",
       "5                 13.0                  40.0   0.9978  3.51       0.56   \n",
       "6                 15.0                  59.0   0.9964  3.30       0.46   \n",
       "7                 15.0                  21.0   0.9946  3.39       0.47   \n",
       "8                  9.0                  18.0   0.9968  3.36       0.57   \n",
       "9                 17.0                 102.0   0.9978  3.35       0.80   \n",
       "\n",
       "   alcohol  quality  red_wine  \n",
       "0      9.4        5         1  \n",
       "1      9.8        5         1  \n",
       "2      9.8        5         1  \n",
       "3      9.8        6         1  \n",
       "4      9.4        5         1  \n",
       "5      9.4        5         1  \n",
       "6      9.4        5         1  \n",
       "7     10.0        7         1  \n",
       "8      9.5        7         1  \n",
       "9     10.5        5         1  "
      ]
     },
     "execution_count": 3,
     "metadata": {},
     "output_type": "execute_result"
    }
   ],
   "source": [
    "wine.head(10)"
   ]
  },
  {
   "cell_type": "markdown",
   "metadata": {
    "heading_collapsed": true,
    "hidden": true,
    "slideshow": {
     "slide_type": "slide"
    }
   },
   "source": [
    "## Decisions, Decisions, Decisions..."
   ]
  },
  {
   "cell_type": "markdown",
   "metadata": {
    "hidden": true,
    "slideshow": {
     "slide_type": "fragment"
    }
   },
   "source": [
    "Now: Which columns (predictors) should I choose? \n",
    "\n",
    "There are 12 predictors I could choose from. For each of these predictors, I could either use it or not use it in my model, which means that there are $2^{12} = 4096$ _different_ models I could construct! Well, okay, one of these is the \"empty model\" with no predictors in it. But there are still 4095 models from which I can choose."
   ]
  },
  {
   "cell_type": "markdown",
   "metadata": {
    "hidden": true,
    "slideshow": {
     "slide_type": "slide"
    }
   },
   "source": [
    "How can I decide which predictors to use in my model?"
   ]
  },
  {
   "cell_type": "markdown",
   "metadata": {
    "hidden": true,
    "slideshow": {
     "slide_type": "fragment"
    }
   },
   "source": [
    "![](images/i_choose_you.gif)\n",
    "\n",
    "> Data scientist choosing predictors/features to use ~~in battle~~ for the model"
   ]
  },
  {
   "cell_type": "markdown",
   "metadata": {
    "hidden": true,
    "slideshow": {
     "slide_type": "fragment"
    }
   },
   "source": [
    "We'll explore a few methods in the sections below."
   ]
  },
  {
   "cell_type": "markdown",
   "metadata": {
    "heading_collapsed": true,
    "slideshow": {
     "slide_type": "slide"
    }
   },
   "source": [
    "# Correlation and Multicollinearity"
   ]
  },
  {
   "cell_type": "markdown",
   "metadata": {
    "hidden": true,
    "slideshow": {
     "slide_type": "fragment"
    }
   },
   "source": [
    "Our first attempt might be just see which features are _correlated_ with the target to make a prediction.\n",
    "\n",
    "We can use the correlation metric in making a decision."
   ]
  },
  {
   "cell_type": "code",
   "execution_count": 4,
   "metadata": {
    "hidden": true,
    "slideshow": {
     "slide_type": "slide"
    }
   },
   "outputs": [
    {
     "data": {
      "text/html": [
       "<div>\n",
       "<style scoped>\n",
       "    .dataframe tbody tr th:only-of-type {\n",
       "        vertical-align: middle;\n",
       "    }\n",
       "\n",
       "    .dataframe tbody tr th {\n",
       "        vertical-align: top;\n",
       "    }\n",
       "\n",
       "    .dataframe thead th {\n",
       "        text-align: right;\n",
       "    }\n",
       "</style>\n",
       "<table border=\"1\" class=\"dataframe\">\n",
       "  <thead>\n",
       "    <tr style=\"text-align: right;\">\n",
       "      <th></th>\n",
       "      <th>fixed acidity</th>\n",
       "      <th>volatile acidity</th>\n",
       "      <th>citric acid</th>\n",
       "      <th>residual sugar</th>\n",
       "      <th>chlorides</th>\n",
       "      <th>free sulfur dioxide</th>\n",
       "      <th>total sulfur dioxide</th>\n",
       "      <th>density</th>\n",
       "      <th>pH</th>\n",
       "      <th>sulphates</th>\n",
       "      <th>alcohol</th>\n",
       "      <th>quality</th>\n",
       "      <th>red_wine</th>\n",
       "    </tr>\n",
       "  </thead>\n",
       "  <tbody>\n",
       "    <tr>\n",
       "      <th>fixed acidity</th>\n",
       "      <td>1.000000</td>\n",
       "      <td>0.219008</td>\n",
       "      <td>0.324436</td>\n",
       "      <td>-0.111981</td>\n",
       "      <td>0.298195</td>\n",
       "      <td>-0.282735</td>\n",
       "      <td>-0.329054</td>\n",
       "      <td>0.458910</td>\n",
       "      <td>-0.252700</td>\n",
       "      <td>0.299568</td>\n",
       "      <td>-0.095452</td>\n",
       "      <td>-0.076743</td>\n",
       "      <td>0.486740</td>\n",
       "    </tr>\n",
       "    <tr>\n",
       "      <th>volatile acidity</th>\n",
       "      <td>0.219008</td>\n",
       "      <td>1.000000</td>\n",
       "      <td>-0.377981</td>\n",
       "      <td>-0.196011</td>\n",
       "      <td>0.377124</td>\n",
       "      <td>-0.352557</td>\n",
       "      <td>-0.414476</td>\n",
       "      <td>0.271296</td>\n",
       "      <td>0.261454</td>\n",
       "      <td>0.225984</td>\n",
       "      <td>-0.037640</td>\n",
       "      <td>-0.265699</td>\n",
       "      <td>0.653036</td>\n",
       "    </tr>\n",
       "    <tr>\n",
       "      <th>citric acid</th>\n",
       "      <td>0.324436</td>\n",
       "      <td>-0.377981</td>\n",
       "      <td>1.000000</td>\n",
       "      <td>0.142451</td>\n",
       "      <td>0.038998</td>\n",
       "      <td>0.133126</td>\n",
       "      <td>0.195242</td>\n",
       "      <td>0.096154</td>\n",
       "      <td>-0.329808</td>\n",
       "      <td>0.056197</td>\n",
       "      <td>-0.010493</td>\n",
       "      <td>0.085532</td>\n",
       "      <td>-0.187397</td>\n",
       "    </tr>\n",
       "    <tr>\n",
       "      <th>residual sugar</th>\n",
       "      <td>-0.111981</td>\n",
       "      <td>-0.196011</td>\n",
       "      <td>0.142451</td>\n",
       "      <td>1.000000</td>\n",
       "      <td>-0.128940</td>\n",
       "      <td>0.402871</td>\n",
       "      <td>0.495482</td>\n",
       "      <td>0.552517</td>\n",
       "      <td>-0.267320</td>\n",
       "      <td>-0.185927</td>\n",
       "      <td>-0.359415</td>\n",
       "      <td>-0.036980</td>\n",
       "      <td>-0.348821</td>\n",
       "    </tr>\n",
       "    <tr>\n",
       "      <th>chlorides</th>\n",
       "      <td>0.298195</td>\n",
       "      <td>0.377124</td>\n",
       "      <td>0.038998</td>\n",
       "      <td>-0.128940</td>\n",
       "      <td>1.000000</td>\n",
       "      <td>-0.195045</td>\n",
       "      <td>-0.279630</td>\n",
       "      <td>0.362615</td>\n",
       "      <td>0.044708</td>\n",
       "      <td>0.395593</td>\n",
       "      <td>-0.256916</td>\n",
       "      <td>-0.200666</td>\n",
       "      <td>0.512678</td>\n",
       "    </tr>\n",
       "    <tr>\n",
       "      <th>free sulfur dioxide</th>\n",
       "      <td>-0.282735</td>\n",
       "      <td>-0.352557</td>\n",
       "      <td>0.133126</td>\n",
       "      <td>0.402871</td>\n",
       "      <td>-0.195045</td>\n",
       "      <td>1.000000</td>\n",
       "      <td>0.720934</td>\n",
       "      <td>0.025717</td>\n",
       "      <td>-0.145854</td>\n",
       "      <td>-0.188457</td>\n",
       "      <td>-0.179838</td>\n",
       "      <td>0.055463</td>\n",
       "      <td>-0.471644</td>\n",
       "    </tr>\n",
       "    <tr>\n",
       "      <th>total sulfur dioxide</th>\n",
       "      <td>-0.329054</td>\n",
       "      <td>-0.414476</td>\n",
       "      <td>0.195242</td>\n",
       "      <td>0.495482</td>\n",
       "      <td>-0.279630</td>\n",
       "      <td>0.720934</td>\n",
       "      <td>1.000000</td>\n",
       "      <td>0.032395</td>\n",
       "      <td>-0.238413</td>\n",
       "      <td>-0.275727</td>\n",
       "      <td>-0.265740</td>\n",
       "      <td>-0.041385</td>\n",
       "      <td>-0.700357</td>\n",
       "    </tr>\n",
       "    <tr>\n",
       "      <th>density</th>\n",
       "      <td>0.458910</td>\n",
       "      <td>0.271296</td>\n",
       "      <td>0.096154</td>\n",
       "      <td>0.552517</td>\n",
       "      <td>0.362615</td>\n",
       "      <td>0.025717</td>\n",
       "      <td>0.032395</td>\n",
       "      <td>1.000000</td>\n",
       "      <td>0.011686</td>\n",
       "      <td>0.259478</td>\n",
       "      <td>-0.686745</td>\n",
       "      <td>-0.305858</td>\n",
       "      <td>0.390645</td>\n",
       "    </tr>\n",
       "    <tr>\n",
       "      <th>pH</th>\n",
       "      <td>-0.252700</td>\n",
       "      <td>0.261454</td>\n",
       "      <td>-0.329808</td>\n",
       "      <td>-0.267320</td>\n",
       "      <td>0.044708</td>\n",
       "      <td>-0.145854</td>\n",
       "      <td>-0.238413</td>\n",
       "      <td>0.011686</td>\n",
       "      <td>1.000000</td>\n",
       "      <td>0.192123</td>\n",
       "      <td>0.121248</td>\n",
       "      <td>0.019506</td>\n",
       "      <td>0.329129</td>\n",
       "    </tr>\n",
       "    <tr>\n",
       "      <th>sulphates</th>\n",
       "      <td>0.299568</td>\n",
       "      <td>0.225984</td>\n",
       "      <td>0.056197</td>\n",
       "      <td>-0.185927</td>\n",
       "      <td>0.395593</td>\n",
       "      <td>-0.188457</td>\n",
       "      <td>-0.275727</td>\n",
       "      <td>0.259478</td>\n",
       "      <td>0.192123</td>\n",
       "      <td>1.000000</td>\n",
       "      <td>-0.003029</td>\n",
       "      <td>0.038485</td>\n",
       "      <td>0.487218</td>\n",
       "    </tr>\n",
       "    <tr>\n",
       "      <th>alcohol</th>\n",
       "      <td>-0.095452</td>\n",
       "      <td>-0.037640</td>\n",
       "      <td>-0.010493</td>\n",
       "      <td>-0.359415</td>\n",
       "      <td>-0.256916</td>\n",
       "      <td>-0.179838</td>\n",
       "      <td>-0.265740</td>\n",
       "      <td>-0.686745</td>\n",
       "      <td>0.121248</td>\n",
       "      <td>-0.003029</td>\n",
       "      <td>1.000000</td>\n",
       "      <td>0.444319</td>\n",
       "      <td>-0.032970</td>\n",
       "    </tr>\n",
       "    <tr>\n",
       "      <th>quality</th>\n",
       "      <td>-0.076743</td>\n",
       "      <td>-0.265699</td>\n",
       "      <td>0.085532</td>\n",
       "      <td>-0.036980</td>\n",
       "      <td>-0.200666</td>\n",
       "      <td>0.055463</td>\n",
       "      <td>-0.041385</td>\n",
       "      <td>-0.305858</td>\n",
       "      <td>0.019506</td>\n",
       "      <td>0.038485</td>\n",
       "      <td>0.444319</td>\n",
       "      <td>1.000000</td>\n",
       "      <td>-0.119323</td>\n",
       "    </tr>\n",
       "    <tr>\n",
       "      <th>red_wine</th>\n",
       "      <td>0.486740</td>\n",
       "      <td>0.653036</td>\n",
       "      <td>-0.187397</td>\n",
       "      <td>-0.348821</td>\n",
       "      <td>0.512678</td>\n",
       "      <td>-0.471644</td>\n",
       "      <td>-0.700357</td>\n",
       "      <td>0.390645</td>\n",
       "      <td>0.329129</td>\n",
       "      <td>0.487218</td>\n",
       "      <td>-0.032970</td>\n",
       "      <td>-0.119323</td>\n",
       "      <td>1.000000</td>\n",
       "    </tr>\n",
       "  </tbody>\n",
       "</table>\n",
       "</div>"
      ],
      "text/plain": [
       "                      fixed acidity  volatile acidity  citric acid  \\\n",
       "fixed acidity              1.000000          0.219008     0.324436   \n",
       "volatile acidity           0.219008          1.000000    -0.377981   \n",
       "citric acid                0.324436         -0.377981     1.000000   \n",
       "residual sugar            -0.111981         -0.196011     0.142451   \n",
       "chlorides                  0.298195          0.377124     0.038998   \n",
       "free sulfur dioxide       -0.282735         -0.352557     0.133126   \n",
       "total sulfur dioxide      -0.329054         -0.414476     0.195242   \n",
       "density                    0.458910          0.271296     0.096154   \n",
       "pH                        -0.252700          0.261454    -0.329808   \n",
       "sulphates                  0.299568          0.225984     0.056197   \n",
       "alcohol                   -0.095452         -0.037640    -0.010493   \n",
       "quality                   -0.076743         -0.265699     0.085532   \n",
       "red_wine                   0.486740          0.653036    -0.187397   \n",
       "\n",
       "                      residual sugar  chlorides  free sulfur dioxide  \\\n",
       "fixed acidity              -0.111981   0.298195            -0.282735   \n",
       "volatile acidity           -0.196011   0.377124            -0.352557   \n",
       "citric acid                 0.142451   0.038998             0.133126   \n",
       "residual sugar              1.000000  -0.128940             0.402871   \n",
       "chlorides                  -0.128940   1.000000            -0.195045   \n",
       "free sulfur dioxide         0.402871  -0.195045             1.000000   \n",
       "total sulfur dioxide        0.495482  -0.279630             0.720934   \n",
       "density                     0.552517   0.362615             0.025717   \n",
       "pH                         -0.267320   0.044708            -0.145854   \n",
       "sulphates                  -0.185927   0.395593            -0.188457   \n",
       "alcohol                    -0.359415  -0.256916            -0.179838   \n",
       "quality                    -0.036980  -0.200666             0.055463   \n",
       "red_wine                   -0.348821   0.512678            -0.471644   \n",
       "\n",
       "                      total sulfur dioxide   density        pH  sulphates  \\\n",
       "fixed acidity                    -0.329054  0.458910 -0.252700   0.299568   \n",
       "volatile acidity                 -0.414476  0.271296  0.261454   0.225984   \n",
       "citric acid                       0.195242  0.096154 -0.329808   0.056197   \n",
       "residual sugar                    0.495482  0.552517 -0.267320  -0.185927   \n",
       "chlorides                        -0.279630  0.362615  0.044708   0.395593   \n",
       "free sulfur dioxide               0.720934  0.025717 -0.145854  -0.188457   \n",
       "total sulfur dioxide              1.000000  0.032395 -0.238413  -0.275727   \n",
       "density                           0.032395  1.000000  0.011686   0.259478   \n",
       "pH                               -0.238413  0.011686  1.000000   0.192123   \n",
       "sulphates                        -0.275727  0.259478  0.192123   1.000000   \n",
       "alcohol                          -0.265740 -0.686745  0.121248  -0.003029   \n",
       "quality                          -0.041385 -0.305858  0.019506   0.038485   \n",
       "red_wine                         -0.700357  0.390645  0.329129   0.487218   \n",
       "\n",
       "                       alcohol   quality  red_wine  \n",
       "fixed acidity        -0.095452 -0.076743  0.486740  \n",
       "volatile acidity     -0.037640 -0.265699  0.653036  \n",
       "citric acid          -0.010493  0.085532 -0.187397  \n",
       "residual sugar       -0.359415 -0.036980 -0.348821  \n",
       "chlorides            -0.256916 -0.200666  0.512678  \n",
       "free sulfur dioxide  -0.179838  0.055463 -0.471644  \n",
       "total sulfur dioxide -0.265740 -0.041385 -0.700357  \n",
       "density              -0.686745 -0.305858  0.390645  \n",
       "pH                    0.121248  0.019506  0.329129  \n",
       "sulphates            -0.003029  0.038485  0.487218  \n",
       "alcohol               1.000000  0.444319 -0.032970  \n",
       "quality               0.444319  1.000000 -0.119323  \n",
       "red_wine             -0.032970 -0.119323  1.000000  "
      ]
     },
     "execution_count": 4,
     "metadata": {},
     "output_type": "execute_result"
    }
   ],
   "source": [
    "# Use the .corr() DataFrame method to find out about the\n",
    "# correlation values between all pairs of variables!\n",
    "\n",
    "wine.corr()"
   ]
  },
  {
   "cell_type": "code",
<<<<<<< HEAD
   "execution_count": 8,
=======
   "execution_count": 7,
>>>>>>> upstream/main
   "metadata": {
    "hidden": true,
    "slideshow": {
     "slide_type": "slide"
    }
   },
   "outputs": [
    {
     "data": {
      "image/png": "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\n",
      "text/plain": [
       "<Figure size 1008x1008 with 2 Axes>"
      ]
     },
     "metadata": {},
     "output_type": "display_data"
    }
   ],
   "source": [
    "sns.set(rc={'figure.figsize':(14, 14)})\n",
    "\n",
    "# Use the .heatmap function to depict the relationships visually!\n",
    "sns.heatmap(wine.corr(),annot=True);"
   ]
  },
  {
   "cell_type": "code",
<<<<<<< HEAD
   "execution_count": 9,
=======
   "execution_count": 8,
>>>>>>> upstream/main
   "metadata": {
    "hidden": true,
    "scrolled": true,
    "slideshow": {
     "slide_type": "slide"
    }
   },
   "outputs": [
    {
     "data": {
      "text/plain": [
       "quality                 1.000000\n",
       "alcohol                 0.444319\n",
       "density                 0.305858\n",
       "volatile acidity        0.265699\n",
       "chlorides               0.200666\n",
       "red_wine                0.119323\n",
       "citric acid             0.085532\n",
       "fixed acidity           0.076743\n",
       "free sulfur dioxide     0.055463\n",
       "total sulfur dioxide    0.041385\n",
       "sulphates               0.038485\n",
       "residual sugar          0.036980\n",
       "pH                      0.019506\n",
       "Name: quality, dtype: float64"
      ]
     },
<<<<<<< HEAD
     "execution_count": 9,
=======
     "execution_count": 8,
>>>>>>> upstream/main
     "metadata": {},
     "output_type": "execute_result"
    }
   ],
   "source": [
    "# Let's look at the correlations with 'quality'\n",
    "# (our dependent variable) in particular.\n",
    "\n",
    "wine_corrs = wine.corr()['quality'].map(abs).sort_values(ascending=False)\n",
    "wine_corrs"
   ]
  },
  {
   "cell_type": "markdown",
   "metadata": {
    "hidden": true,
    "slideshow": {
     "slide_type": "slide"
    }
   },
   "source": [
    "It looks like we can see the features have different correlations with the target. The larger the correlation, the more we'd expect these features to be better predictors."
   ]
  },
  {
   "cell_type": "markdown",
   "metadata": {
    "hidden": true,
    "slideshow": {
     "slide_type": "fragment"
    }
   },
   "source": [
    "Let's try using only a subset of the strongest correlated features to make our model."
   ]
  },
  {
   "cell_type": "code",
<<<<<<< HEAD
   "execution_count": 10,
=======
   "execution_count": 9,
>>>>>>> upstream/main
   "metadata": {
    "hidden": true,
    "slideshow": {
     "slide_type": "slide"
    }
   },
   "outputs": [],
   "source": [
    "# Let's choose 'alcohol' and 'density'.\n",
    "\n",
    "wine_preds = wine[['alcohol', 'density']]\n",
    "wine_target = wine['quality']"
   ]
  },
  {
   "cell_type": "code",
<<<<<<< HEAD
   "execution_count": 12,
=======
   "execution_count": 10,
>>>>>>> upstream/main
   "metadata": {
    "hidden": true,
    "slideshow": {
     "slide_type": "fragment"
    }
   },
   "outputs": [],
   "source": [
    "# extensiate\n",
    "lr = LinearRegression()"
   ]
  },
  {
   "cell_type": "code",
<<<<<<< HEAD
   "execution_count": 13,
=======
   "execution_count": 11,
>>>>>>> upstream/main
   "metadata": {
    "hidden": true,
    "slideshow": {
     "slide_type": "fragment"
    }
   },
   "outputs": [
    {
     "data": {
      "text/plain": [
       "LinearRegression()"
      ]
     },
<<<<<<< HEAD
     "execution_count": 13,
=======
     "execution_count": 11,
>>>>>>> upstream/main
     "metadata": {},
     "output_type": "execute_result"
    }
   ],
   "source": [
    "#fit\n",
    "lr.fit(wine_preds, wine_target)"
   ]
  },
  {
   "cell_type": "code",
<<<<<<< HEAD
   "execution_count": 14,
=======
   "execution_count": 12,
>>>>>>> upstream/main
   "metadata": {
    "hidden": true,
    "slideshow": {
     "slide_type": "fragment"
    }
   },
   "outputs": [
    {
     "data": {
      "text/plain": [
       "0.19741993980311312"
      ]
     },
<<<<<<< HEAD
     "execution_count": 14,
=======
     "execution_count": 12,
>>>>>>> upstream/main
     "metadata": {},
     "output_type": "execute_result"
    }
   ],
   "source": [
    "# r2 score\n",
    "lr.score(wine_preds, wine_target)\n",
    "# good r2 score is close to 1 , this is not a good one"
   ]
  },
  {
   "cell_type": "markdown",
   "metadata": {
    "heading_collapsed": true,
    "hidden": true,
    "slideshow": {
     "slide_type": "slide"
    }
   },
   "source": [
    "## Multicollinearity"
   ]
  },
  {
   "cell_type": "markdown",
   "metadata": {
    "slideshow": {
     "slide_type": "fragment"
    }
   },
   "source": [
    "Multicollinearity describes the correlation between distinct predictors. Why might high multicollinearity be a problem for interpreting a linear regression model?\n"
   ]
  },
  {
   "cell_type": "markdown",
   "metadata": {
    "slideshow": {
     "slide_type": "fragment"
    }
   },
   "source": [
    "<details>\n",
    "    <summary>Answer</summary>\n",
    "       \n",
    "It's problematic for statistics in an inferential mode because, if $x_1$ and $x_2$ are highly correlated with $y$ but also *with each other*, then it will be very difficult to tease apart the effects of $x_1$ on $y$ and the effects of $x_2$ on $y$. If I really want to have a good sense of the effect of $x_1$ on $y$, then I'd like to vary $x_1$ while keeping the other features constant. But if $x_1$ is highly correlated with $x_2$ then this will be a practically impossible exercise!\n",
    "\n",
    "> We will return to this topic again. For more, see [this post](https://towardsdatascience.com/https-towardsdatascience-com-multicollinearity-how-does-it-create-a-problem-72956a49058).\n",
    "\n",
    "</details>"
   ]
  },
  {
   "cell_type": "code",
   "execution_count": null,
   "metadata": {},
   "outputs": [],
   "source": [
    "# you don't want independent variables that are correlated with each other, \n",
    "# its hard to see which has more effect, which one is giving the clear influence \n",
    "# independent predictable variations"
   ]
  },
  {
   "cell_type": "markdown",
   "metadata": {
    "hidden": true,
    "slideshow": {
     "slide_type": "slide"
    }
   },
   "source": [
    "A further assumption for multiple linear regression is that **the predictors are independent.**"
   ]
  },
  {
   "cell_type": "markdown",
   "metadata": {
    "hidden": true,
    "slideshow": {
     "slide_type": "fragment"
    }
   },
   "source": [
    "**How can I check for this?**\n",
    "- Check the model Condition Number.\n",
    "- Check the correlation values.\n",
    "- Compute Variance Inflation Factors ([VIFs] - if vif over 5 consider droping it, not all of them (https://www.statsmodels.org/devel/generated/statsmodels.stats.outliers_influence.variance_inflation_factor.html))."
   ]
  },
  {
   "cell_type": "markdown",
   "metadata": {
    "hidden": true,
    "slideshow": {
     "slide_type": "slide"
    }
   },
   "source": [
    "**What can I do if it looks like I'm violating this assumption?**\n",
    "\n",
    "- Consider dropping offending predictors\n",
    "- We'll have much more to say about this topic in future lessons!"
   ]
  },
  {
   "cell_type": "markdown",
   "metadata": {
    "heading_collapsed": true,
    "slideshow": {
     "slide_type": "slide"
    }
   },
   "source": [
    "# Recursive Feature Elimination"
   ]
  },
  {
   "cell_type": "markdown",
   "metadata": {
    "hidden": true,
    "slideshow": {
     "slide_type": "slide"
    }
   },
   "source": [
    "The idea behind recursive feature elimination is to start with all predictive features and then build down to a small set of features slowly, by eliminating the features with the lowest coefficients.\n",
    "\n",
    "That is:\n",
    "\n",
    "1. Start with a model with _all_ $n$ predictors\n",
    "2. find the predictor with the smallest effect (coefficient)\n",
    "3. throw that predictor out and build a model with the remaining $n-1$ predictors\n",
    "4. set $n = n-1$ and repeat until $n-1$ has the value you want!"
   ]
  },
  {
   "cell_type": "code",
   "execution_count": 15,
   "metadata": {},
   "outputs": [],
   "source": [
    "# keep deleting until you find the top 3 ..."
   ]
  },
  {
   "cell_type": "markdown",
   "metadata": {
    "heading_collapsed": true,
    "hidden": true,
    "slideshow": {
     "slide_type": "slide"
    }
   },
   "source": [
    "## Recursive Feature Elimination in Scikit-Learn"
   ]
  },
  {
   "cell_type": "code",
<<<<<<< HEAD
   "execution_count": 16,
=======
   "execution_count": 13,
>>>>>>> upstream/main
   "metadata": {
    "hidden": true,
    "slideshow": {
     "slide_type": "fragment"
    }
   },
   "outputs": [],
   "source": [
    "lr_rfe = LinearRegression()\n",
    "select = RFE(lr_rfe, n_features_to_select=3) # 3 columns"
   ]
  },
  {
   "cell_type": "code",
<<<<<<< HEAD
   "execution_count": 17,
=======
   "execution_count": 14,
>>>>>>> upstream/main
   "metadata": {
    "hidden": true,
    "slideshow": {
     "slide_type": "fragment"
    }
   },
   "outputs": [],
   "source": [
    "ss = StandardScaler()\n",
    "ss.fit(wine.drop('quality', axis=1))\n",
    "\n",
    "wine_scaled = ss.transform(wine.drop('quality', axis=1))"
   ]
  },
  {
   "cell_type": "code",
<<<<<<< HEAD
   "execution_count": 18,
=======
   "execution_count": 15,
>>>>>>> upstream/main
   "metadata": {
    "hidden": true,
    "slideshow": {
     "slide_type": "fragment"
    }
   },
   "outputs": [
    {
     "data": {
      "text/plain": [
       "RFE(estimator=LinearRegression(), n_features_to_select=3)"
      ]
     },
<<<<<<< HEAD
     "execution_count": 18,
=======
     "execution_count": 15,
>>>>>>> upstream/main
     "metadata": {},
     "output_type": "execute_result"
    }
   ],
   "source": [
    "select.fit(X=wine_scaled, y=wine['quality'])"
   ]
  },
  {
   "cell_type": "code",
<<<<<<< HEAD
   "execution_count": 21,
=======
   "execution_count": 16,
>>>>>>> upstream/main
   "metadata": {
    "hidden": true,
    "slideshow": {
     "slide_type": "slide"
    }
   },
   "outputs": [
    {
     "data": {
      "text/plain": [
       "array([False,  True, False, False, False, False, False, False, False,\n",
       "       False,  True,  True])"
      ]
     },
<<<<<<< HEAD
     "execution_count": 21,
=======
     "execution_count": 16,
>>>>>>> upstream/main
     "metadata": {},
     "output_type": "execute_result"
    }
   ],
   "source": [
    "select.support_\n",
    "# true is where the predictor is choosen, based on the coeff (lowest take it away, or ranking)"
   ]
  },
  {
   "cell_type": "code",
<<<<<<< HEAD
   "execution_count": 20,
=======
   "execution_count": 17,
>>>>>>> upstream/main
   "metadata": {
    "slideshow": {
     "slide_type": "fragment"
    }
   },
   "outputs": [
    {
     "data": {
      "text/html": [
       "<div>\n",
       "<style scoped>\n",
       "    .dataframe tbody tr th:only-of-type {\n",
       "        vertical-align: middle;\n",
       "    }\n",
       "\n",
       "    .dataframe tbody tr th {\n",
       "        vertical-align: top;\n",
       "    }\n",
       "\n",
       "    .dataframe thead th {\n",
       "        text-align: right;\n",
       "    }\n",
       "</style>\n",
       "<table border=\"1\" class=\"dataframe\">\n",
       "  <thead>\n",
       "    <tr style=\"text-align: right;\">\n",
       "      <th></th>\n",
       "      <th>fixed acidity</th>\n",
       "      <th>volatile acidity</th>\n",
       "      <th>citric acid</th>\n",
       "      <th>residual sugar</th>\n",
       "      <th>chlorides</th>\n",
       "      <th>free sulfur dioxide</th>\n",
       "      <th>total sulfur dioxide</th>\n",
       "      <th>density</th>\n",
       "      <th>pH</th>\n",
       "      <th>sulphates</th>\n",
       "      <th>alcohol</th>\n",
       "      <th>red_wine</th>\n",
       "    </tr>\n",
       "  </thead>\n",
       "  <tbody>\n",
       "    <tr>\n",
       "      <th>0</th>\n",
       "      <td>7.4</td>\n",
       "      <td>0.70</td>\n",
       "      <td>0.00</td>\n",
       "      <td>1.9</td>\n",
       "      <td>0.076</td>\n",
       "      <td>11.0</td>\n",
       "      <td>34.0</td>\n",
       "      <td>0.9978</td>\n",
       "      <td>3.51</td>\n",
       "      <td>0.56</td>\n",
       "      <td>9.4</td>\n",
       "      <td>1</td>\n",
       "    </tr>\n",
       "    <tr>\n",
       "      <th>1</th>\n",
       "      <td>7.8</td>\n",
       "      <td>0.88</td>\n",
       "      <td>0.00</td>\n",
       "      <td>2.6</td>\n",
       "      <td>0.098</td>\n",
       "      <td>25.0</td>\n",
       "      <td>67.0</td>\n",
       "      <td>0.9968</td>\n",
       "      <td>3.20</td>\n",
       "      <td>0.68</td>\n",
       "      <td>9.8</td>\n",
       "      <td>1</td>\n",
       "    </tr>\n",
       "    <tr>\n",
       "      <th>2</th>\n",
       "      <td>7.8</td>\n",
       "      <td>0.76</td>\n",
       "      <td>0.04</td>\n",
       "      <td>2.3</td>\n",
       "      <td>0.092</td>\n",
       "      <td>15.0</td>\n",
       "      <td>54.0</td>\n",
       "      <td>0.9970</td>\n",
       "      <td>3.26</td>\n",
       "      <td>0.65</td>\n",
       "      <td>9.8</td>\n",
       "      <td>1</td>\n",
       "    </tr>\n",
       "    <tr>\n",
       "      <th>3</th>\n",
       "      <td>11.2</td>\n",
       "      <td>0.28</td>\n",
       "      <td>0.56</td>\n",
       "      <td>1.9</td>\n",
       "      <td>0.075</td>\n",
       "      <td>17.0</td>\n",
       "      <td>60.0</td>\n",
       "      <td>0.9980</td>\n",
       "      <td>3.16</td>\n",
       "      <td>0.58</td>\n",
       "      <td>9.8</td>\n",
       "      <td>1</td>\n",
       "    </tr>\n",
       "    <tr>\n",
       "      <th>4</th>\n",
       "      <td>7.4</td>\n",
       "      <td>0.70</td>\n",
       "      <td>0.00</td>\n",
       "      <td>1.9</td>\n",
       "      <td>0.076</td>\n",
       "      <td>11.0</td>\n",
       "      <td>34.0</td>\n",
       "      <td>0.9978</td>\n",
       "      <td>3.51</td>\n",
       "      <td>0.56</td>\n",
       "      <td>9.4</td>\n",
       "      <td>1</td>\n",
       "    </tr>\n",
       "  </tbody>\n",
       "</table>\n",
       "</div>"
      ],
      "text/plain": [
       "   fixed acidity  volatile acidity  citric acid  residual sugar  chlorides  \\\n",
       "0            7.4              0.70         0.00             1.9      0.076   \n",
       "1            7.8              0.88         0.00             2.6      0.098   \n",
       "2            7.8              0.76         0.04             2.3      0.092   \n",
       "3           11.2              0.28         0.56             1.9      0.075   \n",
       "4            7.4              0.70         0.00             1.9      0.076   \n",
       "\n",
       "   free sulfur dioxide  total sulfur dioxide  density    pH  sulphates  \\\n",
       "0                 11.0                  34.0   0.9978  3.51       0.56   \n",
       "1                 25.0                  67.0   0.9968  3.20       0.68   \n",
       "2                 15.0                  54.0   0.9970  3.26       0.65   \n",
       "3                 17.0                  60.0   0.9980  3.16       0.58   \n",
       "4                 11.0                  34.0   0.9978  3.51       0.56   \n",
       "\n",
       "   alcohol  red_wine  \n",
       "0      9.4         1  \n",
       "1      9.8         1  \n",
       "2      9.8         1  \n",
       "3      9.8         1  \n",
       "4      9.4         1  "
      ]
     },
<<<<<<< HEAD
     "execution_count": 20,
=======
     "execution_count": 17,
>>>>>>> upstream/main
     "metadata": {},
     "output_type": "execute_result"
    }
   ],
   "source": [
    "wine.drop('quality', axis=1).head()"
   ]
  },
  {
   "cell_type": "code",
<<<<<<< HEAD
   "execution_count": 22,
=======
   "execution_count": 18,
>>>>>>> upstream/main
   "metadata": {
    "hidden": true,
    "slideshow": {
     "slide_type": "fragment"
    }
   },
   "outputs": [
    {
     "data": {
      "text/plain": [
       "array([ 5,  1, 10,  2,  9,  7,  8,  3,  6,  4,  1,  1])"
      ]
     },
<<<<<<< HEAD
     "execution_count": 22,
=======
     "execution_count": 18,
>>>>>>> upstream/main
     "metadata": {},
     "output_type": "execute_result"
    }
   ],
   "source": [
    "select.ranking_ \n",
    "# 1 - are the ones we choose , after that number 2 is the next highest coeff, and 3 is the next , so on\n"
   ]
  },
  {
   "cell_type": "markdown",
   "metadata": {
    "hidden": true,
    "slideshow": {
     "slide_type": "fragment"
    }
   },
   "source": [
    "These features are volatile acidity, alcohol, and red_wine."
   ]
  },
  {
   "cell_type": "markdown",
   "metadata": {
    "hidden": true,
    "slideshow": {
     "slide_type": "slide"
    }
   },
   "source": [
    "> **Caution**: RFE is probably not a good strategy if your initial dataset has many predictors. It will likely be easier to start with a *simple* model and then slowly increase its complexity. This is also good advice for when you're first getting your feet wet with `sklearn`!"
   ]
  },
  {
   "cell_type": "markdown",
   "metadata": {
    "hidden": true,
    "slideshow": {
     "slide_type": "fragment"
    }
   },
   "source": [
    "For more on feature selection, see [this post](https://towardsdatascience.com/the-5-feature-selection-algorithms-every-data-scientist-need-to-know-3a6b566efd2)."
   ]
  },
  {
   "cell_type": "markdown",
   "metadata": {
    "heading_collapsed": true,
    "slideshow": {
     "slide_type": "slide"
    }
   },
   "source": [
    "# Feature Engineering"
   ]
  },
  {
   "cell_type": "markdown",
   "metadata": {
    "hidden": true,
    "slideshow": {
     "slide_type": "fragment"
    }
   },
   "source": [
    "> Domain knowledge can be helpful here! 🧠"
   ]
  },
  {
   "cell_type": "markdown",
   "metadata": {
    "hidden": true,
    "slideshow": {
     "slide_type": "slide"
    }
   },
   "source": [
    "In practice this aspect of data preparation can constitute a huge part of the data scientist's work. As we move into data modeling, much of the goal will be a matter of finding––**or creating**––features that are predictive of the targets we are trying to model.\n",
    "\n",
    "There are infinitely many ways of transforming and combining a starting set of features. Good data scientists will have a nose for which engineering operations will be likely to yield fruit and for which operations won't. And part of the game here may be getting someone else on your team who understands what the data represent better than you!"
   ]
  }
 ],
 "metadata": {
  "kernelspec": {
   "display_name": "Python (myenv)",
   "language": "python",
   "name": "myenv"
  },
  "language_info": {
   "codemirror_mode": {
    "name": "ipython",
    "version": 3
   },
   "file_extension": ".py",
   "mimetype": "text/x-python",
   "name": "python",
   "nbconvert_exporter": "python",
   "pygments_lexer": "ipython3",
   "version": "3.9.12"
  },
  "toc": {
   "base_numbering": 1,
   "nav_menu": {},
   "number_sections": true,
   "sideBar": true,
   "skip_h1_title": false,
   "title_cell": "Table of Contents",
   "title_sidebar": "Contents",
   "toc_cell": true,
   "toc_position": {
    "height": "calc(100% - 180px)",
    "left": "10px",
    "top": "150px",
    "width": "380.797px"
   },
   "toc_section_display": true,
   "toc_window_display": true
  }
 },
 "nbformat": 4,
 "nbformat_minor": 4
}
