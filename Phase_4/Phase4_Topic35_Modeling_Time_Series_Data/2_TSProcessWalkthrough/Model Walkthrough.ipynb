{
 "cells": [
  {
   "cell_type": "markdown",
   "metadata": {
    "slideshow": {
     "slide_type": "slide"
    },
    "toc": true
   },
   "source": [
    "<h1>Table of Contents<span class=\"tocSkip\"></span></h1>\n",
    "<div class=\"toc\"><ul class=\"toc-item\"><li><span><a href=\"#Learning-Goals\" data-toc-modified-id=\"Learning-Goals-1\"><span class=\"toc-item-num\">1&nbsp;&nbsp;</span>Learning Goals</a></span></li><li><span><a href=\"#Time-Series-Models\" data-toc-modified-id=\"Time-Series-Models-2\"><span class=\"toc-item-num\">2&nbsp;&nbsp;</span>Time Series Models</a></span><ul class=\"toc-item\"><li><span><a href=\"#Chicago-Gun-Data\" data-toc-modified-id=\"Chicago-Gun-Data-2.1\"><span class=\"toc-item-num\">2.1&nbsp;&nbsp;</span>Chicago Gun Data</a></span><ul class=\"toc-item\"><li><span><a href=\"#sklearn.model_selection.TimeSeriesSplit\" data-toc-modified-id=\"sklearn.model_selection.TimeSeriesSplit-2.1.1\"><span class=\"toc-item-num\">2.1.1&nbsp;&nbsp;</span><code>sklearn.model_selection.TimeSeriesSplit</code></a></span></li></ul></li><li><span><a href=\"#Baseline\" data-toc-modified-id=\"Baseline-2.2\"><span class=\"toc-item-num\">2.2&nbsp;&nbsp;</span>Baseline</a></span></li><li><span><a href=\"#The-Autoregressive-Model-(AR)\" data-toc-modified-id=\"The-Autoregressive-Model-(AR)-2.3\"><span class=\"toc-item-num\">2.3&nbsp;&nbsp;</span>The Autoregressive Model (AR)</a></span><ul class=\"toc-item\"><li><span><a href=\"#statsmodels.tsa.arima_model.ARIMA\" data-toc-modified-id=\"statsmodels.tsa.arima_model.ARIMA-2.3.1\"><span class=\"toc-item-num\">2.3.1&nbsp;&nbsp;</span><a href=\"https://www.statsmodels.org/devel/generated/statsmodels.tsa.arima.model.ARIMA.html\" target=\"_blank\"><code>statsmodels.tsa.arima_model.ARIMA</code></a></a></span></li><li><span><a href=\"#Sidebar:-Akaike-Information-Criterion\" data-toc-modified-id=\"Sidebar:-Akaike-Information-Criterion-2.3.2\"><span class=\"toc-item-num\">2.3.2&nbsp;&nbsp;</span>Sidebar: Akaike Information Criterion</a></span></li><li><span><a href=\"#Cross-Validation\" data-toc-modified-id=\"Cross-Validation-2.3.3\"><span class=\"toc-item-num\">2.3.3&nbsp;&nbsp;</span>Cross-Validation</a></span></li><li><span><a href=\"#Comparison-with-sklearn.linear_model.LinearRegression\" data-toc-modified-id=\"Comparison-with-sklearn.linear_model.LinearRegression-2.3.4\"><span class=\"toc-item-num\">2.3.4&nbsp;&nbsp;</span>Comparison with <code>sklearn.linear_model.LinearRegression</code></a></span></li><li><span><a href=\"#Adding-a-Term\" data-toc-modified-id=\"Adding-a-Term-2.3.5\"><span class=\"toc-item-num\">2.3.5&nbsp;&nbsp;</span>Adding a Term</a></span></li></ul></li><li><span><a href=\"#Moving-Average-Model-(MA)\" data-toc-modified-id=\"Moving-Average-Model-(MA)-2.4\"><span class=\"toc-item-num\">2.4&nbsp;&nbsp;</span>Moving Average Model (MA)</a></span></li><li><span><a href=\"#ARMA\" data-toc-modified-id=\"ARMA-2.5\"><span class=\"toc-item-num\">2.5&nbsp;&nbsp;</span>ARMA</a></span></li></ul></li><li><span><a href=\"#LEVEL-UPS\" data-toc-modified-id=\"LEVEL-UPS-3\"><span class=\"toc-item-num\">3&nbsp;&nbsp;</span>LEVEL UPS</a></span><ul class=\"toc-item\"><li><span><a href=\"#ACF-and-PACF\" data-toc-modified-id=\"ACF-and-PACF-3.1\"><span class=\"toc-item-num\">3.1&nbsp;&nbsp;</span>ACF and PACF</a></span><ul class=\"toc-item\"><li><span><a href=\"#PACF\" data-toc-modified-id=\"PACF-3.1.1\"><span class=\"toc-item-num\">3.1.1&nbsp;&nbsp;</span>PACF</a></span></li><li><span><a href=\"#ACF\" data-toc-modified-id=\"ACF-3.1.2\"><span class=\"toc-item-num\">3.1.2&nbsp;&nbsp;</span>ACF</a></span></li></ul></li><li><span><a href=\"#Testing\" data-toc-modified-id=\"Testing-3.2\"><span class=\"toc-item-num\">3.2&nbsp;&nbsp;</span>Testing</a></span></li><li><span><a href=\"#SARIMA\" data-toc-modified-id=\"SARIMA-3.3\"><span class=\"toc-item-num\">3.3&nbsp;&nbsp;</span>SARIMA</a></span></li><li><span><a href=\"#Forecast\" data-toc-modified-id=\"Forecast-3.4\"><span class=\"toc-item-num\">3.4&nbsp;&nbsp;</span>Forecast</a></span></li></ul></li></ul></div>"
   ]
  },
  {
   "cell_type": "markdown",
   "metadata": {
    "slideshow": {
     "slide_type": "slide"
    }
   },
   "source": [
    "<div style=\"color:white;\n",
    "           display:fill;\n",
    "           border-radius:5px;\n",
    "           background-color:#5642C5;\n",
    "           font-size:200%;\n",
    "           font-family:Arial;letter-spacing:0.5px\">\n",
    "\n",
    "<p width = 20%, style=\"padding: 10px;\n",
    "              color:white;\">\n",
    "Time Series Modeling</p>\n",
    "</div>\n",
    "\n",
    "Data Science Cohort Live NYC Nov 2022\n",
    "<p>Phase 4: Topic 35</p>\n",
    "<br>\n",
    "<br>\n",
    "\n",
    "<div align = \"right\">\n",
    "<img src=\"images/flatiron-school-logo.png\" align = \"right\" width=\"200\"/>\n",
    "</div>"
   ]
  },
  {
   "cell_type": "markdown",
   "metadata": {
    "heading_collapsed": true,
    "slideshow": {
     "slide_type": "slide"
    }
   },
   "source": [
    "# Learning Goals"
   ]
  },
  {
   "cell_type": "markdown",
   "metadata": {
    "hidden": true,
    "slideshow": {
     "slide_type": "fragment"
    }
   },
   "source": [
    "- Build time-series models with `statsmodels`\n",
    "- Cross-validate time-series models"
   ]
  },
  {
   "cell_type": "markdown",
   "metadata": {
    "heading_collapsed": true,
    "slideshow": {
     "slide_type": "slide"
    }
   },
   "source": [
    "# Time Series Models"
   ]
  },
  {
   "cell_type": "code",
   "execution_count": 1,
   "metadata": {
    "hidden": true,
    "slideshow": {
     "slide_type": "fragment"
    }
   },
   "outputs": [],
   "source": [
    "from random import gauss as gs\n",
    "import pandas as pd\n",
    "import numpy as np\n",
    "import matplotlib.pyplot as plt\n",
    "from sklearn.metrics import mean_squared_error\n",
    "from sklearn.linear_model import LinearRegression\n",
    "from sklearn.model_selection import TimeSeriesSplit\n",
    "\n",
    "import itertools\n",
    "\n",
    "#statsmodels\n",
    "from statsmodels.tsa.arima.model import ARIMA\n",
    "from statsmodels.tsa.stattools import acf, pacf, adfuller\n",
    "from statsmodels.graphics.tsaplots import plot_acf, plot_pacf\n",
    "from statsmodels.tsa.statespace.sarimax import SARIMAX\n",
    "\n",
    "\n",
    "%matplotlib inline"
   ]
  },
  {
   "cell_type": "code",
   "execution_count": 2,
   "metadata": {
    "hidden": true,
    "slideshow": {
     "slide_type": "slide"
    }
   },
   "outputs": [],
   "source": [
    "def display_df(dftest):\n",
    "    '''\n",
    "    Display the output from a Dickey-Fuller test in a more readable format\n",
    "    '''\n",
    "    \n",
    "    \n",
    "    dfoutput = pd.Series(\n",
    "                dftest[0:4], \n",
    "                index=['Test Statistic','p-value','#Lags Used','Number of Observations Used'])\n",
    "\n",
    "    for key,value in dftest[4].items():\n",
    "        dfoutput['Critical Value (%s)'%key] = value\n",
    "\n",
    "    display(dfoutput)\n",
    "    \n",
    "    print(f\"The p-value associated with the Dickey-Fuller statistical test is {dfoutput['p-value']},\")\n",
    "    if dfoutput['p-value'] < 0.05:\n",
    "        print(\" so we can safely assume that the differenced data is stationary.\")\n",
    "    else:\n",
    "        print(\" so we cannot reject the null hypothesis that the differenced data is \\\n",
    "    not stationary.\")"
   ]
  },
  {
   "cell_type": "markdown",
   "metadata": {
    "heading_collapsed": true,
    "hidden": true,
    "slideshow": {
     "slide_type": "slide"
    }
   },
   "source": [
    "## Chicago Gun Data"
   ]
  },
  {
   "cell_type": "markdown",
   "metadata": {
    "hidden": true,
    "slideshow": {
     "slide_type": "fragment"
    }
   },
   "source": [
    "Let's reimport our chicago gun crime data, and prepare it in the same manner as the last notebook.\n"
   ]
  },
  {
   "cell_type": "code",
   "execution_count": 3,
   "metadata": {
    "hidden": true,
    "slideshow": {
     "slide_type": "slide"
    }
   },
   "outputs": [],
   "source": [
    "ts = pd.read_csv('data/Gun_Crimes_Heat_Map.csv')\n",
    "ts['Date'] = pd.to_datetime(ts.Date)\n",
    "ts_minute = ts.groupby('Date').count()['ID']\n",
    "daily_count = ts_minute.resample('D').sum()\n",
    "daily_count = daily_count[daily_count < 90]\n",
    "\n",
    "ts_dr = pd.date_range(daily_count.index[0], daily_count.index[-1])\n",
    "ts_daily = np.empty(shape=len(ts_dr))\n",
    "ts_daily = pd.Series(ts_daily)\n",
    "ts_daily = ts_daily.reindex(ts_dr)\n",
    "ts_daily = ts_daily.fillna(daily_count)\n",
    "ts_daily = ts_daily.interpolate()\n",
    "\n",
    "ts_weekly = ts_daily.resample('W').mean()"
   ]
  },
  {
   "cell_type": "code",
   "execution_count": 4,
   "metadata": {
    "slideshow": {
     "slide_type": "slide"
    }
   },
   "outputs": [
    {
     "data": {
      "text/html": [
       "<div>\n",
       "<style scoped>\n",
       "    .dataframe tbody tr th:only-of-type {\n",
       "        vertical-align: middle;\n",
       "    }\n",
       "\n",
       "    .dataframe tbody tr th {\n",
       "        vertical-align: top;\n",
       "    }\n",
       "\n",
       "    .dataframe thead th {\n",
       "        text-align: right;\n",
       "    }\n",
       "</style>\n",
       "<table border=\"1\" class=\"dataframe\">\n",
       "  <thead>\n",
       "    <tr style=\"text-align: right;\">\n",
       "      <th></th>\n",
       "      <th>ID</th>\n",
       "      <th>Case Number</th>\n",
       "      <th>Date</th>\n",
       "      <th>Block</th>\n",
       "      <th>IUCR</th>\n",
       "      <th>Primary Type</th>\n",
       "      <th>Description</th>\n",
       "      <th>Location Description</th>\n",
       "      <th>Arrest</th>\n",
       "      <th>Domestic</th>\n",
       "      <th>...</th>\n",
       "      <th>Ward</th>\n",
       "      <th>Community Area</th>\n",
       "      <th>FBI Code</th>\n",
       "      <th>X Coordinate</th>\n",
       "      <th>Y Coordinate</th>\n",
       "      <th>Year</th>\n",
       "      <th>Updated On</th>\n",
       "      <th>Latitude</th>\n",
       "      <th>Longitude</th>\n",
       "      <th>Location</th>\n",
       "    </tr>\n",
       "  </thead>\n",
       "  <tbody>\n",
       "    <tr>\n",
       "      <th>0</th>\n",
       "      <td>9446834</td>\n",
       "      <td>HX100098</td>\n",
       "      <td>2014-01-01 00:02:00</td>\n",
       "      <td>072XX S MORGAN ST</td>\n",
       "      <td>1477</td>\n",
       "      <td>WEAPONS VIOLATION</td>\n",
       "      <td>RECKLESS FIREARM DISCHARGE</td>\n",
       "      <td>RESIDENTIAL YARD (FRONT/BACK)</td>\n",
       "      <td>True</td>\n",
       "      <td>False</td>\n",
       "      <td>...</td>\n",
       "      <td>17.0</td>\n",
       "      <td>68</td>\n",
       "      <td>15</td>\n",
       "      <td>1170897.0</td>\n",
       "      <td>1856795.0</td>\n",
       "      <td>2014</td>\n",
       "      <td>02/10/2018 03:50:01 PM</td>\n",
       "      <td>41.762519</td>\n",
       "      <td>-87.649198</td>\n",
       "      <td>(41.762519013, -87.64919809)</td>\n",
       "    </tr>\n",
       "    <tr>\n",
       "      <th>1</th>\n",
       "      <td>9446765</td>\n",
       "      <td>HX100013</td>\n",
       "      <td>2014-01-01 00:03:00</td>\n",
       "      <td>064XX S ROCKWELL ST</td>\n",
       "      <td>143A</td>\n",
       "      <td>WEAPONS VIOLATION</td>\n",
       "      <td>UNLAWFUL POSS OF HANDGUN</td>\n",
       "      <td>RESIDENTIAL YARD (FRONT/BACK)</td>\n",
       "      <td>True</td>\n",
       "      <td>False</td>\n",
       "      <td>...</td>\n",
       "      <td>15.0</td>\n",
       "      <td>66</td>\n",
       "      <td>15</td>\n",
       "      <td>1160145.0</td>\n",
       "      <td>1861909.0</td>\n",
       "      <td>2014</td>\n",
       "      <td>02/10/2018 03:50:01 PM</td>\n",
       "      <td>41.776780</td>\n",
       "      <td>-87.688465</td>\n",
       "      <td>(41.776780469, -87.688465418)</td>\n",
       "    </tr>\n",
       "    <tr>\n",
       "      <th>2</th>\n",
       "      <td>9446921</td>\n",
       "      <td>HX100067</td>\n",
       "      <td>2014-01-01 00:04:00</td>\n",
       "      <td>048XX S PRAIRIE AVE</td>\n",
       "      <td>1460</td>\n",
       "      <td>WEAPONS VIOLATION</td>\n",
       "      <td>POSS FIREARM/AMMO:NO FOID CARD</td>\n",
       "      <td>APARTMENT</td>\n",
       "      <td>True</td>\n",
       "      <td>False</td>\n",
       "      <td>...</td>\n",
       "      <td>3.0</td>\n",
       "      <td>38</td>\n",
       "      <td>15</td>\n",
       "      <td>1178859.0</td>\n",
       "      <td>1872997.0</td>\n",
       "      <td>2014</td>\n",
       "      <td>02/04/2016 06:33:39 AM</td>\n",
       "      <td>41.806801</td>\n",
       "      <td>-87.619523</td>\n",
       "      <td>(41.806801421, -87.61952336)</td>\n",
       "    </tr>\n",
       "    <tr>\n",
       "      <th>3</th>\n",
       "      <td>9446783</td>\n",
       "      <td>HX100093</td>\n",
       "      <td>2014-01-01 00:05:00</td>\n",
       "      <td>011XX W 50TH ST</td>\n",
       "      <td>143A</td>\n",
       "      <td>WEAPONS VIOLATION</td>\n",
       "      <td>UNLAWFUL POSS OF HANDGUN</td>\n",
       "      <td>PARKING LOT/GARAGE(NON.RESID.)</td>\n",
       "      <td>True</td>\n",
       "      <td>False</td>\n",
       "      <td>...</td>\n",
       "      <td>16.0</td>\n",
       "      <td>61</td>\n",
       "      <td>15</td>\n",
       "      <td>1169689.0</td>\n",
       "      <td>1871646.0</td>\n",
       "      <td>2014</td>\n",
       "      <td>02/10/2018 03:50:01 PM</td>\n",
       "      <td>41.803298</td>\n",
       "      <td>-87.653195</td>\n",
       "      <td>(41.8032982, -87.653195042)</td>\n",
       "    </tr>\n",
       "    <tr>\n",
       "      <th>4</th>\n",
       "      <td>9446811</td>\n",
       "      <td>HX100017</td>\n",
       "      <td>2014-01-01 00:05:00</td>\n",
       "      <td>031XX W WALNUT ST</td>\n",
       "      <td>143A</td>\n",
       "      <td>WEAPONS VIOLATION</td>\n",
       "      <td>UNLAWFUL POSS OF HANDGUN</td>\n",
       "      <td>RESIDENCE PORCH/HALLWAY</td>\n",
       "      <td>True</td>\n",
       "      <td>False</td>\n",
       "      <td>...</td>\n",
       "      <td>27.0</td>\n",
       "      <td>27</td>\n",
       "      <td>15</td>\n",
       "      <td>1155344.0</td>\n",
       "      <td>1901461.0</td>\n",
       "      <td>2014</td>\n",
       "      <td>02/10/2018 03:50:01 PM</td>\n",
       "      <td>41.885414</td>\n",
       "      <td>-87.705005</td>\n",
       "      <td>(41.885413516, -87.705005317)</td>\n",
       "    </tr>\n",
       "  </tbody>\n",
       "</table>\n",
       "<p>5 rows × 22 columns</p>\n",
       "</div>"
      ],
      "text/plain": [
       "        ID Case Number                Date                Block  IUCR  \\\n",
       "0  9446834    HX100098 2014-01-01 00:02:00    072XX S MORGAN ST  1477   \n",
       "1  9446765    HX100013 2014-01-01 00:03:00  064XX S ROCKWELL ST  143A   \n",
       "2  9446921    HX100067 2014-01-01 00:04:00  048XX S PRAIRIE AVE  1460   \n",
       "3  9446783    HX100093 2014-01-01 00:05:00      011XX W 50TH ST  143A   \n",
       "4  9446811    HX100017 2014-01-01 00:05:00    031XX W WALNUT ST  143A   \n",
       "\n",
       "        Primary Type                     Description  \\\n",
       "0  WEAPONS VIOLATION      RECKLESS FIREARM DISCHARGE   \n",
       "1  WEAPONS VIOLATION        UNLAWFUL POSS OF HANDGUN   \n",
       "2  WEAPONS VIOLATION  POSS FIREARM/AMMO:NO FOID CARD   \n",
       "3  WEAPONS VIOLATION        UNLAWFUL POSS OF HANDGUN   \n",
       "4  WEAPONS VIOLATION        UNLAWFUL POSS OF HANDGUN   \n",
       "\n",
       "             Location Description  Arrest  Domestic  ...  Ward  \\\n",
       "0   RESIDENTIAL YARD (FRONT/BACK)    True     False  ...  17.0   \n",
       "1   RESIDENTIAL YARD (FRONT/BACK)    True     False  ...  15.0   \n",
       "2                       APARTMENT    True     False  ...   3.0   \n",
       "3  PARKING LOT/GARAGE(NON.RESID.)    True     False  ...  16.0   \n",
       "4         RESIDENCE PORCH/HALLWAY    True     False  ...  27.0   \n",
       "\n",
       "   Community Area  FBI Code  X Coordinate Y Coordinate  Year  \\\n",
       "0              68        15     1170897.0    1856795.0  2014   \n",
       "1              66        15     1160145.0    1861909.0  2014   \n",
       "2              38        15     1178859.0    1872997.0  2014   \n",
       "3              61        15     1169689.0    1871646.0  2014   \n",
       "4              27        15     1155344.0    1901461.0  2014   \n",
       "\n",
       "               Updated On   Latitude  Longitude                       Location  \n",
       "0  02/10/2018 03:50:01 PM  41.762519 -87.649198   (41.762519013, -87.64919809)  \n",
       "1  02/10/2018 03:50:01 PM  41.776780 -87.688465  (41.776780469, -87.688465418)  \n",
       "2  02/04/2016 06:33:39 AM  41.806801 -87.619523   (41.806801421, -87.61952336)  \n",
       "3  02/10/2018 03:50:01 PM  41.803298 -87.653195    (41.8032982, -87.653195042)  \n",
       "4  02/10/2018 03:50:01 PM  41.885414 -87.705005  (41.885413516, -87.705005317)  \n",
       "\n",
       "[5 rows x 22 columns]"
      ]
     },
     "execution_count": 4,
     "metadata": {},
     "output_type": "execute_result"
    }
   ],
   "source": [
    "ts.head()"
   ]
  },
  {
   "cell_type": "code",
   "execution_count": 5,
   "metadata": {
    "hidden": true,
    "slideshow": {
     "slide_type": "slide"
    }
   },
   "outputs": [
    {
     "data": {
      "image/png": "[encoded data removed]",
      "text/plain": [
       "<Figure size 432x288 with 1 Axes>"
      ]
     },
     "metadata": {
      "needs_background": "light"
     },
     "output_type": "display_data"
    }
   ],
   "source": [
    "fig, ax = plt.subplots()\n",
    "ax.plot(ts_weekly)\n",
    "ax.set_title(\"Weekly Reports of Gun Offenses in Chicago\");"
   ]
  },
  {
   "cell_type": "markdown",
   "metadata": {
    "hidden": true,
    "slideshow": {
     "slide_type": "fragment"
    }
   },
   "source": [
    "The train-test split for a time series is a little different from what we are used to. Because **chronological order matters**, we cannot randomly sample points in our data. Instead, we cut off a portion of our data at the end, and reserve it as our test set."
   ]
  },
  {
   "cell_type": "code",
   "execution_count": 6,
   "metadata": {
    "hidden": true,
    "slideshow": {
     "slide_type": "slide"
    }
   },
   "outputs": [
    {
     "data": {
      "text/plain": [
       "298"
      ]
     },
     "execution_count": 6,
     "metadata": {},
     "output_type": "execute_result"
    }
   ],
   "source": [
    "# find the index which allows us to split off 20% of the data\n",
    "cutoff = round(ts_weekly.shape[0]*0.8)\n",
    "cutoff"
   ]
  },
  {
   "cell_type": "code",
   "execution_count": 7,
   "metadata": {
    "hidden": true,
    "slideshow": {
     "slide_type": "fragment"
    }
   },
   "outputs": [],
   "source": [
    "# Define train and test sets according to the index found above\n",
    "train = ts_weekly[:cutoff]\n",
    "\n",
    "test = ts_weekly[cutoff:]"
   ]
  },
  {
   "cell_type": "code",
   "execution_count": 8,
   "metadata": {
    "hidden": true,
    "slideshow": {
     "slide_type": "slide"
    }
   },
   "outputs": [
    {
     "data": {
      "image/png": "[encoded data removed]",
      "text/plain": [
       "<Figure size 864x576 with 1 Axes>"
      ]
     },
     "metadata": {
      "needs_background": "light"
     },
     "output_type": "display_data"
    }
   ],
   "source": [
    "# Plot it!\n",
    "fig, ax = plt.subplots(figsize=(12, 8))\n",
    "ax.plot(train, label='train')\n",
    "ax.plot(test, label='test')\n",
    "ax.set_title('Train-Test Split');\n",
    "plt.legend();"
   ]
  },
  {
   "cell_type": "markdown",
   "metadata": {
    "hidden": true,
    "slideshow": {
     "slide_type": "slide"
    }
   },
   "source": [
    "### `sklearn.model_selection.TimeSeriesSplit`"
   ]
  },
  {
   "cell_type": "markdown",
   "metadata": {
    "hidden": true,
    "slideshow": {
     "slide_type": "fragment"
    }
   },
   "source": [
    "Let's also use `sklearn`'s in-built class to prepare our model for a kind of cross-validation:"
   ]
  },
  {
   "cell_type": "code",
   "execution_count": 9,
   "metadata": {
    "hidden": true,
    "slideshow": {
     "slide_type": "fragment"
    }
   },
   "outputs": [
    {
     "name": "stdout",
     "output_type": "stream",
     "text": [
      "Train index: [ 0  1  2  3  4  5  6  7  8  9 10 11 12 13 14 15 16 17 18 19 20 21 22 23\n",
      " 24 25 26 27 28 29 30 31 32 33 34 35 36 37 38 39 40 41 42 43 44 45 46 47\n",
      " 48 49 50 51 52]\n",
      "Test  index: [ 53  54  55  56  57  58  59  60  61  62  63  64  65  66  67  68  69  70\n",
      "  71  72  73  74  75  76  77  78  79  80  81  82  83  84  85  86  87  88\n",
      "  89  90  91  92  93  94  95  96  97  98  99 100 101]\n",
      "Train index: [  0   1   2   3   4   5   6   7   8   9  10  11  12  13  14  15  16  17\n",
      "  18  19  20  21  22  23  24  25  26  27  28  29  30  31  32  33  34  35\n",
      "  36  37  38  39  40  41  42  43  44  45  46  47  48  49  50  51  52  53\n",
      "  54  55  56  57  58  59  60  61  62  63  64  65  66  67  68  69  70  71\n",
      "  72  73  74  75  76  77  78  79  80  81  82  83  84  85  86  87  88  89\n",
      "  90  91  92  93  94  95  96  97  98  99 100 101]\n",
      "Test  index: [102 103 104 105 106 107 108 109 110 111 112 113 114 115 116 117 118 119\n",
      " 120 121 122 123 124 125 126 127 128 129 130 131 132 133 134 135 136 137\n",
      " 138 139 140 141 142 143 144 145 146 147 148 149 150]\n",
      "Train index: [  0   1   2   3   4   5   6   7   8   9  10  11  12  13  14  15  16  17\n",
      "  18  19  20  21  22  23  24  25  26  27  28  29  30  31  32  33  34  35\n",
      "  36  37  38  39  40  41  42  43  44  45  46  47  48  49  50  51  52  53\n",
      "  54  55  56  57  58  59  60  61  62  63  64  65  66  67  68  69  70  71\n",
      "  72  73  74  75  76  77  78  79  80  81  82  83  84  85  86  87  88  89\n",
      "  90  91  92  93  94  95  96  97  98  99 100 101 102 103 104 105 106 107\n",
      " 108 109 110 111 112 113 114 115 116 117 118 119 120 121 122 123 124 125\n",
      " 126 127 128 129 130 131 132 133 134 135 136 137 138 139 140 141 142 143\n",
      " 144 145 146 147 148 149 150]\n",
      "Test  index: [151 152 153 154 155 156 157 158 159 160 161 162 163 164 165 166 167 168\n",
      " 169 170 171 172 173 174 175 176 177 178 179 180 181 182 183 184 185 186\n",
      " 187 188 189 190 191 192 193 194 195 196 197 198 199]\n",
      "Train index: [  0   1   2   3   4   5   6   7   8   9  10  11  12  13  14  15  16  17\n",
      "  18  19  20  21  22  23  24  25  26  27  28  29  30  31  32  33  34  35\n",
      "  36  37  38  39  40  41  42  43  44  45  46  47  48  49  50  51  52  53\n",
      "  54  55  56  57  58  59  60  61  62  63  64  65  66  67  68  69  70  71\n",
      "  72  73  74  75  76  77  78  79  80  81  82  83  84  85  86  87  88  89\n",
      "  90  91  92  93  94  95  96  97  98  99 100 101 102 103 104 105 106 107\n",
      " 108 109 110 111 112 113 114 115 116 117 118 119 120 121 122 123 124 125\n",
      " 126 127 128 129 130 131 132 133 134 135 136 137 138 139 140 141 142 143\n",
      " 144 145 146 147 148 149 150 151 152 153 154 155 156 157 158 159 160 161\n",
      " 162 163 164 165 166 167 168 169 170 171 172 173 174 175 176 177 178 179\n",
      " 180 181 182 183 184 185 186 187 188 189 190 191 192 193 194 195 196 197\n",
      " 198 199]\n",
      "Test  index: [200 201 202 203 204 205 206 207 208 209 210 211 212 213 214 215 216 217\n",
      " 218 219 220 221 222 223 224 225 226 227 228 229 230 231 232 233 234 235\n",
      " 236 237 238 239 240 241 242 243 244 245 246 247 248]\n",
      "Train index: [  0   1   2   3   4   5   6   7   8   9  10  11  12  13  14  15  16  17\n",
      "  18  19  20  21  22  23  24  25  26  27  28  29  30  31  32  33  34  35\n",
      "  36  37  38  39  40  41  42  43  44  45  46  47  48  49  50  51  52  53\n",
      "  54  55  56  57  58  59  60  61  62  63  64  65  66  67  68  69  70  71\n",
      "  72  73  74  75  76  77  78  79  80  81  82  83  84  85  86  87  88  89\n",
      "  90  91  92  93  94  95  96  97  98  99 100 101 102 103 104 105 106 107\n",
      " 108 109 110 111 112 113 114 115 116 117 118 119 120 121 122 123 124 125\n",
      " 126 127 128 129 130 131 132 133 134 135 136 137 138 139 140 141 142 143\n",
      " 144 145 146 147 148 149 150 151 152 153 154 155 156 157 158 159 160 161\n",
      " 162 163 164 165 166 167 168 169 170 171 172 173 174 175 176 177 178 179\n",
      " 180 181 182 183 184 185 186 187 188 189 190 191 192 193 194 195 196 197\n",
      " 198 199 200 201 202 203 204 205 206 207 208 209 210 211 212 213 214 215\n",
      " 216 217 218 219 220 221 222 223 224 225 226 227 228 229 230 231 232 233\n",
      " 234 235 236 237 238 239 240 241 242 243 244 245 246 247 248]\n",
      "Test  index: [249 250 251 252 253 254 255 256 257 258 259 260 261 262 263 264 265 266\n",
      " 267 268 269 270 271 272 273 274 275 276 277 278 279 280 281 282 283 284\n",
      " 285 286 287 288 289 290 291 292 293 294 295 296 297]\n"
     ]
    }
   ],
   "source": [
    "# TimeSeriesSplit\n",
    "split = TimeSeriesSplit()\n",
    "\n",
    "for train_ind, val_ind in split.split(train):\n",
    "    print(f'Train index: {train_ind}')\n",
    "    print(f'Test  index: {val_ind}')"
   ]
  },
  {
   "cell_type": "markdown",
   "metadata": {
    "hidden": true,
    "slideshow": {
     "slide_type": "slide"
    }
   },
   "source": [
    "We will now set aside our test set, and build our model on the train."
   ]
  },
  {
   "cell_type": "markdown",
   "metadata": {
    "heading_collapsed": true,
    "hidden": true,
    "slideshow": {
     "slide_type": "slide"
    }
   },
   "source": [
    "## Baseline"
   ]
  },
  {
   "cell_type": "code",
   "execution_count": 10,
   "metadata": {
    "hidden": true,
    "slideshow": {
     "slide_type": "fragment"
    }
   },
   "outputs": [
    {
     "data": {
      "text/plain": [
       "2014-01-05    31.200000\n",
       "2014-01-12    19.000000\n",
       "2014-01-19    24.571429\n",
       "2014-01-26    24.571429\n",
       "2014-02-02    22.285714\n",
       "                ...    \n",
       "2019-08-18    42.857143\n",
       "2019-08-25    40.000000\n",
       "2019-09-01    40.000000\n",
       "2019-09-08    35.857143\n",
       "2019-09-15    42.428571\n",
       "Freq: W-SUN, Length: 298, dtype: float64"
      ]
     },
     "execution_count": 10,
     "metadata": {},
     "output_type": "execute_result"
    }
   ],
   "source": [
    "train"
   ]
  },
  {
   "cell_type": "code",
   "execution_count": 11,
   "metadata": {
    "hidden": true,
    "slideshow": {
     "slide_type": "fragment"
    }
   },
   "outputs": [
    {
     "data": {
      "text/plain": [
       "2014-01-05          NaN\n",
       "2014-01-12    31.200000\n",
       "2014-01-19    19.000000\n",
       "2014-01-26    24.571429\n",
       "2014-02-02    24.571429\n",
       "                ...    \n",
       "2019-08-18    50.571429\n",
       "2019-08-25    42.857143\n",
       "2019-09-01    40.000000\n",
       "2019-09-08    40.000000\n",
       "2019-09-15    35.857143\n",
       "Freq: W-SUN, Length: 298, dtype: float64"
      ]
     },
     "execution_count": 11,
     "metadata": {},
     "output_type": "execute_result"
    }
   ],
   "source": [
    "# we can perform this with the shift operator\n",
    "# The prediction for the next day is the original series shifted to the future by one day.\n",
    "naive = train.shift(1)\n",
    "naive"
   ]
  },
  {
   "cell_type": "code",
   "execution_count": 12,
   "metadata": {
    "hidden": true,
    "slideshow": {
     "slide_type": "slide"
    }
   },
   "outputs": [
    {
     "data": {
      "image/png": "[encoded data removed]",
      "text/plain": [
       "<Figure size 432x288 with 1 Axes>"
      ]
     },
     "metadata": {
      "needs_background": "light"
     },
     "output_type": "display_data"
    }
   ],
   "source": [
    "fig, ax = plt.subplots()\n",
    "\n",
    "train[0:30].plot(ax=ax, c='r', label='original')\n",
    "naive[0:30].plot(ax=ax, c='b', label='shifted')\n",
    "ax.set_title('naive')\n",
    "ax.legend();"
   ]
  },
  {
   "cell_type": "markdown",
   "metadata": {
    "hidden": true,
    "slideshow": {
     "slide_type": "slide"
    }
   },
   "source": [
    "For a baseline to compare our later models, lets calculate our **RMSE** for the naive model."
   ]
  },
  {
   "cell_type": "code",
   "execution_count": 13,
   "metadata": {
    "hidden": true,
    "slideshow": {
     "slide_type": "fragment"
    }
   },
   "outputs": [
    {
     "data": {
      "text/plain": [
       "4.774206044857893"
      ]
     },
     "execution_count": 13,
     "metadata": {},
     "output_type": "execute_result"
    }
   ],
   "source": [
    "np.sqrt(mean_squared_error(train[1:], naive.dropna()))"
   ]
  },
  {
   "cell_type": "code",
   "execution_count": 14,
   "metadata": {
    "hidden": true,
    "slideshow": {
     "slide_type": "fragment"
    }
   },
   "outputs": [
    {
     "data": {
      "image/png": "[encoded data removed]",
      "text/plain": [
       "<Figure size 432x288 with 1 Axes>"
      ]
     },
     "metadata": {
      "needs_background": "light"
     },
     "output_type": "display_data"
    }
   ],
   "source": [
    "fig, ax = plt.subplots()\n",
    "residuals = naive[1:] - train[1:]\n",
    "ax.plot(residuals.index, residuals, label='resid')\n",
    "ax.plot(residuals.index, residuals.rolling(30).std(), label='rolling std')\n",
    "ax.legend();"
   ]
  },
  {
   "cell_type": "code",
   "execution_count": 15,
   "metadata": {
    "hidden": true,
    "slideshow": {
     "slide_type": "slide"
    }
   },
   "outputs": [
    {
     "data": {
      "image/png": "[encoded data removed]",
      "text/plain": [
       "<Figure size 432x288 with 1 Axes>"
      ]
     },
     "metadata": {
      "needs_background": "light"
     },
     "output_type": "display_data"
    }
   ],
   "source": [
    "fig, ax = plt.subplots()\n",
    "ax.plot(residuals.index, residuals, label='resid')\n",
    "ax.plot(residuals.index, residuals.rolling(30).var(), label='rolling var')\n",
    "ax.legend();"
   ]
  },
  {
   "cell_type": "markdown",
   "metadata": {
    "hidden": true,
    "slideshow": {
     "slide_type": "fragment"
    }
   },
   "source": [
    "If we look at the rolling standard deviation of our errors, we can see that the performance of our model varies at different points in time."
   ]
  },
  {
   "cell_type": "markdown",
   "metadata": {
    "hidden": true,
    "slideshow": {
     "slide_type": "fragment"
    }
   },
   "source": [
    "That is a result of the trends in our data.\n",
    "\n",
    "In the previous notebook, we were able to make our series **stationary** by differencing our data."
   ]
  },
  {
   "cell_type": "markdown",
   "metadata": {
    "hidden": true,
    "slideshow": {
     "slide_type": "slide"
    }
   },
   "source": [
    "Visually, our differenced data looks *more* like white noise:"
   ]
  },
  {
   "cell_type": "code",
   "execution_count": 16,
   "metadata": {
    "hidden": true,
    "slideshow": {
     "slide_type": "fragment"
    }
   },
   "outputs": [
    {
     "data": {
      "image/png": "[encoded data removed]",
      "text/plain": [
       "<Figure size 432x288 with 1 Axes>"
      ]
     },
     "metadata": {
      "needs_background": "light"
     },
     "output_type": "display_data"
    }
   ],
   "source": [
    "fig, ax = plt.subplots()\n",
    "ax.plot(train.diff())\n",
    "ax.set_title('Weekly differenced data');"
   ]
  },
  {
   "cell_type": "markdown",
   "metadata": {
    "hidden": true,
    "slideshow": {
     "slide_type": "fragment"
    }
   },
   "source": [
    "By removing the trend from our data, we assume that our data's mean and variance are constant throughout.  But it is **not** just white noise.  If it were, our models could do no better than random predictions around the mean.  \n",
    "\n",
    "Our task now is to find **more patterns** in the series.  \n",
    "\n",
    "We will focus on the data points near to the point in question.  We can attempt to find patterns to how much influence previous points in the sequence have. \n",
    "\n",
    "If that made you think of regression, great! What we will be doing is assigning weights, like our betas, to previous points."
   ]
  },
  {
   "cell_type": "markdown",
   "metadata": {
    "hidden": true,
    "slideshow": {
     "slide_type": "slide"
    }
   },
   "source": [
    "Let's make sure our data after differencing is stationary:"
   ]
  },
  {
   "cell_type": "code",
   "execution_count": 17,
   "metadata": {
    "hidden": true,
    "slideshow": {
     "slide_type": "fragment"
    }
   },
   "outputs": [
    {
     "data": {
      "text/plain": [
       "Test Statistic                -1.286619e+01\n",
       "p-value                        4.989352e-24\n",
       "#Lags Used                     3.000000e+00\n",
       "Number of Observations Used    2.930000e+02\n",
       "Critical Value (1%)           -3.452867e+00\n",
       "Critical Value (5%)           -2.871455e+00\n",
       "Critical Value (10%)          -2.572053e+00\n",
       "dtype: float64"
      ]
     },
     "metadata": {},
     "output_type": "display_data"
    },
    {
     "name": "stdout",
     "output_type": "stream",
     "text": [
      "The p-value associated with the Dickey-Fuller statistical test is 4.9893522260394266e-24,\n",
      " so we can safely assume that the differenced data is stationary.\n"
     ]
    }
   ],
   "source": [
    "dftest = adfuller(train.diff()[1:])\n",
    "display_df(dftest)"
   ]
  },
  {
   "cell_type": "markdown",
   "metadata": {
    "heading_collapsed": true,
    "hidden": true,
    "slideshow": {
     "slide_type": "slide"
    }
   },
   "source": [
    "## The Autoregressive Model (AR)"
   ]
  },
  {
   "cell_type": "markdown",
   "metadata": {
    "hidden": true,
    "slideshow": {
     "slide_type": "fragment"
    }
   },
   "source": [
    "### [`statsmodels.tsa.arima_model.ARIMA`](https://www.statsmodels.org/devel/generated/statsmodels.tsa.arima.model.ARIMA.html)"
   ]
  },
  {
   "cell_type": "markdown",
   "metadata": {
    "hidden": true,
    "slideshow": {
     "slide_type": "fragment"
    }
   },
   "source": [
    "This model is really a compound of two simpler models. This ARIMA class takes a triple of values as its \"order\". We'll explain this shortly, but for now just note that the first member of the triple, i.e. the **p** variable of the order (p, d, q), represents the AR term. So for a first-order AR model, we'll put a 1 there.\n",
    "\n",
    "The 1 in the second place of the order will do our differencing for us."
   ]
  },
  {
   "cell_type": "code",
   "execution_count": 18,
   "metadata": {
    "hidden": true,
    "slideshow": {
     "slide_type": "slide"
    }
   },
   "outputs": [
    {
     "data": {
      "text/plain": [
       "2014-01-05     0.000000\n",
       "2014-01-12    31.199795\n",
       "2014-01-19    22.517714\n",
       "2014-01-26    22.964978\n",
       "2014-02-02    24.571429\n",
       "                ...    \n",
       "2019-08-18    49.788799\n",
       "2019-08-25    45.081459\n",
       "2019-09-01    40.823821\n",
       "2019-09-08    40.000000\n",
       "2019-09-15    37.051683\n",
       "Freq: W-SUN, Name: predicted_mean, Length: 298, dtype: float64"
      ]
     },
     "execution_count": 18,
     "metadata": {},
     "output_type": "execute_result"
    }
   ],
   "source": [
    "# ar_1 model with differencing\n",
    "ar_1 = ARIMA(train, order=(1, 1, 0)).fit()\n",
    "\n",
    "# We put a typ='levels' to convert our predictions to remove the differencing performed.\n",
    "ar_1.predict(typ='levels')"
   ]
  },
  {
   "cell_type": "markdown",
   "metadata": {
    "hidden": true,
    "slideshow": {
     "slide_type": "slide"
    }
   },
   "source": [
    "The ARIMA class comes with a nice summary table.  \n",
    "\n",
    "[This](https://analyzingalpha.com/interpret-arima-results/) does an excellent job going through the table and explaining the bits and bobs. "
   ]
  },
  {
   "cell_type": "code",
   "execution_count": 19,
   "metadata": {
    "cell_style": "split",
    "hidden": true,
    "slideshow": {
     "slide_type": "slide"
    }
   },
   "outputs": [
    {
     "data": {
      "text/html": [
       "<table class=\"simpletable\">\n",
       "<caption>SARIMAX Results</caption>\n",
       "<tr>\n",
       "  <th>Dep. Variable:</th>           <td>y</td>        <th>  No. Observations:  </th>    <td>298</td>  \n",
       "</tr>\n",
       "<tr>\n",
       "  <th>Model:</th>            <td>ARIMA(1, 1, 0)</td>  <th>  Log Likelihood     </th> <td>-873.148</td>\n",
       "</tr>\n",
       "<tr>\n",
       "  <th>Date:</th>            <td>Mon, 28 Nov 2022</td> <th>  AIC                </th> <td>1750.296</td>\n",
       "</tr>\n",
       "<tr>\n",
       "  <th>Time:</th>                <td>09:07:41</td>     <th>  BIC                </th> <td>1757.683</td>\n",
       "</tr>\n",
       "<tr>\n",
       "  <th>Sample:</th>             <td>01-05-2014</td>    <th>  HQIC               </th> <td>1753.253</td>\n",
       "</tr>\n",
       "<tr>\n",
       "  <th></th>                   <td>- 09-15-2019</td>   <th>                     </th>     <td> </td>   \n",
       "</tr>\n",
       "<tr>\n",
       "  <th>Covariance Type:</th>        <td>opg</td>       <th>                     </th>     <td> </td>   \n",
       "</tr>\n",
       "</table>\n",
       "<table class=\"simpletable\">\n",
       "<tr>\n",
       "     <td></td>       <th>coef</th>     <th>std err</th>      <th>z</th>      <th>P>|z|</th>  <th>[0.025</th>    <th>0.975]</th>  \n",
       "</tr>\n",
       "<tr>\n",
       "  <th>ar.L1</th>  <td>   -0.2883</td> <td>    0.056</td> <td>   -5.184</td> <td> 0.000</td> <td>   -0.397</td> <td>   -0.179</td>\n",
       "</tr>\n",
       "<tr>\n",
       "  <th>sigma2</th> <td>   20.9389</td> <td>    1.554</td> <td>   13.478</td> <td> 0.000</td> <td>   17.894</td> <td>   23.984</td>\n",
       "</tr>\n",
       "</table>\n",
       "<table class=\"simpletable\">\n",
       "<tr>\n",
       "  <th>Ljung-Box (L1) (Q):</th>     <td>2.10</td> <th>  Jarque-Bera (JB):  </th> <td>5.01</td>\n",
       "</tr>\n",
       "<tr>\n",
       "  <th>Prob(Q):</th>                <td>0.15</td> <th>  Prob(JB):          </th> <td>0.08</td>\n",
       "</tr>\n",
       "<tr>\n",
       "  <th>Heteroskedasticity (H):</th> <td>1.42</td> <th>  Skew:              </th> <td>0.23</td>\n",
       "</tr>\n",
       "<tr>\n",
       "  <th>Prob(H) (two-sided):</th>    <td>0.09</td> <th>  Kurtosis:          </th> <td>3.45</td>\n",
       "</tr>\n",
       "</table><br/><br/>Warnings:<br/>[1] Covariance matrix calculated using the outer product of gradients (complex-step)."
      ],
      "text/plain": [
       "<class 'statsmodels.iolib.summary.Summary'>\n",
       "\"\"\"\n",
       "                               SARIMAX Results                                \n",
       "==============================================================================\n",
       "Dep. Variable:                      y   No. Observations:                  298\n",
       "Model:                 ARIMA(1, 1, 0)   Log Likelihood                -873.148\n",
       "Date:                Mon, 28 Nov 2022   AIC                           1750.296\n",
       "Time:                        09:07:41   BIC                           1757.683\n",
       "Sample:                    01-05-2014   HQIC                          1753.253\n",
       "                         - 09-15-2019                                         \n",
       "Covariance Type:                  opg                                         \n",
       "==============================================================================\n",
       "                 coef    std err          z      P>|z|      [0.025      0.975]\n",
       "------------------------------------------------------------------------------\n",
       "ar.L1         -0.2883      0.056     -5.184      0.000      -0.397      -0.179\n",
       "sigma2        20.9389      1.554     13.478      0.000      17.894      23.984\n",
       "===================================================================================\n",
       "Ljung-Box (L1) (Q):                   2.10   Jarque-Bera (JB):                 5.01\n",
       "Prob(Q):                              0.15   Prob(JB):                         0.08\n",
       "Heteroskedasticity (H):               1.42   Skew:                             0.23\n",
       "Prob(H) (two-sided):                  0.09   Kurtosis:                         3.45\n",
       "===================================================================================\n",
       "\n",
       "Warnings:\n",
       "[1] Covariance matrix calculated using the outer product of gradients (complex-step).\n",
       "\"\"\""
      ]
     },
     "execution_count": 19,
     "metadata": {},
     "output_type": "execute_result"
    }
   ],
   "source": [
    "# Summary\n",
    "ar_1.summary()"
   ]
  },
  {
   "cell_type": "code",
   "execution_count": 20,
   "metadata": {
    "cell_style": "split",
    "hidden": true,
    "slideshow": {
     "slide_type": "fragment"
    }
   },
   "outputs": [
    {
     "data": {
      "text/plain": [
       "1750.295516508525"
      ]
     },
     "execution_count": 20,
     "metadata": {},
     "output_type": "execute_result"
    }
   ],
   "source": [
    "ar_1.aic"
   ]
  },
  {
   "cell_type": "markdown",
   "metadata": {
    "hidden": true,
    "slideshow": {
     "slide_type": "slide"
    }
   },
   "source": [
    "### Sidebar: Akaike Information Criterion"
   ]
  },
  {
   "cell_type": "markdown",
   "metadata": {
    "hidden": true,
    "slideshow": {
     "slide_type": "fragment"
    }
   },
   "source": [
    "But, as you may notice, the output does not include RMSE.\n",
    "\n",
    "It does include [AIC](https://en.wikipedia.org/wiki/Akaike_information_criterion). A better model has a lower AIC.\n",
    "\n",
    "Let's compare the first order autoregressive model to our Random Walk."
   ]
  },
  {
   "cell_type": "code",
   "execution_count": 21,
   "metadata": {
    "hidden": true,
    "slideshow": {
     "slide_type": "slide"
    }
   },
   "outputs": [
    {
     "data": {
      "text/html": [
       "<table class=\"simpletable\">\n",
       "<caption>SARIMAX Results</caption>\n",
       "<tr>\n",
       "  <th>Dep. Variable:</th>           <td>y</td>        <th>  No. Observations:  </th>    <td>298</td>  \n",
       "</tr>\n",
       "<tr>\n",
       "  <th>Model:</th>            <td>ARIMA(0, 1, 0)</td>  <th>  Log Likelihood     </th> <td>-885.703</td>\n",
       "</tr>\n",
       "<tr>\n",
       "  <th>Date:</th>            <td>Mon, 28 Nov 2022</td> <th>  AIC                </th> <td>1773.407</td>\n",
       "</tr>\n",
       "<tr>\n",
       "  <th>Time:</th>                <td>09:07:41</td>     <th>  BIC                </th> <td>1777.100</td>\n",
       "</tr>\n",
       "<tr>\n",
       "  <th>Sample:</th>             <td>01-05-2014</td>    <th>  HQIC               </th> <td>1774.885</td>\n",
       "</tr>\n",
       "<tr>\n",
       "  <th></th>                   <td>- 09-15-2019</td>   <th>                     </th>     <td> </td>   \n",
       "</tr>\n",
       "<tr>\n",
       "  <th>Covariance Type:</th>        <td>opg</td>       <th>                     </th>     <td> </td>   \n",
       "</tr>\n",
       "</table>\n",
       "<table class=\"simpletable\">\n",
       "<tr>\n",
       "     <td></td>       <th>coef</th>     <th>std err</th>      <th>z</th>      <th>P>|z|</th>  <th>[0.025</th>    <th>0.975]</th>  \n",
       "</tr>\n",
       "<tr>\n",
       "  <th>sigma2</th> <td>   22.7930</td> <td>    1.677</td> <td>   13.589</td> <td> 0.000</td> <td>   19.506</td> <td>   26.080</td>\n",
       "</tr>\n",
       "</table>\n",
       "<table class=\"simpletable\">\n",
       "<tr>\n",
       "  <th>Ljung-Box (L1) (Q):</th>     <td>23.73</td> <th>  Jarque-Bera (JB):  </th> <td>3.70</td>\n",
       "</tr>\n",
       "<tr>\n",
       "  <th>Prob(Q):</th>                <td>0.00</td>  <th>  Prob(JB):          </th> <td>0.16</td>\n",
       "</tr>\n",
       "<tr>\n",
       "  <th>Heteroskedasticity (H):</th> <td>1.61</td>  <th>  Skew:              </th> <td>0.13</td>\n",
       "</tr>\n",
       "<tr>\n",
       "  <th>Prob(H) (two-sided):</th>    <td>0.02</td>  <th>  Kurtosis:          </th> <td>3.48</td>\n",
       "</tr>\n",
       "</table><br/><br/>Warnings:<br/>[1] Covariance matrix calculated using the outer product of gradients (complex-step)."
      ],
      "text/plain": [
       "<class 'statsmodels.iolib.summary.Summary'>\n",
       "\"\"\"\n",
       "                               SARIMAX Results                                \n",
       "==============================================================================\n",
       "Dep. Variable:                      y   No. Observations:                  298\n",
       "Model:                 ARIMA(0, 1, 0)   Log Likelihood                -885.703\n",
       "Date:                Mon, 28 Nov 2022   AIC                           1773.407\n",
       "Time:                        09:07:41   BIC                           1777.100\n",
       "Sample:                    01-05-2014   HQIC                          1774.885\n",
       "                         - 09-15-2019                                         \n",
       "Covariance Type:                  opg                                         \n",
       "==============================================================================\n",
       "                 coef    std err          z      P>|z|      [0.025      0.975]\n",
       "------------------------------------------------------------------------------\n",
       "sigma2        22.7930      1.677     13.589      0.000      19.506      26.080\n",
       "===================================================================================\n",
       "Ljung-Box (L1) (Q):                  23.73   Jarque-Bera (JB):                 3.70\n",
       "Prob(Q):                              0.00   Prob(JB):                         0.16\n",
       "Heteroskedasticity (H):               1.61   Skew:                             0.13\n",
       "Prob(H) (two-sided):                  0.02   Kurtosis:                         3.48\n",
       "===================================================================================\n",
       "\n",
       "Warnings:\n",
       "[1] Covariance matrix calculated using the outer product of gradients (complex-step).\n",
       "\"\"\""
      ]
     },
     "execution_count": 21,
     "metadata": {},
     "output_type": "execute_result"
    }
   ],
   "source": [
    "random_walk_model = ARIMA(train, order=(0, 1, 0)).fit()\n",
    "random_walk_model.summary()"
   ]
  },
  {
   "cell_type": "code",
   "execution_count": 22,
   "metadata": {
    "hidden": true,
    "slideshow": {
     "slide_type": "slide"
    }
   },
   "outputs": [],
   "source": [
    "# Baseline ARIMA model\n",
    "baseline = ARIMA(train, order=(0,0,0)).fit()\n",
    "bl_preds = baseline.predict(typ='levels')\n",
    "bl_rmse = np.sqrt(mean_squared_error(train, bl_preds))"
   ]
  },
  {
   "cell_type": "code",
   "execution_count": 23,
   "metadata": {
    "hidden": true,
    "slideshow": {
     "slide_type": "fragment"
    }
   },
   "outputs": [
    {
     "name": "stdout",
     "output_type": "stream",
     "text": [
      "Baseline AIC: 2061.082426832008\n",
      "Random Walk AIC: 1773.4067346708448\n",
      "AR(1, 1, 0) AIC: 1750.295516508525\n"
     ]
    }
   ],
   "source": [
    "print(f'Baseline AIC: {baseline.aic}')\n",
    "print(f'Random Walk AIC: {random_walk_model.aic}')\n",
    "print(f'AR(1, 1, 0) AIC: {ar_1.aic}' )"
   ]
  },
  {
   "cell_type": "markdown",
   "metadata": {
    "hidden": true,
    "slideshow": {
     "slide_type": "fragment"
    }
   },
   "source": [
    "Our AIC for the AR(1) model is lower than the random walk, indicating improvement.  \n",
    "\n",
    "Let's also check the RMSE."
   ]
  },
  {
   "cell_type": "code",
   "execution_count": 24,
   "metadata": {
    "hidden": true,
    "slideshow": {
     "slide_type": "slide"
    }
   },
   "outputs": [],
   "source": [
    "y_hat_ar1 = ar_1.predict(typ='levels')\n",
    "ar1_rmse = np.sqrt(mean_squared_error(train, y_hat_ar1))"
   ]
  },
  {
   "cell_type": "code",
   "execution_count": 25,
   "metadata": {
    "hidden": true,
    "slideshow": {
     "slide_type": "fragment"
    }
   },
   "outputs": [],
   "source": [
    "y_hat_rw = random_walk_model.predict(typ='levels')\n",
    "rw_rmse = np.sqrt(mean_squared_error(train, y_hat_rw))"
   ]
  },
  {
   "cell_type": "code",
   "execution_count": 26,
   "metadata": {
    "hidden": true,
    "slideshow": {
     "slide_type": "fragment"
    }
   },
   "outputs": [
    {
     "name": "stdout",
     "output_type": "stream",
     "text": [
      "Baseline RMSE:    7.6334663593371035\n",
      "Random Walk RMSE: 5.097365380006156\n",
      "AR1 RMSE:         4.916994704828413\n"
     ]
    }
   ],
   "source": [
    "print(f'Baseline RMSE:    {bl_rmse}')\n",
    "print(f'Random Walk RMSE: {rw_rmse}')\n",
    "print(f'AR1 RMSE:         {ar1_rmse}')"
   ]
  },
  {
   "cell_type": "markdown",
   "metadata": {
    "hidden": true,
    "slideshow": {
     "slide_type": "fragment"
    }
   },
   "source": [
    "RMSE is lower as well."
   ]
  },
  {
   "cell_type": "markdown",
   "metadata": {
    "hidden": true,
    "slideshow": {
     "slide_type": "slide"
    }
   },
   "source": [
    "### Cross-Validation"
   ]
  },
  {
   "cell_type": "markdown",
   "metadata": {
    "hidden": true,
    "slideshow": {
     "slide_type": "fragment"
    }
   },
   "source": [
    "For this it will help to have our normal integer index."
   ]
  },
  {
   "cell_type": "code",
   "execution_count": 27,
   "metadata": {
    "hidden": true,
    "slideshow": {
     "slide_type": "fragment"
    }
   },
   "outputs": [
    {
     "data": {
      "text/plain": [
       "DatetimeIndex(['2014-01-05', '2014-01-12', '2014-01-19', '2014-01-26',\n",
       "               '2014-02-02', '2014-02-09', '2014-02-16', '2014-02-23',\n",
       "               '2014-03-02', '2014-03-09',\n",
       "               ...\n",
       "               '2019-07-14', '2019-07-21', '2019-07-28', '2019-08-04',\n",
       "               '2019-08-11', '2019-08-18', '2019-08-25', '2019-09-01',\n",
       "               '2019-09-08', '2019-09-15'],\n",
       "              dtype='datetime64[ns]', length=298, freq='W-SUN')"
      ]
     },
     "execution_count": 27,
     "metadata": {},
     "output_type": "execute_result"
    }
   ],
   "source": [
    "train.index"
   ]
  },
  {
   "cell_type": "code",
   "execution_count": 28,
   "metadata": {
    "hidden": true,
    "slideshow": {
     "slide_type": "fragment"
    }
   },
   "outputs": [],
   "source": [
    "train_with_ind = train.reset_index()"
   ]
  },
  {
   "cell_type": "code",
   "execution_count": 29,
   "metadata": {
    "hidden": true,
    "slideshow": {
     "slide_type": "fragment"
    }
   },
   "outputs": [
    {
     "name": "stdout",
     "output_type": "stream",
     "text": [
      "6.297323003276929\n",
      "12.52595917647022\n",
      "5.555339165915002\n",
      "7.320104431799544\n",
      "6.469898485607451\n"
     ]
    }
   ],
   "source": [
    "for train_ind, val_ind in split.split(train_with_ind):\n",
    "    ar = ARIMA(endog=train_with_ind.iloc[train_ind, -1], order=(1, 1, 0)).fit()\n",
    "    preds = ar.predict(typ='levels', start=val_ind[0], end=val_ind[-1])\n",
    "    true = train_with_ind.iloc[val_ind, -1]\n",
    "    print(np.sqrt(mean_squared_error(true, preds)))"
   ]
  },
  {
   "cell_type": "markdown",
   "metadata": {
    "hidden": true,
    "slideshow": {
     "slide_type": "slide"
    }
   },
   "source": [
    "### Comparison with `sklearn.linear_model.LinearRegression`"
   ]
  },
  {
   "cell_type": "markdown",
   "metadata": {
    "hidden": true,
    "slideshow": {
     "slide_type": "fragment"
    }
   },
   "source": [
    "Autoregression, as we said before, is a regression of a time series on lagged values of itself.  \n",
    "\n",
    "From the summary, we see the coefficient of the 1st lag:"
   ]
  },
  {
   "cell_type": "code",
   "execution_count": 30,
   "metadata": {
    "hidden": true,
    "slideshow": {
     "slide_type": "fragment"
    }
   },
   "outputs": [
    {
     "data": {
      "text/plain": [
       "array([-0.28833721])"
      ]
     },
     "execution_count": 30,
     "metadata": {},
     "output_type": "execute_result"
    }
   ],
   "source": [
    "ar_1.arparams"
   ]
  },
  {
   "cell_type": "markdown",
   "metadata": {
    "hidden": true,
    "slideshow": {
     "slide_type": "fragment"
    }
   },
   "source": [
    "We come close to reproducing this coefficient with linear regression, with slight differences due to how statsmodels performs the regression. "
   ]
  },
  {
   "cell_type": "code",
   "execution_count": 31,
   "metadata": {
    "hidden": true,
    "slideshow": {
     "slide_type": "fragment"
    }
   },
   "outputs": [
    {
     "name": "stdout",
     "output_type": "stream",
     "text": [
      "[-0.28299508]\n"
     ]
    }
   ],
   "source": [
    "lr = LinearRegression()\n",
    "lr.fit(np.array(train.diff().shift(1).dropna()).reshape(-1, 1), train[1:].diff().dropna())\n",
    "print(lr.coef_)"
   ]
  },
  {
   "cell_type": "markdown",
   "metadata": {
    "hidden": true,
    "slideshow": {
     "slide_type": "slide"
    }
   },
   "source": [
    "### Adding a Term"
   ]
  },
  {
   "cell_type": "markdown",
   "metadata": {
    "hidden": true,
    "slideshow": {
     "slide_type": "fragment"
    }
   },
   "source": [
    "We can also factor in more than just the most recent point.\n",
    "$$\\large y_{t} = \\phi_{0} + \\phi_{1}y_{t-1} + \\phi_{2}y_{t-2}+ \\varepsilon_{t}$$"
   ]
  },
  {
   "cell_type": "markdown",
   "metadata": {
    "hidden": true,
    "slideshow": {
     "slide_type": "fragment"
    }
   },
   "source": [
    "We refer to the order of our AR model by the number of lags back we go.  The above formula refers to an **AR(2)** model. We put a 2 in the p position of the ARIMA class order."
   ]
  },
  {
   "cell_type": "code",
   "execution_count": 32,
   "metadata": {
    "hidden": true,
    "slideshow": {
     "slide_type": "slide"
    }
   },
   "outputs": [
    {
     "data": {
      "text/plain": [
       "2014-01-05     0.000000\n",
       "2014-01-12    31.199797\n",
       "2014-01-19    22.481150\n",
       "2014-01-26    26.323162\n",
       "2014-02-02    22.816761\n",
       "                ...    \n",
       "2019-08-18    48.518157\n",
       "2019-08-25    44.896898\n",
       "2019-09-01    43.501611\n",
       "2019-09-08    40.899830\n",
       "2019-09-15    37.411646\n",
       "Freq: W-SUN, Name: predicted_mean, Length: 298, dtype: float64"
      ]
     },
     "execution_count": 32,
     "metadata": {},
     "output_type": "execute_result"
    }
   ],
   "source": [
    "ar_2 = ARIMA(train, order=(2, 1, 0)).fit()\n",
    "\n",
    "ar_2.predict(typ='levels')"
   ]
  },
  {
   "cell_type": "code",
   "execution_count": 33,
   "metadata": {
    "cell_style": "center",
    "hidden": true,
    "slideshow": {
     "slide_type": "fragment"
    }
   },
   "outputs": [
    {
     "name": "stdout",
     "output_type": "stream",
     "text": [
      "2061.082426832008\n",
      "1773.4067346708448\n",
      "1750.295516508525\n",
      "1722.018196079485\n"
     ]
    }
   ],
   "source": [
    "print(baseline.aic)\n",
    "print(random_walk_model.aic)\n",
    "print(ar_1.aic)\n",
    "print(ar_2.aic)"
   ]
  },
  {
   "cell_type": "code",
   "execution_count": 34,
   "metadata": {
    "cell_style": "center",
    "hidden": true,
    "slideshow": {
     "slide_type": "fragment"
    }
   },
   "outputs": [],
   "source": [
    "y_hat_ar1 = ar_2.predict(typ='levels')\n",
    "ar2_rmse = np.sqrt(mean_squared_error(train, y_hat_ar1))"
   ]
  },
  {
   "cell_type": "code",
   "execution_count": 35,
   "metadata": {
    "hidden": true,
    "slideshow": {
     "slide_type": "fragment"
    }
   },
   "outputs": [
    {
     "name": "stdout",
     "output_type": "stream",
     "text": [
      "Baseline RMSE:    7.6334663593371035\n",
      "Random Walk RMSE: 5.097365380006156\n",
      "AR1 RMSE:         4.916994704828413\n",
      "AR2 RMSE:         4.71033073081498\n"
     ]
    }
   ],
   "source": [
    "print(f'Baseline RMSE:    {bl_rmse}')\n",
    "print(f'Random Walk RMSE: {rw_rmse}')\n",
    "print(f'AR1 RMSE:         {ar1_rmse}')\n",
    "print(f'AR2 RMSE:         {ar2_rmse}')"
   ]
  },
  {
   "cell_type": "markdown",
   "metadata": {
    "hidden": true,
    "slideshow": {
     "slide_type": "fragment"
    }
   },
   "source": [
    "Our AIC improves with more lagged terms."
   ]
  },
  {
   "cell_type": "code",
   "execution_count": 36,
   "metadata": {
    "hidden": true,
    "slideshow": {
     "slide_type": "slide"
    }
   },
   "outputs": [
    {
     "name": "stdout",
     "output_type": "stream",
     "text": [
      "5.735878433912556\n",
      "12.479028377636672\n",
      "6.188886630008257\n",
      "6.7415242705459395\n",
      "6.286222565591566\n"
     ]
    }
   ],
   "source": [
    "for train_ind, val_ind in split.split(train_with_ind):\n",
    "    ar = ARIMA(endog=train_with_ind.iloc[train_ind, -1], order=(2, 1, 0)).fit()\n",
    "    preds = ar.predict(typ='levels', start=val_ind[0], end=val_ind[-1])\n",
    "    true = train_with_ind.iloc[val_ind, -1]\n",
    "    print(np.sqrt(mean_squared_error(true, preds)))"
   ]
  },
  {
   "cell_type": "markdown",
   "metadata": {
    "hidden": true,
    "slideshow": {
     "slide_type": "fragment"
    }
   },
   "source": [
    "This is better on four out of five validation tests compared to the one-term model."
   ]
  },
  {
   "cell_type": "markdown",
   "metadata": {
    "heading_collapsed": true,
    "hidden": true,
    "slideshow": {
     "slide_type": "slide"
    }
   },
   "source": [
    "## Moving Average Model (MA)"
   ]
  },
  {
   "cell_type": "markdown",
   "metadata": {
    "hidden": true,
    "slideshow": {
     "slide_type": "fragment"
    }
   },
   "source": [
    "The next type of model is based on error.  The idea behind the moving average model is to make a prediction based on how far off we were the day before.\n",
    "\n",
    "$$\\large Y_t = \\mu +\\epsilon_t + \\theta\\epsilon_{t-1}$$"
   ]
  },
  {
   "cell_type": "markdown",
   "metadata": {
    "hidden": true,
    "slideshow": {
     "slide_type": "fragment"
    }
   },
   "source": [
    "The moving average model works like this. We make a prediction, see how far off we were, then adjust our next prediction by a factor of how far off our pervious prediction was.\n",
    "\n",
    "In our ARIMA model, the q term of our order (p, d, q) refers to the MA component. To use one lagged error, we put 1 in the q position."
   ]
  },
  {
   "cell_type": "code",
   "execution_count": 37,
   "metadata": {
    "hidden": true,
    "slideshow": {
     "slide_type": "slide"
    }
   },
   "outputs": [
    {
     "data": {
      "text/plain": [
       "2014-01-05    35.658933\n",
       "2014-01-12    33.580932\n",
       "2014-01-19    26.978507\n",
       "2014-01-26    34.106432\n",
       "2014-02-02    29.305679\n",
       "                ...    \n",
       "2019-08-18    40.795779\n",
       "2019-08-25    37.069285\n",
       "2019-09-01    37.664081\n",
       "2019-09-08    37.257131\n",
       "2019-09-15    34.701084\n",
       "Freq: W-SUN, Name: predicted_mean, Length: 298, dtype: float64"
      ]
     },
     "execution_count": 37,
     "metadata": {},
     "output_type": "execute_result"
    }
   ],
   "source": [
    "ma_1 = ARIMA(train, order=(0, 0, 1)).fit()\n",
    "y_hat = ma_1.predict(typ='levels')\n",
    "y_hat"
   ]
  },
  {
   "cell_type": "code",
   "execution_count": 38,
   "metadata": {
    "hidden": true,
    "slideshow": {
     "slide_type": "slide"
    }
   },
   "outputs": [
    {
     "data": {
      "text/html": [
       "<table class=\"simpletable\">\n",
       "<caption>SARIMAX Results</caption>\n",
       "<tr>\n",
       "  <th>Dep. Variable:</th>           <td>y</td>        <th>  No. Observations:  </th>    <td>298</td>  \n",
       "</tr>\n",
       "<tr>\n",
       "  <th>Model:</th>            <td>ARIMA(0, 0, 1)</td>  <th>  Log Likelihood     </th> <td>-936.689</td>\n",
       "</tr>\n",
       "<tr>\n",
       "  <th>Date:</th>            <td>Mon, 28 Nov 2022</td> <th>  AIC                </th> <td>1879.379</td>\n",
       "</tr>\n",
       "<tr>\n",
       "  <th>Time:</th>                <td>09:07:42</td>     <th>  BIC                </th> <td>1890.470</td>\n",
       "</tr>\n",
       "<tr>\n",
       "  <th>Sample:</th>             <td>01-05-2014</td>    <th>  HQIC               </th> <td>1883.819</td>\n",
       "</tr>\n",
       "<tr>\n",
       "  <th></th>                   <td>- 09-15-2019</td>   <th>                     </th>     <td> </td>   \n",
       "</tr>\n",
       "<tr>\n",
       "  <th>Covariance Type:</th>        <td>opg</td>       <th>                     </th>     <td> </td>   \n",
       "</tr>\n",
       "</table>\n",
       "<table class=\"simpletable\">\n",
       "<tr>\n",
       "     <td></td>       <th>coef</th>     <th>std err</th>      <th>z</th>      <th>P>|z|</th>  <th>[0.025</th>    <th>0.975]</th>  \n",
       "</tr>\n",
       "<tr>\n",
       "  <th>const</th>  <td>   35.6589</td> <td>    0.560</td> <td>   63.726</td> <td> 0.000</td> <td>   34.562</td> <td>   36.756</td>\n",
       "</tr>\n",
       "<tr>\n",
       "  <th>ma.L1</th>  <td>    0.6842</td> <td>    0.045</td> <td>   15.182</td> <td> 0.000</td> <td>    0.596</td> <td>    0.773</td>\n",
       "</tr>\n",
       "<tr>\n",
       "  <th>sigma2</th> <td>   31.3906</td> <td>    2.702</td> <td>   11.620</td> <td> 0.000</td> <td>   26.096</td> <td>   36.685</td>\n",
       "</tr>\n",
       "</table>\n",
       "<table class=\"simpletable\">\n",
       "<tr>\n",
       "  <th>Ljung-Box (L1) (Q):</th>     <td>24.44</td> <th>  Jarque-Bera (JB):  </th> <td>1.50</td>\n",
       "</tr>\n",
       "<tr>\n",
       "  <th>Prob(Q):</th>                <td>0.00</td>  <th>  Prob(JB):          </th> <td>0.47</td>\n",
       "</tr>\n",
       "<tr>\n",
       "  <th>Heteroskedasticity (H):</th> <td>0.84</td>  <th>  Skew:              </th> <td>0.15</td>\n",
       "</tr>\n",
       "<tr>\n",
       "  <th>Prob(H) (two-sided):</th>    <td>0.39</td>  <th>  Kurtosis:          </th> <td>2.84</td>\n",
       "</tr>\n",
       "</table><br/><br/>Warnings:<br/>[1] Covariance matrix calculated using the outer product of gradients (complex-step)."
      ],
      "text/plain": [
       "<class 'statsmodels.iolib.summary.Summary'>\n",
       "\"\"\"\n",
       "                               SARIMAX Results                                \n",
       "==============================================================================\n",
       "Dep. Variable:                      y   No. Observations:                  298\n",
       "Model:                 ARIMA(0, 0, 1)   Log Likelihood                -936.689\n",
       "Date:                Mon, 28 Nov 2022   AIC                           1879.379\n",
       "Time:                        09:07:42   BIC                           1890.470\n",
       "Sample:                    01-05-2014   HQIC                          1883.819\n",
       "                         - 09-15-2019                                         \n",
       "Covariance Type:                  opg                                         \n",
       "==============================================================================\n",
       "                 coef    std err          z      P>|z|      [0.025      0.975]\n",
       "------------------------------------------------------------------------------\n",
       "const         35.6589      0.560     63.726      0.000      34.562      36.756\n",
       "ma.L1          0.6842      0.045     15.182      0.000       0.596       0.773\n",
       "sigma2        31.3906      2.702     11.620      0.000      26.096      36.685\n",
       "===================================================================================\n",
       "Ljung-Box (L1) (Q):                  24.44   Jarque-Bera (JB):                 1.50\n",
       "Prob(Q):                              0.00   Prob(JB):                         0.47\n",
       "Heteroskedasticity (H):               0.84   Skew:                             0.15\n",
       "Prob(H) (two-sided):                  0.39   Kurtosis:                         2.84\n",
       "===================================================================================\n",
       "\n",
       "Warnings:\n",
       "[1] Covariance matrix calculated using the outer product of gradients (complex-step).\n",
       "\"\"\""
      ]
     },
     "execution_count": 38,
     "metadata": {},
     "output_type": "execute_result"
    }
   ],
   "source": [
    "ma_1.summary()"
   ]
  },
  {
   "cell_type": "markdown",
   "metadata": {
    "hidden": true,
    "slideshow": {
     "slide_type": "slide"
    }
   },
   "source": [
    "Let's look at the 1st order MA model with a 1st order difference"
   ]
  },
  {
   "cell_type": "code",
   "execution_count": 39,
   "metadata": {
    "hidden": true,
    "slideshow": {
     "slide_type": "fragment"
    }
   },
   "outputs": [
    {
     "name": "stdout",
     "output_type": "stream",
     "text": [
      "2061.082426832008\n",
      "1773.4067346708448\n",
      "1750.295516508525\n",
      "1722.018196079485\n",
      "1724.1691361670205\n"
     ]
    }
   ],
   "source": [
    "ma_1 = ARIMA(train, order=(0, 1, 1)).fit()\n",
    "print(baseline.aic)\n",
    "print(random_walk_model.aic)\n",
    "print(ar_1.aic)\n",
    "print(ar_2.aic)\n",
    "print(ma_1.aic)"
   ]
  },
  {
   "cell_type": "code",
   "execution_count": 40,
   "metadata": {
    "hidden": true,
    "slideshow": {
     "slide_type": "fragment"
    }
   },
   "outputs": [],
   "source": [
    "y_hat_ar1 = ma_1.predict(typ='levels')\n",
    "ma1_rmse = np.sqrt(mean_squared_error(train, y_hat_ar1))"
   ]
  },
  {
   "cell_type": "code",
   "execution_count": 41,
   "metadata": {
    "hidden": true,
    "slideshow": {
     "slide_type": "fragment"
    }
   },
   "outputs": [
    {
     "name": "stdout",
     "output_type": "stream",
     "text": [
      "Baseline RMSE:    7.6334663593371035\n",
      "Random Walk RMSE: 5.097365380006156\n",
      "AR1 RMSE:         4.916994704828413\n",
      "AR2 RMSE:         4.71033073081498\n",
      "MA1 RMSE:         4.74046393258403\n"
     ]
    }
   ],
   "source": [
    "print(f'Baseline RMSE:    {bl_rmse}')\n",
    "print(f'Random Walk RMSE: {rw_rmse}')\n",
    "print(f'AR1 RMSE:         {ar1_rmse}')\n",
    "print(f'AR2 RMSE:         {ar2_rmse}')\n",
    "print(f'MA1 RMSE:         {ma1_rmse}')"
   ]
  },
  {
   "cell_type": "markdown",
   "metadata": {
    "hidden": true,
    "slideshow": {
     "slide_type": "fragment"
    }
   },
   "source": [
    "It performs better than our AR(1) model and comparably to our AR(2) model."
   ]
  },
  {
   "cell_type": "code",
   "execution_count": 42,
   "metadata": {
    "hidden": true,
    "slideshow": {
     "slide_type": "slide"
    }
   },
   "outputs": [
    {
     "name": "stdout",
     "output_type": "stream",
     "text": [
      "5.917787677264669\n",
      "12.406850988889023\n",
      "6.0390741157809815\n",
      "6.640948779604286\n",
      "6.254634263880939\n"
     ]
    }
   ],
   "source": [
    "for train_ind, val_ind in split.split(train_with_ind):\n",
    "    ar = ARIMA(endog=train_with_ind.iloc[train_ind, -1], order=(0, 1, 1)).fit()\n",
    "    preds = ar.predict(typ='levels', start=val_ind[0], end=val_ind[-1])\n",
    "    true = train_with_ind.iloc[val_ind, -1]\n",
    "    print(np.sqrt(mean_squared_error(true, preds)))"
   ]
  },
  {
   "cell_type": "markdown",
   "metadata": {
    "hidden": true,
    "slideshow": {
     "slide_type": "slide"
    }
   },
   "source": [
    "Just like our AR models, we can lag back as far as we want. Our MA(2) model would use the past two lagged terms:\n",
    "\n",
    "$$\\large Y_t = \\mu +\\epsilon_t + \\theta_1\\epsilon_{t-1} + \\theta_2\\epsilon_{t-2}$$\n",
    "\n",
    "and our MA term would be two."
   ]
  },
  {
   "cell_type": "code",
   "execution_count": 43,
   "metadata": {
    "hidden": true,
    "slideshow": {
     "slide_type": "fragment"
    }
   },
   "outputs": [
    {
     "data": {
      "text/plain": [
       "2014-01-05     0.000000\n",
       "2014-01-12    31.199814\n",
       "2014-01-19    22.258143\n",
       "2014-01-26    25.849721\n",
       "2014-02-02    24.629102\n",
       "                ...    \n",
       "2019-08-18    48.131032\n",
       "2019-08-25    44.144643\n",
       "2019-09-01    42.741337\n",
       "2019-09-08    41.946311\n",
       "2019-09-15    38.869027\n",
       "Freq: W-SUN, Name: predicted_mean, Length: 298, dtype: float64"
      ]
     },
     "execution_count": 43,
     "metadata": {},
     "output_type": "execute_result"
    }
   ],
   "source": [
    "ma_2 = ARIMA(train, order=(0, 1, 2)).fit()\n",
    "y_hat = ma_2.predict(typ='levels')\n",
    "y_hat"
   ]
  },
  {
   "cell_type": "code",
   "execution_count": 44,
   "metadata": {
    "hidden": true,
    "slideshow": {
     "slide_type": "fragment"
    }
   },
   "outputs": [
    {
     "name": "stdout",
     "output_type": "stream",
     "text": [
      "1773.4067346708448\n",
      "1750.295516508525\n",
      "1722.018196079485\n",
      "1724.1691361670205\n",
      "1716.9613487850443\n"
     ]
    }
   ],
   "source": [
    "print(random_walk_model.aic)\n",
    "print(ar_1.aic)\n",
    "print(ar_2.aic)\n",
    "print(ma_1.aic)\n",
    "print(ma_2.aic)"
   ]
  },
  {
   "cell_type": "code",
   "execution_count": 45,
   "metadata": {
    "hidden": true,
    "slideshow": {
     "slide_type": "slide"
    }
   },
   "outputs": [],
   "source": [
    "y_hat_ar1 = ma_2.predict(typ='levels')\n",
    "ma2_rmse = np.sqrt(mean_squared_error(train, y_hat_ar1))"
   ]
  },
  {
   "cell_type": "code",
   "execution_count": 46,
   "metadata": {
    "hidden": true,
    "slideshow": {
     "slide_type": "fragment"
    }
   },
   "outputs": [
    {
     "name": "stdout",
     "output_type": "stream",
     "text": [
      "Baseline RMSE:    7.6334663593371035\n",
      "Random Walk RMSE: 5.097365380006156\n",
      "AR1 RMSE:         4.916994704828413\n",
      "AR2 RMSE:         4.71033073081498\n",
      "MA1 RMSE:         4.74046393258403\n",
      "MA2 RMSE:         4.676009695909174\n"
     ]
    }
   ],
   "source": [
    "print(f'Baseline RMSE:    {bl_rmse}')\n",
    "print(f'Random Walk RMSE: {rw_rmse}')\n",
    "print(f'AR1 RMSE:         {ar1_rmse}')\n",
    "print(f'AR2 RMSE:         {ar2_rmse}')\n",
    "print(f'MA1 RMSE:         {ma1_rmse}')\n",
    "print(f'MA2 RMSE:         {ma2_rmse}')"
   ]
  },
  {
   "cell_type": "code",
   "execution_count": 47,
   "metadata": {
    "hidden": true,
    "slideshow": {
     "slide_type": "slide"
    }
   },
   "outputs": [
    {
     "name": "stdout",
     "output_type": "stream",
     "text": [
      "5.7758518783500685\n",
      "12.17844917394863\n",
      "6.1955222127797205\n",
      "6.531436401556031\n",
      "6.245522256837274\n"
     ]
    }
   ],
   "source": [
    "for train_ind, val_ind in split.split(train_with_ind):\n",
    "    ar = ARIMA(endog=train_with_ind.iloc[train_ind, -1], order=(0, 1, 2)).fit()\n",
    "    preds = ar.predict(typ='levels', start=val_ind[0], end=val_ind[-1])\n",
    "    true = train_with_ind.iloc[val_ind, -1]\n",
    "    print(np.sqrt(mean_squared_error(true, preds)))"
   ]
  },
  {
   "cell_type": "markdown",
   "metadata": {
    "heading_collapsed": true,
    "hidden": true,
    "slideshow": {
     "slide_type": "slide"
    }
   },
   "source": [
    "## ARMA"
   ]
  },
  {
   "cell_type": "markdown",
   "metadata": {
    "hidden": true,
    "slideshow": {
     "slide_type": "fragment"
    }
   },
   "source": [
    "We don't have to limit ourselves to just AR or MA.  We can use both AR terms and MA terms.\n",
    "\n",
    "for example, an ARMA(2, 2) model is given by:\n",
    "\n",
    " $$\\large Y_t = \\mu+\\phi_1 Y_{t-1}+\\phi_2 Y_{t-2}+\\theta_1\\epsilon_{t-1}+\\theta_2\\epsilon_{t-2}+\\epsilon_t$$"
   ]
  },
  {
   "cell_type": "code",
   "execution_count": 48,
   "metadata": {
    "hidden": true,
    "slideshow": {
     "slide_type": "fragment"
    }
   },
   "outputs": [],
   "source": [
    "arma_21 = ARIMA(train, order=(2, 1, 2)).fit()"
   ]
  },
  {
   "cell_type": "code",
   "execution_count": 49,
   "metadata": {
    "hidden": true,
    "slideshow": {
     "slide_type": "fragment"
    }
   },
   "outputs": [
    {
     "name": "stdout",
     "output_type": "stream",
     "text": [
      "2061.082426832008\n",
      "1773.4067346708448\n",
      "1750.295516508525\n",
      "1722.018196079485\n",
      "1724.1691361670205\n",
      "1716.9613487850443\n",
      "1715.9771242239217\n"
     ]
    }
   ],
   "source": [
    "print(baseline.aic)\n",
    "print(random_walk_model.aic)\n",
    "print(ar_1.aic)\n",
    "print(ar_2.aic)\n",
    "print(ma_1.aic)\n",
    "print(ma_2.aic)\n",
    "print(arma_21.aic)"
   ]
  },
  {
   "cell_type": "code",
   "execution_count": 50,
   "metadata": {
    "hidden": true,
    "slideshow": {
     "slide_type": "slide"
    }
   },
   "outputs": [],
   "source": [
    "def find_rmse(model, train_data=train):\n",
    "    y_hat = model.predict(typ='levels')\n",
    "    return np.sqrt(mean_squared_error(train_data, y_hat))"
   ]
  },
  {
   "cell_type": "code",
   "execution_count": 51,
   "metadata": {
    "hidden": true,
    "slideshow": {
     "slide_type": "fragment"
    }
   },
   "outputs": [
    {
     "name": "stdout",
     "output_type": "stream",
     "text": [
      "7.6334663593371035\n",
      "5.097365380006156\n",
      "4.916994704828413\n",
      "4.71033073081498\n",
      "4.74046393258403\n",
      "4.676009695909174\n",
      "4.6442651908170225\n"
     ]
    }
   ],
   "source": [
    "print(find_rmse(baseline))\n",
    "print(find_rmse(random_walk_model))\n",
    "print(find_rmse(ar_1))\n",
    "print(find_rmse(ar_2))\n",
    "print(find_rmse(ma_1))\n",
    "print(find_rmse(ma_2))\n",
    "print(find_rmse(arma_21))"
   ]
  },
  {
   "cell_type": "code",
   "execution_count": 52,
   "metadata": {
    "hidden": true,
    "slideshow": {
     "slide_type": "fragment"
    }
   },
   "outputs": [
    {
     "name": "stdout",
     "output_type": "stream",
     "text": [
      "5.676353552013773\n",
      "13.119506652672419\n",
      "6.343341310895023\n",
      "6.503658988254134\n",
      "6.233574259093813\n"
     ]
    }
   ],
   "source": [
    "for train_ind, val_ind in split.split(train_with_ind):\n",
    "    ar = ARIMA(endog=train_with_ind.iloc[train_ind, -1], order=(2, 1, 2)).fit()\n",
    "    preds = ar.predict(typ='levels', start=val_ind[0], end=val_ind[-1])\n",
    "    true = train_with_ind.iloc[val_ind, -1]\n",
    "    print(np.sqrt(mean_squared_error(true, preds)))"
   ]
  },
  {
   "cell_type": "code",
   "execution_count": 53,
   "metadata": {
    "hidden": true,
    "slideshow": {
     "slide_type": "slide"
    }
   },
   "outputs": [],
   "source": [
    "def find_rmse_test(model, test_data=test):\n",
    "    y_hat = model.predict(start=test_data.index[0], end=test_data.index[-1], typ='levels')\n",
    "    return np.sqrt(mean_squared_error(test_data, y_hat))"
   ]
  },
  {
   "cell_type": "code",
   "execution_count": 54,
   "metadata": {
    "hidden": true,
    "slideshow": {
     "slide_type": "fragment"
    }
   },
   "outputs": [
    {
     "name": "stdout",
     "output_type": "stream",
     "text": [
      "13.500959680117793\n",
      "10.527048559730781\n",
      "10.884018932947864\n",
      "11.023282812965553\n",
      "11.012715926746004\n",
      "10.729331185628737\n",
      "10.83488120116436\n"
     ]
    }
   ],
   "source": [
    "print(find_rmse_test(baseline))\n",
    "print(find_rmse_test(random_walk_model))\n",
    "print(find_rmse_test(ar_1))\n",
    "print(find_rmse_test(ar_2))\n",
    "print(find_rmse_test(ma_1))\n",
    "print(find_rmse_test(ma_2))\n",
    "print(find_rmse_test(arma_21))"
   ]
  },
  {
   "cell_type": "markdown",
   "metadata": {
    "heading_collapsed": true,
    "slideshow": {
     "slide_type": "slide"
    }
   },
   "source": [
    "# LEVEL UPS"
   ]
  },
  {
   "cell_type": "markdown",
   "metadata": {
    "heading_collapsed": true,
    "hidden": true,
    "slideshow": {
     "slide_type": "fragment"
    }
   },
   "source": [
    "## ACF and PACF"
   ]
  },
  {
   "cell_type": "markdown",
   "metadata": {
    "hidden": true,
    "slideshow": {
     "slide_type": "fragment"
    }
   },
   "source": [
    "We have been able to reduce our AIC by chance, adding fairly random p, d, and q terms.\n",
    "\n",
    "But we have tools to help guide us in these decisions: the autocorrelation and partial autocorrelation functions."
   ]
  },
  {
   "cell_type": "markdown",
   "metadata": {
    "slideshow": {
     "slide_type": "fragment"
    }
   },
   "source": [
    "### [Identifying AR and MA using ACF and PACF Plots](https://towardsdatascience.com/identifying-ar-and-ma-terms-using-acf-and-pacf-plots-in-time-series-forecasting-ccb9fd073db8)"
   ]
  },
  {
   "cell_type": "markdown",
   "metadata": {
    "heading_collapsed": true,
    "hidden": true,
    "slideshow": {
     "slide_type": "slide"
    }
   },
   "source": [
    "### PACF"
   ]
  },
  {
   "cell_type": "markdown",
   "metadata": {
    "hidden": true,
    "slideshow": {
     "slide_type": "fragment"
    }
   },
   "source": [
    "In general, a partial correlation is a **conditional correlation**. It is the  amount of correlation between a variable and a lag of itself that is not explained by correlations at all lower-order-lags. If $Y_t$ is correlated with $Y_{t-1}$, and $Y_{t-1}$ is equally correlated with $Y_{t-2}$, then we should also expect to find correlation between $Y_t$ and $Y_{t-2}$. Thus, the correlation at lag 1 \"propagates\" to lag 2 and presumably to higher-order lags. The partial autocorrelation at lag 2 is therefore the difference between the actual correlation at lag 2 and the expected correlation due to the propagation of correlation at lag 1."
   ]
  },
  {
   "cell_type": "code",
   "execution_count": 55,
   "metadata": {
    "hidden": true,
    "slideshow": {
     "slide_type": "fragment"
    }
   },
   "outputs": [
    {
     "name": "stderr",
     "output_type": "stream",
     "text": [
      "/Users/josephmata/opt/anaconda3/envs/dplearn/lib/python3.7/site-packages/statsmodels/graphics/tsaplots.py:353: FutureWarning: The default method 'yw' can produce PACF values outside of the [-1,1] interval. After 0.13, the default will change tounadjusted Yule-Walker ('ywm'). You can use this method now by setting method='ywm'.\n",
      "  FutureWarning,\n"
     ]
    },
    {
     "data": {
      "image/png": "[encoded data removed]",
      "text/plain": [
       "<Figure size 432x288 with 1 Axes>"
      ]
     },
     "metadata": {
      "needs_background": "light"
     },
     "output_type": "display_data"
    }
   ],
   "source": [
    "plot_pacf(train.diff().dropna());"
   ]
  },
  {
   "cell_type": "markdown",
   "metadata": {
    "hidden": true
   },
   "source": [
    "The shaded area of the graph is the confidence interval. When the correlation drops into the shaded area, that means there is no longer statistically significant correlation between lags."
   ]
  },
  {
   "cell_type": "markdown",
   "metadata": {
    "hidden": true
   },
   "source": [
    "For an AR process, we run a linear regression on lags according to the order of the AR process. The coefficients calculated factor in the influence of the other variables.   \n",
    "\n",
    "Since the PACF shows the direct effect of previous lags, it helps us choose AR terms.  If there is a significant positive value at a lag, consider adding an AR term according to the number that you see."
   ]
  },
  {
   "cell_type": "markdown",
   "metadata": {
    "hidden": true
   },
   "source": [
    "Some rules of thumb: \n",
    "\n",
    "    - A sharp drop after lag \"k\" suggests an AR-k model.\n",
    "    - A gradual decline suggests an MA."
   ]
  },
  {
   "cell_type": "markdown",
   "metadata": {
    "heading_collapsed": true,
    "hidden": true
   },
   "source": [
    "### ACF"
   ]
  },
  {
   "cell_type": "markdown",
   "metadata": {
    "hidden": true
   },
   "source": [
    "The autocorrelation plot of our time series is simply a version of the correlation plots we used in linear regression.  Our features this time are prior points in the time series, or the **lags**. "
   ]
  },
  {
   "cell_type": "code",
   "execution_count": 56,
   "metadata": {
    "hidden": true,
    "slideshow": {
     "slide_type": "slide"
    }
   },
   "outputs": [
    {
     "data": {
      "image/png": "[encoded data removed]",
      "text/plain": [
       "<Figure size 432x288 with 1 Axes>"
      ]
     },
     "metadata": {
      "needs_background": "light"
     },
     "output_type": "display_data"
    }
   ],
   "source": [
    "# Original data\n",
    "\n",
    "plot_acf(train);"
   ]
  },
  {
   "cell_type": "markdown",
   "metadata": {
    "hidden": true,
    "slideshow": {
     "slide_type": "fragment"
    }
   },
   "source": [
    "The above autocorrelation shows that there is correlation between lags up to about 12 weeks back.  \n",
    "\n",
    "When Looking at the ACF graph for the original data, we see a strong persistent correlation with higher order lags. This is evidence that we should take a **first difference** of the data to remove this autocorrelation.\n",
    "\n",
    "This makes sense, since we are trying to capture the effect of recent lags in our ARMA models, and with high correlation between distant lags, our models will not come close to the true process."
   ]
  },
  {
   "cell_type": "markdown",
   "metadata": {
    "hidden": true
   },
   "source": [
    "Generally, we use an ACF to predict MA terms.\n",
    "Moving Average models are using the error terms of the predictions to calculate the next value.  This means that the algorithm does not incorporate the direct effect of the previous value. It models what are sometimes called **impulses** or **shocks** whose effect accounts for the propogation of correlation from one lag to the other. "
   ]
  },
  {
   "cell_type": "code",
   "execution_count": 57,
   "metadata": {
    "hidden": true
   },
   "outputs": [
    {
     "data": {
      "image/png": "[encoded data removed]",
      "text/plain": [
       "<Figure size 432x288 with 1 Axes>"
      ]
     },
     "metadata": {
      "needs_background": "light"
     },
     "output_type": "display_data"
    }
   ],
   "source": [
    "plot_acf(train.diff().dropna());"
   ]
  },
  {
   "cell_type": "markdown",
   "metadata": {
    "hidden": true
   },
   "source": [
    "This autocorrelation plot can now be used to get an idea of a potential MA term.  Our differenced series shows negative significant correlation at a lag of 1, which suggests adding 1 MA term. There is also a statistically significant 2nd term, so adding another MA is another possibility."
   ]
  },
  {
   "cell_type": "markdown",
   "metadata": {
    "hidden": true
   },
   "source": [
    "\n",
    "> If the ACF of the differenced series displays a sharp cutoff and/or the lag-1 autocorrelation is negative--i.e., if the series appears slightly \"overdifferenced\"--then consider adding an MA term to the model. The lag at which the ACF cuts off is the indicated number of MA terms. [Duke](https://people.duke.edu/~rnau/411arim3.htm#signatures)"
   ]
  },
  {
   "cell_type": "markdown",
   "metadata": {
    "hidden": true
   },
   "source": [
    "Rule of thumb:\n",
    "    \n",
    "  - If the autocorrelation shows negative correlation at the first lag, try adding MA terms.\n",
    "    \n",
    "    "
   ]
  },
  {
   "cell_type": "markdown",
   "metadata": {
    "hidden": true
   },
   "source": [
    "![alt text](images/armaguidelines.png)"
   ]
  },
  {
   "cell_type": "markdown",
   "metadata": {
    "hidden": true
   },
   "source": [
    "The plots above suggest that we should try a 1st order differenced MA(1) or MA(2) model on our weekly gun offense data.\n",
    "\n",
    "This aligns with our AIC scores from above."
   ]
  },
  {
   "cell_type": "markdown",
   "metadata": {
    "hidden": true
   },
   "source": [
    "The ACF can be used to identify the possible structure of time series data. That can be tricky going forward as there often isn’t a single clear-cut interpretation of a sample autocorrelation function."
   ]
  },
  {
   "cell_type": "markdown",
   "metadata": {
    "hidden": true
   },
   "source": [
    "Let's plot our training predictions, using an ARIMA model with order (1, 1, 2)."
   ]
  },
  {
   "cell_type": "code",
   "execution_count": 58,
   "metadata": {
    "cell_style": "split",
    "hidden": true
   },
   "outputs": [
    {
     "data": {
      "image/png": "[encoded data removed]",
      "text/plain": [
       "<Figure size 432x288 with 1 Axes>"
      ]
     },
     "metadata": {
      "needs_background": "light"
     },
     "output_type": "display_data"
    }
   ],
   "source": [
    "aa_model = ARIMA(train, order=(1, 1, 2)).fit()\n",
    "y_hat_train = aa_model.predict(typ='levels')\n",
    "\n",
    "fig, ax = plt.subplots()\n",
    "ax.plot(y_hat_train)\n",
    "ax.plot(train);"
   ]
  },
  {
   "cell_type": "code",
   "execution_count": 59,
   "metadata": {
    "cell_style": "split",
    "hidden": true
   },
   "outputs": [
    {
     "data": {
      "image/png": "[encoded data removed]",
      "text/plain": [
       "<Figure size 432x288 with 1 Axes>"
      ]
     },
     "metadata": {
      "needs_background": "light"
     },
     "output_type": "display_data"
    }
   ],
   "source": [
    "# Let's zoom in:\n",
    "\n",
    "fig, ax = plt.subplots()\n",
    "ax.plot(y_hat_train[50:70])\n",
    "ax.plot(train[50:70])\n",
    "plt.xticks(rotation = 45, ha='right');"
   ]
  },
  {
   "cell_type": "code",
   "execution_count": 60,
   "metadata": {
    "hidden": true
   },
   "outputs": [
    {
     "data": {
      "text/html": [
       "<table class=\"simpletable\">\n",
       "<caption>SARIMAX Results</caption>\n",
       "<tr>\n",
       "  <th>Dep. Variable:</th>           <td>y</td>        <th>  No. Observations:  </th>    <td>298</td>  \n",
       "</tr>\n",
       "<tr>\n",
       "  <th>Model:</th>            <td>ARIMA(1, 1, 2)</td>  <th>  Log Likelihood     </th> <td>-853.009</td>\n",
       "</tr>\n",
       "<tr>\n",
       "  <th>Date:</th>            <td>Mon, 28 Nov 2022</td> <th>  AIC                </th> <td>1714.019</td>\n",
       "</tr>\n",
       "<tr>\n",
       "  <th>Time:</th>                <td>09:07:44</td>     <th>  BIC                </th> <td>1728.794</td>\n",
       "</tr>\n",
       "<tr>\n",
       "  <th>Sample:</th>             <td>01-05-2014</td>    <th>  HQIC               </th> <td>1719.934</td>\n",
       "</tr>\n",
       "<tr>\n",
       "  <th></th>                   <td>- 09-15-2019</td>   <th>                     </th>     <td> </td>   \n",
       "</tr>\n",
       "<tr>\n",
       "  <th>Covariance Type:</th>        <td>opg</td>       <th>                     </th>     <td> </td>   \n",
       "</tr>\n",
       "</table>\n",
       "<table class=\"simpletable\">\n",
       "<tr>\n",
       "     <td></td>       <th>coef</th>     <th>std err</th>      <th>z</th>      <th>P>|z|</th>  <th>[0.025</th>    <th>0.975]</th>  \n",
       "</tr>\n",
       "<tr>\n",
       "  <th>ar.L1</th>  <td>   -0.4760</td> <td>    0.169</td> <td>   -2.816</td> <td> 0.005</td> <td>   -0.807</td> <td>   -0.145</td>\n",
       "</tr>\n",
       "<tr>\n",
       "  <th>ma.L1</th>  <td>    0.0679</td> <td>    0.159</td> <td>    0.425</td> <td> 0.671</td> <td>   -0.245</td> <td>    0.380</td>\n",
       "</tr>\n",
       "<tr>\n",
       "  <th>ma.L2</th>  <td>   -0.4418</td> <td>    0.081</td> <td>   -5.437</td> <td> 0.000</td> <td>   -0.601</td> <td>   -0.283</td>\n",
       "</tr>\n",
       "<tr>\n",
       "  <th>sigma2</th> <td>   18.2629</td> <td>    1.370</td> <td>   13.329</td> <td> 0.000</td> <td>   15.577</td> <td>   20.948</td>\n",
       "</tr>\n",
       "</table>\n",
       "<table class=\"simpletable\">\n",
       "<tr>\n",
       "  <th>Ljung-Box (L1) (Q):</th>     <td>0.00</td> <th>  Jarque-Bera (JB):  </th> <td>5.12</td>\n",
       "</tr>\n",
       "<tr>\n",
       "  <th>Prob(Q):</th>                <td>0.98</td> <th>  Prob(JB):          </th> <td>0.08</td>\n",
       "</tr>\n",
       "<tr>\n",
       "  <th>Heteroskedasticity (H):</th> <td>1.39</td> <th>  Skew:              </th> <td>0.24</td>\n",
       "</tr>\n",
       "<tr>\n",
       "  <th>Prob(H) (two-sided):</th>    <td>0.11</td> <th>  Kurtosis:          </th> <td>3.43</td>\n",
       "</tr>\n",
       "</table><br/><br/>Warnings:<br/>[1] Covariance matrix calculated using the outer product of gradients (complex-step)."
      ],
      "text/plain": [
       "<class 'statsmodels.iolib.summary.Summary'>\n",
       "\"\"\"\n",
       "                               SARIMAX Results                                \n",
       "==============================================================================\n",
       "Dep. Variable:                      y   No. Observations:                  298\n",
       "Model:                 ARIMA(1, 1, 2)   Log Likelihood                -853.009\n",
       "Date:                Mon, 28 Nov 2022   AIC                           1714.019\n",
       "Time:                        09:07:44   BIC                           1728.794\n",
       "Sample:                    01-05-2014   HQIC                          1719.934\n",
       "                         - 09-15-2019                                         \n",
       "Covariance Type:                  opg                                         \n",
       "==============================================================================\n",
       "                 coef    std err          z      P>|z|      [0.025      0.975]\n",
       "------------------------------------------------------------------------------\n",
       "ar.L1         -0.4760      0.169     -2.816      0.005      -0.807      -0.145\n",
       "ma.L1          0.0679      0.159      0.425      0.671      -0.245       0.380\n",
       "ma.L2         -0.4418      0.081     -5.437      0.000      -0.601      -0.283\n",
       "sigma2        18.2629      1.370     13.329      0.000      15.577      20.948\n",
       "===================================================================================\n",
       "Ljung-Box (L1) (Q):                   0.00   Jarque-Bera (JB):                 5.12\n",
       "Prob(Q):                              0.98   Prob(JB):                         0.08\n",
       "Heteroskedasticity (H):               1.39   Skew:                             0.24\n",
       "Prob(H) (two-sided):                  0.11   Kurtosis:                         3.43\n",
       "===================================================================================\n",
       "\n",
       "Warnings:\n",
       "[1] Covariance matrix calculated using the outer product of gradients (complex-step).\n",
       "\"\"\""
      ]
     },
     "execution_count": 60,
     "metadata": {},
     "output_type": "execute_result"
    }
   ],
   "source": [
    "aa_model.summary()"
   ]
  },
  {
   "cell_type": "markdown",
   "metadata": {
    "heading_collapsed": true,
    "hidden": true
   },
   "source": [
    "## Testing"
   ]
  },
  {
   "cell_type": "markdown",
   "metadata": {
    "hidden": true
   },
   "source": [
    "Now that we have chosen our parameters, let's try our model on the test set."
   ]
  },
  {
   "cell_type": "code",
   "execution_count": 61,
   "metadata": {
    "hidden": true
   },
   "outputs": [
    {
     "data": {
      "text/plain": [
       "2019-09-22    40.857143\n",
       "2019-09-29    35.142857\n",
       "2019-10-06    31.571429\n",
       "2019-10-13    35.142857\n",
       "2019-10-20    37.714286\n",
       "                ...    \n",
       "2021-01-17    42.857143\n",
       "2021-01-24    45.857143\n",
       "2021-01-31    35.714286\n",
       "2021-02-07    36.285714\n",
       "2021-02-14    32.750000\n",
       "Freq: W-SUN, Length: 74, dtype: float64"
      ]
     },
     "execution_count": 61,
     "metadata": {},
     "output_type": "execute_result"
    }
   ],
   "source": [
    "test"
   ]
  },
  {
   "cell_type": "code",
   "execution_count": 62,
   "metadata": {
    "hidden": true
   },
   "outputs": [
    {
     "data": {
      "image/png": "[encoded data removed]",
      "text/plain": [
       "<Figure size 432x288 with 1 Axes>"
      ]
     },
     "metadata": {
      "needs_background": "light"
     },
     "output_type": "display_data"
    }
   ],
   "source": [
    "y_hat_test = aa_model.predict(start=test.index[0], end=test.index[-1],typ='levels')\n",
    "\n",
    "fig, ax = plt.subplots()\n",
    "ax.plot(y_hat_test)\n",
    "plt.xticks(rotation = 45, ha='right');"
   ]
  },
  {
   "cell_type": "code",
   "execution_count": 63,
   "metadata": {
    "hidden": true
   },
   "outputs": [
    {
     "data": {
      "image/png": "[encoded data removed]",
      "text/plain": [
       "<Figure size 432x288 with 1 Axes>"
      ]
     },
     "metadata": {
      "needs_background": "light"
     },
     "output_type": "display_data"
    }
   ],
   "source": [
    "fig, ax = plt.subplots()\n",
    "ax.plot(y_hat_test, label ='preds')\n",
    "ax.plot(test, label ='actual')\n",
    "plt.xticks(rotation = 45, ha='right')\n",
    "\n",
    "\n",
    "\n",
    "ax.legend();"
   ]
  },
  {
   "cell_type": "code",
   "execution_count": 64,
   "metadata": {
    "hidden": true
   },
   "outputs": [
    {
     "data": {
      "text/plain": [
       "10.81560137744128"
      ]
     },
     "execution_count": 64,
     "metadata": {},
     "output_type": "execute_result"
    }
   ],
   "source": [
    "np.sqrt(mean_squared_error(test, y_hat_test))"
   ]
  },
  {
   "cell_type": "markdown",
   "metadata": {
    "hidden": true,
    "slideshow": {
     "slide_type": "slide"
    }
   },
   "source": [
    "Our predictions on the test set certainly leave something to be desired.  \n",
    "\n",
    "Let's take another look at our autocorrelation function of the original series."
   ]
  },
  {
   "cell_type": "code",
   "execution_count": 65,
   "metadata": {
    "cell_style": "split",
    "hidden": true,
    "slideshow": {
     "slide_type": "fragment"
    }
   },
   "outputs": [
    {
     "data": {
      "image/png": "[encoded data removed]",
      "text/plain": [
       "<Figure size 432x288 with 1 Axes>"
      ]
     },
     "metadata": {
      "needs_background": "light"
     },
     "output_type": "display_data"
    }
   ],
   "source": [
    "plot_acf(ts_weekly);"
   ]
  },
  {
   "cell_type": "markdown",
   "metadata": {
    "cell_style": "split",
    "hidden": true
   },
   "source": [
    "Let's increase the lags"
   ]
  },
  {
   "cell_type": "code",
   "execution_count": 66,
   "metadata": {
    "cell_style": "split",
    "hidden": true
   },
   "outputs": [
    {
     "data": {
      "image/png": "[encoded data removed]",
      "text/plain": [
       "<Figure size 432x288 with 1 Axes>"
      ]
     },
     "metadata": {
      "needs_background": "light"
     },
     "output_type": "display_data"
    }
   ],
   "source": [
    "plot_acf(ts_weekly, lags=75);"
   ]
  },
  {
   "cell_type": "markdown",
   "metadata": {
    "hidden": true
   },
   "source": [
    "There seems to be a wave of correlation at around 50 lags.\n",
    "What is going on?"
   ]
  },
  {
   "cell_type": "markdown",
   "metadata": {
    "heading_collapsed": true,
    "hidden": true,
    "slideshow": {
     "slide_type": "slide"
    }
   },
   "source": [
    "## SARIMA"
   ]
  },
  {
   "cell_type": "markdown",
   "metadata": {
    "hidden": true,
    "slideshow": {
     "slide_type": "fragment"
    }
   },
   "source": [
    "Looks like we may have some other forms of seasonality.  Luckily, we have SARIMA, which stands for Seasonal Auto Regressive Integrated Moving Average.  That is a lot.  The `statsmodels` package is actually called SARIMAX.  The X stands for exogenous, and we are only dealing with endogenous variables, but we can use this class."
   ]
  },
  {
   "cell_type": "markdown",
   "metadata": {
    "cell_style": "center",
    "hidden": true,
    "slideshow": {
     "slide_type": "slide"
    }
   },
   "source": [
    "A seasonal ARIMA model is classified as an **ARIMA(p,d,q)x(P,D,Q)** model, \n",
    "\n",
    "    **p** = number of autoregressive (AR) terms \n",
    "    **d** = number of differences \n",
    "    **q** = number of moving average (MA) terms\n",
    "     \n",
    "    **P** = number of seasonal autoregressive (SAR) terms \n",
    "    **D** = number of seasonal differences \n",
    "    **Q** = number of seasonal moving average (SMA) terms\n",
    "\n",
    "I.e. P and Q specify the number of seasons to include."
   ]
  },
  {
   "cell_type": "code",
   "execution_count": 67,
   "metadata": {
    "hidden": true,
    "slideshow": {
     "slide_type": "slide"
    }
   },
   "outputs": [
    {
     "name": "stdout",
     "output_type": "stream",
     "text": [
      "Examples of parameter for SARIMA...\n",
      "SARIMAX: (0, 1, 0) x (0, 1, 0, 52)\n",
      "SARIMAX: (0, 1, 0) x (0, 1, 1, 52)\n",
      "SARIMAX: (0, 1, 0) x (1, 1, 0, 52)\n",
      "SARIMAX: (0, 1, 0) x (1, 1, 1, 52)\n",
      "SARIMAX: (0, 1, 1) x (0, 1, 0, 52)\n",
      "SARIMAX: (0, 1, 1) x (0, 1, 1, 52)\n",
      "SARIMAX: (0, 1, 1) x (1, 1, 0, 52)\n",
      "SARIMAX: (0, 1, 1) x (1, 1, 1, 52)\n",
      "SARIMAX: (1, 1, 0) x (0, 1, 0, 52)\n",
      "SARIMAX: (1, 1, 0) x (0, 1, 1, 52)\n",
      "SARIMAX: (1, 1, 0) x (1, 1, 0, 52)\n",
      "SARIMAX: (1, 1, 0) x (1, 1, 1, 52)\n",
      "SARIMAX: (1, 1, 1) x (0, 1, 0, 52)\n",
      "SARIMAX: (1, 1, 1) x (0, 1, 1, 52)\n",
      "SARIMAX: (1, 1, 1) x (1, 1, 0, 52)\n",
      "SARIMAX: (1, 1, 1) x (1, 1, 1, 52)\n"
     ]
    }
   ],
   "source": [
    "p = q = range(0, 2)\n",
    "pdq = list(itertools.product(p, [1], q))\n",
    "seasonal_pdq = [(x[0], x[1], x[2], 52) for x in list(itertools.product(p, [1], q))]\n",
    "print('Examples of parameter for SARIMA...')\n",
    "for i in pdq:\n",
    "    for s in seasonal_pdq:\n",
    "        print('SARIMAX: {} x {}'.format(i, s))"
   ]
  },
  {
   "cell_type": "code",
   "execution_count": 68,
   "metadata": {
    "hidden": true
   },
   "outputs": [
    {
     "name": "stdout",
     "output_type": "stream",
     "text": [
      "ARIMA(0, 1, 0)x(0, 1, 0, 52) - AIC:1576.8788291493852\n",
      "ARIMA(0, 1, 0)x(0, 1, 1, 52) - AIC:1204.4985892397538\n",
      "ARIMA(0, 1, 0)x(1, 1, 0, 52) - AIC:1225.4697052908614\n",
      "ARIMA(0, 1, 0)x(1, 1, 1, 52) - AIC:1207.6699611055953\n",
      "ARIMA(0, 1, 1)x(0, 1, 0, 52) - AIC:1481.758765664024\n",
      "ARIMA(0, 1, 1)x(0, 1, 1, 52) - AIC:1129.1627382521356\n",
      "ARIMA(0, 1, 1)x(1, 1, 0, 52) - AIC:1160.764047329969\n",
      "ARIMA(0, 1, 1)x(1, 1, 1, 52) - AIC:1134.734239043653\n",
      "ARIMA(1, 1, 0)x(0, 1, 0, 52) - AIC:1535.569792708562\n",
      "ARIMA(1, 1, 0)x(0, 1, 1, 52) - AIC:1180.5485531133745\n",
      "ARIMA(1, 1, 0)x(1, 1, 0, 52) - AIC:1189.3533353044047\n",
      "ARIMA(1, 1, 0)x(1, 1, 1, 52) - AIC:1182.9655873155511\n",
      "ARIMA(1, 1, 1)x(0, 1, 0, 52) - AIC:1476.6008134081735\n",
      "ARIMA(1, 1, 1)x(0, 1, 1, 52) - AIC:1124.4148822371926\n",
      "ARIMA(1, 1, 1)x(1, 1, 0, 52) - AIC:1144.5347878334564\n",
      "ARIMA(1, 1, 1)x(1, 1, 1, 52) - AIC:1129.8052126267844\n"
     ]
    }
   ],
   "source": [
    "for param in pdq:\n",
    "    for param_seasonal in seasonal_pdq:\n",
    "        try:\n",
    "            mod=SARIMAX(train,\n",
    "                         order=param,\n",
    "                         seasonal_order=param_seasonal,\n",
    "                         enforce_stationarity=False,\n",
    "                         enforce_invertibility=False)\n",
    "            results = mod.fit(disp=-1)\n",
    "            print('ARIMA{}x{} - AIC:{}'.format(param,param_seasonal,results.aic))\n",
    "        except: \n",
    "            print('Oops!')\n",
    "            continue"
   ]
  },
  {
   "cell_type": "markdown",
   "metadata": {
    "hidden": true
   },
   "source": [
    "Let's try the third from the bottom, ARIMA(1, 1, 1)x(0, 1, 1, 52)."
   ]
  },
  {
   "cell_type": "code",
   "execution_count": 69,
   "metadata": {
    "hidden": true
   },
   "outputs": [],
   "source": [
    "sari_mod =SARIMAX(train,\n",
    "                  order=(1, 1, 1),\n",
    "                  seasonal_order=(0, 1, 1, 52),\n",
    "                  enforce_stationarity=False,\n",
    "                  enforce_invertibility=False).fit(disp=-1)"
   ]
  },
  {
   "cell_type": "code",
   "execution_count": 70,
   "metadata": {
    "hidden": true
   },
   "outputs": [
    {
     "name": "stderr",
     "output_type": "stream",
     "text": [
      "/Users/josephmata/opt/anaconda3/envs/dplearn/lib/python3.7/site-packages/statsmodels/tsa/statespace/sarimax.py:868: UserWarning: Too few observations to estimate starting parameters for ARMA and trend. All parameters except for variances will be set to zeros.\n",
      "  ' zeros.' % warning_description)\n",
      "/Users/josephmata/opt/anaconda3/envs/dplearn/lib/python3.7/site-packages/statsmodels/tsa/statespace/sarimax.py:868: UserWarning: Too few observations to estimate starting parameters for seasonal ARMA. All parameters except for variances will be set to zeros.\n",
      "  ' zeros.' % warning_description)\n"
     ]
    },
    {
     "name": "stdout",
     "output_type": "stream",
     "text": [
      "7.574548012434134\n"
     ]
    },
    {
     "name": "stderr",
     "output_type": "stream",
     "text": [
      "/Users/josephmata/opt/anaconda3/envs/dplearn/lib/python3.7/site-packages/statsmodels/tsa/statespace/sarimax.py:868: UserWarning: Too few observations to estimate starting parameters for seasonal ARMA. All parameters except for variances will be set to zeros.\n",
      "  ' zeros.' % warning_description)\n"
     ]
    },
    {
     "name": "stdout",
     "output_type": "stream",
     "text": [
      "12.036675604160651\n"
     ]
    },
    {
     "name": "stderr",
     "output_type": "stream",
     "text": [
      "/Users/josephmata/opt/anaconda3/envs/dplearn/lib/python3.7/site-packages/statsmodels/tsa/statespace/sarimax.py:868: UserWarning: Too few observations to estimate starting parameters for seasonal ARMA. All parameters except for variances will be set to zeros.\n",
      "  ' zeros.' % warning_description)\n"
     ]
    },
    {
     "name": "stdout",
     "output_type": "stream",
     "text": [
      "8.97223060306303\n"
     ]
    },
    {
     "name": "stderr",
     "output_type": "stream",
     "text": [
      "/Users/josephmata/opt/anaconda3/envs/dplearn/lib/python3.7/site-packages/statsmodels/tsa/statespace/sarimax.py:868: UserWarning: Too few observations to estimate starting parameters for seasonal ARMA. All parameters except for variances will be set to zeros.\n",
      "  ' zeros.' % warning_description)\n"
     ]
    },
    {
     "name": "stdout",
     "output_type": "stream",
     "text": [
      "5.1552026857289155\n"
     ]
    },
    {
     "name": "stderr",
     "output_type": "stream",
     "text": [
      "/Users/josephmata/opt/anaconda3/envs/dplearn/lib/python3.7/site-packages/statsmodels/base/model.py:606: ConvergenceWarning: Maximum Likelihood optimization failed to converge. Check mle_retvals\n",
      "  ConvergenceWarning)\n"
     ]
    },
    {
     "name": "stdout",
     "output_type": "stream",
     "text": [
      "4.793508089261622\n"
     ]
    }
   ],
   "source": [
    "for train_ind, val_ind in split.split(train_with_ind):\n",
    "    sarimax = SARIMAX(endog=train_with_ind.iloc[train_ind, -1],\n",
    "                      order=(1, 1, 1),\n",
    "                     seasonal_order=(0, 1, 1, 52),\n",
    "                     enforce_stationarity=False,\n",
    "                     enforce_invertibility=False).fit(disp=-1)\n",
    "    preds = sarimax.predict(typ='levels', start=val_ind[0], end=val_ind[-1])\n",
    "    true = train_with_ind.iloc[val_ind, -1]\n",
    "    print(np.sqrt(mean_squared_error(true, preds)))"
   ]
  },
  {
   "cell_type": "code",
   "execution_count": 71,
   "metadata": {
    "hidden": true
   },
   "outputs": [
    {
     "data": {
      "image/png": "[encoded data removed]",
      "text/plain": [
       "<Figure size 432x288 with 1 Axes>"
      ]
     },
     "metadata": {
      "needs_background": "light"
     },
     "output_type": "display_data"
    }
   ],
   "source": [
    "y_hat_train = sari_mod.predict(typ='levels')\n",
    "y_hat_test = sari_mod.predict(start=test.index[0], end=test.index[-1],typ='levels')\n",
    "\n",
    "fig, ax = plt.subplots()\n",
    "ax.plot(train, label='train')\n",
    "ax.plot(test, label='test')\n",
    "ax.plot(y_hat_train, label='train_pred')\n",
    "ax.plot(y_hat_test, label='test_pred')\n",
    "\n",
    "plt.legend();"
   ]
  },
  {
   "cell_type": "code",
   "execution_count": 81,
   "metadata": {
    "hidden": true
   },
   "outputs": [
    {
     "data": {
      "image/png": "[encoded data removed]",
      "text/plain": [
       "<Figure size 432x288 with 1 Axes>"
      ]
     },
     "metadata": {
      "needs_background": "light"
     },
     "output_type": "display_data"
    }
   ],
   "source": [
    "# Let's zoom in on test\n",
    "fig, ax = plt.subplots()\n",
    "\n",
    "ax.plot(test, label='true')\n",
    "ax.plot(y_hat_test, label='pred')\n",
    "plt.xticks(rotation = 45, ha='right');\n",
    "\n",
    "\n",
    "plt.legend();"
   ]
  },
  {
   "cell_type": "code",
   "execution_count": 73,
   "metadata": {
    "hidden": true
   },
   "outputs": [
    {
     "data": {
      "text/plain": [
       "9.23362984090057"
      ]
     },
     "execution_count": 73,
     "metadata": {},
     "output_type": "execute_result"
    }
   ],
   "source": [
    "np.sqrt(mean_squared_error(test, y_hat_test))"
   ]
  },
  {
   "cell_type": "markdown",
   "metadata": {
    "heading_collapsed": true,
    "hidden": true
   },
   "source": [
    "## Forecast"
   ]
  },
  {
   "cell_type": "markdown",
   "metadata": {
    "hidden": true
   },
   "source": [
    "Lastly, let's predict into the future.\n",
    "\n",
    "To do so, we'll refit to our entire training set."
   ]
  },
  {
   "cell_type": "code",
   "execution_count": 74,
   "metadata": {
    "hidden": true
   },
   "outputs": [],
   "source": [
    "sari_mod = SARIMAX(ts_weekly,\n",
    "                  order=(1, 1, 1),\n",
    "                  seasonal_order=(0, 1, 1, 52),\n",
    "                  enforce_stationarity=False,\n",
    "                  enforce_invertibility=False).fit(disp=-1)"
   ]
  },
  {
   "cell_type": "code",
   "execution_count": 75,
   "metadata": {
    "hidden": true
   },
   "outputs": [],
   "source": [
    "# out of sample\n",
    "forecast = sari_mod.forecast(steps=52)"
   ]
  },
  {
   "cell_type": "code",
   "execution_count": 82,
   "metadata": {},
   "outputs": [
    {
     "data": {
      "text/plain": [
       "2021-02-21    39.696115\n",
       "2021-02-28    37.286602\n",
       "2021-03-07    39.990303\n",
       "2021-03-14    40.142992\n",
       "2021-03-21    40.622192\n",
       "2021-03-28    42.226455\n",
       "2021-04-04    41.253482\n",
       "2021-04-11    47.146287\n",
       "2021-04-18    44.977634\n",
       "2021-04-25    44.595802\n",
       "2021-05-02    46.410819\n",
       "2021-05-09    45.027377\n",
       "2021-05-16    50.690880\n",
       "2021-05-23    55.319613\n",
       "2021-05-30    53.377535\n",
       "2021-06-06    55.936024\n",
       "2021-06-13    51.046158\n",
       "2021-06-20    51.601374\n",
       "2021-06-27    56.670617\n",
       "2021-07-04    58.181718\n",
       "2021-07-11    52.228993\n",
       "2021-07-18    55.109302\n",
       "2021-07-25    55.501792\n",
       "2021-08-01    55.057278\n",
       "2021-08-08    56.464818\n",
       "2021-08-15    57.460806\n",
       "2021-08-22    55.514542\n",
       "2021-08-29    56.848214\n",
       "2021-09-05    52.859784\n",
       "2021-09-12    52.530151\n",
       "2021-09-19    53.691494\n",
       "2021-09-26    51.518977\n",
       "2021-10-03    47.262023\n",
       "2021-10-10    51.660499\n",
       "2021-10-17    51.443357\n",
       "2021-10-24    51.710133\n",
       "2021-10-31    51.274699\n",
       "2021-11-07    52.206658\n",
       "2021-11-14    44.357206\n",
       "2021-11-21    48.538816\n",
       "2021-11-28    49.665388\n",
       "2021-12-05    48.610391\n",
       "2021-12-12    46.047724\n",
       "2021-12-19    49.198850\n",
       "2021-12-26    48.231522\n",
       "2022-01-02    51.881414\n",
       "2022-01-09    46.819340\n",
       "2022-01-16    46.001601\n",
       "2022-01-23    46.089395\n",
       "2022-01-30    41.554428\n",
       "2022-02-06    39.711080\n",
       "2022-02-13    39.913856\n",
       "Freq: W-SUN, Name: predicted_mean, dtype: float64"
      ]
     },
     "execution_count": 82,
     "metadata": {},
     "output_type": "execute_result"
    }
   ],
   "source": [
    "forecast"
   ]
  },
  {
   "cell_type": "code",
   "execution_count": 76,
   "metadata": {
    "hidden": true
   },
   "outputs": [
    {
     "data": {
      "image/png": "[encoded data removed]",
      "text/plain": [
       "<Figure size 864x504 with 1 Axes>"
      ]
     },
     "metadata": {
      "needs_background": "light"
     },
     "output_type": "display_data"
    }
   ],
   "source": [
    "fig, ax = plt.subplots(figsize =(12,7))\n",
    "ax.plot(ts_weekly, label='so_far')\n",
    "ax.plot(forecast, label='forecast')\n",
    "ax.set_title('Chicago Gun Crime Predictions\\n One Year out')\n",
    "\n",
    "plt.legend();"
   ]
  },
  {
   "cell_type": "code",
   "execution_count": null,
   "metadata": {
    "hidden": true
   },
   "outputs": [],
   "source": []
  },
  {
   "cell_type": "code",
   "execution_count": null,
   "metadata": {},
   "outputs": [],
   "source": []
  }
 ],
 "metadata": {
  "celltoolbar": "Slideshow",
  "kernelspec": {
   "display_name": "dplearn",
   "language": "python",
   "name": "dplearn"
  },
  "language_info": {
   "codemirror_mode": {
    "name": "ipython",
    "version": 3
   },
   "file_extension": ".py",
   "mimetype": "text/x-python",
   "name": "python",
   "nbconvert_exporter": "python",
   "pygments_lexer": "ipython3",
   "version": "3.7.5"
  },
  "toc": {
   "base_numbering": 1,
   "nav_menu": {},
   "number_sections": true,
   "sideBar": true,
   "skip_h1_title": false,
   "title_cell": "Table of Contents",
   "title_sidebar": "Contents",
   "toc_cell": true,
   "toc_position": {
    "height": "calc(100% - 180px)",
    "left": "10px",
    "top": "150px",
    "width": "260px"
   },
   "toc_section_display": true,
   "toc_window_display": true
  },
  "varInspector": {
   "cols": {
    "lenName": 16,
    "lenType": 16,
    "lenVar": 40
   },
   "kernels_config": {
    "python": {
     "delete_cmd_postfix": "",
     "delete_cmd_prefix": "del ",
     "library": "var_list.py",
     "varRefreshCmd": "print(var_dic_list())"
    },
    "r": {
     "delete_cmd_postfix": ") ",
     "delete_cmd_prefix": "rm(",
     "library": "var_list.r",
     "varRefreshCmd": "cat(var_dic_list()) "
    }
   },
   "types_to_exclude": [
    "module",
    "function",
    "builtin_function_or_method",
    "instance",
    "_Feature"
   ],
   "window_display": true
  }
 },
 "nbformat": 4,
 "nbformat_minor": 4
}
