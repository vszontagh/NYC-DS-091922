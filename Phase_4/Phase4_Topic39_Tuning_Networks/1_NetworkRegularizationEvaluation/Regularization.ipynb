{
 "cells": [
  {
   "cell_type": "markdown",
   "metadata": {
    "slideshow": {
     "slide_type": "slide"
    }
   },
   "source": [
    "<div style=\"color:white;\n",
    "           display:fill;\n",
    "           border-radius:5px;\n",
    "           background-color:#5642C5;\n",
    "           font-size:200%;\n",
    "           font-family:Arial;letter-spacing:0.5px\">\n",
    "\n",
    "<p width = 20%, style=\"padding: 10px;\n",
    "              color:white;\">\n",
    "Neural Networks: Regularization\n",
    "</p>\n",
    "</div>\n",
    "\n",
    "Data Science Cohort Live NYC Jully 2022\n",
    "<p>Phase 4: Topic 41</p>\n",
    "<br>\n",
    "<br>\n",
    "\n",
    "<div align = \"right\">\n",
    "<img src=\"Images/flatiron-school-logo.png\" align = \"right\" width=\"200\"/>\n",
    "</div>\n",
    "    \n",
    "    "
   ]
  },
  {
   "cell_type": "code",
   "execution_count": 2,
   "metadata": {
    "slideshow": {
     "slide_type": "skip"
    }
   },
   "outputs": [
    {
     "name": "stdout",
     "output_type": "stream",
     "text": [
      "The autoreload extension is already loaded. To reload it, use:\n",
      "  %reload_ext autoreload\n"
     ]
    }
   ],
   "source": [
    "from sklearn.datasets import load_sample_images\n",
    "from sklearn.datasets import load_digits\n",
    "from sklearn.model_selection import train_test_split, cross_val_score\n",
    "from sklearn.preprocessing import OneHotEncoder\n",
    "from sklearn.metrics import accuracy_score, confusion_matrix\n",
    "import matplotlib.pyplot as plt\n",
    "import matplotlib.image as mpimg\n",
    "import numpy as np\n",
    "import pandas as pd\n",
    "from sklearn.metrics import ConfusionMatrixDisplay\n",
    "import seaborn as sns\n",
    "\n",
    "from tensorflow.keras import datasets\n",
    "from tensorflow.keras.models import Sequential\n",
    "from tensorflow.keras.layers import Dense, Dropout\n",
    "from tensorflow.keras.callbacks import EarlyStopping\n",
    "from tensorflow.keras.utils import to_categorical\n",
    "from tensorflow.keras.layers import Flatten # takes 2D input and turns into 1D array\n",
    "\n",
    "import os\n",
    "import sys\n",
    "module_path = os.path.abspath(os.path.join(os.pardir, os.pardir))\n",
    "if module_path not in sys.path:\n",
    "    sys.path.append(module_path)\n",
    "    \n",
    "%load_ext autoreload\n",
    "%autoreload 2"
   ]
  },
  {
   "cell_type": "markdown",
   "metadata": {
    "slideshow": {
     "slide_type": "slide"
    }
   },
   "source": [
    "### Things to remember:\n"
   ]
  },
  {
   "cell_type": "markdown",
   "metadata": {
    "slideshow": {
     "slide_type": "fragment"
    }
   },
   "source": [
    "## STEPS ##\n",
    "\n",
    "1. Load Data\n",
    "2. Define Keras Model\n",
    "3. Compile Keras Model\n",
    "4. Fit Keras Model\n",
    "5. Evaluate Keras Model\n",
    "6. Make Predictions"
   ]
  },
  {
   "cell_type": "markdown",
   "metadata": {
    "slideshow": {
     "slide_type": "fragment"
    }
   },
   "source": [
    "\n",
    "- The data and labels in `fit()` need to be numpy arrays, not `pandas` dfs.\n",
    "- Scaling your data will have a large impact on your model.\n",
    "   > For our traditional input features, we would use a scaler object. For images, as long as the minimum value is 0, we can simply divide through by the maximum pixel intensity."
   ]
  },
  {
   "cell_type": "markdown",
   "metadata": {
    "slideshow": {
     "slide_type": "slide"
    }
   },
   "source": [
    "#### Regularization\n",
    "- Retain complexity of neural network: many weights to learn interesting relationships\n",
    "- Make our weights less susceptible to overfitting\n",
    "\n",
    "**Getting neural networks to perform really well**"
   ]
  },
  {
   "cell_type": "markdown",
   "metadata": {
    "slideshow": {
     "slide_type": "slide"
    }
   },
   "source": [
    "In neural networks, two main forms of regularization:\n",
    "- L2 Regularization (something familiar)\n",
    "- Dropout Regularization (something a little new)"
   ]
  },
  {
   "cell_type": "markdown",
   "metadata": {
    "slideshow": {
     "slide_type": "slide"
    }
   },
   "source": [
    "**L2 Regularization**\n",
    "\n",
    "- Add penalty on weight **matrices**.\n",
    "$$ J \\rightarrow J' $$\n",
    "$$ J = \\sum_{i=1}^m \\frac{1}{m}L(y_i, \\hat{y}_i) $$\n",
    "$$ J' = \\sum_{i=1}^m \\frac{1}{m}L(y_i, \\hat{y}_i) + \\frac{\\lambda}{2} \\sum_{l=1}^L \\lVert  W^{[l]}   \\rVert_F^2 $$"
   ]
  },
  {
   "cell_type": "markdown",
   "metadata": {
    "slideshow": {
     "slide_type": "fragment"
    }
   },
   "source": [
    "where $F$ denotes the Frobenius norm."
   ]
  },
  {
   "cell_type": "markdown",
   "metadata": {
    "cell_style": "center",
    "slideshow": {
     "slide_type": "slide"
    }
   },
   "source": [
    "Frobenius norm is square root of sum of of element-wise square:\n",
    "i.e. \n",
    "$$ \\lVert  A   \\rVert_F = \\sqrt{\\sum_{i,j} A_{ij}^2 }$$"
   ]
  },
  {
   "cell_type": "code",
   "execution_count": 3,
   "metadata": {
    "slideshow": {
     "slide_type": "fragment"
    }
   },
   "outputs": [],
   "source": [
    "import numpy as np\n",
    "from numpy.linalg import norm"
   ]
  },
  {
   "cell_type": "code",
   "execution_count": 4,
   "metadata": {
    "cell_style": "split",
    "slideshow": {
     "slide_type": "fragment"
    }
   },
   "outputs": [
    {
     "data": {
      "text/plain": [
       "array([[1, 2],\n",
       "       [0, 3]])"
      ]
     },
     "execution_count": 4,
     "metadata": {},
     "output_type": "execute_result"
    }
   ],
   "source": [
    "A = np.array([[1,2],[0,3]])\n",
    "A"
   ]
  },
  {
   "cell_type": "code",
   "execution_count": 5,
   "metadata": {
    "cell_style": "split",
    "slideshow": {
     "slide_type": "fragment"
    }
   },
   "outputs": [
    {
     "data": {
      "text/plain": [
       "3.7416573867739413"
      ]
     },
     "execution_count": 5,
     "metadata": {},
     "output_type": "execute_result"
    }
   ],
   "source": [
    "norm(A, 'fro')"
   ]
  },
  {
   "cell_type": "code",
   "execution_count": 6,
   "metadata": {
    "cell_style": "split",
    "slideshow": {
     "slide_type": "fragment"
    }
   },
   "outputs": [
    {
     "data": {
      "text/plain": [
       "3.7416573867739413"
      ]
     },
     "execution_count": 6,
     "metadata": {},
     "output_type": "execute_result"
    }
   ],
   "source": [
    "np.sqrt(1**2 + 0**2 + 2**2 + 3**2)"
   ]
  },
  {
   "cell_type": "markdown",
   "metadata": {
    "cell_style": "split",
    "slideshow": {
     "slide_type": "slide"
    }
   },
   "source": [
    "Modiied objective functon:\n",
    "\n",
    "$$ J' = \\sum_{i=1}^m \\frac{1}{m}L(y_i, \\hat{y}_i) + \\frac{\\lambda}{2} \\sum_{l=1}^L \\lVert  W^{[l]}   \\rVert_F^2 $$"
   ]
  },
  {
   "cell_type": "markdown",
   "metadata": {
    "cell_style": "split",
    "slideshow": {
     "slide_type": "fragment"
    }
   },
   "source": [
    "Regularization serves to penalize any particular weight from being too large:\n",
    "- smoothens/redistributes weights for each weight matrix\n",
    "- aids in generalization"
   ]
  },
  {
   "cell_type": "markdown",
   "metadata": {
    "cell_style": "center",
    "slideshow": {
     "slide_type": "slide"
    }
   },
   "source": [
    "L2 regularization: often known as weight decay\n",
    "- Perspective: gradient descent\n",
    "$$ J' = \\sum_{i=1}^m \\frac{1}{m}L(y_i, \\hat{y}_i) + \\frac{\\lambda}{2} \\sum_{l=1}^L \\lVert  W^{[l]}   \\rVert_F^2 $$\n",
    "$$ W^{[l]} \\rightarrow W^{[l]} - \\alpha \\frac{\\partial J'}{\\partial W^{[l]}} $$ "
   ]
  },
  {
   "cell_type": "markdown",
   "metadata": {
    "cell_style": "center",
    "slideshow": {
     "slide_type": "fragment"
    }
   },
   "source": [
    "$$ J = \\sum_{i=1}^m \\frac{1}{m}L(y_i, \\hat{y}_i) $$\n",
    "$$ W^{[l]} \\rightarrow \\Big(W^{[l]}  - \\alpha \\frac{\\lambda}{2 m}  W^{[l]} \\Big) - \\alpha \\frac{\\partial J}{\\partial W^{[l]}}$$ \n",
    "\n",
    "- At each iteration regularization tries to reduce magnitude of weight matrix."
   ]
  },
  {
   "cell_type": "markdown",
   "metadata": {
    "slideshow": {
     "slide_type": "slide"
    }
   },
   "source": [
    "#### Implementing L2 regularization in Keras"
   ]
  },
  {
   "cell_type": "code",
   "execution_count": 7,
   "metadata": {
    "slideshow": {
     "slide_type": "fragment"
    }
   },
   "outputs": [],
   "source": [
    "# creates keras regularizer object\n",
    "from tensorflow.keras.regularizers import l2"
   ]
  },
  {
   "cell_type": "markdown",
   "metadata": {
    "cell_style": "center",
    "slideshow": {
     "slide_type": "slide"
    }
   },
   "source": [
    "L2 regularizer object takes in $\\lambda$ parameter as argument"
   ]
  },
  {
   "cell_type": "code",
   "execution_count": 8,
   "metadata": {
    "cell_style": "center",
    "slideshow": {
     "slide_type": "fragment"
    }
   },
   "outputs": [],
   "source": [
    "reg = l2(3e-3) # 1e-5 to .1"
   ]
  },
  {
   "cell_type": "markdown",
   "metadata": {
    "cell_style": "split",
    "slideshow": {
     "slide_type": "slide"
    }
   },
   "source": [
    "Implementing regularization to weights in Keras:\n",
    "- Dense(kernel_regularizer = __)\n",
    "- takes in string ('l2') or regularizer object"
   ]
  },
  {
   "cell_type": "markdown",
   "metadata": {
    "cell_style": "split",
    "slideshow": {
     "slide_type": "fragment"
    }
   },
   "source": [
    "Less common but also used:\n",
    "\n",
    "- can apply regularization to bias terms \n",
    "- Dense(bias_regularizer = __)"
   ]
  },
  {
   "cell_type": "code",
   "execution_count": 9,
   "metadata": {
    "slideshow": {
     "slide_type": "slide"
    }
   },
   "outputs": [],
   "source": [
    "# load in the data\n",
    "(x_train, y_train), (x_test, y_test) = datasets.mnist.load_data()\n",
    "\n",
    "x_train = x_train/255 # normalization\n",
    "x_test = x_test/255\n",
    "\n",
    "# Keras requires multi-class labels to be one-hot encoded\n",
    "y_tr_one_hot = to_categorical(y_train)\n",
    "y_tt_one_hot = to_categorical(y_test)"
   ]
  },
  {
   "cell_type": "code",
   "execution_count": 10,
   "metadata": {
    "slideshow": {
     "slide_type": "slide"
    }
   },
   "outputs": [
    {
     "name": "stderr",
     "output_type": "stream",
     "text": [
      "2022-11-16 14:53:03.213553: I tensorflow/core/platform/cpu_feature_guard.cc:145] This TensorFlow binary is optimized with Intel(R) MKL-DNN to use the following CPU instructions in performance critical operations:  SSE4.1 SSE4.2\n",
      "To enable them in non-MKL-DNN operations, rebuild TensorFlow with the appropriate compiler flags.\n",
      "2022-11-16 14:53:03.214087: I tensorflow/core/common_runtime/process_util.cc:115] Creating new thread pool with default inter op setting: 8. Tune using inter_op_parallelism_threads for best performance.\n"
     ]
    }
   ],
   "source": [
    "model_images = Sequential()\n",
    "model_images.add(Flatten(input_shape=(28, 28))) # flattens each 28x28 image into a vector\n",
    "model_images.add(Dense(32, activation='relu', kernel_regularizer = reg)) # take in regularizer\n",
    "model_images.add(Dense(8, activation='relu', kernel_regularizer = reg))\n",
    "model_images.add(Dense(10, activation='softmax')) # number of units = number of target classes"
   ]
  },
  {
   "cell_type": "code",
   "execution_count": 11,
   "metadata": {
    "slideshow": {
     "slide_type": "fragment"
    }
   },
   "outputs": [],
   "source": [
    "model_images.compile(optimizer='Adam', loss='categorical_crossentropy', metrics=['accuracy'] )"
   ]
  },
  {
   "cell_type": "code",
   "execution_count": 12,
   "metadata": {
    "scrolled": false,
    "slideshow": {
     "slide_type": "slide"
    }
   },
   "outputs": [
    {
     "name": "stdout",
     "output_type": "stream",
     "text": [
      "Train on 48000 samples, validate on 12000 samples\n",
      "Epoch 1/50\n",
      "48000/48000 [==============================] - 6s 135us/sample - loss: 0.7281 - accuracy: 0.8378 - val_loss: 0.4580 - val_accuracy: 0.9176\n",
      "Epoch 2/50\n",
      "48000/48000 [==============================] - 6s 121us/sample - loss: 0.4327 - accuracy: 0.9222 - val_loss: 0.3852 - val_accuracy: 0.9367\n",
      "Epoch 3/50\n",
      "48000/48000 [==============================] - 6s 121us/sample - loss: 0.3900 - accuracy: 0.9332 - val_loss: 0.3769 - val_accuracy: 0.9384\n",
      "Epoch 4/50\n",
      "48000/48000 [==============================] - 6s 119us/sample - loss: 0.3629 - accuracy: 0.9397 - val_loss: 0.3456 - val_accuracy: 0.9442\n",
      "Epoch 5/50\n",
      "48000/48000 [==============================] - 6s 127us/sample - loss: 0.3416 - accuracy: 0.9452 - val_loss: 0.3285 - val_accuracy: 0.9498\n",
      "Epoch 6/50\n",
      "48000/48000 [==============================] - 5s 108us/sample - loss: 0.3276 - accuracy: 0.9471 - val_loss: 0.3083 - val_accuracy: 0.9525\n",
      "Epoch 7/50\n",
      "48000/48000 [==============================] - 5s 109us/sample - loss: 0.3156 - accuracy: 0.9488 - val_loss: 0.2982 - val_accuracy: 0.9550\n",
      "Epoch 8/50\n",
      "48000/48000 [==============================] - 5s 109us/sample - loss: 0.3036 - accuracy: 0.9518 - val_loss: 0.3128 - val_accuracy: 0.9476\n",
      "Epoch 9/50\n",
      "48000/48000 [==============================] - 5s 113us/sample - loss: 0.2973 - accuracy: 0.9524 - val_loss: 0.2859 - val_accuracy: 0.9553\n",
      "Epoch 10/50\n",
      "48000/48000 [==============================] - 5s 114us/sample - loss: 0.2856 - accuracy: 0.9539 - val_loss: 0.2842 - val_accuracy: 0.9565\n",
      "Epoch 11/50\n",
      "48000/48000 [==============================] - 6s 121us/sample - loss: 0.2812 - accuracy: 0.9548 - val_loss: 0.2896 - val_accuracy: 0.9500\n",
      "Epoch 12/50\n",
      "48000/48000 [==============================] - 6s 126us/sample - loss: 0.2749 - accuracy: 0.9554 - val_loss: 0.2656 - val_accuracy: 0.9613\n",
      "Epoch 13/50\n",
      "48000/48000 [==============================] - 6s 119us/sample - loss: 0.2698 - accuracy: 0.9567 - val_loss: 0.2894 - val_accuracy: 0.9498\n",
      "Epoch 14/50\n",
      "48000/48000 [==============================] - 5s 106us/sample - loss: 0.2662 - accuracy: 0.9569 - val_loss: 0.2710 - val_accuracy: 0.9555\n",
      "Epoch 15/50\n",
      "48000/48000 [==============================] - 6s 133us/sample - loss: 0.2599 - accuracy: 0.9591 - val_loss: 0.2630 - val_accuracy: 0.9560\n",
      "Epoch 16/50\n",
      "48000/48000 [==============================] - 7s 147us/sample - loss: 0.2571 - accuracy: 0.9586 - val_loss: 0.2486 - val_accuracy: 0.9606\n",
      "Epoch 17/50\n",
      "48000/48000 [==============================] - 6s 126us/sample - loss: 0.2521 - accuracy: 0.9595 - val_loss: 0.2465 - val_accuracy: 0.9624\n",
      "Epoch 18/50\n",
      "48000/48000 [==============================] - 7s 139us/sample - loss: 0.2500 - accuracy: 0.9599 - val_loss: 0.2512 - val_accuracy: 0.9597\n",
      "Epoch 19/50\n",
      "48000/48000 [==============================] - 6s 125us/sample - loss: 0.2461 - accuracy: 0.9606 - val_loss: 0.2510 - val_accuracy: 0.9572\n",
      "Epoch 20/50\n",
      "48000/48000 [==============================] - 5s 109us/sample - loss: 0.2435 - accuracy: 0.9603 - val_loss: 0.2519 - val_accuracy: 0.9566\n",
      "Epoch 21/50\n",
      "48000/48000 [==============================] - 5s 105us/sample - loss: 0.2394 - accuracy: 0.9617 - val_loss: 0.2400 - val_accuracy: 0.9608\n",
      "Epoch 22/50\n",
      "48000/48000 [==============================] - 5s 106us/sample - loss: 0.2375 - accuracy: 0.9616 - val_loss: 0.2371 - val_accuracy: 0.9601\n",
      "Epoch 23/50\n",
      "48000/48000 [==============================] - 5s 103us/sample - loss: 0.2345 - accuracy: 0.9620 - val_loss: 0.2397 - val_accuracy: 0.9607\n",
      "Epoch 24/50\n",
      "48000/48000 [==============================] - 5s 105us/sample - loss: 0.2337 - accuracy: 0.9622 - val_loss: 0.2245 - val_accuracy: 0.9653\n",
      "Epoch 25/50\n",
      "48000/48000 [==============================] - 5s 103us/sample - loss: 0.2315 - accuracy: 0.9617 - val_loss: 0.2404 - val_accuracy: 0.9588\n",
      "Epoch 26/50\n",
      "48000/48000 [==============================] - 5s 102us/sample - loss: 0.2288 - accuracy: 0.9623 - val_loss: 0.2335 - val_accuracy: 0.9611\n",
      "Epoch 27/50\n",
      "48000/48000 [==============================] - 5s 103us/sample - loss: 0.2287 - accuracy: 0.9621 - val_loss: 0.2364 - val_accuracy: 0.9595\n",
      "Epoch 28/50\n",
      "48000/48000 [==============================] - 5s 104us/sample - loss: 0.2263 - accuracy: 0.9636 - val_loss: 0.2384 - val_accuracy: 0.9592\n",
      "Epoch 29/50\n",
      "48000/48000 [==============================] - 5s 104us/sample - loss: 0.2243 - accuracy: 0.9634 - val_loss: 0.2292 - val_accuracy: 0.9620\n",
      "Epoch 30/50\n",
      "48000/48000 [==============================] - 5s 107us/sample - loss: 0.2236 - accuracy: 0.9631 - val_loss: 0.2270 - val_accuracy: 0.9643\n",
      "Epoch 31/50\n",
      "48000/48000 [==============================] - 8s 168us/sample - loss: 0.2203 - accuracy: 0.9648 - val_loss: 0.2270 - val_accuracy: 0.9638\n",
      "Epoch 32/50\n",
      "48000/48000 [==============================] - 7s 151us/sample - loss: 0.2210 - accuracy: 0.9638 - val_loss: 0.2282 - val_accuracy: 0.9622\n",
      "Epoch 33/50\n",
      "48000/48000 [==============================] - 6s 116us/sample - loss: 0.2192 - accuracy: 0.9635 - val_loss: 0.2256 - val_accuracy: 0.9630\n",
      "Epoch 34/50\n",
      "48000/48000 [==============================] - 7s 156us/sample - loss: 0.2182 - accuracy: 0.9639 - val_loss: 0.2466 - val_accuracy: 0.9551\n",
      "Epoch 35/50\n",
      "48000/48000 [==============================] - 10s 205us/sample - loss: 0.2155 - accuracy: 0.9653 - val_loss: 0.2293 - val_accuracy: 0.9592\n",
      "Epoch 36/50\n",
      "48000/48000 [==============================] - 8s 158us/sample - loss: 0.2162 - accuracy: 0.9646 - val_loss: 0.2434 - val_accuracy: 0.9539\n",
      "Epoch 37/50\n",
      "48000/48000 [==============================] - 7s 148us/sample - loss: 0.2146 - accuracy: 0.9654 - val_loss: 0.2168 - val_accuracy: 0.9650\n",
      "Epoch 38/50\n",
      "48000/48000 [==============================] - 10s 206us/sample - loss: 0.2127 - accuracy: 0.9655 - val_loss: 0.2290 - val_accuracy: 0.9599\n",
      "Epoch 39/50\n",
      "48000/48000 [==============================] - 11s 221us/sample - loss: 0.2111 - accuracy: 0.9653 - val_loss: 0.2303 - val_accuracy: 0.9612\n",
      "Epoch 40/50\n",
      "48000/48000 [==============================] - 7s 140us/sample - loss: 0.2121 - accuracy: 0.9653 - val_loss: 0.2413 - val_accuracy: 0.9554\n",
      "Epoch 41/50\n",
      "48000/48000 [==============================] - 8s 164us/sample - loss: 0.2104 - accuracy: 0.9657 - val_loss: 0.2326 - val_accuracy: 0.9592\n",
      "Epoch 42/50\n",
      "48000/48000 [==============================] - 11s 238us/sample - loss: 0.2084 - accuracy: 0.9656 - val_loss: 0.2231 - val_accuracy: 0.9594\n",
      "Epoch 43/50\n",
      "48000/48000 [==============================] - 8s 177us/sample - loss: 0.2081 - accuracy: 0.9656 - val_loss: 0.2243 - val_accuracy: 0.9611\n",
      "Epoch 44/50\n",
      "48000/48000 [==============================] - 38s 790us/sample - loss: 0.2107 - accuracy: 0.9651 - val_loss: 0.2087 - val_accuracy: 0.9661\n",
      "Epoch 45/50\n",
      "48000/48000 [==============================] - 8s 177us/sample - loss: 0.2066 - accuracy: 0.9661 - val_loss: 0.2211 - val_accuracy: 0.9619\n",
      "Epoch 46/50\n",
      "48000/48000 [==============================] - 7s 150us/sample - loss: 0.2066 - accuracy: 0.9662 - val_loss: 0.2175 - val_accuracy: 0.9627\n",
      "Epoch 47/50\n",
      "48000/48000 [==============================] - 10s 200us/sample - loss: 0.2052 - accuracy: 0.9665 - val_loss: 0.2277 - val_accuracy: 0.9594\n",
      "Epoch 48/50\n",
      "48000/48000 [==============================] - 12s 257us/sample - loss: 0.2042 - accuracy: 0.9658 - val_loss: 0.2159 - val_accuracy: 0.9645\n",
      "Epoch 49/50\n",
      "48000/48000 [==============================] - 34s 715us/sample - loss: 0.2059 - accuracy: 0.9654 - val_loss: 0.2165 - val_accuracy: 0.9617\n",
      "Epoch 50/50\n",
      "48000/48000 [==============================] - 9s 178us/sample - loss: 0.2033 - accuracy: 0.9666 - val_loss: 0.2343 - val_accuracy: 0.9565\n"
     ]
    }
   ],
   "source": [
    "# verbose=1 allows you to see the output.\n",
    "# To see only the metrics at the end of each epoch, set verbose=2.\n",
    "history_mnist = model_images.fit(x_train, y_tr_one_hot, epochs=50, batch_size= 32, validation_split = 0.2)"
   ]
  },
  {
   "cell_type": "code",
   "execution_count": 13,
   "metadata": {
    "cell_style": "split",
    "slideshow": {
     "slide_type": "slide"
    }
   },
   "outputs": [
    {
     "data": {
      "text/plain": [
       "array([[8.4832500e-06, 1.2406223e-05, 9.4245275e-04, ..., 9.9838912e-01,\n",
       "        3.2167653e-05, 1.4993933e-04],\n",
       "       [4.2912865e-04, 5.0177663e-05, 9.9526381e-01, ..., 2.7850190e-06,\n",
       "        1.5059057e-04, 7.1772850e-09],\n",
       "       [2.2095908e-07, 9.9480695e-01, 1.2679819e-03, ..., 9.9873904e-04,\n",
       "        8.4908796e-04, 3.3111935e-06],\n",
       "       ...,\n",
       "       [1.1843683e-07, 1.1280168e-05, 2.6848529e-06, ..., 4.5849756e-05,\n",
       "        1.8879651e-03, 6.1758575e-03],\n",
       "       [8.6375064e-07, 4.0095038e-08, 5.1521422e-08, ..., 4.4927133e-09,\n",
       "        8.0600876e-04, 4.7674575e-06],\n",
       "       [2.0519483e-05, 2.6089918e-08, 4.7462690e-06, ..., 1.2065474e-10,\n",
       "        8.0437410e-08, 1.1863572e-09]], dtype=float32)"
      ]
     },
     "execution_count": 13,
     "metadata": {},
     "output_type": "execute_result"
    }
   ],
   "source": [
    "# probability for each class\n",
    "y_proba = model_images.predict(x_test)\n",
    "y_proba"
   ]
  },
  {
   "cell_type": "code",
   "execution_count": 14,
   "metadata": {
    "cell_style": "split",
    "slideshow": {
     "slide_type": "fragment"
    }
   },
   "outputs": [
    {
     "name": "stdout",
     "output_type": "stream",
     "text": [
      "10000/1 - 1s - loss: 0.1665 - accuracy: 0.9580\n"
     ]
    },
    {
     "data": {
      "text/plain": [
       "[0.23310100934505462, 0.958]"
      ]
     },
     "execution_count": 14,
     "metadata": {},
     "output_type": "execute_result"
    }
   ],
   "source": [
    "model_images.evaluate(x_test, y_tt_one_hot, verbose = 2)"
   ]
  },
  {
   "cell_type": "code",
   "execution_count": 15,
   "metadata": {
    "cell_style": "split",
    "slideshow": {
     "slide_type": "fragment"
    }
   },
   "outputs": [
    {
     "data": {
      "image/png": "[encoded data removed]",
      "text/plain": [
       "<Figure size 432x288 with 1 Axes>"
      ]
     },
     "metadata": {
      "needs_background": "light"
     },
     "output_type": "display_data"
    }
   ],
   "source": [
    "train_mnist_history = pd.DataFrame(history_mnist.history)\n",
    "train_mnist_history.index.name = 'epochs'\n",
    "\n",
    "col_list = ['loss', 'val_loss']\n",
    "train_mnist_history[col_list].plot()\n",
    "plt.ylabel('Categorical cross entropy')\n",
    "plt.title('Training loss history')\n",
    "plt.show()"
   ]
  },
  {
   "cell_type": "code",
   "execution_count": 16,
   "metadata": {
    "cell_style": "split",
    "slideshow": {
     "slide_type": "slide"
    }
   },
   "outputs": [
    {
     "data": {
      "image/png": "[encoded data removed]",
      "text/plain": [
       "<Figure size 432x288 with 1 Axes>"
      ]
     },
     "metadata": {
      "needs_background": "light"
     },
     "output_type": "display_data"
    }
   ],
   "source": [
    "col_list = ['accuracy', 'val_accuracy']\n",
    "train_mnist_history[col_list].plot()\n",
    "plt.ylabel('Accuracy')\n",
    "plt.title('Training loss history')\n",
    "plt.show()"
   ]
  },
  {
   "cell_type": "markdown",
   "metadata": {
    "cell_style": "split",
    "slideshow": {
     "slide_type": "fragment"
    }
   },
   "source": [
    "Better validation accuracy:\n",
    "- 94.5\\% to 96.3\\% with regularization\n",
    "- no overfitting"
   ]
  },
  {
   "cell_type": "code",
   "execution_count": 17,
   "metadata": {
    "slideshow": {
     "slide_type": "slide"
    }
   },
   "outputs": [
    {
     "data": {
      "text/plain": [
       "array([7, 2, 1, ..., 4, 5, 6])"
      ]
     },
     "execution_count": 17,
     "metadata": {},
     "output_type": "execute_result"
    }
   ],
   "source": [
    "# argmax axis = -1 gets the column index of maximum probability for each row.\n",
    "# column index corresponds to digit classes (numbers 0 -9)\n",
    "predicted = np.argmax(y_proba, axis=-1)\n",
    "predicted"
   ]
  },
  {
   "cell_type": "code",
   "execution_count": 18,
   "metadata": {
    "cell_style": "split",
    "scrolled": true,
    "slideshow": {
     "slide_type": "fragment"
    }
   },
   "outputs": [
    {
     "data": {
      "image/png": "[encoded data removed]",
      "text/plain": [
       "<Figure size 432x288 with 2 Axes>"
      ]
     },
     "metadata": {
      "needs_background": "light"
     },
     "output_type": "display_data"
    }
   ],
   "source": [
    "cm_digits = confusion_matrix(y_test, predicted)\n",
    "disp = ConfusionMatrixDisplay(\n",
    "    confusion_matrix=cm_digits)\n",
    "\n",
    "disp.plot(cmap=plt.cm.Blues)\n",
    "plt.show()"
   ]
  },
  {
   "cell_type": "markdown",
   "metadata": {
    "slideshow": {
     "slide_type": "slide"
    }
   },
   "source": [
    "Regularization: \n",
    "- key component to training deeper networks (tend to overfit without regularization)\n",
    "- learn higher order features, but don't overtrain on specifics."
   ]
  },
  {
   "cell_type": "code",
   "execution_count": 19,
   "metadata": {
    "slideshow": {
     "slide_type": "fragment"
    }
   },
   "outputs": [],
   "source": [
    "deepermodel_images = Sequential()\n",
    "deepermodel_images.add(Flatten(input_shape=(28, 28))) # flattens each 28x28 image into a vector\n",
    "deepermodel_images.add(Dense(32, activation='relu', kernel_regularizer = reg)) # take in regularizer\n",
    "deepermodel_images.add(Dense(16, activation='relu', kernel_regularizer = reg)) # add another layer\n",
    "deepermodel_images.add(Dense(16, activation='relu', kernel_regularizer = reg)) # add another layer\n",
    "deepermodel_images.add(Dense(10, activation='relu', kernel_regularizer = reg))\n",
    "deepermodel_images.add(Dense(10, activation='softmax')) # number of units = number of target classes\n",
    "\n",
    "deepermodel_images.compile(optimizer='Adam', loss='categorical_crossentropy', metrics=['accuracy'] )"
   ]
  },
  {
   "cell_type": "code",
   "execution_count": 20,
   "metadata": {
    "slideshow": {
     "slide_type": "slide"
    }
   },
   "outputs": [
    {
     "name": "stdout",
     "output_type": "stream",
     "text": [
      "Train on 48000 samples, validate on 12000 samples\n",
      "Epoch 1/200\n",
      "48000/48000 [==============================] - 6s 132us/sample - loss: 0.7949 - accuracy: 0.8305 - val_loss: 0.5210 - val_accuracy: 0.9153\n",
      "Epoch 2/200\n",
      "48000/48000 [==============================] - 6s 125us/sample - loss: 0.4924 - accuracy: 0.9216 - val_loss: 0.4544 - val_accuracy: 0.9308\n",
      "Epoch 3/200\n",
      "48000/48000 [==============================] - 7s 151us/sample - loss: 0.4340 - accuracy: 0.9357 - val_loss: 0.4065 - val_accuracy: 0.9455\n",
      "Epoch 4/200\n",
      "48000/48000 [==============================] - 7s 156us/sample - loss: 0.4008 - accuracy: 0.9434 - val_loss: 0.3846 - val_accuracy: 0.9477\n",
      "Epoch 5/200\n",
      "48000/48000 [==============================] - 132s 3ms/sample - loss: 0.3798 - accuracy: 0.9475 - val_loss: 0.3678 - val_accuracy: 0.9489\n",
      "Epoch 6/200\n",
      "48000/48000 [==============================] - 6s 133us/sample - loss: 0.3649 - accuracy: 0.9505 - val_loss: 0.3740 - val_accuracy: 0.9477\n",
      "Epoch 7/200\n",
      "48000/48000 [==============================] - 6s 125us/sample - loss: 0.3524 - accuracy: 0.9517 - val_loss: 0.3694 - val_accuracy: 0.9452\n",
      "Epoch 8/200\n",
      "48000/48000 [==============================] - 7s 142us/sample - loss: 0.3389 - accuracy: 0.9542 - val_loss: 0.3311 - val_accuracy: 0.9566\n",
      "Epoch 9/200\n",
      "48000/48000 [==============================] - 6s 132us/sample - loss: 0.3286 - accuracy: 0.9562 - val_loss: 0.3213 - val_accuracy: 0.9572\n",
      "Epoch 10/200\n",
      "48000/48000 [==============================] - 6s 133us/sample - loss: 0.3214 - accuracy: 0.9579 - val_loss: 0.3233 - val_accuracy: 0.9550\n",
      "Epoch 11/200\n",
      "48000/48000 [==============================] - 7s 152us/sample - loss: 0.3173 - accuracy: 0.9579 - val_loss: 0.3096 - val_accuracy: 0.9588\n",
      "Epoch 12/200\n",
      "48000/48000 [==============================] - 7s 152us/sample - loss: 0.3112 - accuracy: 0.9593 - val_loss: 0.3253 - val_accuracy: 0.9542\n",
      "Epoch 13/200\n",
      "48000/48000 [==============================] - 8s 163us/sample - loss: 0.3070 - accuracy: 0.9582 - val_loss: 0.2970 - val_accuracy: 0.9610\n",
      "Epoch 14/200\n",
      "48000/48000 [==============================] - 8s 164us/sample - loss: 0.3020 - accuracy: 0.9585 - val_loss: 0.3139 - val_accuracy: 0.9558\n",
      "Epoch 15/200\n",
      "48000/48000 [==============================] - 8s 167us/sample - loss: 0.2996 - accuracy: 0.9587 - val_loss: 0.3128 - val_accuracy: 0.9563\n",
      "Epoch 16/200\n",
      "48000/48000 [==============================] - 8s 173us/sample - loss: 0.2956 - accuracy: 0.9602 - val_loss: 0.3003 - val_accuracy: 0.9585\n",
      "Epoch 17/200\n",
      "48000/48000 [==============================] - 8s 169us/sample - loss: 0.2943 - accuracy: 0.9597 - val_loss: 0.3318 - val_accuracy: 0.9454\n",
      "Epoch 18/200\n",
      "48000/48000 [==============================] - 8s 163us/sample - loss: 0.2871 - accuracy: 0.9618 - val_loss: 0.3117 - val_accuracy: 0.9515\n",
      "Epoch 19/200\n",
      "48000/48000 [==============================] - 8s 171us/sample - loss: 0.2881 - accuracy: 0.9609 - val_loss: 0.3012 - val_accuracy: 0.9601\n",
      "Epoch 20/200\n",
      "48000/48000 [==============================] - 7s 154us/sample - loss: 0.2841 - accuracy: 0.9611 - val_loss: 0.2956 - val_accuracy: 0.9561\n",
      "Epoch 21/200\n",
      "48000/48000 [==============================] - 7s 155us/sample - loss: 0.2827 - accuracy: 0.9603 - val_loss: 0.2949 - val_accuracy: 0.9564\n",
      "Epoch 22/200\n",
      "48000/48000 [==============================] - 7s 146us/sample - loss: 0.2785 - accuracy: 0.9625 - val_loss: 0.3059 - val_accuracy: 0.9523\n",
      "Epoch 23/200\n",
      "48000/48000 [==============================] - 8s 173us/sample - loss: 0.2784 - accuracy: 0.9619 - val_loss: 0.2808 - val_accuracy: 0.9606\n",
      "Epoch 24/200\n",
      "48000/48000 [==============================] - 8s 171us/sample - loss: 0.2759 - accuracy: 0.9617 - val_loss: 0.2727 - val_accuracy: 0.9638\n",
      "Epoch 25/200\n",
      "48000/48000 [==============================] - 9s 178us/sample - loss: 0.2725 - accuracy: 0.9624 - val_loss: 0.3014 - val_accuracy: 0.9509\n",
      "Epoch 26/200\n",
      "48000/48000 [==============================] - 8s 169us/sample - loss: 0.2706 - accuracy: 0.9619 - val_loss: 0.2690 - val_accuracy: 0.9634\n",
      "Epoch 27/200\n",
      "48000/48000 [==============================] - 8s 162us/sample - loss: 0.2684 - accuracy: 0.9630 - val_loss: 0.3038 - val_accuracy: 0.9547\n",
      "Epoch 28/200\n",
      "48000/48000 [==============================] - 7s 154us/sample - loss: 0.2703 - accuracy: 0.9612 - val_loss: 0.2624 - val_accuracy: 0.9644\n",
      "Epoch 29/200\n",
      "48000/48000 [==============================] - 12s 245us/sample - loss: 0.2672 - accuracy: 0.9628 - val_loss: 0.2904 - val_accuracy: 0.9532\n",
      "Epoch 30/200\n",
      "48000/48000 [==============================] - 12s 252us/sample - loss: 0.2663 - accuracy: 0.9625 - val_loss: 0.2842 - val_accuracy: 0.9604\n",
      "Epoch 31/200\n",
      "48000/48000 [==============================] - 7s 153us/sample - loss: 0.2643 - accuracy: 0.9634 - val_loss: 0.2644 - val_accuracy: 0.9636\n",
      "Epoch 32/200\n",
      "48000/48000 [==============================] - 12s 256us/sample - loss: 0.2665 - accuracy: 0.9615 - val_loss: 0.2716 - val_accuracy: 0.9609\n",
      "Epoch 33/200\n",
      "48000/48000 [==============================] - 16s 333us/sample - loss: 0.2612 - accuracy: 0.9640 - val_loss: 0.2723 - val_accuracy: 0.9583\n",
      "Epoch 34/200\n",
      "48000/48000 [==============================] - 7s 151us/sample - loss: 0.2614 - accuracy: 0.9628 - val_loss: 0.2626 - val_accuracy: 0.9643\n",
      "Epoch 35/200\n",
      "48000/48000 [==============================] - 9s 197us/sample - loss: 0.2606 - accuracy: 0.9620 - val_loss: 0.2589 - val_accuracy: 0.9642\n",
      "Epoch 36/200\n",
      "48000/48000 [==============================] - 7s 151us/sample - loss: 0.2580 - accuracy: 0.9634 - val_loss: 0.2692 - val_accuracy: 0.9613\n",
      "Epoch 37/200\n",
      "48000/48000 [==============================] - 7s 150us/sample - loss: 0.2595 - accuracy: 0.9628 - val_loss: 0.2636 - val_accuracy: 0.9607\n",
      "Epoch 38/200\n",
      "48000/48000 [==============================] - 7s 155us/sample - loss: 0.2570 - accuracy: 0.9637 - val_loss: 0.2634 - val_accuracy: 0.9605\n",
      "Epoch 39/200\n",
      "48000/48000 [==============================] - 8s 162us/sample - loss: 0.2569 - accuracy: 0.9627 - val_loss: 0.2657 - val_accuracy: 0.9592\n",
      "Epoch 40/200\n",
      "48000/48000 [==============================] - 8s 161us/sample - loss: 0.2553 - accuracy: 0.9639 - val_loss: 0.2789 - val_accuracy: 0.9597\n",
      "Epoch 41/200\n",
      "48000/48000 [==============================] - 7s 151us/sample - loss: 0.2547 - accuracy: 0.9637 - val_loss: 0.2700 - val_accuracy: 0.9587\n",
      "Epoch 42/200\n",
      "48000/48000 [==============================] - 11s 220us/sample - loss: 0.2537 - accuracy: 0.9639 - val_loss: 0.2615 - val_accuracy: 0.9621\n",
      "Epoch 43/200\n",
      "48000/48000 [==============================] - 15s 320us/sample - loss: 0.2549 - accuracy: 0.9634 - val_loss: 0.2648 - val_accuracy: 0.9598\n",
      "Epoch 44/200\n",
      "48000/48000 [==============================] - 9s 188us/sample - loss: 0.2528 - accuracy: 0.9639 - val_loss: 0.2684 - val_accuracy: 0.9567\n",
      "Epoch 45/200\n",
      "48000/48000 [==============================] - 9s 185us/sample - loss: 0.2515 - accuracy: 0.9632 - val_loss: 0.2593 - val_accuracy: 0.9617\n",
      "Epoch 46/200\n",
      "48000/48000 [==============================] - 7s 152us/sample - loss: 0.2503 - accuracy: 0.9647 - val_loss: 0.2518 - val_accuracy: 0.9622\n",
      "Epoch 47/200\n",
      "48000/48000 [==============================] - 7s 149us/sample - loss: 0.2515 - accuracy: 0.9632 - val_loss: 0.2676 - val_accuracy: 0.9570\n",
      "Epoch 48/200\n",
      "48000/48000 [==============================] - 7s 143us/sample - loss: 0.2478 - accuracy: 0.9642 - val_loss: 0.2602 - val_accuracy: 0.9604\n",
      "Epoch 49/200\n",
      "48000/48000 [==============================] - 8s 172us/sample - loss: 0.2496 - accuracy: 0.9639 - val_loss: 0.2908 - val_accuracy: 0.9501\n",
      "Epoch 50/200\n",
      "48000/48000 [==============================] - 6s 130us/sample - loss: 0.2492 - accuracy: 0.9635 - val_loss: 0.2616 - val_accuracy: 0.9594\n",
      "Epoch 51/200\n",
      "48000/48000 [==============================] - 6s 131us/sample - loss: 0.2462 - accuracy: 0.9652 - val_loss: 0.2649 - val_accuracy: 0.9600\n",
      "Epoch 52/200\n",
      "48000/48000 [==============================] - 7s 136us/sample - loss: 0.2458 - accuracy: 0.9638 - val_loss: 0.2678 - val_accuracy: 0.9582\n",
      "Epoch 53/200\n",
      "48000/48000 [==============================] - 6s 132us/sample - loss: 0.2449 - accuracy: 0.9642 - val_loss: 0.2613 - val_accuracy: 0.9597\n",
      "Epoch 54/200\n"
     ]
    },
    {
     "name": "stdout",
     "output_type": "stream",
     "text": [
      "48000/48000 [==============================] - 6s 130us/sample - loss: 0.2457 - accuracy: 0.9630 - val_loss: 0.2489 - val_accuracy: 0.9647\n",
      "Epoch 55/200\n",
      "48000/48000 [==============================] - 7s 152us/sample - loss: 0.2448 - accuracy: 0.9646 - val_loss: 0.2547 - val_accuracy: 0.9617\n",
      "Epoch 56/200\n",
      "48000/48000 [==============================] - 7s 151us/sample - loss: 0.2449 - accuracy: 0.9635 - val_loss: 0.2555 - val_accuracy: 0.9616\n",
      "Epoch 57/200\n",
      "48000/48000 [==============================] - 7s 146us/sample - loss: 0.2427 - accuracy: 0.9641 - val_loss: 0.2633 - val_accuracy: 0.9597\n",
      "Epoch 58/200\n",
      "48000/48000 [==============================] - 9s 179us/sample - loss: 0.2435 - accuracy: 0.9642 - val_loss: 0.2379 - val_accuracy: 0.9668\n",
      "Epoch 59/200\n",
      "48000/48000 [==============================] - 7s 151us/sample - loss: 0.2427 - accuracy: 0.9645 - val_loss: 0.2526 - val_accuracy: 0.9616\n",
      "Epoch 60/200\n",
      "48000/48000 [==============================] - 12s 240us/sample - loss: 0.2448 - accuracy: 0.9636 - val_loss: 0.2401 - val_accuracy: 0.9656\n",
      "Epoch 61/200\n",
      "48000/48000 [==============================] - 14s 302us/sample - loss: 0.2411 - accuracy: 0.9646 - val_loss: 0.2405 - val_accuracy: 0.9653\n",
      "Epoch 62/200\n",
      "48000/48000 [==============================] - 7s 139us/sample - loss: 0.2433 - accuracy: 0.9647 - val_loss: 0.2613 - val_accuracy: 0.9592\n",
      "Epoch 63/200\n",
      "48000/48000 [==============================] - 9s 197us/sample - loss: 0.2414 - accuracy: 0.9639 - val_loss: 0.2421 - val_accuracy: 0.9640\n",
      "Epoch 64/200\n",
      "48000/48000 [==============================] - 9s 178us/sample - loss: 0.2395 - accuracy: 0.9649 - val_loss: 0.2517 - val_accuracy: 0.9601\n",
      "Epoch 65/200\n",
      "48000/48000 [==============================] - 7s 140us/sample - loss: 0.2389 - accuracy: 0.9646 - val_loss: 0.2622 - val_accuracy: 0.9587\n",
      "Epoch 66/200\n",
      "48000/48000 [==============================] - 9s 180us/sample - loss: 0.2403 - accuracy: 0.9636 - val_loss: 0.2373 - val_accuracy: 0.9663\n",
      "Epoch 67/200\n",
      "48000/48000 [==============================] - 10s 206us/sample - loss: 0.2402 - accuracy: 0.9651 - val_loss: 0.2436 - val_accuracy: 0.9636\n",
      "Epoch 68/200\n",
      "48000/48000 [==============================] - 6s 130us/sample - loss: 0.2397 - accuracy: 0.9648 - val_loss: 0.2520 - val_accuracy: 0.9600\n",
      "Epoch 69/200\n",
      "48000/48000 [==============================] - 6s 132us/sample - loss: 0.2366 - accuracy: 0.9655 - val_loss: 0.2527 - val_accuracy: 0.9599\n",
      "Epoch 70/200\n",
      "48000/48000 [==============================] - 10s 210us/sample - loss: 0.2376 - accuracy: 0.9659 - val_loss: 0.2507 - val_accuracy: 0.9613\n",
      "Epoch 71/200\n",
      "48000/48000 [==============================] - 6s 130us/sample - loss: 0.2398 - accuracy: 0.9650 - val_loss: 0.3100 - val_accuracy: 0.9417\n",
      "Epoch 72/200\n",
      "48000/48000 [==============================] - 7s 148us/sample - loss: 0.2382 - accuracy: 0.9651 - val_loss: 0.2766 - val_accuracy: 0.9523\n",
      "Epoch 73/200\n",
      "48000/48000 [==============================] - 7s 136us/sample - loss: 0.2376 - accuracy: 0.9646 - val_loss: 0.2494 - val_accuracy: 0.9628\n",
      "Epoch 74/200\n",
      "48000/48000 [==============================] - 11s 225us/sample - loss: 0.2345 - accuracy: 0.9661 - val_loss: 0.2371 - val_accuracy: 0.9656\n",
      "Epoch 75/200\n",
      "48000/48000 [==============================] - 12s 259us/sample - loss: 0.2363 - accuracy: 0.9652 - val_loss: 0.2467 - val_accuracy: 0.9634\n",
      "Epoch 76/200\n",
      "48000/48000 [==============================] - 6s 132us/sample - loss: 0.2337 - accuracy: 0.9666 - val_loss: 0.2380 - val_accuracy: 0.9657\n",
      "Epoch 77/200\n",
      "48000/48000 [==============================] - 6s 129us/sample - loss: 0.2360 - accuracy: 0.9648 - val_loss: 0.2613 - val_accuracy: 0.9576\n",
      "Epoch 78/200\n",
      "48000/48000 [==============================] - 11s 220us/sample - loss: 0.2332 - accuracy: 0.9659 - val_loss: 0.2589 - val_accuracy: 0.9589\n",
      "Epoch 79/200\n",
      "48000/48000 [==============================] - 8s 160us/sample - loss: 0.2336 - accuracy: 0.9664 - val_loss: 0.2434 - val_accuracy: 0.9640\n",
      "Epoch 80/200\n",
      "48000/48000 [==============================] - 7s 136us/sample - loss: 0.2336 - accuracy: 0.9654 - val_loss: 0.2393 - val_accuracy: 0.9621\n",
      "Epoch 81/200\n",
      "48000/48000 [==============================] - 8s 173us/sample - loss: 0.2331 - accuracy: 0.9665 - val_loss: 0.2535 - val_accuracy: 0.9603\n",
      "Epoch 82/200\n",
      "48000/48000 [==============================] - 13s 272us/sample - loss: 0.2359 - accuracy: 0.9653 - val_loss: 0.2367 - val_accuracy: 0.9655\n",
      "Epoch 83/200\n",
      "48000/48000 [==============================] - 7s 141us/sample - loss: 0.2343 - accuracy: 0.9658 - val_loss: 0.2646 - val_accuracy: 0.9549\n",
      "Epoch 84/200\n",
      "48000/48000 [==============================] - 20s 422us/sample - loss: 0.2319 - accuracy: 0.9659 - val_loss: 0.2646 - val_accuracy: 0.9548\n",
      "Epoch 85/200\n",
      "48000/48000 [==============================] - 17s 357us/sample - loss: 0.2347 - accuracy: 0.9653 - val_loss: 0.2441 - val_accuracy: 0.9622\n",
      "Epoch 86/200\n",
      "48000/48000 [==============================] - 8s 164us/sample - loss: 0.2307 - accuracy: 0.9662 - val_loss: 0.2631 - val_accuracy: 0.9554\n",
      "Epoch 87/200\n",
      "48000/48000 [==============================] - 12s 250us/sample - loss: 0.2324 - accuracy: 0.9657 - val_loss: 0.2433 - val_accuracy: 0.9620\n",
      "Epoch 88/200\n",
      "48000/48000 [==============================] - 11s 227us/sample - loss: 0.2310 - accuracy: 0.9663 - val_loss: 0.2266 - val_accuracy: 0.9678\n",
      "Epoch 89/200\n",
      "48000/48000 [==============================] - 6s 135us/sample - loss: 0.2310 - accuracy: 0.9657 - val_loss: 0.2412 - val_accuracy: 0.9622\n",
      "Epoch 90/200\n",
      "48000/48000 [==============================] - 8s 170us/sample - loss: 0.2311 - accuracy: 0.9658 - val_loss: 0.2498 - val_accuracy: 0.9596\n",
      "Epoch 91/200\n",
      "48000/48000 [==============================] - 8s 166us/sample - loss: 0.2308 - accuracy: 0.9659 - val_loss: 0.2400 - val_accuracy: 0.9627\n",
      "Epoch 92/200\n",
      "48000/48000 [==============================] - 7s 136us/sample - loss: 0.2306 - accuracy: 0.9659 - val_loss: 0.2458 - val_accuracy: 0.9611\n",
      "Epoch 93/200\n",
      "48000/48000 [==============================] - 6s 129us/sample - loss: 0.2331 - accuracy: 0.9653 - val_loss: 0.2497 - val_accuracy: 0.9612\n",
      "Epoch 94/200\n",
      "48000/48000 [==============================] - 7s 146us/sample - loss: 0.2311 - accuracy: 0.9656 - val_loss: 0.2394 - val_accuracy: 0.9635\n",
      "Epoch 95/200\n",
      "48000/48000 [==============================] - 11s 221us/sample - loss: 0.2287 - accuracy: 0.9672 - val_loss: 0.2457 - val_accuracy: 0.9616\n",
      "Epoch 96/200\n",
      "48000/48000 [==============================] - 8s 170us/sample - loss: 0.2298 - accuracy: 0.9659 - val_loss: 0.2432 - val_accuracy: 0.9623\n",
      "Epoch 97/200\n",
      "48000/48000 [==============================] - 7s 139us/sample - loss: 0.2298 - accuracy: 0.9669 - val_loss: 0.2353 - val_accuracy: 0.9649\n",
      "Epoch 98/200\n",
      "48000/48000 [==============================] - 11s 227us/sample - loss: 0.2303 - accuracy: 0.9654 - val_loss: 0.2465 - val_accuracy: 0.9588\n",
      "Epoch 99/200\n",
      "48000/48000 [==============================] - 7s 155us/sample - loss: 0.2286 - accuracy: 0.9665 - val_loss: 0.2529 - val_accuracy: 0.9599\n",
      "Epoch 100/200\n",
      "48000/48000 [==============================] - 6s 129us/sample - loss: 0.2299 - accuracy: 0.9657 - val_loss: 0.2379 - val_accuracy: 0.9639\n",
      "Epoch 101/200\n",
      "48000/48000 [==============================] - 12s 250us/sample - loss: 0.2287 - accuracy: 0.9664 - val_loss: 0.2328 - val_accuracy: 0.9643\n",
      "Epoch 102/200\n",
      "48000/48000 [==============================] - 26s 535us/sample - loss: 0.2269 - accuracy: 0.9675 - val_loss: 0.2346 - val_accuracy: 0.9644\n",
      "Epoch 103/200\n",
      "48000/48000 [==============================] - 15s 311us/sample - loss: 0.2306 - accuracy: 0.9651 - val_loss: 0.2451 - val_accuracy: 0.9611\n",
      "Epoch 104/200\n",
      "48000/48000 [==============================] - 11s 225us/sample - loss: 0.2271 - accuracy: 0.9664 - val_loss: 0.2441 - val_accuracy: 0.9620\n",
      "Epoch 105/200\n",
      "48000/48000 [==============================] - 10s 198us/sample - loss: 0.2285 - accuracy: 0.9669 - val_loss: 0.2630 - val_accuracy: 0.9545\n",
      "Epoch 106/200\n",
      "48000/48000 [==============================] - 7s 145us/sample - loss: 0.2263 - accuracy: 0.9668 - val_loss: 0.2764 - val_accuracy: 0.9515\n",
      "Epoch 107/200\n",
      "48000/48000 [==============================] - 8s 157us/sample - loss: 0.2270 - accuracy: 0.9667 - val_loss: 0.2381 - val_accuracy: 0.9655\n"
     ]
    },
    {
     "name": "stdout",
     "output_type": "stream",
     "text": [
      "Epoch 108/200\n",
      "48000/48000 [==============================] - 9s 194us/sample - loss: 0.2279 - accuracy: 0.9662 - val_loss: 0.2505 - val_accuracy: 0.9582\n",
      "Epoch 109/200\n",
      "48000/48000 [==============================] - 6s 134us/sample - loss: 0.2263 - accuracy: 0.9666 - val_loss: 0.2335 - val_accuracy: 0.9663\n",
      "Epoch 110/200\n",
      "48000/48000 [==============================] - 6s 130us/sample - loss: 0.2253 - accuracy: 0.9670 - val_loss: 0.2406 - val_accuracy: 0.9621\n",
      "Epoch 111/200\n",
      "48000/48000 [==============================] - 6s 131us/sample - loss: 0.2253 - accuracy: 0.9667 - val_loss: 0.2373 - val_accuracy: 0.9627\n",
      "Epoch 112/200\n",
      "48000/48000 [==============================] - 8s 172us/sample - loss: 0.2297 - accuracy: 0.9659 - val_loss: 0.2304 - val_accuracy: 0.9655\n",
      "Epoch 113/200\n",
      "48000/48000 [==============================] - 14s 289us/sample - loss: 0.2257 - accuracy: 0.9672 - val_loss: 0.2470 - val_accuracy: 0.9594\n",
      "Epoch 114/200\n",
      "48000/48000 [==============================] - 13s 269us/sample - loss: 0.2267 - accuracy: 0.9663 - val_loss: 0.2532 - val_accuracy: 0.9581\n",
      "Epoch 115/200\n",
      "48000/48000 [==============================] - 15s 310us/sample - loss: 0.2280 - accuracy: 0.9656 - val_loss: 0.2414 - val_accuracy: 0.9622\n",
      "Epoch 116/200\n",
      "48000/48000 [==============================] - 13s 267us/sample - loss: 0.2251 - accuracy: 0.9666 - val_loss: 0.2323 - val_accuracy: 0.9656\n",
      "Epoch 117/200\n",
      "48000/48000 [==============================] - 6s 131us/sample - loss: 0.2253 - accuracy: 0.9662 - val_loss: 0.2423 - val_accuracy: 0.9607\n",
      "Epoch 118/200\n",
      "48000/48000 [==============================] - 7s 137us/sample - loss: 0.2245 - accuracy: 0.9668 - val_loss: 0.2338 - val_accuracy: 0.9646\n",
      "Epoch 119/200\n",
      "48000/48000 [==============================] - 8s 175us/sample - loss: 0.2234 - accuracy: 0.9662 - val_loss: 0.2389 - val_accuracy: 0.9618\n",
      "Epoch 120/200\n",
      "48000/48000 [==============================] - 7s 148us/sample - loss: 0.2237 - accuracy: 0.9677 - val_loss: 0.2477 - val_accuracy: 0.9593\n",
      "Epoch 121/200\n",
      "48000/48000 [==============================] - 7s 147us/sample - loss: 0.2252 - accuracy: 0.9663 - val_loss: 0.2324 - val_accuracy: 0.9649\n",
      "Epoch 122/200\n",
      "48000/48000 [==============================] - 10s 198us/sample - loss: 0.2232 - accuracy: 0.9671 - val_loss: 0.2403 - val_accuracy: 0.9620\n",
      "Epoch 123/200\n",
      "48000/48000 [==============================] - 7s 152us/sample - loss: 0.2232 - accuracy: 0.9667 - val_loss: 0.2378 - val_accuracy: 0.9628\n",
      "Epoch 124/200\n",
      "48000/48000 [==============================] - 8s 168us/sample - loss: 0.2244 - accuracy: 0.9667 - val_loss: 0.2339 - val_accuracy: 0.9631\n",
      "Epoch 125/200\n",
      "48000/48000 [==============================] - 7s 137us/sample - loss: 0.2251 - accuracy: 0.9659 - val_loss: 0.2270 - val_accuracy: 0.9657\n",
      "Epoch 126/200\n",
      "48000/48000 [==============================] - 13s 277us/sample - loss: 0.2227 - accuracy: 0.9664 - val_loss: 0.2446 - val_accuracy: 0.9597\n",
      "Epoch 127/200\n",
      "48000/48000 [==============================] - 12s 241us/sample - loss: 0.2250 - accuracy: 0.9666 - val_loss: 0.2244 - val_accuracy: 0.9685\n",
      "Epoch 128/200\n",
      "48000/48000 [==============================] - 7s 155us/sample - loss: 0.2241 - accuracy: 0.9657 - val_loss: 0.2361 - val_accuracy: 0.9635\n",
      "Epoch 129/200\n",
      "48000/48000 [==============================] - 8s 174us/sample - loss: 0.2224 - accuracy: 0.9673 - val_loss: 0.2279 - val_accuracy: 0.9657\n",
      "Epoch 130/200\n",
      "48000/48000 [==============================] - 15s 310us/sample - loss: 0.2233 - accuracy: 0.9669 - val_loss: 0.2321 - val_accuracy: 0.9641\n",
      "Epoch 131/200\n",
      "48000/48000 [==============================] - 12s 258us/sample - loss: 0.2220 - accuracy: 0.9671 - val_loss: 0.2521 - val_accuracy: 0.9579\n",
      "Epoch 132/200\n",
      "48000/48000 [==============================] - 13s 270us/sample - loss: 0.2245 - accuracy: 0.9661 - val_loss: 0.2528 - val_accuracy: 0.9581\n",
      "Epoch 133/200\n",
      "48000/48000 [==============================] - 18s 374us/sample - loss: 0.2231 - accuracy: 0.9670 - val_loss: 0.2279 - val_accuracy: 0.9660\n",
      "Epoch 134/200\n",
      "48000/48000 [==============================] - 14s 293us/sample - loss: 0.2234 - accuracy: 0.9659 - val_loss: 0.2374 - val_accuracy: 0.9639\n",
      "Epoch 135/200\n",
      "48000/48000 [==============================] - 6s 134us/sample - loss: 0.2241 - accuracy: 0.9661 - val_loss: 0.2427 - val_accuracy: 0.9632\n",
      "Epoch 136/200\n",
      "48000/48000 [==============================] - 10s 203us/sample - loss: 0.2234 - accuracy: 0.9660 - val_loss: 0.2388 - val_accuracy: 0.9611\n",
      "Epoch 137/200\n",
      "48000/48000 [==============================] - 9s 186us/sample - loss: 0.2191 - accuracy: 0.9686 - val_loss: 0.2455 - val_accuracy: 0.9609\n",
      "Epoch 138/200\n",
      "48000/48000 [==============================] - 6s 132us/sample - loss: 0.2229 - accuracy: 0.9662 - val_loss: 0.2463 - val_accuracy: 0.9638\n",
      "Epoch 139/200\n",
      "48000/48000 [==============================] - 11s 224us/sample - loss: 0.2198 - accuracy: 0.9675 - val_loss: 0.2502 - val_accuracy: 0.9587\n",
      "Epoch 140/200\n",
      "48000/48000 [==============================] - 15s 308us/sample - loss: 0.2234 - accuracy: 0.9666 - val_loss: 0.2423 - val_accuracy: 0.9615\n",
      "Epoch 141/200\n",
      "48000/48000 [==============================] - 14s 288us/sample - loss: 0.2231 - accuracy: 0.9661 - val_loss: 0.2403 - val_accuracy: 0.9607\n",
      "Epoch 142/200\n",
      "48000/48000 [==============================] - 9s 180us/sample - loss: 0.2205 - accuracy: 0.9674 - val_loss: 0.2330 - val_accuracy: 0.9654\n",
      "Epoch 143/200\n",
      "48000/48000 [==============================] - 7s 140us/sample - loss: 0.2243 - accuracy: 0.9653 - val_loss: 0.2242 - val_accuracy: 0.9654\n",
      "Epoch 144/200\n",
      "48000/48000 [==============================] - 7s 136us/sample - loss: 0.2213 - accuracy: 0.9664 - val_loss: 0.2178 - val_accuracy: 0.9688\n",
      "Epoch 145/200\n",
      "48000/48000 [==============================] - 6s 129us/sample - loss: 0.2223 - accuracy: 0.9666 - val_loss: 0.2234 - val_accuracy: 0.9677\n",
      "Epoch 146/200\n",
      "48000/48000 [==============================] - 6s 134us/sample - loss: 0.2219 - accuracy: 0.9662 - val_loss: 0.2477 - val_accuracy: 0.9572\n",
      "Epoch 147/200\n",
      "48000/48000 [==============================] - 9s 179us/sample - loss: 0.2192 - accuracy: 0.9670 - val_loss: 0.2314 - val_accuracy: 0.9665\n",
      "Epoch 148/200\n",
      "48000/48000 [==============================] - 10s 213us/sample - loss: 0.2198 - accuracy: 0.9682 - val_loss: 0.2340 - val_accuracy: 0.9638\n",
      "Epoch 149/200\n",
      "48000/48000 [==============================] - 10s 217us/sample - loss: 0.2221 - accuracy: 0.9669 - val_loss: 0.2613 - val_accuracy: 0.9540\n",
      "Epoch 150/200\n",
      "48000/48000 [==============================] - 11s 226us/sample - loss: 0.2219 - accuracy: 0.9665 - val_loss: 0.2532 - val_accuracy: 0.9581\n",
      "Epoch 151/200\n",
      "48000/48000 [==============================] - 7s 144us/sample - loss: 0.2180 - accuracy: 0.9674 - val_loss: 0.2471 - val_accuracy: 0.9598\n",
      "Epoch 152/200\n",
      "48000/48000 [==============================] - 7s 139us/sample - loss: 0.2224 - accuracy: 0.9657 - val_loss: 0.2274 - val_accuracy: 0.9673\n",
      "Epoch 153/200\n",
      "48000/48000 [==============================] - 12s 247us/sample - loss: 0.2190 - accuracy: 0.9676 - val_loss: 0.2349 - val_accuracy: 0.9630\n",
      "Epoch 154/200\n",
      "48000/48000 [==============================] - 18s 369us/sample - loss: 0.2207 - accuracy: 0.9669 - val_loss: 0.2339 - val_accuracy: 0.9643\n",
      "Epoch 155/200\n",
      "48000/48000 [==============================] - 8s 165us/sample - loss: 0.2205 - accuracy: 0.9665 - val_loss: 0.2375 - val_accuracy: 0.9624\n",
      "Epoch 156/200\n",
      "48000/48000 [==============================] - 13s 269us/sample - loss: 0.2190 - accuracy: 0.9672 - val_loss: 0.2511 - val_accuracy: 0.9583\n",
      "Epoch 157/200\n",
      "48000/48000 [==============================] - 9s 181us/sample - loss: 0.2206 - accuracy: 0.9660 - val_loss: 0.2306 - val_accuracy: 0.9657\n",
      "Epoch 158/200\n",
      "48000/48000 [==============================] - 7s 155us/sample - loss: 0.2185 - accuracy: 0.9673 - val_loss: 0.2344 - val_accuracy: 0.9635\n",
      "Epoch 159/200\n",
      "48000/48000 [==============================] - 10s 204us/sample - loss: 0.2229 - accuracy: 0.9657 - val_loss: 0.2322 - val_accuracy: 0.9651\n",
      "Epoch 160/200\n",
      "48000/48000 [==============================] - 9s 184us/sample - loss: 0.2205 - accuracy: 0.9664 - val_loss: 0.2278 - val_accuracy: 0.9659\n",
      "Epoch 161/200\n"
     ]
    },
    {
     "name": "stdout",
     "output_type": "stream",
     "text": [
      "48000/48000 [==============================] - 10s 208us/sample - loss: 0.2178 - accuracy: 0.9675 - val_loss: 0.2234 - val_accuracy: 0.9671\n",
      "Epoch 162/200\n",
      "48000/48000 [==============================] - 7s 137us/sample - loss: 0.2180 - accuracy: 0.9666 - val_loss: 0.2332 - val_accuracy: 0.9626\n",
      "Epoch 163/200\n",
      "48000/48000 [==============================] - 7s 140us/sample - loss: 0.2191 - accuracy: 0.9667 - val_loss: 0.2867 - val_accuracy: 0.9459\n",
      "Epoch 164/200\n",
      "48000/48000 [==============================] - 15s 304us/sample - loss: 0.2211 - accuracy: 0.9658 - val_loss: 0.2412 - val_accuracy: 0.9618\n",
      "Epoch 165/200\n",
      "48000/48000 [==============================] - 18s 385us/sample - loss: 0.2196 - accuracy: 0.9669 - val_loss: 0.2428 - val_accuracy: 0.9598\n",
      "Epoch 166/200\n",
      "48000/48000 [==============================] - 7s 136us/sample - loss: 0.2196 - accuracy: 0.9664 - val_loss: 0.2362 - val_accuracy: 0.9613\n",
      "Epoch 167/200\n",
      "48000/48000 [==============================] - 11s 235us/sample - loss: 0.2159 - accuracy: 0.9680 - val_loss: 0.2386 - val_accuracy: 0.9604\n",
      "Epoch 168/200\n",
      "48000/48000 [==============================] - 10s 205us/sample - loss: 0.2194 - accuracy: 0.9667 - val_loss: 0.2356 - val_accuracy: 0.9625\n",
      "Epoch 169/200\n",
      "48000/48000 [==============================] - 10s 207us/sample - loss: 0.2160 - accuracy: 0.9684 - val_loss: 0.2242 - val_accuracy: 0.9657\n",
      "Epoch 170/200\n",
      "48000/48000 [==============================] - 10s 209us/sample - loss: 0.2181 - accuracy: 0.9666 - val_loss: 0.2209 - val_accuracy: 0.9668\n",
      "Epoch 171/200\n",
      "48000/48000 [==============================] - 11s 235us/sample - loss: 0.2221 - accuracy: 0.9652 - val_loss: 0.2470 - val_accuracy: 0.9613\n",
      "Epoch 172/200\n",
      "48000/48000 [==============================] - 7s 136us/sample - loss: 0.2177 - accuracy: 0.9673 - val_loss: 0.2339 - val_accuracy: 0.9622\n",
      "Epoch 173/200\n",
      "48000/48000 [==============================] - 6s 135us/sample - loss: 0.2177 - accuracy: 0.9670 - val_loss: 0.2393 - val_accuracy: 0.9613\n",
      "Epoch 174/200\n",
      "48000/48000 [==============================] - 8s 174us/sample - loss: 0.2182 - accuracy: 0.9671 - val_loss: 0.2315 - val_accuracy: 0.9638\n",
      "Epoch 175/200\n",
      "48000/48000 [==============================] - 8s 173us/sample - loss: 0.2175 - accuracy: 0.9674 - val_loss: 0.2437 - val_accuracy: 0.9610\n",
      "Epoch 176/200\n",
      "48000/48000 [==============================] - 6s 135us/sample - loss: 0.2173 - accuracy: 0.9676 - val_loss: 0.2470 - val_accuracy: 0.9593\n",
      "Epoch 177/200\n",
      "48000/48000 [==============================] - 7s 136us/sample - loss: 0.2172 - accuracy: 0.9680 - val_loss: 0.2324 - val_accuracy: 0.9628\n",
      "Epoch 178/200\n",
      "48000/48000 [==============================] - 10s 213us/sample - loss: 0.2155 - accuracy: 0.9675 - val_loss: 0.2291 - val_accuracy: 0.9649\n",
      "Epoch 179/200\n",
      "48000/48000 [==============================] - 7s 145us/sample - loss: 0.2192 - accuracy: 0.9664 - val_loss: 0.2454 - val_accuracy: 0.9583\n",
      "Epoch 180/200\n",
      "48000/48000 [==============================] - 10s 201us/sample - loss: 0.2181 - accuracy: 0.9668 - val_loss: 0.2414 - val_accuracy: 0.9588\n",
      "Epoch 181/200\n",
      "48000/48000 [==============================] - 12s 260us/sample - loss: 0.2169 - accuracy: 0.9670 - val_loss: 0.2177 - val_accuracy: 0.9672\n",
      "Epoch 182/200\n",
      "48000/48000 [==============================] - 11s 222us/sample - loss: 0.2186 - accuracy: 0.9672 - val_loss: 0.2160 - val_accuracy: 0.9671\n",
      "Epoch 183/200\n",
      "48000/48000 [==============================] - 7s 136us/sample - loss: 0.2180 - accuracy: 0.9669 - val_loss: 0.2153 - val_accuracy: 0.9686\n",
      "Epoch 184/200\n",
      "48000/48000 [==============================] - 10s 198us/sample - loss: 0.2154 - accuracy: 0.9674 - val_loss: 0.2237 - val_accuracy: 0.9661\n",
      "Epoch 185/200\n",
      "48000/48000 [==============================] - 9s 189us/sample - loss: 0.2179 - accuracy: 0.9670 - val_loss: 0.2241 - val_accuracy: 0.9634\n",
      "Epoch 186/200\n",
      "48000/48000 [==============================] - 7s 138us/sample - loss: 0.2122 - accuracy: 0.9688 - val_loss: 0.2469 - val_accuracy: 0.9573\n",
      "Epoch 187/200\n",
      "48000/48000 [==============================] - 8s 165us/sample - loss: 0.2169 - accuracy: 0.9665 - val_loss: 0.2369 - val_accuracy: 0.9601\n",
      "Epoch 188/200\n",
      "48000/48000 [==============================] - 12s 244us/sample - loss: 0.2155 - accuracy: 0.9677 - val_loss: 0.2401 - val_accuracy: 0.9615\n",
      "Epoch 189/200\n",
      "48000/48000 [==============================] - 7s 137us/sample - loss: 0.2172 - accuracy: 0.9671 - val_loss: 0.2516 - val_accuracy: 0.9582\n",
      "Epoch 190/200\n",
      "48000/48000 [==============================] - 7s 140us/sample - loss: 0.2173 - accuracy: 0.9676 - val_loss: 0.2375 - val_accuracy: 0.9621\n",
      "Epoch 191/200\n",
      "48000/48000 [==============================] - 8s 160us/sample - loss: 0.2163 - accuracy: 0.9673 - val_loss: 0.2308 - val_accuracy: 0.9632\n",
      "Epoch 192/200\n",
      "48000/48000 [==============================] - 14s 284us/sample - loss: 0.2174 - accuracy: 0.9674 - val_loss: 0.2248 - val_accuracy: 0.9650\n",
      "Epoch 193/200\n",
      "48000/48000 [==============================] - 18s 375us/sample - loss: 0.2185 - accuracy: 0.9662 - val_loss: 0.2378 - val_accuracy: 0.9606\n",
      "Epoch 194/200\n",
      "48000/48000 [==============================] - 7s 149us/sample - loss: 0.2159 - accuracy: 0.9683 - val_loss: 0.2420 - val_accuracy: 0.9593\n",
      "Epoch 195/200\n",
      "48000/48000 [==============================] - 9s 187us/sample - loss: 0.2162 - accuracy: 0.9667 - val_loss: 0.2384 - val_accuracy: 0.9628\n",
      "Epoch 196/200\n",
      "48000/48000 [==============================] - 10s 201us/sample - loss: 0.2160 - accuracy: 0.9670 - val_loss: 0.2530 - val_accuracy: 0.9579\n",
      "Epoch 197/200\n",
      "48000/48000 [==============================] - 8s 167us/sample - loss: 0.2157 - accuracy: 0.9679 - val_loss: 0.2180 - val_accuracy: 0.9680\n",
      "Epoch 198/200\n",
      "48000/48000 [==============================] - 9s 178us/sample - loss: 0.2151 - accuracy: 0.9674 - val_loss: 0.2625 - val_accuracy: 0.9554\n",
      "Epoch 199/200\n",
      "48000/48000 [==============================] - 8s 175us/sample - loss: 0.2147 - accuracy: 0.9679 - val_loss: 0.2294 - val_accuracy: 0.9613\n",
      "Epoch 200/200\n",
      "48000/48000 [==============================] - 7s 137us/sample - loss: 0.2157 - accuracy: 0.9672 - val_loss: 0.2198 - val_accuracy: 0.9664\n"
     ]
    }
   ],
   "source": [
    "# will take a while\n",
    "history_deepermnist = deepermodel_images.fit(x_train, y_tr_one_hot, epochs=200, batch_size= 32, validation_split = 0.2)"
   ]
  },
  {
   "cell_type": "code",
   "execution_count": 21,
   "metadata": {
    "cell_style": "split",
    "slideshow": {
     "slide_type": "slide"
    }
   },
   "outputs": [
    {
     "name": "stdout",
     "output_type": "stream",
     "text": [
      "10000/1 - 1s - loss: 0.1639 - accuracy: 0.9685\n"
     ]
    },
    {
     "data": {
      "text/plain": [
       "[0.21322949384450912, 0.9685]"
      ]
     },
     "execution_count": 21,
     "metadata": {},
     "output_type": "execute_result"
    }
   ],
   "source": [
    "#evaluate test accuracy\n",
    "deepermodel_images.evaluate(x_test, y_tt_one_hot, verbose = 2)"
   ]
  },
  {
   "cell_type": "code",
   "execution_count": 22,
   "metadata": {
    "cell_style": "split",
    "slideshow": {
     "slide_type": "fragment"
    }
   },
   "outputs": [
    {
     "data": {
      "image/png": "[encoded data removed]",
      "text/plain": [
       "<Figure size 432x288 with 1 Axes>"
      ]
     },
     "metadata": {
      "needs_background": "light"
     },
     "output_type": "display_data"
    }
   ],
   "source": [
    "train_deepmnist_history = pd.DataFrame(history_deepermnist.history)\n",
    "train_deepmnist_history.index.name = 'epochs'\n",
    "\n",
    "col_list = ['loss', 'val_loss']\n",
    "train_deepmnist_history[col_list].plot()\n",
    "plt.ylabel('Categorical cross entropy')\n",
    "plt.title('Training loss history')\n",
    "plt.show()"
   ]
  },
  {
   "cell_type": "code",
   "execution_count": 23,
   "metadata": {
    "cell_style": "split",
    "slideshow": {
     "slide_type": "slide"
    }
   },
   "outputs": [
    {
     "data": {
      "image/png": "[encoded data removed]",
      "text/plain": [
       "<Figure size 432x288 with 1 Axes>"
      ]
     },
     "metadata": {
      "needs_background": "light"
     },
     "output_type": "display_data"
    }
   ],
   "source": [
    "col_list = ['accuracy', 'val_accuracy']\n",
    "train_deepmnist_history[col_list].plot()\n",
    "plt.ylabel('Accuracy')\n",
    "plt.title('Training loss history')\n",
    "plt.show()"
   ]
  },
  {
   "cell_type": "markdown",
   "metadata": {
    "cell_style": "split",
    "slideshow": {
     "slide_type": "fragment"
    }
   },
   "source": [
    "Not overfitting even while adding much more complexity:\n",
    "- in this case, not gaining much either"
   ]
  },
  {
   "cell_type": "markdown",
   "metadata": {
    "cell_style": "split",
    "slideshow": {
     "slide_type": "fragment"
    }
   },
   "source": [
    "To do better:\n",
    "- try a different regularization technique\n",
    "- may need to think harder about network architecture"
   ]
  },
  {
   "cell_type": "markdown",
   "metadata": {
    "cell_style": "split",
    "slideshow": {
     "slide_type": "slide"
    }
   },
   "source": [
    "#### Dropout Regularization\n",
    "- Architecture based strategy.\n",
    "\n",
    "On each forward/backprop iteration:\n",
    "- given layer with dropout\n",
    "- shut off activations to randomly selected nodes in layer"
   ]
  },
  {
   "cell_type": "markdown",
   "metadata": {
    "cell_style": "split",
    "slideshow": {
     "slide_type": "fragment"
    }
   },
   "source": [
    "![drop_out](images/drop_out.png)"
   ]
  },
  {
   "cell_type": "markdown",
   "metadata": {
    "cell_style": "split",
    "slideshow": {
     "slide_type": "slide"
    }
   },
   "source": [
    "<img src = \"Images/dropout_network.gif\" >"
   ]
  },
  {
   "cell_type": "markdown",
   "metadata": {
    "cell_style": "split",
    "slideshow": {
     "slide_type": "fragment"
    }
   },
   "source": [
    "- Set $p^{[l]}$  uniform probability of node dropout for given layer\n",
    "- each train cycle: kills different activations"
   ]
  },
  {
   "cell_type": "markdown",
   "metadata": {
    "cell_style": "split",
    "slideshow": {
     "slide_type": "fragment"
    }
   },
   "source": [
    "Dead nodes dont contribute to weight updates in backprop."
   ]
  },
  {
   "cell_type": "markdown",
   "metadata": {
    "cell_style": "center",
    "slideshow": {
     "slide_type": "fragment"
    }
   },
   "source": [
    "after many train cycles: have learned weights:\n",
    "- contributions from many different networks learning different things"
   ]
  },
  {
   "cell_type": "markdown",
   "metadata": {
    "cell_style": "split",
    "slideshow": {
     "slide_type": "slide"
    }
   },
   "source": [
    "<img src = \"Images/Deeper_network.jpg\">"
   ]
  },
  {
   "cell_type": "markdown",
   "metadata": {
    "cell_style": "split",
    "slideshow": {
     "slide_type": "fragment"
    }
   },
   "source": [
    "Validation/test phase:\n",
    "- use all nodes and learned weights.\n",
    "- make prediction."
   ]
  },
  {
   "cell_type": "markdown",
   "metadata": {
    "cell_style": "center",
    "slideshow": {
     "slide_type": "slide"
    }
   },
   "source": [
    "**Why it works as regularization**\n",
    "- network learns not to trust in any one subset of weights: unlikely any particular weight subset gets too big.\n",
    "- distributes weights in way that is robust to network noise (random dropout): generalizes well. "
   ]
  },
  {
   "cell_type": "markdown",
   "metadata": {
    "slideshow": {
     "slide_type": "slide"
    }
   },
   "source": [
    "#### Dropout in Keras\n",
    "\n",
    "- Simply add it as though it were a layer. It will apply to the immediately preceding layer."
   ]
  },
  {
   "cell_type": "code",
   "execution_count": 24,
   "metadata": {
    "slideshow": {
     "slide_type": "fragment"
    }
   },
   "outputs": [],
   "source": [
    "from tensorflow.keras.layers import Dropout"
   ]
  },
  {
   "cell_type": "markdown",
   "metadata": {
    "cell_style": "center",
    "slideshow": {
     "slide_type": "slide"
    }
   },
   "source": [
    "Dropout() takes in the dropout probability as a constructor argument:\n",
    "- Dropout($p$) after some of the hidden layers.\n",
    "- $p \\in [0.2, 0.5]$ as good range to try."
   ]
  },
  {
   "cell_type": "code",
   "execution_count": 25,
   "metadata": {
    "slideshow": {
     "slide_type": "subslide"
    }
   },
   "outputs": [],
   "source": [
    "from tensorflow.keras.optimizers import Adam\n",
    "opt = Adam(learning_rate=0.003, beta_1=0.9, beta_2=0.999, epsilon=1e-07)"
   ]
  },
  {
   "cell_type": "markdown",
   "metadata": {
    "slideshow": {
     "slide_type": "slide"
    }
   },
   "source": [
    "**Define model**"
   ]
  },
  {
   "cell_type": "code",
   "execution_count": 26,
   "metadata": {
    "cell_style": "split",
    "slideshow": {
     "slide_type": "fragment"
    }
   },
   "outputs": [],
   "source": [
    "model = Sequential()\n",
    "model.add(Flatten(input_shape=(28, 28)))\n",
    "model.add(Dense(20, activation='relu'))\n",
    "model.add(Dropout(0.2)) # dropout on previous activations\n",
    "model.add(Dense(12, activation='relu'))\n",
    "model.add(Dense(12, activation='relu'))\n",
    "model.add(Dropout(0.1)) # dropout\n",
    "model.add(Dense(12, activation='relu'))\n",
    "model.add(Dense(8, activation='relu'))\n",
    "model.add(Dense(10, activation ='softmax'))\n",
    "\n",
    "# compile model\n",
    "model.compile(optimizer=opt, \n",
    "              loss='categorical_crossentropy',\n",
    "              metrics=['accuracy'])"
   ]
  },
  {
   "cell_type": "markdown",
   "metadata": {
    "cell_style": "split",
    "slideshow": {
     "slide_type": "fragment"
    }
   },
   "source": [
    "Some tips:\n",
    "- Dropout earlier in network or inputs. Don't put on final layers.\n",
    "- Try faster learning rates in optimizer"
   ]
  },
  {
   "cell_type": "code",
   "execution_count": 27,
   "metadata": {
    "scrolled": true,
    "slideshow": {
     "slide_type": "slide"
    }
   },
   "outputs": [
    {
     "name": "stdout",
     "output_type": "stream",
     "text": [
      "Train on 48000 samples, validate on 12000 samples\n",
      "Epoch 1/200\n",
      "48000/48000 - 8s - loss: 0.8704 - accuracy: 0.7012 - val_loss: 0.3721 - val_accuracy: 0.9011\n",
      "Epoch 2/200\n",
      "48000/48000 - 7s - loss: 0.5475 - accuracy: 0.8315 - val_loss: 0.3063 - val_accuracy: 0.9159\n",
      "Epoch 3/200\n",
      "48000/48000 - 7s - loss: 0.4893 - accuracy: 0.8551 - val_loss: 0.2948 - val_accuracy: 0.9134\n",
      "Epoch 4/200\n",
      "48000/48000 - 7s - loss: 0.4554 - accuracy: 0.8640 - val_loss: 0.2606 - val_accuracy: 0.9293\n",
      "Epoch 5/200\n",
      "48000/48000 - 7s - loss: 0.4379 - accuracy: 0.8714 - val_loss: 0.2648 - val_accuracy: 0.9258\n",
      "Epoch 6/200\n",
      "48000/48000 - 7s - loss: 0.4181 - accuracy: 0.8780 - val_loss: 0.2422 - val_accuracy: 0.9338\n",
      "Epoch 7/200\n",
      "48000/48000 - 7s - loss: 0.4080 - accuracy: 0.8809 - val_loss: 0.2754 - val_accuracy: 0.9241\n",
      "Epoch 8/200\n",
      "48000/48000 - 7s - loss: 0.3986 - accuracy: 0.8840 - val_loss: 0.2458 - val_accuracy: 0.9353\n",
      "Epoch 9/200\n",
      "48000/48000 - 7s - loss: 0.3858 - accuracy: 0.8898 - val_loss: 0.2254 - val_accuracy: 0.9398\n",
      "Epoch 10/200\n",
      "48000/48000 - 7s - loss: 0.3819 - accuracy: 0.8895 - val_loss: 0.2312 - val_accuracy: 0.9365\n",
      "Epoch 11/200\n",
      "48000/48000 - 8s - loss: 0.3727 - accuracy: 0.8923 - val_loss: 0.2260 - val_accuracy: 0.9398\n",
      "Epoch 12/200\n",
      "48000/48000 - 8s - loss: 0.3710 - accuracy: 0.8936 - val_loss: 0.2347 - val_accuracy: 0.9362\n",
      "Epoch 13/200\n",
      "48000/48000 - 8s - loss: 0.3652 - accuracy: 0.8958 - val_loss: 0.2298 - val_accuracy: 0.9391\n",
      "Epoch 14/200\n",
      "48000/48000 - 8s - loss: 0.3565 - accuracy: 0.8985 - val_loss: 0.2311 - val_accuracy: 0.9375\n",
      "Epoch 15/200\n",
      "48000/48000 - 8s - loss: 0.3602 - accuracy: 0.8971 - val_loss: 0.2270 - val_accuracy: 0.9398\n",
      "Epoch 16/200\n",
      "48000/48000 - 8s - loss: 0.3508 - accuracy: 0.9007 - val_loss: 0.2218 - val_accuracy: 0.9398\n",
      "Epoch 17/200\n",
      "48000/48000 - 7s - loss: 0.3507 - accuracy: 0.9010 - val_loss: 0.2328 - val_accuracy: 0.9390\n",
      "Epoch 18/200\n",
      "48000/48000 - 7s - loss: 0.3498 - accuracy: 0.9030 - val_loss: 0.2243 - val_accuracy: 0.9398\n",
      "Epoch 19/200\n",
      "48000/48000 - 7s - loss: 0.3495 - accuracy: 0.9011 - val_loss: 0.2379 - val_accuracy: 0.9335\n",
      "Epoch 20/200\n",
      "48000/48000 - 7s - loss: 0.3468 - accuracy: 0.9031 - val_loss: 0.2202 - val_accuracy: 0.9423\n",
      "Epoch 21/200\n",
      "48000/48000 - 7s - loss: 0.3476 - accuracy: 0.9036 - val_loss: 0.2254 - val_accuracy: 0.9406\n",
      "Epoch 22/200\n",
      "48000/48000 - 8s - loss: 0.3454 - accuracy: 0.9028 - val_loss: 0.2188 - val_accuracy: 0.9433\n",
      "Epoch 23/200\n",
      "48000/48000 - 7s - loss: 0.3367 - accuracy: 0.9056 - val_loss: 0.2323 - val_accuracy: 0.9415\n",
      "Epoch 24/200\n",
      "48000/48000 - 8s - loss: 0.3359 - accuracy: 0.9060 - val_loss: 0.2261 - val_accuracy: 0.9418\n",
      "Epoch 25/200\n",
      "48000/48000 - 7s - loss: 0.3345 - accuracy: 0.9069 - val_loss: 0.2240 - val_accuracy: 0.9400\n",
      "Epoch 26/200\n",
      "48000/48000 - 7s - loss: 0.3337 - accuracy: 0.9079 - val_loss: 0.2197 - val_accuracy: 0.9452\n",
      "Epoch 27/200\n",
      "48000/48000 - 7s - loss: 0.3353 - accuracy: 0.9080 - val_loss: 0.2206 - val_accuracy: 0.9421\n",
      "Epoch 28/200\n",
      "48000/48000 - 7s - loss: 0.3291 - accuracy: 0.9081 - val_loss: 0.2209 - val_accuracy: 0.9417\n",
      "Epoch 29/200\n",
      "48000/48000 - 7s - loss: 0.3317 - accuracy: 0.9078 - val_loss: 0.2127 - val_accuracy: 0.9428\n",
      "Epoch 30/200\n",
      "48000/48000 - 7s - loss: 0.3278 - accuracy: 0.9094 - val_loss: 0.2127 - val_accuracy: 0.9411\n",
      "Epoch 31/200\n",
      "48000/48000 - 8s - loss: 0.3322 - accuracy: 0.9069 - val_loss: 0.2230 - val_accuracy: 0.9392\n",
      "Epoch 32/200\n",
      "48000/48000 - 7s - loss: 0.3296 - accuracy: 0.9063 - val_loss: 0.2269 - val_accuracy: 0.9398\n",
      "Epoch 33/200\n",
      "48000/48000 - 7s - loss: 0.3287 - accuracy: 0.9091 - val_loss: 0.2200 - val_accuracy: 0.9429\n",
      "Epoch 34/200\n",
      "48000/48000 - 7s - loss: 0.3267 - accuracy: 0.9098 - val_loss: 0.2229 - val_accuracy: 0.9419\n",
      "Epoch 35/200\n",
      "48000/48000 - 7s - loss: 0.3206 - accuracy: 0.9115 - val_loss: 0.2086 - val_accuracy: 0.9444\n",
      "Epoch 36/200\n",
      "48000/48000 - 7s - loss: 0.3242 - accuracy: 0.9105 - val_loss: 0.2191 - val_accuracy: 0.9436\n",
      "Epoch 37/200\n",
      "48000/48000 - 7s - loss: 0.3197 - accuracy: 0.9119 - val_loss: 0.2110 - val_accuracy: 0.9436\n",
      "Epoch 38/200\n",
      "48000/48000 - 7s - loss: 0.3293 - accuracy: 0.9096 - val_loss: 0.2209 - val_accuracy: 0.9427\n",
      "Epoch 39/200\n",
      "48000/48000 - 7s - loss: 0.3202 - accuracy: 0.9108 - val_loss: 0.2196 - val_accuracy: 0.9443\n",
      "Epoch 40/200\n",
      "48000/48000 - 7s - loss: 0.3208 - accuracy: 0.9104 - val_loss: 0.2130 - val_accuracy: 0.9442\n",
      "Epoch 41/200\n",
      "48000/48000 - 7s - loss: 0.3228 - accuracy: 0.9094 - val_loss: 0.2254 - val_accuracy: 0.9426\n",
      "Epoch 42/200\n",
      "48000/48000 - 8s - loss: 0.3167 - accuracy: 0.9121 - val_loss: 0.2093 - val_accuracy: 0.9473\n",
      "Epoch 43/200\n",
      "48000/48000 - 7s - loss: 0.3162 - accuracy: 0.9122 - val_loss: 0.2232 - val_accuracy: 0.9417\n",
      "Epoch 44/200\n",
      "48000/48000 - 7s - loss: 0.3130 - accuracy: 0.9126 - val_loss: 0.2085 - val_accuracy: 0.9458\n",
      "Epoch 45/200\n",
      "48000/48000 - 7s - loss: 0.3142 - accuracy: 0.9110 - val_loss: 0.2207 - val_accuracy: 0.9442\n",
      "Epoch 46/200\n",
      "48000/48000 - 7s - loss: 0.3071 - accuracy: 0.9148 - val_loss: 0.2203 - val_accuracy: 0.9426\n",
      "Epoch 47/200\n",
      "48000/48000 - 7s - loss: 0.3090 - accuracy: 0.9155 - val_loss: 0.2236 - val_accuracy: 0.9428\n",
      "Epoch 48/200\n",
      "48000/48000 - 7s - loss: 0.3121 - accuracy: 0.9133 - val_loss: 0.2088 - val_accuracy: 0.9449\n",
      "Epoch 49/200\n",
      "48000/48000 - 7s - loss: 0.3107 - accuracy: 0.9145 - val_loss: 0.2147 - val_accuracy: 0.9445\n",
      "Epoch 50/200\n",
      "48000/48000 - 7s - loss: 0.3091 - accuracy: 0.9159 - val_loss: 0.2123 - val_accuracy: 0.9438\n",
      "Epoch 51/200\n",
      "48000/48000 - 7s - loss: 0.3110 - accuracy: 0.9134 - val_loss: 0.2062 - val_accuracy: 0.9462\n",
      "Epoch 52/200\n",
      "48000/48000 - 7s - loss: 0.3065 - accuracy: 0.9151 - val_loss: 0.2111 - val_accuracy: 0.9441\n",
      "Epoch 53/200\n",
      "48000/48000 - 7s - loss: 0.3086 - accuracy: 0.9148 - val_loss: 0.2068 - val_accuracy: 0.9468\n",
      "Epoch 54/200\n",
      "48000/48000 - 7s - loss: 0.3086 - accuracy: 0.9143 - val_loss: 0.2113 - val_accuracy: 0.9448\n",
      "Epoch 55/200\n",
      "48000/48000 - 7s - loss: 0.3087 - accuracy: 0.9154 - val_loss: 0.2046 - val_accuracy: 0.9466\n",
      "Epoch 56/200\n",
      "48000/48000 - 7s - loss: 0.3049 - accuracy: 0.9160 - val_loss: 0.2156 - val_accuracy: 0.9409\n",
      "Epoch 57/200\n",
      "48000/48000 - 7s - loss: 0.3120 - accuracy: 0.9130 - val_loss: 0.2184 - val_accuracy: 0.9412\n",
      "Epoch 58/200\n",
      "48000/48000 - 7s - loss: 0.3074 - accuracy: 0.9143 - val_loss: 0.2031 - val_accuracy: 0.9479\n",
      "Epoch 59/200\n",
      "48000/48000 - 7s - loss: 0.3168 - accuracy: 0.9118 - val_loss: 0.2052 - val_accuracy: 0.9481\n",
      "Epoch 60/200\n",
      "48000/48000 - 7s - loss: 0.3045 - accuracy: 0.9162 - val_loss: 0.2161 - val_accuracy: 0.9422\n",
      "Epoch 61/200\n",
      "48000/48000 - 7s - loss: 0.3111 - accuracy: 0.9147 - val_loss: 0.2283 - val_accuracy: 0.9425\n",
      "Epoch 62/200\n",
      "48000/48000 - 7s - loss: 0.3065 - accuracy: 0.9162 - val_loss: 0.2147 - val_accuracy: 0.9457\n",
      "Epoch 63/200\n",
      "48000/48000 - 7s - loss: 0.3024 - accuracy: 0.9172 - val_loss: 0.2252 - val_accuracy: 0.9399\n",
      "Epoch 64/200\n",
      "48000/48000 - 7s - loss: 0.3093 - accuracy: 0.9150 - val_loss: 0.2218 - val_accuracy: 0.9430\n",
      "Epoch 65/200\n",
      "48000/48000 - 7s - loss: 0.3069 - accuracy: 0.9157 - val_loss: 0.2197 - val_accuracy: 0.9435\n",
      "Epoch 66/200\n",
      "48000/48000 - 7s - loss: 0.3035 - accuracy: 0.9166 - val_loss: 0.2054 - val_accuracy: 0.9471\n",
      "Epoch 67/200\n",
      "48000/48000 - 7s - loss: 0.3009 - accuracy: 0.9166 - val_loss: 0.2146 - val_accuracy: 0.9451\n",
      "Epoch 68/200\n",
      "48000/48000 - 7s - loss: 0.3080 - accuracy: 0.9153 - val_loss: 0.2121 - val_accuracy: 0.9424\n",
      "Epoch 69/200\n",
      "48000/48000 - 7s - loss: 0.3090 - accuracy: 0.9141 - val_loss: 0.2103 - val_accuracy: 0.9462\n",
      "Epoch 70/200\n",
      "48000/48000 - 7s - loss: 0.3098 - accuracy: 0.9151 - val_loss: 0.2153 - val_accuracy: 0.9438\n",
      "Epoch 71/200\n",
      "48000/48000 - 7s - loss: 0.3059 - accuracy: 0.9172 - val_loss: 0.2147 - val_accuracy: 0.9452\n",
      "Epoch 72/200\n",
      "48000/48000 - 7s - loss: 0.3080 - accuracy: 0.9156 - val_loss: 0.2182 - val_accuracy: 0.9452\n",
      "Epoch 73/200\n",
      "48000/48000 - 7s - loss: 0.3044 - accuracy: 0.9166 - val_loss: 0.2190 - val_accuracy: 0.9437\n",
      "Epoch 74/200\n",
      "48000/48000 - 7s - loss: 0.3063 - accuracy: 0.9153 - val_loss: 0.2141 - val_accuracy: 0.9457\n",
      "Epoch 75/200\n",
      "48000/48000 - 7s - loss: 0.3006 - accuracy: 0.9183 - val_loss: 0.2028 - val_accuracy: 0.9487\n",
      "Epoch 76/200\n",
      "48000/48000 - 7s - loss: 0.3013 - accuracy: 0.9173 - val_loss: 0.2123 - val_accuracy: 0.9454\n",
      "Epoch 77/200\n",
      "48000/48000 - 7s - loss: 0.3034 - accuracy: 0.9184 - val_loss: 0.2123 - val_accuracy: 0.9463\n"
     ]
    },
    {
     "name": "stdout",
     "output_type": "stream",
     "text": [
      "Epoch 78/200\n",
      "48000/48000 - 7s - loss: 0.2994 - accuracy: 0.9184 - val_loss: 0.2283 - val_accuracy: 0.9427\n",
      "Epoch 79/200\n",
      "48000/48000 - 7s - loss: 0.2972 - accuracy: 0.9189 - val_loss: 0.2214 - val_accuracy: 0.9452\n",
      "Epoch 80/200\n",
      "48000/48000 - 7s - loss: 0.2977 - accuracy: 0.9175 - val_loss: 0.2176 - val_accuracy: 0.9432\n",
      "Epoch 81/200\n",
      "48000/48000 - 7s - loss: 0.3039 - accuracy: 0.9162 - val_loss: 0.2120 - val_accuracy: 0.9448\n",
      "Epoch 82/200\n",
      "48000/48000 - 7s - loss: 0.3035 - accuracy: 0.9165 - val_loss: 0.2195 - val_accuracy: 0.9458\n",
      "Epoch 83/200\n",
      "48000/48000 - 7s - loss: 0.3045 - accuracy: 0.9157 - val_loss: 0.2235 - val_accuracy: 0.9436\n",
      "Epoch 84/200\n",
      "48000/48000 - 7s - loss: 0.3018 - accuracy: 0.9171 - val_loss: 0.2190 - val_accuracy: 0.9455\n",
      "Epoch 85/200\n",
      "48000/48000 - 7s - loss: 0.3017 - accuracy: 0.9181 - val_loss: 0.2136 - val_accuracy: 0.9452\n",
      "Epoch 86/200\n",
      "48000/48000 - 7s - loss: 0.2964 - accuracy: 0.9181 - val_loss: 0.2197 - val_accuracy: 0.9433\n",
      "Epoch 87/200\n",
      "48000/48000 - 7s - loss: 0.2963 - accuracy: 0.9185 - val_loss: 0.2206 - val_accuracy: 0.9417\n",
      "Epoch 88/200\n",
      "48000/48000 - 7s - loss: 0.2985 - accuracy: 0.9193 - val_loss: 0.2177 - val_accuracy: 0.9448\n",
      "Epoch 89/200\n",
      "48000/48000 - 7s - loss: 0.2989 - accuracy: 0.9182 - val_loss: 0.2196 - val_accuracy: 0.9454\n",
      "Epoch 90/200\n",
      "48000/48000 - 7s - loss: 0.2971 - accuracy: 0.9189 - val_loss: 0.2187 - val_accuracy: 0.9454\n",
      "Epoch 91/200\n",
      "48000/48000 - 7s - loss: 0.3074 - accuracy: 0.9156 - val_loss: 0.2207 - val_accuracy: 0.9443\n",
      "Epoch 92/200\n",
      "48000/48000 - 7s - loss: 0.2955 - accuracy: 0.9187 - val_loss: 0.2172 - val_accuracy: 0.9448\n",
      "Epoch 93/200\n",
      "48000/48000 - 8s - loss: 0.2971 - accuracy: 0.9188 - val_loss: 0.2168 - val_accuracy: 0.9444\n",
      "Epoch 94/200\n",
      "48000/48000 - 7s - loss: 0.3010 - accuracy: 0.9176 - val_loss: 0.2115 - val_accuracy: 0.9441\n",
      "Epoch 95/200\n",
      "48000/48000 - 7s - loss: 0.2926 - accuracy: 0.9195 - val_loss: 0.2118 - val_accuracy: 0.9457\n",
      "Epoch 96/200\n",
      "48000/48000 - 7s - loss: 0.2953 - accuracy: 0.9190 - val_loss: 0.2191 - val_accuracy: 0.9460\n",
      "Epoch 97/200\n",
      "48000/48000 - 7s - loss: 0.2963 - accuracy: 0.9192 - val_loss: 0.2157 - val_accuracy: 0.9444\n",
      "Epoch 98/200\n",
      "48000/48000 - 7s - loss: 0.3001 - accuracy: 0.9170 - val_loss: 0.2240 - val_accuracy: 0.9440\n",
      "Epoch 99/200\n",
      "48000/48000 - 7s - loss: 0.2950 - accuracy: 0.9204 - val_loss: 0.2162 - val_accuracy: 0.9452\n",
      "Epoch 100/200\n",
      "48000/48000 - 7s - loss: 0.2947 - accuracy: 0.9201 - val_loss: 0.2226 - val_accuracy: 0.9442\n",
      "Epoch 101/200\n",
      "48000/48000 - 7s - loss: 0.2942 - accuracy: 0.9197 - val_loss: 0.2233 - val_accuracy: 0.9413\n",
      "Epoch 102/200\n",
      "48000/48000 - 7s - loss: 0.2988 - accuracy: 0.9176 - val_loss: 0.2190 - val_accuracy: 0.9453\n",
      "Epoch 103/200\n",
      "48000/48000 - 7s - loss: 0.3028 - accuracy: 0.9168 - val_loss: 0.2095 - val_accuracy: 0.9476\n",
      "Epoch 104/200\n",
      "48000/48000 - 7s - loss: 0.2966 - accuracy: 0.9192 - val_loss: 0.2124 - val_accuracy: 0.9434\n",
      "Epoch 105/200\n",
      "48000/48000 - 7s - loss: 0.2962 - accuracy: 0.9191 - val_loss: 0.2235 - val_accuracy: 0.9425\n",
      "Epoch 106/200\n",
      "48000/48000 - 7s - loss: 0.2946 - accuracy: 0.9200 - val_loss: 0.2283 - val_accuracy: 0.9418\n",
      "Epoch 107/200\n",
      "48000/48000 - 7s - loss: 0.2912 - accuracy: 0.9197 - val_loss: 0.2216 - val_accuracy: 0.9450\n",
      "Epoch 108/200\n",
      "48000/48000 - 7s - loss: 0.2976 - accuracy: 0.9176 - val_loss: 0.2266 - val_accuracy: 0.9402\n",
      "Epoch 109/200\n",
      "48000/48000 - 7s - loss: 0.2915 - accuracy: 0.9201 - val_loss: 0.2221 - val_accuracy: 0.9451\n",
      "Epoch 110/200\n",
      "48000/48000 - 7s - loss: 0.2903 - accuracy: 0.9207 - val_loss: 0.2132 - val_accuracy: 0.9458\n",
      "Epoch 111/200\n",
      "48000/48000 - 7s - loss: 0.2936 - accuracy: 0.9199 - val_loss: 0.2142 - val_accuracy: 0.9450\n",
      "Epoch 112/200\n",
      "48000/48000 - 7s - loss: 0.2910 - accuracy: 0.9199 - val_loss: 0.2194 - val_accuracy: 0.9452\n",
      "Epoch 113/200\n",
      "48000/48000 - 7s - loss: 0.2892 - accuracy: 0.9210 - val_loss: 0.2067 - val_accuracy: 0.9479\n",
      "Epoch 114/200\n",
      "48000/48000 - 7s - loss: 0.2938 - accuracy: 0.9201 - val_loss: 0.2225 - val_accuracy: 0.9454\n",
      "Epoch 115/200\n",
      "48000/48000 - 7s - loss: 0.2896 - accuracy: 0.9203 - val_loss: 0.2151 - val_accuracy: 0.9438\n",
      "Epoch 116/200\n",
      "48000/48000 - 7s - loss: 0.2913 - accuracy: 0.9208 - val_loss: 0.2171 - val_accuracy: 0.9464\n",
      "Epoch 117/200\n",
      "48000/48000 - 8s - loss: 0.2933 - accuracy: 0.9197 - val_loss: 0.2195 - val_accuracy: 0.9460\n",
      "Epoch 118/200\n",
      "48000/48000 - 7s - loss: 0.2931 - accuracy: 0.9199 - val_loss: 0.2148 - val_accuracy: 0.9450\n",
      "Epoch 119/200\n",
      "48000/48000 - 7s - loss: 0.2892 - accuracy: 0.9218 - val_loss: 0.2092 - val_accuracy: 0.9476\n",
      "Epoch 120/200\n",
      "48000/48000 - 7s - loss: 0.2924 - accuracy: 0.9194 - val_loss: 0.2216 - val_accuracy: 0.9472\n",
      "Epoch 121/200\n",
      "48000/48000 - 7s - loss: 0.2972 - accuracy: 0.9193 - val_loss: 0.2275 - val_accuracy: 0.9448\n",
      "Epoch 122/200\n",
      "48000/48000 - 7s - loss: 0.2920 - accuracy: 0.9209 - val_loss: 0.2165 - val_accuracy: 0.9467\n",
      "Epoch 123/200\n",
      "48000/48000 - 7s - loss: 0.2891 - accuracy: 0.9213 - val_loss: 0.2127 - val_accuracy: 0.9466\n",
      "Epoch 124/200\n",
      "48000/48000 - 8s - loss: 0.2895 - accuracy: 0.9216 - val_loss: 0.2263 - val_accuracy: 0.9464\n",
      "Epoch 125/200\n",
      "48000/48000 - 8s - loss: 0.2966 - accuracy: 0.9205 - val_loss: 0.2204 - val_accuracy: 0.9450\n",
      "Epoch 126/200\n",
      "48000/48000 - 7s - loss: 0.2904 - accuracy: 0.9205 - val_loss: 0.2149 - val_accuracy: 0.9440\n",
      "Epoch 127/200\n",
      "48000/48000 - 7s - loss: 0.2931 - accuracy: 0.9195 - val_loss: 0.2193 - val_accuracy: 0.9441\n",
      "Epoch 128/200\n",
      "48000/48000 - 7s - loss: 0.2968 - accuracy: 0.9191 - val_loss: 0.2233 - val_accuracy: 0.9444\n",
      "Epoch 129/200\n",
      "48000/48000 - 7s - loss: 0.2869 - accuracy: 0.9214 - val_loss: 0.2109 - val_accuracy: 0.9473\n",
      "Epoch 130/200\n",
      "48000/48000 - 7s - loss: 0.2933 - accuracy: 0.9200 - val_loss: 0.2147 - val_accuracy: 0.9442\n",
      "Epoch 131/200\n",
      "48000/48000 - 7s - loss: 0.2905 - accuracy: 0.9205 - val_loss: 0.2165 - val_accuracy: 0.9463\n",
      "Epoch 132/200\n",
      "48000/48000 - 7s - loss: 0.2967 - accuracy: 0.9200 - val_loss: 0.2177 - val_accuracy: 0.9473\n",
      "Epoch 133/200\n",
      "48000/48000 - 7s - loss: 0.2874 - accuracy: 0.9225 - val_loss: 0.2340 - val_accuracy: 0.9446\n",
      "Epoch 134/200\n",
      "48000/48000 - 7s - loss: 0.2895 - accuracy: 0.9226 - val_loss: 0.2050 - val_accuracy: 0.9452\n",
      "Epoch 135/200\n",
      "48000/48000 - 7s - loss: 0.2918 - accuracy: 0.9200 - val_loss: 0.2172 - val_accuracy: 0.9446\n",
      "Epoch 136/200\n",
      "48000/48000 - 7s - loss: 0.2834 - accuracy: 0.9219 - val_loss: 0.2193 - val_accuracy: 0.9459\n",
      "Epoch 137/200\n",
      "48000/48000 - 7s - loss: 0.2913 - accuracy: 0.9211 - val_loss: 0.2161 - val_accuracy: 0.9448\n",
      "Epoch 138/200\n",
      "48000/48000 - 7s - loss: 0.2899 - accuracy: 0.9199 - val_loss: 0.2276 - val_accuracy: 0.9445\n",
      "Epoch 139/200\n",
      "48000/48000 - 7s - loss: 0.2862 - accuracy: 0.9222 - val_loss: 0.2222 - val_accuracy: 0.9442\n",
      "Epoch 140/200\n",
      "48000/48000 - 7s - loss: 0.2929 - accuracy: 0.9209 - val_loss: 0.2285 - val_accuracy: 0.9429\n",
      "Epoch 141/200\n",
      "48000/48000 - 8s - loss: 0.2875 - accuracy: 0.9214 - val_loss: 0.2266 - val_accuracy: 0.9450\n",
      "Epoch 142/200\n",
      "48000/48000 - 8s - loss: 0.2874 - accuracy: 0.9214 - val_loss: 0.2162 - val_accuracy: 0.9466\n",
      "Epoch 143/200\n",
      "48000/48000 - 8s - loss: 0.2965 - accuracy: 0.9184 - val_loss: 0.2191 - val_accuracy: 0.9436\n",
      "Epoch 144/200\n",
      "48000/48000 - 7s - loss: 0.2885 - accuracy: 0.9212 - val_loss: 0.2223 - val_accuracy: 0.9431\n",
      "Epoch 145/200\n",
      "48000/48000 - 7s - loss: 0.2852 - accuracy: 0.9225 - val_loss: 0.2268 - val_accuracy: 0.9442\n",
      "Epoch 146/200\n",
      "48000/48000 - 8s - loss: 0.2937 - accuracy: 0.9199 - val_loss: 0.2264 - val_accuracy: 0.9434\n",
      "Epoch 147/200\n",
      "48000/48000 - 7s - loss: 0.2935 - accuracy: 0.9201 - val_loss: 0.2241 - val_accuracy: 0.9427\n",
      "Epoch 148/200\n",
      "48000/48000 - 8s - loss: 0.2910 - accuracy: 0.9209 - val_loss: 0.2156 - val_accuracy: 0.9458\n",
      "Epoch 149/200\n",
      "48000/48000 - 8s - loss: 0.2913 - accuracy: 0.9206 - val_loss: 0.2221 - val_accuracy: 0.9439\n",
      "Epoch 150/200\n",
      "48000/48000 - 8s - loss: 0.2888 - accuracy: 0.9201 - val_loss: 0.2178 - val_accuracy: 0.9457\n",
      "Epoch 151/200\n",
      "48000/48000 - 8s - loss: 0.2871 - accuracy: 0.9225 - val_loss: 0.2174 - val_accuracy: 0.9476\n",
      "Epoch 152/200\n",
      "48000/48000 - 7s - loss: 0.2867 - accuracy: 0.9227 - val_loss: 0.2428 - val_accuracy: 0.9434\n",
      "Epoch 153/200\n",
      "48000/48000 - 7s - loss: 0.2905 - accuracy: 0.9194 - val_loss: 0.2254 - val_accuracy: 0.9429\n",
      "Epoch 154/200\n",
      "48000/48000 - 7s - loss: 0.2896 - accuracy: 0.9200 - val_loss: 0.2276 - val_accuracy: 0.9404\n"
     ]
    },
    {
     "name": "stdout",
     "output_type": "stream",
     "text": [
      "Epoch 155/200\n",
      "48000/48000 - 8s - loss: 0.2883 - accuracy: 0.9217 - val_loss: 0.2222 - val_accuracy: 0.9451\n",
      "Epoch 156/200\n",
      "48000/48000 - 8s - loss: 0.2839 - accuracy: 0.9216 - val_loss: 0.2126 - val_accuracy: 0.9482\n",
      "Epoch 157/200\n",
      "48000/48000 - 7s - loss: 0.2922 - accuracy: 0.9200 - val_loss: 0.2218 - val_accuracy: 0.9463\n",
      "Epoch 158/200\n",
      "48000/48000 - 7s - loss: 0.2825 - accuracy: 0.9227 - val_loss: 0.2251 - val_accuracy: 0.9463\n",
      "Epoch 159/200\n",
      "48000/48000 - 7s - loss: 0.2833 - accuracy: 0.9233 - val_loss: 0.2295 - val_accuracy: 0.9442\n",
      "Epoch 160/200\n",
      "48000/48000 - 7s - loss: 0.2871 - accuracy: 0.9212 - val_loss: 0.2282 - val_accuracy: 0.9430\n",
      "Epoch 161/200\n",
      "48000/48000 - 8s - loss: 0.2917 - accuracy: 0.9192 - val_loss: 0.2200 - val_accuracy: 0.9453\n",
      "Epoch 162/200\n",
      "48000/48000 - 7s - loss: 0.2916 - accuracy: 0.9186 - val_loss: 0.2252 - val_accuracy: 0.9438\n",
      "Epoch 163/200\n",
      "48000/48000 - 7s - loss: 0.2907 - accuracy: 0.9194 - val_loss: 0.2248 - val_accuracy: 0.9450\n",
      "Epoch 164/200\n",
      "48000/48000 - 7s - loss: 0.2870 - accuracy: 0.9221 - val_loss: 0.2245 - val_accuracy: 0.9451\n",
      "Epoch 165/200\n",
      "48000/48000 - 8s - loss: 0.2874 - accuracy: 0.9222 - val_loss: 0.2180 - val_accuracy: 0.9477\n",
      "Epoch 166/200\n",
      "48000/48000 - 7s - loss: 0.2832 - accuracy: 0.9230 - val_loss: 0.2304 - val_accuracy: 0.9440\n",
      "Epoch 167/200\n",
      "48000/48000 - 7s - loss: 0.2820 - accuracy: 0.9240 - val_loss: 0.2164 - val_accuracy: 0.9470\n",
      "Epoch 168/200\n",
      "48000/48000 - 7s - loss: 0.2820 - accuracy: 0.9240 - val_loss: 0.2292 - val_accuracy: 0.9452\n",
      "Epoch 169/200\n",
      "48000/48000 - 7s - loss: 0.2812 - accuracy: 0.9225 - val_loss: 0.2349 - val_accuracy: 0.9406\n",
      "Epoch 170/200\n",
      "48000/48000 - 7s - loss: 0.2929 - accuracy: 0.9194 - val_loss: 0.2180 - val_accuracy: 0.9464\n",
      "Epoch 171/200\n",
      "48000/48000 - 7s - loss: 0.2894 - accuracy: 0.9207 - val_loss: 0.2227 - val_accuracy: 0.9456\n",
      "Epoch 172/200\n",
      "48000/48000 - 7s - loss: 0.2912 - accuracy: 0.9196 - val_loss: 0.2302 - val_accuracy: 0.9450\n",
      "Epoch 173/200\n",
      "48000/48000 - 7s - loss: 0.2908 - accuracy: 0.9206 - val_loss: 0.2371 - val_accuracy: 0.9417\n",
      "Epoch 174/200\n",
      "48000/48000 - 8s - loss: 0.2854 - accuracy: 0.9209 - val_loss: 0.2393 - val_accuracy: 0.9414\n",
      "Epoch 175/200\n",
      "48000/48000 - 7s - loss: 0.2874 - accuracy: 0.9227 - val_loss: 0.2372 - val_accuracy: 0.9398\n",
      "Epoch 176/200\n",
      "48000/48000 - 8s - loss: 0.2858 - accuracy: 0.9233 - val_loss: 0.2208 - val_accuracy: 0.9453\n",
      "Epoch 177/200\n",
      "48000/48000 - 7s - loss: 0.2894 - accuracy: 0.9218 - val_loss: 0.2277 - val_accuracy: 0.9408\n",
      "Epoch 178/200\n",
      "48000/48000 - 7s - loss: 0.2792 - accuracy: 0.9247 - val_loss: 0.2348 - val_accuracy: 0.9429\n",
      "Epoch 179/200\n",
      "48000/48000 - 7s - loss: 0.2810 - accuracy: 0.9232 - val_loss: 0.2304 - val_accuracy: 0.9436\n",
      "Epoch 180/200\n",
      "48000/48000 - 7s - loss: 0.2835 - accuracy: 0.9230 - val_loss: 0.2250 - val_accuracy: 0.9460\n",
      "Epoch 181/200\n",
      "48000/48000 - 8s - loss: 0.2807 - accuracy: 0.9240 - val_loss: 0.2357 - val_accuracy: 0.9432\n",
      "Epoch 182/200\n",
      "48000/48000 - 7s - loss: 0.2829 - accuracy: 0.9231 - val_loss: 0.2286 - val_accuracy: 0.9449\n",
      "Epoch 183/200\n",
      "48000/48000 - 7s - loss: 0.2852 - accuracy: 0.9232 - val_loss: 0.2218 - val_accuracy: 0.9448\n",
      "Epoch 184/200\n",
      "48000/48000 - 7s - loss: 0.2834 - accuracy: 0.9230 - val_loss: 0.2252 - val_accuracy: 0.9473\n",
      "Epoch 185/200\n",
      "48000/48000 - 7s - loss: 0.2825 - accuracy: 0.9234 - val_loss: 0.2184 - val_accuracy: 0.9446\n",
      "Epoch 186/200\n",
      "48000/48000 - 7s - loss: 0.2829 - accuracy: 0.9237 - val_loss: 0.2279 - val_accuracy: 0.9469\n",
      "Epoch 187/200\n",
      "48000/48000 - 7s - loss: 0.2837 - accuracy: 0.9231 - val_loss: 0.2211 - val_accuracy: 0.9451\n",
      "Epoch 188/200\n",
      "48000/48000 - 7s - loss: 0.2852 - accuracy: 0.9229 - val_loss: 0.2398 - val_accuracy: 0.9432\n",
      "Epoch 189/200\n",
      "48000/48000 - 7s - loss: 0.2804 - accuracy: 0.9221 - val_loss: 0.2323 - val_accuracy: 0.9450\n",
      "Epoch 190/200\n",
      "48000/48000 - 7s - loss: 0.2838 - accuracy: 0.9230 - val_loss: 0.2185 - val_accuracy: 0.9449\n",
      "Epoch 191/200\n",
      "48000/48000 - 7s - loss: 0.2805 - accuracy: 0.9240 - val_loss: 0.2402 - val_accuracy: 0.9437\n",
      "Epoch 192/200\n",
      "48000/48000 - 7s - loss: 0.2772 - accuracy: 0.9242 - val_loss: 0.2331 - val_accuracy: 0.9434\n",
      "Epoch 193/200\n",
      "48000/48000 - 7s - loss: 0.2838 - accuracy: 0.9234 - val_loss: 0.2212 - val_accuracy: 0.9442\n",
      "Epoch 194/200\n",
      "48000/48000 - 7s - loss: 0.2915 - accuracy: 0.9210 - val_loss: 0.2326 - val_accuracy: 0.9422\n",
      "Epoch 195/200\n",
      "48000/48000 - 8s - loss: 0.2849 - accuracy: 0.9225 - val_loss: 0.2183 - val_accuracy: 0.9481\n",
      "Epoch 196/200\n",
      "48000/48000 - 7s - loss: 0.2789 - accuracy: 0.9244 - val_loss: 0.2294 - val_accuracy: 0.9438\n",
      "Epoch 197/200\n",
      "48000/48000 - 7s - loss: 0.2819 - accuracy: 0.9221 - val_loss: 0.2383 - val_accuracy: 0.9448\n",
      "Epoch 198/200\n",
      "48000/48000 - 7s - loss: 0.2856 - accuracy: 0.9219 - val_loss: 0.2226 - val_accuracy: 0.9465\n",
      "Epoch 199/200\n",
      "48000/48000 - 8s - loss: 0.2796 - accuracy: 0.9236 - val_loss: 0.2276 - val_accuracy: 0.9455\n",
      "Epoch 200/200\n",
      "48000/48000 - 8s - loss: 0.2845 - accuracy: 0.9213 - val_loss: 0.2289 - val_accuracy: 0.9438\n"
     ]
    }
   ],
   "source": [
    "# will take a while\n",
    "history_dropoutmnist = model.fit(x_train, y_tr_one_hot, epochs=200, batch_size= 32, validation_split = 0.2, verbose =2)"
   ]
  },
  {
   "cell_type": "markdown",
   "metadata": {
    "cell_style": "split",
    "slideshow": {
     "slide_type": "slide"
    }
   },
   "source": [
    "Accuracy on train set will be lower in any given cycle:\n",
    "- some activation killed randomly on training.\n",
    "\n",
    "Performance on validation will be high:\n",
    "- uses full network with learned weights for validation"
   ]
  },
  {
   "cell_type": "markdown",
   "metadata": {
    "cell_style": "split",
    "slideshow": {
     "slide_type": "slide"
    }
   },
   "source": [
    "Not overtraining despite high model capacity:\n",
    "- many hidden layers"
   ]
  },
  {
   "cell_type": "code",
   "execution_count": 28,
   "metadata": {
    "cell_style": "split",
    "slideshow": {
     "slide_type": "fragment"
    }
   },
   "outputs": [
    {
     "data": {
      "image/png": "[encoded data removed]",
      "text/plain": [
       "<Figure size 432x288 with 1 Axes>"
      ]
     },
     "metadata": {
      "needs_background": "light"
     },
     "output_type": "display_data"
    }
   ],
   "source": [
    "train_dropoutmnist_history = pd.DataFrame(history_dropoutmnist.history)\n",
    "train_dropoutmnist_history.index.name = 'epochs'\n",
    "\n",
    "col_list = ['loss', 'val_loss']\n",
    "train_dropoutmnist_history[col_list].plot()\n",
    "plt.ylabel('Categorical cross entropy')\n",
    "plt.title('Training loss history')\n",
    "plt.show()"
   ]
  },
  {
   "cell_type": "code",
   "execution_count": 29,
   "metadata": {
    "cell_style": "split",
    "slideshow": {
     "slide_type": "slide"
    }
   },
   "outputs": [
    {
     "data": {
      "image/png": "[encoded data removed]",
      "text/plain": [
       "<Figure size 432x288 with 1 Axes>"
      ]
     },
     "metadata": {
      "needs_background": "light"
     },
     "output_type": "display_data"
    }
   ],
   "source": [
    "col_list = ['accuracy', 'val_accuracy']\n",
    "train_dropoutmnist_history[col_list].plot()\n",
    "plt.ylabel('Accuracy')\n",
    "plt.title('Training loss history')\n",
    "plt.show()"
   ]
  },
  {
   "cell_type": "markdown",
   "metadata": {
    "cell_style": "split",
    "slideshow": {
     "slide_type": "fragment"
    }
   },
   "source": [
    "Evaluate on test set."
   ]
  },
  {
   "cell_type": "code",
   "execution_count": 30,
   "metadata": {
    "cell_style": "split",
    "slideshow": {
     "slide_type": "fragment"
    }
   },
   "outputs": [
    {
     "data": {
      "text/plain": [
       "[0.23643393822610378, 0.9398]"
      ]
     },
     "execution_count": 30,
     "metadata": {},
     "output_type": "execute_result"
    }
   ],
   "source": [
    "model.evaluate(x_test, y_tt_one_hot, verbose =0)"
   ]
  },
  {
   "cell_type": "markdown",
   "metadata": {
    "slideshow": {
     "slide_type": "slide"
    }
   },
   "source": [
    "#### Dropout regularization in conjunction with L2:\n",
    "\n",
    "- can be used to train very deep networks\n",
    "- model complex relationships without overfitting\n",
    "- works best in these cases with a lot of data"
   ]
  },
  {
   "cell_type": "markdown",
   "metadata": {
    "slideshow": {
     "slide_type": "slide"
    }
   },
   "source": [
    "Next up:\n",
    "- doing much better with a more suitable network architecture\n",
    "- Convolutional Neural Networks (CNNs)"
   ]
  }
 ],
 "metadata": {
  "celltoolbar": "Slideshow",
  "colab": {
   "collapsed_sections": [],
   "name": "intro-to-keras.ipynb",
   "provenance": []
  },
  "kernelspec": {
   "display_name": "dplearn",
   "language": "python",
   "name": "dplearn"
  },
  "language_info": {
   "codemirror_mode": {
    "name": "ipython",
    "version": 3
   },
   "file_extension": ".py",
   "mimetype": "text/x-python",
   "name": "python",
   "nbconvert_exporter": "python",
   "pygments_lexer": "ipython3",
   "version": "3.7.5"
  }
 },
 "nbformat": 4,
 "nbformat_minor": 4
}
