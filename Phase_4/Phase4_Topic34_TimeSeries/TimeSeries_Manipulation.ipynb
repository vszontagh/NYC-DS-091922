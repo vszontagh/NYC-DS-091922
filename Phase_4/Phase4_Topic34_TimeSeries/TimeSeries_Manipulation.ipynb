{
 "cells": [
  {
   "cell_type": "markdown",
   "id": "4e28a83d",
   "metadata": {
    "slideshow": {
     "slide_type": "slide"
    }
   },
   "source": [
    "<div style=\"color:white;\n",
    "           display:fill;\n",
    "           border-radius:5px;\n",
    "           background-color:#5642C5;\n",
    "           font-size:200%;\n",
    "           font-family:Arial;letter-spacing:0.5px\">\n",
    "\n",
    "<p width = 20%, style=\"padding: 10px;\n",
    "              color:white;\">\n",
    "Time Series: Data Manipulation\n",
    "              \n",
    "</p>\n",
    "</div>\n",
    "\n",
    "Data Science Cohort Live NYC Nov 2022\n",
    "<p>Phase 4: Topic 34</p>\n",
    "<br>\n",
    "<br>\n",
    "\n",
    "<div align = \"right\">\n",
    "<img src=\"Images/flatiron-school-logo.png\" align = \"right\" width=\"200\"/>\n",
    "</div>\n",
    "    \n",
    "    "
   ]
  },
  {
   "cell_type": "code",
   "execution_count": null,
   "id": "98501a11",
   "metadata": {
    "cell_style": "center",
    "slideshow": {
     "slide_type": "slide"
    }
   },
   "outputs": [],
   "source": [
    "import pandas as pd\n",
    "import numpy as np\n",
    "import matplotlib.pyplot as plt\n",
    "energy_data = pd.read_csv('data/energydata_complete.csv', parse_dates = True, index_col = 'date')"
   ]
  },
  {
   "cell_type": "markdown",
   "id": "d031fb37",
   "metadata": {
    "slideshow": {
     "slide_type": "slide"
    }
   },
   "source": [
    "#  Objectives\n",
    "- Understand the use case for time series data\n",
    "- Manipulate datetime objects\n",
    "- Understand different resampling techniques\n",
    "- Visualization for time series data"
   ]
  },
  {
   "cell_type": "markdown",
   "id": "6e0c1aca",
   "metadata": {
    "cell_style": "center",
    "slideshow": {
     "slide_type": "slide"
    }
   },
   "source": [
    "Time series:\n",
    "\n",
    "- set of data as a function of / indexed by time"
   ]
  },
  {
   "cell_type": "markdown",
   "id": "9add861c",
   "metadata": {
    "cell_style": "split",
    "slideshow": {
     "slide_type": "slide"
    }
   },
   "source": [
    "Energy expenditure and sensor monitoring for a household:\n",
    "\n",
    "<img src = \"Images/householdenergy.jpg\">"
   ]
  },
  {
   "cell_type": "code",
   "execution_count": null,
   "id": "98bba121",
   "metadata": {
    "cell_style": "split",
    "slideshow": {
     "slide_type": "fragment"
    }
   },
   "outputs": [],
   "source": [
    "fig, ax = plt.subplots()\n",
    "energy_data.plot(y = 'Appliances', ax = ax, label = 'House1')\n",
    "ax.set_ylabel('Total Appliance Usage (Watt-hours)')\n",
    "plt.show()"
   ]
  },
  {
   "cell_type": "markdown",
   "id": "eb68b8bf",
   "metadata": {
    "cell_style": "split",
    "slideshow": {
     "slide_type": "fragment"
    }
   },
   "source": [
    "**Time series forecasting** \n",
    "\n",
    "Energy usage forecasting in aggregate and across sets of devices:\n",
    "\n",
    "*Projected energy usage for next month?*"
   ]
  },
  {
   "cell_type": "markdown",
   "id": "ea4d20ad",
   "metadata": {
    "cell_style": "split",
    "slideshow": {
     "slide_type": "fragment"
    }
   },
   "source": [
    "- consumer end: smart house optimization\n",
    "- business end: how many power plants should be open / capacity?"
   ]
  },
  {
   "cell_type": "markdown",
   "id": "bc91b548",
   "metadata": {
    "cell_style": "center",
    "slideshow": {
     "slide_type": "slide"
    }
   },
   "source": [
    "**Time series classification**\n",
    "\n",
    "- Based on EEG voltage data: seizure or eye-lid opening?\n",
    "- Use temporal features and past-future dependencies for trace class recognition"
   ]
  },
  {
   "cell_type": "markdown",
   "id": "f92ff8e3",
   "metadata": {
    "slideshow": {
     "slide_type": "slide"
    }
   },
   "source": [
    "<img src = \"images/x4.png\" >"
   ]
  },
  {
   "cell_type": "markdown",
   "id": "b1493ea4",
   "metadata": {
    "slideshow": {
     "slide_type": "slide"
    }
   },
   "source": [
    "We'll be focusing in next series of lectures on univariate time series forecasting:\n",
    "- given a time series of a single quantity\n",
    "- predict future values of quantity as function of time"
   ]
  },
  {
   "cell_type": "markdown",
   "id": "6e3c9050",
   "metadata": {
    "slideshow": {
     "slide_type": "fragment"
    }
   },
   "source": [
    "But there are many, many other types of tasks involving time-series data:\n",
    "\n",
    "- real-time state prediction\n",
    "- machine signal encoding-decoding\n",
    "- etc."
   ]
  },
  {
   "cell_type": "markdown",
   "id": "9f22d2c0",
   "metadata": {
    "slideshow": {
     "slide_type": "slide"
    }
   },
   "source": [
    "Before any modeling:\n",
    "- need to understand how to manipulate Python datastructures involving time series\n",
    "- common and important time series data manipulation operations"
   ]
  },
  {
   "cell_type": "markdown",
   "id": "569c57f8",
   "metadata": {
    "cell_style": "split",
    "slideshow": {
     "slide_type": "subslide"
    }
   },
   "source": [
    "Time series have a notion of ordering:\n",
    "- past comes before future\n",
    "- indexing reflects this temporal ordering"
   ]
  },
  {
   "cell_type": "markdown",
   "id": "71dc52a1",
   "metadata": {
    "cell_style": "split",
    "slideshow": {
     "slide_type": "fragment"
    }
   },
   "source": [
    "Need special kind of indexing and data type to deal with this:\n",
    "\n",
    "- datetime objects\n",
    "- pandas DateTimeIndex\n",
    "\n",
    "Special methods associated with these."
   ]
  },
  {
   "cell_type": "markdown",
   "id": "9b8366ab",
   "metadata": {
    "cell_style": "center",
    "slideshow": {
     "slide_type": "slide"
    }
   },
   "source": [
    "Let's have a closer look at the house energy usage dataset:"
   ]
  },
  {
   "cell_type": "code",
   "execution_count": null,
   "id": "724f7412",
   "metadata": {
    "cell_style": "center",
    "slideshow": {
     "slide_type": "slide"
    }
   },
   "outputs": [],
   "source": [
    "energy_data_df = pd.read_csv('data/energy_expenditure.csv', index_col=[0])"
   ]
  },
  {
   "cell_type": "code",
   "execution_count": null,
   "id": "700283eb",
   "metadata": {
    "cell_style": "split",
    "slideshow": {
     "slide_type": "fragment"
    }
   },
   "outputs": [],
   "source": [
    "energy_data_df.info()"
   ]
  },
  {
   "cell_type": "markdown",
   "id": "c8d3def4",
   "metadata": {
    "cell_style": "split",
    "slideshow": {
     "slide_type": "fragment"
    }
   },
   "source": [
    "Time series data:\n",
    "- appliance energy usage\n",
    "- light energy usage"
   ]
  },
  {
   "cell_type": "markdown",
   "id": "240b8434",
   "metadata": {
    "cell_style": "center",
    "slideshow": {
     "slide_type": "slide"
    }
   },
   "source": [
    "A look at the dataframe:"
   ]
  },
  {
   "cell_type": "code",
   "execution_count": null,
   "id": "a846f021",
   "metadata": {
    "cell_style": "split",
    "slideshow": {
     "slide_type": "fragment"
    }
   },
   "outputs": [],
   "source": [
    "energy_data_df.head()"
   ]
  },
  {
   "cell_type": "markdown",
   "id": "5fcbd0a1",
   "metadata": {
    "cell_style": "split",
    "slideshow": {
     "slide_type": "fragment"
    }
   },
   "source": [
    "The date column is a string"
   ]
  },
  {
   "cell_type": "code",
   "execution_count": null,
   "id": "998137bf",
   "metadata": {
    "cell_style": "split",
    "slideshow": {
     "slide_type": "-"
    }
   },
   "outputs": [],
   "source": [
    "print(type(energy_data_df.loc[0, 'date']))\n",
    "energy_data_df.loc[0, 'date']"
   ]
  },
  {
   "cell_type": "markdown",
   "id": "9f31240b",
   "metadata": {
    "slideshow": {
     "slide_type": "slide"
    }
   },
   "source": [
    "Incovenient for many reasons:\n",
    "- No implicit understanding of the different components of string \n",
    "- No notion of date/time ordering understood between the strings\n",
    "\n",
    "**Want to convert column to column of datetime objects**"
   ]
  },
  {
   "cell_type": "markdown",
   "id": "3d139bea",
   "metadata": {
    "slideshow": {
     "slide_type": "slide"
    }
   },
   "source": [
    "#### Converting column to datetime:\n",
    "- pd.to_datetime()"
   ]
  },
  {
   "cell_type": "code",
   "execution_count": null,
   "id": "cc674782",
   "metadata": {
    "cell_style": "split",
    "slideshow": {
     "slide_type": "-"
    }
   },
   "outputs": [],
   "source": [
    "energy_data_df['date']"
   ]
  },
  {
   "cell_type": "code",
   "execution_count": null,
   "id": "8a2a2efc",
   "metadata": {
    "cell_style": "split",
    "slideshow": {
     "slide_type": "fragment"
    }
   },
   "outputs": [],
   "source": [
    "date_asdt = pd.to_datetime(energy_data_df['date'])\n",
    "date_asdt"
   ]
  },
  {
   "cell_type": "markdown",
   "id": "d75e681c",
   "metadata": {
    "slideshow": {
     "slide_type": "fragment"
    }
   },
   "source": [
    "Intelligently parses string and returns a pandas datetime column\n",
    "- works for many common string representations of date times"
   ]
  },
  {
   "cell_type": "markdown",
   "id": "3ade440d",
   "metadata": {
    "slideshow": {
     "slide_type": "slide"
    }
   },
   "source": [
    "Looking at a single element:"
   ]
  },
  {
   "cell_type": "code",
   "execution_count": null,
   "id": "7127d7a5",
   "metadata": {
    "cell_style": "split",
    "slideshow": {
     "slide_type": "fragment"
    }
   },
   "outputs": [],
   "source": [
    "datetime0 = date_asdt[0]\n",
    "datetime0"
   ]
  },
  {
   "cell_type": "markdown",
   "id": "4fe58d98",
   "metadata": {
    "cell_style": "split",
    "slideshow": {
     "slide_type": "-"
    }
   },
   "source": [
    "Timestamp object attributes for extracting parts of datetime:"
   ]
  },
  {
   "cell_type": "code",
   "execution_count": null,
   "id": "49feed5a",
   "metadata": {
    "cell_style": "split",
    "slideshow": {
     "slide_type": "-"
    }
   },
   "outputs": [],
   "source": [
    "print(datetime0.year)\n",
    "print(datetime0.month)\n",
    "print(datetime0.day)"
   ]
  },
  {
   "cell_type": "markdown",
   "id": "a0024444",
   "metadata": {
    "cell_style": "split",
    "slideshow": {
     "slide_type": "fragment"
    }
   },
   "source": [
    "Extracting other components:\n",
    "- .hour\n",
    "- .minute\n",
    "- .second\n",
    "\n",
    "Can go all the way to nanoseconds if you like"
   ]
  },
  {
   "cell_type": "markdown",
   "id": "2f4d9591",
   "metadata": {
    "slideshow": {
     "slide_type": "slide"
    }
   },
   "source": [
    "Some nifty methods:"
   ]
  },
  {
   "cell_type": "code",
   "execution_count": null,
   "id": "f1aab355",
   "metadata": {
    "slideshow": {
     "slide_type": "fragment"
    }
   },
   "outputs": [],
   "source": [
    "datetime0.day_name() # get the name of the day of the week"
   ]
  },
  {
   "cell_type": "code",
   "execution_count": null,
   "id": "a22286e7",
   "metadata": {
    "slideshow": {
     "slide_type": "fragment"
    }
   },
   "outputs": [],
   "source": [
    "datetime0.month_name() # get the name of the day of the week"
   ]
  },
  {
   "cell_type": "markdown",
   "id": "0b4dd8a9",
   "metadata": {
    "slideshow": {
     "slide_type": "slide"
    }
   },
   "source": [
    "#### Time-zone awareness\n",
    "- .tz attribute\n",
    "- .tz_localize"
   ]
  },
  {
   "cell_type": "markdown",
   "id": "35787b38",
   "metadata": {
    "cell_style": "center",
    "slideshow": {
     "slide_type": "fragment"
    }
   },
   "source": [
    "- pandas TimeStamp() objects can be made timezone aware\n",
    "- this functionality useful when comparing time series data:\n",
    "    - taken contemporaneously across different locations"
   ]
  },
  {
   "cell_type": "markdown",
   "id": "02dd0bdf",
   "metadata": {
    "slideshow": {
     "slide_type": "slide"
    }
   },
   "source": [
    "Right now, not time-zone aware:\n",
    "- House is in Belgium"
   ]
  },
  {
   "cell_type": "code",
   "execution_count": null,
   "id": "49c92cad",
   "metadata": {
    "cell_style": "split",
    "slideshow": {
     "slide_type": "fragment"
    }
   },
   "outputs": [],
   "source": [
    "dt0_timeaware = datetime0.tz_localize('Europe/Brussels')\n",
    "dt0_timeaware"
   ]
  },
  {
   "cell_type": "markdown",
   "id": "f41e601e",
   "metadata": {
    "cell_style": "split",
    "slideshow": {
     "slide_type": "fragment"
    }
   },
   "source": [
    "Getting a list of useful timezone strings:"
   ]
  },
  {
   "cell_type": "code",
   "execution_count": null,
   "id": "e6ea2843",
   "metadata": {
    "cell_style": "split",
    "scrolled": true,
    "slideshow": {
     "slide_type": "-"
    }
   },
   "outputs": [],
   "source": [
    "from pytz import common_timezones\n",
    "common_timezones"
   ]
  },
  {
   "cell_type": "markdown",
   "id": "9c91672b",
   "metadata": {
    "slideshow": {
     "slide_type": "slide"
    }
   },
   "source": [
    "We can immediately take our datetime and convert to:\n",
    "- US/Eastern time"
   ]
  },
  {
   "cell_type": "code",
   "execution_count": null,
   "id": "e2b19d93",
   "metadata": {
    "cell_style": "split",
    "slideshow": {
     "slide_type": "-"
    }
   },
   "outputs": [],
   "source": [
    "dt0_timeaware"
   ]
  },
  {
   "cell_type": "code",
   "execution_count": null,
   "id": "2a7380de",
   "metadata": {
    "cell_style": "split",
    "slideshow": {
     "slide_type": "-"
    }
   },
   "outputs": [],
   "source": [
    "dt0_timeaware.tz_convert('US/Eastern')"
   ]
  },
  {
   "cell_type": "markdown",
   "id": "a77b50b5",
   "metadata": {
    "cell_style": "center",
    "slideshow": {
     "slide_type": "slide"
    }
   },
   "source": [
    "Calculating the time difference between the two occupancy loggings:"
   ]
  },
  {
   "cell_type": "code",
   "execution_count": null,
   "id": "aa559a22",
   "metadata": {
    "cell_style": "split",
    "slideshow": {
     "slide_type": "-"
    }
   },
   "outputs": [],
   "source": [
    "date_asdt"
   ]
  },
  {
   "cell_type": "code",
   "execution_count": null,
   "id": "469c166d",
   "metadata": {
    "cell_style": "split",
    "slideshow": {
     "slide_type": "fragment"
    }
   },
   "outputs": [],
   "source": [
    "time_diff = date_asdt[19730] - date_asdt[0]\n",
    "time_diff"
   ]
  },
  {
   "cell_type": "markdown",
   "id": "b53fbfcf",
   "metadata": {
    "cell_style": "split",
    "slideshow": {
     "slide_type": "-"
    }
   },
   "source": [
    "Outputs a TimeDelta object:\n",
    "- encodes time difference in useful representation"
   ]
  },
  {
   "cell_type": "markdown",
   "id": "58a3b1e0",
   "metadata": {
    "slideshow": {
     "slide_type": "slide"
    }
   },
   "source": [
    "#### Useful Timedelta methods/attributes"
   ]
  },
  {
   "cell_type": "markdown",
   "id": "91af749f",
   "metadata": {
    "slideshow": {
     "slide_type": "fragment"
    }
   },
   "source": [
    "Getting components in time day/hour/minutes/seconds/... representation"
   ]
  },
  {
   "cell_type": "code",
   "execution_count": null,
   "id": "17c7e107",
   "metadata": {
    "cell_style": "split",
    "slideshow": {
     "slide_type": "-"
    }
   },
   "outputs": [],
   "source": [
    "time_diff.components\n"
   ]
  },
  {
   "cell_type": "code",
   "execution_count": null,
   "id": "8df8adb1",
   "metadata": {
    "cell_style": "split",
    "slideshow": {
     "slide_type": "-"
    }
   },
   "outputs": [],
   "source": [
    "time_diff.components.minutes"
   ]
  },
  {
   "cell_type": "markdown",
   "id": "27d771b9",
   "metadata": {
    "slideshow": {
     "slide_type": "slide"
    }
   },
   "source": [
    "May be useful to convert to difference in units of seconds or milliseconds:"
   ]
  },
  {
   "cell_type": "code",
   "execution_count": null,
   "id": "10a2581a",
   "metadata": {
    "cell_style": "split",
    "slideshow": {
     "slide_type": "fragment"
    }
   },
   "outputs": [],
   "source": [
    "print(time_diff.days)\n",
    "print(time_diff.total_seconds())"
   ]
  },
  {
   "cell_type": "markdown",
   "id": "cebbd2ce",
   "metadata": {
    "cell_style": "split",
    "slideshow": {
     "slide_type": "fragment"
    }
   },
   "source": [
    "Nano seconds:"
   ]
  },
  {
   "cell_type": "code",
   "execution_count": null,
   "id": "81e6c7d5",
   "metadata": {
    "cell_style": "split",
    "slideshow": {
     "slide_type": "-"
    }
   },
   "outputs": [],
   "source": [
    "# time difference in nanoseconds\n",
    "time_diff.value"
   ]
  },
  {
   "cell_type": "markdown",
   "id": "4d90566b",
   "metadata": {
    "slideshow": {
     "slide_type": "slide"
    }
   },
   "source": [
    "#### Vectorized datetime operations in Pandas Series"
   ]
  },
  {
   "cell_type": "markdown",
   "id": "6a86dbc4",
   "metadata": {
    "cell_style": "center",
    "slideshow": {
     "slide_type": "slide"
    }
   },
   "source": [
    "All operations used on pandas TimeStamps: can be vectorized on pandas datetime Series\n",
    "- Series.dt.attribute\n",
    "- Series.dt.method()\n"
   ]
  },
  {
   "cell_type": "code",
   "execution_count": null,
   "id": "fca61b8f",
   "metadata": {
    "cell_style": "split",
    "slideshow": {
     "slide_type": "fragment"
    }
   },
   "outputs": [],
   "source": [
    "date_asdt"
   ]
  },
  {
   "cell_type": "code",
   "execution_count": null,
   "id": "b3bb84c7",
   "metadata": {
    "cell_style": "split",
    "slideshow": {
     "slide_type": "-"
    }
   },
   "outputs": [],
   "source": [
    "date_asdt.dt.year"
   ]
  },
  {
   "cell_type": "code",
   "execution_count": null,
   "id": "fa6c0feb",
   "metadata": {
    "cell_style": "split",
    "slideshow": {
     "slide_type": "slide"
    }
   },
   "outputs": [],
   "source": [
    "date_asdt.dt.month"
   ]
  },
  {
   "cell_type": "code",
   "execution_count": null,
   "id": "aa65cb5f",
   "metadata": {
    "cell_style": "split"
   },
   "outputs": [],
   "source": [
    "date_asdt.dt.day"
   ]
  },
  {
   "cell_type": "markdown",
   "id": "7ede827b",
   "metadata": {
    "slideshow": {
     "slide_type": "slide"
    }
   },
   "source": [
    "#### Setting datetime columns as index of Series/DataFrame"
   ]
  },
  {
   "cell_type": "markdown",
   "id": "89d59da6",
   "metadata": {},
   "source": [
    "First check the data type:"
   ]
  },
  {
   "cell_type": "code",
   "execution_count": null,
   "id": "9dda0524",
   "metadata": {
    "cell_style": "split"
   },
   "outputs": [],
   "source": [
    "energy_data_df.date"
   ]
  },
  {
   "cell_type": "code",
   "execution_count": null,
   "id": "7664a90e",
   "metadata": {
    "cell_style": "split"
   },
   "outputs": [],
   "source": [
    "energy_data_df.date = pd.to_datetime(\n",
    "    energy_data_df.date)\n",
    "energy_data_df.date"
   ]
  },
  {
   "cell_type": "markdown",
   "id": "bbe2e442",
   "metadata": {
    "slideshow": {
     "slide_type": "slide"
    }
   },
   "source": [
    "Setting the index"
   ]
  },
  {
   "cell_type": "code",
   "execution_count": null,
   "id": "f653d81b",
   "metadata": {
    "cell_style": "split",
    "slideshow": {
     "slide_type": "fragment"
    }
   },
   "outputs": [],
   "source": [
    "energy_data = energy_data_df.set_index('date')\n",
    "energy_data.head()"
   ]
  },
  {
   "cell_type": "markdown",
   "id": "761169cb",
   "metadata": {
    "cell_style": "split",
    "slideshow": {
     "slide_type": "fragment"
    }
   },
   "source": [
    "Checking index type"
   ]
  },
  {
   "cell_type": "code",
   "execution_count": null,
   "id": "63cfc8d6",
   "metadata": {
    "cell_style": "split",
    "slideshow": {
     "slide_type": "-"
    }
   },
   "outputs": [],
   "source": [
    "energy_data.index"
   ]
  },
  {
   "cell_type": "markdown",
   "id": "92783020",
   "metadata": {
    "cell_style": "split",
    "slideshow": {
     "slide_type": "slide"
    }
   },
   "source": [
    "Selecting the column, yields a series:\n",
    "- indexed by time"
   ]
  },
  {
   "cell_type": "code",
   "execution_count": null,
   "id": "c070d697",
   "metadata": {
    "cell_style": "split",
    "slideshow": {
     "slide_type": "-"
    }
   },
   "outputs": [],
   "source": [
    "appliance_series = energy_data['Appliances']\n",
    "appliance_series"
   ]
  },
  {
   "cell_type": "markdown",
   "id": "b568bdd0",
   "metadata": {
    "slideshow": {
     "slide_type": "fragment"
    }
   },
   "source": [
    "We can do some nifty things now."
   ]
  },
  {
   "cell_type": "markdown",
   "id": "aab56a12",
   "metadata": {
    "slideshow": {
     "slide_type": "slide"
    }
   },
   "source": [
    "#### DataFrame selection via datetime index"
   ]
  },
  {
   "cell_type": "markdown",
   "id": "c16a6f8a",
   "metadata": {
    "slideshow": {
     "slide_type": "fragment"
    }
   },
   "source": [
    "Getting all timestamps on a given day"
   ]
  },
  {
   "cell_type": "code",
   "execution_count": null,
   "id": "b8ba4ec4",
   "metadata": {
    "cell_style": "split",
    "slideshow": {
     "slide_type": "-"
    }
   },
   "outputs": [],
   "source": [
    "appliance_series.loc['2016-03-04']"
   ]
  },
  {
   "cell_type": "markdown",
   "id": "deca1987",
   "metadata": {
    "cell_style": "center",
    "slideshow": {
     "slide_type": "slide"
    }
   },
   "source": [
    "Using partial string addressing:\n",
    "- Get all times on this day from 8-9 AM    "
   ]
  },
  {
   "cell_type": "code",
   "execution_count": null,
   "id": "7c5e3c43",
   "metadata": {
    "cell_style": "center",
    "slideshow": {
     "slide_type": "fragment"
    }
   },
   "outputs": [],
   "source": [
    "appliance_series.loc['2016-03-04 08']"
   ]
  },
  {
   "cell_type": "markdown",
   "id": "1691742c",
   "metadata": {
    "slideshow": {
     "slide_type": "slide"
    }
   },
   "source": [
    "Getting all timestamps for a given month: April"
   ]
  },
  {
   "cell_type": "code",
   "execution_count": null,
   "id": "13180bb7",
   "metadata": {
    "cell_style": "split",
    "slideshow": {
     "slide_type": "fragment"
    }
   },
   "outputs": [],
   "source": [
    "appliance_series.loc['2016-04']"
   ]
  },
  {
   "cell_type": "markdown",
   "id": "c1638d23",
   "metadata": {
    "cell_style": "split",
    "slideshow": {
     "slide_type": "-"
    }
   },
   "source": [
    "Same idea with partial string selection"
   ]
  },
  {
   "cell_type": "markdown",
   "id": "820d556a",
   "metadata": {
    "slideshow": {
     "slide_type": "slide"
    }
   },
   "source": [
    "Recognizes named strings as well:"
   ]
  },
  {
   "cell_type": "code",
   "execution_count": null,
   "id": "d1793315",
   "metadata": {
    "cell_style": "split",
    "slideshow": {
     "slide_type": "fragment"
    }
   },
   "outputs": [],
   "source": [
    "appliance_series.loc['April 2016']"
   ]
  },
  {
   "cell_type": "code",
   "execution_count": null,
   "id": "a504618f",
   "metadata": {
    "cell_style": "split",
    "slideshow": {
     "slide_type": "-"
    }
   },
   "outputs": [],
   "source": [
    "appliance_series.loc['April 3, 2016']"
   ]
  },
  {
   "cell_type": "markdown",
   "id": "b5e9e769",
   "metadata": {
    "slideshow": {
     "slide_type": "slide"
    }
   },
   "source": [
    "**Slicing pandas Dataframes and Series using datetime ranges**"
   ]
  },
  {
   "cell_type": "markdown",
   "id": "ac0fe3dd",
   "metadata": {
    "slideshow": {
     "slide_type": "fragment"
    }
   },
   "source": [
    "- The datetime index allows for slicing dataframes and Series in datetime ranges"
   ]
  },
  {
   "cell_type": "code",
   "execution_count": null,
   "id": "404920a4",
   "metadata": {
    "cell_style": "center",
    "scrolled": false,
    "slideshow": {
     "slide_type": "-"
    }
   },
   "outputs": [],
   "source": [
    "appliance_series.loc['2016-4-04':'2016-4-08' ]"
   ]
  },
  {
   "cell_type": "markdown",
   "id": "31c1c31c",
   "metadata": {
    "slideshow": {
     "slide_type": "slide"
    }
   },
   "source": [
    "Partial slicing:\n",
    "    \n",
    "- Can slice on different time scales:\n",
    "    - e.g., slicing between years\n",
    "    - slicing between months, etc"
   ]
  },
  {
   "cell_type": "code",
   "execution_count": null,
   "id": "756d06ae",
   "metadata": {
    "slideshow": {
     "slide_type": "-"
    }
   },
   "outputs": [],
   "source": [
    "#getting appliance energy usage for january and february\n",
    "janfeb_appliance = appliance_series.loc['2016-1': '2016-2']\n",
    "janfeb_appliance"
   ]
  },
  {
   "cell_type": "markdown",
   "id": "98665968",
   "metadata": {
    "slideshow": {
     "slide_type": "slide"
    }
   },
   "source": [
    "We may want to make our date-time index, time-zone aware:\n",
    "- first access the DateTimeIndex (a Series)\n",
    "- use vectorized datetime method .tz_localize()"
   ]
  },
  {
   "cell_type": "code",
   "execution_count": null,
   "id": "402bf051",
   "metadata": {
    "cell_style": "center",
    "slideshow": {
     "slide_type": "fragment"
    }
   },
   "outputs": [],
   "source": [
    "janfeb_appliance = janfeb_appliance.tz_localize('Europe/Brussels')"
   ]
  },
  {
   "cell_type": "code",
   "execution_count": null,
   "id": "a3c124c8",
   "metadata": {
    "cell_style": "split",
    "slideshow": {
     "slide_type": "fragment"
    }
   },
   "outputs": [],
   "source": [
    "janfeb_appliance"
   ]
  },
  {
   "cell_type": "code",
   "execution_count": null,
   "id": "81809104",
   "metadata": {
    "cell_style": "split",
    "slideshow": {
     "slide_type": "fragment"
    }
   },
   "outputs": [],
   "source": [
    "janfeb_appliance.index"
   ]
  },
  {
   "cell_type": "markdown",
   "id": "d86868a8",
   "metadata": {
    "slideshow": {
     "slide_type": "slide"
    }
   },
   "source": [
    "Your name is Adeel, a data analyst working for a tech/ customer service contractor in Bangalore, India. \n",
    "\n",
    "- The smart utility company in Brussels has outsourced certain data tasks as well as customer service issues to your company. \n",
    "- Need data for Jan/Feb reindexed in Bangalore time to join with customer service database from your call center."
   ]
  },
  {
   "cell_type": "code",
   "execution_count": null,
   "id": "e62eee5f",
   "metadata": {
    "cell_style": "split",
    "slideshow": {
     "slide_type": "fragment"
    }
   },
   "outputs": [],
   "source": [
    "# time in India based on pytz timezones\n",
    "janfeb_appliance.tz_convert('Asia/Kolkata')"
   ]
  },
  {
   "cell_type": "code",
   "execution_count": null,
   "id": "9ab47295",
   "metadata": {
    "cell_style": "split",
    "slideshow": {
     "slide_type": "fragment"
    }
   },
   "outputs": [],
   "source": [
    "# time in Brussels\n",
    "janfeb_appliance"
   ]
  },
  {
   "cell_type": "markdown",
   "id": "a90df3f4",
   "metadata": {
    "slideshow": {
     "slide_type": "slide"
    }
   },
   "source": [
    "Plotting the time series"
   ]
  },
  {
   "cell_type": "code",
   "execution_count": null,
   "id": "d1c40b89",
   "metadata": {
    "slideshow": {
     "slide_type": "fragment"
    }
   },
   "outputs": [],
   "source": [
    "data_subset = appliance_series.loc['2016-4-04':'2016-4-11']\n",
    "data_subset.plot(y = 'Occupancy');"
   ]
  },
  {
   "cell_type": "markdown",
   "id": "550bd404",
   "metadata": {
    "cell_style": "split",
    "slideshow": {
     "slide_type": "fragment"
    }
   },
   "source": [
    "There is a lot of data here:\n",
    "- Frequency of sampling: every 10 minutes.\n",
    "- Maybe for a specific task: need points only every hour"
   ]
  },
  {
   "cell_type": "markdown",
   "id": "c80a290d",
   "metadata": {
    "cell_style": "split",
    "slideshow": {
     "slide_type": "fragment"
    }
   },
   "source": [
    "- E.g., another time series only has hourly samples. Want to compare time series.\n",
    "- Too much data: hard to store and already have enough data when sampled every hour."
   ]
  },
  {
   "cell_type": "markdown",
   "id": "7550822c",
   "metadata": {
    "slideshow": {
     "slide_type": "slide"
    }
   },
   "source": [
    "#### Resampling "
   ]
  },
  {
   "cell_type": "markdown",
   "id": "1fa476d3",
   "metadata": {},
   "source": [
    "> **Resampling** allows us to convert the time series into a particular frequency\n",
    "\n",
    "https://pandas.pydata.org/pandas-docs/stable/reference/api/pandas.DataFrame.resample.html\n",
    "\n",
    "https://pandas.pydata.org/pandas-docs/stable/user_guide/timeseries.html#resampling"
   ]
  },
  {
   "cell_type": "markdown",
   "id": "7fcde450",
   "metadata": {},
   "source": [
    "**To upsample** is to increase the frequency of the data of interest.  \n",
    "**To downsample** is to decrease the frequency of the data of interest.\n"
   ]
  },
  {
   "cell_type": "markdown",
   "id": "493aab89",
   "metadata": {
    "cell_style": "split",
    "slideshow": {
     "slide_type": "slide"
    }
   },
   "source": [
    "**Down-sampling**\n",
    "\n",
    "- series and dateframes indexed by datetime can be resampled\n",
    "- .resample(): takes in string argument for sampling frequency"
   ]
  },
  {
   "cell_type": "markdown",
   "id": "4b6db160",
   "metadata": {
    "cell_style": "split",
    "slideshow": {
     "slide_type": "fragment"
    }
   },
   "source": [
    "- '1H': every 1 hour samples\n",
    "- '2H': every 2 hours, etc\n",
    "- 'T': minute frequency\n",
    "- 'S' : second frequency\n",
    "- 'D': daily\n",
    "- 'W': weekly\n",
    "- 'M': monthly\n",
    "\n",
    "For more frequencies:\n",
    "\n",
    "https://pandas.pydata.org/pandas-docs/stable/user_guide/timeseries.html#offset-aliases"
   ]
  },
  {
   "cell_type": "code",
   "execution_count": null,
   "id": "07f868f7",
   "metadata": {
    "cell_style": "center",
    "slideshow": {
     "slide_type": "slide"
    }
   },
   "outputs": [],
   "source": [
    "# hourly samples: downsamping from every 10 minutes\n",
    "data_subset.resample('1H')"
   ]
  },
  {
   "cell_type": "markdown",
   "id": "10157345",
   "metadata": {
    "cell_style": "split",
    "slideshow": {
     "slide_type": "fragment"
    }
   },
   "source": [
    "Creates a resampler object:\n",
    "- with downsampling need to aggregate\n",
    "- aggregates on data points within one hour interval"
   ]
  },
  {
   "cell_type": "markdown",
   "id": "b8d3c12b",
   "metadata": {
    "cell_style": "split",
    "slideshow": {
     "slide_type": "fragment"
    }
   },
   "source": [
    "Aggregating with mean via chaining:"
   ]
  },
  {
   "cell_type": "code",
   "execution_count": null,
   "id": "9e69d001",
   "metadata": {
    "cell_style": "split",
    "slideshow": {
     "slide_type": "-"
    }
   },
   "outputs": [],
   "source": [
    "# time series of hourly mean of appliance usage\n",
    "data_subset_downsamp = \\\n",
    "data_subset.resample('1H').mean()"
   ]
  },
  {
   "cell_type": "markdown",
   "id": "86693175",
   "metadata": {
    "slideshow": {
     "slide_type": "slide"
    }
   },
   "source": [
    "The usual aggregation functions are available:\n",
    "- exactly same as with groupby\n",
    "- .mean(), .std(), .median(). etc\n",
    "- .agg(func) for customized aggregation"
   ]
  },
  {
   "cell_type": "markdown",
   "id": "7397d116",
   "metadata": {
    "slideshow": {
     "slide_type": "slide"
    }
   },
   "source": [
    "Comparing the downsampled and original data"
   ]
  },
  {
   "cell_type": "code",
   "execution_count": null,
   "id": "197a536e",
   "metadata": {
    "cell_style": "split",
    "slideshow": {
     "slide_type": "slide"
    }
   },
   "outputs": [],
   "source": [
    "data_subset_downsamp"
   ]
  },
  {
   "cell_type": "code",
   "execution_count": null,
   "id": "8441aabd",
   "metadata": {
    "cell_style": "split",
    "slideshow": {
     "slide_type": "fragment"
    }
   },
   "outputs": [],
   "source": [
    "data_subset"
   ]
  },
  {
   "cell_type": "markdown",
   "id": "782688f4",
   "metadata": {
    "slideshow": {
     "slide_type": "slide"
    }
   },
   "source": [
    "Plotting the data of the downsampled data vs. actual data:"
   ]
  },
  {
   "cell_type": "code",
   "execution_count": null,
   "id": "19458789",
   "metadata": {
    "cell_style": "split",
    "slideshow": {
     "slide_type": "slide"
    }
   },
   "outputs": [],
   "source": [
    "# down sampled data\n",
    "data_subset_downsamp.plot();"
   ]
  },
  {
   "cell_type": "code",
   "execution_count": null,
   "id": "f924f886",
   "metadata": {
    "cell_style": "split",
    "slideshow": {
     "slide_type": "fragment"
    }
   },
   "outputs": [],
   "source": [
    "# original data\n",
    "data_subset.plot();"
   ]
  },
  {
   "cell_type": "markdown",
   "id": "42513fe9",
   "metadata": {
    "cell_style": "split",
    "slideshow": {
     "slide_type": "fragment"
    }
   },
   "source": [
    "Reproduces many of the longer term features:\n",
    "- averages out finer spiking as a function of time"
   ]
  },
  {
   "cell_type": "markdown",
   "id": "bac19ef8",
   "metadata": {
    "cell_style": "split",
    "slideshow": {
     "slide_type": "fragment"
    }
   },
   "source": [
    "Be careful when downsampling:\n",
    "- aggregating can throw out useful information\n",
    "- but maybe fine for your use case"
   ]
  },
  {
   "cell_type": "markdown",
   "id": "43b9c504",
   "metadata": {
    "slideshow": {
     "slide_type": "slide"
    }
   },
   "source": [
    "**Upsampling**"
   ]
  },
  {
   "cell_type": "markdown",
   "id": "f0ef6de5",
   "metadata": {
    "slideshow": {
     "slide_type": "-"
    }
   },
   "source": [
    "We may want to know local weather conditions:\n",
    "- local airport has windspeed and temperature data\n",
    "- merge it with energy usage data"
   ]
  },
  {
   "cell_type": "code",
   "execution_count": null,
   "id": "36204c54",
   "metadata": {
    "cell_style": "split",
    "slideshow": {
     "slide_type": "fragment"
    }
   },
   "outputs": [],
   "source": [
    "weather_df = pd.read_csv('data/weather.csv')\n",
    "weather_df.head()\n",
    "\n",
    "weather_df.date = pd.to_datetime(weather_df.date)\n",
    "weather_df.head()"
   ]
  },
  {
   "cell_type": "markdown",
   "id": "baf3a862",
   "metadata": {
    "cell_style": "split",
    "slideshow": {
     "slide_type": "fragment"
    }
   },
   "source": [
    "Problem: \n",
    "- Weather sampled every 30 minutes. \n",
    "- Energy usage data is sampled every 10 mins."
   ]
  },
  {
   "cell_type": "code",
   "execution_count": null,
   "id": "42c78365",
   "metadata": {
    "cell_style": "split",
    "scrolled": false,
    "slideshow": {
     "slide_type": "-"
    }
   },
   "outputs": [],
   "source": [
    "energy_data_df"
   ]
  },
  {
   "cell_type": "markdown",
   "id": "5c4de30f",
   "metadata": {
    "slideshow": {
     "slide_type": "slide"
    }
   },
   "source": [
    "#### Ordered Merges"
   ]
  },
  {
   "cell_type": "markdown",
   "id": "f4ff3184",
   "metadata": {
    "cell_style": "split",
    "slideshow": {
     "slide_type": "slide"
    }
   },
   "source": [
    "First step is to merge the dataset:\n",
    "- merge two dataframes on a date-time ordered column\n",
    "- preserving order of observations"
   ]
  },
  {
   "cell_type": "markdown",
   "id": "f8cee88a",
   "metadata": {
    "cell_style": "split",
    "slideshow": {
     "slide_type": "fragment"
    }
   },
   "source": [
    "Can't do a standard merge:\n",
    "- need ordered merge\n",
    "\n",
    "pandas.merge_ordered(left, right, on=None, left_on=None, right_on=None, left_by=None, how='outer')"
   ]
  },
  {
   "cell_type": "code",
   "execution_count": null,
   "id": "cbf21b22",
   "metadata": {
    "slideshow": {
     "slide_type": "fragment"
    }
   },
   "outputs": [],
   "source": [
    "# columns in each dataframe that are merged on must be ordered\n",
    "# datetime automatically satisfies this\n",
    "combined_data = pd.merge_ordered(energy_data_df, weather_df, on = 'date', how = 'outer') # usually will use outer join\n",
    "combined_data.set_index('date', inplace = True)\n",
    "combined_data.head()"
   ]
  },
  {
   "cell_type": "markdown",
   "id": "f4355afb",
   "metadata": {
    "cell_style": "split",
    "slideshow": {
     "slide_type": "slide"
    }
   },
   "source": [
    "Can downsample energy usage data to 30 min intervals: \n",
    "- but may actually want this data at 10 min intervals.\n"
   ]
  },
  {
   "cell_type": "markdown",
   "id": "23ce0959",
   "metadata": {
    "cell_style": "split",
    "slideshow": {
     "slide_type": "fragment"
    }
   },
   "source": [
    "Can **upsample** weather data to 10 min frequency:\n",
    "- if between every 30 min, expect time series behaves relatively smoothly"
   ]
  },
  {
   "cell_type": "markdown",
   "id": "cdac6c70",
   "metadata": {
    "cell_style": "split",
    "slideshow": {
     "slide_type": "slide"
    }
   },
   "source": [
    "Let's upsample by filling in NaN values. Sequential data has multiple relevant imputation methods:\n",
    "- .ffill() \n",
    "- .bfill()\n",
    "- .interpolate()"
   ]
  },
  {
   "cell_type": "markdown",
   "id": "1207ea3b",
   "metadata": {
    "cell_style": "split",
    "slideshow": {
     "slide_type": "fragment"
    }
   },
   "source": [
    "- Fill series forward from last non-NaN value.\n",
    "- Fill series backwards from last non-NaN value in reverse direction.\n",
    "- Linear (by default) interpolation between non-NaNs"
   ]
  },
  {
   "cell_type": "markdown",
   "id": "efe8ca96",
   "metadata": {
    "cell_style": "center",
    "slideshow": {
     "slide_type": "slide"
    }
   },
   "source": [
    "**.ffill()**\n",
    "\n",
    "Forward fills NaNs from last non-empty value"
   ]
  },
  {
   "cell_type": "code",
   "execution_count": null,
   "id": "c7f91cc4",
   "metadata": {
    "cell_style": "split"
   },
   "outputs": [],
   "source": [
    "combined_data"
   ]
  },
  {
   "cell_type": "code",
   "execution_count": null,
   "id": "79421c5c",
   "metadata": {
    "cell_style": "split"
   },
   "outputs": [],
   "source": [
    "ff = combined_data.ffill()\n",
    "ff"
   ]
  },
  {
   "cell_type": "markdown",
   "id": "8012fdea",
   "metadata": {
    "slideshow": {
     "slide_type": "slide"
    }
   },
   "source": [
    "**.bfill()**\n",
    "\n",
    "Backwards fills from first value non-empty after a sequence of NaNs"
   ]
  },
  {
   "cell_type": "code",
   "execution_count": null,
   "id": "1b20a575",
   "metadata": {
    "cell_style": "split",
    "slideshow": {
     "slide_type": "fragment"
    }
   },
   "outputs": [],
   "source": [
    "combined_data"
   ]
  },
  {
   "cell_type": "code",
   "execution_count": null,
   "id": "7e02cb55",
   "metadata": {
    "cell_style": "split",
    "slideshow": {
     "slide_type": "fragment"
    }
   },
   "outputs": [],
   "source": [
    "combined_data.bfill()"
   ]
  },
  {
   "cell_type": "markdown",
   "id": "746c57d7",
   "metadata": {
    "cell_style": "split",
    "slideshow": {
     "slide_type": "slide"
    }
   },
   "source": [
    "**.interpolate(method= '...')**\n",
    "- interpolates NaNs between two values\n",
    "- can use various specified strategies "
   ]
  },
  {
   "cell_type": "markdown",
   "id": "f15d54e8",
   "metadata": {
    "cell_style": "split",
    "slideshow": {
     "slide_type": "fragment"
    }
   },
   "source": [
    "method\n",
    "\n",
    "- 'linear' (default)\n",
    "- 'spline' \n",
    "- etc."
   ]
  },
  {
   "cell_type": "code",
   "execution_count": null,
   "id": "0cf50975",
   "metadata": {
    "cell_style": "split",
    "slideshow": {
     "slide_type": "slide"
    }
   },
   "outputs": [],
   "source": [
    "combined_data"
   ]
  },
  {
   "cell_type": "code",
   "execution_count": null,
   "id": "7a1f21aa",
   "metadata": {
    "cell_style": "split",
    "slideshow": {
     "slide_type": "fragment"
    }
   },
   "outputs": [],
   "source": [
    "combined_data.interpolate()"
   ]
  },
  {
   "cell_type": "markdown",
   "id": "bdbc995b",
   "metadata": {
    "slideshow": {
     "slide_type": "slide"
    }
   },
   "source": [
    "Used ordered merge and imputation to upsample less frequent columns:\n",
    "\n",
    "Can also upsample columns/series in a different way:\n",
    "- using the resampler object"
   ]
  },
  {
   "cell_type": "markdown",
   "id": "9e7c7285",
   "metadata": {
    "slideshow": {
     "slide_type": "slide"
    }
   },
   "source": [
    "Take original weather data:"
   ]
  },
  {
   "cell_type": "code",
   "execution_count": null,
   "id": "57e611e1",
   "metadata": {
    "cell_style": "split",
    "slideshow": {
     "slide_type": "fragment"
    }
   },
   "outputs": [],
   "source": [
    "weather_df['date'] = pd.to_datetime(\n",
    "    weather_df['date'])\n",
    "weather_df_ind = weather_df.set_index('date')\n",
    "weather_df_ind.head()"
   ]
  },
  {
   "cell_type": "markdown",
   "id": "ccdce918",
   "metadata": {
    "cell_style": "split",
    "slideshow": {
     "slide_type": "fragment"
    }
   },
   "source": [
    "Construct resampler object at 10 minute interval:"
   ]
  },
  {
   "cell_type": "code",
   "execution_count": null,
   "id": "0df30b59",
   "metadata": {
    "cell_style": "split",
    "slideshow": {
     "slide_type": "-"
    }
   },
   "outputs": [],
   "source": [
    "upsamp = weather_df_ind.resample('10T')\n",
    "upsamp"
   ]
  },
  {
   "cell_type": "markdown",
   "id": "1f7781fc",
   "metadata": {
    "cell_style": "center",
    "slideshow": {
     "slide_type": "slide"
    }
   },
   "source": [
    ".asfreq() can return original timeseries values at new sampling frequency"
   ]
  },
  {
   "cell_type": "code",
   "execution_count": null,
   "id": "eaade3aa",
   "metadata": {
    "cell_style": "split",
    "slideshow": {
     "slide_type": "-"
    }
   },
   "outputs": [],
   "source": [
    "upsamp.asfreq()"
   ]
  },
  {
   "cell_type": "markdown",
   "id": "1aa5d786",
   "metadata": {
    "cell_style": "split",
    "slideshow": {
     "slide_type": "-"
    }
   },
   "source": [
    "The data has NaNs where there are no samples at this frequency. Need to impute these."
   ]
  },
  {
   "cell_type": "markdown",
   "id": "5760dfde",
   "metadata": {
    "cell_style": "center",
    "slideshow": {
     "slide_type": "subslide"
    }
   },
   "source": [
    "Resampler object has same fill / imputation methods as dataframe to do this.\n",
    "\n",
    "- .ffill()\n",
    "- .bfill()\n",
    "- .interpolate()"
   ]
  },
  {
   "cell_type": "code",
   "execution_count": null,
   "id": "13ff0655",
   "metadata": {
    "cell_style": "split",
    "slideshow": {
     "slide_type": "-"
    }
   },
   "outputs": [],
   "source": [
    "upsamp.ffill()"
   ]
  },
  {
   "cell_type": "code",
   "execution_count": null,
   "id": "fe9497a0",
   "metadata": {
    "cell_style": "split",
    "slideshow": {
     "slide_type": "-"
    }
   },
   "outputs": [],
   "source": [
    "upsamp.asfreq()"
   ]
  },
  {
   "cell_type": "code",
   "execution_count": null,
   "id": "0853568d",
   "metadata": {
    "cell_style": "split",
    "slideshow": {
     "slide_type": "-"
    }
   },
   "outputs": [],
   "source": [
    "upsamp.bfill()"
   ]
  },
  {
   "cell_type": "code",
   "execution_count": null,
   "id": "b5296fc9",
   "metadata": {
    "cell_style": "split",
    "scrolled": true,
    "slideshow": {
     "slide_type": "-"
    }
   },
   "outputs": [],
   "source": [
    "upsamp.asfreq()"
   ]
  },
  {
   "cell_type": "code",
   "execution_count": null,
   "id": "4858172c",
   "metadata": {
    "cell_style": "split",
    "slideshow": {
     "slide_type": "fragment"
    }
   },
   "outputs": [],
   "source": [
    "upsamp.interpolate()"
   ]
  },
  {
   "cell_type": "code",
   "execution_count": null,
   "id": "271f9fc1",
   "metadata": {
    "cell_style": "split",
    "slideshow": {
     "slide_type": "-"
    }
   },
   "outputs": [],
   "source": [
    "upsamp.asfreq()"
   ]
  },
  {
   "cell_type": "markdown",
   "id": "ce322950",
   "metadata": {
    "slideshow": {
     "slide_type": "slide"
    }
   },
   "source": [
    "- subset upsampled and interpolated data for April 4 to 11\n",
    "- join with our energy data for these data"
   ]
  },
  {
   "cell_type": "code",
   "execution_count": null,
   "id": "7aefd09b",
   "metadata": {
    "cell_style": "split",
    "slideshow": {
     "slide_type": "fragment"
    }
   },
   "outputs": [],
   "source": [
    "data_joined = upsamp.interpolate().loc['April 4 2016': 'April 11 2016']\n",
    "data_joined['Appliances']= data_subset\n",
    "data_joined.head()"
   ]
  },
  {
   "cell_type": "code",
   "execution_count": null,
   "id": "7222063b",
   "metadata": {
    "cell_style": "split",
    "slideshow": {
     "slide_type": "fragment"
    }
   },
   "outputs": [],
   "source": [
    "data_joined.info()"
   ]
  },
  {
   "cell_type": "markdown",
   "id": "a73eb6f8",
   "metadata": {
    "cell_style": "center",
    "slideshow": {
     "slide_type": "-"
    }
   },
   "source": [
    "Oversampled less frequent weather data and joined with more frequent energy usage measuremts."
   ]
  },
  {
   "cell_type": "markdown",
   "id": "f410028c",
   "metadata": {
    "slideshow": {
     "slide_type": "slide"
    }
   },
   "source": [
    "#### Time Series Visualization"
   ]
  },
  {
   "cell_type": "markdown",
   "id": "703d2d6f",
   "metadata": {
    "cell_style": "center",
    "slideshow": {
     "slide_type": "slide"
    }
   },
   "source": [
    "Loading pandas dataframe with datetime index:\n",
    "- column 0 is the date\n",
    "- parse_date = True interprets index as datetime index automatically."
   ]
  },
  {
   "cell_type": "code",
   "execution_count": null,
   "id": "86bebcf0",
   "metadata": {
    "cell_style": "center",
    "slideshow": {
     "slide_type": "fragment"
    }
   },
   "outputs": [],
   "source": [
    "# column 0 is the date the parse_date = True interprets index as datetime index automatically.\n",
    "uber_data = pd.read_csv(\"Data/uber.csv\", index_col = [0], parse_dates = True)\n",
    "uber_data.head()"
   ]
  },
  {
   "cell_type": "markdown",
   "id": "99264a6c",
   "metadata": {
    "slideshow": {
     "slide_type": "slide"
    }
   },
   "source": [
    "Multiple time series indexed on same datetime:\n",
    "- pandas plotting useful\n",
    "- subplots = True option "
   ]
  },
  {
   "cell_type": "code",
   "execution_count": null,
   "id": "0300142a",
   "metadata": {
    "slideshow": {
     "slide_type": "fragment"
    }
   },
   "outputs": [],
   "source": [
    "uber_data.plot(subplots = True, figsize = (8,6))\n",
    "plt.show()"
   ]
  },
  {
   "cell_type": "markdown",
   "id": "a8acc773",
   "metadata": {
    "slideshow": {
     "slide_type": "slide"
    }
   },
   "source": [
    "#### Time Series Differencing and Trend Computation"
   ]
  },
  {
   "cell_type": "markdown",
   "id": "8acd0543",
   "metadata": {
    "cell_style": "split",
    "slideshow": {
     "slide_type": "slide"
    }
   },
   "source": [
    "In many applications:\n",
    "- don't care *as much* about actual values of time series\n",
    "- care *more* about changes in values of time series\n",
    "- or relative changes in values of time series"
   ]
  },
  {
   "cell_type": "markdown",
   "id": "6d7aa3c7",
   "metadata": {
    "cell_style": "split",
    "slideshow": {
     "slide_type": "fragment"
    }
   },
   "source": [
    "- Time series differencing\n",
    "- Evaluating change in percentage from previous value"
   ]
  },
  {
   "cell_type": "markdown",
   "id": "8b28a8a3",
   "metadata": {
    "cell_style": "split",
    "slideshow": {
     "slide_type": "slide"
    }
   },
   "source": [
    "**Differencing**\n",
    "- pandas Series has .diff() method\n",
    "- .diff(period = ) where period indicates differencing lag"
   ]
  },
  {
   "cell_type": "markdown",
   "id": "8321e917",
   "metadata": {
    "cell_style": "split",
    "slideshow": {
     "slide_type": "fragment"
    }
   },
   "source": [
    "- period = 1: return Series $Y[t] - Y[t - 1]$\n",
    "- period = 2: returns Series $Y[t] - Y[t-2]$\n",
    "- period = k: returns Series $Y[t] - Y[t-k]$"
   ]
  },
  {
   "cell_type": "markdown",
   "id": "12fb4085",
   "metadata": {
    "cell_style": "split",
    "slideshow": {
     "slide_type": "fragment"
    }
   },
   "source": [
    "Let's first order difference the adjusted close Series and compare to original series."
   ]
  },
  {
   "cell_type": "code",
   "execution_count": null,
   "id": "346cc2f0",
   "metadata": {
    "cell_style": "split",
    "slideshow": {
     "slide_type": "slide"
    }
   },
   "outputs": [],
   "source": [
    "uber_data['Adj Close'].diff() # default is first order difference"
   ]
  },
  {
   "cell_type": "code",
   "execution_count": null,
   "id": "3cffdd41",
   "metadata": {
    "cell_style": "split",
    "slideshow": {
     "slide_type": "fragment"
    }
   },
   "outputs": [],
   "source": [
    "uber_data['Adj Close']"
   ]
  },
  {
   "cell_type": "markdown",
   "id": "70b3c342",
   "metadata": {
    "slideshow": {
     "slide_type": "fragment"
    }
   },
   "source": [
    "Naturally produces NaN at first element: no previous element to difference on."
   ]
  },
  {
   "cell_type": "markdown",
   "id": "16893792",
   "metadata": {
    "slideshow": {
     "slide_type": "slide"
    }
   },
   "source": [
    "Plot visualizing the Adjusted close and the differenced Adjusted Close:"
   ]
  },
  {
   "cell_type": "code",
   "execution_count": null,
   "id": "08c828a0",
   "metadata": {
    "slideshow": {
     "slide_type": "fragment"
    }
   },
   "outputs": [],
   "source": [
    "diff_df = pd.DataFrame(uber_data['Adj Close'])\n",
    "diff_df['Differenced'] = uber_data['Adj Close'].diff()\n",
    "diff_df.plot(subplots = True, figsize = (7,5))\n",
    "plt.show()"
   ]
  },
  {
   "cell_type": "markdown",
   "id": "28f00b11",
   "metadata": {
    "cell_style": "center",
    "slideshow": {
     "slide_type": "slide"
    }
   },
   "source": [
    "With stocks, in particular:\n",
    "- want to predict where percentage change between subsequent time-steps might be large"
   ]
  },
  {
   "cell_type": "markdown",
   "id": "776d55a5",
   "metadata": {
    "slideshow": {
     "slide_type": "slide"
    }
   },
   "source": [
    "- pandas Series has .pct_change() calculating:\n",
    "$$ \\frac{Y[t] - Y[t-1]}{Y[t]} $$"
   ]
  },
  {
   "cell_type": "code",
   "execution_count": null,
   "id": "ff001c83",
   "metadata": {
    "cell_style": "center",
    "slideshow": {
     "slide_type": "fragment"
    }
   },
   "outputs": [],
   "source": [
    "diff_df['pct_change'] = diff_df['Adj Close'].pct_change()*100\n",
    "diff_df['pct_change'] "
   ]
  },
  {
   "cell_type": "markdown",
   "id": "524b0809",
   "metadata": {
    "slideshow": {
     "slide_type": "slide"
    }
   },
   "source": [
    "Visualizing original time series, differenced series, sequential percentage change:"
   ]
  },
  {
   "cell_type": "code",
   "execution_count": null,
   "id": "17af7cc7",
   "metadata": {
    "scrolled": false,
    "slideshow": {
     "slide_type": "-"
    }
   },
   "outputs": [],
   "source": [
    "diff_df.plot(subplots = True, figsize = (12,8))\n",
    "plt.show()"
   ]
  },
  {
   "cell_type": "markdown",
   "id": "386e8cf9",
   "metadata": {
    "slideshow": {
     "slide_type": "slide"
    }
   },
   "source": [
    "In some cases, want to smooth a time series:\n",
    "- can be helpful in evaluating time series trends\n",
    "- around which there are noise fluctuations"
   ]
  },
  {
   "cell_type": "markdown",
   "id": "0fd5e4f6",
   "metadata": {
    "slideshow": {
     "slide_type": "slide"
    }
   },
   "source": [
    ".rolling() method:\n",
    "- creates an object which creates window that slides across time series\n",
    "- can aggregate within window\n",
    "\n",
    "Generates a rolling aggregation (rolling mean, etc) as a function of time."
   ]
  },
  {
   "cell_type": "markdown",
   "id": "0ee1c96c",
   "metadata": {
    "slideshow": {
     "slide_type": "slide"
    }
   },
   "source": [
    "- .rolling(n) generates a rolling object that contains a sequence of windows:\n",
    "    - each window has $n$ observations in it"
   ]
  },
  {
   "cell_type": "code",
   "execution_count": null,
   "id": "a9efb341",
   "metadata": {
    "slideshow": {
     "slide_type": "fragment"
    }
   },
   "outputs": [],
   "source": [
    "diff_df['Adj Close'].rolling(8)"
   ]
  },
  {
   "cell_type": "markdown",
   "id": "be57c71d",
   "metadata": {
    "cell_style": "split",
    "slideshow": {
     "slide_type": "slide"
    }
   },
   "source": [
    "Aggregating will compute statistic in window\n",
    "- sliding window through time series"
   ]
  },
  {
   "cell_type": "code",
   "execution_count": null,
   "id": "03206409",
   "metadata": {
    "cell_style": "split"
   },
   "outputs": [],
   "source": [
    "# note that first four rollng means will be NaN\n",
    "# makes sense for n = 5 window\n",
    "diff_df['Adj Close'].rolling(8).mean()"
   ]
  },
  {
   "cell_type": "markdown",
   "id": "4d72b1c4",
   "metadata": {
    "slideshow": {
     "slide_type": "slide"
    }
   },
   "source": [
    "Plot the rolling mean and  the actual series:"
   ]
  },
  {
   "cell_type": "code",
   "execution_count": null,
   "id": "23e27dc2",
   "metadata": {
    "cell_style": "center",
    "slideshow": {
     "slide_type": "fragment"
    }
   },
   "outputs": [],
   "source": [
    "diff_df['rolling_mean'] = diff_df['Adj Close'].rolling(8).mean()\n",
    "diff_df[['Adj Close', 'rolling_mean']].plot(figsize = (12,8), linewidth = 4)\n",
    "plt.show()"
   ]
  },
  {
   "cell_type": "markdown",
   "id": "a9dc78b6",
   "metadata": {
    "cell_style": "center",
    "slideshow": {
     "slide_type": "slide"
    }
   },
   "source": [
    "Gives us a smoothed version of the Close prices:\n",
    "- analyze sustained increasing and decreasing trends\n",
    "- discarding/ignoring high frequency fluctuation/noise"
   ]
  },
  {
   "cell_type": "markdown",
   "id": "a12708ac",
   "metadata": {
    "cell_style": "split",
    "slideshow": {
     "slide_type": "slide"
    }
   },
   "source": [
    "We/you will use many of these Time Series methods:\n",
    "- datetime manipulation\n",
    "- resampling/imputation techniques\n",
    "- windowed aggregates\n",
    "- differencing"
   ]
  },
  {
   "cell_type": "markdown",
   "id": "c20117b1",
   "metadata": {
    "cell_style": "split",
    "slideshow": {
     "slide_type": "fragment"
    }
   },
   "source": [
    "For:\n",
    "- exploring time series processes and their internal structure\n",
    "- modeling the process that generated the series:\n",
    "    - trend, seasonality, statistics of fluctuations\n",
    "- constructing parsimonious models for out-of-sample predictions/forecasting\n"
   ]
  }
 ],
 "metadata": {
  "kernelspec": {
   "display_name": "dplearn",
   "language": "python",
   "name": "dplearn"
  },
  "language_info": {
   "codemirror_mode": {
    "name": "ipython",
    "version": 3
   },
   "file_extension": ".py",
   "mimetype": "text/x-python",
   "name": "python",
   "nbconvert_exporter": "python",
   "pygments_lexer": "ipython3",
   "version": "3.7.5"
  }
 },
 "nbformat": 4,
 "nbformat_minor": 5
}
